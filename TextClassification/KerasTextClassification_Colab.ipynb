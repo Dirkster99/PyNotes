{
  "nbformat": 4,
  "nbformat_minor": 0,
  "metadata": {
    "colab": {
      "name": "KerasTextClassification_Colab.ipynb",
      "provenance": [],
      "collapsed_sections": [
        "m1ng7jAXnCJ_"
      ],
      "include_colab_link": true
    },
    "kernelspec": {
      "name": "python3",
      "display_name": "Python 3"
    }
  },
  "cells": [
    {
      "cell_type": "markdown",
      "metadata": {
        "id": "view-in-github",
        "colab_type": "text"
      },
      "source": [
        "<a href=\"https://colab.research.google.com/github/Dirkster99/PyNotes/blob/master/TextClassification/KerasTextClassification_Colab.ipynb\" target=\"_parent\"><img src=\"https://colab.research.google.com/assets/colab-badge.svg\" alt=\"Open In Colab\"/></a>"
      ]
    },
    {
      "cell_type": "markdown",
      "metadata": {
        "id": "wReA9pjSYC5L"
      },
      "source": [
        "# Overview\n",
        "\n",
        "## Source\n",
        "[Practical Text Classification With Python and Keras](https://realpython.com/python-keras-text-classification/)\n",
        "\n"
      ]
    },
    {
      "cell_type": "markdown",
      "metadata": {
        "id": "gyZuFPw2R6Gv"
      },
      "source": [
        "## Data Source\r\n",
        "\r\n",
        "### UC Irvine Machine Learning Repository\r\n",
        "https://archive.ics.uci.edu/ml/datasets/Sentiment+Labelled+Sentences\r\n",
        "\r\n",
        "https://archive.ics.uci.edu/ml/machine-learning-databases/00331/"
      ]
    },
    {
      "cell_type": "code",
      "metadata": {
        "id": "jcBiQM_qSI23"
      },
      "source": [
        ""
      ],
      "execution_count": null,
      "outputs": []
    },
    {
      "cell_type": "code",
      "metadata": {
        "colab": {
          "base_uri": "https://localhost:8080/"
        },
        "id": "-v5SRdaLe9CJ",
        "outputId": "ed5ef668-40ce-465a-f4a4-4617939025d0"
      },
      "source": [
        "from google.colab import drive\n",
        "drive.mount('/gdrive')"
      ],
      "execution_count": 1,
      "outputs": [
        {
          "output_type": "stream",
          "text": [
            "Mounted at /gdrive\n"
          ],
          "name": "stdout"
        }
      ]
    },
    {
      "cell_type": "code",
      "metadata": {
        "id": "QlPUyAucSIEA",
        "colab": {
          "base_uri": "https://localhost:8080/"
        },
        "outputId": "1bb2a304-3dc5-4f18-82cd-eb7d76ff9e62"
      },
      "source": [
        "!ls /gdrive/MyDrive/Colab\\ Notebooks/BinaryTextClassification/Keras/Sentiment\\ Labelled\\ Sentences/data"
      ],
      "execution_count": 2,
      "outputs": [
        {
          "output_type": "stream",
          "text": [
            "amazon_cells_labelled.txt  imdb_labelled.txt  readme.txt  yelp_labelled.txt\n"
          ],
          "name": "stdout"
        }
      ]
    },
    {
      "cell_type": "code",
      "metadata": {
        "id": "Woh_DGh_VYV7",
        "colab": {
          "base_uri": "https://localhost:8080/"
        },
        "outputId": "eaeabe98-e591-462f-8918-d777cd7ee81e"
      },
      "source": [
        "import pandas as pd\n",
        "\n",
        "dirPath = '/gdrive/MyDrive/Colab Notebooks/BinaryTextClassification/Keras/Sentiment Labelled Sentences/data/'\n",
        "\n",
        "filepath_dict = {'yelp':   'yelp_labelled.txt',\n",
        "                 'amazon': 'amazon_cells_labelled.txt',\n",
        "                 'imdb':   'imdb_labelled.txt'}\n",
        "\n",
        "df_list = []\n",
        "for source, filepath in filepath_dict.items():\n",
        "    df = pd.read_csv(dirPath + filepath, names=['sentence', 'label'], sep='\\t')\n",
        "    df['source'] = source  # Add another column filled with the source name\n",
        "    df_list.append(df)\n",
        "\n",
        "df = pd.concat(df_list)\n",
        "print('First record: ' + str(df.iloc[0]))"
      ],
      "execution_count": 3,
      "outputs": [
        {
          "output_type": "stream",
          "text": [
            "First record: sentence    Wow... Loved this place.\n",
            "label                              1\n",
            "source                          yelp\n",
            "Name: 0, dtype: object\n"
          ],
          "name": "stdout"
        }
      ]
    },
    {
      "cell_type": "markdown",
      "metadata": {
        "id": "cwMIjD2mWs5h"
      },
      "source": [
        "This looks about right. With this data set, you are able to train a model to predict the sentiment of a sentence. Take a quick moment to think about how you would go about predicting the data.\n",
        "\n",
        "One way you could do this is to count the frequency of each word in each sentence and tie this count back to the entire set of words in the data set. You would start by taking the data and creating a vocabulary from all the words in all sentences. The collection of texts is also called a **corpus** in NLP.\n",
        "\n",
        "The **vocabulary** in this case is a list of words that occurred in our text where each word has its own index. This enables you to create a vector for a sentence. You would then take the sentence you want to vectorize, and you count each occurrence in the vocabulary. The resulting vector will be with the length of the vocabulary and a count for each word in the vocabulary.\n",
        "\n",
        "The resulting vector is also called a **feature vector**. In a feature vector, each dimension can be a numeric or categorical feature, like for example the height of a building, the price of a stock, or, in our case, the count of a word in a vocabulary. These feature vectors are a crucial piece in data science and machine learning, as the model you want to train depends on them.\n",
        "\n",
        "Let’s quickly illustrate this. Imagine you have the following two sentences:"
      ]
    },
    {
      "cell_type": "code",
      "metadata": {
        "id": "VNH9Jk27WB8t"
      },
      "source": [
        "sentences = ['John likes ice cream', 'John hates chocolate.']"
      ],
      "execution_count": 4,
      "outputs": []
    },
    {
      "cell_type": "markdown",
      "metadata": {
        "id": "OXyhlfw1XHR6"
      },
      "source": [
        "Next, you can use the [CountVectorizer](http://scikit-learn.org/stable/modules/generated/sklearn.feature_extraction.text.CountVectorizer.html) provided by the [scikit-learn](http://scikit-learn.org/) library to vectorize sentences. It takes the words of each sentence and creates a vocabulary of all the unique words in the sentences. This vocabulary can then be used to create a feature vector of the count of the words:"
      ]
    },
    {
      "cell_type": "code",
      "metadata": {
        "id": "i41aktpXXBVf",
        "colab": {
          "base_uri": "https://localhost:8080/"
        },
        "outputId": "8c66f254-37f1-4388-8e0e-0aeaa4500951"
      },
      "source": [
        "from sklearn.feature_extraction.text import CountVectorizer\n",
        "\n",
        "vectorizer = CountVectorizer(min_df=0, lowercase=False)\n",
        "vectorizer.fit(sentences)\n",
        "vectorizer.vocabulary_"
      ],
      "execution_count": 5,
      "outputs": [
        {
          "output_type": "execute_result",
          "data": {
            "text/plain": [
              "{'John': 0, 'chocolate': 1, 'cream': 2, 'hates': 3, 'ice': 4, 'likes': 5}"
            ]
          },
          "metadata": {
            "tags": []
          },
          "execution_count": 5
        }
      ]
    },
    {
      "cell_type": "markdown",
      "metadata": {
        "id": "kt7t6TG-XoMi"
      },
      "source": [
        "This vocabulary serves also as an index of each word. Now, you can take each sentence and get the word occurrences of the words based on the previous vocabulary. The vocabulary consists of all five words in our sentences, each representing one word in the vocabulary. When you take the previous two sentences and transform them with the CountVectorizer you will get a vector representing the count of each word of the sentence:"
      ]
    },
    {
      "cell_type": "code",
      "metadata": {
        "id": "5OfvLf4IXfAu",
        "colab": {
          "base_uri": "https://localhost:8080/"
        },
        "outputId": "0e77e0de-75c7-4fa2-f220-63f5dff592f0"
      },
      "source": [
        "vectorizer.transform(sentences).toarray()"
      ],
      "execution_count": 6,
      "outputs": [
        {
          "output_type": "execute_result",
          "data": {
            "text/plain": [
              "array([[1, 0, 1, 0, 1, 1],\n",
              "       [1, 1, 0, 1, 0, 0]])"
            ]
          },
          "metadata": {
            "tags": []
          },
          "execution_count": 6
        }
      ]
    },
    {
      "cell_type": "markdown",
      "metadata": {
        "id": "kZAal9VcYg7B"
      },
      "source": [
        "Now, you can see the resulting feature vectors for each sentence based on the previous vocabulary. For example, if you take a look at the first item, you can see that both vectors have a 1 there. This means that both sentences have one occurrence of John, which is in the first place in the vocabulary.\n",
        "\n",
        "This is considered a Bag-of-words (BOW) [link text](https://en.wikipedia.org/wiki/Bag-of-words_model) model, which is a common way in NLP to create vectors out of text. Each document is represented as a vector. You can use these vectors now as feature vectors for a machine learning model. This leads us to our next part, defining a baseline model."
      ]
    },
    {
      "cell_type": "markdown",
      "metadata": {
        "id": "zHAumoysY2Xk"
      },
      "source": [
        "# Defining a Baseline Model"
      ]
    },
    {
      "cell_type": "markdown",
      "metadata": {
        "id": "IGEs1grRY4px"
      },
      "source": [
        "When you work with machine learning, one important step is to define a baseline model. This usually involves a simple model, which is then used as a comparison with the more advanced models that you want to test. In this case, you’ll use the baseline model to compare it to the more advanced methods involving (deep) neural networks, the meat and potatoes of this tutorial.\n",
        "\n",
        "First, you are going to [split the data into a training and testing set](http://scikit-learn.org/stable/modules/generated/sklearn.model_selection.train_test_split.html) which will allow you to evaluate the accuracy and see if your model generalizes well. This means whether the model is able to perform well on data it has not seen before. This is a way to see if the model is overfitting.\n",
        "\n",
        "Overfitting is when a model is trained too well on the training data. You want to avoid overfitting, as this would mean that the model mostly just memorized the training data. This would account for a large accuracy with the training data but a low accuracy in the testing data.\n",
        "\n",
        "We start by taking the Yelp data set which we extract from our concatenated data set. From there, we take the sentences and labels. The .values returns a [NumPy array](https://docs.scipy.org/doc/numpy-1.15.1/reference/generated/numpy.array.html) instead of a [Pandas Series](http://pandas.pydata.org/pandas-docs/stable/generated/pandas.Series.html) object which is in this context easier to work with:"
      ]
    },
    {
      "cell_type": "code",
      "metadata": {
        "id": "I5k-L0qKY3p6"
      },
      "source": [
        "from sklearn.model_selection import train_test_split\n",
        "\n",
        "df_yelp = df[df['source'] == 'yelp']\n",
        "\n",
        "sentences = df_yelp['sentence'].values\n",
        "y = df_yelp['label'].values\n",
        "\n",
        "sentences_train, sentences_test, y_train, y_test = \\\n",
        "  train_test_split(sentences, y, test_size=0.25, random_state=1000)"
      ],
      "execution_count": 7,
      "outputs": []
    },
    {
      "cell_type": "markdown",
      "metadata": {
        "id": "vmcphd47Z6qt"
      },
      "source": [
        "Here we will use again on the previous BOW model to vectorize the sentences. You can use again the CountVectorizer for this task. Since you might not have the testing data available during training, you can create the vocabulary using only the training data. Using this vocabulary, you can create the feature vectors for each sentence of the training and testing set:"
      ]
    },
    {
      "cell_type": "code",
      "metadata": {
        "id": "i4OvbrjoXzRX",
        "colab": {
          "base_uri": "https://localhost:8080/"
        },
        "outputId": "613b4df0-76a6-426a-8ac0-be64e25d4d24"
      },
      "source": [
        "from sklearn.feature_extraction.text import CountVectorizer\n",
        "\n",
        "vectorizer = CountVectorizer()\n",
        "vectorizer.fit(sentences_train)\n",
        "\n",
        "X_train = vectorizer.transform(sentences_train)\n",
        "X_test  = vectorizer.transform(sentences_test)\n",
        "X_train"
      ],
      "execution_count": 8,
      "outputs": [
        {
          "output_type": "execute_result",
          "data": {
            "text/plain": [
              "<750x1714 sparse matrix of type '<class 'numpy.int64'>'\n",
              "\twith 7368 stored elements in Compressed Sparse Row format>"
            ]
          },
          "metadata": {
            "tags": []
          },
          "execution_count": 8
        }
      ]
    },
    {
      "cell_type": "markdown",
      "metadata": {
        "id": "snPcezcjaSwg"
      },
      "source": [
        "You can see that the resulting feature vectors have 750 samples which are the number of training samples we have after the train-test split. Each sample has 1714 dimensions which is the size of the vocabulary. Also, you can see that we get a [sparse matrix](https://docs.scipy.org/doc/scipy/reference/sparse.html). This is a data type that is optimized for matrices with only a few non-zero elements, which only keeps track of the non-zero elements reducing the memory load.\n",
        "\n",
        "CountVectorizer performs [tokenization](https://en.wikipedia.org/wiki/Lexical_analysis#Tokenization) which separates the sentences into a set of tokens as you saw previously in the vocabulary. It additionally removes punctuation and special characters and can apply other preprocessing to each word. If you want, you can use a custom tokenizer from the [NLTK](https://www.nltk.org/) library with the CountVectorizer or use any number of the customizations which you can explore to improve the performance of your model."
      ]
    },
    {
      "cell_type": "markdown",
      "metadata": {
        "id": "3LXIrwlvbRZi"
      },
      "source": [
        "# Note\n",
        "There are a lot of additional parameters to CountVectorizer() that we forgo using here, such as adding ngrams, because the goal at first is to build a simple baseline model. The token pattern itself defaults to token_pattern=’(?u)\\b\\w\\w+\\b’, which is a [regex](https://en.wikipedia.org/wiki/Regular_expression) pattern that says, “a word is 2 or more Unicode word characters surrounded by word boundaries.”."
      ]
    },
    {
      "cell_type": "markdown",
      "metadata": {
        "id": "vl0QGGRabtV1"
      },
      "source": [
        "The classification model we are going to use is the [logistic regression](https://en.wikipedia.org/wiki/Logistic_regression) which is a simple yet powerful linear model that is mathematically speaking in fact a form of regression between 0 and 1 based on the input feature vector. By specifying a cutoff value (by default 0.5), the regression model is used for classification. You can use again scikit-learn library which provides the LogisticRegression classifier:"
      ]
    },
    {
      "cell_type": "code",
      "metadata": {
        "id": "YfHaXicyZ_hr",
        "colab": {
          "base_uri": "https://localhost:8080/"
        },
        "outputId": "515c7679-76a8-42dc-bc55-87207faefbf5"
      },
      "source": [
        "from sklearn.linear_model import LogisticRegression\n",
        "\n",
        "classifier = LogisticRegression()\n",
        "classifier.fit(X_train, y_train)\n",
        "score = classifier.score(X_test, y_test)\n",
        "\n",
        "print(\"Accuracy:\", score)"
      ],
      "execution_count": 9,
      "outputs": [
        {
          "output_type": "stream",
          "text": [
            "Accuracy: 0.796\n"
          ],
          "name": "stdout"
        }
      ]
    },
    {
      "cell_type": "markdown",
      "metadata": {
        "id": "jDg1sgGScMo4"
      },
      "source": [
        "You can see that the logistic regression reached an impressive 79.6%, but let’s have a look how this model performs on the other data sets that we have. In this script, we perform and evaluate the whole process for each data set that we have:"
      ]
    },
    {
      "cell_type": "code",
      "metadata": {
        "id": "ySg5ANlscElH",
        "colab": {
          "base_uri": "https://localhost:8080/"
        },
        "outputId": "854d3ab0-ebe2-4181-87e7-c9479eb23b28"
      },
      "source": [
        "for source in df['source'].unique():\n",
        "    df_source = df[df['source'] == source]\n",
        "    sentences = df_source['sentence'].values\n",
        "    y = df_source['label'].values\n",
        "\n",
        "    sentences_train, sentences_test, y_train, y_test = train_test_split(\n",
        "        sentences, y, test_size=0.25, random_state=1000)\n",
        "\n",
        "    vectorizer = CountVectorizer()\n",
        "    vectorizer.fit(sentences_train)\n",
        "    X_train = vectorizer.transform(sentences_train)\n",
        "    X_test  = vectorizer.transform(sentences_test)\n",
        "\n",
        "    classifier = LogisticRegression()\n",
        "    classifier.fit(X_train, y_train)\n",
        "    score = classifier.score(X_test, y_test)\n",
        "    print('Accuracy for {} data: {:.4f}'.format(source, score))"
      ],
      "execution_count": 10,
      "outputs": [
        {
          "output_type": "stream",
          "text": [
            "Accuracy for yelp data: 0.7960\n",
            "Accuracy for amazon data: 0.7960\n",
            "Accuracy for imdb data: 0.7487\n"
          ],
          "name": "stdout"
        }
      ]
    },
    {
      "cell_type": "markdown",
      "metadata": {
        "id": "lK9ZOf4scbg0"
      },
      "source": [
        "Here’s the result:\n",
        "\n",
        "Accuracy for yelp data: 0.7960\n",
        "\n",
        "Accuracy for amazon data: 0.7960\n",
        "\n",
        "Accuracy for imdb data: 0.7487"
      ]
    },
    {
      "cell_type": "markdown",
      "metadata": {
        "id": "zFWxvPObcmFH"
      },
      "source": [
        "Great! You can see that this fairly simple model achieves a fairly good accuracy. It would be interesting to see whether we are able to outperform this model. In the next part, we will get familiar with (deep) neural networks and how to apply them to text classification."
      ]
    },
    {
      "cell_type": "markdown",
      "metadata": {
        "id": "8sVz30mncsJI"
      },
      "source": [
        "# A Primer on (Deep) Neural Networks"
      ]
    },
    {
      "cell_type": "markdown",
      "metadata": {
        "id": "PEubK-K1cx2f"
      },
      "source": [
        "You might have experienced some of the excitement and fear related to artificial intelligence and deep learning. You might have stumbled across some confusing article or concerned TED talk about the approaching [singularity](https://en.wikipedia.org/wiki/Technological_singularity) or maybe you saw the [backflipping robots](https://www.youtube.com/watch?v=knoOXBLFQ-s) and you wonder whether a life in the woods seems reasonable after all.\n",
        "\n",
        "On a lighter note, AI researchers all agreed that they did not agree with each other when AI will exceed Human-level performance. According to [this paper](https://arxiv.org/abs/1705.08807) we should still have some time left.\n",
        "\n",
        "So you might already be curious how neural networks work. If you already are familiar with neural networks, feel free to skip to the parts involving Keras. Also, there is the wonderful [Deep Learning book](http://www.deeplearningbook.org/) by Ian Goodfellow which I highly recommend if you want to dig deeper into the math. You can read the whole book online for free. In this section you will get an overview of neural networks and their inner workings, and you will later see how to use neural networks with the outstanding Keras library.\n",
        "\n",
        "In this article, you don’t have to worry about the singularity, but (deep) neural networks play a crucial role in the latest developments in AI. It all started with a [famous paper in 2012](https://papers.nips.cc/paper/4824-imagenet-classification-with-deep-convolutional-neural-networks.pdf) by Geoffrey Hinton and his team, which outperformed all previous models in the [famous ImageNet Challenge](https://en.wikipedia.org/wiki/ImageNet#ImageNet_Challenge).\n",
        "\n",
        "The challenge could be considered the World Cup in computer vision which involves classifying a large set of images based on given labels. Geoffrey Hinton and his team managed to beat the previous models by using a convolutional neural network (CNN) [link text](https://en.wikipedia.org/wiki/Convolutional_neural_network), which we will cover in this tutorial as well.\n",
        "\n",
        "Since then, neural networks have moved into several fields involving classification, regression and even generative models. The most prevalent fields include computer vision, voice recognition and natural language processing (NLP).\n",
        "\n",
        "Neural networks, or sometimes called artificial neural network (ANN) or feedforward neural network, are computational networks which were vaguely inspired by the neural networks in the human brain. They consist of neurons (also called nodes) which are connected like in the graph below.\n",
        "\n",
        "You start by having a layer of input neurons where you feed in your feature vectors and the values are then feeded forward to a hidden layer. At each connection, you are feeding the value forward, while the value is multiplied by a weight and a bias is added to the value. This happens at every connection and at the end you reach an output layer with one or more output nodes.\n",
        "\n",
        "If you want to have a binary classification you can use one node, but if you have multiple categories you should use multiple nodes for each category"
      ]
    },
    {
      "cell_type": "markdown",
      "metadata": {
        "id": "ch61AFkKeXHi"
      },
      "source": [
        "![alt text](https://files.realpython.com/media/ANN.a2284c5d07a3.png)"
      ]
    },
    {
      "cell_type": "markdown",
      "metadata": {
        "id": "tTkGUfSPewv6"
      },
      "source": [
        "You can have as many hidden layers as you wish. In fact, a neural network with more than one hidden layer is considered a deep neural network. Don’t worry: I won’t get here into the mathematical depths concerning neural networks. But if you want to get an intuitive visual understanding of the math involved, you can check out the [YouTube Playlist by Grant Sanderson](https://www.youtube.com/playlist?list=PLZHQObOWTQDNU6R1_67000Dx_ZCJB-3pi). The formula from one layer to the next is this short equation:\n",
        "![alt text](https://files.realpython.com/media/njanakiev-neural-network-formula.059738905ae8.png)"
      ]
    },
    {
      "cell_type": "markdown",
      "metadata": {
        "id": "ZPqg74bhffs_"
      },
      "source": [
        "Let’s slowly unpack what is happening here. You see, we are dealing here with only two layers. The layer with nodes a serves as input for the layer with nodes o. In order to calculate the values for each output node, we have to multiply each input node by a weight **w** and add a bias **b**.\n",
        "\n",
        "All of those have to be then summed and passed to a function f. This function is considered the [activation function](https://en.wikipedia.org/wiki/Activation_function) and there are various different functions that can be used depending on the layer or the problem:\n",
        "\n",
        "It is generally common to use:\n",
        "- a [rectified linear unit (ReLU)](https://en.wikipedia.org/wiki/Rectifier_(neural_networks)) for hidden layers,\n",
        "- a [sigmoid function](https://en.wikipedia.org/wiki/Sigmoid_function) for the output layer in a binary classification problem, or\n",
        "- a [softmax function](https://en.wikipedia.org/wiki/Softmax_function) for the output layer of multi-class classification problems.\n",
        "\n",
        "You might already wonder how the weights are calculated, and this is obviously the most important part of neural networks, but also the most difficult part. The algorithm starts by initializing the weights with random values and they are then trained with a method called [backpropagation](https://en.wikipedia.org/wiki/Backpropagation).\n",
        "\n",
        "This is done by using optimization methods (also called optimizer) like the [gradient descent](https://en.wikipedia.org/wiki/Gradient_descent) in order to reduce the error between the computed and the desired output (also called target output). The error is determined by a [loss function](https://en.wikipedia.org/wiki/Loss_function) whose loss we want to minimize with the optimizer. The whole process is too extensive to cover here, but I’ll refer again to the Grant Sanderson playlist and the Deep Learning book by Ian Goodfellow I mentioned before.\n",
        "\n",
        "What you have to know is that there are various optimization methods that you can use, but the most common optimizer currently used is called [Adam](https://arxiv.org/abs/1412.6980) which has a good performance in various problems.\n",
        "\n",
        "You can also use different loss functions, but in this tutorial you will only need the [cross entropy](https://en.wikipedia.org/wiki/Cross_entropy) loss function or more specifically binary cross entropy which is used for binary classification problems. Be sure to experiment with the various available methods and tools. Some researchers even claim in a recent [article](http://www.sciencemag.org/news/2018/05/ai-researchers-allege-machine-learning-alchemy?es_p=6976017) that the choice for the best performing methods borders on alchemy. The reason being that many methods are not well explained and consist of a lot of tweaking and testing."
      ]
    },
    {
      "cell_type": "markdown",
      "metadata": {
        "id": "kDSya__OhlGf"
      },
      "source": [
        "# Introducing Keras\n",
        "\n",
        "[Keras](https://keras.io/) is a deep learning and neural networks API by [François Chollet](https://twitter.com/fchollet) which is capable of running on top of Tensorflow (Google), Theano or CNTK (Microsoft). To quote the wonderful book by François Chollet, Deep Learning with Python:\n",
        "\n",
        "> Keras is a model-level library, providing high-level building blocks for developing deep-learning models. It doesn’t handle low-level operations such as tensor manipulation and differentiation. Instead, it relies on a specialized, well-optimized tensor library to do so, serving as the backend engine of Keras ([Source](https://realpython.com/asins/1617294438/))\n",
        "\n",
        "It is a great way to start experimenting with neural networks without having to implement every layer and piece on your own. For example Tensorflow is a great machine learning library, but you have to implement a lot of boilerplate code to have a model running."
      ]
    },
    {
      "cell_type": "code",
      "metadata": {
        "id": "F1oFA4Z8cw8r"
      },
      "source": [
        ""
      ],
      "execution_count": 10,
      "outputs": []
    },
    {
      "cell_type": "markdown",
      "metadata": {
        "id": "GxEU0SpPikjo"
      },
      "source": [
        "# Your First Keras Model\n",
        "\n",
        "Now you are finally ready to experiment with Keras. Keras supports two main types of models. You have the [Sequential model API](https://keras.io/models/sequential/) which you are going to see in use in this tutorial and the [functional API](https://keras.io/models/model/) which can do everything of the Sequential model but it can be also used for advanced models with complex network architectures.\n",
        "\n",
        "The Sequential model is a linear stack of layers, where you can use the large variety of available layers in Keras. The most common layer is the [Dense layer](https://keras.io/layers/core/#dense) which is your regular densely connected neural network layer with all the weights and biases that you are already familiar with.\n",
        "\n",
        "Let’s see if we can achieve some improvement to our previous logistic regression model. You can use the X_train and X_test arrays that you built in our earlier example.\n",
        "\n",
        "Before we build our model, we need to know the input dimension of our feature vectors. This happens only in the first layer since the following layers can do automatic shape inference. In order to build the Sequential model, you can add layers one by one in order as follows:"
      ]
    },
    {
      "cell_type": "code",
      "metadata": {
        "id": "FwxY5E3-cW3V",
        "colab": {
          "base_uri": "https://localhost:8080/"
        },
        "outputId": "73dfbbbf-19dd-4fb6-9e02-d6ffe11bee40"
      },
      "source": [
        "from keras.models import Sequential\n",
        "from keras import layers\n",
        "\n",
        "input_dim = X_train.shape[1]  # Number of features\n",
        "print (\"Number of features (Input Dimension): \" + str(input_dim))\n",
        "\n",
        "model = Sequential()\n",
        "model.add(layers.Dense(10, input_dim=input_dim, activation='relu'))\n",
        "model.add(layers.Dense(1, activation='sigmoid'))"
      ],
      "execution_count": 11,
      "outputs": [
        {
          "output_type": "stream",
          "text": [
            "Number of features (Input Dimension): 2505\n"
          ],
          "name": "stdout"
        }
      ]
    },
    {
      "cell_type": "markdown",
      "metadata": {
        "id": "2LDlBRW9jIaI"
      },
      "source": [
        "Before you can start with the training of the model, you need to configure the learning process. This is done with the **.compile()** method. This method specifies the optimizer and the loss function.\n",
        "\n",
        "Additionally, you can add a list of metrics which can be later used for evaluation, but they do not influence the training. In this case, we want to use the binary cross entropy and the Adam optimizer you saw in the primer mentioned before. Keras also includes a handy .summary() function to give an overview of the model and the number of parameters available for training:"
      ]
    },
    {
      "cell_type": "code",
      "metadata": {
        "id": "CcRs_iutie3w",
        "colab": {
          "base_uri": "https://localhost:8080/"
        },
        "outputId": "20f2c06c-9d24-4232-ec3a-767cdcec6039"
      },
      "source": [
        "model.compile(loss='binary_crossentropy', \n",
        "              optimizer='adam', \n",
        "              metrics=['accuracy'])\n",
        "model.summary()"
      ],
      "execution_count": 12,
      "outputs": [
        {
          "output_type": "stream",
          "text": [
            "Model: \"sequential\"\n",
            "_________________________________________________________________\n",
            "Layer (type)                 Output Shape              Param #   \n",
            "=================================================================\n",
            "dense (Dense)                (None, 10)                25060     \n",
            "_________________________________________________________________\n",
            "dense_1 (Dense)              (None, 1)                 11        \n",
            "=================================================================\n",
            "Total params: 25,071\n",
            "Trainable params: 25,071\n",
            "Non-trainable params: 0\n",
            "_________________________________________________________________\n"
          ],
          "name": "stdout"
        }
      ]
    },
    {
      "cell_type": "markdown",
      "metadata": {
        "id": "HVgI12a7kD6Z"
      },
      "source": [
        "You might notice that we have **25060** parameters for the first layer and another 11 in the next one. Where did those come from?\n",
        "\n",
        "See, we have 2505 dimensions for each feature vector, and then we have 10 nodes. We need weights for each feature dimension and each node which accounts for 2505 * 10 = 25050 parameters, and then we have another 10 times an added bias for each node, which gets us the 25060 parameters. In the final node, we have another 10 weights and one bias, which gets us to 11 parameters.\n",
        "\n",
        "Neat! You are almost there. Now it is time to start your training with the .fit() function.\n",
        "\n",
        "Since the training in neural networks is an iterative process, the training won’t just stop after it is done. You have to specify the number of iterations you want the model to be training. Those completed iterations are commonly called epochs. We want to run it for 100 epochs to be able to see how the training loss and accuracy are changing after each epoch.\n",
        "\n",
        "Another parameter you have to your selection is the batch size. The batch size is responsible for how many samples we want to use in one epoch, which means how many samples are used in one forward/backward pass. This increases the speed of the computation as it need fewer epochs to run, but it also needs more memory, and the model may degrade with larger batch sizes. Since we have a small training set, we can leave this to a low batch size:"
      ]
    },
    {
      "cell_type": "code",
      "metadata": {
        "id": "U4wW7LSCjsg3"
      },
      "source": [
        "history = model.fit(X_train, y_train,\n",
        "                    epochs=100,\n",
        "                    verbose=False,\n",
        "                    validation_data=(X_test, y_test),\n",
        "                    batch_size=10)"
      ],
      "execution_count": 13,
      "outputs": []
    },
    {
      "cell_type": "markdown",
      "metadata": {
        "id": "d93Q0NoYk25I"
      },
      "source": [
        "Now you can use the **.evaluate()** method to measure the accuracy of the model. You can do this both for the training data and testing data. We expect that the training data has a higher accuracy then for the testing data. **The longer you would train a neural network, the more likely it is that it starts overfitting.**\n",
        "\n",
        "Note that if you rerun the **.fit()** method, you’ll start off with the computed weights from the previous training. Make sure to compile the model again before you start training the model again. Now let’s evaluate the accuracy model:"
      ]
    },
    {
      "cell_type": "code",
      "metadata": {
        "id": "6JUhuUWJkvCt",
        "colab": {
          "base_uri": "https://localhost:8080/"
        },
        "outputId": "a0373e6b-7a47-4b56-b639-f7fa5c530a56"
      },
      "source": [
        "loss, accuracy = model.evaluate(X_train, y_train, verbose=False)\n",
        "print(\"Training Accuracy: {:.4f}\".format(accuracy))\n",
        "loss, accuracy = model.evaluate(X_test, y_test, verbose=False)\n",
        "print(\"Testing Accuracy:  {:.4f}\".format(accuracy))"
      ],
      "execution_count": 14,
      "outputs": [
        {
          "output_type": "stream",
          "text": [
            "Training Accuracy: 1.0000\n",
            "Testing Accuracy:  0.7807\n"
          ],
          "name": "stdout"
        }
      ]
    },
    {
      "cell_type": "markdown",
      "metadata": {
        "id": "lyuKZkDVlSzD"
      },
      "source": [
        "You can already see that the model was **overfitting** since it reached 100% accuracy for the training set. But this was expected since the number of epochs was fairly large for this model. However, the accuracy of the testing set has already surpassed our previous logistic Regression with BOW model, which is a great step further in terms of our progress.\n",
        "\n",
        "To make your life easier, you can use this little helper function to visualize the loss and accuracy for the training and testing data based on the [History](https://keras.io/callbacks/#history) callback. This callback, which is automatically applied to each Keras model, records the loss and additional [metrics](https://keras.io/metrics/) that can be added in the .fit() method. In this case, we are only interested in the accuracy. This helper function employs the [matplotlib](https://matplotlib.org/) plotting library:"
      ]
    },
    {
      "cell_type": "code",
      "metadata": {
        "id": "9USEgnzclMur"
      },
      "source": [
        "import matplotlib.pyplot as plt\n",
        "plt.style.use('ggplot')\n",
        "\n",
        "def plot_history(history):\n",
        "    acc = history.history['accuracy']\n",
        "    val_acc = history.history['val_accuracy']\n",
        "    loss = history.history['loss']\n",
        "    val_loss = history.history['val_loss']\n",
        "    x = range(1, len(acc) + 1)\n",
        "\n",
        "    plt.figure(figsize=(12, 5))\n",
        "    plt.subplot(1, 2, 1)\n",
        "    plt.plot(x, acc, 'b', label='Training acc')\n",
        "    plt.plot(x, val_acc, 'r', label='Validation acc')\n",
        "    plt.title('Training and validation accuracy')\n",
        "    plt.legend()\n",
        "    plt.subplot(1, 2, 2)\n",
        "    plt.plot(x, loss, 'b', label='Training loss')\n",
        "    plt.plot(x, val_loss, 'r', label='Validation loss')\n",
        "    plt.title('Training and validation loss')\n",
        "    plt.legend()"
      ],
      "execution_count": 15,
      "outputs": []
    },
    {
      "cell_type": "markdown",
      "metadata": {
        "id": "Hh01HH2cl4mg"
      },
      "source": [
        "To use this function, simply call plot_history() with the collected accuracy and loss inside the history dictionary:"
      ]
    },
    {
      "cell_type": "code",
      "metadata": {
        "id": "U9sEhJlBl7p0",
        "colab": {
          "base_uri": "https://localhost:8080/",
          "height": 337
        },
        "outputId": "5e7d0d93-b505-413d-fc0e-b102438ef360"
      },
      "source": [
        "plot_history(history)"
      ],
      "execution_count": 16,
      "outputs": [
        {
          "output_type": "display_data",
          "data": {
            "image/png": "[encoded data removed]",
            "text/plain": [
              "<Figure size 864x360 with 2 Axes>"
            ]
          },
          "metadata": {
            "tags": []
          }
        }
      ]
    },
    {
      "cell_type": "markdown",
      "metadata": {
        "id": "mHm7dh6dmHqx"
      },
      "source": [
        "You can see that we have trained our model for too long since the training set reached 100% accuracy. A good way to see when **the model starts overfitting is when the loss of the validation data starts rising again**. This tends to be a good point to stop the model. You can see this around 20-40 epochs in this training."
      ]
    },
    {
      "cell_type": "markdown",
      "metadata": {
        "id": "yq5_EP3umif8"
      },
      "source": [
        "# Note\n",
        "When training neural networks, you should use a separate testing and validation set. What you would usually do is take the model with the highest validation accuracy and then test the model with the testing set.\n",
        "\n",
        "This makes sure that you don’t overfit the model. Using the validation set to choose the best model is a form of **data leakage** (or “cheating”) to get to pick the result that produced the best test score out of hundreds of them. Data leakage happens when information outside the training data set is used in the model.\n"
      ]
    },
    {
      "cell_type": "markdown",
      "metadata": {
        "id": "6hp5zGblm5KZ"
      },
      "source": [
        "In this case, our testing and validation set are the same, since we have a smaller sample size. As we have covered before, (deep) neural networks perform best when you have a very large number of samples. In the next part, you’ll see a different way to represent words as vectors. This is a very exciting and powerful way to work with words where you’ll see how to represent words as dense vectors."
      ]
    },
    {
      "cell_type": "markdown",
      "metadata": {
        "id": "m1ng7jAXnCJ_"
      },
      "source": [
        "# What Is a Word Embedding?\n",
        "\n",
        "Text is considered a form of sequence data similar to time series data that you would have in weather data or financial data. In the previous BOW model, you have seen how to represent a whole sequence of words as a single feature vector. Now you will see how to represent each word as vectors. There are various ways to vectorize text, such as:\n",
        "\n",
        "- Words represented by each word as a vector\n",
        "- Characters represented by each character as a vector\n",
        "- N-grams of words/characters represented as a vector (N-grams are overlapping groups of multiple succeeding words/characters in the text)\n",
        "\n",
        "In this tutorial, you’ll see how to deal with representing words as vectors which is the common way to use text in neural networks. Two possible ways to represent a word as a vector are one-hot encoding and word embeddings."
      ]
    },
    {
      "cell_type": "markdown",
      "metadata": {
        "id": "I4RZ6gYMnfz5"
      },
      "source": [
        "# One-Hot Encoding\n",
        "\n",
        "The first way to represent a word as a vector is by creating a so-called one-hot encoding, which is simply done by taking a vector of the length of the vocabulary with an entry for each word in the corpus.\n",
        "\n",
        "In this way, you have for each word, given it has a spot in the vocabulary, a vector with zeros everywhere except for the corresponding spot for the word which is set to one. As you might imagine, this can become a fairly large vector for each word and it does not give any additional information like the relationship between words.\n",
        "\n",
        "Let’s say you have a list of cities as in the following example:"
      ]
    },
    {
      "cell_type": "code",
      "metadata": {
        "id": "F2X3j3VUlzIJ",
        "colab": {
          "base_uri": "https://localhost:8080/"
        },
        "outputId": "64f58790-5ebe-4b92-84ce-8346b5c45905"
      },
      "source": [
        "cities = ['London', 'Berlin', 'Berlin', 'New York', 'London']\n",
        "cities"
      ],
      "execution_count": 17,
      "outputs": [
        {
          "output_type": "execute_result",
          "data": {
            "text/plain": [
              "['London', 'Berlin', 'Berlin', 'New York', 'London']"
            ]
          },
          "metadata": {
            "tags": []
          },
          "execution_count": 17
        }
      ]
    },
    {
      "cell_type": "markdown",
      "metadata": {
        "id": "cXvp-C25n-Fu"
      },
      "source": [
        "You can use scikit-learn and the LabelEncoder to encode the list of cities into categorical integer values like here:"
      ]
    },
    {
      "cell_type": "code",
      "metadata": {
        "id": "GFejGpZknskp",
        "colab": {
          "base_uri": "https://localhost:8080/"
        },
        "outputId": "ed7f6018-516a-49a4-f5a1-a3c1e1c48e25"
      },
      "source": [
        "from sklearn.preprocessing import LabelEncoder\n",
        "\n",
        "encoder = LabelEncoder()\n",
        "city_labels = encoder.fit_transform(cities)\n",
        "city_labels"
      ],
      "execution_count": 18,
      "outputs": [
        {
          "output_type": "execute_result",
          "data": {
            "text/plain": [
              "array([1, 0, 0, 2, 1])"
            ]
          },
          "metadata": {
            "tags": []
          },
          "execution_count": 18
        }
      ]
    },
    {
      "cell_type": "markdown",
      "metadata": {
        "id": "4-oI2tjvoLKl"
      },
      "source": [
        "Using this representation, you can use the OneHotEncoder provided by scikit-learn to encode the categorical values we got before into a one-hot encoded numeric array. OneHotEncoder expects each categorical value to be in a separate row, so you’ll need to reshape the array, then you can apply the encoder:"
      ]
    },
    {
      "cell_type": "code",
      "metadata": {
        "id": "o08lFJN_oDPJ",
        "colab": {
          "base_uri": "https://localhost:8080/"
        },
        "outputId": "a4a5bb5d-4cc5-44fa-af5d-3f7cf900293e"
      },
      "source": [
        "from sklearn.preprocessing import OneHotEncoder\n",
        "\n",
        "encoder = OneHotEncoder(sparse=False)\n",
        "city_labels = city_labels.reshape((5, 1))\n",
        "city_labels"
      ],
      "execution_count": 19,
      "outputs": [
        {
          "output_type": "execute_result",
          "data": {
            "text/plain": [
              "array([[1],\n",
              "       [0],\n",
              "       [0],\n",
              "       [2],\n",
              "       [1]])"
            ]
          },
          "metadata": {
            "tags": []
          },
          "execution_count": 19
        }
      ]
    },
    {
      "cell_type": "code",
      "metadata": {
        "id": "m_ofHw3HpbdI",
        "colab": {
          "base_uri": "https://localhost:8080/"
        },
        "outputId": "f5ad62ef-f4f4-49d6-bea7-ecd60e2cd573"
      },
      "source": [
        "encoder.fit_transform(city_labels)"
      ],
      "execution_count": 20,
      "outputs": [
        {
          "output_type": "execute_result",
          "data": {
            "text/plain": [
              "array([[0., 1., 0.],\n",
              "       [1., 0., 0.],\n",
              "       [1., 0., 0.],\n",
              "       [0., 0., 1.],\n",
              "       [0., 1., 0.]])"
            ]
          },
          "metadata": {
            "tags": []
          },
          "execution_count": 20
        }
      ]
    },
    {
      "cell_type": "markdown",
      "metadata": {
        "id": "LBq-iPcYowT-"
      },
      "source": [
        "You can see that categorical integer value represents the position of the array which is 1 and the rest is 0. This is often used when you have a categorical feature which you cannot represent as a numeric value but you still want to be able to use it in machine learning. One use case for this encoding is of course words in a text but it is most prominently used for categories. Such categories can be for example city, department, or other categories."
      ]
    },
    {
      "cell_type": "markdown",
      "metadata": {
        "id": "O_Q3HzZmqLdg"
      },
      "source": [
        "# Word Embeddings\n",
        "\n",
        "This method represents words as dense word vectors (also called word embeddings) which are trained unlike the one-hot encoding which are hardcoded. This means that the word embeddings collect more information into fewer dimensions.\n",
        "\n",
        "Note that the word embeddings do not understand the text as a human would, but they rather map the statistical structure of the language used in the corpus. Their aim is to map semantic meaning into a geometric space. This geometric space is then called the **embedding space**.\n",
        "\n",
        "This would map semantically similar words close on the embedding space like numbers or colors. If the embedding captures the relationship between words well, things like vector arithmetic should become possible. A famous example in this field of study is the ability to map [King - Man + Woman = Queen](https://www.technologyreview.com/s/541356/king-man-woman-queen-the-marvelous-mathematics-of-computational-linguistics/).\n",
        "\n",
        "How can you get such a word embedding? You have two options for this. One way is to train your word embeddings during the training of your neural network. The other way is by using pretrained word embeddings which you can directly use in your model. There you have the option to either leave these word embeddings unchanged during training or you train them also.\n",
        "\n",
        "Now you need to tokenize the data into a format that can be used by the word embeddings. Keras offers a couple of convenience methods for [text preprocessing](https://keras.io/preprocessing/text/) and [sequence preprocessing](https://keras.io/preprocessing/sequence/) which you can employ to prepare your text.\n",
        "\n",
        "You can start by using the **Tokenizer** utility class which can vectorize a text corpus into a list of integers. Each integer maps to a value in a dictionary that encodes the entire corpus, with the keys in the dictionary being the vocabulary terms themselves. You can add the parameter num_words, which is responsible for setting the size of the vocabulary. The most common num_words words will be then kept. I have the testing and training data prepared from the previous example:"
      ]
    },
    {
      "cell_type": "code",
      "metadata": {
        "id": "jcMM6sScoTKm",
        "colab": {
          "base_uri": "https://localhost:8080/"
        },
        "outputId": "45437c1a-ad31-4eff-ed8d-0f6afefd9548"
      },
      "source": [
        "from keras.preprocessing.text import Tokenizer\n",
        "\n",
        "tokenizer = Tokenizer(num_words=5000)   # index the most common num_words\n",
        "tokenizer.fit_on_texts(sentences_train)\n",
        "\n",
        "X_train = tokenizer.texts_to_sequences(sentences_train)\n",
        "X_test = tokenizer.texts_to_sequences(sentences_test)\n",
        "\n",
        "vocab_size = len(tokenizer.word_index) + 1  # Adding 1 because of reserved 0 index\n",
        "\n",
        "print(sentences_train[2])\n",
        "print(X_train[2])"
      ],
      "execution_count": 21,
      "outputs": [
        {
          "output_type": "stream",
          "text": [
            "I am a fan of his ... This movie sucked really bad.  \n",
            "[7, 150, 2, 932, 4, 49, 6, 11, 563, 45, 30]\n"
          ],
          "name": "stdout"
        }
      ]
    },
    {
      "cell_type": "markdown",
      "metadata": {
        "id": "06OsnGLgrY3e"
      },
      "source": [
        "The indexing is ordered after the most common words in the text, which you can see by the word having the index 1.\n",
        "\n",
        "**It is important to note that the index 0 is reserved and is not assigned to any word. This zero index is used for padding, which I’ll introduce in a moment.**\n",
        "\n",
        "Unknown words (words that are not in the vocabulary) are denoted in Keras with word_count + 1 since they can also hold some information. You can see the index of each word by taking a look at the word_index dictionary of the Tokenizer object:"
      ]
    },
    {
      "cell_type": "code",
      "metadata": {
        "id": "TQM6S7yvrRjQ",
        "colab": {
          "base_uri": "https://localhost:8080/"
        },
        "outputId": "7e1d224d-f5eb-4781-844a-dd42b602adbe"
      },
      "source": [
        "for word in ['the', 'all', 'sucked', 'fan']:\n",
        "    print('{}: {}'.format(word, tokenizer.word_index[word]))"
      ],
      "execution_count": 22,
      "outputs": [
        {
          "output_type": "stream",
          "text": [
            "the: 1\n",
            "all: 27\n",
            "sucked: 563\n",
            "fan: 932\n"
          ],
          "name": "stdout"
        }
      ]
    },
    {
      "cell_type": "markdown",
      "metadata": {
        "id": "riZeXhOHr5F-"
      },
      "source": [
        "# Note\n",
        "\n",
        "Pay close attention to the difference between this technique and the X_train that was produced by scikit-learn’s CountVectorizer.\n",
        "\n",
        "With CountVectorizer, we had stacked vectors of word counts, and each vector was the same length (the size of the total corpus vocabulary). With Tokenizer, the resulting vectors equal the length of each text, and the numbers don’t denote counts, but rather correspond to the word values from the dictionary tokenizer.word_index.\n"
      ]
    },
    {
      "cell_type": "markdown",
      "metadata": {
        "id": "p2yIxT-gsG0X"
      },
      "source": [
        "One problem that we have is that each text sequence has in most cases different length of words. To counter this, you can use pad_sequence() which simply pads the sequence of words with zeros. By default, it prepends zeros but we want to append them. Typically it does not matter whether you prepend or append zeros.\n",
        "\n",
        "Additionally you would want to add a maxlen parameter to specify how long the sequences should be. This cuts sequences that exceed that number. In the following code, you can see how to pad sequences with Keras:"
      ]
    },
    {
      "cell_type": "code",
      "metadata": {
        "id": "6TCEIlysrsE_",
        "colab": {
          "base_uri": "https://localhost:8080/"
        },
        "outputId": "e7bec423-3c89-4465-a505-109674a37e61"
      },
      "source": [
        "from keras.preprocessing.sequence import pad_sequences\n",
        "\n",
        "maxlen = 100\n",
        "\n",
        "X_train = pad_sequences(X_train, padding='post', maxlen=maxlen)\n",
        "X_test = pad_sequences(X_test, padding='post', maxlen=maxlen)\n",
        "\n",
        "print(X_train[0, :])"
      ],
      "execution_count": 23,
      "outputs": [
        {
          "output_type": "stream",
          "text": [
            "[170 116 390  35   0   0   0   0   0   0   0   0   0   0   0   0   0   0\n",
            "   0   0   0   0   0   0   0   0   0   0   0   0   0   0   0   0   0   0\n",
            "   0   0   0   0   0   0   0   0   0   0   0   0   0   0   0   0   0   0\n",
            "   0   0   0   0   0   0   0   0   0   0   0   0   0   0   0   0   0   0\n",
            "   0   0   0   0   0   0   0   0   0   0   0   0   0   0   0   0   0   0\n",
            "   0   0   0   0   0   0   0   0   0   0]\n"
          ],
          "name": "stdout"
        }
      ]
    },
    {
      "cell_type": "markdown",
      "metadata": {
        "id": "yOwhcQJMsgZ9"
      },
      "source": [
        "The first values represent the index in the vocabulary as you have learned from the previous examples. You can also see that the resulting feature vector contains mostly zeros, since you have a fairly short sentence. In the next part you will see how to work with word embeddings in Keras.\n",
        "\n",
        "# Keras Embedding Layer\n",
        "\n",
        "Notice that, at this point, our data is still hardcoded. We have not told Keras to learn a new embedding space through successive tasks. Now you can use the Embedding Layer of Keras which takes the previously calculated integers and maps them to a dense vector of the embedding. You will need the following parameters:\n",
        "\n",
        "- input_dim: the size of the vocabulary\n",
        "- output_dim: the size of the dense vector\n",
        "- input_length: the length of the sequence\n",
        "\n",
        "With the Embedding layer we have now a couple of options. One way would be to take the output of the embedding layer and plug it into a Dense layer. In order to do this you have to add a Flatten layer in between that prepares the sequential input for the Dense layer:"
      ]
    },
    {
      "cell_type": "code",
      "metadata": {
        "id": "X24vY7EAsZrw",
        "colab": {
          "base_uri": "https://localhost:8080/"
        },
        "outputId": "7a397ff2-d21c-460c-dcf6-94f4378dd60d"
      },
      "source": [
        "from keras.models import Sequential\n",
        "from keras import layers\n",
        "\n",
        "embedding_dim = 50\n",
        "\n",
        "model = Sequential()\n",
        "model.add(layers.Embedding(input_dim=vocab_size, \n",
        "                           output_dim=embedding_dim, \n",
        "                           input_length=maxlen))\n",
        "model.add(layers.Flatten())\n",
        "model.add(layers.Dense(10, activation='relu'))\n",
        "model.add(layers.Dense(1, activation='sigmoid'))\n",
        "model.compile(optimizer='adam',\n",
        "              loss='binary_crossentropy',\n",
        "              metrics=['accuracy'])\n",
        "model.summary()"
      ],
      "execution_count": 24,
      "outputs": [
        {
          "output_type": "stream",
          "text": [
            "Model: \"sequential_1\"\n",
            "_________________________________________________________________\n",
            "Layer (type)                 Output Shape              Param #   \n",
            "=================================================================\n",
            "embedding (Embedding)        (None, 100, 50)           128750    \n",
            "_________________________________________________________________\n",
            "flatten (Flatten)            (None, 5000)              0         \n",
            "_________________________________________________________________\n",
            "dense_2 (Dense)              (None, 10)                50010     \n",
            "_________________________________________________________________\n",
            "dense_3 (Dense)              (None, 1)                 11        \n",
            "=================================================================\n",
            "Total params: 178,771\n",
            "Trainable params: 178,771\n",
            "Non-trainable params: 0\n",
            "_________________________________________________________________\n"
          ],
          "name": "stdout"
        }
      ]
    },
    {
      "cell_type": "markdown",
      "metadata": {
        "id": "Dt9ihsM0s8NJ"
      },
      "source": [
        "You can now see that we have 128750 new parameters to train. This number comes from vocab_size times the embedding_dim. These weights of the embedding layer are initialized with random weights and are then adjusted through backpropagation during training. This model takes the words as they come in the order of the sentences as input vectors. You can train it with the following:"
      ]
    },
    {
      "cell_type": "code",
      "metadata": {
        "id": "4pm9wf6ksuXo",
        "colab": {
          "base_uri": "https://localhost:8080/",
          "height": 374
        },
        "outputId": "e0b0f82f-a129-4d06-f620-39da52f510a8"
      },
      "source": [
        "history = model.fit(X_train, y_train,\n",
        "                    epochs=20,\n",
        "                    verbose=False,\n",
        "                    validation_data=(X_test, y_test),\n",
        "                    batch_size=10)\n",
        "loss, accuracy = model.evaluate(X_train, y_train, verbose=False)\n",
        "print(\"Training Accuracy: {:.4f}\".format(accuracy))\n",
        "loss, accuracy = model.evaluate(X_test, y_test, verbose=False)\n",
        "print(\"Testing Accuracy:  {:.4f}\".format(accuracy))\n",
        "plot_history(history)"
      ],
      "execution_count": 25,
      "outputs": [
        {
          "output_type": "stream",
          "text": [
            "Training Accuracy: 1.0000\n",
            "Testing Accuracy:  0.6631\n"
          ],
          "name": "stdout"
        },
        {
          "output_type": "display_data",
          "data": {
            "image/png": "[encoded data removed]",
            "text/plain": [
              "<Figure size 864x360 with 2 Axes>"
            ]
          },
          "metadata": {
            "tags": []
          }
        }
      ]
    },
    {
      "cell_type": "code",
      "metadata": {
        "id": "mBFsmQzptAO-"
      },
      "source": [
        ""
      ],
      "execution_count": 25,
      "outputs": []
    },
    {
      "cell_type": "markdown",
      "metadata": {
        "id": "FVh1sTLitJoH"
      },
      "source": [
        "This is typically a not very reliable way to work with sequential data as you can see in the performance. When working with sequential data you want to focus on methods that look at local and sequential information instead of absolute positional information.\n",
        "\n",
        "Another way to work with embeddings is by using a MaxPooling1D/AveragePooling1D or a GlobalMaxPooling1D/GlobalAveragePooling1D layer after the embedding. You can think of the pooling layers as a way to [downsample](https://en.wikipedia.org/wiki/Decimation_(signal_processing)) (a way to reduce the size of) the incoming feature vectors.\n",
        "\n",
        "In the case of max pooling you take the maximum value of all features in the pool for each feature dimension. In the case of average pooling you take the average, but max pooling seems to be more commonly used as it highlights large values.\n",
        "\n",
        "Global max/average pooling takes the maximum/average of all features whereas in the other case you have to define the pool size. Keras has again its own layer that you can add in the sequential model:"
      ]
    },
    {
      "cell_type": "code",
      "metadata": {
        "id": "h4YqYKsPtT_N",
        "colab": {
          "base_uri": "https://localhost:8080/"
        },
        "outputId": "e6b711a5-e987-4568-c8f3-f381bf8d1479"
      },
      "source": [
        "from keras.models import Sequential\n",
        "from keras import layers\n",
        "\n",
        "embedding_dim = 50\n",
        "\n",
        "model = Sequential()\n",
        "model.add(layers.Embedding(input_dim=vocab_size, \n",
        "                           output_dim=embedding_dim, \n",
        "                           input_length=maxlen))\n",
        "model.add(layers.GlobalMaxPool1D())\n",
        "model.add(layers.Dense(10, activation='relu'))\n",
        "model.add(layers.Dense(1, activation='sigmoid'))\n",
        "model.compile(optimizer='adam',\n",
        "              loss='binary_crossentropy',\n",
        "              metrics=['accuracy'])\n",
        "model.summary()"
      ],
      "execution_count": 26,
      "outputs": [
        {
          "output_type": "stream",
          "text": [
            "Model: \"sequential_2\"\n",
            "_________________________________________________________________\n",
            "Layer (type)                 Output Shape              Param #   \n",
            "=================================================================\n",
            "embedding_1 (Embedding)      (None, 100, 50)           128750    \n",
            "_________________________________________________________________\n",
            "global_max_pooling1d (Global (None, 50)                0         \n",
            "_________________________________________________________________\n",
            "dense_4 (Dense)              (None, 10)                510       \n",
            "_________________________________________________________________\n",
            "dense_5 (Dense)              (None, 1)                 11        \n",
            "=================================================================\n",
            "Total params: 129,271\n",
            "Trainable params: 129,271\n",
            "Non-trainable params: 0\n",
            "_________________________________________________________________\n"
          ],
          "name": "stdout"
        }
      ]
    },
    {
      "cell_type": "markdown",
      "metadata": {
        "id": "NAMJJWw9tZBp"
      },
      "source": [
        "The procedure for training does not change:"
      ]
    },
    {
      "cell_type": "code",
      "metadata": {
        "id": "MXe6OdhQtaj9",
        "colab": {
          "base_uri": "https://localhost:8080/",
          "height": 374
        },
        "outputId": "5ad0b73b-3fac-4440-a847-6b7e4641b37d"
      },
      "source": [
        "history = model.fit(X_train, y_train,\n",
        "                    epochs=50,\n",
        "                    verbose=False,\n",
        "                    validation_data=(X_test, y_test),\n",
        "                    batch_size=10)\n",
        "loss, accuracy = model.evaluate(X_train, y_train, verbose=False)\n",
        "print(\"Training Accuracy: {:.4f}\".format(accuracy))\n",
        "loss, accuracy = model.evaluate(X_test, y_test, verbose=False)\n",
        "print(\"Testing Accuracy:  {:.4f}\".format(accuracy))\n",
        "plot_history(history)"
      ],
      "execution_count": 27,
      "outputs": [
        {
          "output_type": "stream",
          "text": [
            "Training Accuracy: 1.0000\n",
            "Testing Accuracy:  0.7914\n"
          ],
          "name": "stdout"
        },
        {
          "output_type": "display_data",
          "data": {
            "image/png": "[encoded data removed]",
            "text/plain": [
              "<Figure size 864x360 with 2 Axes>"
            ]
          },
          "metadata": {
            "tags": []
          }
        }
      ]
    },
    {
      "cell_type": "markdown",
      "metadata": {
        "id": "q4za-C6itl_J"
      },
      "source": [
        "You can already see some improvements in our models. Next you’ll see how we can employ pretrained word embeddings and if they help us with our model.\n",
        "\n",
        "# Using Pretrained Word Embeddings\n",
        "\n",
        "We just saw an example of jointly learning word embeddings incorporated into the larger model that we want to solve.\n",
        "\n",
        "An alternative is to use a precomputed embedding space that utilizes a much larger corpus. It is possible to precompute word embeddings by simply training them on a large corpus of text. Among the most popular methods are [Word2Vec](https://papers.nips.cc/paper/5021-distributed-representations-of-words-and-phrases-and-their-compositionality.pdf) developed by Google and [GloVe](https://nlp.stanford.edu/projects/glove/) (Global Vectors for Word Representation) developed by the Stanford NLP Group.\n",
        "\n",
        "Note that those are different approaches with the same goal. Word2Vec achieves this by employing neural networks and GloVe achieves this with a co-occurrence matrix and by using matrix factorization. In both cases you are dealing with dimensionality reduction, but Word2Vec is more accurate and GloVe is faster to compute.\n",
        "\n",
        "In this tutorial, you’ll see how to work with the GloVe word embeddings from the Stanford NLP Group as their size is more manageable than the Word2Vec word embeddings provided by Google. Go ahead and download the 6B (trained on 6 billion words) word embeddings from [here](https://nlp.stanford.edu/projects/glove/) (822 MB).\n",
        "\n",
        "You can find other word embeddings also on the main [GloVe](https://nlp.stanford.edu/projects/glove/) page. You can find the pretrained Word2Vec embeddings by Google [here](https://code.google.com/archive/p/word2vec/). If you want to train your own word embeddings, you can do so efficiently with the [gensim](https://radimrehurek.com/gensim/index.html) Python package which uses Word2Vec for calculation. More details on how to do this [here](https://radimrehurek.com/gensim/models/word2vec.html).\n",
        "\n",
        "Now that we got you covered, you can start using the word embeddings in your models. You can see in the next example how you can load the embedding matrix. Each line in the file starts with the word and is followed by the embedding vector for the particular word.\n",
        "\n",
        "This is a large file with 400000 lines, with each line representing a word followed by its vector as a stream of floats. For example, here are the characters of the first few lines:"
      ]
    },
    {
      "cell_type": "code",
      "metadata": {
        "colab": {
          "base_uri": "https://localhost:8080/"
        },
        "id": "w8QtkKy0r1HW",
        "outputId": "810dbb42-c7e7-4b9c-e2ad-c12d221a2edf"
      },
      "source": [
        "!ls !ls /gdrive/MyDrive/Colab\\ Notebooks/MultiLabelText/ToxicComments/data/embedding"
      ],
      "execution_count": 28,
      "outputs": [
        {
          "output_type": "stream",
          "text": [
            "ls: cannot access '!ls': No such file or directory\n",
            "'/gdrive/MyDrive/Colab Notebooks/MultiLabelText/ToxicComments/data/embedding':\n",
            "glove.6B.100d.txt\n"
          ],
          "name": "stdout"
        }
      ]
    },
    {
      "cell_type": "code",
      "metadata": {
        "colab": {
          "base_uri": "https://localhost:8080/"
        },
        "id": "oYCdgZeOyKV5",
        "outputId": "c726d396-b632-403b-eb7c-013ad6296477"
      },
      "source": [
        "!head -n 10 /gdrive/MyDrive/Colab\\ Notebooks/MultiLabelText/ToxicComments/data/embedding/glove.6B.100d.txt | cut -c-100"
      ],
      "execution_count": 29,
      "outputs": [
        {
          "output_type": "stream",
          "text": [
            "the -0.038194 -0.24487 0.72812 -0.39961 0.083172 0.043953 -0.39141 0.3344 -0.57545 0.087459 0.28787 \n",
            ", -0.10767 0.11053 0.59812 -0.54361 0.67396 0.10663 0.038867 0.35481 0.06351 -0.094189 0.15786 -0.81\n",
            ". -0.33979 0.20941 0.46348 -0.64792 -0.38377 0.038034 0.17127 0.15978 0.46619 -0.019169 0.41479 -0.3\n",
            "of -0.1529 -0.24279 0.89837 0.16996 0.53516 0.48784 -0.58826 -0.17982 -1.3581 0.42541 0.15377 0.2421\n",
            "to -0.1897 0.050024 0.19084 -0.049184 -0.089737 0.21006 -0.54952 0.098377 -0.20135 0.34241 -0.092677\n",
            "and -0.071953 0.23127 0.023731 -0.50638 0.33923 0.1959 -0.32943 0.18364 -0.18057 0.28963 0.20448 -0.\n",
            "in 0.085703 -0.22201 0.16569 0.13373 0.38239 0.35401 0.01287 0.22461 -0.43817 0.50164 -0.35874 -0.34\n",
            "a -0.27086 0.044006 -0.02026 -0.17395 0.6444 0.71213 0.3551 0.47138 -0.29637 0.54427 -0.72294 -0.004\n",
            "\" -0.30457 -0.23645 0.17576 -0.72854 -0.28343 -0.2564 0.26587 0.025309 -0.074775 -0.3766 -0.057774 0\n",
            "'s 0.58854 -0.2025 0.73479 -0.68338 -0.19675 -0.1802 -0.39177 0.34172 -0.60561 0.63816 -0.26695 0.36\n"
          ],
          "name": "stdout"
        }
      ]
    },
    {
      "cell_type": "markdown",
      "metadata": {
        "id": "s0i3UwSZzz18"
      },
      "source": [
        "Since you don’t need all words, you can focus on only the words that we have in our vocabulary. Since we have only a limited number of words in our vocabulary, we can skip most of the 40000 words in the pretrained word embeddings:"
      ]
    },
    {
      "cell_type": "code",
      "metadata": {
        "id": "hoNvlBOnzJ1k"
      },
      "source": [
        "import numpy as np\r\n",
        "\r\n",
        "def create_embedding_matrix(filepath, word_index, embedding_dim):\r\n",
        "    vocab_size = len(word_index) + 1  # Adding again 1 because of reserved 0 index\r\n",
        "    embedding_matrix = np.zeros((vocab_size, embedding_dim))\r\n",
        "\r\n",
        "    with open(filepath) as f:\r\n",
        "        for line in f:\r\n",
        "            word, *vector = line.split()\r\n",
        "            if word in word_index:\r\n",
        "                idx = word_index[word] \r\n",
        "                embedding_matrix[idx] = np.array(\r\n",
        "                    vector, dtype=np.float32)[:embedding_dim]\r\n",
        "\r\n",
        "    return embedding_matrix\r\n"
      ],
      "execution_count": 30,
      "outputs": []
    },
    {
      "cell_type": "markdown",
      "metadata": {
        "id": "i-WVG5k_0JzS"
      },
      "source": [
        "You can use this function now to retrieve the embedding matrix:"
      ]
    },
    {
      "cell_type": "code",
      "metadata": {
        "id": "H87VOkJX0Ep-"
      },
      "source": [
        "embeddingFile = '/gdrive/MyDrive/Colab Notebooks/MultiLabelText/ToxicComments/data/embedding/glove.6B.100d.txt'\r\n",
        "\r\n",
        "embedding_dim = 100\r\n",
        "embedding_matrix = create_embedding_matrix(embeddingFile, tokenizer.word_index, embedding_dim)\r\n"
      ],
      "execution_count": 31,
      "outputs": []
    },
    {
      "cell_type": "markdown",
      "metadata": {
        "id": "6NRFWM6n0ieE"
      },
      "source": [
        "Wonderful! Now you are ready to use the embedding matrix in training. Let’s go ahead and use the previous network with global max pooling and see if we can improve this model. When you use pretrained word embeddings you have the choice to either allow the embedding to be updated during training or only use the resulting embedding vectors as they are.\r\n",
        "\r\n",
        "First, let’s have a quick look how many of the embedding vectors are nonzero:"
      ]
    },
    {
      "cell_type": "code",
      "metadata": {
        "colab": {
          "base_uri": "https://localhost:8080/"
        },
        "id": "bI5gZ7BO0PgN",
        "outputId": "21ff73df-a8e6-4f41-a498-e7ee3f877fd4"
      },
      "source": [
        "nonzero_elements = np.count_nonzero(np.count_nonzero(embedding_matrix, axis=1))\r\n",
        "nonzero_elements / vocab_size"
      ],
      "execution_count": 32,
      "outputs": [
        {
          "output_type": "execute_result",
          "data": {
            "text/plain": [
              "0.9522330097087378"
            ]
          },
          "metadata": {
            "tags": []
          },
          "execution_count": 32
        }
      ]
    },
    {
      "cell_type": "markdown",
      "metadata": {
        "id": "ORo29wat0ysT"
      },
      "source": [
        "This means 95.1% of the vocabulary is covered by the pretrained model, which is a good coverage of our vocabulary. Let’s have a look at the performance when using the **GlobalMaxPool1D** layer:"
      ]
    },
    {
      "cell_type": "code",
      "metadata": {
        "colab": {
          "base_uri": "https://localhost:8080/"
        },
        "id": "ASaQK1mz0uWV",
        "outputId": "2ca57b5b-6ca5-42e1-bb16-dd5fb01cd2f1"
      },
      "source": [
        "model = Sequential()\r\n",
        "model.add(layers.Embedding(vocab_size, embedding_dim, \r\n",
        "                           weights=[embedding_matrix], \r\n",
        "                           input_length=maxlen, \r\n",
        "                           trainable=False))\r\n",
        "model.add(layers.GlobalMaxPool1D())\r\n",
        "model.add(layers.Dense(10, activation='relu'))\r\n",
        "model.add(layers.Dense(1, activation='sigmoid'))\r\n",
        "model.compile(optimizer='adam',\r\n",
        "              loss='binary_crossentropy',\r\n",
        "              metrics=['accuracy'])\r\n",
        "model.summary()"
      ],
      "execution_count": 33,
      "outputs": [
        {
          "output_type": "stream",
          "text": [
            "Model: \"sequential_3\"\n",
            "_________________________________________________________________\n",
            "Layer (type)                 Output Shape              Param #   \n",
            "=================================================================\n",
            "embedding_2 (Embedding)      (None, 100, 100)          257500    \n",
            "_________________________________________________________________\n",
            "global_max_pooling1d_1 (Glob (None, 100)               0         \n",
            "_________________________________________________________________\n",
            "dense_6 (Dense)              (None, 10)                1010      \n",
            "_________________________________________________________________\n",
            "dense_7 (Dense)              (None, 1)                 11        \n",
            "=================================================================\n",
            "Total params: 258,521\n",
            "Trainable params: 1,021\n",
            "Non-trainable params: 257,500\n",
            "_________________________________________________________________\n"
          ],
          "name": "stdout"
        }
      ]
    },
    {
      "cell_type": "code",
      "metadata": {
        "colab": {
          "base_uri": "https://localhost:8080/",
          "height": 374
        },
        "id": "j7e41Uqw07-R",
        "outputId": "93950ef6-066a-410e-9b0d-89156af55b82"
      },
      "source": [
        "history = model.fit(X_train, y_train,\r\n",
        "                    epochs=50,\r\n",
        "                    verbose=False,\r\n",
        "                    validation_data=(X_test, y_test),\r\n",
        "                    batch_size=10)\r\n",
        "loss, accuracy = model.evaluate(X_train, y_train, verbose=False)\r\n",
        "print(\"Training Accuracy: {:.4f}\".format(accuracy))\r\n",
        "loss, accuracy = model.evaluate(X_test, y_test, verbose=False)\r\n",
        "print(\"Testing Accuracy:  {:.4f}\".format(accuracy))\r\n",
        "plot_history(history)"
      ],
      "execution_count": 34,
      "outputs": [
        {
          "output_type": "stream",
          "text": [
            "Training Accuracy: 0.8271\n",
            "Testing Accuracy:  0.7112\n"
          ],
          "name": "stdout"
        },
        {
          "output_type": "display_data",
          "data": {
            "image/png": "[encoded data removed]",
            "text/plain": [
              "<Figure size 864x360 with 2 Axes>"
            ]
          },
          "metadata": {
            "tags": []
          }
        }
      ]
    },
    {
      "cell_type": "markdown",
      "metadata": {
        "id": "S3K_sb_G1gY0"
      },
      "source": [
        "Since the word embeddings are not additionally trained, it is expected to be lower. But let’s now see how this performs if we allow the embedding to be trained by using **trainable=True**:"
      ]
    },
    {
      "cell_type": "code",
      "metadata": {
        "colab": {
          "base_uri": "https://localhost:8080/"
        },
        "id": "WwZmbx4v1CQE",
        "outputId": "26126e5e-59a6-49b0-8ff8-89c7eca238b4"
      },
      "source": [
        "model = Sequential()\r\n",
        "model.add(layers.Embedding(vocab_size, embedding_dim, \r\n",
        "                           weights=[embedding_matrix], \r\n",
        "                           input_length=maxlen, \r\n",
        "                           trainable=True))\r\n",
        "model.add(layers.GlobalMaxPool1D())\r\n",
        "model.add(layers.Dense(10, activation='relu'))\r\n",
        "model.add(layers.Dense(1, activation='sigmoid'))\r\n",
        "model.compile(optimizer='adam',\r\n",
        "              loss='binary_crossentropy',\r\n",
        "              metrics=['accuracy'])\r\n",
        "model.summary()"
      ],
      "execution_count": 35,
      "outputs": [
        {
          "output_type": "stream",
          "text": [
            "Model: \"sequential_4\"\n",
            "_________________________________________________________________\n",
            "Layer (type)                 Output Shape              Param #   \n",
            "=================================================================\n",
            "embedding_3 (Embedding)      (None, 100, 100)          257500    \n",
            "_________________________________________________________________\n",
            "global_max_pooling1d_2 (Glob (None, 100)               0         \n",
            "_________________________________________________________________\n",
            "dense_8 (Dense)              (None, 10)                1010      \n",
            "_________________________________________________________________\n",
            "dense_9 (Dense)              (None, 1)                 11        \n",
            "=================================================================\n",
            "Total params: 258,521\n",
            "Trainable params: 258,521\n",
            "Non-trainable params: 0\n",
            "_________________________________________________________________\n"
          ],
          "name": "stdout"
        }
      ]
    },
    {
      "cell_type": "code",
      "metadata": {
        "colab": {
          "base_uri": "https://localhost:8080/",
          "height": 374
        },
        "id": "IfN4tWhH1fcF",
        "outputId": "65af45d4-5f74-44e1-fe13-b7304c258d07"
      },
      "source": [
        "history = model.fit(X_train, y_train,\r\n",
        "                    epochs=50,\r\n",
        "                    verbose=False,\r\n",
        "                    validation_data=(X_test, y_test),\r\n",
        "                    batch_size=10)\r\n",
        "loss, accuracy = model.evaluate(X_train, y_train, verbose=False)\r\n",
        "print(\"Training Accuracy: {:.4f}\".format(accuracy))\r\n",
        "loss, accuracy = model.evaluate(X_test, y_test, verbose=False)\r\n",
        "print(\"Testing Accuracy:  {:.4f}\".format(accuracy))\r\n",
        "plot_history(history)"
      ],
      "execution_count": 36,
      "outputs": [
        {
          "output_type": "stream",
          "text": [
            "Training Accuracy: 1.0000\n",
            "Testing Accuracy:  0.7647\n"
          ],
          "name": "stdout"
        },
        {
          "output_type": "display_data",
          "data": {
            "image/png": "[encoded data removed]",
            "text/plain": [
              "<Figure size 864x360 with 2 Axes>"
            ]
          },
          "metadata": {
            "tags": []
          }
        }
      ]
    },
    {
      "cell_type": "markdown",
      "metadata": {
        "id": "5ru2Uotc1zaT"
      },
      "source": [
        "You can see that it is most effective to allow the embeddings to be trained. When dealing with large training sets it can boost the training process to be much faster than without. In our case it seemed to help but not by much. This does not have to be because of pretrained word embeddings.\r\n",
        "\r\n",
        "Now it is time to focus on a more advanced neural network model to see if it is possible to boost the model and give it the leading edge over the previous models."
      ]
    },
    {
      "cell_type": "markdown",
      "metadata": {
        "id": "SgwyB8NX1_IT"
      },
      "source": [
        "# Convolutional Neural Networks (CNN)"
      ]
    },
    {
      "cell_type": "markdown",
      "metadata": {
        "id": "tiHqkGDN2EHT"
      },
      "source": [
        "Convolutional neural networks or also called **convnets** are one of the most exciting developments in machine learning in recent years.\r\n",
        "\r\n",
        "They have revolutionized image classification and computer vision by being able to extract features from images and using them in neural networks. The properties that made them useful in image processing makes them also handy for sequence processing. You can imagine a CNN as a specialized neural network that is able to detect specific patterns.\r\n",
        "\r\n",
        "If it is just another neural network, what differentiates it from what you have previously learned?\r\n",
        "\r\n",
        "A CNN has hidden layers which are called convolutional layers. When you think of images, a computer has to deal with a two dimensional matrix of numbers and therefore you need some way to detect features in this matrix. These convolutional layers are able to detect edges, corners and other kinds of textures which makes them such a special tool. The convolutional layer consists of multiple filters which are slid across the image and are able to detect specific features.\r\n",
        "\r\n",
        "This is the very core of the technique, the mathematical process of [convolution](https://en.wikipedia.org/wiki/Convolution). With each convolutional layer the network is able to detect more complex patterns. In the [Feature Visualization](https://distill.pub/2017/feature-visualization/) by Chris Olah you can get a good intuition what these features can look like.\r\n",
        "\r\n",
        "When you are working with sequential data, like text, you work with one dimensional convolutions, but the idea and the application stays the same. You still want to pick up on patterns in the sequence which become more complex with each added convolutional layer.\r\n",
        "\r\n",
        "In the next figure you can see how such a convolution works. It starts by taking a patch of input features with the size of the filter kernel. With this patch you take the dot product of the multiplied weights of the filter. The one dimensional convnet is invariant to translations, which means that certain sequences can be recognized at a different position. This can be helpful for certain patterns in the text:"
      ]
    },
    {
      "cell_type": "markdown",
      "metadata": {
        "id": "x6x7DnHP2_mT"
      },
      "source": [
        "![image.png](data:image/png;base64,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)"
      ]
    },
    {
      "cell_type": "markdown",
      "metadata": {
        "id": "j6h4baCK3GOT"
      },
      "source": [
        "1D Convolution ([Image source](https://realpython.com/asins/1617294438/))"
      ]
    },
    {
      "cell_type": "markdown",
      "metadata": {
        "id": "Sdn8wrdZ3N97"
      },
      "source": [
        "Now let’s have a look how you can use this network in Keras. Keras offers again various [Convolutional layers](https://keras.io/layers/convolutional/) which you can use for this task. The layer you’ll need is the Conv1D layer. This layer has again various parameters to choose from. The ones you are interested in for now are the number of filters, the kernel size, and the activation function. You can add this layer in between the Embedding layer and the GlobalMaxPool1D layer:"
      ]
    },
    {
      "cell_type": "code",
      "metadata": {
        "colab": {
          "base_uri": "https://localhost:8080/"
        },
        "id": "sHS5sMEe1rE9",
        "outputId": "383178cc-0621-4e2c-cfb2-6048603ed72f"
      },
      "source": [
        "embedding_dim = 100\r\n",
        "\r\n",
        "model = Sequential()\r\n",
        "model.add(layers.Embedding(vocab_size, embedding_dim, input_length=maxlen))\r\n",
        "model.add(layers.Conv1D(128, 5, activation='relu'))\r\n",
        "model.add(layers.GlobalMaxPooling1D())\r\n",
        "model.add(layers.Dense(10, activation='relu'))\r\n",
        "model.add(layers.Dense(1, activation='sigmoid'))\r\n",
        "model.compile(optimizer='adam',\r\n",
        "              loss='binary_crossentropy',\r\n",
        "              metrics=['accuracy'])\r\n",
        "model.summary()"
      ],
      "execution_count": 37,
      "outputs": [
        {
          "output_type": "stream",
          "text": [
            "Model: \"sequential_5\"\n",
            "_________________________________________________________________\n",
            "Layer (type)                 Output Shape              Param #   \n",
            "=================================================================\n",
            "embedding_4 (Embedding)      (None, 100, 100)          257500    \n",
            "_________________________________________________________________\n",
            "conv1d (Conv1D)              (None, 96, 128)           64128     \n",
            "_________________________________________________________________\n",
            "global_max_pooling1d_3 (Glob (None, 128)               0         \n",
            "_________________________________________________________________\n",
            "dense_10 (Dense)             (None, 10)                1290      \n",
            "_________________________________________________________________\n",
            "dense_11 (Dense)             (None, 1)                 11        \n",
            "=================================================================\n",
            "Total params: 322,929\n",
            "Trainable params: 322,929\n",
            "Non-trainable params: 0\n",
            "_________________________________________________________________\n"
          ],
          "name": "stdout"
        }
      ]
    },
    {
      "cell_type": "code",
      "metadata": {
        "colab": {
          "base_uri": "https://localhost:8080/",
          "height": 374
        },
        "id": "FvFLMoHv3YDh",
        "outputId": "9123e363-03b8-4507-c8fb-653f50692085"
      },
      "source": [
        "history = model.fit(X_train, y_train,\r\n",
        "                    epochs=10,\r\n",
        "                    verbose=False,\r\n",
        "                    validation_data=(X_test, y_test),\r\n",
        "                    batch_size=10)\r\n",
        "loss, accuracy = model.evaluate(X_train, y_train, verbose=False)\r\n",
        "print(\"Training Accuracy: {:.4f}\".format(accuracy))\r\n",
        "loss, accuracy = model.evaluate(X_test, y_test, verbose=False)\r\n",
        "print(\"Testing Accuracy:  {:.4f}\".format(accuracy))\r\n",
        "plot_history(history)\r\n"
      ],
      "execution_count": 38,
      "outputs": [
        {
          "output_type": "stream",
          "text": [
            "Training Accuracy: 1.0000\n",
            "Testing Accuracy:  0.7380\n"
          ],
          "name": "stdout"
        },
        {
          "output_type": "display_data",
          "data": {
            "image/png": "[encoded data removed]",
            "text/plain": [
              "<Figure size 864x360 with 2 Axes>"
            ]
          },
          "metadata": {
            "tags": []
          }
        }
      ]
    },
    {
      "cell_type": "markdown",
      "metadata": {
        "id": "H0Xa3ixz3g_B"
      },
      "source": [
        "Accuracy and loss for convolutional neural network"
      ]
    },
    {
      "cell_type": "markdown",
      "metadata": {
        "id": "9d_FNfqb3iSr"
      },
      "source": [
        "You can see that 80% accuracy seems to be tough hurdle to overcome with this data set and a CNN might not be well equipped. The reason for such a plateau might be that:\r\n",
        "\r\n",
        "- There are not enough training samples\r\n",
        "- The data you have does not generalize well\r\n",
        "- Missing focus on tweaking the hyperparameters\r\n",
        "\r\n",
        "CNNs work best with large training sets where they are able to find generalizations where a simple model like logistic regression won’t be able."
      ]
    },
    {
      "cell_type": "markdown",
      "metadata": {
        "id": "MlxQFgEr3r5r"
      },
      "source": [
        "## Hyperparameters Optimization"
      ]
    },
    {
      "cell_type": "markdown",
      "metadata": {
        "id": "3ZXpU2kM3yEi"
      },
      "source": [
        "One crucial steps of deep learning and working with neural networks is [hyperparameter optimization](https://en.wikipedia.org/wiki/Hyperparameter_optimization).\r\n",
        "\r\n",
        "As you saw in the models that we have used so far, even with simpler ones, you had a large number of parameters to tweak and choose from. Those parameters are called hyperparameters. This is the most time consuming part of machine learning and sadly there are no one-fits-all solutions ready.\r\n",
        "\r\n",
        "When you have a look at the competitions on [Kaggle](http://kaggle.com/), one of the largest places to compete against other fellow data scientists, you can see that many of the winning teams and models have gone through a lot of tweaking and experimenting until they reached their prime. So don’t get discouraged when it gets tough and you reach a plateau, but rather think about the ways you could optimize the model or the data.\r\n",
        "\r\n",
        "One popular method for hyperparameter optimization is [grid search](https://en.wikipedia.org/wiki/Hyperparameter_optimization#Grid_search). What this method does is it takes lists of parameters and it runs the model with each parameter combination that it can find. It is the most thorough way but also the most computationally heavy way to do this. Another common way, random search, which you’ll see in action here, simply takes random combinations of parameters.\r\n",
        "\r\n",
        "In order to apply random search with Keras, you will need to use the [KerasClassifier](https://keras.io/scikit-learn-api/) which serves as a wrapper for the [scikit-learn API](http://scikit-learn.org/). With this wrapper you are able to use the various tools available with scikit-learn like [cross-validation](http://scikit-learn.org/stable/modules/cross_validation.html). The class that you need is [RandomizedSearchCV](http://scikit-learn.org/stable/modules/generated/sklearn.model_selection.RandomizedSearchCV.html) which implements random search with cross-validation. Cross-validation is a way to validate the model and take the whole data set and separate it into multiple testing and training data sets.\r\n",
        "\r\n",
        "There are various types of cross-validation. One type is the **k-fold cross-validation** which you’ll see in this example. In this type the data set is partitioned into k equal sized sets where one set is used for testing and the rest of the partitions are used for training. This enables you to run k different runs, where each partition is once used as a testing set. So, the higher k is the more accurate the model evaluation is, but the smaller each testing set is.\r\n",
        "\r\n",
        "First step for KerasClassifier is to have a function that creates a Keras model. We will use the previous model, but we will allow various parameters to be set for the hyperparameter optimization:"
      ]
    },
    {
      "cell_type": "code",
      "metadata": {
        "id": "pDIFz8oq3cLp"
      },
      "source": [
        "def create_model(num_filters, kernel_size, vocab_size, embedding_dim, maxlen):\r\n",
        "    model = Sequential()\r\n",
        "    model.add(layers.Embedding(vocab_size, embedding_dim, input_length=maxlen))\r\n",
        "    model.add(layers.Conv1D(num_filters, kernel_size, activation='relu'))\r\n",
        "    model.add(layers.GlobalMaxPooling1D())\r\n",
        "    model.add(layers.Dense(10, activation='relu'))\r\n",
        "    model.add(layers.Dense(1, activation='sigmoid'))\r\n",
        "    model.compile(optimizer='adam',\r\n",
        "                  loss='binary_crossentropy',\r\n",
        "                  metrics=['accuracy'])\r\n",
        "    return model"
      ],
      "execution_count": 39,
      "outputs": []
    },
    {
      "cell_type": "markdown",
      "metadata": {
        "id": "KT62yhk84vcD"
      },
      "source": [
        "Next, you want to define the parameter grid that you want to use in training. This consists of a dictionary with each parameters named as in the previous function. The number of spaces on the grid is 3 * 3 * 1 * 1 * 1, where each of those numbers is the number of different choices for a given parameter.\r\n",
        "\r\n",
        "You can see how this could get computationally expensive very quickly, but luckily both grid search and random search are embarrassingly parallel, and the classes come with an n_jobs parameter that lets you test grid spaces in parallel. The parameter grid is initialized with the following dictionary:"
      ]
    },
    {
      "cell_type": "code",
      "metadata": {
        "id": "qR7YtXko4rLn"
      },
      "source": [
        "param_grid = dict(num_filters=[32, 64, 128],\r\n",
        "                  kernel_size=[3, 5, 7],\r\n",
        "                  vocab_size=[5000], \r\n",
        "                  embedding_dim=[50],\r\n",
        "                  maxlen=[100])"
      ],
      "execution_count": 40,
      "outputs": []
    },
    {
      "cell_type": "markdown",
      "metadata": {
        "id": "fGiCR5Sw44d7"
      },
      "source": [
        "Now you are already ready to start running the random search. In this example we iterate over each data set and then you want to preprocess the data in the same way as previously. Afterwards you take the previous function and add it to the KerasClassifier wrapper class including the number of epochs.\r\n",
        "\r\n",
        "The resulting instance and the parameter grid are then used as the estimator in the RandomSearchCV class. Additionally, you can choose the number of folds in the k-folds cross-validation, which is in this case 4. You have seen most of the code in this snippet before in our previous examples. Besides the RandomSearchCV and KerasClassifier, I have added a little block of code handling the evaluation:"
      ]
    },
    {
      "cell_type": "code",
      "metadata": {
        "colab": {
          "base_uri": "https://localhost:8080/"
        },
        "id": "arcH1Zz-40I1",
        "outputId": "c2a1303c-b4d4-446f-a294-d982a6be146f"
      },
      "source": [
        "from keras.wrappers.scikit_learn import KerasClassifier\r\n",
        "from sklearn.model_selection import RandomizedSearchCV\r\n",
        "\r\n",
        "# Main settings\r\n",
        "epochs = 20\r\n",
        "embedding_dim = 50\r\n",
        "maxlen = 100\r\n",
        "outPath = '/gdrive/MyDrive/Colab Notebooks/BinaryTextClassification/Keras/Sentiment Labelled Sentences/'\r\n",
        "output_file = outPath + 'data/output.txt'\r\n",
        "\r\n",
        "# Run grid search for each source (yelp, amazon, imdb)\r\n",
        "for source, frame in df.groupby('source'):\r\n",
        "    print('Running grid search for data set :', source)\r\n",
        "    sentences = df['sentence'].values\r\n",
        "    y = df['label'].values\r\n",
        "\r\n",
        "    # Train-test split\r\n",
        "    sentences_train, sentences_test, y_train, y_test = train_test_split(\r\n",
        "        sentences, y, test_size=0.25, random_state=1000)\r\n",
        "\r\n",
        "    # Tokenize words\r\n",
        "    tokenizer = Tokenizer(num_words=5000)\r\n",
        "    tokenizer.fit_on_texts(sentences_train)\r\n",
        "    X_train = tokenizer.texts_to_sequences(sentences_train)\r\n",
        "    X_test = tokenizer.texts_to_sequences(sentences_test)\r\n",
        "\r\n",
        "    # Adding 1 because of reserved 0 index\r\n",
        "    vocab_size = len(tokenizer.word_index) + 1\r\n",
        "\r\n",
        "    # Pad sequences with zeros\r\n",
        "    X_train = pad_sequences(X_train, padding='post', maxlen=maxlen)\r\n",
        "    X_test = pad_sequences(X_test, padding='post', maxlen=maxlen)\r\n",
        "\r\n",
        "    # Parameter grid for grid search\r\n",
        "    param_grid = dict(num_filters=[32, 64, 128],\r\n",
        "                      kernel_size=[3, 5, 7],\r\n",
        "                      vocab_size=[vocab_size],\r\n",
        "                      embedding_dim=[embedding_dim],\r\n",
        "                      maxlen=[maxlen])\r\n",
        "    model = KerasClassifier(build_fn=create_model,\r\n",
        "                            epochs=epochs, batch_size=10,\r\n",
        "                            verbose=False)\r\n",
        "    grid = RandomizedSearchCV(estimator=model, param_distributions=param_grid,\r\n",
        "                              cv=4, verbose=1, n_iter=5)\r\n",
        "    grid_result = grid.fit(X_train, y_train)\r\n",
        "\r\n",
        "    # Evaluate testing set\r\n",
        "    test_accuracy = grid.score(X_test, y_test)\r\n",
        "\r\n",
        "    # Save and evaluate results\r\n",
        "    prompt = input(f'finished {source}; write to file and proceed? [y/n]')\r\n",
        "    if prompt.lower() not in {'y', 'true', 'yes'}:\r\n",
        "        break\r\n",
        "    with open(output_file, 'a') as f:\r\n",
        "        s = ('Running {} data set\\nBest Accuracy : '\r\n",
        "             '{:.4f}\\n{}\\nTest Accuracy : {:.4f}\\n\\n')\r\n",
        "        output_string = s.format(\r\n",
        "            source,\r\n",
        "            grid_result.best_score_,\r\n",
        "            grid_result.best_params_,\r\n",
        "            test_accuracy)\r\n",
        "        print(output_string)\r\n",
        "        f.write(output_string)"
      ],
      "execution_count": 41,
      "outputs": [
        {
          "output_type": "stream",
          "text": [
            "Running grid search for data set : amazon\n",
            "Fitting 4 folds for each of 5 candidates, totalling 20 fits\n"
          ],
          "name": "stdout"
        },
        {
          "output_type": "stream",
          "text": [
            "[Parallel(n_jobs=1)]: Using backend SequentialBackend with 1 concurrent workers.\n",
            "[Parallel(n_jobs=1)]: Done  20 out of  20 | elapsed:  8.2min finished\n"
          ],
          "name": "stderr"
        },
        {
          "output_type": "stream",
          "text": [
            "finished amazon; write to file and proceed? [y/n]y\n",
            "Running amazon data set\n",
            "Best Accuracy : 0.8142\n",
            "{'vocab_size': 4603, 'num_filters': 64, 'maxlen': 100, 'kernel_size': 5, 'embedding_dim': 50}\n",
            "Test Accuracy : 0.8239\n",
            "\n",
            "\n",
            "Running grid search for data set : imdb\n",
            "Fitting 4 folds for each of 5 candidates, totalling 20 fits\n"
          ],
          "name": "stdout"
        },
        {
          "output_type": "stream",
          "text": [
            "[Parallel(n_jobs=1)]: Using backend SequentialBackend with 1 concurrent workers.\n",
            "[Parallel(n_jobs=1)]: Done  20 out of  20 | elapsed:  7.9min finished\n"
          ],
          "name": "stderr"
        },
        {
          "output_type": "stream",
          "text": [
            "finished imdb; write to file and proceed? [y/n]y\n",
            "Running imdb data set\n",
            "Best Accuracy : 0.8147\n",
            "{'vocab_size': 4603, 'num_filters': 128, 'maxlen': 100, 'kernel_size': 3, 'embedding_dim': 50}\n",
            "Test Accuracy : 0.8384\n",
            "\n",
            "\n",
            "Running grid search for data set : yelp\n",
            "Fitting 4 folds for each of 5 candidates, totalling 20 fits\n"
          ],
          "name": "stdout"
        },
        {
          "output_type": "stream",
          "text": [
            "[Parallel(n_jobs=1)]: Using backend SequentialBackend with 1 concurrent workers.\n",
            "[Parallel(n_jobs=1)]: Done  20 out of  20 | elapsed:  9.9min finished\n"
          ],
          "name": "stderr"
        },
        {
          "output_type": "stream",
          "text": [
            "finished yelp; write to file and proceed? [y/n]y\n",
            "Running yelp data set\n",
            "Best Accuracy : 0.8147\n",
            "{'vocab_size': 4603, 'num_filters': 64, 'maxlen': 100, 'kernel_size': 5, 'embedding_dim': 50}\n",
            "Test Accuracy : 0.8341\n",
            "\n",
            "\n"
          ],
          "name": "stdout"
        }
      ]
    },
    {
      "cell_type": "markdown",
      "metadata": {
        "id": "oPhGsP__5Hsi"
      },
      "source": [
        "This takes a while which is a perfect chance to go outside to get some fresh air or even go on a hike, depending on how many models you want to run. Let’s take a look what we have got:"
      ]
    },
    {
      "cell_type": "markdown",
      "metadata": {
        "id": "5JjOhG8j57v8"
      },
      "source": [
        "Interesting! For some reason the testing accuracy is higher than the training accuracy which might be because there is a large variance in the scores during cross-validation. We can see that we were still not able to break much through the dreaded 80%, which seems to be a natural limit for this data with its given size. Remember that we have a small data set and convolutional neural networks tend to perform the best with large data sets.\r\n",
        "\r\n",
        "Another method for CV is the **nested cross-validation** (shown [here](http://scikit-learn.org/stable/tutorial/statistical_inference/model_selection.html#grid-search)) which is used when the hyperparameters also need to be optimized. This is used because the resulting non-nested CV model has a bias toward the data set which can lead to an overly optimistic score. You see, when doing hyperparameter optimization as we did in the previous example, we are picking the best hyperparameters for that specific training set but this does not mean that these hyperparameters generalize the best."
      ]
    },
    {
      "cell_type": "markdown",
      "metadata": {
        "id": "s4FJpM686LrL"
      },
      "source": [
        "## Conclusion"
      ]
    },
    {
      "cell_type": "markdown",
      "metadata": {
        "id": "EOSRb4qu6NZ9"
      },
      "source": [
        "There you have it: you have learned how to work with text classification with Keras, and we have gone from a bag-of-words model with logistic regression to increasingly more advanced methods leading to convolutional neural networks.\r\n",
        "\r\n",
        "You should be now familiar with word embeddings, why they are useful, and also how to use pretrained word embeddings for your training. You have also learned how to work with neural networks and how to use hyperparameter optimization to squeeze more performance out of your model.\r\n",
        "\r\n",
        "One big topic which we have not covered here left for another time was [recurrent neural networks](https://en.wikipedia.org/wiki/Recurrent_neural_network), more specifically [LSTM](https://en.wikipedia.org/wiki/Long_short-term_memory) and [GRU](https://en.wikipedia.org/wiki/Gated_recurrent_unit). Those are other powerful and popular tools to work with sequential data like text or time series. Other interesting developments are currently in neural networks that employ [attention](https://distill.pub/2016/augmented-rnns/) which are under active research and seem to be a promising next step since LSTM tend to be heavy on the computation.\r\n",
        "\r\n",
        "You have now an understanding of a crucial cornerstone in natural language processing which you can use for text classification of all sorts. Sentiment analysis is the most prominent example for this, but this includes many other applications such as:\r\n",
        "\r\n",
        "- Spam detection in emails\r\n",
        "- Automatic tagging of texts\r\n",
        "- Categorization of news articles with predefined topics\r\n",
        "\r\n",
        "You can use this knowledge and the models that you have trained on an advanced project as in this [tutorial](https://realpython.com/twitter-sentiment-python-docker-elasticsearch-kibana/) to employ sentiment analysis on a continuous stream of twitter data with Kibana and Elasticsearch. You could also combine sentiment analysis or text classification with speech recognition like in this handy [tutorial](https://realpython.com/python-speech-recognition/) using the SpeechRecognition library in Python."
      ]
    },
    {
      "cell_type": "markdown",
      "metadata": {
        "id": "OVWd93Og7IVU"
      },
      "source": [
        "# Further Reading"
      ]
    },
    {
      "cell_type": "markdown",
      "metadata": {
        "id": "zE8bZ1pI7L-b"
      },
      "source": [
        "If you want to delve deeper into the various topics from this article you can take a look at these links:\r\n",
        "\r\n",
        "- [AI researchers allege that machine learning is alchemy](http://www.sciencemag.org/news/2018/05/ai-researchers-allege-machine-learning-alchemy?es_p=6976017)\r\n",
        "- [When Will AI Exceed Human Performance? Evidence from AI Experts](https://arxiv.org/abs/1705.08807)\r\n",
        "- [Keras Code Examples](https://keras.io/examples/)\r\n",
        "- [Deep Learning, NLP, and Representations](http://colah.github.io/posts/2014-07-NLP-RNNs-Representations/)\r\n",
        "- [Word2Vec Paper](https://papers.nips.cc/paper/5021-distributed-representations-of-words-and-phrases-and-their-compositionality.pdf)\r\n",
        "- [GloVe Paper](https://nlp.stanford.edu/pubs/glove.pdf)\r\n"
      ]
    },
    {
      "cell_type": "code",
      "metadata": {
        "id": "qC-VTGO74-JU"
      },
      "source": [
        ""
      ],
      "execution_count": 41,
      "outputs": []
    }
  ]
}