{
  "nbformat": 4,
  "nbformat_minor": 0,
  "metadata": {
    "kernelspec": {
      "display_name": "Python 3",
      "language": "python",
      "name": "python3"
    },
    "language_info": {
      "codemirror_mode": {
        "name": "ipython",
        "version": 3
      },
      "file_extension": ".py",
      "mimetype": "text/x-python",
      "name": "python",
      "nbconvert_exporter": "python",
      "pygments_lexer": "ipython3",
      "version": "3.6.9"
    },
    "colab": {
      "name": "NER_with_BERT_Test_Local_TST_CONLL.ipynb",
      "provenance": [],
      "collapsed_sections": []
    },
    "accelerator": "GPU"
  },
  "cells": [
    {
      "cell_type": "markdown",
      "metadata": {
        "id": "-GsDDSmTM6N9"
      },
      "source": [
        "# NER with BERT in Spark NLP"
      ]
    },
    {
      "cell_type": "markdown",
      "metadata": {
        "id": "awDYzoXFI_vh"
      },
      "source": [
        "## Source\n",
        "\n",
        "https://github.com/JohnSnowLabs/spark-nlp-workshop/blob/master/tutorials/blogposts/3.NER_with_BERT.ipynb\n",
        "\n",
        "Article:\n",
        "https://towardsdatascience.com/named-entity-recognition-ner-with-bert-in-spark-nlp-874df20d1d77"
      ]
    },
    {
      "cell_type": "markdown",
      "metadata": {
        "id": "3TZw9vE5M6OH"
      },
      "source": [
        "## Installation"
      ]
    },
    {
      "cell_type": "code",
      "metadata": {
        "id": "LRhmsIcCM6OH",
        "colab": {
          "base_uri": "https://localhost:8080/"
        },
        "outputId": "3af596d3-87df-461a-f313-463f2108777c"
      },
      "source": [
        "# This is only to setup PySpark and Spark NLP on Colab\n",
        "!wget http://setup.johnsnowlabs.com/colab.sh -O - | bash"
      ],
      "execution_count": null,
      "outputs": [
        {
          "output_type": "stream",
          "text": [
            "--2021-06-16 08:54:04--  http://setup.johnsnowlabs.com/colab.sh\n",
            "Resolving setup.johnsnowlabs.com (setup.johnsnowlabs.com)... 51.158.130.125\n",
            "Connecting to setup.johnsnowlabs.com (setup.johnsnowlabs.com)|51.158.130.125|:80... connected.\n",
            "HTTP request sent, awaiting response... 302 Moved Temporarily\n",
            "Location: https://raw.githubusercontent.com/JohnSnowLabs/spark-nlp/master/scripts/colab_setup.sh [following]\n",
            "--2021-06-16 08:54:04--  https://raw.githubusercontent.com/JohnSnowLabs/spark-nlp/master/scripts/colab_setup.sh\n",
            "Resolving raw.githubusercontent.com (raw.githubusercontent.com)... 185.199.108.133, 185.199.111.133, 185.199.110.133, ...\n",
            "Connecting to raw.githubusercontent.com (raw.githubusercontent.com)|185.199.108.133|:443... connected.\n",
            "HTTP request sent, awaiting response... 200 OK\n",
            "Length: 1608 (1.6K) [text/plain]\n",
            "Saving to: ‘STDOUT’\n",
            "\n",
            "-                   100%[===================>]   1.57K  --.-KB/s    in 0s      \n",
            "\n",
            "2021-06-16 08:54:04 (31.4 MB/s) - written to stdout [1608/1608]\n",
            "\n",
            "setup Colab for PySpark 3.0.2 and Spark NLP 3.1.0\n",
            "Get:1 http://ppa.launchpad.net/c2d4u.team/c2d4u4.0+/ubuntu bionic InRelease [15.9 kB]\n",
            "Hit:2 http://archive.ubuntu.com/ubuntu bionic InRelease\n",
            "Get:3 http://archive.ubuntu.com/ubuntu bionic-updates InRelease [88.7 kB]\n",
            "Hit:4 http://ppa.launchpad.net/cran/libgit2/ubuntu bionic InRelease\n",
            "Get:5 https://cloud.r-project.org/bin/linux/ubuntu bionic-cran40/ InRelease [3,626 B]\n",
            "Get:6 http://ppa.launchpad.net/deadsnakes/ppa/ubuntu bionic InRelease [15.9 kB]\n",
            "Get:7 http://archive.ubuntu.com/ubuntu bionic-backports InRelease [74.6 kB]\n",
            "Get:8 http://ppa.launchpad.net/graphics-drivers/ppa/ubuntu bionic InRelease [21.3 kB]\n",
            "Get:9 http://security.ubuntu.com/ubuntu bionic-security InRelease [88.7 kB]\n",
            "Ign:10 https://developer.download.nvidia.com/compute/cuda/repos/ubuntu1804/x86_64  InRelease\n",
            "Ign:11 https://developer.download.nvidia.com/compute/machine-learning/repos/ubuntu1804/x86_64  InRelease\n",
            "Get:12 https://developer.download.nvidia.com/compute/cuda/repos/ubuntu1804/x86_64  Release [697 B]\n",
            "Hit:13 https://developer.download.nvidia.com/compute/machine-learning/repos/ubuntu1804/x86_64  Release\n",
            "Get:14 https://developer.download.nvidia.com/compute/cuda/repos/ubuntu1804/x86_64  Release.gpg [836 B]\n",
            "Get:15 http://ppa.launchpad.net/c2d4u.team/c2d4u4.0+/ubuntu bionic/main Sources [1,772 kB]\n",
            "Get:16 http://ppa.launchpad.net/c2d4u.team/c2d4u4.0+/ubuntu bionic/main amd64 Packages [906 kB]\n",
            "Get:17 https://cloud.r-project.org/bin/linux/ubuntu bionic-cran40/ Packages [61.8 kB]\n",
            "Get:18 http://archive.ubuntu.com/ubuntu bionic-updates/universe amd64 Packages [2,185 kB]\n",
            "Get:19 http://archive.ubuntu.com/ubuntu bionic-updates/main amd64 Packages [2,619 kB]\n",
            "Get:20 http://archive.ubuntu.com/ubuntu bionic-updates/restricted amd64 Packages [481 kB]\n",
            "Get:21 http://archive.ubuntu.com/ubuntu bionic-updates/multiverse amd64 Packages [33.5 kB]\n",
            "Get:22 http://ppa.launchpad.net/deadsnakes/ppa/ubuntu bionic/main amd64 Packages [40.9 kB]\n",
            "Get:23 http://ppa.launchpad.net/graphics-drivers/ppa/ubuntu bionic/main amd64 Packages [41.6 kB]\n",
            "Ign:25 https://developer.download.nvidia.com/compute/cuda/repos/ubuntu1804/x86_64  Packages\n",
            "Get:25 https://developer.download.nvidia.com/compute/cuda/repos/ubuntu1804/x86_64  Packages [800 kB]\n",
            "Get:26 http://security.ubuntu.com/ubuntu bionic-security/universe amd64 Packages [1,415 kB]\n",
            "Get:27 http://security.ubuntu.com/ubuntu bionic-security/main amd64 Packages [2,185 kB]\n",
            "Get:28 http://security.ubuntu.com/ubuntu bionic-security/restricted amd64 Packages [450 kB]\n",
            "Fetched 13.3 MB in 3s (3,885 kB/s)\n",
            "Reading package lists... Done\n",
            "\u001b[K     |████████████████████████████████| 204.8MB 75kB/s \n",
            "\u001b[K     |████████████████████████████████| 51kB 6.3MB/s \n",
            "\u001b[K     |████████████████████████████████| 204kB 45.1MB/s \n",
            "\u001b[?25h  Building wheel for pyspark (setup.py) ... \u001b[?25l\u001b[?25hdone\n"
          ],
          "name": "stdout"
        }
      ]
    },
    {
      "cell_type": "markdown",
      "metadata": {
        "id": "ylCinY-tM6OI"
      },
      "source": [
        "## Import libraries and download datasets"
      ]
    },
    {
      "cell_type": "code",
      "metadata": {
        "id": "A6rnibyVM6OI"
      },
      "source": [
        "import sparknlp\n",
        "from sparknlp.annotator import *\n",
        "from sparknlp.base import *"
      ],
      "execution_count": null,
      "outputs": []
    },
    {
      "cell_type": "code",
      "metadata": {
        "id": "O9mD4BObM6OI",
        "colab": {
          "base_uri": "https://localhost:8080/"
        },
        "outputId": "e83f317b-dd93-4cae-8729-ea91b79db563"
      },
      "source": [
        "# if you have GPU\n",
        "spark = sparknlp.start(gpu=True)\n",
        "#spark = sparknlp.start()\n",
        "\n",
        "print(\"Spark NLP version: \", sparknlp.version())\n",
        "print(\"Apache Spark version: \", spark.version)"
      ],
      "execution_count": null,
      "outputs": [
        {
          "output_type": "stream",
          "text": [
            "Spark NLP version:  3.1.0\n",
            "Apache Spark version:  3.0.2\n"
          ],
          "name": "stdout"
        }
      ]
    },
    {
      "cell_type": "code",
      "metadata": {
        "colab": {
          "base_uri": "https://localhost:8080/"
        },
        "id": "2SXOC6fIxoF_",
        "outputId": "84120fdd-7370-4a50-d500-3e3b22bdf917"
      },
      "source": [
        "from google.colab import drive\n",
        "drive.mount('/gdrive')"
      ],
      "execution_count": null,
      "outputs": [
        {
          "output_type": "stream",
          "text": [
            "Mounted at /gdrive\n"
          ],
          "name": "stdout"
        }
      ]
    },
    {
      "cell_type": "code",
      "metadata": {
        "colab": {
          "base_uri": "https://localhost:8080/"
        },
        "id": "WVJ0rnfAxknX",
        "outputId": "d4e12218-7e58-4243-ada3-7ec210bd6d11"
      },
      "source": [
        "path = \"/gdrive/MyDrive/Colab Notebooks/SparkNLP/NER/CONLLs/\"\n",
        "!ls {path.replace(' ', '\\ ')} -lah"
      ],
      "execution_count": null,
      "outputs": [
        {
          "output_type": "stream",
          "text": [
            "total 7.9M\n",
            "-rw------- 1 root root 809K Jun 16 07:49 eng.testa\n",
            "-rw------- 1 root root 3.2M Jun 16 07:49 eng.train\n",
            "-rw------- 1 root root 809K Jun 16 08:52 eng_TST.testa\n",
            "-rw------- 1 root root 3.2M Jun 16 08:52 eng_TST.train\n"
          ],
          "name": "stdout"
        }
      ]
    },
    {
      "cell_type": "code",
      "metadata": {
        "id": "Ksp7t3WKM6OK",
        "colab": {
          "base_uri": "https://localhost:8080/"
        },
        "outputId": "c2dcaaa5-6497-4265-e353-543819b13228"
      },
      "source": [
        "#\n",
        "# Open local CONLL file\n",
        "# eng_TST.train & eng_TST.testa files contains B-TST & I-TST tags\n",
        "# (instead of B-ORG & I-ORG) to test whether tags can be changed\n",
        "# using this approach (this change appears to work) \n",
        "#\n",
        "with open(path + \"eng_TST.train\") as f:\n",
        "    c=f.read()\n",
        "\n",
        "print (c[:200])"
      ],
      "execution_count": null,
      "outputs": [
        {
          "output_type": "stream",
          "text": [
            "-DOCSTART- -X- -X- O\n",
            "\n",
            "EU NNP B-NP B-TST\n",
            "rejects VBZ B-VP O\n",
            "German JJ B-NP B-MISC\n",
            "call NN I-NP O\n",
            "to TO B-VP O\n",
            "boycott VB I-VP O\n",
            "British JJ B-NP B-MISC\n",
            "lamb NN I-NP O\n",
            ". . O O\n",
            "\n",
            "Peter NNP B-NP B-PER\n",
            "Black\n"
          ],
          "name": "stdout"
        }
      ]
    },
    {
      "cell_type": "markdown",
      "metadata": {
        "id": "3sNhRXZ1M6OK"
      },
      "source": [
        "## Building NER pipeline"
      ]
    },
    {
      "cell_type": "code",
      "metadata": {
        "id": "cOgifXmgM6OL",
        "colab": {
          "base_uri": "https://localhost:8080/"
        },
        "outputId": "ce890158-c363-46ec-a3ce-db84236b29ad"
      },
      "source": [
        "from sparknlp.training import CoNLL\n",
        "\n",
        "training_data = CoNLL().readDataset(spark, path + \"eng_TST.train\")\n",
        "training_data.show(3)"
      ],
      "execution_count": null,
      "outputs": [
        {
          "output_type": "stream",
          "text": [
            "+--------------------+--------------------+--------------------+--------------------+--------------------+--------------------+\n",
            "|                text|            document|            sentence|               token|                 pos|               label|\n",
            "+--------------------+--------------------+--------------------+--------------------+--------------------+--------------------+\n",
            "|EU rejects German...|[[document, 0, 47...|[[document, 0, 47...|[[token, 0, 1, EU...|[[pos, 0, 1, NNP,...|[[named_entity, 0...|\n",
            "|     Peter Blackburn|[[document, 0, 14...|[[document, 0, 14...|[[token, 0, 4, Pe...|[[pos, 0, 4, NNP,...|[[named_entity, 0...|\n",
            "| BRUSSELS 1996-08-22|[[document, 0, 18...|[[document, 0, 18...|[[token, 0, 7, BR...|[[pos, 0, 7, NNP,...|[[named_entity, 0...|\n",
            "+--------------------+--------------------+--------------------+--------------------+--------------------+--------------------+\n",
            "only showing top 3 rows\n",
            "\n"
          ],
          "name": "stdout"
        }
      ]
    },
    {
      "cell_type": "code",
      "metadata": {
        "id": "S6R1bF9QM6OL",
        "colab": {
          "base_uri": "https://localhost:8080/"
        },
        "outputId": "dc8e295a-681c-42f3-8d47-e3fe2154a03f"
      },
      "source": [
        "training_data.count()"
      ],
      "execution_count": null,
      "outputs": [
        {
          "output_type": "execute_result",
          "data": {
            "text/plain": [
              "14041"
            ]
          },
          "metadata": {
            "tags": []
          },
          "execution_count": 12
        }
      ]
    },
    {
      "cell_type": "markdown",
      "metadata": {
        "id": "FPHBKA1FM6OL"
      },
      "source": [
        "### Loading Bert"
      ]
    },
    {
      "cell_type": "markdown",
      "metadata": {
        "id": "b4IA9Rn0M6OL"
      },
      "source": [
        "In Spark NLP, we have four pre-trained variants of BERT: bert_base_uncased , bert_base_cased , bert_large_uncased , bert_large_cased, and many Smaller BERT models available on our [Models Hub](https://nlp.johnsnowlabs.com/models?q=bert&task=Embeddings). Which one to use depends on your use case, train set, and the complexity of the task you are trying to model.\n",
        "\n",
        "In the code snippet above, we basically load the bert_base_cased version from Spark NLP public resources and point the sentence and token columns in   setInputCols(). In short, BertEmbeddings() annotator will take sentence and token columns and populate Bert embeddings in bert column. In general, each word is translated to a 768-dimensional vector.\n",
        "\n",
        "As explained by the authors of official BERT paper, different BERT layers capture different information. The last layer is too closed to the target functions (i.e. masked language model and next sentence prediction) during pre-training, therefore it may be biased to those targets. "
      ]
    },
    {
      "cell_type": "code",
      "metadata": {
        "id": "Y-HV69OEM6OM",
        "colab": {
          "base_uri": "https://localhost:8080/"
        },
        "outputId": "38ab39ea-47bb-4df5-af15-a0e35f75a62d"
      },
      "source": [
        "# we use BERT Tiny\n",
        "bert_annotator = BertEmbeddings.pretrained('small_bert_L2_128', 'en') \\\n",
        " .setInputCols([\"sentence\",'token'])\\\n",
        " .setOutputCol(\"bert\")\\\n",
        ".setBatchSize(8)"
      ],
      "execution_count": null,
      "outputs": [
        {
          "output_type": "stream",
          "text": [
            "small_bert_L2_128 download started this may take some time.\n",
            "Approximate size to download 16.1 MB\n",
            "[OK!]\n"
          ],
          "name": "stdout"
        }
      ]
    },
    {
      "cell_type": "code",
      "metadata": {
        "id": "zVs0qpz7M6OM",
        "colab": {
          "base_uri": "https://localhost:8080/"
        },
        "outputId": "ceaf8a0d-ee5b-4379-9167-0b58eb597f8c"
      },
      "source": [
        "from sparknlp.training import CoNLL\n",
        "\n",
        "test_data = CoNLL().readDataset(spark, path + 'eng_TST.testa')\n",
        "\n",
        "test_data = bert_annotator.transform(test_data)\n",
        "\n",
        "test_data.show(3)"
      ],
      "execution_count": null,
      "outputs": [
        {
          "output_type": "stream",
          "text": [
            "+--------------------+--------------------+--------------------+--------------------+--------------------+--------------------+--------------------+\n",
            "|                text|            document|            sentence|               token|                 pos|               label|                bert|\n",
            "+--------------------+--------------------+--------------------+--------------------+--------------------+--------------------+--------------------+\n",
            "|CRICKET - LEICEST...|[[document, 0, 64...|[[document, 0, 64...|[[token, 0, 6, CR...|[[pos, 0, 6, NNP,...|[[named_entity, 0...|[[word_embeddings...|\n",
            "|   LONDON 1996-08-30|[[document, 0, 16...|[[document, 0, 16...|[[token, 0, 5, LO...|[[pos, 0, 5, NNP,...|[[named_entity, 0...|[[word_embeddings...|\n",
            "|West Indian all-r...|[[document, 0, 18...|[[document, 0, 18...|[[token, 0, 3, We...|[[pos, 0, 3, NNP,...|[[named_entity, 0...|[[word_embeddings...|\n",
            "+--------------------+--------------------+--------------------+--------------------+--------------------+--------------------+--------------------+\n",
            "only showing top 3 rows\n",
            "\n"
          ],
          "name": "stdout"
        }
      ]
    },
    {
      "cell_type": "code",
      "metadata": {
        "id": "mM-nQblLPkPf"
      },
      "source": [
        "# let's transform and save our test dataset for evaluation\n",
        "test_data.write.parquet(\"test_withEmbeds.parquet\")"
      ],
      "execution_count": null,
      "outputs": []
    },
    {
      "cell_type": "code",
      "metadata": {
        "id": "9vufW7YRM6ON",
        "colab": {
          "base_uri": "https://localhost:8080/"
        },
        "outputId": "695b6263-2a65-43aa-8b15-0a85cff42735"
      },
      "source": [
        "test_data.select(\"bert.result\",\"bert.embeddings\",'label.result').show()"
      ],
      "execution_count": null,
      "outputs": [
        {
          "output_type": "stream",
          "text": [
            "+--------------------+--------------------+--------------------+\n",
            "|              result|          embeddings|              result|\n",
            "+--------------------+--------------------+--------------------+\n",
            "|[cricket, -, leic...|[[-1.6099579, 0.5...|[O, O, B-TST, O, ...|\n",
            "|[london, 1996-08-30]|[[-0.6607419, 0.7...|          [B-LOC, O]|\n",
            "|[west, indian, al...|[[-1.2108911, 0.9...|[B-MISC, I-MISC, ...|\n",
            "|[their, stay, on,...|[[-0.9397633, 0.0...|[O, O, O, O, O, O...|\n",
            "|[after, bowling, ...|[[-1.1267813, 1.1...|[O, O, B-TST, O, ...|\n",
            "|[trailing, by, 21...|[[-1.8359275, 0.4...|[O, O, O, O, B-TS...|\n",
            "|[essex, ,, howeve...|[[-1.2150196, 0.2...|[B-TST, O, O, O, ...|\n",
            "|[hussain, ,, cons...|[[-1.6078968, 0.5...|[B-PER, O, O, O, ...|\n",
            "|[by, the, close, ...|[[-1.8683753, 1.1...|[O, O, O, B-TST, ...|\n",
            "|[at, the, oval, ,...|[[-1.8740944, 0.6...|[O, O, B-LOC, O, ...|\n",
            "|[he, was, well, b...|[[-1.6607122, 1.2...|[O, O, O, O, O, B...|\n",
            "|[derbyshire, kept...|[[-1.1823792, 0.2...|[B-TST, O, O, O, ...|\n",
            "|[australian, tom,...|[[-1.1873053, 2.1...|[B-MISC, B-PER, I...|\n",
            "|[after, the, frus...|[[-1.8415064, 1.3...|[O, O, O, O, O, O...|\n",
            "|[they, were, held...|[[-1.260818, 0.87...|[O, O, O, O, O, O...|\n",
            "|[by, stumps, kent...|[[-1.6587896, 1.5...|[O, O, B-TST, O, ...|\n",
            "|[cricket, -, engl...|[[-1.5593733, 0.2...|[O, O, B-MISC, I-...|\n",
            "|[london, 1996-08-30]|[[-0.6607419, 0.7...|          [B-LOC, O]|\n",
            "|[result, and, clo...|[[-2.252652, 0.29...|[O, O, O, O, O, O...|\n",
            "|[leicester, :, le...|[[-0.96010125, 0....|[B-LOC, O, B-TST,...|\n",
            "+--------------------+--------------------+--------------------+\n",
            "only showing top 20 rows\n",
            "\n"
          ],
          "name": "stdout"
        }
      ]
    },
    {
      "cell_type": "code",
      "metadata": {
        "id": "jJyP74zgM6OQ"
      },
      "source": [
        "nerTagger = NerDLApproach()\\\n",
        "  .setInputCols([\"sentence\", \"token\", \"bert\"])\\\n",
        "  .setLabelColumn(\"label\")\\\n",
        "  .setOutputCol(\"ner\")\\\n",
        "  .setMaxEpochs(5)\\\n",
        "  .setLr(0.001)\\\n",
        "  .setPo(0.005)\\\n",
        "  .setBatchSize(32)\\\n",
        "  .setEvaluationLogExtended(True) \\\n",
        "  .setEnableOutputLogs(True)\\\n",
        "  .setTestDataset(\"test_withEmbeds.parquet\")\n",
        "\n",
        "pipeline = Pipeline(\n",
        "    stages = [\n",
        "    bert_annotator,\n",
        "    nerTagger\n",
        "  ])"
      ],
      "execution_count": null,
      "outputs": []
    },
    {
      "cell_type": "markdown",
      "metadata": {
        "id": "kYJT6mHLM6OQ"
      },
      "source": [
        "You can also set learning rate ( setLr ), learning rate decay coefficient ( setPo ), setBatchSize and setDropout rate. Please see the [official APIs](https://nlp.johnsnowlabs.com/api/com/johnsnowlabs/nlp/annotators/ner/dl/NerDLApproach.html) for the entire list. "
      ]
    },
    {
      "cell_type": "code",
      "metadata": {
        "id": "2wCMb1XmM6OR",
        "colab": {
          "base_uri": "https://localhost:8080/"
        },
        "outputId": "59da94e8-28e3-4305-a785-3efb51bae1fb"
      },
      "source": [
        "%%time\n",
        "\n",
        "ner_model = pipeline.fit(training_data)"
      ],
      "execution_count": null,
      "outputs": [
        {
          "output_type": "stream",
          "text": [
            "CPU times: user 2.52 s, sys: 396 ms, total: 2.91 s\n",
            "Wall time: 9min 5s\n"
          ],
          "name": "stdout"
        }
      ]
    },
    {
      "cell_type": "code",
      "metadata": {
        "id": "VtLbO6RfP-y7",
        "colab": {
          "base_uri": "https://localhost:8080/"
        },
        "outputId": "fdcd0dfb-bbe0-4253-bb84-cb5be5c8fab5"
      },
      "source": [
        "!ls -l /root/annotator_logs/"
      ],
      "execution_count": null,
      "outputs": [
        {
          "output_type": "stream",
          "text": [
            "total 8\n",
            "-rw-r--r-- 1 root root 4210 Jun 16 09:07 NerDLApproach_78a48b94535a.log\n"
          ],
          "name": "stdout"
        }
      ]
    },
    {
      "cell_type": "code",
      "metadata": {
        "id": "4zAvs21PQDU1",
        "colab": {
          "base_uri": "https://localhost:8080/"
        },
        "outputId": "050078f4-f63b-482b-f06b-abc7352eec89"
      },
      "source": [
        "!cat /root/annotator_logs/NerDLApproach_*.log"
      ],
      "execution_count": null,
      "outputs": [
        {
          "output_type": "stream",
          "text": [
            "Name of the selected graph: ner-dl/blstm_10_128_128_120.pb\n",
            "Training started - total epochs: 5 - lr: 0.001 - batch size: 32 - labels: 9 - chars: 58 - training examples: 14041\n",
            "\n",
            "\n",
            "Epoch 1/5 started, lr: 0.001, dataset size: 14041\n",
            "\n",
            "\n",
            "Epoch 1/5 - 103.49s - loss: 2545.3042 - batches: 441\n",
            "Quality on test dataset: \n",
            "time to finish evaluation: 7.75s\n",
            "label\t tp\t fp\t fn\t prec\t rec\t f1\n",
            "B-LOC\t 1490\t 280\t 347\t 0.8418079\t 0.8111051\t 0.8261713\n",
            "B-TST\t 634\t 122\t 707\t 0.83862436\t 0.4727815\t 0.6046734\n",
            "I-TST\t 217\t 80\t 534\t 0.73063976\t 0.28894806\t 0.41412216\n",
            "I-MISC\t 97\t 31\t 249\t 0.7578125\t 0.2803468\t 0.40928265\n",
            "I-LOC\t 138\t 66\t 119\t 0.6764706\t 0.53696495\t 0.59869844\n",
            "I-PER\t 1239\t 206\t 65\t 0.85743946\t 0.95015335\t 0.9014187\n",
            "B-MISC\t 525\t 135\t 397\t 0.79545456\t 0.5694143\t 0.6637168\n",
            "B-PER\t 1667\t 511\t 173\t 0.7653811\t 0.90597826\t 0.8297661\n",
            "tp: 6007 fp: 1431 fn: 2591 labels: 8\n",
            "Macro-average\t prec: 0.78295374, rec: 0.60196155, f1: 0.68063086\n",
            "Micro-average\t prec: 0.80760956, rec: 0.69865084, f1: 0.7491893\n",
            "\n",
            "\n",
            "Epoch 2/5 started, lr: 9.950249E-4, dataset size: 14041\n",
            "\n",
            "\n",
            "Epoch 2/5 - 72.20s - loss: 1195.9374 - batches: 441\n",
            "Quality on test dataset: \n",
            "time to finish evaluation: 6.95s\n",
            "label\t tp\t fp\t fn\t prec\t rec\t f1\n",
            "B-LOC\t 1580\t 239\t 257\t 0.86860913\t 0.860098\t 0.8643326\n",
            "B-TST\t 914\t 277\t 427\t 0.7674223\t 0.6815809\t 0.7219589\n",
            "I-TST\t 340\t 138\t 411\t 0.7112971\t 0.4527297\t 0.55329543\n",
            "I-MISC\t 129\t 26\t 217\t 0.83225805\t 0.37283236\t 0.51497\n",
            "I-LOC\t 159\t 52\t 98\t 0.7535545\t 0.618677\t 0.6794872\n",
            "I-PER\t 1227\t 76\t 77\t 0.94167304\t 0.94095093\t 0.94131184\n",
            "B-MISC\t 545\t 59\t 377\t 0.9023179\t 0.5911063\t 0.71428573\n",
            "B-PER\t 1678\t 235\t 162\t 0.8771563\t 0.91195655\t 0.89421797\n",
            "tp: 6572 fp: 1102 fn: 2026 labels: 8\n",
            "Macro-average\t prec: 0.83178604, rec: 0.67874146, f1: 0.7475106\n",
            "Micro-average\t prec: 0.8563982, rec: 0.7643638, f1: 0.8077679\n",
            "\n",
            "\n",
            "Epoch 3/5 started, lr: 9.90099E-4, dataset size: 14041\n",
            "\n",
            "\n",
            "Epoch 3/5 - 71.56s - loss: 927.0357 - batches: 441\n",
            "Quality on test dataset: \n",
            "time to finish evaluation: 7.58s\n",
            "label\t tp\t fp\t fn\t prec\t rec\t f1\n",
            "B-LOC\t 1627\t 237\t 210\t 0.87285405\t 0.8856832\t 0.87922174\n",
            "B-TST\t 924\t 202\t 417\t 0.8206039\t 0.68903804\t 0.749088\n",
            "I-TST\t 411\t 121\t 340\t 0.77255636\t 0.5472703\t 0.6406859\n",
            "I-MISC\t 179\t 86\t 167\t 0.6754717\t 0.517341\t 0.58592474\n",
            "I-LOC\t 180\t 50\t 77\t 0.7826087\t 0.7003891\t 0.73921967\n",
            "I-PER\t 1247\t 85\t 57\t 0.9361862\t 0.95628834\t 0.94613045\n",
            "B-MISC\t 668\t 128\t 254\t 0.83919597\t 0.7245119\t 0.77764845\n",
            "B-PER\t 1689\t 195\t 151\t 0.89649683\t 0.9179348\t 0.9070891\n",
            "tp: 6925 fp: 1104 fn: 1673 labels: 8\n",
            "Macro-average\t prec: 0.82449675, rec: 0.7423071, f1: 0.7812462\n",
            "Micro-average\t prec: 0.86249846, rec: 0.80541986, f1: 0.83298254\n",
            "\n",
            "\n",
            "Epoch 4/5 started, lr: 9.852217E-4, dataset size: 14041\n",
            "\n",
            "\n",
            "Epoch 4/5 - 71.25s - loss: 773.3885 - batches: 441\n",
            "Quality on test dataset: \n",
            "time to finish evaluation: 6.94s\n",
            "label\t tp\t fp\t fn\t prec\t rec\t f1\n",
            "B-LOC\t 1620\t 185\t 217\t 0.89750695\t 0.8818726\t 0.8896211\n",
            "B-TST\t 1002\t 246\t 339\t 0.80288464\t 0.7472036\t 0.7740441\n",
            "I-TST\t 437\t 147\t 314\t 0.7482877\t 0.5818908\t 0.6546817\n",
            "I-MISC\t 181\t 68\t 165\t 0.7269076\t 0.5231214\t 0.6084033\n",
            "I-LOC\t 167\t 28\t 90\t 0.85641026\t 0.6498054\t 0.73893803\n",
            "I-PER\t 1249\t 80\t 55\t 0.9398044\t 0.9578221\t 0.9487277\n",
            "B-MISC\t 676\t 97\t 246\t 0.8745149\t 0.73318875\t 0.7976401\n",
            "B-PER\t 1723\t 214\t 117\t 0.8895199\t 0.93641305\t 0.9123643\n",
            "tp: 7055 fp: 1065 fn: 1543 labels: 8\n",
            "Macro-average\t prec: 0.8419795, rec: 0.75141466, f1: 0.79412335\n",
            "Micro-average\t prec: 0.86884236, rec: 0.82053965, f1: 0.8440004\n",
            "\n",
            "\n",
            "Epoch 5/5 started, lr: 9.803922E-4, dataset size: 14041\n",
            "\n",
            "\n",
            "Epoch 5/5 - 71.15s - loss: 666.74744 - batches: 441\n",
            "Quality on test dataset: \n",
            "time to finish evaluation: 6.87s\n",
            "label\t tp\t fp\t fn\t prec\t rec\t f1\n",
            "B-LOC\t 1649\t 185\t 188\t 0.8991276\t 0.89765924\t 0.89839286\n",
            "B-TST\t 1057\t 302\t 284\t 0.7777778\t 0.7882177\t 0.78296304\n",
            "I-TST\t 498\t 194\t 253\t 0.7196532\t 0.66311586\t 0.6902287\n",
            "I-MISC\t 187\t 75\t 159\t 0.71374047\t 0.54046243\t 0.6151316\n",
            "I-LOC\t 171\t 26\t 86\t 0.8680203\t 0.66536963\t 0.75330395\n",
            "I-PER\t 1232\t 43\t 72\t 0.9662745\t 0.9447853\t 0.95540905\n",
            "B-MISC\t 652\t 59\t 270\t 0.9170183\t 0.7071583\t 0.79853034\n",
            "B-PER\t 1669\t 118\t 171\t 0.93396753\t 0.9070652\t 0.9203198\n",
            "tp: 7115 fp: 1002 fn: 1483 labels: 8\n",
            "Macro-average\t prec: 0.8494475, rec: 0.7642292, f1: 0.80458814\n",
            "Micro-average\t prec: 0.8765554, rec: 0.82751805, f1: 0.8513312\n"
          ],
          "name": "stdout"
        }
      ]
    },
    {
      "cell_type": "markdown",
      "metadata": {
        "id": "oo-GNidLr1wt"
      },
      "source": [
        "**Some notes:**\n",
        "- we used the smallest BERT model called BERT Tiny\n",
        "- it's very small and requires less memory among Transformers\n",
        "- if you have more memory or access to accelerated hardware please choose a larger BERT model for higher accuracy\n",
        "- you can also set higher Epoch to reach our STOA metrics\n",
        "\n",
        "We chose the smallest BERT model with only 5 Epochs for the sake of this tutorial within this small Colab VM"
      ]
    },
    {
      "cell_type": "code",
      "metadata": {
        "id": "ApUISh0AM6OR"
      },
      "source": [
        "# let's save our trained NER model on disk\n",
        "# so we can load it in a new session or move it to another location\n",
        "# since we fit NerDL model inside the pipeline, we can access it via stages\n",
        "ner_model.stages[1].write().overwrite().save('./NER_bert_20200219')"
      ],
      "execution_count": null,
      "outputs": []
    },
    {
      "cell_type": "code",
      "metadata": {
        "colab": {
          "base_uri": "https://localhost:8080/"
        },
        "id": "WehIZ-d9s5Ok",
        "outputId": "d6629811-a542-482d-f3e6-b5b486df4945"
      },
      "source": [
        "test_data.show()"
      ],
      "execution_count": null,
      "outputs": [
        {
          "output_type": "stream",
          "text": [
            "+--------------------+--------------------+--------------------+--------------------+--------------------+--------------------+--------------------+\n",
            "|                text|            document|            sentence|               token|                 pos|               label|                bert|\n",
            "+--------------------+--------------------+--------------------+--------------------+--------------------+--------------------+--------------------+\n",
            "|CRICKET - LEICEST...|[[document, 0, 64...|[[document, 0, 64...|[[token, 0, 6, CR...|[[pos, 0, 6, NNP,...|[[named_entity, 0...|[[word_embeddings...|\n",
            "|   LONDON 1996-08-30|[[document, 0, 16...|[[document, 0, 16...|[[token, 0, 5, LO...|[[pos, 0, 5, NNP,...|[[named_entity, 0...|[[word_embeddings...|\n",
            "|West Indian all-r...|[[document, 0, 18...|[[document, 0, 18...|[[token, 0, 3, We...|[[pos, 0, 3, NNP,...|[[named_entity, 0...|[[word_embeddings...|\n",
            "|Their stay on top...|[[document, 0, 20...|[[document, 0, 20...|[[token, 0, 4, Th...|[[pos, 0, 4, PRP$...|[[named_entity, 0...|[[word_embeddings...|\n",
            "|After bowling Som...|[[document, 0, 21...|[[document, 0, 21...|[[token, 0, 4, Af...|[[pos, 0, 4, IN, ...|[[named_entity, 0...|[[word_embeddings...|\n",
            "|Trailing by 213 ,...|[[document, 0, 12...|[[document, 0, 12...|[[token, 0, 7, Tr...|[[pos, 0, 7, VBG,...|[[named_entity, 0...|[[word_embeddings...|\n",
            "|Essex , however ,...|[[document, 0, 16...|[[document, 0, 16...|[[token, 0, 4, Es...|[[pos, 0, 4, NNP,...|[[named_entity, 0...|[[word_embeddings...|\n",
            "|Hussain , conside...|[[document, 0, 18...|[[document, 0, 18...|[[token, 0, 6, Hu...|[[pos, 0, 6, NN, ...|[[named_entity, 0...|[[word_embeddings...|\n",
            "|By the close York...|[[document, 0, 20...|[[document, 0, 20...|[[token, 0, 1, By...|[[pos, 0, 1, IN, ...|[[named_entity, 0...|[[word_embeddings...|\n",
            "|At the Oval , Sur...|[[document, 0, 21...|[[document, 0, 21...|[[token, 0, 1, At...|[[pos, 0, 1, IN, ...|[[named_entity, 0...|[[word_embeddings...|\n",
            "|He was well backe...|[[document, 0, 11...|[[document, 0, 11...|[[token, 0, 1, He...|[[pos, 0, 1, PRP,...|[[named_entity, 0...|[[word_embeddings...|\n",
            "|Derbyshire kept u...|[[document, 0, 19...|[[document, 0, 19...|[[token, 0, 9, De...|[[pos, 0, 9, NN, ...|[[named_entity, 0...|[[word_embeddings...|\n",
            "|Australian Tom Mo...|[[document, 0, 14...|[[document, 0, 14...|[[token, 0, 9, Au...|[[pos, 0, 9, NNP,...|[[named_entity, 0...|[[word_embeddings...|\n",
            "|After the frustra...|[[document, 0, 15...|[[document, 0, 15...|[[token, 0, 4, Af...|[[pos, 0, 4, IN, ...|[[named_entity, 0...|[[word_embeddings...|\n",
            "|They were held up...|[[document, 0, 11...|[[document, 0, 11...|[[token, 0, 3, Th...|[[pos, 0, 3, PRP,...|[[named_entity, 0...|[[word_embeddings...|\n",
            "|By stumps Kent ha...|[[document, 0, 41...|[[document, 0, 41...|[[token, 0, 1, By...|[[pos, 0, 1, IN, ...|[[named_entity, 0...|[[word_embeddings...|\n",
            "|CRICKET - ENGLISH...|[[document, 0, 45...|[[document, 0, 45...|[[token, 0, 6, CR...|[[pos, 0, 6, NNP,...|[[named_entity, 0...|[[word_embeddings...|\n",
            "|   LONDON 1996-08-30|[[document, 0, 16...|[[document, 0, 16...|[[token, 0, 5, LO...|[[pos, 0, 5, NNP,...|[[named_entity, 0...|[[word_embeddings...|\n",
            "|Result and close ...|[[document, 0, 81...|[[document, 0, 81...|[[token, 0, 5, Re...|[[pos, 0, 5, NN, ...|[[named_entity, 0...|[[word_embeddings...|\n",
            "|Leicester : Leice...|[[document, 0, 67...|[[document, 0, 67...|[[token, 0, 8, Le...|[[pos, 0, 8, JJ, ...|[[named_entity, 0...|[[word_embeddings...|\n",
            "+--------------------+--------------------+--------------------+--------------------+--------------------+--------------------+--------------------+\n",
            "only showing top 20 rows\n",
            "\n"
          ],
          "name": "stdout"
        }
      ]
    },
    {
      "cell_type": "code",
      "metadata": {
        "id": "KiQvE5pmM6OS",
        "colab": {
          "base_uri": "https://localhost:8080/"
        },
        "outputId": "cd42e8f7-ae4c-4321-ff4f-6c69b917d2d6"
      },
      "source": [
        "# let's only feed sentence and token from our test dataset\n",
        "predictions = ner_model.transform(test_data.select(\"sentence\", \"token\", \"label\"))\n",
        "predictions.show(3)"
      ],
      "execution_count": null,
      "outputs": [
        {
          "output_type": "stream",
          "text": [
            "+--------------------+--------------------+--------------------+--------------------+--------------------+\n",
            "|            sentence|               token|               label|                bert|                 ner|\n",
            "+--------------------+--------------------+--------------------+--------------------+--------------------+\n",
            "|[[document, 0, 64...|[[token, 0, 6, CR...|[[named_entity, 0...|[[word_embeddings...|[[named_entity, 0...|\n",
            "|[[document, 0, 16...|[[token, 0, 5, LO...|[[named_entity, 0...|[[word_embeddings...|[[named_entity, 0...|\n",
            "|[[document, 0, 18...|[[token, 0, 3, We...|[[named_entity, 0...|[[word_embeddings...|[[named_entity, 0...|\n",
            "+--------------------+--------------------+--------------------+--------------------+--------------------+\n",
            "only showing top 3 rows\n",
            "\n"
          ],
          "name": "stdout"
        }
      ]
    },
    {
      "cell_type": "code",
      "metadata": {
        "id": "8eTDVoCxM6OS",
        "colab": {
          "base_uri": "https://localhost:8080/"
        },
        "outputId": "763f67cb-ba79-4818-d683-3076d1d664ed"
      },
      "source": [
        "predictions.select('token.result','label.result','ner.result').show(truncate=40)"
      ],
      "execution_count": null,
      "outputs": [
        {
          "output_type": "stream",
          "text": [
            "+----------------------------------------+----------------------------------------+----------------------------------------+\n",
            "|                                  result|                                  result|                                  result|\n",
            "+----------------------------------------+----------------------------------------+----------------------------------------+\n",
            "|[CRICKET, -, LEICESTERSHIRE, TAKE, OV...|   [O, O, B-TST, O, O, O, O, O, O, O, O]|   [O, O, B-TST, O, O, O, O, O, O, O, O]|\n",
            "|                    [LONDON, 1996-08-30]|                              [B-LOC, O]|                              [B-LOC, O]|\n",
            "|[West, Indian, all-rounder, Phil, Sim...|[B-MISC, I-MISC, O, B-PER, I-PER, O, ...|[B-MISC, I-MISC, O, B-PER, I-PER, O, ...|\n",
            "|[Their, stay, on, top, ,, though, ,, ...|[O, O, O, O, O, O, O, O, O, O, O, O, ...|[O, O, O, O, O, O, O, O, O, O, O, O, ...|\n",
            "|[After, bowling, Somerset, out, for, ...|[O, O, B-TST, O, O, O, O, O, O, O, O,...|[O, B-TST, I-TST, O, O, O, O, O, O, O...|\n",
            "|[Trailing, by, 213, ,, Somerset, got,...|[O, O, O, O, B-TST, O, O, O, O, O, O,...|[O, O, O, O, B-TST, O, O, O, O, O, O,...|\n",
            "|[Essex, ,, however, ,, look, certain,...|[B-TST, O, O, O, O, O, O, O, O, O, O,...|[B-TST, O, O, O, O, O, O, O, O, O, O,...|\n",
            "|[Hussain, ,, considered, surplus, to,...|[B-PER, O, O, O, O, B-LOC, O, O, O, O...|[B-PER, O, O, O, O, B-LOC, O, O, O, O...|\n",
            "|[By, the, close, Yorkshire, had, turn...|[O, O, O, B-TST, O, O, O, O, O, O, O,...|[O, O, O, O, O, O, O, O, O, O, O, O, ...|\n",
            "|[At, the, Oval, ,, Surrey, captain, C...|[O, O, B-LOC, O, B-TST, O, B-PER, I-P...|[O, O, B-LOC, O, B-TST, O, B-PER, I-P...|\n",
            "|[He, was, well, backed, by, England, ...|[O, O, O, O, O, B-LOC, O, B-PER, I-PE...|[O, O, O, O, O, B-LOC, O, B-PER, I-PE...|\n",
            "|[Derbyshire, kept, up, the, hunt, for...|[B-TST, O, O, O, O, O, O, O, O, O, O,...|[B-TST, O, O, O, O, O, O, O, O, O, O,...|\n",
            "|[Australian, Tom, Moody, took, six, f...|[B-MISC, B-PER, I-PER, O, O, O, O, O,...|[B-MISC, B-PER, I-PER, O, O, O, O, O,...|\n",
            "|[After, the, frustration, of, seeing,...|[O, O, O, O, O, O, O, O, O, O, O, O, ...|[O, O, O, O, O, O, O, O, O, O, O, O, ...|\n",
            "|[They, were, held, up, by, a, gritty,...|[O, O, O, O, O, O, O, O, O, B-PER, I-...|[O, O, O, O, O, O, O, O, O, B-PER, I-...|\n",
            "|[By, stumps, Kent, had, reached, 108,...|         [O, O, B-TST, O, O, O, O, O, O]|     [O, B-PER, I-PER, O, O, O, O, O, O]|\n",
            "|[CRICKET, -, ENGLISH, COUNTY, CHAMPIO...|    [O, O, B-MISC, I-MISC, I-MISC, O, O]|    [O, O, B-MISC, I-MISC, I-MISC, O, O]|\n",
            "|                    [LONDON, 1996-08-30]|                              [B-LOC, O]|                              [B-LOC, O]|\n",
            "|[Result, and, close, of, play, scores...|[O, O, O, O, O, O, O, B-MISC, O, O, O...|[O, O, O, O, O, O, O, B-MISC, O, O, O...|\n",
            "|[Leicester, :, Leicestershire, beat, ...|[B-LOC, O, B-TST, O, B-TST, O, O, O, ...|[B-TST, O, B-TST, O, B-TST, O, O, O, ...|\n",
            "+----------------------------------------+----------------------------------------+----------------------------------------+\n",
            "only showing top 20 rows\n",
            "\n"
          ],
          "name": "stdout"
        }
      ]
    },
    {
      "cell_type": "code",
      "metadata": {
        "id": "EzC5CDUwM6OS",
        "colab": {
          "base_uri": "https://localhost:8080/"
        },
        "outputId": "627211cb-5caa-47b9-a7f4-7851888adb1b"
      },
      "source": [
        "predictions.printSchema()"
      ],
      "execution_count": null,
      "outputs": [
        {
          "output_type": "stream",
          "text": [
            "root\n",
            " |-- sentence: array (nullable = false)\n",
            " |    |-- element: struct (containsNull = true)\n",
            " |    |    |-- annotatorType: string (nullable = true)\n",
            " |    |    |-- begin: integer (nullable = false)\n",
            " |    |    |-- end: integer (nullable = false)\n",
            " |    |    |-- result: string (nullable = true)\n",
            " |    |    |-- metadata: map (nullable = true)\n",
            " |    |    |    |-- key: string\n",
            " |    |    |    |-- value: string (valueContainsNull = true)\n",
            " |    |    |-- embeddings: array (nullable = true)\n",
            " |    |    |    |-- element: float (containsNull = false)\n",
            " |-- token: array (nullable = false)\n",
            " |    |-- element: struct (containsNull = true)\n",
            " |    |    |-- annotatorType: string (nullable = true)\n",
            " |    |    |-- begin: integer (nullable = false)\n",
            " |    |    |-- end: integer (nullable = false)\n",
            " |    |    |-- result: string (nullable = true)\n",
            " |    |    |-- metadata: map (nullable = true)\n",
            " |    |    |    |-- key: string\n",
            " |    |    |    |-- value: string (valueContainsNull = true)\n",
            " |    |    |-- embeddings: array (nullable = true)\n",
            " |    |    |    |-- element: float (containsNull = false)\n",
            " |-- label: array (nullable = false)\n",
            " |    |-- element: struct (containsNull = true)\n",
            " |    |    |-- annotatorType: string (nullable = true)\n",
            " |    |    |-- begin: integer (nullable = false)\n",
            " |    |    |-- end: integer (nullable = false)\n",
            " |    |    |-- result: string (nullable = true)\n",
            " |    |    |-- metadata: map (nullable = true)\n",
            " |    |    |    |-- key: string\n",
            " |    |    |    |-- value: string (valueContainsNull = true)\n",
            " |    |    |-- embeddings: array (nullable = true)\n",
            " |    |    |    |-- element: float (containsNull = false)\n",
            " |-- bert: array (nullable = true)\n",
            " |    |-- element: struct (containsNull = false)\n",
            " |    |    |-- annotatorType: string (nullable = true)\n",
            " |    |    |-- begin: integer (nullable = false)\n",
            " |    |    |-- end: integer (nullable = false)\n",
            " |    |    |-- result: string (nullable = true)\n",
            " |    |    |-- metadata: map (nullable = true)\n",
            " |    |    |    |-- key: string\n",
            " |    |    |    |-- value: string (valueContainsNull = true)\n",
            " |    |    |-- embeddings: array (nullable = true)\n",
            " |    |    |    |-- element: float (containsNull = false)\n",
            " |-- ner: array (nullable = true)\n",
            " |    |-- element: struct (containsNull = false)\n",
            " |    |    |-- annotatorType: string (nullable = true)\n",
            " |    |    |-- begin: integer (nullable = false)\n",
            " |    |    |-- end: integer (nullable = false)\n",
            " |    |    |-- result: string (nullable = true)\n",
            " |    |    |-- metadata: map (nullable = true)\n",
            " |    |    |    |-- key: string\n",
            " |    |    |    |-- value: string (valueContainsNull = true)\n",
            " |    |    |-- embeddings: array (nullable = true)\n",
            " |    |    |    |-- element: float (containsNull = false)\n",
            "\n"
          ],
          "name": "stdout"
        }
      ]
    },
    {
      "cell_type": "code",
      "metadata": {
        "id": "pzYP3TGfM6OT",
        "colab": {
          "base_uri": "https://localhost:8080/"
        },
        "outputId": "50e62b35-5716-4b73-fe8e-21ce18123d0d"
      },
      "source": [
        "import pyspark.sql.functions as F\n",
        "\n",
        "predictions.select(F.explode(F.arrays_zip('token.result','label.result','ner.result')).alias(\"cols\")) \\\n",
        ".select(F.expr(\"cols['0']\").alias(\"token\"),\n",
        "        F.expr(\"cols['1']\").alias(\"ground_truth\"),\n",
        "        F.expr(\"cols['2']\").alias(\"prediction\")).show(truncate=False)"
      ],
      "execution_count": null,
      "outputs": [
        {
          "output_type": "stream",
          "text": [
            "+--------------+------------+----------+\n",
            "|token         |ground_truth|prediction|\n",
            "+--------------+------------+----------+\n",
            "|CRICKET       |O           |O         |\n",
            "|-             |O           |O         |\n",
            "|LEICESTERSHIRE|B-TST       |B-TST     |\n",
            "|TAKE          |O           |O         |\n",
            "|OVER          |O           |O         |\n",
            "|AT            |O           |O         |\n",
            "|TOP           |O           |O         |\n",
            "|AFTER         |O           |O         |\n",
            "|INNINGS       |O           |O         |\n",
            "|VICTORY       |O           |O         |\n",
            "|.             |O           |O         |\n",
            "|LONDON        |B-LOC       |B-LOC     |\n",
            "|1996-08-30    |O           |O         |\n",
            "|West          |B-MISC      |B-MISC    |\n",
            "|Indian        |I-MISC      |I-MISC    |\n",
            "|all-rounder   |O           |O         |\n",
            "|Phil          |B-PER       |B-PER     |\n",
            "|Simmons       |I-PER       |I-PER     |\n",
            "|took          |O           |O         |\n",
            "|four          |O           |O         |\n",
            "+--------------+------------+----------+\n",
            "only showing top 20 rows\n",
            "\n"
          ],
          "name": "stdout"
        }
      ]
    },
    {
      "cell_type": "markdown",
      "metadata": {
        "id": "tjaahMbzuV4A"
      },
      "source": [
        "# Convert to Pandas"
      ]
    },
    {
      "cell_type": "code",
      "metadata": {
        "id": "z-M0PZd6M6OU",
        "colab": {
          "base_uri": "https://localhost:8080/",
          "height": 424
        },
        "outputId": "88874d19-2de3-4b78-a99a-844e186e4412"
      },
      "source": [
        "import pandas as pd\n",
        "\n",
        "df = predictions.select('token.result','label.result','ner.result').toPandas()\n",
        "\n",
        "df"
      ],
      "execution_count": null,
      "outputs": [
        {
          "output_type": "execute_result",
          "data": {
            "text/html": [
              "<div>\n",
              "<style scoped>\n",
              "    .dataframe tbody tr th:only-of-type {\n",
              "        vertical-align: middle;\n",
              "    }\n",
              "\n",
              "    .dataframe tbody tr th {\n",
              "        vertical-align: top;\n",
              "    }\n",
              "\n",
              "    .dataframe thead th {\n",
              "        text-align: right;\n",
              "    }\n",
              "</style>\n",
              "<table border=\"1\" class=\"dataframe\">\n",
              "  <thead>\n",
              "    <tr style=\"text-align: right;\">\n",
              "      <th></th>\n",
              "      <th>result</th>\n",
              "      <th>result</th>\n",
              "      <th>result</th>\n",
              "    </tr>\n",
              "  </thead>\n",
              "  <tbody>\n",
              "    <tr>\n",
              "      <th>0</th>\n",
              "      <td>[CRICKET, -, LEICESTERSHIRE, TAKE, OVER, AT, T...</td>\n",
              "      <td>[O, O, B-TST, O, O, O, O, O, O, O, O]</td>\n",
              "      <td>[O, O, B-TST, O, O, O, O, O, O, O, O]</td>\n",
              "    </tr>\n",
              "    <tr>\n",
              "      <th>1</th>\n",
              "      <td>[LONDON, 1996-08-30]</td>\n",
              "      <td>[B-LOC, O]</td>\n",
              "      <td>[B-LOC, O]</td>\n",
              "    </tr>\n",
              "    <tr>\n",
              "      <th>2</th>\n",
              "      <td>[West, Indian, all-rounder, Phil, Simmons, too...</td>\n",
              "      <td>[B-MISC, I-MISC, O, B-PER, I-PER, O, O, O, O, ...</td>\n",
              "      <td>[B-MISC, I-MISC, O, B-PER, I-PER, O, O, O, O, ...</td>\n",
              "    </tr>\n",
              "    <tr>\n",
              "      <th>3</th>\n",
              "      <td>[Their, stay, on, top, ,, though, ,, may, be, ...</td>\n",
              "      <td>[O, O, O, O, O, O, O, O, O, O, O, O, O, B-TST,...</td>\n",
              "      <td>[O, O, O, O, O, O, O, O, O, O, O, O, O, B-TST,...</td>\n",
              "    </tr>\n",
              "    <tr>\n",
              "      <th>4</th>\n",
              "      <td>[After, bowling, Somerset, out, for, 83, on, t...</td>\n",
              "      <td>[O, O, B-TST, O, O, O, O, O, O, O, O, B-LOC, I...</td>\n",
              "      <td>[O, B-TST, I-TST, O, O, O, O, O, O, O, O, B-LO...</td>\n",
              "    </tr>\n",
              "    <tr>\n",
              "      <th>...</th>\n",
              "      <td>...</td>\n",
              "      <td>...</td>\n",
              "      <td>...</td>\n",
              "    </tr>\n",
              "    <tr>\n",
              "      <th>3245</th>\n",
              "      <td>[But, the, prices, may, move, in, a, close, ra...</td>\n",
              "      <td>[O, O, O, O, O, O, O, O, O, O, O, O, O, O, O, O]</td>\n",
              "      <td>[O, O, O, O, O, O, O, O, O, O, O, O, O, O, O, O]</td>\n",
              "    </tr>\n",
              "    <tr>\n",
              "      <th>3246</th>\n",
              "      <td>[Brokers, said, blue, chips, like, IDLC, ,, Ba...</td>\n",
              "      <td>[O, O, O, O, O, B-TST, O, B-TST, I-TST, O, B-T...</td>\n",
              "      <td>[O, O, O, O, O, O, O, B-LOC, O, O, B-TST, O, O...</td>\n",
              "    </tr>\n",
              "    <tr>\n",
              "      <th>3247</th>\n",
              "      <td>[They, said, there, was, still, demand, for, b...</td>\n",
              "      <td>[O, O, O, O, O, O, O, O, O, O, O, O, O, O, O, ...</td>\n",
              "      <td>[O, O, O, O, O, O, O, O, O, O, O, O, O, O, O, ...</td>\n",
              "    </tr>\n",
              "    <tr>\n",
              "      <th>3248</th>\n",
              "      <td>[The, DSE, all, share, price, index, closed, 2...</td>\n",
              "      <td>[O, B-TST, O, O, O, O, O, O, O, O, O, O, O, O,...</td>\n",
              "      <td>[O, B-TST, O, O, O, O, O, O, O, O, O, O, O, O,...</td>\n",
              "    </tr>\n",
              "    <tr>\n",
              "      <th>3249</th>\n",
              "      <td>[--, Dhaka, Newsroom, 880-2-506363]</td>\n",
              "      <td>[O, B-TST, I-TST, O]</td>\n",
              "      <td>[O, B-LOC, O, O]</td>\n",
              "    </tr>\n",
              "  </tbody>\n",
              "</table>\n",
              "<p>3250 rows × 3 columns</p>\n",
              "</div>"
            ],
            "text/plain": [
              "                                                 result  ...                                             result\n",
              "0     [CRICKET, -, LEICESTERSHIRE, TAKE, OVER, AT, T...  ...              [O, O, B-TST, O, O, O, O, O, O, O, O]\n",
              "1                                  [LONDON, 1996-08-30]  ...                                         [B-LOC, O]\n",
              "2     [West, Indian, all-rounder, Phil, Simmons, too...  ...  [B-MISC, I-MISC, O, B-PER, I-PER, O, O, O, O, ...\n",
              "3     [Their, stay, on, top, ,, though, ,, may, be, ...  ...  [O, O, O, O, O, O, O, O, O, O, O, O, O, B-TST,...\n",
              "4     [After, bowling, Somerset, out, for, 83, on, t...  ...  [O, B-TST, I-TST, O, O, O, O, O, O, O, O, B-LO...\n",
              "...                                                 ...  ...                                                ...\n",
              "3245  [But, the, prices, may, move, in, a, close, ra...  ...   [O, O, O, O, O, O, O, O, O, O, O, O, O, O, O, O]\n",
              "3246  [Brokers, said, blue, chips, like, IDLC, ,, Ba...  ...  [O, O, O, O, O, O, O, B-LOC, O, O, B-TST, O, O...\n",
              "3247  [They, said, there, was, still, demand, for, b...  ...  [O, O, O, O, O, O, O, O, O, O, O, O, O, O, O, ...\n",
              "3248  [The, DSE, all, share, price, index, closed, 2...  ...  [O, B-TST, O, O, O, O, O, O, O, O, O, O, O, O,...\n",
              "3249                [--, Dhaka, Newsroom, 880-2-506363]  ...                                   [O, B-LOC, O, O]\n",
              "\n",
              "[3250 rows x 3 columns]"
            ]
          },
          "metadata": {
            "tags": []
          },
          "execution_count": 27
        }
      ]
    }
  ]
}