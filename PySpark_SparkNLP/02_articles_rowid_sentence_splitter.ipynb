{
  "nbformat": 4,
  "nbformat_minor": 0,
  "metadata": {
    "colab": {
      "name": "02 articles_rowid_sentence_splitter.ipynb",
      "provenance": [],
      "collapsed_sections": [],
      "authorship_tag": "ABX9TyP0zXp7n4S0RJ8okdcuw1Pv",
      "include_colab_link": true
    },
    "kernelspec": {
      "name": "python3",
      "display_name": "Python 3"
    }
  },
  "cells": [
    {
      "cell_type": "markdown",
      "metadata": {
        "id": "view-in-github",
        "colab_type": "text"
      },
      "source": [
        "<a href=\"https://colab.research.google.com/github/Dirkster99/PyNotes/blob/master/PySpark_SparkNLP/02_articles_rowid_sentence_splitter.ipynb\" target=\"_parent\"><img src=\"https://colab.research.google.com/assets/colab-badge.svg\" alt=\"Open In Colab\"/></a>"
      ]
    },
    {
      "cell_type": "code",
      "metadata": {
        "id": "A_iFaywZwmo_"
      },
      "source": [
        "# Install spark\r\n",
        "# Guide from: https://www.analyticsvidhya.com/blog/2020/11/a-must-read-guide-on-how-to-work-with-pyspark-on-google-colab-for-data-scientists/\r\n",
        "!apt-get install openjdk-8-jdk-headless -qq > /dev/null"
      ],
      "execution_count": null,
      "outputs": []
    },
    {
      "cell_type": "code",
      "metadata": {
        "id": "aVsohyVWwmjt"
      },
      "source": [
        "!wget -q https://www-us.apache.org/dist/spark/spark-3.0.1/spark-3.0.1-bin-hadoop2.7.tgz"
      ],
      "execution_count": null,
      "outputs": []
    },
    {
      "cell_type": "code",
      "metadata": {
        "id": "AxGsMnUqwmf5"
      },
      "source": [
        "!tar xf spark-3.0.1-bin-hadoop2.7.tgz"
      ],
      "execution_count": null,
      "outputs": []
    },
    {
      "cell_type": "code",
      "metadata": {
        "id": "Iuptw_LHwmbY"
      },
      "source": [
        "!pip install -q findspark"
      ],
      "execution_count": null,
      "outputs": []
    },
    {
      "cell_type": "code",
      "metadata": {
        "id": "UkYK2bBbwmV1"
      },
      "source": [
        "import os\r\n",
        "os.environ[\"JAVA_HOME\"] = \"/usr/lib/jvm/java-8-openjdk-amd64\"\r\n",
        "os.environ[\"SPARK_HOME\"] = \"/content/spark-3.0.1-bin-hadoop2.7\""
      ],
      "execution_count": null,
      "outputs": []
    },
    {
      "cell_type": "code",
      "metadata": {
        "id": "OE2xL_owwmLO"
      },
      "source": [
        "import findspark\r\n",
        "findspark.init()"
      ],
      "execution_count": null,
      "outputs": []
    },
    {
      "cell_type": "code",
      "metadata": {
        "id": "BT7xW5SLwl9X"
      },
      "source": [
        "from pyspark.sql import SparkSession\r\n",
        "\r\n",
        "spark = SparkSession.builder\\\r\n",
        "        .master(\"local\")\\\r\n",
        "        .appName(\"Colab\")\\\r\n",
        "        .config('spark.ui.port', '4050')\\\r\n",
        "        .getOrCreate()"
      ],
      "execution_count": null,
      "outputs": []
    },
    {
      "cell_type": "code",
      "metadata": {
        "colab": {
          "base_uri": "https://localhost:8080/",
          "height": 223
        },
        "id": "2EIrtw1lxvdy",
        "outputId": "891a60bb-d746-4f88-dd48-e5f4dd01e7db"
      },
      "source": [
        "spark"
      ],
      "execution_count": null,
      "outputs": [
        {
          "output_type": "execute_result",
          "data": {
            "text/html": [
              "\n",
              "            <div>\n",
              "                <p><b>SparkSession - in-memory</b></p>\n",
              "                \n",
              "        <div>\n",
              "            <p><b>SparkContext</b></p>\n",
              "\n",
              "            <p><a href=\"http://93cf690396af:4050\">Spark UI</a></p>\n",
              "\n",
              "            <dl>\n",
              "              <dt>Version</dt>\n",
              "                <dd><code>v3.0.1</code></dd>\n",
              "              <dt>Master</dt>\n",
              "                <dd><code>local</code></dd>\n",
              "              <dt>AppName</dt>\n",
              "                <dd><code>Colab</code></dd>\n",
              "            </dl>\n",
              "        </div>\n",
              "        \n",
              "            </div>\n",
              "        "
            ],
            "text/plain": [
              "<pyspark.sql.session.SparkSession at 0x7f3fab42d6d8>"
            ]
          },
          "metadata": {
            "tags": []
          },
          "execution_count": 8
        }
      ]
    },
    {
      "cell_type": "code",
      "metadata": {
        "id": "c0JZ4JSpjDRK",
        "colab": {
          "base_uri": "https://localhost:8080/"
        },
        "outputId": "5641a29e-046b-456a-aba2-bb2c5d4d0ecf"
      },
      "source": [
        "import nltk\r\n",
        "nltk.download('stopwords')\r\n",
        "nltk.download('punkt')"
      ],
      "execution_count": null,
      "outputs": [
        {
          "output_type": "stream",
          "text": [
            "[nltk_data] Downloading package stopwords to /root/nltk_data...\n",
            "[nltk_data]   Unzipping corpora/stopwords.zip.\n",
            "[nltk_data] Downloading package punkt to /root/nltk_data...\n",
            "[nltk_data]   Unzipping tokenizers/punkt.zip.\n"
          ],
          "name": "stdout"
        },
        {
          "output_type": "execute_result",
          "data": {
            "text/plain": [
              "True"
            ]
          },
          "metadata": {
            "tags": []
          },
          "execution_count": 9
        }
      ]
    },
    {
      "cell_type": "markdown",
      "metadata": {
        "id": "9_pNOD_uV13C"
      },
      "source": [
        "# Mount Google Drive to Load CSV File"
      ]
    },
    {
      "cell_type": "code",
      "metadata": {
        "id": "tiZ9cNY7kKMf",
        "colab": {
          "base_uri": "https://localhost:8080/"
        },
        "outputId": "5eb3aae8-b16a-464d-8055-6574c52ff312"
      },
      "source": [
        "from google.colab import drive\r\n",
        "drive.mount(\"/content/drive\")"
      ],
      "execution_count": null,
      "outputs": [
        {
          "output_type": "stream",
          "text": [
            "Mounted at /content/drive\n"
          ],
          "name": "stdout"
        }
      ]
    },
    {
      "cell_type": "code",
      "metadata": {
        "colab": {
          "base_uri": "https://localhost:8080/"
        },
        "id": "6lVHyXy2vIaD",
        "outputId": "d2193326-4efd-41f4-efed-a5a1cde7a783"
      },
      "source": [
        "!ls /content/drive/MyDrive/Colab\\ Notebooks/Sentencing"
      ],
      "execution_count": null,
      "outputs": [
        {
          "output_type": "stream",
          "text": [
            "'01 articles_rowid_converter.ipynb'\t      articles.readme.txt.txt\n",
            "'02 articles_rowid_sentence_splitter.ipynb'   articles_rowid.csv\n",
            " articles.csv\n"
          ],
          "name": "stdout"
        }
      ]
    },
    {
      "cell_type": "markdown",
      "metadata": {
        "id": "8esolsoIWXF7"
      },
      "source": [
        "# Load Spark DataFrame and Split Sentences using Spark\r\n",
        "\r\n",
        "1. Load Data from CSV File\r\n",
        "1. Split Document Column into Array of Strings\r\n",
        "1. Explode Array of Strings into Rows\r\n",
        "1. Assign monotonically increasing id to support required order by in row_number() function\r\n",
        "1. Apply row_number() function to enumerate an id per sentence in original order of documents and sentences in each document\r\n",
        " "
      ]
    },
    {
      "cell_type": "code",
      "metadata": {
        "id": "akL771kuvbA3"
      },
      "source": [
        "# Change this base directory if the CSV is located somewhere else\r\n",
        "base_dir = '/content/drive/MyDrive/Colab Notebooks/Sentencing/'"
      ],
      "execution_count": null,
      "outputs": []
    },
    {
      "cell_type": "code",
      "metadata": {
        "id": "PkpwfnbvwIvQ"
      },
      "source": [
        "# Read the CSV file using Spark\r\n",
        "df = spark.read.option(\"delimiter\", \"|\").csv(base_dir + \"articles_rowid.csv\", header=True, inferSchema=True) \\\r\n",
        ".withColumnRenamed('row_id', 'rowid')"
      ],
      "execution_count": null,
      "outputs": []
    },
    {
      "cell_type": "code",
      "metadata": {
        "colab": {
          "base_uri": "https://localhost:8080/"
        },
        "id": "ujcT8hNpyL7F",
        "outputId": "3c05add5-f801-4859-cd7a-fa41ba556c17"
      },
      "source": [
        "df.printSchema()\r\n",
        "df.head()"
      ],
      "execution_count": null,
      "outputs": [
        {
          "output_type": "stream",
          "text": [
            "root\n",
            " |-- rowid: integer (nullable = true)\n",
            " |-- text: string (nullable = true)\n",
            "\n"
          ],
          "name": "stdout"
        },
        {
          "output_type": "execute_result",
          "data": {
            "text/plain": [
              "Row(rowid=0, text='Die ARD-Tochter Degeto hat sich verpflichtet, ab August einer Quotenregelung zu folgen, die für die Gleichstellung von Regisseurinnen sorgen soll. In mindestens 20 Prozent der Filme, die die ARD-Tochter Degeto produziert oder mitfinanziert, sollen ab Mitte August Frauen Regie führen. Degeto-Chefin Christine Strobl folgt mit dieser Selbstverpflichtung der Forderung von Pro Quote Regie. Die Vereinigung von Regisseurinnen hatte im vergangenen Jahr eine Quotenregelung gefordert, um den weiblichen Filmschaffenden mehr Gehör und ökonomische Gleichstellung zu verschaffen. Pro Quote Regie kritisiert, dass, während rund 50 Prozent der Regie-Studierenden weiblich seien, der Anteil der Regisseurinnen bei Fernsehfilmen nur bei 13 bis 15 Prozent liege. In Österreich sieht die Situation ähnlich aus, auch hier wird von unterschiedlichen Seiten Handlungsbedarf angemahnt. Aber wie soll dieser aussehen? Ist die Einführung der Quotenregelung auch für die österreichische Film- und Fernsehlandschaft sinnvoll? Diskutieren Sie im Forum.')"
            ]
          },
          "metadata": {
            "tags": []
          },
          "execution_count": 17
        }
      ]
    },
    {
      "cell_type": "code",
      "metadata": {
        "id": "QCOjPaIP83Bg"
      },
      "source": [
        "from nltk.tokenize import sent_tokenize, word_tokenize\r\n",
        "from pyspark.sql import types as T\r\n",
        "from pyspark.sql import functions as F\r\n",
        "\r\n",
        "udfSentencer = F.udf(lambda z: Sentencer(z), T.ArrayType(T.StringType()))\r\n",
        "spark.udf.register(\"udfSentencer\", colsInt)\r\n",
        "\r\n",
        "# Convert text into an arry of strings where each item contains one sentence\r\n",
        "def Sentencer(text):\r\n",
        "  return sent_tokenize(text, language='german')\r\n",
        "\r\n",
        "# Test Sentencer function with below code\r\n",
        "#\r\n",
        "#data = \"All work and no play makes jack dull boy. What a joke if you think about it.\"\r\n",
        "#print(Sentencer(data))"
      ],
      "execution_count": null,
      "outputs": []
    },
    {
      "cell_type": "code",
      "metadata": {
        "colab": {
          "base_uri": "https://localhost:8080/"
        },
        "id": "xRE3mZbB82-e",
        "outputId": "d38f9b73-ae2e-42c2-bddf-4864808fccf4"
      },
      "source": [
        "tmpdf = df.withColumn( 'sentences', udfSentencer('text')).select('rowid', 'sentences')\r\n",
        "tmpdf.printSchema()\r\n",
        "tmpdf.head()"
      ],
      "execution_count": null,
      "outputs": [
        {
          "output_type": "stream",
          "text": [
            "root\n",
            " |-- rowid: integer (nullable = true)\n",
            " |-- sentences: array (nullable = true)\n",
            " |    |-- element: string (containsNull = true)\n",
            "\n"
          ],
          "name": "stdout"
        },
        {
          "output_type": "execute_result",
          "data": {
            "text/plain": [
              "Row(rowid=0, sentences=['Die ARD-Tochter Degeto hat sich verpflichtet, ab August einer Quotenregelung zu folgen, die für die Gleichstellung von Regisseurinnen sorgen soll.', 'In mindestens 20 Prozent der Filme, die die ARD-Tochter Degeto produziert oder mitfinanziert, sollen ab Mitte August Frauen Regie führen.', 'Degeto-Chefin Christine Strobl folgt mit dieser Selbstverpflichtung der Forderung von Pro Quote Regie.', 'Die Vereinigung von Regisseurinnen hatte im vergangenen Jahr eine Quotenregelung gefordert, um den weiblichen Filmschaffenden mehr Gehör und ökonomische Gleichstellung zu verschaffen.', 'Pro Quote Regie kritisiert, dass, während rund 50 Prozent der Regie-Studierenden weiblich seien, der Anteil der Regisseurinnen bei Fernsehfilmen nur bei 13 bis 15 Prozent liege.', 'In Österreich sieht die Situation ähnlich aus, auch hier wird von unterschiedlichen Seiten Handlungsbedarf angemahnt.', 'Aber wie soll dieser aussehen?', 'Ist die Einführung der Quotenregelung auch für die österreichische Film- und Fernsehlandschaft sinnvoll?', 'Diskutieren Sie im Forum.'])"
            ]
          },
          "metadata": {
            "tags": []
          },
          "execution_count": 70
        }
      ]
    },
    {
      "cell_type": "code",
      "metadata": {
        "colab": {
          "base_uri": "https://localhost:8080/"
        },
        "id": "l7IRV78F825p",
        "outputId": "1d6c68b8-57b9-495e-de96-0650c9e06258"
      },
      "source": [
        "# Convert array of strings column into rows\r\n",
        "# where each row contains one item from the array\r\n",
        "df2 = tmpdf.select(tmpdf.rowid,F.explode(tmpdf.sentences))\r\n",
        "df2 = df2.withColumn(\"rowid1\", F.monotonically_increasing_id()) \\\r\n",
        "          .withColumnRenamed('col', 'sentence')                 \\\r\n",
        "          .select('rowid1', 'rowid', 'sentence')\r\n",
        "\r\n",
        "df2.printSchema()\r\n",
        "df2.show()"
      ],
      "execution_count": null,
      "outputs": [
        {
          "output_type": "stream",
          "text": [
            "root\n",
            " |-- rowid1: long (nullable = false)\n",
            " |-- rowid: integer (nullable = true)\n",
            " |-- sentence: string (nullable = true)\n",
            "\n",
            "+------+-----+--------------------+\n",
            "|rowid1|rowid|            sentence|\n",
            "+------+-----+--------------------+\n",
            "|     0|    0|Die ARD-Tochter D...|\n",
            "|     1|    0|In mindestens 20 ...|\n",
            "|     2|    0|Degeto-Chefin Chr...|\n",
            "|     3|    0|Die Vereinigung v...|\n",
            "|     4|    0|Pro Quote Regie k...|\n",
            "|     5|    0|In Österreich sie...|\n",
            "|     6|    0|Aber wie soll die...|\n",
            "|     7|    0|Ist die Einführun...|\n",
            "|     8|    0|Diskutieren Sie i...|\n",
            "|     9|    1|App sei nicht so ...|\n",
            "|    10|    1|Wegen zu geringer...|\n",
            "|    11|    1|Dafür soll der Li...|\n",
            "|    12|    2|'Zum Welttag der ...|\n",
            "|    13|    2|Denn erst Ausnahm...|\n",
            "|    14|    2|Halbwissen ist of...|\n",
            "|    15|    2|     Werther-Effekt?|\n",
            "|    16|    2|Ja ja, schon mal ...|\n",
            "|    17|    2|So wie damals, al...|\n",
            "|    18|    2|Also: Über Suizid...|\n",
            "|    19|    2|             Stimmt.|\n",
            "+------+-----+--------------------+\n",
            "only showing top 20 rows\n",
            "\n"
          ],
          "name": "stdout"
        }
      ]
    },
    {
      "cell_type": "code",
      "metadata": {
        "colab": {
          "base_uri": "https://localhost:8080/"
        },
        "id": "VQrROpx682hg",
        "outputId": "13911e08-c05f-4514-ceab-bd6799b56f8f"
      },
      "source": [
        "from pyspark.sql import Window\r\n",
        "from pyspark.sql.functions import row_number\r\n",
        "\r\n",
        "df1=df2.withColumn(\"sent_num\",row_number().over(Window.partitionBy(\"rowid\").orderBy(\"rowid1\"))) \\\r\n",
        "       .select('rowid', 'sent_num', 'sentence') \\\r\n",
        "       .orderBy('rowid', 'sent_num')\r\n",
        "\r\n",
        "print(\"Printing the dataframe df1\")\r\n",
        "df1.show(n=50, truncate=False)"
      ],
      "execution_count": null,
      "outputs": [
        {
          "output_type": "stream",
          "text": [
            "Printing the dataframe df1\n",
            "+-----+--------+------------------------------------------------------------------------------------------------------------------------------------------------------------------------------------------------------------------------------------------------------------------------------------------------------------------------------------+\n",
            "|rowid|sent_num|sentence                                                                                                                                                                                                                                                                                                                            |\n",
            "+-----+--------+------------------------------------------------------------------------------------------------------------------------------------------------------------------------------------------------------------------------------------------------------------------------------------------------------------------------------------+\n",
            "|0    |1       |Die ARD-Tochter Degeto hat sich verpflichtet, ab August einer Quotenregelung zu folgen, die für die Gleichstellung von Regisseurinnen sorgen soll.                                                                                                                                                                                  |\n",
            "|0    |2       |In mindestens 20 Prozent der Filme, die die ARD-Tochter Degeto produziert oder mitfinanziert, sollen ab Mitte August Frauen Regie führen.                                                                                                                                                                                           |\n",
            "|0    |3       |Degeto-Chefin Christine Strobl folgt mit dieser Selbstverpflichtung der Forderung von Pro Quote Regie.                                                                                                                                                                                                                              |\n",
            "|0    |4       |Die Vereinigung von Regisseurinnen hatte im vergangenen Jahr eine Quotenregelung gefordert, um den weiblichen Filmschaffenden mehr Gehör und ökonomische Gleichstellung zu verschaffen.                                                                                                                                             |\n",
            "|0    |5       |Pro Quote Regie kritisiert, dass, während rund 50 Prozent der Regie-Studierenden weiblich seien, der Anteil der Regisseurinnen bei Fernsehfilmen nur bei 13 bis 15 Prozent liege.                                                                                                                                                   |\n",
            "|0    |6       |In Österreich sieht die Situation ähnlich aus, auch hier wird von unterschiedlichen Seiten Handlungsbedarf angemahnt.                                                                                                                                                                                                               |\n",
            "|0    |7       |Aber wie soll dieser aussehen?                                                                                                                                                                                                                                                                                                      |\n",
            "|0    |8       |Ist die Einführung der Quotenregelung auch für die österreichische Film- und Fernsehlandschaft sinnvoll?                                                                                                                                                                                                                            |\n",
            "|0    |9       |Diskutieren Sie im Forum.                                                                                                                                                                                                                                                                                                           |\n",
            "|1    |1       |App sei nicht so angenommen worden wie geplant.                                                                                                                                                                                                                                                                                     |\n",
            "|1    |2       |Wegen zu geringer Nutzung schaltet Spiegel Online nach zwei Jahren die Fußball-App aus, die App sei nicht so genutzt worden, wie man sich das vorgestellt habe.                                                                                                                                                                     |\n",
            "|1    |3       |Dafür soll der Live-Fußball-Bereich in der News-App ausgebaut werden.                                                                                                                                                                                                                                                               |\n",
            "|2    |1       |'Zum Welttag der Suizidprävention ist es Zeit, das alte Dogma \"Über Suizide schreibt man nicht\" zu verwerfen.                                                                                                                                                                                                                       |\n",
            "|2    |2       |Denn erst Ausnahmen von dieser Regel führen zu Nachahmungen – und wer über Suizidalität dann schweigt, wenn sie nicht sensationell ist, stigmatisiert die Betroffenen weiter.                                                                                                                                                       |\n",
            "|2    |3       |Halbwissen ist oft gefährlicher als Nichtwissen.                                                                                                                                                                                                                                                                                    |\n",
            "|2    |4       |Werther-Effekt?                                                                                                                                                                                                                                                                                                                     |\n",
            "|2    |5       |Ja ja, schon mal gehört: Wird über einen Suizid berichtet, töten sich in der Folge mehr Menschen selbst.                                                                                                                                                                                                                            |\n",
            "|2    |6       |So wie damals, als Goethes Briefroman Die Leiden des jungen Werthers erschien.                                                                                                                                                                                                                                                      |\n",
            "|2    |7       |Also: Über Suizide wird nicht berichtet.                                                                                                                                                                                                                                                                                            |\n",
            "|2    |8       |Stimmt.                                                                                                                                                                                                                                                                                                                             |\n",
            "|2    |9       |Fast.                                                                                                                                                                                                                                                                                                                               |\n",
            "|2    |10      |Der 10. September ist Welttag der Suizidprävention.                                                                                                                                                                                                                                                                                 |\n",
            "|2    |11      |Wenn es darum geht, Suizide zu verhinden, müssen auch wir Journalisten unsere Verantwortung wahrnehmen – das bedeutet in diesem Fall, sich vom alten Stehsatz Über Suizide schreibt man nicht zu verabschieden.                                                                                                                     |\n",
            "|2    |12      |Das Dogma des Schreibverbots hält sich unter Journalisten.                                                                                                                                                                                                                                                                          |\n",
            "|2    |13      |Dabei gibt es drei gute Gründe dafür, es aus den Redaktionen zu verbannen.                                                                                                                                                                                                                                                          |\n",
            "|2    |14      |Eines nach dem anderen.                                                                                                                                                                                                                                                                                                             |\n",
            "|2    |15      |Tatsächlich führen bestimmte Medienberichte über Suizide zu Nachahmungen.                                                                                                                                                                                                                                                           |\n",
            "|2    |16      |Menschen in Krisen befinden sich oft in einer Phase quälender Orientierungslosigkeit, wie es im Leitfaden zur Berichterstattung über Suizid des Wiener Kriseninterventionszentrums heißt.                                                                                                                                           |\n",
            "|2    |17      |Wenn man über Suizid schreibt, ist allerdings das Wie von weitaus größerer Bedeutung als das Ob.                                                                                                                                                                                                                                    |\n",
            "|2    |18      |Viele Medienberichte über Suizide haben keinerlei messbare Auswirkung auf die Suizidstatistik.                                                                                                                                                                                                                                      |\n",
            "|2    |19      |Manche Berichte treiben die Zahl der Suizide in die Höhe – und viele können Suizide verhindern.                                                                                                                                                                                                                                     |\n",
            "|2    |20      |Vor allem in Wien wird zu diesem Thema seit Jahrzehnten intensiv geforscht.                                                                                                                                                                                                                                                         |\n",
            "|2    |21      |Gut bekannt ist die Studie zu den Wiener U-Bahn-Suiziden: Als sich Anfang der 1980er immer mehr Personen in U-Bahn-Stationen selbst töteten, überzeugten Wiener Wissenschafter die großen Tageszeitungen davon, die Berichterstattung massiv zurückzufahren.                                                                        |\n",
            "|2    |22      |Die Folge war ein deutlicher Rückgang der U-Bahn-Suizide.                                                                                                                                                                                                                                                                           |\n",
            "|2    |23      |Seitdem hat sich in der Forschung einiges getan: Wiener Wissenschafter (einige davon haben schon in den 80ern an der erwähnten Studie mitgearbeitet) haben 2010 im British Journal of Psychiatry einen Artikel veröffentlicht, in dem sie Medienberichte analysierten und mit der amtlichen Sterbestatistik in Zusammenhang setzten.|\n",
            "|2    |24      |Das Ergebnis dieser und vieler anderer Studien krempelt das Dogma Über Suizide schreibt man nicht gewaltig um.                                                                                                                                                                                                                      |\n",
            "|2    |25      |Die Forscher haben den untersuchten Artikeln Eigenschaften zugewiesen: Wurde die Suizidmethode erwähnt?                                                                                                                                                                                                                             |\n",
            "|2    |26      |War der Text mit einem Foto illustriert?                                                                                                                                                                                                                                                                                            |\n",
            "|2    |27      |Wurde der Suizid vereinfacht begründet (zum Beispiel: Selbstmord wegen Liebeskummer)?                                                                                                                                                                                                                                               |\n",
            "|2    |28      |Diese Eigenschaften wurden als harmful, schädlich, eingeordnet.                                                                                                                                                                                                                                                                     |\n",
            "|2    |29      |Umgekehrt codierten die Autoren auch protective items: Wurde eine Expertin oder ein Experte zitiert?                                                                                                                                                                                                                                |\n",
            "|2    |30      |Wurden Hilfsangebote für Menschen in Krisen angeführt?                                                                                                                                                                                                                                                                              |\n",
            "|2    |31      |Die Rolle der Journalisten präsentiert sich im Licht aktueller Studien weitaus vielschichtiger, als es der viel zu einfache Stehsatz des Berichtsverbots vermuten ließe: Je nachdem, wie über einen Suizid berichtet wird, können Medien die Zahl der Nachahmungssuizide steigern – oder senken.                                    |\n",
            "|2    |32      |Jetzt könnte man sagen: Berichten wir am besten gar nicht, dann können wir nichts falsch machen.                                                                                                                                                                                                                                    |\n",
            "|2    |33      |Dieser Zugang hat nur einen großen Haken.                                                                                                                                                                                                                                                                                           |\n",
            "|2    |34      |Denn der Stehsatz Über Suizid berichten wir nicht funktioniert nicht lückenlos.                                                                                                                                                                                                                                                     |\n",
            "|2    |35      |Und er filtert genau die falschen Berichte heraus.                                                                                                                                                                                                                                                                                  |\n",
            "|2    |36      |Etwa drei Personen töten sich jeden Tag in Österreich selbst, über die allerwenigsten liest man in der Zeitung.                                                                                                                                                                                                                     |\n",
            "|2    |37      |Zu Recht, im Sinne der Zurückhaltung, allerdings meistens nicht aus Verantwortungsbewusstsein, sondern weil ein so alltäglicher Tod eben keine Geschichte ist.                                                                                                                                                                      |\n",
            "|2    |38      |Aber ein Prominenter?                                                                                                                                                                                                                                                                                                               |\n",
            "+-----+--------+------------------------------------------------------------------------------------------------------------------------------------------------------------------------------------------------------------------------------------------------------------------------------------------------------------------------------------+\n",
            "only showing top 50 rows\n",
            "\n"
          ],
          "name": "stdout"
        }
      ]
    },
    {
      "cell_type": "markdown",
      "metadata": {
        "id": "ZMcRVBR-8AFk"
      },
      "source": [
        "# NLTK Basics\r\n",
        "https://pythonspot.com/tokenizing-words-and-sentences-with-nltk/\r\n",
        "\r\n",
        "## Training for Abbreviations\r\n",
        "https://nlpforhackers.io/splitting-text-into-sentences/\r\n",
        "\r\n",
        "A sentence or data can be split into words using the method word_tokenize():"
      ]
    },
    {
      "cell_type": "code",
      "metadata": {
        "id": "huekbHmY2Du8",
        "colab": {
          "base_uri": "https://localhost:8080/"
        },
        "outputId": "4b83c9f2-6545-47d0-cf56-8c7dd9e3532d"
      },
      "source": [
        "from nltk.tokenize import sent_tokenize, word_tokenize\r\n",
        "\r\n",
        "data = \"All work and no play makes jack a dull boy, all work and no play\"\r\n",
        "print(word_tokenize(data))"
      ],
      "execution_count": null,
      "outputs": [
        {
          "output_type": "stream",
          "text": [
            "['All', 'work', 'and', 'no', 'play', 'makes', 'jack', 'a', 'dull', 'boy', ',', 'all', 'work', 'and', 'no', 'play']\n"
          ],
          "name": "stdout"
        }
      ]
    },
    {
      "cell_type": "markdown",
      "metadata": {
        "id": "FG1yB8vp8O2y"
      },
      "source": [
        "# Tokenizing sentences\r\n",
        "\r\n",
        "The same principle can be applied to sentences. Simply change the to **sent_tokenize()**\r\n",
        "We have added two sentences to the variable data:"
      ]
    },
    {
      "cell_type": "code",
      "metadata": {
        "colab": {
          "base_uri": "https://localhost:8080/"
        },
        "id": "u_eCLNft7-MF",
        "outputId": "3675f82f-2e2f-41b5-d89e-6debff92e3ba"
      },
      "source": [
        "from nltk.tokenize import sent_tokenize, word_tokenize\r\n",
        "\r\n",
        "data = \"All work and no play makes jack dull boy. What a joke if you think about it.\"\r\n",
        "print(sent_tokenize(data))"
      ],
      "execution_count": null,
      "outputs": [
        {
          "output_type": "stream",
          "text": [
            "['All work and no play makes jack dull boy.', 'What a joke if you think about it.']\n"
          ],
          "name": "stdout"
        }
      ]
    },
    {
      "cell_type": "code",
      "metadata": {
        "id": "On-CcnJj8jM3"
      },
      "source": [
        ""
      ],
      "execution_count": null,
      "outputs": []
    }
  ]
}