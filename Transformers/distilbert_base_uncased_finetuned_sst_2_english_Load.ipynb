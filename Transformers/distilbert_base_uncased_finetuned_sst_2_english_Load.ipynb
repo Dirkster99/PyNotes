{
  "nbformat": 4,
  "nbformat_minor": 0,
  "metadata": {
    "colab": {
      "name": "distilbert-base-uncased-finetuned-sst-2-english Load.ipynb",
      "provenance": [],
      "collapsed_sections": [],
      "authorship_tag": "ABX9TyPZ8xIOYWER0u2jGPyk/3bN",
      "include_colab_link": true
    },
    "kernelspec": {
      "name": "python3",
      "display_name": "Python 3"
    },
    "accelerator": "GPU"
  },
  "cells": [
    {
      "cell_type": "markdown",
      "metadata": {
        "id": "view-in-github",
        "colab_type": "text"
      },
      "source": [
        "<a href=\"https://colab.research.google.com/github/Dirkster99/PyNotes/blob/master/Transformers/distilbert_base_uncased_finetuned_sst_2_english_Load.ipynb\" target=\"_parent\"><img src=\"https://colab.research.google.com/assets/colab-badge.svg\" alt=\"Open In Colab\"/></a>"
      ]
    },
    {
      "cell_type": "code",
      "metadata": {
        "id": "CJnYvBwPkERm",
        "colab": {
          "base_uri": "https://localhost:8080/"
        },
        "outputId": "02ed4886-b26c-4e19-e6fb-bbe1635a5742"
      },
      "source": [
        "!pip install transformers"
      ],
      "execution_count": null,
      "outputs": [
        {
          "output_type": "stream",
          "text": [
            "Requirement already satisfied: transformers in /usr/local/lib/python3.7/dist-packages (4.3.2)\n",
            "Requirement already satisfied: requests in /usr/local/lib/python3.7/dist-packages (from transformers) (2.23.0)\n",
            "Requirement already satisfied: importlib-metadata; python_version < \"3.8\" in /usr/local/lib/python3.7/dist-packages (from transformers) (3.4.0)\n",
            "Requirement already satisfied: sacremoses in /usr/local/lib/python3.7/dist-packages (from transformers) (0.0.43)\n",
            "Requirement already satisfied: packaging in /usr/local/lib/python3.7/dist-packages (from transformers) (20.9)\n",
            "Requirement already satisfied: filelock in /usr/local/lib/python3.7/dist-packages (from transformers) (3.0.12)\n",
            "Requirement already satisfied: tokenizers<0.11,>=0.10.1 in /usr/local/lib/python3.7/dist-packages (from transformers) (0.10.1)\n",
            "Requirement already satisfied: tqdm>=4.27 in /usr/local/lib/python3.7/dist-packages (from transformers) (4.41.1)\n",
            "Requirement already satisfied: regex!=2019.12.17 in /usr/local/lib/python3.7/dist-packages (from transformers) (2019.12.20)\n",
            "Requirement already satisfied: numpy>=1.17 in /usr/local/lib/python3.7/dist-packages (from transformers) (1.19.5)\n",
            "Requirement already satisfied: chardet<4,>=3.0.2 in /usr/local/lib/python3.7/dist-packages (from requests->transformers) (3.0.4)\n",
            "Requirement already satisfied: certifi>=2017.4.17 in /usr/local/lib/python3.7/dist-packages (from requests->transformers) (2020.12.5)\n",
            "Requirement already satisfied: urllib3!=1.25.0,!=1.25.1,<1.26,>=1.21.1 in /usr/local/lib/python3.7/dist-packages (from requests->transformers) (1.24.3)\n",
            "Requirement already satisfied: idna<3,>=2.5 in /usr/local/lib/python3.7/dist-packages (from requests->transformers) (2.10)\n",
            "Requirement already satisfied: typing-extensions>=3.6.4; python_version < \"3.8\" in /usr/local/lib/python3.7/dist-packages (from importlib-metadata; python_version < \"3.8\"->transformers) (3.7.4.3)\n",
            "Requirement already satisfied: zipp>=0.5 in /usr/local/lib/python3.7/dist-packages (from importlib-metadata; python_version < \"3.8\"->transformers) (3.4.0)\n",
            "Requirement already satisfied: click in /usr/local/lib/python3.7/dist-packages (from sacremoses->transformers) (7.1.2)\n",
            "Requirement already satisfied: joblib in /usr/local/lib/python3.7/dist-packages (from sacremoses->transformers) (1.0.1)\n",
            "Requirement already satisfied: six in /usr/local/lib/python3.7/dist-packages (from sacremoses->transformers) (1.15.0)\n",
            "Requirement already satisfied: pyparsing>=2.0.2 in /usr/local/lib/python3.7/dist-packages (from packaging->transformers) (2.4.7)\n"
          ],
          "name": "stdout"
        }
      ]
    },
    {
      "cell_type": "code",
      "metadata": {
        "colab": {
          "base_uri": "https://localhost:8080/"
        },
        "id": "hqsqr-2QELuZ",
        "outputId": "474a2f42-2224-495c-ae74-3919d69d8125"
      },
      "source": [
        "from google.colab import drive\n",
        "drive.mount('/gdrive')"
      ],
      "execution_count": null,
      "outputs": [
        {
          "output_type": "stream",
          "text": [
            "Drive already mounted at /gdrive; to attempt to forcibly remount, call drive.mount(\"/gdrive\", force_remount=True).\n"
          ],
          "name": "stdout"
        }
      ]
    },
    {
      "cell_type": "code",
      "metadata": {
        "id": "31W1W-RGELuc"
      },
      "source": [
        "mydrivePath = '/gdrive/MyDrive/Colab Notebooks/Transformers/LocalModelUsage/distilbert-base-uncased-finetuned-sst-2-english'"
      ],
      "execution_count": null,
      "outputs": []
    },
    {
      "cell_type": "code",
      "metadata": {
        "colab": {
          "base_uri": "https://localhost:8080/"
        },
        "id": "f5WsjGMrERN3",
        "outputId": "9a2fbd74-d15e-441a-ba11-c4963348d265"
      },
      "source": [
        "!ls {mydrivePath.replace(' ', '\\ ')} -lh"
      ],
      "execution_count": null,
      "outputs": [
        {
          "output_type": "stream",
          "text": [
            "total 767M\n",
            "-rw------- 1 root root  629 Feb 24 10:22 config.json\n",
            "-rw------- 1 root root 256M Feb 24 10:22 pytorch_model.bin\n",
            "-rw------- 1 root root  508 Feb 24 10:22 README.md\n",
            "-rw------- 1 root root 256M Feb 24 10:22 rust_model.ot\n",
            "-rw------- 1 root root 256M Feb 24 10:22 tf_model.h5\n",
            "-rw------- 1 root root   48 Feb 24 10:22 tokenizer_config.json\n",
            "-rw------- 1 root root 227K Feb 24 10:22 vocab.txt\n"
          ],
          "name": "stdout"
        }
      ]
    },
    {
      "cell_type": "markdown",
      "metadata": {
        "id": "2Bpk7o14m4PP"
      },
      "source": [
        "# Load Model from Persistence"
      ]
    },
    {
      "cell_type": "code",
      "metadata": {
        "id": "HWeIwMuFeN1L"
      },
      "source": [
        "from transformers import AutoTokenizer, AutoModelForSequenceClassification\r\n",
        "\r\n",
        "tokenizer = AutoTokenizer.from_pretrained(mydrivePath)\r\n",
        "\r\n",
        "model = AutoModelForSequenceClassification.from_pretrained(mydrivePath)"
      ],
      "execution_count": null,
      "outputs": []
    },
    {
      "cell_type": "markdown",
      "metadata": {
        "id": "Xdn13KWLlrCh"
      },
      "source": [
        "# Transformers Documentation\r\n",
        "https://huggingface.co/transformers/quicktour.html#quick-tour"
      ]
    },
    {
      "cell_type": "code",
      "metadata": {
        "id": "HNPCpYnodf5Y"
      },
      "source": [
        "from transformers import pipeline\r\n",
        "classifier = pipeline(task='sentiment-analysis', model=model, tokenizer=tokenizer)"
      ],
      "execution_count": null,
      "outputs": []
    },
    {
      "cell_type": "code",
      "metadata": {
        "colab": {
          "base_uri": "https://localhost:8080/"
        },
        "id": "zbAK3TYJmIgl",
        "outputId": "ca0324be-af4c-4278-8eac-4573320253cc"
      },
      "source": [
        "classifier('We are very happy to show you the 🤗 Transformers library.')"
      ],
      "execution_count": null,
      "outputs": [
        {
          "output_type": "execute_result",
          "data": {
            "text/plain": [
              "[{'label': 'POSITIVE', 'score': 0.9997795224189758}]"
            ]
          },
          "metadata": {
            "tags": []
          },
          "execution_count": 7
        }
      ]
    },
    {
      "cell_type": "code",
      "metadata": {
        "id": "1aSdTMK6dmRC",
        "colab": {
          "base_uri": "https://localhost:8080/"
        },
        "outputId": "97e215dc-42b3-4dad-90b0-514625a2edee"
      },
      "source": [
        "classifier('this is very sad.')"
      ],
      "execution_count": null,
      "outputs": [
        {
          "output_type": "execute_result",
          "data": {
            "text/plain": [
              "[{'label': 'NEGATIVE', 'score': 0.9995665550231934}]"
            ]
          },
          "metadata": {
            "tags": []
          },
          "execution_count": 8
        }
      ]
    },
    {
      "cell_type": "code",
      "metadata": {
        "id": "gBFW3IYOhBbs",
        "colab": {
          "base_uri": "https://localhost:8080/"
        },
        "outputId": "7e15cf3e-f037-4e75-fc45-1638301539ad"
      },
      "source": [
        "results = classifier([\"We are very happy to show you the 🤗 Transformers library.\",\r\n",
        "                      \"We hope you don't hate it.\"])\r\n",
        "\r\n",
        "for result in results:\r\n",
        "   print(f\"label: {result['label']}, with score: {round(result['score'], 4)}\")"
      ],
      "execution_count": null,
      "outputs": [
        {
          "output_type": "stream",
          "text": [
            "label: POSITIVE, with score: 0.9998\n",
            "label: NEGATIVE, with score: 0.5309\n"
          ],
          "name": "stdout"
        }
      ]
    }
  ]
}