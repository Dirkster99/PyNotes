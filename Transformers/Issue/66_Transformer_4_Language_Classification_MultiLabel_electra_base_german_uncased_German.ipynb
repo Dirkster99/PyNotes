{
  "nbformat": 4,
  "nbformat_minor": 0,
  "metadata": {
    "accelerator": "GPU",
    "colab": {
      "name": "66 Transformer 4 Language Classification MultiLabel electra-base-german-uncased German.ipynb",
      "provenance": [],
      "collapsed_sections": [],
      "authorship_tag": "ABX9TyPPDRcj80ldnctKJESR/Ru7",
      "include_colab_link": true
    },
    "kernelspec": {
      "display_name": "Python 3",
      "name": "python3"
    },
    "widgets": {
      "application/vnd.jupyter.widget-state+json": {
        "1438b71e675f42d09b8a63320cfa1f26": {
          "model_module": "@jupyter-widgets/controls",
          "model_name": "HBoxModel",
          "state": {
            "_view_name": "HBoxView",
            "_dom_classes": [],
            "_model_name": "HBoxModel",
            "_view_module": "@jupyter-widgets/controls",
            "_model_module_version": "1.5.0",
            "_view_count": null,
            "_view_module_version": "1.5.0",
            "box_style": "",
            "layout": "IPY_MODEL_a6540c6a1e4a4e7a97245986bbfc6358",
            "_model_module": "@jupyter-widgets/controls",
            "children": [
              "IPY_MODEL_88bc3f9e9eb24063b77898457af23a5a",
              "IPY_MODEL_16f2fce7a57a4eadb401117c3464b715"
            ]
          }
        },
        "a6540c6a1e4a4e7a97245986bbfc6358": {
          "model_module": "@jupyter-widgets/base",
          "model_name": "LayoutModel",
          "state": {
            "_view_name": "LayoutView",
            "grid_template_rows": null,
            "right": null,
            "justify_content": null,
            "_view_module": "@jupyter-widgets/base",
            "overflow": null,
            "_model_module_version": "1.2.0",
            "_view_count": null,
            "flex_flow": null,
            "width": null,
            "min_width": null,
            "border": null,
            "align_items": null,
            "bottom": null,
            "_model_module": "@jupyter-widgets/base",
            "top": null,
            "grid_column": null,
            "overflow_y": null,
            "overflow_x": null,
            "grid_auto_flow": null,
            "grid_area": null,
            "grid_template_columns": null,
            "flex": null,
            "_model_name": "LayoutModel",
            "justify_items": null,
            "grid_row": null,
            "max_height": null,
            "align_content": null,
            "visibility": null,
            "align_self": null,
            "height": null,
            "min_height": null,
            "padding": null,
            "grid_auto_rows": null,
            "grid_gap": null,
            "max_width": null,
            "order": null,
            "_view_module_version": "1.2.0",
            "grid_template_areas": null,
            "object_position": null,
            "object_fit": null,
            "grid_auto_columns": null,
            "margin": null,
            "display": null,
            "left": null
          }
        },
        "88bc3f9e9eb24063b77898457af23a5a": {
          "model_module": "@jupyter-widgets/controls",
          "model_name": "FloatProgressModel",
          "state": {
            "_view_name": "ProgressView",
            "style": "IPY_MODEL_186c15e3681b4faa867097353ee3f3ad",
            "_dom_classes": [],
            "description": "Downloading: 100%",
            "_model_name": "FloatProgressModel",
            "bar_style": "success",
            "max": 467,
            "_view_module": "@jupyter-widgets/controls",
            "_model_module_version": "1.5.0",
            "value": 467,
            "_view_count": null,
            "_view_module_version": "1.5.0",
            "orientation": "horizontal",
            "min": 0,
            "description_tooltip": null,
            "_model_module": "@jupyter-widgets/controls",
            "layout": "IPY_MODEL_fe6835ad7f354559a2cf6982d187a3c0"
          }
        },
        "16f2fce7a57a4eadb401117c3464b715": {
          "model_module": "@jupyter-widgets/controls",
          "model_name": "HTMLModel",
          "state": {
            "_view_name": "HTMLView",
            "style": "IPY_MODEL_4db0ad3b42484bc4b346506c5c5705a8",
            "_dom_classes": [],
            "description": "",
            "_model_name": "HTMLModel",
            "placeholder": "​",
            "_view_module": "@jupyter-widgets/controls",
            "_model_module_version": "1.5.0",
            "value": " 467/467 [00:00&lt;00:00, 1.20kB/s]",
            "_view_count": null,
            "_view_module_version": "1.5.0",
            "description_tooltip": null,
            "_model_module": "@jupyter-widgets/controls",
            "layout": "IPY_MODEL_d40ea96a44aa403b8eb74e3b4d55140b"
          }
        },
        "186c15e3681b4faa867097353ee3f3ad": {
          "model_module": "@jupyter-widgets/controls",
          "model_name": "ProgressStyleModel",
          "state": {
            "_view_name": "StyleView",
            "_model_name": "ProgressStyleModel",
            "description_width": "initial",
            "_view_module": "@jupyter-widgets/base",
            "_model_module_version": "1.5.0",
            "_view_count": null,
            "_view_module_version": "1.2.0",
            "bar_color": null,
            "_model_module": "@jupyter-widgets/controls"
          }
        },
        "fe6835ad7f354559a2cf6982d187a3c0": {
          "model_module": "@jupyter-widgets/base",
          "model_name": "LayoutModel",
          "state": {
            "_view_name": "LayoutView",
            "grid_template_rows": null,
            "right": null,
            "justify_content": null,
            "_view_module": "@jupyter-widgets/base",
            "overflow": null,
            "_model_module_version": "1.2.0",
            "_view_count": null,
            "flex_flow": null,
            "width": null,
            "min_width": null,
            "border": null,
            "align_items": null,
            "bottom": null,
            "_model_module": "@jupyter-widgets/base",
            "top": null,
            "grid_column": null,
            "overflow_y": null,
            "overflow_x": null,
            "grid_auto_flow": null,
            "grid_area": null,
            "grid_template_columns": null,
            "flex": null,
            "_model_name": "LayoutModel",
            "justify_items": null,
            "grid_row": null,
            "max_height": null,
            "align_content": null,
            "visibility": null,
            "align_self": null,
            "height": null,
            "min_height": null,
            "padding": null,
            "grid_auto_rows": null,
            "grid_gap": null,
            "max_width": null,
            "order": null,
            "_view_module_version": "1.2.0",
            "grid_template_areas": null,
            "object_position": null,
            "object_fit": null,
            "grid_auto_columns": null,
            "margin": null,
            "display": null,
            "left": null
          }
        },
        "4db0ad3b42484bc4b346506c5c5705a8": {
          "model_module": "@jupyter-widgets/controls",
          "model_name": "DescriptionStyleModel",
          "state": {
            "_view_name": "StyleView",
            "_model_name": "DescriptionStyleModel",
            "description_width": "",
            "_view_module": "@jupyter-widgets/base",
            "_model_module_version": "1.5.0",
            "_view_count": null,
            "_view_module_version": "1.2.0",
            "_model_module": "@jupyter-widgets/controls"
          }
        },
        "d40ea96a44aa403b8eb74e3b4d55140b": {
          "model_module": "@jupyter-widgets/base",
          "model_name": "LayoutModel",
          "state": {
            "_view_name": "LayoutView",
            "grid_template_rows": null,
            "right": null,
            "justify_content": null,
            "_view_module": "@jupyter-widgets/base",
            "overflow": null,
            "_model_module_version": "1.2.0",
            "_view_count": null,
            "flex_flow": null,
            "width": null,
            "min_width": null,
            "border": null,
            "align_items": null,
            "bottom": null,
            "_model_module": "@jupyter-widgets/base",
            "top": null,
            "grid_column": null,
            "overflow_y": null,
            "overflow_x": null,
            "grid_auto_flow": null,
            "grid_area": null,
            "grid_template_columns": null,
            "flex": null,
            "_model_name": "LayoutModel",
            "justify_items": null,
            "grid_row": null,
            "max_height": null,
            "align_content": null,
            "visibility": null,
            "align_self": null,
            "height": null,
            "min_height": null,
            "padding": null,
            "grid_auto_rows": null,
            "grid_gap": null,
            "max_width": null,
            "order": null,
            "_view_module_version": "1.2.0",
            "grid_template_areas": null,
            "object_position": null,
            "object_fit": null,
            "grid_auto_columns": null,
            "margin": null,
            "display": null,
            "left": null
          }
        },
        "c6bbab1e948a4d8baea54f8e29eb153a": {
          "model_module": "@jupyter-widgets/controls",
          "model_name": "HBoxModel",
          "state": {
            "_view_name": "HBoxView",
            "_dom_classes": [],
            "_model_name": "HBoxModel",
            "_view_module": "@jupyter-widgets/controls",
            "_model_module_version": "1.5.0",
            "_view_count": null,
            "_view_module_version": "1.5.0",
            "box_style": "",
            "layout": "IPY_MODEL_98a815ae9cee4caea7dc74ff69826b9d",
            "_model_module": "@jupyter-widgets/controls",
            "children": [
              "IPY_MODEL_c7142ff556d94575adadb825ed88772b",
              "IPY_MODEL_a8c8f76206ac4818ba4f1a03a1671bd8"
            ]
          }
        },
        "98a815ae9cee4caea7dc74ff69826b9d": {
          "model_module": "@jupyter-widgets/base",
          "model_name": "LayoutModel",
          "state": {
            "_view_name": "LayoutView",
            "grid_template_rows": null,
            "right": null,
            "justify_content": null,
            "_view_module": "@jupyter-widgets/base",
            "overflow": null,
            "_model_module_version": "1.2.0",
            "_view_count": null,
            "flex_flow": null,
            "width": null,
            "min_width": null,
            "border": null,
            "align_items": null,
            "bottom": null,
            "_model_module": "@jupyter-widgets/base",
            "top": null,
            "grid_column": null,
            "overflow_y": null,
            "overflow_x": null,
            "grid_auto_flow": null,
            "grid_area": null,
            "grid_template_columns": null,
            "flex": null,
            "_model_name": "LayoutModel",
            "justify_items": null,
            "grid_row": null,
            "max_height": null,
            "align_content": null,
            "visibility": null,
            "align_self": null,
            "height": null,
            "min_height": null,
            "padding": null,
            "grid_auto_rows": null,
            "grid_gap": null,
            "max_width": null,
            "order": null,
            "_view_module_version": "1.2.0",
            "grid_template_areas": null,
            "object_position": null,
            "object_fit": null,
            "grid_auto_columns": null,
            "margin": null,
            "display": null,
            "left": null
          }
        },
        "c7142ff556d94575adadb825ed88772b": {
          "model_module": "@jupyter-widgets/controls",
          "model_name": "FloatProgressModel",
          "state": {
            "_view_name": "ProgressView",
            "style": "IPY_MODEL_badea043d0c84aa6aa6e30cd5a8f9818",
            "_dom_classes": [],
            "description": "Downloading: 100%",
            "_model_name": "FloatProgressModel",
            "bar_style": "success",
            "max": 275501,
            "_view_module": "@jupyter-widgets/controls",
            "_model_module_version": "1.5.0",
            "value": 275501,
            "_view_count": null,
            "_view_module_version": "1.5.0",
            "orientation": "horizontal",
            "min": 0,
            "description_tooltip": null,
            "_model_module": "@jupyter-widgets/controls",
            "layout": "IPY_MODEL_99d47c6540c34d3ebeb11def4f0523aa"
          }
        },
        "a8c8f76206ac4818ba4f1a03a1671bd8": {
          "model_module": "@jupyter-widgets/controls",
          "model_name": "HTMLModel",
          "state": {
            "_view_name": "HTMLView",
            "style": "IPY_MODEL_e08c67df81294fe7866f9b9ee5fb07a8",
            "_dom_classes": [],
            "description": "",
            "_model_name": "HTMLModel",
            "placeholder": "​",
            "_view_module": "@jupyter-widgets/controls",
            "_model_module_version": "1.5.0",
            "value": " 276k/276k [00:01&lt;00:00, 201kB/s]",
            "_view_count": null,
            "_view_module_version": "1.5.0",
            "description_tooltip": null,
            "_model_module": "@jupyter-widgets/controls",
            "layout": "IPY_MODEL_90fe21dd179643ec9680bfac34973919"
          }
        },
        "badea043d0c84aa6aa6e30cd5a8f9818": {
          "model_module": "@jupyter-widgets/controls",
          "model_name": "ProgressStyleModel",
          "state": {
            "_view_name": "StyleView",
            "_model_name": "ProgressStyleModel",
            "description_width": "initial",
            "_view_module": "@jupyter-widgets/base",
            "_model_module_version": "1.5.0",
            "_view_count": null,
            "_view_module_version": "1.2.0",
            "bar_color": null,
            "_model_module": "@jupyter-widgets/controls"
          }
        },
        "99d47c6540c34d3ebeb11def4f0523aa": {
          "model_module": "@jupyter-widgets/base",
          "model_name": "LayoutModel",
          "state": {
            "_view_name": "LayoutView",
            "grid_template_rows": null,
            "right": null,
            "justify_content": null,
            "_view_module": "@jupyter-widgets/base",
            "overflow": null,
            "_model_module_version": "1.2.0",
            "_view_count": null,
            "flex_flow": null,
            "width": null,
            "min_width": null,
            "border": null,
            "align_items": null,
            "bottom": null,
            "_model_module": "@jupyter-widgets/base",
            "top": null,
            "grid_column": null,
            "overflow_y": null,
            "overflow_x": null,
            "grid_auto_flow": null,
            "grid_area": null,
            "grid_template_columns": null,
            "flex": null,
            "_model_name": "LayoutModel",
            "justify_items": null,
            "grid_row": null,
            "max_height": null,
            "align_content": null,
            "visibility": null,
            "align_self": null,
            "height": null,
            "min_height": null,
            "padding": null,
            "grid_auto_rows": null,
            "grid_gap": null,
            "max_width": null,
            "order": null,
            "_view_module_version": "1.2.0",
            "grid_template_areas": null,
            "object_position": null,
            "object_fit": null,
            "grid_auto_columns": null,
            "margin": null,
            "display": null,
            "left": null
          }
        },
        "e08c67df81294fe7866f9b9ee5fb07a8": {
          "model_module": "@jupyter-widgets/controls",
          "model_name": "DescriptionStyleModel",
          "state": {
            "_view_name": "StyleView",
            "_model_name": "DescriptionStyleModel",
            "description_width": "",
            "_view_module": "@jupyter-widgets/base",
            "_model_module_version": "1.5.0",
            "_view_count": null,
            "_view_module_version": "1.2.0",
            "_model_module": "@jupyter-widgets/controls"
          }
        },
        "90fe21dd179643ec9680bfac34973919": {
          "model_module": "@jupyter-widgets/base",
          "model_name": "LayoutModel",
          "state": {
            "_view_name": "LayoutView",
            "grid_template_rows": null,
            "right": null,
            "justify_content": null,
            "_view_module": "@jupyter-widgets/base",
            "overflow": null,
            "_model_module_version": "1.2.0",
            "_view_count": null,
            "flex_flow": null,
            "width": null,
            "min_width": null,
            "border": null,
            "align_items": null,
            "bottom": null,
            "_model_module": "@jupyter-widgets/base",
            "top": null,
            "grid_column": null,
            "overflow_y": null,
            "overflow_x": null,
            "grid_auto_flow": null,
            "grid_area": null,
            "grid_template_columns": null,
            "flex": null,
            "_model_name": "LayoutModel",
            "justify_items": null,
            "grid_row": null,
            "max_height": null,
            "align_content": null,
            "visibility": null,
            "align_self": null,
            "height": null,
            "min_height": null,
            "padding": null,
            "grid_auto_rows": null,
            "grid_gap": null,
            "max_width": null,
            "order": null,
            "_view_module_version": "1.2.0",
            "grid_template_areas": null,
            "object_position": null,
            "object_fit": null,
            "grid_auto_columns": null,
            "margin": null,
            "display": null,
            "left": null
          }
        },
        "3f7d4a97d8ae4dc891b476dba6855442": {
          "model_module": "@jupyter-widgets/controls",
          "model_name": "HBoxModel",
          "state": {
            "_view_name": "HBoxView",
            "_dom_classes": [],
            "_model_name": "HBoxModel",
            "_view_module": "@jupyter-widgets/controls",
            "_model_module_version": "1.5.0",
            "_view_count": null,
            "_view_module_version": "1.5.0",
            "box_style": "",
            "layout": "IPY_MODEL_4c4ae23ccc5847bbb319c22d0c758b7a",
            "_model_module": "@jupyter-widgets/controls",
            "children": [
              "IPY_MODEL_615db78a727f41fa9d7691d75476e5d7",
              "IPY_MODEL_047a377e475e4f79be9f80fcdf7ed2a1"
            ]
          }
        },
        "4c4ae23ccc5847bbb319c22d0c758b7a": {
          "model_module": "@jupyter-widgets/base",
          "model_name": "LayoutModel",
          "state": {
            "_view_name": "LayoutView",
            "grid_template_rows": null,
            "right": null,
            "justify_content": null,
            "_view_module": "@jupyter-widgets/base",
            "overflow": null,
            "_model_module_version": "1.2.0",
            "_view_count": null,
            "flex_flow": null,
            "width": null,
            "min_width": null,
            "border": null,
            "align_items": null,
            "bottom": null,
            "_model_module": "@jupyter-widgets/base",
            "top": null,
            "grid_column": null,
            "overflow_y": null,
            "overflow_x": null,
            "grid_auto_flow": null,
            "grid_area": null,
            "grid_template_columns": null,
            "flex": null,
            "_model_name": "LayoutModel",
            "justify_items": null,
            "grid_row": null,
            "max_height": null,
            "align_content": null,
            "visibility": null,
            "align_self": null,
            "height": null,
            "min_height": null,
            "padding": null,
            "grid_auto_rows": null,
            "grid_gap": null,
            "max_width": null,
            "order": null,
            "_view_module_version": "1.2.0",
            "grid_template_areas": null,
            "object_position": null,
            "object_fit": null,
            "grid_auto_columns": null,
            "margin": null,
            "display": null,
            "left": null
          }
        },
        "615db78a727f41fa9d7691d75476e5d7": {
          "model_module": "@jupyter-widgets/controls",
          "model_name": "FloatProgressModel",
          "state": {
            "_view_name": "ProgressView",
            "style": "IPY_MODEL_b5fdb5c40a0a4016bc4018cf2dab715b",
            "_dom_classes": [],
            "description": "Downloading: 100%",
            "_model_name": "FloatProgressModel",
            "bar_style": "success",
            "max": 103,
            "_view_module": "@jupyter-widgets/controls",
            "_model_module_version": "1.5.0",
            "value": 103,
            "_view_count": null,
            "_view_module_version": "1.5.0",
            "orientation": "horizontal",
            "min": 0,
            "description_tooltip": null,
            "_model_module": "@jupyter-widgets/controls",
            "layout": "IPY_MODEL_5ba13df478e146afb8ffac2cbbdc1a22"
          }
        },
        "047a377e475e4f79be9f80fcdf7ed2a1": {
          "model_module": "@jupyter-widgets/controls",
          "model_name": "HTMLModel",
          "state": {
            "_view_name": "HTMLView",
            "style": "IPY_MODEL_47aee21142274d2bb9abf389e428f271",
            "_dom_classes": [],
            "description": "",
            "_model_name": "HTMLModel",
            "placeholder": "​",
            "_view_module": "@jupyter-widgets/controls",
            "_model_module_version": "1.5.0",
            "value": " 103/103 [00:00&lt;00:00, 1.47kB/s]",
            "_view_count": null,
            "_view_module_version": "1.5.0",
            "description_tooltip": null,
            "_model_module": "@jupyter-widgets/controls",
            "layout": "IPY_MODEL_45f39d1b96fa4fe0a81ac4f673126631"
          }
        },
        "b5fdb5c40a0a4016bc4018cf2dab715b": {
          "model_module": "@jupyter-widgets/controls",
          "model_name": "ProgressStyleModel",
          "state": {
            "_view_name": "StyleView",
            "_model_name": "ProgressStyleModel",
            "description_width": "initial",
            "_view_module": "@jupyter-widgets/base",
            "_model_module_version": "1.5.0",
            "_view_count": null,
            "_view_module_version": "1.2.0",
            "bar_color": null,
            "_model_module": "@jupyter-widgets/controls"
          }
        },
        "5ba13df478e146afb8ffac2cbbdc1a22": {
          "model_module": "@jupyter-widgets/base",
          "model_name": "LayoutModel",
          "state": {
            "_view_name": "LayoutView",
            "grid_template_rows": null,
            "right": null,
            "justify_content": null,
            "_view_module": "@jupyter-widgets/base",
            "overflow": null,
            "_model_module_version": "1.2.0",
            "_view_count": null,
            "flex_flow": null,
            "width": null,
            "min_width": null,
            "border": null,
            "align_items": null,
            "bottom": null,
            "_model_module": "@jupyter-widgets/base",
            "top": null,
            "grid_column": null,
            "overflow_y": null,
            "overflow_x": null,
            "grid_auto_flow": null,
            "grid_area": null,
            "grid_template_columns": null,
            "flex": null,
            "_model_name": "LayoutModel",
            "justify_items": null,
            "grid_row": null,
            "max_height": null,
            "align_content": null,
            "visibility": null,
            "align_self": null,
            "height": null,
            "min_height": null,
            "padding": null,
            "grid_auto_rows": null,
            "grid_gap": null,
            "max_width": null,
            "order": null,
            "_view_module_version": "1.2.0",
            "grid_template_areas": null,
            "object_position": null,
            "object_fit": null,
            "grid_auto_columns": null,
            "margin": null,
            "display": null,
            "left": null
          }
        },
        "47aee21142274d2bb9abf389e428f271": {
          "model_module": "@jupyter-widgets/controls",
          "model_name": "DescriptionStyleModel",
          "state": {
            "_view_name": "StyleView",
            "_model_name": "DescriptionStyleModel",
            "description_width": "",
            "_view_module": "@jupyter-widgets/base",
            "_model_module_version": "1.5.0",
            "_view_count": null,
            "_view_module_version": "1.2.0",
            "_model_module": "@jupyter-widgets/controls"
          }
        },
        "45f39d1b96fa4fe0a81ac4f673126631": {
          "model_module": "@jupyter-widgets/base",
          "model_name": "LayoutModel",
          "state": {
            "_view_name": "LayoutView",
            "grid_template_rows": null,
            "right": null,
            "justify_content": null,
            "_view_module": "@jupyter-widgets/base",
            "overflow": null,
            "_model_module_version": "1.2.0",
            "_view_count": null,
            "flex_flow": null,
            "width": null,
            "min_width": null,
            "border": null,
            "align_items": null,
            "bottom": null,
            "_model_module": "@jupyter-widgets/base",
            "top": null,
            "grid_column": null,
            "overflow_y": null,
            "overflow_x": null,
            "grid_auto_flow": null,
            "grid_area": null,
            "grid_template_columns": null,
            "flex": null,
            "_model_name": "LayoutModel",
            "justify_items": null,
            "grid_row": null,
            "max_height": null,
            "align_content": null,
            "visibility": null,
            "align_self": null,
            "height": null,
            "min_height": null,
            "padding": null,
            "grid_auto_rows": null,
            "grid_gap": null,
            "max_width": null,
            "order": null,
            "_view_module_version": "1.2.0",
            "grid_template_areas": null,
            "object_position": null,
            "object_fit": null,
            "grid_auto_columns": null,
            "margin": null,
            "display": null,
            "left": null
          }
        },
        "84f43eb5f4894d93b19e8c069ad2d30c": {
          "model_module": "@jupyter-widgets/controls",
          "model_name": "HBoxModel",
          "state": {
            "_view_name": "HBoxView",
            "_dom_classes": [],
            "_model_name": "HBoxModel",
            "_view_module": "@jupyter-widgets/controls",
            "_model_module_version": "1.5.0",
            "_view_count": null,
            "_view_module_version": "1.5.0",
            "box_style": "",
            "layout": "IPY_MODEL_8c5ca7f1a93741b9a719c41972f01579",
            "_model_module": "@jupyter-widgets/controls",
            "children": [
              "IPY_MODEL_42ab06421b0d48dd9d15985314acab78",
              "IPY_MODEL_09e8e24e01fa4aa7927b8003e8023223"
            ]
          }
        },
        "8c5ca7f1a93741b9a719c41972f01579": {
          "model_module": "@jupyter-widgets/base",
          "model_name": "LayoutModel",
          "state": {
            "_view_name": "LayoutView",
            "grid_template_rows": null,
            "right": null,
            "justify_content": null,
            "_view_module": "@jupyter-widgets/base",
            "overflow": null,
            "_model_module_version": "1.2.0",
            "_view_count": null,
            "flex_flow": null,
            "width": null,
            "min_width": null,
            "border": null,
            "align_items": null,
            "bottom": null,
            "_model_module": "@jupyter-widgets/base",
            "top": null,
            "grid_column": null,
            "overflow_y": null,
            "overflow_x": null,
            "grid_auto_flow": null,
            "grid_area": null,
            "grid_template_columns": null,
            "flex": null,
            "_model_name": "LayoutModel",
            "justify_items": null,
            "grid_row": null,
            "max_height": null,
            "align_content": null,
            "visibility": null,
            "align_self": null,
            "height": null,
            "min_height": null,
            "padding": null,
            "grid_auto_rows": null,
            "grid_gap": null,
            "max_width": null,
            "order": null,
            "_view_module_version": "1.2.0",
            "grid_template_areas": null,
            "object_position": null,
            "object_fit": null,
            "grid_auto_columns": null,
            "margin": null,
            "display": null,
            "left": null
          }
        },
        "42ab06421b0d48dd9d15985314acab78": {
          "model_module": "@jupyter-widgets/controls",
          "model_name": "FloatProgressModel",
          "state": {
            "_view_name": "ProgressView",
            "style": "IPY_MODEL_7572417cc5e84ef3b49c364d817619dc",
            "_dom_classes": [],
            "description": "Downloading: 100%",
            "_model_name": "FloatProgressModel",
            "bar_style": "success",
            "max": 444916553,
            "_view_module": "@jupyter-widgets/controls",
            "_model_module_version": "1.5.0",
            "value": 444916553,
            "_view_count": null,
            "_view_module_version": "1.5.0",
            "orientation": "horizontal",
            "min": 0,
            "description_tooltip": null,
            "_model_module": "@jupyter-widgets/controls",
            "layout": "IPY_MODEL_e82ed22f6ec343a18abf3e4e425125a2"
          }
        },
        "09e8e24e01fa4aa7927b8003e8023223": {
          "model_module": "@jupyter-widgets/controls",
          "model_name": "HTMLModel",
          "state": {
            "_view_name": "HTMLView",
            "style": "IPY_MODEL_6cf26d0bff194a63acbcfbfeb61056e0",
            "_dom_classes": [],
            "description": "",
            "_model_name": "HTMLModel",
            "placeholder": "​",
            "_view_module": "@jupyter-widgets/controls",
            "_model_module_version": "1.5.0",
            "value": " 445M/445M [00:15&lt;00:00, 29.0MB/s]",
            "_view_count": null,
            "_view_module_version": "1.5.0",
            "description_tooltip": null,
            "_model_module": "@jupyter-widgets/controls",
            "layout": "IPY_MODEL_2cb0785bc42a426c9d13ed967d53ac6b"
          }
        },
        "7572417cc5e84ef3b49c364d817619dc": {
          "model_module": "@jupyter-widgets/controls",
          "model_name": "ProgressStyleModel",
          "state": {
            "_view_name": "StyleView",
            "_model_name": "ProgressStyleModel",
            "description_width": "initial",
            "_view_module": "@jupyter-widgets/base",
            "_model_module_version": "1.5.0",
            "_view_count": null,
            "_view_module_version": "1.2.0",
            "bar_color": null,
            "_model_module": "@jupyter-widgets/controls"
          }
        },
        "e82ed22f6ec343a18abf3e4e425125a2": {
          "model_module": "@jupyter-widgets/base",
          "model_name": "LayoutModel",
          "state": {
            "_view_name": "LayoutView",
            "grid_template_rows": null,
            "right": null,
            "justify_content": null,
            "_view_module": "@jupyter-widgets/base",
            "overflow": null,
            "_model_module_version": "1.2.0",
            "_view_count": null,
            "flex_flow": null,
            "width": null,
            "min_width": null,
            "border": null,
            "align_items": null,
            "bottom": null,
            "_model_module": "@jupyter-widgets/base",
            "top": null,
            "grid_column": null,
            "overflow_y": null,
            "overflow_x": null,
            "grid_auto_flow": null,
            "grid_area": null,
            "grid_template_columns": null,
            "flex": null,
            "_model_name": "LayoutModel",
            "justify_items": null,
            "grid_row": null,
            "max_height": null,
            "align_content": null,
            "visibility": null,
            "align_self": null,
            "height": null,
            "min_height": null,
            "padding": null,
            "grid_auto_rows": null,
            "grid_gap": null,
            "max_width": null,
            "order": null,
            "_view_module_version": "1.2.0",
            "grid_template_areas": null,
            "object_position": null,
            "object_fit": null,
            "grid_auto_columns": null,
            "margin": null,
            "display": null,
            "left": null
          }
        },
        "6cf26d0bff194a63acbcfbfeb61056e0": {
          "model_module": "@jupyter-widgets/controls",
          "model_name": "DescriptionStyleModel",
          "state": {
            "_view_name": "StyleView",
            "_model_name": "DescriptionStyleModel",
            "description_width": "",
            "_view_module": "@jupyter-widgets/base",
            "_model_module_version": "1.5.0",
            "_view_count": null,
            "_view_module_version": "1.2.0",
            "_model_module": "@jupyter-widgets/controls"
          }
        },
        "2cb0785bc42a426c9d13ed967d53ac6b": {
          "model_module": "@jupyter-widgets/base",
          "model_name": "LayoutModel",
          "state": {
            "_view_name": "LayoutView",
            "grid_template_rows": null,
            "right": null,
            "justify_content": null,
            "_view_module": "@jupyter-widgets/base",
            "overflow": null,
            "_model_module_version": "1.2.0",
            "_view_count": null,
            "flex_flow": null,
            "width": null,
            "min_width": null,
            "border": null,
            "align_items": null,
            "bottom": null,
            "_model_module": "@jupyter-widgets/base",
            "top": null,
            "grid_column": null,
            "overflow_y": null,
            "overflow_x": null,
            "grid_auto_flow": null,
            "grid_area": null,
            "grid_template_columns": null,
            "flex": null,
            "_model_name": "LayoutModel",
            "justify_items": null,
            "grid_row": null,
            "max_height": null,
            "align_content": null,
            "visibility": null,
            "align_self": null,
            "height": null,
            "min_height": null,
            "padding": null,
            "grid_auto_rows": null,
            "grid_gap": null,
            "max_width": null,
            "order": null,
            "_view_module_version": "1.2.0",
            "grid_template_areas": null,
            "object_position": null,
            "object_fit": null,
            "grid_auto_columns": null,
            "margin": null,
            "display": null,
            "left": null
          }
        }
      }
    }
  },
  "cells": [
    {
      "cell_type": "markdown",
      "metadata": {
        "id": "view-in-github",
        "colab_type": "text"
      },
      "source": [
        "<a href=\"https://colab.research.google.com/github/Dirkster99/PyNotes/blob/master/Transformers/Issue/66_Transformer_4_Language_Classification_MultiLabel_electra_base_german_uncased_German.ipynb\" target=\"_parent\"><img src=\"https://colab.research.google.com/assets/colab-badge.svg\" alt=\"Open In Colab\"/></a>"
      ]
    },
    {
      "cell_type": "code",
      "metadata": {
        "colab": {
          "base_uri": "https://localhost:8080/"
        },
        "id": "DDLTyAriDDLg",
        "outputId": "15fc433a-fd1f-4389-8f0c-61257c599baa"
      },
      "source": [
        "!pip install transformers==4.2.1"
      ],
      "execution_count": 1,
      "outputs": [
        {
          "output_type": "stream",
          "text": [
            "Collecting transformers==4.2.1\n",
            "\u001b[?25l  Downloading https://files.pythonhosted.org/packages/cd/40/866cbfac4601e0f74c7303d533a9c5d4a53858bd402e08e3e294dd271f25/transformers-4.2.1-py3-none-any.whl (1.8MB)\n",
            "\u001b[K     |████████████████████████████████| 1.8MB 8.1MB/s \n",
            "\u001b[?25hCollecting tokenizers==0.9.4\n",
            "\u001b[?25l  Downloading https://files.pythonhosted.org/packages/fb/36/59e4a62254c5fcb43894c6b0e9403ec6f4238cc2422a003ed2e6279a1784/tokenizers-0.9.4-cp37-cp37m-manylinux2010_x86_64.whl (2.9MB)\n",
            "\u001b[K     |████████████████████████████████| 2.9MB 37.0MB/s \n",
            "\u001b[?25hRequirement already satisfied: numpy in /usr/local/lib/python3.7/dist-packages (from transformers==4.2.1) (1.19.5)\n",
            "Collecting sacremoses\n",
            "\u001b[?25l  Downloading https://files.pythonhosted.org/packages/7d/34/09d19aff26edcc8eb2a01bed8e98f13a1537005d31e95233fd48216eed10/sacremoses-0.0.43.tar.gz (883kB)\n",
            "\u001b[K     |████████████████████████████████| 890kB 36.6MB/s \n",
            "\u001b[?25hRequirement already satisfied: requests in /usr/local/lib/python3.7/dist-packages (from transformers==4.2.1) (2.23.0)\n",
            "Requirement already satisfied: importlib-metadata; python_version < \"3.8\" in /usr/local/lib/python3.7/dist-packages (from transformers==4.2.1) (3.7.2)\n",
            "Requirement already satisfied: packaging in /usr/local/lib/python3.7/dist-packages (from transformers==4.2.1) (20.9)\n",
            "Requirement already satisfied: tqdm>=4.27 in /usr/local/lib/python3.7/dist-packages (from transformers==4.2.1) (4.41.1)\n",
            "Requirement already satisfied: filelock in /usr/local/lib/python3.7/dist-packages (from transformers==4.2.1) (3.0.12)\n",
            "Requirement already satisfied: regex!=2019.12.17 in /usr/local/lib/python3.7/dist-packages (from transformers==4.2.1) (2019.12.20)\n",
            "Requirement already satisfied: six in /usr/local/lib/python3.7/dist-packages (from sacremoses->transformers==4.2.1) (1.15.0)\n",
            "Requirement already satisfied: click in /usr/local/lib/python3.7/dist-packages (from sacremoses->transformers==4.2.1) (7.1.2)\n",
            "Requirement already satisfied: joblib in /usr/local/lib/python3.7/dist-packages (from sacremoses->transformers==4.2.1) (1.0.1)\n",
            "Requirement already satisfied: certifi>=2017.4.17 in /usr/local/lib/python3.7/dist-packages (from requests->transformers==4.2.1) (2020.12.5)\n",
            "Requirement already satisfied: chardet<4,>=3.0.2 in /usr/local/lib/python3.7/dist-packages (from requests->transformers==4.2.1) (3.0.4)\n",
            "Requirement already satisfied: urllib3!=1.25.0,!=1.25.1,<1.26,>=1.21.1 in /usr/local/lib/python3.7/dist-packages (from requests->transformers==4.2.1) (1.24.3)\n",
            "Requirement already satisfied: idna<3,>=2.5 in /usr/local/lib/python3.7/dist-packages (from requests->transformers==4.2.1) (2.10)\n",
            "Requirement already satisfied: zipp>=0.5 in /usr/local/lib/python3.7/dist-packages (from importlib-metadata; python_version < \"3.8\"->transformers==4.2.1) (3.4.1)\n",
            "Requirement already satisfied: typing-extensions>=3.6.4; python_version < \"3.8\" in /usr/local/lib/python3.7/dist-packages (from importlib-metadata; python_version < \"3.8\"->transformers==4.2.1) (3.7.4.3)\n",
            "Requirement already satisfied: pyparsing>=2.0.2 in /usr/local/lib/python3.7/dist-packages (from packaging->transformers==4.2.1) (2.4.7)\n",
            "Building wheels for collected packages: sacremoses\n",
            "  Building wheel for sacremoses (setup.py) ... \u001b[?25l\u001b[?25hdone\n",
            "  Created wheel for sacremoses: filename=sacremoses-0.0.43-cp37-none-any.whl size=893262 sha256=9271bfa21fcc8c30bde27ef10af842dcca929c8255780a729538e38900595cc3\n",
            "  Stored in directory: /root/.cache/pip/wheels/29/3c/fd/7ce5c3f0666dab31a50123635e6fb5e19ceb42ce38d4e58f45\n",
            "Successfully built sacremoses\n",
            "Installing collected packages: tokenizers, sacremoses, transformers\n",
            "Successfully installed sacremoses-0.0.43 tokenizers-0.9.4 transformers-4.2.1\n"
          ],
          "name": "stdout"
        }
      ]
    },
    {
      "cell_type": "markdown",
      "metadata": {
        "id": "ia9W-HzFDaub"
      },
      "source": [
        "# Building a Language Classification Model with Transformers and TensorFlow 2.0"
      ]
    },
    {
      "cell_type": "markdown",
      "metadata": {
        "id": "WJql3VeHD7Nn"
      },
      "source": [
        "Original Author: James Briggs\n",
        "https://www.youtube.com/watch?v=GYDFBfx8Ts8\n",
        "\n",
        "Dataset: https://www.kaggle.com/dirkbahle/german-new-multilabel-multiclass-classification"
      ]
    },
    {
      "cell_type": "markdown",
      "metadata": {
        "id": "WzlppuarDagD"
      },
      "source": [
        "## Download and Preprocessing Data"
      ]
    },
    {
      "cell_type": "markdown",
      "metadata": {
        "id": "hJBaeUYAE4qd"
      },
      "source": [
        "### 20 News Groups Categorization Dataset"
      ]
    },
    {
      "cell_type": "code",
      "metadata": {
        "colab": {
          "base_uri": "https://localhost:8080/"
        },
        "id": "UXw-mgikFgen",
        "outputId": "931a81f2-758d-4eea-f38f-bc48868d0e0e"
      },
      "source": [
        "from google.colab import drive\n",
        "drive.mount('/gdrive')"
      ],
      "execution_count": 2,
      "outputs": [
        {
          "output_type": "stream",
          "text": [
            "Mounted at /gdrive\n"
          ],
          "name": "stdout"
        }
      ]
    },
    {
      "cell_type": "code",
      "metadata": {
        "colab": {
          "base_uri": "https://localhost:8080/"
        },
        "id": "lNCAQBZpFgep",
        "outputId": "7bfd6bdf-4de6-4cea-c6b3-5de77dc5f83c"
      },
      "source": [
        "dataPath = '/gdrive/MyDrive/GermanDataSets/German_News_Dataset/'\n",
        "!ls {dataPath.replace(' ', '\\ ')}  -lha"
      ],
      "execution_count": 3,
      "outputs": [
        {
          "output_type": "stream",
          "text": [
            "total 330M\n",
            "-rw------- 1 root root 241M Mar 18 11:08  archive.zip\n",
            "-rw------- 1 root root 850K Mar 19 12:17 'German MultiClass Reformating.ipynb'\n",
            "-rw------- 1 root root  89M Mar 18 17:19  German_News_MultiClass.zip\n",
            "-rw------- 1 root root   49 Mar 18 11:56  readme.txt\n"
          ],
          "name": "stdout"
        }
      ]
    },
    {
      "cell_type": "code",
      "metadata": {
        "id": "oUdNq3rLor0c"
      },
      "source": [
        "import pandas as pd\n",
        "df = pd.read_csv(dataPath+'German_News_MultiClass.zip')"
      ],
      "execution_count": 4,
      "outputs": []
    },
    {
      "cell_type": "code",
      "metadata": {
        "id": "kFXFtj8QwEGO"
      },
      "source": [
        "df = df.dropna()"
      ],
      "execution_count": 5,
      "outputs": []
    },
    {
      "cell_type": "code",
      "metadata": {
        "id": "QXsTBfRn4LA4"
      },
      "source": [
        "# Limit string length to conserve memory\n",
        "df['text'] = df['text'].str.slice(0,3000)"
      ],
      "execution_count": 6,
      "outputs": []
    },
    {
      "cell_type": "code",
      "metadata": {
        "colab": {
          "base_uri": "https://localhost:8080/",
          "height": 310
        },
        "id": "m96BrGRZorwr",
        "outputId": "a47c7b2e-ac17-4a6d-d8db-97be29c9639f"
      },
      "source": [
        "#pd.set_option('display.max_colwidth', None)\n",
        "df.head()"
      ],
      "execution_count": 7,
      "outputs": [
        {
          "output_type": "execute_result",
          "data": {
            "text/html": [
              "<div>\n",
              "<style scoped>\n",
              "    .dataframe tbody tr th:only-of-type {\n",
              "        vertical-align: middle;\n",
              "    }\n",
              "\n",
              "    .dataframe tbody tr th {\n",
              "        vertical-align: top;\n",
              "    }\n",
              "\n",
              "    .dataframe thead th {\n",
              "        text-align: right;\n",
              "    }\n",
              "</style>\n",
              "<table border=\"1\" class=\"dataframe\">\n",
              "  <thead>\n",
              "    <tr style=\"text-align: right;\">\n",
              "      <th></th>\n",
              "      <th>Unnamed: 0</th>\n",
              "      <th>text</th>\n",
              "      <th>tags</th>\n",
              "      <th>Ausland</th>\n",
              "      <th>Deutschland</th>\n",
              "      <th>Wirtschaft</th>\n",
              "      <th>Panorama</th>\n",
              "      <th>Sport</th>\n",
              "      <th>Coronavirus</th>\n",
              "      <th>Berlin</th>\n",
              "      <th>Politik</th>\n",
              "      <th>news</th>\n",
              "    </tr>\n",
              "  </thead>\n",
              "  <tbody>\n",
              "    <tr>\n",
              "      <th>0</th>\n",
              "      <td>0</td>\n",
              "      <td>Im Kreml sollte es in diesen Tagen eigentlich ...</td>\n",
              "      <td>Ausland, „Sputnik V“</td>\n",
              "      <td>1</td>\n",
              "      <td>0</td>\n",
              "      <td>0</td>\n",
              "      <td>0</td>\n",
              "      <td>0</td>\n",
              "      <td>0</td>\n",
              "      <td>0</td>\n",
              "      <td>0</td>\n",
              "      <td>0</td>\n",
              "    </tr>\n",
              "    <tr>\n",
              "      <th>1</th>\n",
              "      <td>1</td>\n",
              "      <td>Der Preis setze ein Zeichen für die Millionen ...</td>\n",
              "      <td>Ausland, Oslo</td>\n",
              "      <td>1</td>\n",
              "      <td>0</td>\n",
              "      <td>0</td>\n",
              "      <td>0</td>\n",
              "      <td>0</td>\n",
              "      <td>0</td>\n",
              "      <td>0</td>\n",
              "      <td>0</td>\n",
              "      <td>0</td>\n",
              "    </tr>\n",
              "    <tr>\n",
              "      <th>2</th>\n",
              "      <td>2</td>\n",
              "      <td>Die Kanzlerin berät mit den Bürgermeistern der...</td>\n",
              "      <td>Deutschland, Corona-Pandemie</td>\n",
              "      <td>0</td>\n",
              "      <td>1</td>\n",
              "      <td>0</td>\n",
              "      <td>0</td>\n",
              "      <td>0</td>\n",
              "      <td>0</td>\n",
              "      <td>0</td>\n",
              "      <td>0</td>\n",
              "      <td>0</td>\n",
              "    </tr>\n",
              "    <tr>\n",
              "      <th>3</th>\n",
              "      <td>3</td>\n",
              "      <td>Anzeige\\n\\nDie Corona-Krise hat auch vor dem e...</td>\n",
              "      <td>Wirtschaft, FIFA 21 im Test</td>\n",
              "      <td>0</td>\n",
              "      <td>0</td>\n",
              "      <td>1</td>\n",
              "      <td>0</td>\n",
              "      <td>0</td>\n",
              "      <td>0</td>\n",
              "      <td>0</td>\n",
              "      <td>0</td>\n",
              "      <td>0</td>\n",
              "    </tr>\n",
              "    <tr>\n",
              "      <th>4</th>\n",
              "      <td>4</td>\n",
              "      <td>Anzeige\\n\\nEin Problem? Kein Problem. Natürlic...</td>\n",
              "      <td>Panorama, Popkultur</td>\n",
              "      <td>0</td>\n",
              "      <td>0</td>\n",
              "      <td>0</td>\n",
              "      <td>1</td>\n",
              "      <td>0</td>\n",
              "      <td>0</td>\n",
              "      <td>0</td>\n",
              "      <td>0</td>\n",
              "      <td>0</td>\n",
              "    </tr>\n",
              "  </tbody>\n",
              "</table>\n",
              "</div>"
            ],
            "text/plain": [
              "   Unnamed: 0                                               text  ... Politik  news\n",
              "0           0  Im Kreml sollte es in diesen Tagen eigentlich ...  ...       0     0\n",
              "1           1  Der Preis setze ein Zeichen für die Millionen ...  ...       0     0\n",
              "2           2  Die Kanzlerin berät mit den Bürgermeistern der...  ...       0     0\n",
              "3           3  Anzeige\\n\\nDie Corona-Krise hat auch vor dem e...  ...       0     0\n",
              "4           4  Anzeige\\n\\nEin Problem? Kein Problem. Natürlic...  ...       0     0\n",
              "\n",
              "[5 rows x 12 columns]"
            ]
          },
          "metadata": {
            "tags": []
          },
          "execution_count": 7
        }
      ]
    },
    {
      "cell_type": "code",
      "metadata": {
        "colab": {
          "base_uri": "https://localhost:8080/"
        },
        "id": "qugok4UNp8k1",
        "outputId": "b37d024b-9f72-4f6f-9ab0-12e64bcc85ab"
      },
      "source": [
        "df.count()"
      ],
      "execution_count": 8,
      "outputs": [
        {
          "output_type": "execute_result",
          "data": {
            "text/plain": [
              "Unnamed: 0     56609\n",
              "text           56609\n",
              "tags           56609\n",
              "Ausland        56609\n",
              "Deutschland    56609\n",
              "Wirtschaft     56609\n",
              "Panorama       56609\n",
              "Sport          56609\n",
              "Coronavirus    56609\n",
              "Berlin         56609\n",
              "Politik        56609\n",
              "news           56609\n",
              "dtype: int64"
            ]
          },
          "metadata": {
            "tags": []
          },
          "execution_count": 8
        }
      ]
    },
    {
      "cell_type": "code",
      "metadata": {
        "id": "2qcoaog5qvdA"
      },
      "source": [
        "# drop rows without a single flag in it\n",
        "indexNames = df[ (df['Ausland'] == 0)\n",
        "               & (df['Deutschland'] == 0)\n",
        "               & (df['Wirtschaft'] == 0)\n",
        "               & (df['Panorama'] == 0)\n",
        "               & (df['Sport'] == 0)\n",
        "               & (df['Coronavirus'] == 0)\n",
        "               & (df['Berlin'] == 0)\n",
        "               & (df['Politik'] == 0)\n",
        "               & (df['news'] == 0)\n",
        "                ].index\n",
        "df.drop(indexNames , inplace=True)"
      ],
      "execution_count": 9,
      "outputs": []
    },
    {
      "cell_type": "markdown",
      "metadata": {
        "id": "8uPNZPqDrH1M"
      },
      "source": [
        "### Build Label Dictionaries"
      ]
    },
    {
      "cell_type": "code",
      "metadata": {
        "id": "naPgJrUTuJq7"
      },
      "source": [
        "labelHeadings = ['Ausland', 'Deutschland', 'Wirtschaft', 'Panorama', 'Sport', 'Coronavirus', 'Berlin', 'Politik', 'news']"
      ],
      "execution_count": 10,
      "outputs": []
    },
    {
      "cell_type": "code",
      "metadata": {
        "colab": {
          "base_uri": "https://localhost:8080/"
        },
        "id": "Uu7DwHT3tF5m",
        "outputId": "03356302-4450-4a96-c629-7d64813ddcd2"
      },
      "source": [
        "for label in labelHeadings: \n",
        "  print (f\"{label}: {len(df[df[label]>0])}\")"
      ],
      "execution_count": 11,
      "outputs": [
        {
          "output_type": "stream",
          "text": [
            "Ausland: 5515\n",
            "Deutschland: 4222\n",
            "Wirtschaft: 5176\n",
            "Panorama: 4803\n",
            "Sport: 5991\n",
            "Coronavirus: 4281\n",
            "Berlin: 3849\n",
            "Politik: 11235\n",
            "news: 11537\n"
          ],
          "name": "stdout"
        }
      ]
    },
    {
      "cell_type": "code",
      "metadata": {
        "colab": {
          "base_uri": "https://localhost:8080/"
        },
        "id": "wr0hn-tOmk2y",
        "outputId": "fec1d2af-4f90-499c-dda7-ae113210599e"
      },
      "source": [
        "label2index = {}\n",
        "index2label = {}\n",
        "for i in range(len(labelHeadings)):\n",
        "  label2index[labelHeadings[i]] = i\n",
        "  index2label[i] = labelHeadings[i]\n",
        "\n",
        "#print (f\"labelHeadings: {labelHeadings}\")\n",
        "#print (f\" label2index: {label2index}\")\n",
        "#print (f\" index2label: {index2label}\")\n",
        "\n",
        "for i in range(len(labelHeadings)):\n",
        "  print (f\"{i} -> {label2index[labelHeadings[i]]}, labelHeaders: {labelHeadings[i]} -> {index2label[i]}\")"
      ],
      "execution_count": 12,
      "outputs": [
        {
          "output_type": "stream",
          "text": [
            "0 -> 0, labelHeaders: Ausland -> Ausland\n",
            "1 -> 1, labelHeaders: Deutschland -> Deutschland\n",
            "2 -> 2, labelHeaders: Wirtschaft -> Wirtschaft\n",
            "3 -> 3, labelHeaders: Panorama -> Panorama\n",
            "4 -> 4, labelHeaders: Sport -> Sport\n",
            "5 -> 5, labelHeaders: Coronavirus -> Coronavirus\n",
            "6 -> 6, labelHeaders: Berlin -> Berlin\n",
            "7 -> 7, labelHeaders: Politik -> Politik\n",
            "8 -> 8, labelHeaders: news -> news\n"
          ],
          "name": "stdout"
        }
      ]
    },
    {
      "cell_type": "markdown",
      "metadata": {
        "id": "HWWipMHJL_2a"
      },
      "source": [
        "### Multi-Hot Encode Labels and Reformate for text and lables columns"
      ]
    },
    {
      "cell_type": "code",
      "metadata": {
        "id": "6v3xrVWFJFsn"
      },
      "source": [
        "#df.drop(['Unnamed'], inplace=True, axis=1)\n",
        "df.drop(df.columns[[0]],axis = 1,inplace = True)\n",
        "df.drop(['tags'], inplace=True, axis=1)"
      ],
      "execution_count": 13,
      "outputs": []
    },
    {
      "cell_type": "code",
      "metadata": {
        "id": "ZhFPwJjbKpPX"
      },
      "source": [
        "# Hot Encode 6 Label columns (starting at 2nd column 'till and of DataFrame)\n",
        "# into 1 column with a hot encoded list of values\n",
        "df['labels'] = df.iloc[:, 1:].values.tolist()"
      ],
      "execution_count": 14,
      "outputs": []
    },
    {
      "cell_type": "code",
      "metadata": {
        "id": "JfAeBWBnLX7-"
      },
      "source": [
        "for label in labelHeadings:\n",
        "  df.drop(axis=1, columns=label, inplace=True)"
      ],
      "execution_count": 15,
      "outputs": []
    },
    {
      "cell_type": "code",
      "metadata": {
        "colab": {
          "base_uri": "https://localhost:8080/",
          "height": 206
        },
        "id": "LCQvkVqpLQwN",
        "outputId": "faebb16a-3f05-4847-a425-a3f98d63ab87"
      },
      "source": [
        "df.head()"
      ],
      "execution_count": 16,
      "outputs": [
        {
          "output_type": "execute_result",
          "data": {
            "text/html": [
              "<div>\n",
              "<style scoped>\n",
              "    .dataframe tbody tr th:only-of-type {\n",
              "        vertical-align: middle;\n",
              "    }\n",
              "\n",
              "    .dataframe tbody tr th {\n",
              "        vertical-align: top;\n",
              "    }\n",
              "\n",
              "    .dataframe thead th {\n",
              "        text-align: right;\n",
              "    }\n",
              "</style>\n",
              "<table border=\"1\" class=\"dataframe\">\n",
              "  <thead>\n",
              "    <tr style=\"text-align: right;\">\n",
              "      <th></th>\n",
              "      <th>text</th>\n",
              "      <th>labels</th>\n",
              "    </tr>\n",
              "  </thead>\n",
              "  <tbody>\n",
              "    <tr>\n",
              "      <th>0</th>\n",
              "      <td>Im Kreml sollte es in diesen Tagen eigentlich ...</td>\n",
              "      <td>[1, 0, 0, 0, 0, 0, 0, 0, 0]</td>\n",
              "    </tr>\n",
              "    <tr>\n",
              "      <th>1</th>\n",
              "      <td>Der Preis setze ein Zeichen für die Millionen ...</td>\n",
              "      <td>[1, 0, 0, 0, 0, 0, 0, 0, 0]</td>\n",
              "    </tr>\n",
              "    <tr>\n",
              "      <th>2</th>\n",
              "      <td>Die Kanzlerin berät mit den Bürgermeistern der...</td>\n",
              "      <td>[0, 1, 0, 0, 0, 0, 0, 0, 0]</td>\n",
              "    </tr>\n",
              "    <tr>\n",
              "      <th>3</th>\n",
              "      <td>Anzeige\\n\\nDie Corona-Krise hat auch vor dem e...</td>\n",
              "      <td>[0, 0, 1, 0, 0, 0, 0, 0, 0]</td>\n",
              "    </tr>\n",
              "    <tr>\n",
              "      <th>4</th>\n",
              "      <td>Anzeige\\n\\nEin Problem? Kein Problem. Natürlic...</td>\n",
              "      <td>[0, 0, 0, 1, 0, 0, 0, 0, 0]</td>\n",
              "    </tr>\n",
              "  </tbody>\n",
              "</table>\n",
              "</div>"
            ],
            "text/plain": [
              "                                                text                       labels\n",
              "0  Im Kreml sollte es in diesen Tagen eigentlich ...  [1, 0, 0, 0, 0, 0, 0, 0, 0]\n",
              "1  Der Preis setze ein Zeichen für die Millionen ...  [1, 0, 0, 0, 0, 0, 0, 0, 0]\n",
              "2  Die Kanzlerin berät mit den Bürgermeistern der...  [0, 1, 0, 0, 0, 0, 0, 0, 0]\n",
              "3  Anzeige\\n\\nDie Corona-Krise hat auch vor dem e...  [0, 0, 1, 0, 0, 0, 0, 0, 0]\n",
              "4  Anzeige\\n\\nEin Problem? Kein Problem. Natürlic...  [0, 0, 0, 1, 0, 0, 0, 0, 0]"
            ]
          },
          "metadata": {
            "tags": []
          },
          "execution_count": 16
        }
      ]
    },
    {
      "cell_type": "markdown",
      "metadata": {
        "id": "442PUgfzOSuB"
      },
      "source": [
        "### Multi Hot Encode a continues label value (eg. 0-4) as array"
      ]
    },
    {
      "cell_type": "code",
      "metadata": {
        "colab": {
          "base_uri": "https://localhost:8080/"
        },
        "id": "fbVA5DmexHBs",
        "outputId": "77c9b41b-b48e-499b-acd4-1f5f9dc152a8"
      },
      "source": [
        "arr = df['labels'].values\n",
        "print ( f\"arr.size: {arr.size}\")\n",
        "print ( f\" arr.max: {arr.max()}\")\n",
        "print ( f\" arr.max: {len(arr.max())}\")"
      ],
      "execution_count": 17,
      "outputs": [
        {
          "output_type": "stream",
          "text": [
            "arr.size: 56609\n",
            " arr.max: [1, 0, 0, 0, 0, 0, 0, 0, 0]\n",
            " arr.max: 9\n"
          ],
          "name": "stdout"
        }
      ]
    },
    {
      "cell_type": "code",
      "metadata": {
        "colab": {
          "base_uri": "https://localhost:8080/"
        },
        "id": "6hjc604iwti6",
        "outputId": "5450af98-f0b0-4a32-8e4f-b5fcd702ab3f"
      },
      "source": [
        "import numpy as np\n",
        "labels = np.zeros((arr.size, len(arr.max())), dtype=float)\n",
        "print (f\"labels shape: {labels.shape}\")\n",
        "print (f\"labels:\\n{labels}\")"
      ],
      "execution_count": 18,
      "outputs": [
        {
          "output_type": "stream",
          "text": [
            "labels shape: (56609, 9)\n",
            "labels:\n",
            "[[0. 0. 0. ... 0. 0. 0.]\n",
            " [0. 0. 0. ... 0. 0. 0.]\n",
            " [0. 0. 0. ... 0. 0. 0.]\n",
            " ...\n",
            " [0. 0. 0. ... 0. 0. 0.]\n",
            " [0. 0. 0. ... 0. 0. 0.]\n",
            " [0. 0. 0. ... 0. 0. 0.]]\n"
          ],
          "name": "stdout"
        }
      ]
    },
    {
      "cell_type": "code",
      "metadata": {
        "id": "84GqEL20y2r3"
      },
      "source": [
        "for i in range(len(labels)):\n",
        "  labels[i] = np.array(arr[i])"
      ],
      "execution_count": 19,
      "outputs": []
    },
    {
      "cell_type": "code",
      "metadata": {
        "colab": {
          "base_uri": "https://localhost:8080/"
        },
        "id": "_21gt4mOy2ej",
        "outputId": "687c494b-3dc8-43d0-da90-98fa8d2cf9e6"
      },
      "source": [
        "labels"
      ],
      "execution_count": 20,
      "outputs": [
        {
          "output_type": "execute_result",
          "data": {
            "text/plain": [
              "array([[1., 0., 0., ..., 0., 0., 0.],\n",
              "       [1., 0., 0., ..., 0., 0., 0.],\n",
              "       [0., 1., 0., ..., 0., 0., 0.],\n",
              "       ...,\n",
              "       [0., 0., 0., ..., 0., 0., 0.],\n",
              "       [0., 0., 0., ..., 0., 1., 0.],\n",
              "       [0., 0., 0., ..., 0., 0., 0.]])"
            ]
          },
          "metadata": {
            "tags": []
          },
          "execution_count": 20
        }
      ]
    },
    {
      "cell_type": "code",
      "metadata": {
        "colab": {
          "base_uri": "https://localhost:8080/"
        },
        "id": "JA_9YivAOQrr",
        "outputId": "c36074d3-d26c-4288-9907-48958d075a43"
      },
      "source": [
        "print (f\"array size: {labels.size},\\narray: {labels}\")"
      ],
      "execution_count": 21,
      "outputs": [
        {
          "output_type": "stream",
          "text": [
            "array size: 509481,\n",
            "array: [[1. 0. 0. ... 0. 0. 0.]\n",
            " [1. 0. 0. ... 0. 0. 0.]\n",
            " [0. 1. 0. ... 0. 0. 0.]\n",
            " ...\n",
            " [0. 0. 0. ... 0. 0. 0.]\n",
            " [0. 0. 0. ... 0. 1. 0.]\n",
            " [0. 0. 0. ... 0. 0. 0.]]\n"
          ],
          "name": "stdout"
        }
      ]
    },
    {
      "cell_type": "code",
      "metadata": {
        "colab": {
          "base_uri": "https://localhost:8080/"
        },
        "id": "BdGu7JNHs7CL",
        "outputId": "d4a0c6eb-ec3d-4c04-c696-71ea43436e76"
      },
      "source": [
        "for i in range(0, 20):\n",
        "  print(labels[i])"
      ],
      "execution_count": 22,
      "outputs": [
        {
          "output_type": "stream",
          "text": [
            "[1. 0. 0. 0. 0. 0. 0. 0. 0.]\n",
            "[1. 0. 0. 0. 0. 0. 0. 0. 0.]\n",
            "[0. 1. 0. 0. 0. 0. 0. 0. 0.]\n",
            "[0. 0. 1. 0. 0. 0. 0. 0. 0.]\n",
            "[0. 0. 0. 1. 0. 0. 0. 0. 0.]\n",
            "[0. 0. 0. 0. 1. 0. 0. 0. 0.]\n",
            "[0. 1. 0. 0. 0. 0. 0. 0. 0.]\n",
            "[0. 0. 1. 0. 0. 0. 0. 0. 0.]\n",
            "[1. 0. 0. 0. 0. 0. 0. 0. 0.]\n",
            "[0. 1. 0. 0. 0. 0. 0. 0. 0.]\n",
            "[0. 1. 0. 0. 0. 0. 0. 0. 0.]\n",
            "[0. 0. 0. 1. 0. 0. 0. 0. 0.]\n",
            "[0. 0. 1. 0. 0. 0. 0. 0. 0.]\n",
            "[0. 0. 1. 0. 0. 0. 0. 0. 0.]\n",
            "[0. 1. 0. 0. 0. 0. 0. 0. 0.]\n",
            "[0. 0. 1. 0. 0. 0. 0. 0. 0.]\n",
            "[0. 0. 1. 0. 0. 0. 0. 0. 0.]\n",
            "[1. 0. 0. 0. 0. 0. 0. 0. 0.]\n",
            "[0. 0. 0. 0. 1. 0. 0. 0. 0.]\n",
            "[0. 1. 0. 0. 0. 0. 0. 0. 0.]\n"
          ],
          "name": "stdout"
        }
      ]
    },
    {
      "cell_type": "markdown",
      "metadata": {
        "id": "5RF_cC0RRtjU"
      },
      "source": [
        "### Encode Text Input Data"
      ]
    },
    {
      "cell_type": "code",
      "metadata": {
        "id": "5wU3RStSNpjl"
      },
      "source": [
        "seqlen = df['text'].apply(lambda x: len(x.split()))"
      ],
      "execution_count": 23,
      "outputs": []
    },
    {
      "cell_type": "code",
      "metadata": {
        "id": "e5itCuhEN76l"
      },
      "source": [
        "import seaborn as sns\n",
        "import matplotlib as plt"
      ],
      "execution_count": 24,
      "outputs": []
    },
    {
      "cell_type": "code",
      "metadata": {
        "colab": {
          "base_uri": "https://localhost:8080/",
          "height": 387
        },
        "id": "m_XxlXwqOJyQ",
        "outputId": "02ba12f9-93ed-469b-fed5-7080d61934f3"
      },
      "source": [
        "# Do a distribution plot on the seqquence length's of the given text\n",
        "sns.set_style('darkgrid')\n",
        "plt.figure.Figure(figsize=(16,10))\n",
        "sns.displot(seqlen)"
      ],
      "execution_count": 25,
      "outputs": [
        {
          "output_type": "execute_result",
          "data": {
            "text/plain": [
              "<seaborn.axisgrid.FacetGrid at 0x7f7c5e46d550>"
            ]
          },
          "metadata": {
            "tags": []
          },
          "execution_count": 25
        },
        {
          "output_type": "display_data",
          "data": {
            "image/png": "[encoded data removed]",
            "text/plain": [
              "<Figure size 360x360 with 1 Axes>"
            ]
          },
          "metadata": {
            "tags": []
          }
        }
      ]
    },
    {
      "cell_type": "code",
      "metadata": {
        "id": "CrGoSQ3HQogV"
      },
      "source": [
        "# Maximum length of the text we are going to train and predict here\n",
        "SEQ_LEN = 100"
      ],
      "execution_count": 26,
      "outputs": []
    },
    {
      "cell_type": "markdown",
      "metadata": {
        "id": "AwphaSBgDaPF"
      },
      "source": [
        "## Encode Input Data\n",
        "Encode the Input-Tensor and the Attention Tensor."
      ]
    },
    {
      "cell_type": "code",
      "metadata": {
        "colab": {
          "base_uri": "https://localhost:8080/"
        },
        "id": "GPNMuA4OY7r_",
        "outputId": "35bf603d-4b23-44a9-c615-93cfcaf92273"
      },
      "source": [
        "modelPath = '/gdrive/MyDrive/Colab Notebooks/Transformers/LocalModelUsage/distilbert-base-multilingual-cased/'\n",
        "!ls {modelPath.replace(' ', '\\ ')} -lha"
      ],
      "execution_count": 27,
      "outputs": [
        {
          "output_type": "stream",
          "text": [
            "total 1.3G\n",
            "-rw------- 1 root root 1.3G Mar  8 18:56  distilbert-base-multilingual-cased.zip\n",
            "-rw------- 1 root root 9.8K Mar  8 18:57 'Model Download Save.ipynb'\n",
            "-rw------- 1 root root 102K Mar  8 19:17 'Model Load.ipynb'\n"
          ],
          "name": "stdout"
        }
      ]
    },
    {
      "cell_type": "code",
      "metadata": {
        "colab": {
          "base_uri": "https://localhost:8080/"
        },
        "id": "_824XdfiZQra",
        "outputId": "064cefdf-8d26-4efe-efc0-998f2d730502"
      },
      "source": [
        "!unzip {(modelPath+'distilbert-base-multilingual-cased.zip').replace(' ', '\\ ')} -d localModel"
      ],
      "execution_count": 28,
      "outputs": [
        {
          "output_type": "stream",
          "text": [
            "Archive:  /gdrive/MyDrive/Colab Notebooks/Transformers/LocalModelUsage/distilbert-base-multilingual-cased/distilbert-base-multilingual-cased.zip\n",
            "  inflating: localModel/distilbert-base-multilingual-cased/config.json  \n",
            "  inflating: localModel/distilbert-base-multilingual-cased/pytorch_model.bin  \n",
            "  inflating: localModel/distilbert-base-multilingual-cased/README.md  \n",
            "  inflating: localModel/distilbert-base-multilingual-cased/tf_model.h5  \n",
            " extracting: localModel/distilbert-base-multilingual-cased/tokenizer_config.json  \n",
            "  inflating: localModel/distilbert-base-multilingual-cased/tokenizer.json  \n",
            "  inflating: localModel/distilbert-base-multilingual-cased/vocab.txt  \n"
          ],
          "name": "stdout"
        }
      ]
    },
    {
      "cell_type": "code",
      "metadata": {
        "id": "K1ZOtg_fRA9E",
        "colab": {
          "base_uri": "https://localhost:8080/",
          "height": 168,
          "referenced_widgets": [
            "1438b71e675f42d09b8a63320cfa1f26",
            "a6540c6a1e4a4e7a97245986bbfc6358",
            "88bc3f9e9eb24063b77898457af23a5a",
            "16f2fce7a57a4eadb401117c3464b715",
            "186c15e3681b4faa867097353ee3f3ad",
            "fe6835ad7f354559a2cf6982d187a3c0",
            "4db0ad3b42484bc4b346506c5c5705a8",
            "d40ea96a44aa403b8eb74e3b4d55140b",
            "c6bbab1e948a4d8baea54f8e29eb153a",
            "98a815ae9cee4caea7dc74ff69826b9d",
            "c7142ff556d94575adadb825ed88772b",
            "a8c8f76206ac4818ba4f1a03a1671bd8",
            "badea043d0c84aa6aa6e30cd5a8f9818",
            "99d47c6540c34d3ebeb11def4f0523aa",
            "e08c67df81294fe7866f9b9ee5fb07a8",
            "90fe21dd179643ec9680bfac34973919",
            "3f7d4a97d8ae4dc891b476dba6855442",
            "4c4ae23ccc5847bbb319c22d0c758b7a",
            "615db78a727f41fa9d7691d75476e5d7",
            "047a377e475e4f79be9f80fcdf7ed2a1",
            "b5fdb5c40a0a4016bc4018cf2dab715b",
            "5ba13df478e146afb8ffac2cbbdc1a22",
            "47aee21142274d2bb9abf389e428f271",
            "45f39d1b96fa4fe0a81ac4f673126631"
          ]
        },
        "outputId": "7639444c-88f4-4ba6-aa2c-bed3a96ef0a6"
      },
      "source": [
        "from transformers import AutoTokenizer\n",
        "tranformersPreTrainedModelName = 'german-nlp-group/electra-base-german-uncased'\n",
        "tokenizer = AutoTokenizer.from_pretrained(tranformersPreTrainedModelName) "
      ],
      "execution_count": 31,
      "outputs": [
        {
          "output_type": "display_data",
          "data": {
            "application/vnd.jupyter.widget-view+json": {
              "model_id": "1438b71e675f42d09b8a63320cfa1f26",
              "version_minor": 0,
              "version_major": 2
            },
            "text/plain": [
              "HBox(children=(FloatProgress(value=0.0, description='Downloading', max=467.0, style=ProgressStyle(description_…"
            ]
          },
          "metadata": {
            "tags": []
          }
        },
        {
          "output_type": "stream",
          "text": [
            "\n"
          ],
          "name": "stdout"
        },
        {
          "output_type": "display_data",
          "data": {
            "application/vnd.jupyter.widget-view+json": {
              "model_id": "c6bbab1e948a4d8baea54f8e29eb153a",
              "version_minor": 0,
              "version_major": 2
            },
            "text/plain": [
              "HBox(children=(FloatProgress(value=0.0, description='Downloading', max=275501.0, style=ProgressStyle(descripti…"
            ]
          },
          "metadata": {
            "tags": []
          }
        },
        {
          "output_type": "stream",
          "text": [
            "\n"
          ],
          "name": "stdout"
        },
        {
          "output_type": "display_data",
          "data": {
            "application/vnd.jupyter.widget-view+json": {
              "model_id": "3f7d4a97d8ae4dc891b476dba6855442",
              "version_minor": 0,
              "version_major": 2
            },
            "text/plain": [
              "HBox(children=(FloatProgress(value=0.0, description='Downloading', max=103.0, style=ProgressStyle(description_…"
            ]
          },
          "metadata": {
            "tags": []
          }
        },
        {
          "output_type": "stream",
          "text": [
            "\n"
          ],
          "name": "stdout"
        }
      ]
    },
    {
      "cell_type": "code",
      "metadata": {
        "id": "A-K1gSSpR7J-"
      },
      "source": [
        "tokens = tokenizer.encode_plus('Hello World'\n",
        "                               ,max_length = SEQ_LEN          # Using text with this max length\n",
        "                               ,truncation=True               # truncate any text longer than max_length\n",
        "                               ,padding='max_length'          # padd text that is smaller than max_length\n",
        "                               ,add_special_tokens=True       # add special tokens for start, end of sentence, unknown, and mask tokens\n",
        "                               ,return_token_type_ids = False # do not return ids for types of tokens\n",
        "                               ,return_attention_mask = True\n",
        "                               ,return_tensors='tf')"
      ],
      "execution_count": 32,
      "outputs": []
    },
    {
      "cell_type": "code",
      "metadata": {
        "colab": {
          "base_uri": "https://localhost:8080/"
        },
        "id": "4aftNX-1R7GR",
        "outputId": "c5b8880c-74f4-4cc7-af3c-045288053b9e"
      },
      "source": [
        "# Outputs 2 tensors named 'input_ids' & 'attention_mask'\n",
        "# The values 101 and 102 are start and end of sentence identifiers\n",
        "# while 7592 & 2088 are tokens for 'Hello World'\n",
        "#\n",
        "# Attention Mask tells Bert which tokens to pay attention to and which to ompletely ignore\n",
        "print (tokens)"
      ],
      "execution_count": 33,
      "outputs": [
        {
          "output_type": "stream",
          "text": [
            "{'input_ids': <tf.Tensor: shape=(1, 100), dtype=int32, numpy=\n",
            "array([[   2, 9747, 1778, 8995,    3,    0,    0,    0,    0,    0,    0,\n",
            "           0,    0,    0,    0,    0,    0,    0,    0,    0,    0,    0,\n",
            "           0,    0,    0,    0,    0,    0,    0,    0,    0,    0,    0,\n",
            "           0,    0,    0,    0,    0,    0,    0,    0,    0,    0,    0,\n",
            "           0,    0,    0,    0,    0,    0,    0,    0,    0,    0,    0,\n",
            "           0,    0,    0,    0,    0,    0,    0,    0,    0,    0,    0,\n",
            "           0,    0,    0,    0,    0,    0,    0,    0,    0,    0,    0,\n",
            "           0,    0,    0,    0,    0,    0,    0,    0,    0,    0,    0,\n",
            "           0,    0,    0,    0,    0,    0,    0,    0,    0,    0,    0,\n",
            "           0]], dtype=int32)>, 'attention_mask': <tf.Tensor: shape=(1, 100), dtype=int32, numpy=\n",
            "array([[1, 1, 1, 1, 1, 0, 0, 0, 0, 0, 0, 0, 0, 0, 0, 0, 0, 0, 0, 0, 0, 0,\n",
            "        0, 0, 0, 0, 0, 0, 0, 0, 0, 0, 0, 0, 0, 0, 0, 0, 0, 0, 0, 0, 0, 0,\n",
            "        0, 0, 0, 0, 0, 0, 0, 0, 0, 0, 0, 0, 0, 0, 0, 0, 0, 0, 0, 0, 0, 0,\n",
            "        0, 0, 0, 0, 0, 0, 0, 0, 0, 0, 0, 0, 0, 0, 0, 0, 0, 0, 0, 0, 0, 0,\n",
            "        0, 0, 0, 0, 0, 0, 0, 0, 0, 0, 0, 0]], dtype=int32)>}\n"
          ],
          "name": "stdout"
        }
      ]
    },
    {
      "cell_type": "markdown",
      "metadata": {
        "id": "Z6KLOlPgWfGU"
      },
      "source": [
        "### Tokenize each Sample in Dataset"
      ]
    },
    {
      "cell_type": "code",
      "metadata": {
        "id": "KbEgLLWER63t"
      },
      "source": [
        "import numpy as np\n",
        "# initialize numpy arrays for Token-Ids and Attention Masks\n",
        "Xids = np.zeros((len(df), SEQ_LEN), dtype=float)\n",
        "Xmask = np.zeros((len(df), SEQ_LEN), dtype=float)"
      ],
      "execution_count": 34,
      "outputs": []
    },
    {
      "cell_type": "code",
      "metadata": {
        "colab": {
          "base_uri": "https://localhost:8080/"
        },
        "id": "1ywb5Pi_XGEw",
        "outputId": "ac038ffc-df51-4605-be37-a3e94b4f13fc"
      },
      "source": [
        "Xids.shape"
      ],
      "execution_count": 35,
      "outputs": [
        {
          "output_type": "execute_result",
          "data": {
            "text/plain": [
              "(56609, 100)"
            ]
          },
          "metadata": {
            "tags": []
          },
          "execution_count": 35
        }
      ]
    },
    {
      "cell_type": "code",
      "metadata": {
        "id": "xNLh-Ir3XGA1"
      },
      "source": [
        "# Use a simple for loop to encode all data points\n",
        "for i, sequence in enumerate(df['text']):\n",
        "  tokens = tokenizer.encode_plus(sequence\n",
        "                               ,max_length = SEQ_LEN          # Using text with this max length\n",
        "                               ,truncation=True               # truncate any text longer than max_length\n",
        "                               ,padding='max_length'          # padd text that is smaller than max_length\n",
        "                               ,add_special_tokens=True       # add special tokens for start, end of sentence, unknown, and mask tokens\n",
        "                               ,return_token_type_ids = False # do not return ids for types of tokens\n",
        "                               ,return_attention_mask = True\n",
        "                               ,return_tensors='tf')\n",
        "  \n",
        "  Xids[i, :], Xmask[i, :] = tokens['input_ids'], tokens['attention_mask']"
      ],
      "execution_count": 36,
      "outputs": []
    },
    {
      "cell_type": "code",
      "metadata": {
        "colab": {
          "base_uri": "https://localhost:8080/"
        },
        "id": "R8VQM0QXXF9Z",
        "outputId": "64b52479-177e-4ae7-dbe0-c13fdbdb6b4f"
      },
      "source": [
        "# Array of tokenized Ids\n",
        "Xids"
      ],
      "execution_count": 37,
      "outputs": [
        {
          "output_type": "execute_result",
          "data": {
            "text/plain": [
              "array([[2.0000e+00, 2.5980e+03, 1.7467e+04, ..., 1.0011e+04, 1.3608e+04,\n",
              "        3.0000e+00],\n",
              "       [2.0000e+00, 2.5330e+03, 4.1810e+03, ..., 6.0760e+03, 2.8590e+03,\n",
              "        3.0000e+00],\n",
              "       [2.0000e+00, 2.5270e+03, 1.9221e+04, ..., 7.7900e+02, 1.7440e+04,\n",
              "        3.0000e+00],\n",
              "       ...,\n",
              "       [2.0000e+00, 5.9900e+03, 2.5520e+03, ..., 1.7680e+03, 2.5325e+04,\n",
              "        3.0000e+00],\n",
              "       [2.0000e+00, 9.4450e+03, 1.8228e+04, ..., 6.6380e+03, 6.6380e+03,\n",
              "        3.0000e+00],\n",
              "       [2.0000e+00, 6.7650e+03, 3.1116e+04, ..., 3.0370e+03, 7.7190e+03,\n",
              "        3.0000e+00]])"
            ]
          },
          "metadata": {
            "tags": []
          },
          "execution_count": 37
        }
      ]
    },
    {
      "cell_type": "code",
      "metadata": {
        "colab": {
          "base_uri": "https://localhost:8080/"
        },
        "id": "A0G0SwXjXF6B",
        "outputId": "656a752f-05fc-413b-fe9c-9357fe56f493"
      },
      "source": [
        "# Array of attaention masks\n",
        "Xmask"
      ],
      "execution_count": 38,
      "outputs": [
        {
          "output_type": "execute_result",
          "data": {
            "text/plain": [
              "array([[1., 1., 1., ..., 1., 1., 1.],\n",
              "       [1., 1., 1., ..., 1., 1., 1.],\n",
              "       [1., 1., 1., ..., 1., 1., 1.],\n",
              "       ...,\n",
              "       [1., 1., 1., ..., 1., 1., 1.],\n",
              "       [1., 1., 1., ..., 1., 1., 1.],\n",
              "       [1., 1., 1., ..., 1., 1., 1.]])"
            ]
          },
          "metadata": {
            "tags": []
          },
          "execution_count": 38
        }
      ]
    },
    {
      "cell_type": "code",
      "metadata": {
        "colab": {
          "base_uri": "https://localhost:8080/"
        },
        "id": "vufEVi2bvZEZ",
        "outputId": "87dd9596-ddb0-4880-a500-dd05ad2f8e1e"
      },
      "source": [
        "print (type(Xids))\n",
        "print (type(Xmask))\n",
        "print (type(labels))\n",
        "print (type(labels[0]))"
      ],
      "execution_count": 39,
      "outputs": [
        {
          "output_type": "stream",
          "text": [
            "<class 'numpy.ndarray'>\n",
            "<class 'numpy.ndarray'>\n",
            "<class 'numpy.ndarray'>\n",
            "<class 'numpy.ndarray'>\n"
          ],
          "name": "stdout"
        }
      ]
    },
    {
      "cell_type": "markdown",
      "metadata": {
        "id": "qsjMLMySfoz1"
      },
      "source": [
        "### Save Tokenized Data"
      ]
    },
    {
      "cell_type": "code",
      "metadata": {
        "id": "P2q54RC2fslb"
      },
      "source": [
        "with open ('xids.npy', 'wb') as f:\n",
        "  np.save(f, Xids)\n",
        "with open ('xmask.npy', 'wb') as f:\n",
        "  np.save(f, Xmask)\n",
        "with open ('labels.npy', 'wb') as f:\n",
        "  np.save(f, labels)\n",
        "\n",
        "del df, Xids, Xmask, labels\n",
        "df = None"
      ],
      "execution_count": 40,
      "outputs": []
    },
    {
      "cell_type": "markdown",
      "metadata": {
        "id": "j_HLCQX0DaTO"
      },
      "source": [
        "## Ininitializing Hugging Face Tokenizer and Model"
      ]
    },
    {
      "cell_type": "markdown",
      "metadata": {
        "id": "DwRV4SBIgSqF"
      },
      "source": [
        "### Load Tokenized Data"
      ]
    },
    {
      "cell_type": "code",
      "metadata": {
        "id": "eAe-0GqEgRml"
      },
      "source": [
        "import numpy as np\n",
        "with open ('xids.npy', 'rb') as f:\n",
        "  Xids = np.load(f)\n",
        "with open ('xmask.npy', 'rb') as f:\n",
        "  Xmask = np.load(f)\n",
        "with open ('labels.npy', 'rb') as f:\n",
        "  labels = np.load(f)"
      ],
      "execution_count": 41,
      "outputs": []
    },
    {
      "cell_type": "code",
      "metadata": {
        "colab": {
          "base_uri": "https://localhost:8080/"
        },
        "id": "Fb0tM3ANgpJk",
        "outputId": "e82ab8e6-b91f-4634-b2ec-5cdf196463ba"
      },
      "source": [
        "Xids"
      ],
      "execution_count": 42,
      "outputs": [
        {
          "output_type": "execute_result",
          "data": {
            "text/plain": [
              "array([[2.0000e+00, 2.5980e+03, 1.7467e+04, ..., 1.0011e+04, 1.3608e+04,\n",
              "        3.0000e+00],\n",
              "       [2.0000e+00, 2.5330e+03, 4.1810e+03, ..., 6.0760e+03, 2.8590e+03,\n",
              "        3.0000e+00],\n",
              "       [2.0000e+00, 2.5270e+03, 1.9221e+04, ..., 7.7900e+02, 1.7440e+04,\n",
              "        3.0000e+00],\n",
              "       ...,\n",
              "       [2.0000e+00, 5.9900e+03, 2.5520e+03, ..., 1.7680e+03, 2.5325e+04,\n",
              "        3.0000e+00],\n",
              "       [2.0000e+00, 9.4450e+03, 1.8228e+04, ..., 6.6380e+03, 6.6380e+03,\n",
              "        3.0000e+00],\n",
              "       [2.0000e+00, 6.7650e+03, 3.1116e+04, ..., 3.0370e+03, 7.7190e+03,\n",
              "        3.0000e+00]])"
            ]
          },
          "metadata": {
            "tags": []
          },
          "execution_count": 42
        }
      ]
    },
    {
      "cell_type": "code",
      "metadata": {
        "colab": {
          "base_uri": "https://localhost:8080/"
        },
        "id": "UtJBX_YdVVXq",
        "outputId": "b3883134-6e9a-4def-e785-6970c6c1e0dd"
      },
      "source": [
        "for i in range(0, 20):\n",
        "  print(labels[i])"
      ],
      "execution_count": 43,
      "outputs": [
        {
          "output_type": "stream",
          "text": [
            "[1. 0. 0. 0. 0. 0. 0. 0. 0.]\n",
            "[1. 0. 0. 0. 0. 0. 0. 0. 0.]\n",
            "[0. 1. 0. 0. 0. 0. 0. 0. 0.]\n",
            "[0. 0. 1. 0. 0. 0. 0. 0. 0.]\n",
            "[0. 0. 0. 1. 0. 0. 0. 0. 0.]\n",
            "[0. 0. 0. 0. 1. 0. 0. 0. 0.]\n",
            "[0. 1. 0. 0. 0. 0. 0. 0. 0.]\n",
            "[0. 0. 1. 0. 0. 0. 0. 0. 0.]\n",
            "[1. 0. 0. 0. 0. 0. 0. 0. 0.]\n",
            "[0. 1. 0. 0. 0. 0. 0. 0. 0.]\n",
            "[0. 1. 0. 0. 0. 0. 0. 0. 0.]\n",
            "[0. 0. 0. 1. 0. 0. 0. 0. 0.]\n",
            "[0. 0. 1. 0. 0. 0. 0. 0. 0.]\n",
            "[0. 0. 1. 0. 0. 0. 0. 0. 0.]\n",
            "[0. 1. 0. 0. 0. 0. 0. 0. 0.]\n",
            "[0. 0. 1. 0. 0. 0. 0. 0. 0.]\n",
            "[0. 0. 1. 0. 0. 0. 0. 0. 0.]\n",
            "[1. 0. 0. 0. 0. 0. 0. 0. 0.]\n",
            "[0. 0. 0. 0. 1. 0. 0. 0. 0.]\n",
            "[0. 1. 0. 0. 0. 0. 0. 0. 0.]\n"
          ],
          "name": "stdout"
        }
      ]
    },
    {
      "cell_type": "code",
      "metadata": {
        "id": "BYBiX8dEg1e5"
      },
      "source": [
        "import tensorflow as tf\n",
        "#tf.config.list_physical_device('GPU')"
      ],
      "execution_count": 44,
      "outputs": []
    },
    {
      "cell_type": "code",
      "metadata": {
        "id": "iy2rA94VhcmM"
      },
      "source": [
        "# TensorFlow expects input and target labels as an input tuple\n",
        "# Bert expects a dictionary of 'input_ids' and 'attention_mask' as input\n",
        "# So, lets create the dataset object\n",
        "# This creates a generator for a tuple of input tokens, attention_masks, and target labels\n",
        "dataset = tf.data.Dataset.from_tensor_slices((Xids, Xmask, labels))"
      ],
      "execution_count": 45,
      "outputs": []
    },
    {
      "cell_type": "code",
      "metadata": {
        "colab": {
          "base_uri": "https://localhost:8080/"
        },
        "id": "6uWyj0KkieMk",
        "outputId": "6198b485-e297-453d-e10f-10e5e96b1563"
      },
      "source": [
        "# View a single row in the dataset\n",
        "print (dataset.take(1))\n",
        "print ()\n",
        "for i in dataset.take(1):\n",
        "  print (i)"
      ],
      "execution_count": 46,
      "outputs": [
        {
          "output_type": "stream",
          "text": [
            "<TakeDataset shapes: ((100,), (100,), (9,)), types: (tf.float64, tf.float64, tf.float64)>\n",
            "\n",
            "(<tf.Tensor: shape=(100,), dtype=float64, numpy=\n",
            "array([2.0000e+00, 2.5980e+03, 1.7467e+04, 1.7790e+03, 3.4340e+03,\n",
            "       2.6470e+03, 2.5440e+03, 3.5320e+03, 5.4640e+03, 5.3820e+03,\n",
            "       7.3170e+03, 6.8120e+03, 2.6050e+03, 2.5900e+03, 1.8610e+04,\n",
            "       1.7750e+03, 4.1980e+03, 7.8000e+02, 2.6400e+03, 4.1390e+03,\n",
            "       2.7680e+03, 5.5110e+03, 1.6692e+04, 2.5270e+03, 3.1530e+03,\n",
            "       3.5630e+03, 1.7700e+03, 7.7900e+02, 6.5640e+03, 2.9410e+03,\n",
            "       2.5190e+03, 2.5440e+03, 6.3650e+03, 8.3410e+03, 3.1040e+03,\n",
            "       1.1573e+04, 8.4330e+03, 7.8000e+02, 3.3620e+03, 2.5440e+03,\n",
            "       4.4300e+03, 2.6600e+03, 3.6450e+03, 4.8280e+03, 2.7160e+03,\n",
            "       2.6260e+03, 2.5270e+03, 3.3190e+03, 2.5330e+03, 3.5080e+03,\n",
            "       2.6258e+04, 1.7670e+03, 1.7680e+03, 2.5900e+03, 6.1730e+03,\n",
            "       3.4130e+03, 7.8000e+02, 8.3060e+03, 2.6890e+03, 3.6660e+03,\n",
            "       2.8250e+03, 2.6600e+03, 2.4876e+04, 2.5420e+03, 3.6730e+03,\n",
            "       3.4350e+03, 2.5900e+03, 2.6390e+03, 9.8020e+03, 2.5330e+03,\n",
            "       1.1321e+04, 6.3410e+03, 2.5890e+03, 4.2610e+03, 7.8000e+02,\n",
            "       2.5270e+03, 5.9310e+03, 1.7497e+04, 2.6060e+03, 2.5440e+03,\n",
            "       6.3650e+03, 1.5120e+04, 7.8000e+02, 3.3620e+03, 9.0580e+03,\n",
            "       3.6610e+03, 2.7130e+03, 3.8910e+03, 1.3765e+04, 4.5190e+03,\n",
            "       7.8000e+02, 2.5330e+03, 1.1767e+04, 4.2200e+03, 3.0350e+03,\n",
            "       2.6260e+03, 6.9150e+03, 1.0011e+04, 1.3608e+04, 3.0000e+00])>, <tf.Tensor: shape=(100,), dtype=float64, numpy=\n",
            "array([1., 1., 1., 1., 1., 1., 1., 1., 1., 1., 1., 1., 1., 1., 1., 1., 1.,\n",
            "       1., 1., 1., 1., 1., 1., 1., 1., 1., 1., 1., 1., 1., 1., 1., 1., 1.,\n",
            "       1., 1., 1., 1., 1., 1., 1., 1., 1., 1., 1., 1., 1., 1., 1., 1., 1.,\n",
            "       1., 1., 1., 1., 1., 1., 1., 1., 1., 1., 1., 1., 1., 1., 1., 1., 1.,\n",
            "       1., 1., 1., 1., 1., 1., 1., 1., 1., 1., 1., 1., 1., 1., 1., 1., 1.,\n",
            "       1., 1., 1., 1., 1., 1., 1., 1., 1., 1., 1., 1., 1., 1., 1.])>, <tf.Tensor: shape=(9,), dtype=float64, numpy=array([1., 0., 0., 0., 0., 0., 0., 0., 0.])>)\n"
          ],
          "name": "stdout"
        }
      ]
    },
    {
      "cell_type": "code",
      "metadata": {
        "id": "ZobIL-pRjEjd"
      },
      "source": [
        "# minute 21:55\n",
        "# TensorFlow Bert model expects our input in a Tuple format containing:\n",
        "# 1) 'input_ids' and 'attention_mask' in a Dictionary and\n",
        "# 2) a label as 2nd part of the tupel\n",
        "def map_func(input_ids, masks, labels):\n",
        "  return {'input_ids': input_ids, 'attention_mask': masks}, labels"
      ],
      "execution_count": 47,
      "outputs": []
    },
    {
      "cell_type": "code",
      "metadata": {
        "id": "j-_aS7QR4eS9"
      },
      "source": [
        "# we can use the dataset map function to apply this format\n",
        "dataset = dataset.map(map_func)"
      ],
      "execution_count": 48,
      "outputs": []
    },
    {
      "cell_type": "code",
      "metadata": {
        "colab": {
          "base_uri": "https://localhost:8080/"
        },
        "id": "0lMhzkmz4vtO",
        "outputId": "b90fbee1-ad5f-42be-9fb4-52c2744906ec"
      },
      "source": [
        "# View a single row in the dataset\n",
        "print (dataset.take(1))\n",
        "print ()\n",
        "for i in dataset.take(1):\n",
        "  print (i)"
      ],
      "execution_count": 49,
      "outputs": [
        {
          "output_type": "stream",
          "text": [
            "<TakeDataset shapes: ({input_ids: (100,), attention_mask: (100,)}, (9,)), types: ({input_ids: tf.float64, attention_mask: tf.float64}, tf.float64)>\n",
            "\n",
            "({'input_ids': <tf.Tensor: shape=(100,), dtype=float64, numpy=\n",
            "array([2.0000e+00, 2.5980e+03, 1.7467e+04, 1.7790e+03, 3.4340e+03,\n",
            "       2.6470e+03, 2.5440e+03, 3.5320e+03, 5.4640e+03, 5.3820e+03,\n",
            "       7.3170e+03, 6.8120e+03, 2.6050e+03, 2.5900e+03, 1.8610e+04,\n",
            "       1.7750e+03, 4.1980e+03, 7.8000e+02, 2.6400e+03, 4.1390e+03,\n",
            "       2.7680e+03, 5.5110e+03, 1.6692e+04, 2.5270e+03, 3.1530e+03,\n",
            "       3.5630e+03, 1.7700e+03, 7.7900e+02, 6.5640e+03, 2.9410e+03,\n",
            "       2.5190e+03, 2.5440e+03, 6.3650e+03, 8.3410e+03, 3.1040e+03,\n",
            "       1.1573e+04, 8.4330e+03, 7.8000e+02, 3.3620e+03, 2.5440e+03,\n",
            "       4.4300e+03, 2.6600e+03, 3.6450e+03, 4.8280e+03, 2.7160e+03,\n",
            "       2.6260e+03, 2.5270e+03, 3.3190e+03, 2.5330e+03, 3.5080e+03,\n",
            "       2.6258e+04, 1.7670e+03, 1.7680e+03, 2.5900e+03, 6.1730e+03,\n",
            "       3.4130e+03, 7.8000e+02, 8.3060e+03, 2.6890e+03, 3.6660e+03,\n",
            "       2.8250e+03, 2.6600e+03, 2.4876e+04, 2.5420e+03, 3.6730e+03,\n",
            "       3.4350e+03, 2.5900e+03, 2.6390e+03, 9.8020e+03, 2.5330e+03,\n",
            "       1.1321e+04, 6.3410e+03, 2.5890e+03, 4.2610e+03, 7.8000e+02,\n",
            "       2.5270e+03, 5.9310e+03, 1.7497e+04, 2.6060e+03, 2.5440e+03,\n",
            "       6.3650e+03, 1.5120e+04, 7.8000e+02, 3.3620e+03, 9.0580e+03,\n",
            "       3.6610e+03, 2.7130e+03, 3.8910e+03, 1.3765e+04, 4.5190e+03,\n",
            "       7.8000e+02, 2.5330e+03, 1.1767e+04, 4.2200e+03, 3.0350e+03,\n",
            "       2.6260e+03, 6.9150e+03, 1.0011e+04, 1.3608e+04, 3.0000e+00])>, 'attention_mask': <tf.Tensor: shape=(100,), dtype=float64, numpy=\n",
            "array([1., 1., 1., 1., 1., 1., 1., 1., 1., 1., 1., 1., 1., 1., 1., 1., 1.,\n",
            "       1., 1., 1., 1., 1., 1., 1., 1., 1., 1., 1., 1., 1., 1., 1., 1., 1.,\n",
            "       1., 1., 1., 1., 1., 1., 1., 1., 1., 1., 1., 1., 1., 1., 1., 1., 1.,\n",
            "       1., 1., 1., 1., 1., 1., 1., 1., 1., 1., 1., 1., 1., 1., 1., 1., 1.,\n",
            "       1., 1., 1., 1., 1., 1., 1., 1., 1., 1., 1., 1., 1., 1., 1., 1., 1.,\n",
            "       1., 1., 1., 1., 1., 1., 1., 1., 1., 1., 1., 1., 1., 1., 1.])>}, <tf.Tensor: shape=(9,), dtype=float64, numpy=array([1., 0., 0., 0., 0., 0., 0., 0., 0.])>)\n"
          ],
          "name": "stdout"
        }
      ]
    },
    {
      "cell_type": "code",
      "metadata": {
        "id": "sMkNHhxq47Ze"
      },
      "source": [
        "# SHuffle and Bach Dataset\n",
        "#dataset = dataset.shuffle(1000).batch(32)"
      ],
      "execution_count": 50,
      "outputs": []
    },
    {
      "cell_type": "code",
      "metadata": {
        "colab": {
          "base_uri": "https://localhost:8080/"
        },
        "id": "00o88BAS5YKh",
        "outputId": "7dc5e100-511a-4b65-96ba-e6a3cd9014a2"
      },
      "source": [
        "# Get the total size of dataset now that it is batched\n",
        "#\n",
        "# the dataset object is a generator object so we cannot take the length of it directly\n",
        "# thus, we have to convert it into a list\n",
        "# \n",
        "# Do not do this with a very large dataset\n",
        "#\n",
        "DS_LEN = len(list(dataset))\n",
        "DS_LEN"
      ],
      "execution_count": 51,
      "outputs": [
        {
          "output_type": "execute_result",
          "data": {
            "text/plain": [
              "56609"
            ]
          },
          "metadata": {
            "tags": []
          },
          "execution_count": 51
        }
      ]
    },
    {
      "cell_type": "code",
      "metadata": {
        "colab": {
          "base_uri": "https://localhost:8080/"
        },
        "id": "WK8di-Y45rrq",
        "outputId": "7ce72f7e-ef51-474a-915e-b1f8bf9fba3d"
      },
      "source": [
        "print (f\"Alternative Computation for DS_LEN: {len(Xids)/32} -> {round(len(Xids)/32, 0)}\")"
      ],
      "execution_count": 52,
      "outputs": [
        {
          "output_type": "stream",
          "text": [
            "Alternative Computation for DS_LEN: 1769.03125 -> 1769.0\n"
          ],
          "name": "stdout"
        }
      ]
    },
    {
      "cell_type": "code",
      "metadata": {
        "id": "SSB_T17u834a"
      },
      "source": [
        "SPLIT = .8\n",
        "\n",
        "# take or skip the specified number of batches to split by factor\n",
        "test = dataset.skip(round(DS_LEN * SPLIT)).batch(32)\n",
        "trainevalu = dataset.take(round(DS_LEN * SPLIT))\n",
        "\n",
        "DS_LEN2 = len(list(trainevalu))\n",
        "\n",
        "train = trainevalu.take(round(DS_LEN2 * SPLIT)).shuffle(1000).batch(32)\n",
        "evalu = trainevalu.skip(round(DS_LEN2 * SPLIT)).shuffle(1000).batch(32)\n",
        "\n",
        "del dataset"
      ],
      "execution_count": 53,
      "outputs": []
    },
    {
      "cell_type": "code",
      "metadata": {
        "colab": {
          "base_uri": "https://localhost:8080/"
        },
        "id": "df1CJecNWimq",
        "outputId": "77b34102-ae02-4af9-dafa-da00e0973096"
      },
      "source": [
        "print (f\"test data: {len(test)}\")\n",
        "print (f\"train data: {len(train)}, train evalu data: {len(evalu)}\")"
      ],
      "execution_count": 54,
      "outputs": [
        {
          "output_type": "stream",
          "text": [
            "test data: 354\n",
            "train data: 1133, train evalu data: 284\n"
          ],
          "name": "stdout"
        }
      ]
    },
    {
      "cell_type": "markdown",
      "metadata": {
        "id": "wTZP1_udDaF_"
      },
      "source": [
        "## Build Model"
      ]
    },
    {
      "cell_type": "code",
      "metadata": {
        "id": "lLCtrOdj9PKj"
      },
      "source": [
        "from transformers import BertConfig\n",
        "bertConfig = BertConfig.from_pretrained(tranformersPreTrainedModelName\n",
        "                                        , output_hidden_states=True\n",
        "                                        , num_lables=6\n",
        "                                        , max_length=SEQ_LEN\n",
        "                                        , label2id=label2index\n",
        "                                        , id2label=index2label\n",
        "                                        )"
      ],
      "execution_count": 56,
      "outputs": []
    },
    {
      "cell_type": "code",
      "metadata": {
        "colab": {
          "base_uri": "https://localhost:8080/",
          "height": 180,
          "referenced_widgets": [
            "84f43eb5f4894d93b19e8c069ad2d30c",
            "8c5ca7f1a93741b9a719c41972f01579",
            "42ab06421b0d48dd9d15985314acab78",
            "09e8e24e01fa4aa7927b8003e8023223",
            "7572417cc5e84ef3b49c364d817619dc",
            "e82ed22f6ec343a18abf3e4e425125a2",
            "6cf26d0bff194a63acbcfbfeb61056e0",
            "2cb0785bc42a426c9d13ed967d53ac6b"
          ]
        },
        "id": "WPGGoaJ39tjz",
        "outputId": "81660d85-b987-480e-aa21-89da62e338a0"
      },
      "source": [
        "from transformers import TFBertForSequenceClassification\n",
        "bert = TFBertForSequenceClassification.from_pretrained(tranformersPreTrainedModelName, config=bertConfig, from_pt=True)"
      ],
      "execution_count": 58,
      "outputs": [
        {
          "output_type": "display_data",
          "data": {
            "application/vnd.jupyter.widget-view+json": {
              "model_id": "84f43eb5f4894d93b19e8c069ad2d30c",
              "version_minor": 0,
              "version_major": 2
            },
            "text/plain": [
              "HBox(children=(FloatProgress(value=0.0, description='Downloading', max=444916553.0, style=ProgressStyle(descri…"
            ]
          },
          "metadata": {
            "tags": []
          }
        },
        {
          "output_type": "stream",
          "text": [
            "\n"
          ],
          "name": "stdout"
        },
        {
          "output_type": "stream",
          "text": [
            "Some weights of the PyTorch model were not used when initializing the TF 2.0 model TFBertForSequenceClassification: ['electra.encoder.layer.1.attention.output.dense.weight', 'electra.encoder.layer.5.attention.output.dense.bias', 'electra.encoder.layer.10.intermediate.dense.weight', 'electra.encoder.layer.0.intermediate.dense.weight', 'electra.encoder.layer.7.attention.self.key.bias', 'electra.encoder.layer.8.attention.self.query.bias', 'electra.encoder.layer.8.attention.self.value.weight', 'electra.encoder.layer.2.intermediate.dense.bias', 'electra.encoder.layer.5.attention.self.key.bias', 'electra.encoder.layer.10.output.LayerNorm.bias', 'electra.encoder.layer.5.attention.output.dense.weight', 'electra.encoder.layer.4.intermediate.dense.weight', 'electra.encoder.layer.7.attention.self.value.weight', 'electra.encoder.layer.7.output.dense.weight', 'electra.encoder.layer.7.attention.self.query.bias', 'electra.encoder.layer.8.output.LayerNorm.bias', 'electra.embeddings.token_type_embeddings.weight', 'electra.encoder.layer.4.attention.self.query.weight', 'electra.encoder.layer.2.attention.self.query.bias', 'electra.encoder.layer.0.output.LayerNorm.weight', 'electra.embeddings.LayerNorm.weight', 'electra.encoder.layer.2.attention.self.key.bias', 'electra.encoder.layer.8.attention.output.dense.weight', 'electra.encoder.layer.10.attention.output.LayerNorm.weight', 'electra.encoder.layer.10.output.dense.weight', 'electra.encoder.layer.3.attention.output.dense.weight', 'electra.encoder.layer.4.output.LayerNorm.bias', 'electra.encoder.layer.8.attention.self.query.weight', 'electra.encoder.layer.8.attention.output.LayerNorm.weight', 'electra.encoder.layer.1.attention.self.query.bias', 'electra.encoder.layer.8.output.dense.bias', 'electra.encoder.layer.6.output.dense.bias', 'electra.encoder.layer.9.intermediate.dense.weight', 'electra.encoder.layer.0.intermediate.dense.bias', 'electra.encoder.layer.5.attention.self.value.weight', 'electra.encoder.layer.11.intermediate.dense.weight', 'electra.encoder.layer.8.attention.self.key.bias', 'electra.encoder.layer.1.attention.self.key.bias', 'electra.encoder.layer.9.attention.output.LayerNorm.bias', 'electra.encoder.layer.0.attention.self.query.bias', 'electra.encoder.layer.4.attention.self.value.weight', 'electra.encoder.layer.5.attention.output.LayerNorm.weight', 'electra.encoder.layer.7.attention.output.dense.bias', 'electra.encoder.layer.11.attention.self.key.bias', 'electra.encoder.layer.11.attention.output.LayerNorm.bias', 'electra.encoder.layer.9.attention.output.LayerNorm.weight', 'electra.encoder.layer.7.intermediate.dense.weight', 'electra.encoder.layer.2.output.LayerNorm.weight', 'electra.encoder.layer.9.attention.self.value.weight', 'electra.encoder.layer.10.attention.output.dense.bias', 'electra.encoder.layer.1.attention.self.query.weight', 'electra.embeddings.position_ids', 'electra.encoder.layer.1.attention.output.dense.bias', 'electra.encoder.layer.2.attention.output.dense.bias', 'electra.encoder.layer.6.attention.self.query.weight', 'electra.encoder.layer.1.attention.self.value.weight', 'electra.encoder.layer.5.attention.output.LayerNorm.bias', 'electra.encoder.layer.7.attention.self.key.weight', 'electra.encoder.layer.10.attention.self.query.weight', 'electra.encoder.layer.1.output.dense.weight', 'electra.encoder.layer.1.attention.output.LayerNorm.weight', 'electra.encoder.layer.11.attention.self.value.weight', 'discriminator_predictions.dense_prediction.bias', 'electra.encoder.layer.1.output.dense.bias', 'electra.encoder.layer.4.output.dense.bias', 'electra.encoder.layer.3.output.dense.bias', 'electra.encoder.layer.1.attention.output.LayerNorm.bias', 'electra.encoder.layer.2.output.dense.bias', 'electra.encoder.layer.0.attention.output.LayerNorm.bias', 'electra.encoder.layer.6.attention.output.dense.bias', 'electra.encoder.layer.3.attention.self.query.weight', 'electra.encoder.layer.5.intermediate.dense.weight', 'electra.encoder.layer.11.attention.output.dense.bias', 'electra.encoder.layer.9.attention.self.key.weight', 'electra.encoder.layer.2.intermediate.dense.weight', 'electra.encoder.layer.10.attention.self.value.bias', 'electra.encoder.layer.10.intermediate.dense.bias', 'electra.encoder.layer.1.attention.self.value.bias', 'discriminator_predictions.dense.bias', 'electra.encoder.layer.6.output.dense.weight', 'electra.encoder.layer.0.output.dense.bias', 'electra.encoder.layer.11.output.LayerNorm.bias', 'electra.encoder.layer.0.attention.self.value.bias', 'electra.encoder.layer.1.output.LayerNorm.bias', 'electra.encoder.layer.3.attention.self.query.bias', 'electra.encoder.layer.11.attention.self.key.weight', 'electra.embeddings.LayerNorm.bias', 'electra.encoder.layer.0.attention.output.dense.bias', 'electra.encoder.layer.9.output.dense.weight', 'electra.encoder.layer.8.intermediate.dense.weight', 'electra.encoder.layer.2.attention.self.query.weight', 'electra.encoder.layer.11.attention.output.LayerNorm.weight', 'electra.encoder.layer.10.attention.self.value.weight', 'electra.encoder.layer.6.output.LayerNorm.bias', 'electra.encoder.layer.11.output.dense.weight', 'electra.encoder.layer.0.attention.self.value.weight', 'electra.encoder.layer.0.attention.self.key.bias', 'electra.encoder.layer.6.intermediate.dense.weight', 'discriminator_predictions.dense_prediction.weight', 'electra.encoder.layer.3.attention.self.value.bias', 'electra.encoder.layer.5.output.dense.bias', 'electra.encoder.layer.5.output.LayerNorm.bias', 'electra.encoder.layer.6.intermediate.dense.bias', 'electra.encoder.layer.8.attention.output.dense.bias', 'electra.encoder.layer.11.attention.self.query.weight', 'electra.encoder.layer.2.attention.self.value.weight', 'electra.encoder.layer.2.attention.output.LayerNorm.weight', 'electra.encoder.layer.8.attention.self.key.weight', 'electra.encoder.layer.7.attention.output.dense.weight', 'electra.encoder.layer.3.attention.output.dense.bias', 'electra.encoder.layer.7.intermediate.dense.bias', 'electra.encoder.layer.9.attention.output.dense.bias', 'electra.encoder.layer.3.attention.self.key.weight', 'electra.encoder.layer.3.intermediate.dense.bias', 'electra.encoder.layer.4.attention.self.key.bias', 'electra.encoder.layer.7.attention.self.value.bias', 'electra.encoder.layer.0.attention.self.key.weight', 'electra.encoder.layer.7.output.LayerNorm.bias', 'electra.encoder.layer.3.attention.output.LayerNorm.weight', 'electra.encoder.layer.6.attention.self.query.bias', 'electra.encoder.layer.1.attention.self.key.weight', 'electra.encoder.layer.10.attention.output.LayerNorm.bias', 'electra.encoder.layer.4.intermediate.dense.bias', 'electra.encoder.layer.8.output.dense.weight', 'electra.embeddings.position_embeddings.weight', 'electra.encoder.layer.0.attention.output.LayerNorm.weight', 'electra.encoder.layer.2.output.LayerNorm.bias', 'electra.encoder.layer.2.attention.output.LayerNorm.bias', 'electra.encoder.layer.4.attention.output.LayerNorm.weight', 'electra.encoder.layer.5.intermediate.dense.bias', 'electra.encoder.layer.9.attention.self.key.bias', 'electra.encoder.layer.9.output.LayerNorm.weight', 'electra.encoder.layer.4.attention.self.key.weight', 'electra.encoder.layer.10.output.LayerNorm.weight', 'electra.encoder.layer.11.attention.self.value.bias', 'electra.encoder.layer.11.output.dense.bias', 'electra.encoder.layer.9.intermediate.dense.bias', 'electra.encoder.layer.6.attention.output.LayerNorm.bias', 'electra.encoder.layer.1.output.LayerNorm.weight', 'discriminator_predictions.dense.weight', 'electra.encoder.layer.3.output.LayerNorm.weight', 'electra.embeddings.word_embeddings.weight', 'electra.encoder.layer.6.attention.self.value.weight', 'electra.encoder.layer.10.attention.output.dense.weight', 'electra.encoder.layer.4.attention.output.dense.bias', 'electra.encoder.layer.9.attention.self.value.bias', 'electra.encoder.layer.11.output.LayerNorm.weight', 'electra.encoder.layer.5.attention.self.value.bias', 'electra.encoder.layer.0.output.dense.weight', 'electra.encoder.layer.9.attention.output.dense.weight', 'electra.encoder.layer.2.output.dense.weight', 'electra.encoder.layer.6.attention.output.LayerNorm.weight', 'electra.encoder.layer.0.attention.output.dense.weight', 'electra.encoder.layer.7.output.LayerNorm.weight', 'electra.encoder.layer.8.output.LayerNorm.weight', 'electra.encoder.layer.9.attention.self.query.weight', 'electra.encoder.layer.11.attention.output.dense.weight', 'electra.encoder.layer.3.attention.self.key.bias', 'electra.encoder.layer.2.attention.self.key.weight', 'electra.encoder.layer.10.attention.self.key.bias', 'electra.encoder.layer.4.attention.self.query.bias', 'electra.encoder.layer.4.attention.output.dense.weight', 'electra.encoder.layer.6.output.LayerNorm.weight', 'electra.encoder.layer.10.attention.self.query.bias', 'electra.encoder.layer.6.attention.output.dense.weight', 'electra.encoder.layer.7.output.dense.bias', 'electra.encoder.layer.3.output.dense.weight', 'electra.encoder.layer.4.output.LayerNorm.weight', 'electra.encoder.layer.0.attention.self.query.weight', 'electra.encoder.layer.5.attention.self.key.weight', 'electra.encoder.layer.9.output.dense.bias', 'electra.encoder.layer.0.output.LayerNorm.bias', 'electra.encoder.layer.5.attention.self.query.bias', 'electra.encoder.layer.2.attention.self.value.bias', 'electra.encoder.layer.5.attention.self.query.weight', 'electra.encoder.layer.6.attention.self.key.bias', 'electra.encoder.layer.9.attention.self.query.bias', 'electra.encoder.layer.5.output.LayerNorm.weight', 'electra.encoder.layer.8.attention.self.value.bias', 'electra.encoder.layer.7.attention.output.LayerNorm.bias', 'electra.encoder.layer.4.attention.output.LayerNorm.bias', 'electra.encoder.layer.2.attention.output.dense.weight', 'electra.encoder.layer.3.attention.self.value.weight', 'electra.encoder.layer.6.attention.self.value.bias', 'electra.encoder.layer.11.attention.self.query.bias', 'electra.encoder.layer.8.intermediate.dense.bias', 'electra.encoder.layer.6.attention.self.key.weight', 'electra.encoder.layer.3.intermediate.dense.weight', 'electra.encoder.layer.4.attention.self.value.bias', 'electra.encoder.layer.1.intermediate.dense.weight', 'electra.encoder.layer.3.attention.output.LayerNorm.bias', 'electra.encoder.layer.10.attention.self.key.weight', 'electra.encoder.layer.4.output.dense.weight', 'electra.encoder.layer.9.output.LayerNorm.bias', 'electra.encoder.layer.11.intermediate.dense.bias', 'electra.encoder.layer.5.output.dense.weight', 'electra.encoder.layer.8.attention.output.LayerNorm.bias', 'electra.encoder.layer.3.output.LayerNorm.bias', 'electra.encoder.layer.7.attention.self.query.weight', 'electra.encoder.layer.7.attention.output.LayerNorm.weight', 'electra.encoder.layer.10.output.dense.bias', 'electra.encoder.layer.1.intermediate.dense.bias']\n",
            "- This IS expected if you are initializing TFBertForSequenceClassification from a PyTorch model trained on another task or with another architecture (e.g. initializing a TFBertForSequenceClassification model from a BertForPreTraining model).\n",
            "- This IS NOT expected if you are initializing TFBertForSequenceClassification from a PyTorch model that you expect to be exactly identical (e.g. initializing a TFBertForSequenceClassification model from a BertForSequenceClassification model).\n",
            "Some weights or buffers of the TF 2.0 model TFBertForSequenceClassification were not initialized from the PyTorch model and are newly initialized: ['embeddings.word_embeddings.weight', 'embeddings.position_embeddings.weight', 'embeddings.token_type_embeddings.weight', 'embeddings.LayerNorm.weight', 'embeddings.LayerNorm.bias', 'encoder.layer.0.attention.self.query.weight', 'encoder.layer.0.attention.self.query.bias', 'encoder.layer.0.attention.self.key.weight', 'encoder.layer.0.attention.self.key.bias', 'encoder.layer.0.attention.self.value.weight', 'encoder.layer.0.attention.self.value.bias', 'encoder.layer.0.attention.output.dense.weight', 'encoder.layer.0.attention.output.dense.bias', 'encoder.layer.0.attention.output.LayerNorm.weight', 'encoder.layer.0.attention.output.LayerNorm.bias', 'encoder.layer.0.intermediate.dense.weight', 'encoder.layer.0.intermediate.dense.bias', 'encoder.layer.0.output.dense.weight', 'encoder.layer.0.output.dense.bias', 'encoder.layer.0.output.LayerNorm.weight', 'encoder.layer.0.output.LayerNorm.bias', 'encoder.layer.1.attention.self.query.weight', 'encoder.layer.1.attention.self.query.bias', 'encoder.layer.1.attention.self.key.weight', 'encoder.layer.1.attention.self.key.bias', 'encoder.layer.1.attention.self.value.weight', 'encoder.layer.1.attention.self.value.bias', 'encoder.layer.1.attention.output.dense.weight', 'encoder.layer.1.attention.output.dense.bias', 'encoder.layer.1.attention.output.LayerNorm.weight', 'encoder.layer.1.attention.output.LayerNorm.bias', 'encoder.layer.1.intermediate.dense.weight', 'encoder.layer.1.intermediate.dense.bias', 'encoder.layer.1.output.dense.weight', 'encoder.layer.1.output.dense.bias', 'encoder.layer.1.output.LayerNorm.weight', 'encoder.layer.1.output.LayerNorm.bias', 'encoder.layer.2.attention.self.query.weight', 'encoder.layer.2.attention.self.query.bias', 'encoder.layer.2.attention.self.key.weight', 'encoder.layer.2.attention.self.key.bias', 'encoder.layer.2.attention.self.value.weight', 'encoder.layer.2.attention.self.value.bias', 'encoder.layer.2.attention.output.dense.weight', 'encoder.layer.2.attention.output.dense.bias', 'encoder.layer.2.attention.output.LayerNorm.weight', 'encoder.layer.2.attention.output.LayerNorm.bias', 'encoder.layer.2.intermediate.dense.weight', 'encoder.layer.2.intermediate.dense.bias', 'encoder.layer.2.output.dense.weight', 'encoder.layer.2.output.dense.bias', 'encoder.layer.2.output.LayerNorm.weight', 'encoder.layer.2.output.LayerNorm.bias', 'encoder.layer.3.attention.self.query.weight', 'encoder.layer.3.attention.self.query.bias', 'encoder.layer.3.attention.self.key.weight', 'encoder.layer.3.attention.self.key.bias', 'encoder.layer.3.attention.self.value.weight', 'encoder.layer.3.attention.self.value.bias', 'encoder.layer.3.attention.output.dense.weight', 'encoder.layer.3.attention.output.dense.bias', 'encoder.layer.3.attention.output.LayerNorm.weight', 'encoder.layer.3.attention.output.LayerNorm.bias', 'encoder.layer.3.intermediate.dense.weight', 'encoder.layer.3.intermediate.dense.bias', 'encoder.layer.3.output.dense.weight', 'encoder.layer.3.output.dense.bias', 'encoder.layer.3.output.LayerNorm.weight', 'encoder.layer.3.output.LayerNorm.bias', 'encoder.layer.4.attention.self.query.weight', 'encoder.layer.4.attention.self.query.bias', 'encoder.layer.4.attention.self.key.weight', 'encoder.layer.4.attention.self.key.bias', 'encoder.layer.4.attention.self.value.weight', 'encoder.layer.4.attention.self.value.bias', 'encoder.layer.4.attention.output.dense.weight', 'encoder.layer.4.attention.output.dense.bias', 'encoder.layer.4.attention.output.LayerNorm.weight', 'encoder.layer.4.attention.output.LayerNorm.bias', 'encoder.layer.4.intermediate.dense.weight', 'encoder.layer.4.intermediate.dense.bias', 'encoder.layer.4.output.dense.weight', 'encoder.layer.4.output.dense.bias', 'encoder.layer.4.output.LayerNorm.weight', 'encoder.layer.4.output.LayerNorm.bias', 'encoder.layer.5.attention.self.query.weight', 'encoder.layer.5.attention.self.query.bias', 'encoder.layer.5.attention.self.key.weight', 'encoder.layer.5.attention.self.key.bias', 'encoder.layer.5.attention.self.value.weight', 'encoder.layer.5.attention.self.value.bias', 'encoder.layer.5.attention.output.dense.weight', 'encoder.layer.5.attention.output.dense.bias', 'encoder.layer.5.attention.output.LayerNorm.weight', 'encoder.layer.5.attention.output.LayerNorm.bias', 'encoder.layer.5.intermediate.dense.weight', 'encoder.layer.5.intermediate.dense.bias', 'encoder.layer.5.output.dense.weight', 'encoder.layer.5.output.dense.bias', 'encoder.layer.5.output.LayerNorm.weight', 'encoder.layer.5.output.LayerNorm.bias', 'encoder.layer.6.attention.self.query.weight', 'encoder.layer.6.attention.self.query.bias', 'encoder.layer.6.attention.self.key.weight', 'encoder.layer.6.attention.self.key.bias', 'encoder.layer.6.attention.self.value.weight', 'encoder.layer.6.attention.self.value.bias', 'encoder.layer.6.attention.output.dense.weight', 'encoder.layer.6.attention.output.dense.bias', 'encoder.layer.6.attention.output.LayerNorm.weight', 'encoder.layer.6.attention.output.LayerNorm.bias', 'encoder.layer.6.intermediate.dense.weight', 'encoder.layer.6.intermediate.dense.bias', 'encoder.layer.6.output.dense.weight', 'encoder.layer.6.output.dense.bias', 'encoder.layer.6.output.LayerNorm.weight', 'encoder.layer.6.output.LayerNorm.bias', 'encoder.layer.7.attention.self.query.weight', 'encoder.layer.7.attention.self.query.bias', 'encoder.layer.7.attention.self.key.weight', 'encoder.layer.7.attention.self.key.bias', 'encoder.layer.7.attention.self.value.weight', 'encoder.layer.7.attention.self.value.bias', 'encoder.layer.7.attention.output.dense.weight', 'encoder.layer.7.attention.output.dense.bias', 'encoder.layer.7.attention.output.LayerNorm.weight', 'encoder.layer.7.attention.output.LayerNorm.bias', 'encoder.layer.7.intermediate.dense.weight', 'encoder.layer.7.intermediate.dense.bias', 'encoder.layer.7.output.dense.weight', 'encoder.layer.7.output.dense.bias', 'encoder.layer.7.output.LayerNorm.weight', 'encoder.layer.7.output.LayerNorm.bias', 'encoder.layer.8.attention.self.query.weight', 'encoder.layer.8.attention.self.query.bias', 'encoder.layer.8.attention.self.key.weight', 'encoder.layer.8.attention.self.key.bias', 'encoder.layer.8.attention.self.value.weight', 'encoder.layer.8.attention.self.value.bias', 'encoder.layer.8.attention.output.dense.weight', 'encoder.layer.8.attention.output.dense.bias', 'encoder.layer.8.attention.output.LayerNorm.weight', 'encoder.layer.8.attention.output.LayerNorm.bias', 'encoder.layer.8.intermediate.dense.weight', 'encoder.layer.8.intermediate.dense.bias', 'encoder.layer.8.output.dense.weight', 'encoder.layer.8.output.dense.bias', 'encoder.layer.8.output.LayerNorm.weight', 'encoder.layer.8.output.LayerNorm.bias', 'encoder.layer.9.attention.self.query.weight', 'encoder.layer.9.attention.self.query.bias', 'encoder.layer.9.attention.self.key.weight', 'encoder.layer.9.attention.self.key.bias', 'encoder.layer.9.attention.self.value.weight', 'encoder.layer.9.attention.self.value.bias', 'encoder.layer.9.attention.output.dense.weight', 'encoder.layer.9.attention.output.dense.bias', 'encoder.layer.9.attention.output.LayerNorm.weight', 'encoder.layer.9.attention.output.LayerNorm.bias', 'encoder.layer.9.intermediate.dense.weight', 'encoder.layer.9.intermediate.dense.bias', 'encoder.layer.9.output.dense.weight', 'encoder.layer.9.output.dense.bias', 'encoder.layer.9.output.LayerNorm.weight', 'encoder.layer.9.output.LayerNorm.bias', 'encoder.layer.10.attention.self.query.weight', 'encoder.layer.10.attention.self.query.bias', 'encoder.layer.10.attention.self.key.weight', 'encoder.layer.10.attention.self.key.bias', 'encoder.layer.10.attention.self.value.weight', 'encoder.layer.10.attention.self.value.bias', 'encoder.layer.10.attention.output.dense.weight', 'encoder.layer.10.attention.output.dense.bias', 'encoder.layer.10.attention.output.LayerNorm.weight', 'encoder.layer.10.attention.output.LayerNorm.bias', 'encoder.layer.10.intermediate.dense.weight', 'encoder.layer.10.intermediate.dense.bias', 'encoder.layer.10.output.dense.weight', 'encoder.layer.10.output.dense.bias', 'encoder.layer.10.output.LayerNorm.weight', 'encoder.layer.10.output.LayerNorm.bias', 'encoder.layer.11.attention.self.query.weight', 'encoder.layer.11.attention.self.query.bias', 'encoder.layer.11.attention.self.key.weight', 'encoder.layer.11.attention.self.key.bias', 'encoder.layer.11.attention.self.value.weight', 'encoder.layer.11.attention.self.value.bias', 'encoder.layer.11.attention.output.dense.weight', 'encoder.layer.11.attention.output.dense.bias', 'encoder.layer.11.attention.output.LayerNorm.weight', 'encoder.layer.11.attention.output.LayerNorm.bias', 'encoder.layer.11.intermediate.dense.weight', 'encoder.layer.11.intermediate.dense.bias', 'encoder.layer.11.output.dense.weight', 'encoder.layer.11.output.dense.bias', 'encoder.layer.11.output.LayerNorm.weight', 'encoder.layer.11.output.LayerNorm.bias', 'pooler.dense.weight', 'pooler.dense.bias', 'classifier.weight', 'classifier.bias']\n",
            "You should probably TRAIN this model on a down-stream task to be able to use it for predictions and inference.\n"
          ],
          "name": "stderr"
        }
      ]
    },
    {
      "cell_type": "code",
      "metadata": {
        "colab": {
          "base_uri": "https://localhost:8080/"
        },
        "id": "IIxfUZuK9DVR",
        "outputId": "3e6388fd-451d-4ee0-a0a5-d16a6dcab820"
      },
      "source": [
        "bert.summary()"
      ],
      "execution_count": 59,
      "outputs": [
        {
          "output_type": "stream",
          "text": [
            "Model: \"tf_bert_for_sequence_classification\"\n",
            "_________________________________________________________________\n",
            "Layer (type)                 Output Shape              Param #   \n",
            "=================================================================\n",
            "bert (TFBertMainLayer)       multiple                  111206400 \n",
            "_________________________________________________________________\n",
            "dropout_37 (Dropout)         multiple                  0         \n",
            "_________________________________________________________________\n",
            "classifier (Dense)           multiple                  6921      \n",
            "=================================================================\n",
            "Total params: 111,213,321\n",
            "Trainable params: 111,213,321\n",
            "Non-trainable params: 0\n",
            "_________________________________________________________________\n"
          ],
          "name": "stdout"
        }
      ]
    },
    {
      "cell_type": "code",
      "metadata": {
        "id": "ZHiT7m1qR1en"
      },
      "source": [
        "# build 2 input layers to Bert Model where name needs to match the input values in the dataset\n",
        "input_ids = tf.keras.Input(shape=(SEQ_LEN,), name = 'input_ids', dtype='int32')\n",
        "mask = tf.keras.Input(shape=(SEQ_LEN,), name = 'attention_mask', dtype='int32')\n",
        "\n",
        "embedings = bert.layers[0](input_ids, attention_mask=mask)[0]\n",
        "\n",
        "#Original Author: Ferry Djaja\n",
        "#https://djajafer.medium.com/multi-class-text-classification-with-keras-and-lstm-4c5525bef592\n",
        "X = tf.keras.layers.Dropout(0.5)(embedings)\n",
        "X = tf.keras.layers.Bidirectional(tf.keras.layers.LSTM(256))(X)\n",
        "y = tf.keras.layers.Dense(len(label2index), activation='sigmoid', name='outputs')(X)\n",
        "\n",
        "model = tf.keras.Model(inputs=[input_ids,mask], outputs=y)\n",
        "\n",
        "# Freeze the Bert model by freezing this layer to make training less of an overkill in terms of required performance\n",
        "model.layers[2].trainable = False"
      ],
      "execution_count": 60,
      "outputs": []
    },
    {
      "cell_type": "code",
      "metadata": {
        "colab": {
          "base_uri": "https://localhost:8080/"
        },
        "id": "h28OcgiNR1Ya",
        "outputId": "8ee4879d-5101-44a5-c85a-5b805114db18"
      },
      "source": [
        "model.summary()"
      ],
      "execution_count": 61,
      "outputs": [
        {
          "output_type": "stream",
          "text": [
            "Model: \"model\"\n",
            "__________________________________________________________________________________________________\n",
            "Layer (type)                    Output Shape         Param #     Connected to                     \n",
            "==================================================================================================\n",
            "input_ids (InputLayer)          [(None, 100)]        0                                            \n",
            "__________________________________________________________________________________________________\n",
            "attention_mask (InputLayer)     [(None, 100)]        0                                            \n",
            "__________________________________________________________________________________________________\n",
            "bert (TFBertMainLayer)          TFBaseModelOutputWit 111206400   input_ids[0][0]                  \n",
            "                                                                 attention_mask[0][0]             \n",
            "__________________________________________________________________________________________________\n",
            "dropout_38 (Dropout)            (None, 100, 768)     0           bert[0][13]                      \n",
            "__________________________________________________________________________________________________\n",
            "bidirectional (Bidirectional)   (None, 512)          2099200     dropout_38[0][0]                 \n",
            "__________________________________________________________________________________________________\n",
            "outputs (Dense)                 (None, 9)            4617        bidirectional[0][0]              \n",
            "==================================================================================================\n",
            "Total params: 113,310,217\n",
            "Trainable params: 2,103,817\n",
            "Non-trainable params: 111,206,400\n",
            "__________________________________________________________________________________________________\n"
          ],
          "name": "stdout"
        }
      ]
    },
    {
      "cell_type": "code",
      "metadata": {
        "id": "YJsrgwyO9tcF"
      },
      "source": [
        "#\n",
        "# https://stackoverflow.com/questions/52125924/why-does-sigmoid-crossentropy-of-keras-tensorflow-have-low-precision\n",
        "# keras with custom loss function\n",
        "def customLoss(target, output):\n",
        "    # if not from_logits:\n",
        "    #     # transform back to logits\n",
        "    #     _epsilon = _to_tensor(epsilon(), output.dtype.base_dtype)\n",
        "    #     output = tf.clip_by_value(output, _epsilon, 1 - _epsilon)\n",
        "    #     output = tf.log(output / (1 - output))\n",
        "    output = tf.math.log(output / (1 - output))\n",
        "    return tf.nn.sigmoid_cross_entropy_with_logits(labels=target, logits=output)\n",
        "\n",
        "optimizer = tf.keras.optimizers.Adam(lr=1e-3)\n",
        "model.compile(\n",
        "    loss=customLoss,\n",
        "    optimizer=optimizer,\n",
        "    metrics=['accuracy']\n",
        "    )\n",
        "\n",
        "#loss=tf.keras.losses.BinaryCrossentropy()\n",
        "#optimizer = tf.keras.optimizers.Adam()  #lr=1e-3,  lr=0.001, decay=1e-6\n",
        "#model.compile(\n",
        "#    loss=loss,\n",
        "#    optimizer=optimizer,\n",
        "#    metrics=['accuracy']\n",
        "#    )"
      ],
      "execution_count": 62,
      "outputs": []
    },
    {
      "cell_type": "code",
      "metadata": {
        "id": "_eK-NlO99DR3",
        "colab": {
          "base_uri": "https://localhost:8080/"
        },
        "outputId": "cd05bb65-4748-4e72-8695-01eec512a1f1"
      },
      "source": [
        "from timeit import default_timer as timer\n",
        "from datetime import timedelta\n",
        "import os\n",
        "\n",
        "start = timer()\n",
        "\n",
        "checkpoint_path = \"training_1/cp.ckpt\"\n",
        "checkpoint_dir = os.path.dirname(checkpoint_path)\n",
        "\n",
        "cp_callback = tf.keras.callbacks.ModelCheckpoint(checkpoint_path,\n",
        "                                                 save_weights_only=True,\n",
        "                                                 verbose=1)\n",
        "\n",
        "callbacks = [\n",
        "    tf.keras.callbacks.EarlyStopping(patience=9, monitor='val_loss'),\n",
        "    tf.keras.callbacks.TensorBoard(log_dir='./logs'),\n",
        "    cp_callback\n",
        "]\n",
        "\n",
        "history = model.fit(train\n",
        "                    , validation_data=evalu\n",
        "                    , callbacks=callbacks, verbose=1\n",
        "                    , epochs=32)\n",
        "\n",
        "end = timer()\n",
        "print(timedelta(seconds=end-start))"
      ],
      "execution_count": 63,
      "outputs": [
        {
          "output_type": "stream",
          "text": [
            "Epoch 1/32\n",
            "1133/1133 [==============================] - 378s 301ms/step - loss: 0.2433 - accuracy: 0.4577 - val_loss: 0.3567 - val_accuracy: 0.1408\n",
            "\n",
            "Epoch 00001: saving model to training_1/cp.ckpt\n",
            "Epoch 2/32\n",
            "1133/1133 [==============================] - 338s 298ms/step - loss: 0.2482 - accuracy: 0.4527 - val_loss: 0.3595 - val_accuracy: 0.1330\n",
            "\n",
            "Epoch 00002: saving model to training_1/cp.ckpt\n",
            "Epoch 3/32\n",
            "1133/1133 [==============================] - 338s 298ms/step - loss: 0.2478 - accuracy: 0.4701 - val_loss: 0.3545 - val_accuracy: 0.1684\n",
            "\n",
            "Epoch 00003: saving model to training_1/cp.ckpt\n",
            "Epoch 4/32\n",
            "1133/1133 [==============================] - 337s 298ms/step - loss: 0.2464 - accuracy: 0.4775 - val_loss: 0.3566 - val_accuracy: 0.1933\n",
            "\n",
            "Epoch 00004: saving model to training_1/cp.ckpt\n",
            "Epoch 5/32\n",
            "1133/1133 [==============================] - 337s 298ms/step - loss: 0.2460 - accuracy: 0.4699 - val_loss: 0.3582 - val_accuracy: 0.1804\n",
            "\n",
            "Epoch 00005: saving model to training_1/cp.ckpt\n",
            "Epoch 6/32\n",
            "1133/1133 [==============================] - 337s 298ms/step - loss: 0.2455 - accuracy: 0.4772 - val_loss: 0.3521 - val_accuracy: 0.1895\n",
            "\n",
            "Epoch 00006: saving model to training_1/cp.ckpt\n",
            "Epoch 7/32\n",
            "1133/1133 [==============================] - 337s 297ms/step - loss: 0.2455 - accuracy: 0.4733 - val_loss: 0.3568 - val_accuracy: 0.1907\n",
            "\n",
            "Epoch 00007: saving model to training_1/cp.ckpt\n",
            "Epoch 8/32\n",
            "1133/1133 [==============================] - 337s 297ms/step - loss: 0.2451 - accuracy: 0.4749 - val_loss: 0.3597 - val_accuracy: 0.1756\n",
            "\n",
            "Epoch 00008: saving model to training_1/cp.ckpt\n",
            "Epoch 9/32\n",
            "1133/1133 [==============================] - 337s 298ms/step - loss: 0.2441 - accuracy: 0.4706 - val_loss: 0.3548 - val_accuracy: 0.1869\n",
            "\n",
            "Epoch 00009: saving model to training_1/cp.ckpt\n",
            "Epoch 10/32\n",
            "1133/1133 [==============================] - 338s 299ms/step - loss: 0.2442 - accuracy: 0.4768 - val_loss: 0.3555 - val_accuracy: 0.1905\n",
            "\n",
            "Epoch 00010: saving model to training_1/cp.ckpt\n",
            "Epoch 11/32\n",
            "1133/1133 [==============================] - 338s 298ms/step - loss: 0.2435 - accuracy: 0.4767 - val_loss: 0.3589 - val_accuracy: 0.1486\n",
            "\n",
            "Epoch 00011: saving model to training_1/cp.ckpt\n",
            "Epoch 12/32\n",
            "1133/1133 [==============================] - 338s 298ms/step - loss: 0.2436 - accuracy: 0.4755 - val_loss: 0.3629 - val_accuracy: 0.1865\n",
            "\n",
            "Epoch 00012: saving model to training_1/cp.ckpt\n",
            "Epoch 13/32\n",
            "1133/1133 [==============================] - 338s 299ms/step - loss: 0.2442 - accuracy: 0.4718 - val_loss: 0.3566 - val_accuracy: 0.1810\n",
            "\n",
            "Epoch 00013: saving model to training_1/cp.ckpt\n",
            "Epoch 14/32\n",
            "1133/1133 [==============================] - 338s 299ms/step - loss: 0.2431 - accuracy: 0.4750 - val_loss: 0.3667 - val_accuracy: 0.1867\n",
            "\n",
            "Epoch 00014: saving model to training_1/cp.ckpt\n",
            "Epoch 15/32\n",
            "1133/1133 [==============================] - 338s 299ms/step - loss: 0.2435 - accuracy: 0.4808 - val_loss: 0.3576 - val_accuracy: 0.1486\n",
            "\n",
            "Epoch 00015: saving model to training_1/cp.ckpt\n",
            "1:25:29.042034\n"
          ],
          "name": "stdout"
        }
      ]
    },
    {
      "cell_type": "code",
      "metadata": {
        "id": "cSJCpE6k--De",
        "colab": {
          "base_uri": "https://localhost:8080/",
          "height": 541
        },
        "outputId": "f73cc82b-98db-48d9-c6d1-9e6bf4c9e338"
      },
      "source": [
        "import matplotlib.pyplot as plt\n",
        "\n",
        "def plot_graphs(history, string):\n",
        "  plt.plot(history.history[string])\n",
        "  plt.plot(history.history['val_'+string])\n",
        "  plt.xlabel(\"Epochs\")\n",
        "  plt.ylabel(string)\n",
        "  plt.legend([string, 'val_'+string])\n",
        "  plt.show()\n",
        "  \n",
        "plot_graphs(history, \"accuracy\")\n",
        "plot_graphs(history, \"loss\")"
      ],
      "execution_count": 64,
      "outputs": [
        {
          "output_type": "display_data",
          "data": {
            "image/png": "[encoded data removed]",
            "text/plain": [
              "<Figure size 432x288 with 1 Axes>"
            ]
          },
          "metadata": {
            "tags": []
          }
        },
        {
          "output_type": "display_data",
          "data": {
            "image/png": "[encoded data removed]",
            "text/plain": [
              "<Figure size 432x288 with 1 Axes>"
            ]
          },
          "metadata": {
            "tags": []
          }
        }
      ]
    },
    {
      "cell_type": "markdown",
      "metadata": {
        "id": "xn9PtEq7Mrfm"
      },
      "source": [
        "## Evaluation"
      ]
    },
    {
      "cell_type": "code",
      "metadata": {
        "id": "ZcmoKARy_BZA",
        "colab": {
          "base_uri": "https://localhost:8080/"
        },
        "outputId": "0377812f-14fe-4d0e-affd-04e11a66f622"
      },
      "source": [
        "results = model.evaluate(test, batch_size=32)\n",
        "print(\"test loss, test acc:\", results)"
      ],
      "execution_count": 65,
      "outputs": [
        {
          "output_type": "stream",
          "text": [
            "354/354 [==============================] - 77s 217ms/step - loss: 0.4397 - accuracy: 0.1434\n",
            "test loss, test acc: [0.4396818280220032, 0.14343754947185516]\n"
          ],
          "name": "stdout"
        }
      ]
    },
    {
      "cell_type": "code",
      "metadata": {
        "id": "eTjP0sqlS000",
        "colab": {
          "base_uri": "https://localhost:8080/"
        },
        "outputId": "40077d03-6da0-4540-f9f9-9f89be13c6af"
      },
      "source": [
        "# Generate predictions (probabilities -- the output of the last layer)\n",
        "# on new data using `predict`\n",
        "print(\"Generate predictions for 1 sample\")\n",
        "predictions = model.predict(test.take(1))\n",
        "print(\"predictions shape:\", predictions.shape)"
      ],
      "execution_count": 66,
      "outputs": [
        {
          "output_type": "stream",
          "text": [
            "Generate predictions for 1 sample\n",
            "predictions shape: (32, 9)\n"
          ],
          "name": "stdout"
        }
      ]
    },
    {
      "cell_type": "code",
      "metadata": {
        "id": "O2dB5PVPg2RO",
        "colab": {
          "base_uri": "https://localhost:8080/"
        },
        "outputId": "589ca2f7-2c77-423f-d215-b80bc7431f2f"
      },
      "source": [
        "threshold = .6\n",
        "\n",
        "for item in test.take(1):\n",
        "  #print (f\"inputs: {item [0]}\")\n",
        "  print ()\n",
        "  #print (f\"labels: {item [1]}\")\n",
        "  countOK = 0\n",
        "  countNOK = 0\n",
        "\n",
        "  for i in range(len(predictions)):\n",
        "\n",
        "    labelValues = item[1][i].numpy()\n",
        "    for l in range(len(labelValues)):\n",
        "      #print (f\"labelValues: {labelValues[l]} predictions: {predictions[1][l]}\")\n",
        "      if (labelValues[l] == 1. and predictions[1][l] > threshold):\n",
        "        print (f\"1  OK Actual label: {index2label[l]} predicted with score: {format(predictions[1][l], '.6f')}\")\n",
        "        countOK = countOK + 1\n",
        "      elif (labelValues[l] == 1. and predictions[1][l] <= threshold):\n",
        "        print (f\"2 NOK Actual label: {index2label[l]} predicted with score: {format(predictions[1][l], '.6f')}\")\n",
        "        countNOK = countNOK + 1\n",
        "      elif (labelValues[l] == 0. and predictions[1][l] > threshold):\n",
        "        print (f\"3 NOK Actual label: {index2label[l]} predicted with score: {format(predictions[1][l], '.6f')}\")\n",
        "        #countNOK = countNOK + 1\n",
        "      #elif (labelValues[l] == 0. and predictions[1][l] <= threshold):\n",
        "        #print (f\"4  OK Actual label: {index2label[l]} NOT predicted with score: {format(predictions[1][l], '.6f')}\")\n",
        "        #countOK = countOK + 1\n",
        "\n",
        "    print ()\n",
        "\n",
        "  sumCount = countNOK+countOK\n",
        "  print (f\"OK + NOK: {format(sumCount, '3d')}\")\n",
        "  if sumCount > 0:\n",
        "    print (f\"      OK: {format(countOK, '3d')} ->  True: {format(((countOK/sumCount)*100), '.3f')}%\")\n",
        "    print (f\"     NOK: {format(countNOK, '3d')} -> False: {format(((countNOK/sumCount)*100), '.3f')}%\")\n"
      ],
      "execution_count": 67,
      "outputs": [
        {
          "output_type": "stream",
          "text": [
            "\n",
            "2 NOK Actual label: Politik predicted with score: 0.118092\n",
            "\n",
            "2 NOK Actual label: Sport predicted with score: 0.129357\n",
            "\n",
            "2 NOK Actual label: Politik predicted with score: 0.118092\n",
            "\n",
            "2 NOK Actual label: Sport predicted with score: 0.129357\n",
            "\n",
            "2 NOK Actual label: Sport predicted with score: 0.129357\n",
            "\n",
            "2 NOK Actual label: Sport predicted with score: 0.129357\n",
            "\n",
            "2 NOK Actual label: Sport predicted with score: 0.129357\n",
            "\n",
            "2 NOK Actual label: Sport predicted with score: 0.129357\n",
            "\n",
            "2 NOK Actual label: Sport predicted with score: 0.129357\n",
            "\n",
            "2 NOK Actual label: Sport predicted with score: 0.129357\n",
            "\n",
            "2 NOK Actual label: Politik predicted with score: 0.118092\n",
            "\n",
            "2 NOK Actual label: Politik predicted with score: 0.118092\n",
            "\n",
            "2 NOK Actual label: Panorama predicted with score: 0.004736\n",
            "\n",
            "2 NOK Actual label: Sport predicted with score: 0.129357\n",
            "\n",
            "2 NOK Actual label: Sport predicted with score: 0.129357\n",
            "\n",
            "2 NOK Actual label: Sport predicted with score: 0.129357\n",
            "\n",
            "2 NOK Actual label: Politik predicted with score: 0.118092\n",
            "\n",
            "2 NOK Actual label: Politik predicted with score: 0.118092\n",
            "\n",
            "2 NOK Actual label: Politik predicted with score: 0.118092\n",
            "\n",
            "2 NOK Actual label: Politik predicted with score: 0.118092\n",
            "\n",
            "2 NOK Actual label: Politik predicted with score: 0.118092\n",
            "\n",
            "2 NOK Actual label: Panorama predicted with score: 0.004736\n",
            "\n",
            "2 NOK Actual label: Sport predicted with score: 0.129357\n",
            "\n",
            "2 NOK Actual label: Panorama predicted with score: 0.004736\n",
            "\n",
            "2 NOK Actual label: Wirtschaft predicted with score: 0.037017\n",
            "\n",
            "2 NOK Actual label: Wirtschaft predicted with score: 0.037017\n",
            "\n",
            "2 NOK Actual label: Politik predicted with score: 0.118092\n",
            "\n",
            "2 NOK Actual label: Politik predicted with score: 0.118092\n",
            "\n",
            "2 NOK Actual label: Sport predicted with score: 0.129357\n",
            "\n",
            "2 NOK Actual label: Wirtschaft predicted with score: 0.037017\n",
            "\n",
            "2 NOK Actual label: Politik predicted with score: 0.118092\n",
            "\n",
            "2 NOK Actual label: Wirtschaft predicted with score: 0.037017\n",
            "\n",
            "OK + NOK:  32\n",
            "      OK:   0 ->  True: 0.000%\n",
            "     NOK:  32 -> False: 100.000%\n"
          ],
          "name": "stdout"
        }
      ]
    },
    {
      "cell_type": "code",
      "metadata": {
        "id": "UHAlfZfjPbvX",
        "colab": {
          "base_uri": "https://localhost:8080/"
        },
        "outputId": "4b5d4e00-54d2-4c14-bf66-52c43e9e3c67"
      },
      "source": [
        "!ls training_1/ -lh"
      ],
      "execution_count": 68,
      "outputs": [
        {
          "output_type": "stream",
          "text": [
            "total 449M\n",
            "-rw-r--r-- 1 root root   71 Mar 19 19:25 checkpoint\n",
            "-rw-r--r-- 1 root root 449M Mar 19 19:25 cp.ckpt.data-00000-of-00001\n",
            "-rw-r--r-- 1 root root  17K Mar 19 19:25 cp.ckpt.index\n"
          ],
          "name": "stdout"
        }
      ]
    },
    {
      "cell_type": "code",
      "metadata": {
        "id": "JdAPngiza2hE"
      },
      "source": [
        ""
      ],
      "execution_count": null,
      "outputs": []
    }
  ]
}