{
  "nbformat": 4,
  "nbformat_minor": 0,
  "metadata": {
    "colab": {
      "name": "66 Multi-Label German text classification in TensorFlow Keras.ipynb",
      "provenance": [],
      "collapsed_sections": [],
      "authorship_tag": "ABX9TyOV8qLOcqKoNoZaGF6eesFO",
      "include_colab_link": true
    },
    "kernelspec": {
      "name": "python3",
      "display_name": "Python 3"
    },
    "accelerator": "GPU"
  },
  "cells": [
    {
      "cell_type": "markdown",
      "metadata": {
        "id": "view-in-github",
        "colab_type": "text"
      },
      "source": [
        "<a href=\"https://colab.research.google.com/github/Dirkster99/PyNotes/blob/master/Transformers/Issue/66_Multi_Label_German_text_classification_in_TensorFlow_Keras.ipynb\" target=\"_parent\"><img src=\"https://colab.research.google.com/assets/colab-badge.svg\" alt=\"Open In Colab\"/></a>"
      ]
    },
    {
      "cell_type": "markdown",
      "metadata": {
        "id": "gP0kD4QXohAS"
      },
      "source": [
        "# Multi-Label text classification in TensorFlow Keras\n",
        "Article: \n",
        "https://androidkt.com/multi-label-text-classification-in-tensorflow-keras/\n"
      ]
    },
    {
      "cell_type": "markdown",
      "metadata": {
        "id": "9F29UcSywpdC"
      },
      "source": [
        "In this tutorial, We use pre-trained word embedding for Text classification.We will use the 100-dimensional GloVe embeddings of 400k words computed on a 2014 dump of English Wikipedia. You can download them here (glove.6B.100d.txt):\n",
        "http://nlp.stanford.edu/data/glove.6B.zip"
      ]
    },
    {
      "cell_type": "markdown",
      "metadata": {
        "id": "4ia8YGzfyofv"
      },
      "source": [
        "# Introduction\n",
        "\n",
        "In this tutorial, we create a multi-label text classification model for predicts a probability of each type of toxicity for each comment. This model capable of detecting different types of toxicity like threats, obscenity, insults, and identity-based hate. We need to create a model which predicts a probability of each type of toxicity for each comment."
      ]
    },
    {
      "cell_type": "markdown",
      "metadata": {
        "id": "duROZ--0y5X_"
      },
      "source": [
        "## Difference between multi-class and multi-label Classification\n",
        "\n",
        "In **Multi-Class classification** there are more than 2 classes; e.g., classify a set of images of fruits which may be oranges, apples, or pears. Each sample is assigned to one and only one label: a fruit can be either an apple or an orange.\n",
        "\n",
        "In **Multi-Label classification**, each sample has a set of target labels. A comment might be threats, obscenity, insults, and identity-based hate at the same time or none of these.\n",
        "\n",
        "Multi-class classification use **softmax activation** function in the output layer. The probability of each class is dependent on the other classes. As the probability of one class increases, the probability of the other class decreases.\n",
        "\n",
        "The softmax activation function is not appropriate in Multi-label classification because it has more than one label for a single text. The probabilities are independent of each other. Here we **use the sigmoid activation function**. This will predict the probability for each class independently. "
      ]
    },
    {
      "cell_type": "markdown",
      "metadata": {
        "id": "pUM0j_YvocQM"
      },
      "source": [
        "## Mount Google Drive"
      ]
    },
    {
      "cell_type": "code",
      "metadata": {
        "colab": {
          "base_uri": "https://localhost:8080/"
        },
        "id": "-BjAsT3VI-ma",
        "outputId": "ed950003-4d2b-459b-8914-97cfdb7cccbe"
      },
      "source": [
        "from google.colab import drive\n",
        "drive.mount('/gdrive')"
      ],
      "execution_count": null,
      "outputs": [
        {
          "output_type": "stream",
          "text": [
            "Mounted at /gdrive\n"
          ],
          "name": "stdout"
        }
      ]
    },
    {
      "cell_type": "code",
      "metadata": {
        "colab": {
          "base_uri": "https://localhost:8080/"
        },
        "id": "m41zeSgqs30u",
        "outputId": "062000ec-e0e2-418a-8892-a8bab43a0ebd"
      },
      "source": [
        "dataPath = '/gdrive/MyDrive/GermanDataSets/German_News_Dataset/'\n",
        "!ls {dataPath.replace(' ', '\\ ')}  -lha"
      ],
      "execution_count": null,
      "outputs": [
        {
          "output_type": "stream",
          "text": [
            "total 330M\n",
            "-rw------- 1 root root 241M Mar 18 11:08  archive.zip\n",
            "-rw------- 1 root root 850K Mar 18 18:53 'German MultiClass Reformating.ipynb'\n",
            "-rw------- 1 root root  89M Mar 18 17:19  German_News_MultiClass.zip\n",
            "-rw------- 1 root root   49 Mar 18 11:56  readme.txt\n"
          ],
          "name": "stdout"
        }
      ]
    },
    {
      "cell_type": "markdown",
      "metadata": {
        "id": "Ba7RIrJBuTgh"
      },
      "source": [
        "## Prepare Dataset"
      ]
    },
    {
      "cell_type": "code",
      "metadata": {
        "id": "k6hSxmfntHwa"
      },
      "source": [
        "import tensorflow as tf\n",
        "import numpy as np\n",
        "import pandas as pd\n",
        "\n",
        "import os\n",
        "\n",
        "myPath = \"/gdrive/MyDrive/Colab Notebooks/MultiLabelText/ToxicComments/\"\n",
        "TRAIN_DATA = dataPath + \"German_News_MultiClass.zip\"\n",
        "GLOVE_EMBEDDING = myPath + \"data/embedding/glove.6B.100d.txt\"\n",
        "\n",
        "train = pd.read_csv(TRAIN_DATA)"
      ],
      "execution_count": null,
      "outputs": []
    },
    {
      "cell_type": "code",
      "metadata": {
        "colab": {
          "base_uri": "https://localhost:8080/",
          "height": 206
        },
        "id": "5L0AFzP0oz_4",
        "outputId": "bc0d899e-49a8-4419-dfe7-142b5fafb351"
      },
      "source": [
        "train.head()"
      ],
      "execution_count": null,
      "outputs": [
        {
          "output_type": "execute_result",
          "data": {
            "text/html": [
              "<div>\n",
              "<style scoped>\n",
              "    .dataframe tbody tr th:only-of-type {\n",
              "        vertical-align: middle;\n",
              "    }\n",
              "\n",
              "    .dataframe tbody tr th {\n",
              "        vertical-align: top;\n",
              "    }\n",
              "\n",
              "    .dataframe thead th {\n",
              "        text-align: right;\n",
              "    }\n",
              "</style>\n",
              "<table border=\"1\" class=\"dataframe\">\n",
              "  <thead>\n",
              "    <tr style=\"text-align: right;\">\n",
              "      <th></th>\n",
              "      <th>Unnamed: 0</th>\n",
              "      <th>text</th>\n",
              "      <th>tags</th>\n",
              "      <th>Ausland</th>\n",
              "      <th>Deutschland</th>\n",
              "      <th>Wirtschaft</th>\n",
              "      <th>Panorama</th>\n",
              "      <th>Sport</th>\n",
              "      <th>Coronavirus</th>\n",
              "      <th>Berlin</th>\n",
              "      <th>Politik</th>\n",
              "      <th>news</th>\n",
              "    </tr>\n",
              "  </thead>\n",
              "  <tbody>\n",
              "    <tr>\n",
              "      <th>0</th>\n",
              "      <td>0</td>\n",
              "      <td>Im Kreml sollte es in diesen Tagen eigentlich ...</td>\n",
              "      <td>Ausland, „Sputnik V“</td>\n",
              "      <td>1</td>\n",
              "      <td>0</td>\n",
              "      <td>0</td>\n",
              "      <td>0</td>\n",
              "      <td>0</td>\n",
              "      <td>0</td>\n",
              "      <td>0</td>\n",
              "      <td>0</td>\n",
              "      <td>0</td>\n",
              "    </tr>\n",
              "    <tr>\n",
              "      <th>1</th>\n",
              "      <td>1</td>\n",
              "      <td>Der Preis setze ein Zeichen für die Millionen ...</td>\n",
              "      <td>Ausland, Oslo</td>\n",
              "      <td>1</td>\n",
              "      <td>0</td>\n",
              "      <td>0</td>\n",
              "      <td>0</td>\n",
              "      <td>0</td>\n",
              "      <td>0</td>\n",
              "      <td>0</td>\n",
              "      <td>0</td>\n",
              "      <td>0</td>\n",
              "    </tr>\n",
              "    <tr>\n",
              "      <th>2</th>\n",
              "      <td>2</td>\n",
              "      <td>Die Kanzlerin berät mit den Bürgermeistern der...</td>\n",
              "      <td>Deutschland, Corona-Pandemie</td>\n",
              "      <td>0</td>\n",
              "      <td>1</td>\n",
              "      <td>0</td>\n",
              "      <td>0</td>\n",
              "      <td>0</td>\n",
              "      <td>0</td>\n",
              "      <td>0</td>\n",
              "      <td>0</td>\n",
              "      <td>0</td>\n",
              "    </tr>\n",
              "    <tr>\n",
              "      <th>3</th>\n",
              "      <td>3</td>\n",
              "      <td>Anzeige\\n\\nDie Corona-Krise hat auch vor dem e...</td>\n",
              "      <td>Wirtschaft, FIFA 21 im Test</td>\n",
              "      <td>0</td>\n",
              "      <td>0</td>\n",
              "      <td>1</td>\n",
              "      <td>0</td>\n",
              "      <td>0</td>\n",
              "      <td>0</td>\n",
              "      <td>0</td>\n",
              "      <td>0</td>\n",
              "      <td>0</td>\n",
              "    </tr>\n",
              "    <tr>\n",
              "      <th>4</th>\n",
              "      <td>4</td>\n",
              "      <td>Anzeige\\n\\nEin Problem? Kein Problem. Natürlic...</td>\n",
              "      <td>Panorama, Popkultur</td>\n",
              "      <td>0</td>\n",
              "      <td>0</td>\n",
              "      <td>0</td>\n",
              "      <td>1</td>\n",
              "      <td>0</td>\n",
              "      <td>0</td>\n",
              "      <td>0</td>\n",
              "      <td>0</td>\n",
              "      <td>0</td>\n",
              "    </tr>\n",
              "  </tbody>\n",
              "</table>\n",
              "</div>"
            ],
            "text/plain": [
              "   Unnamed: 0                                               text  ... Politik  news\n",
              "0           0  Im Kreml sollte es in diesen Tagen eigentlich ...  ...       0     0\n",
              "1           1  Der Preis setze ein Zeichen für die Millionen ...  ...       0     0\n",
              "2           2  Die Kanzlerin berät mit den Bürgermeistern der...  ...       0     0\n",
              "3           3  Anzeige\\n\\nDie Corona-Krise hat auch vor dem e...  ...       0     0\n",
              "4           4  Anzeige\\n\\nEin Problem? Kein Problem. Natürlic...  ...       0     0\n",
              "\n",
              "[5 rows x 12 columns]"
            ]
          },
          "metadata": {
            "tags": []
          },
          "execution_count": 4
        }
      ]
    },
    {
      "cell_type": "code",
      "metadata": {
        "id": "t87U0cquH9ID"
      },
      "source": [
        "# Limit string length to conserve memory\n",
        "train['text'] = train['text'].str.slice(0,3000)"
      ],
      "execution_count": null,
      "outputs": []
    },
    {
      "cell_type": "code",
      "metadata": {
        "colab": {
          "base_uri": "https://localhost:8080/"
        },
        "id": "p9GhvZbMqDtd",
        "outputId": "508f762a-1df0-4bef-8862-65c4b8edaad8"
      },
      "source": [
        "# replace NaN values with \"fillna\"\n",
        "train[\"text\"].fillna(\"fillna\")"
      ],
      "execution_count": null,
      "outputs": [
        {
          "output_type": "execute_result",
          "data": {
            "text/plain": [
              "0        Im Kreml sollte es in diesen Tagen eigentlich ...\n",
              "1        Der Preis setze ein Zeichen für die Millionen ...\n",
              "2        Die Kanzlerin berät mit den Bürgermeistern der...\n",
              "3        Anzeige\\n\\nDie Corona-Krise hat auch vor dem e...\n",
              "4        Anzeige\\n\\nEin Problem? Kein Problem. Natürlic...\n",
              "                               ...                        \n",
              "64527    Börse in Frankfurt : Dax knapp im Minus vor No...\n",
              "64528    Corona-Krise : Keine Zuschauer bis Ende Oktobe...\n",
              "64529    Risiko zu groß : Amateurclubs verzichten auf D...\n",
              "64530    Vereinbarung unterzeichnet : „Marathonlauf“ fü...\n",
              "64531    FC Groningen : Robben verzichtet auf Testspiel...\n",
              "Name: text, Length: 64532, dtype: object"
            ]
          },
          "metadata": {
            "tags": []
          },
          "execution_count": 6
        }
      ]
    },
    {
      "cell_type": "code",
      "metadata": {
        "id": "WAxTlOYUq3gP"
      },
      "source": [
        "labels = ['Ausland', 'Deutschland', 'Wirtschaft', 'Panorama', 'Sport', 'Coronavirus', 'Berlin', 'Politik', 'news']\n",
        "train['text'] = train.text.astype(str)\n",
        "\n",
        "x_train = train[\"text\"].str.lower()\n",
        "y_train = train[labels].values"
      ],
      "execution_count": null,
      "outputs": []
    },
    {
      "cell_type": "code",
      "metadata": {
        "colab": {
          "base_uri": "https://localhost:8080/"
        },
        "id": "NHZPKDrFq5bg",
        "outputId": "3e9b2967-2c0f-463e-89c0-665bfa89524f"
      },
      "source": [
        "print(type(x_train))\n",
        "print(type(y_train))"
      ],
      "execution_count": null,
      "outputs": [
        {
          "output_type": "stream",
          "text": [
            "<class 'pandas.core.series.Series'>\n",
            "<class 'numpy.ndarray'>\n"
          ],
          "name": "stdout"
        }
      ]
    },
    {
      "cell_type": "code",
      "metadata": {
        "colab": {
          "base_uri": "https://localhost:8080/"
        },
        "id": "lhIX3wpRJhFX",
        "outputId": "b2fbd30a-33c1-4372-f01f-f686873763d0"
      },
      "source": [
        "x_train.head()"
      ],
      "execution_count": null,
      "outputs": [
        {
          "output_type": "execute_result",
          "data": {
            "text/plain": [
              "0    im kreml sollte es in diesen tagen eigentlich ...\n",
              "1    der preis setze ein zeichen für die millionen ...\n",
              "2    die kanzlerin berät mit den bürgermeistern der...\n",
              "3    anzeige\\n\\ndie corona-krise hat auch vor dem e...\n",
              "4    anzeige\\n\\nein problem? kein problem. natürlic...\n",
              "Name: text, dtype: object"
            ]
          },
          "metadata": {
            "tags": []
          },
          "execution_count": 9
        }
      ]
    },
    {
      "cell_type": "code",
      "metadata": {
        "colab": {
          "base_uri": "https://localhost:8080/"
        },
        "id": "O9fasF0-d5vO",
        "outputId": "2a32ed08-dbf6-4607-f2b2-c85ba594a07d"
      },
      "source": [
        "print(y_train)"
      ],
      "execution_count": null,
      "outputs": [
        {
          "output_type": "stream",
          "text": [
            "[[1 0 0 ... 0 0 0]\n",
            " [1 0 0 ... 0 0 0]\n",
            " [0 1 0 ... 0 0 0]\n",
            " ...\n",
            " [0 0 0 ... 0 0 0]\n",
            " [0 0 0 ... 0 1 0]\n",
            " [0 0 0 ... 0 0 0]]\n"
          ],
          "name": "stdout"
        }
      ]
    },
    {
      "cell_type": "code",
      "metadata": {
        "id": "yFQ4hyPzoUlX"
      },
      "source": [
        "max_words = 100000\n",
        "max_len = 100\n",
        "embed_size = 100\n",
        "\n",
        "tokenizer = tf.keras.preprocessing.text.Tokenizer(num_words=max_words, lower=True)\n",
        "\n",
        "tokenizer.fit_on_texts(x_train)\n",
        "\n",
        "x_train = tokenizer.texts_to_sequences(x_train)\n",
        "x_train = tf.keras.preprocessing.sequence.pad_sequences(x_train, maxlen=max_len)\n"
      ],
      "execution_count": null,
      "outputs": []
    },
    {
      "cell_type": "code",
      "metadata": {
        "colab": {
          "base_uri": "https://localhost:8080/"
        },
        "id": "R-A274ruAzVZ",
        "outputId": "180fdac2-4e64-41f4-8a6d-ff359945595f"
      },
      "source": [
        "print('x_train shape :' + str(x_train.shape))\n",
        "print(' x_train size :' + str(len(x_train)))\n",
        "print('x_train items :')\n",
        "\n",
        "print (x_train[0])\n"
      ],
      "execution_count": null,
      "outputs": [
        {
          "output_type": "stream",
          "text": [
            "x_train shape :(64532, 100)\n",
            " x_train size :64532\n",
            "x_train items :\n",
            "[    0     0     0     0     0     0    10  2070   240    13     4   301\n",
            "   278   397   904  1663    12 12389   297    33   257    37   774  2543\n",
            "     1   351   108     4   512  2179 12206    84     4   311    24   198\n",
            "   190    32    14     1   195     2   337    11   363   540  1743   323\n",
            "   215    45    24  5724     3   268    75    11    20  2122     2 19256\n",
            "     7   619     1   597   988    15     4   512  3817    84 10077    48\n",
            "   417  1410   411     2  1216   645   104    14   335  1449  2776  1432\n",
            " 14000 74583  1615     1   521     5  2297 11958   126   202   512    33\n",
            "    36 17346 50879  1514]\n"
          ],
          "name": "stdout"
        }
      ]
    },
    {
      "cell_type": "code",
      "metadata": {
        "id": "ZadCSwGDBYCb"
      },
      "source": [
        "#x_train_sz = len(x_train)\n",
        "#x_train = x_train.reshape(1, x_train_sz, 150)\n"
      ],
      "execution_count": null,
      "outputs": []
    },
    {
      "cell_type": "code",
      "metadata": {
        "id": "RgxDSas3Bk3Q"
      },
      "source": [
        "#print('x_train shape: ' + str(x_train.shape))\n",
        "#print(' x_train size: ' + str(len(x_train)))\n"
      ],
      "execution_count": null,
      "outputs": []
    },
    {
      "cell_type": "markdown",
      "metadata": {
        "id": "MReFmOMquM8E"
      },
      "source": [
        "## Use pre-train embeddings"
      ]
    },
    {
      "cell_type": "markdown",
      "metadata": {
        "id": "s0QQyVkEx9vz"
      },
      "source": [
        "In this tutorial, We use pre-trained word embedding for Text classification.We will use the 100-dimensional GloVe embeddings of 400k words computed on a 2014 dump of English Wikipedia. You can download them here: http://nlp.stanford.edu/data/glove.6B.zip\n",
        "\n",
        "we compute an index mapping words to known embeddings, by parsing the data dump of pre-trained embeddings:"
      ]
    },
    {
      "cell_type": "code",
      "metadata": {
        "id": "v5o9sttpabiH"
      },
      "source": [
        "import numpy as np\n",
        "\n",
        "def create_embedding_matrix(filepath, word_index, embedding_dim):\n",
        "    \"\"\" Load only word embeddings for thos word that occur in the corpus\n",
        "    \"\"\"\n",
        "    vocab_size = len(word_index) + 1  # Adding again 1 because of reserved 0 index\n",
        "    embedding_matrix = np.zeros((vocab_size, embedding_dim))\n",
        "\n",
        "    with open(filepath) as f:\n",
        "        for line in f:\n",
        "            word, *vector = line.split()\n",
        "            if word in word_index:\n",
        "                idx = word_index[word] \n",
        "                embedding_matrix[idx] = np.array(\n",
        "                    vector, dtype=np.float32)[:embedding_dim]\n",
        "\n",
        "    return embedding_matrix"
      ],
      "execution_count": null,
      "outputs": []
    },
    {
      "cell_type": "code",
      "metadata": {
        "id": "B7_I8gJqadS1"
      },
      "source": [
        "embedding_matrix = create_embedding_matrix(GLOVE_EMBEDDING, tokenizer.word_index, embed_size)\n",
        "\n",
        "# adjust max number of words to actual number of words\n",
        "max_words = len(embedding_matrix)"
      ],
      "execution_count": null,
      "outputs": []
    },
    {
      "cell_type": "markdown",
      "metadata": {
        "id": "WQX_00W9uHtq"
      },
      "source": [
        "## Bidirectional Layer\n",
        "\n",
        "It propagates the input forward and backward through the RNN layer and then concatenates the output. This helps the RNN to learn long range dependencies."
      ]
    },
    {
      "cell_type": "code",
      "metadata": {
        "id": "0OKA1KOp3BkY"
      },
      "source": [
        "#\n",
        "# https://towardsdatascience.com/multi-class-text-classification-with-lstm-using-tensorflow-2-0-d88627c10a35\n",
        "#\n",
        "# \n",
        "#\n",
        "def create_Bidirectional_LSTM_model(categories, distribute_strategy):\n",
        "\n",
        "  with distribute_strategy.scope():\n",
        "    model = tf.keras.Sequential([\n",
        "    # Add an Embedding layer expecting input vocab of size 5000, and output embedding dimension of size 64 we set at the top\n",
        "    tf.keras.layers.Embedding(max_words, embed_size, weights=[embedding_matrix], trainable=False),\n",
        "    \n",
        "    tf.keras.layers.Bidirectional(tf.keras.layers.LSTM(embed_size, recurrent_dropout=0.1)), # dropout=0.1\n",
        "\n",
        "    # tf.keras.layers.Bidirectional(tf.keras.layers.LSTM(32)),\n",
        "    # use ReLU in place of tanh function since they are very good alternatives of each other.\n",
        "    tf.keras.layers.Dense(embed_size, activation='relu'),\n",
        "    \n",
        "    # Add a Dense layer with n units and softmax activation.\n",
        "    # When we have multiple outputs, softmax convert outputs layers into a probability distribution.\n",
        "    tf.keras.layers.Dense(categories, activation='sigmoid')\n",
        "    ])\n",
        "\n",
        "    print(model.summary())\n",
        "\n",
        "    # sparse_categorical_crossentropy\n",
        "    model.compile(loss='binary_crossentropy', optimizer=tf.keras.optimizers.Adam(lr=1e-3), metrics=['accuracy'])\n",
        "\n",
        "  return model"
      ],
      "execution_count": null,
      "outputs": []
    },
    {
      "cell_type": "code",
      "metadata": {
        "colab": {
          "base_uri": "https://localhost:8080/"
        },
        "id": "OIH8y2R9a0HX",
        "outputId": "9f8c41bf-41f9-4679-b105-1e640769b4ad"
      },
      "source": [
        "strategy = tf.distribute.MirroredStrategy()\n",
        "model = create_Bidirectional_LSTM_model(len(labels), strategy)"
      ],
      "execution_count": null,
      "outputs": [
        {
          "output_type": "stream",
          "text": [
            "INFO:tensorflow:Using MirroredStrategy with devices ('/job:localhost/replica:0/task:0/device:GPU:0',)\n",
            "WARNING:tensorflow:Layer lstm will not use cuDNN kernel since it doesn't meet the cuDNN kernel criteria. It will use generic GPU kernel as fallback when running on GPU\n",
            "WARNING:tensorflow:Layer lstm will not use cuDNN kernel since it doesn't meet the cuDNN kernel criteria. It will use generic GPU kernel as fallback when running on GPU\n",
            "WARNING:tensorflow:Layer lstm will not use cuDNN kernel since it doesn't meet the cuDNN kernel criteria. It will use generic GPU kernel as fallback when running on GPU\n",
            "Model: \"sequential\"\n",
            "_________________________________________________________________\n",
            "Layer (type)                 Output Shape              Param #   \n",
            "=================================================================\n",
            "embedding (Embedding)        (None, None, 100)         35617100  \n",
            "_________________________________________________________________\n",
            "bidirectional (Bidirectional (None, 200)               160800    \n",
            "_________________________________________________________________\n",
            "dense (Dense)                (None, 100)               20100     \n",
            "_________________________________________________________________\n",
            "dense_1 (Dense)              (None, 9)                 909       \n",
            "=================================================================\n",
            "Total params: 35,798,909\n",
            "Trainable params: 181,809\n",
            "Non-trainable params: 35,617,100\n",
            "_________________________________________________________________\n",
            "None\n",
            "INFO:tensorflow:Reduce to /job:localhost/replica:0/task:0/device:CPU:0 then broadcast to ('/job:localhost/replica:0/task:0/device:CPU:0',).\n",
            "INFO:tensorflow:Reduce to /job:localhost/replica:0/task:0/device:CPU:0 then broadcast to ('/job:localhost/replica:0/task:0/device:CPU:0',).\n",
            "INFO:tensorflow:Reduce to /job:localhost/replica:0/task:0/device:CPU:0 then broadcast to ('/job:localhost/replica:0/task:0/device:CPU:0',).\n",
            "INFO:tensorflow:Reduce to /job:localhost/replica:0/task:0/device:CPU:0 then broadcast to ('/job:localhost/replica:0/task:0/device:CPU:0',).\n"
          ],
          "name": "stdout"
        }
      ]
    },
    {
      "cell_type": "markdown",
      "metadata": {
        "id": "BYLcBaLrt_QE"
      },
      "source": [
        "Here we use sigmoid activation instead of softmax for output layer and binary_crossentropy for loss function.\n",
        "\n",
        "## Train Model"
      ]
    },
    {
      "cell_type": "code",
      "metadata": {
        "colab": {
          "base_uri": "https://localhost:8080/"
        },
        "id": "2yTvozswtx46",
        "outputId": "a18fd058-16ba-4815-d620-180e2baadf32"
      },
      "source": [
        "batch_size = 128\n",
        "\n",
        "checkpoint_path = \"training_1/cp.ckpt\"\n",
        "checkpoint_dir = os.path.dirname(checkpoint_path)\n",
        "\n",
        "cp_callback = tf.keras.callbacks.ModelCheckpoint(checkpoint_path,\n",
        "                                                 save_weights_only=True,\n",
        "                                                 verbose=1)\n",
        "\n",
        "callbacks = [\n",
        "    tf.keras.callbacks.EarlyStopping(patience=9, monitor='val_loss'),\n",
        "    tf.keras.callbacks.TensorBoard(log_dir='./logs'),\n",
        "    cp_callback\n",
        "]\n",
        "\n",
        "history = model.fit(x_train, y_train, validation_split=0.2, batch_size=batch_size,\n",
        "          epochs=32, callbacks=callbacks, verbose=1)"
      ],
      "execution_count": null,
      "outputs": [
        {
          "output_type": "stream",
          "text": [
            "Epoch 1/32\n",
            "INFO:tensorflow:Reduce to /job:localhost/replica:0/task:0/device:CPU:0 then broadcast to ('/job:localhost/replica:0/task:0/device:CPU:0',).\n",
            "INFO:tensorflow:Reduce to /job:localhost/replica:0/task:0/device:CPU:0 then broadcast to ('/job:localhost/replica:0/task:0/device:CPU:0',).\n",
            "INFO:tensorflow:Reduce to /job:localhost/replica:0/task:0/device:CPU:0 then broadcast to ('/job:localhost/replica:0/task:0/device:CPU:0',).\n",
            "INFO:tensorflow:Reduce to /job:localhost/replica:0/task:0/device:CPU:0 then broadcast to ('/job:localhost/replica:0/task:0/device:CPU:0',).\n",
            "INFO:tensorflow:Reduce to /job:localhost/replica:0/task:0/device:CPU:0 then broadcast to ('/job:localhost/replica:0/task:0/device:CPU:0',).\n",
            "INFO:tensorflow:Reduce to /job:localhost/replica:0/task:0/device:CPU:0 then broadcast to ('/job:localhost/replica:0/task:0/device:CPU:0',).\n",
            "404/404 [==============================] - 216s 515ms/step - loss: 0.3513 - accuracy: 0.2709 - val_loss: 0.3346 - val_accuracy: 0.1737\n",
            "\n",
            "Epoch 00001: saving model to training_1/cp.ckpt\n",
            "Epoch 2/32\n",
            "404/404 [==============================] - 202s 499ms/step - loss: 0.2888 - accuracy: 0.3573 - val_loss: 0.3027 - val_accuracy: 0.2682\n",
            "\n",
            "Epoch 00002: saving model to training_1/cp.ckpt\n",
            "Epoch 3/32\n",
            "404/404 [==============================] - 202s 499ms/step - loss: 0.2612 - accuracy: 0.4343 - val_loss: 0.3171 - val_accuracy: 0.2652\n",
            "\n",
            "Epoch 00003: saving model to training_1/cp.ckpt\n",
            "Epoch 4/32\n",
            "404/404 [==============================] - 201s 498ms/step - loss: 0.2497 - accuracy: 0.4653 - val_loss: 0.2834 - val_accuracy: 0.3469\n",
            "\n",
            "Epoch 00004: saving model to training_1/cp.ckpt\n",
            "Epoch 5/32\n",
            "404/404 [==============================] - 202s 501ms/step - loss: 0.2398 - accuracy: 0.4870 - val_loss: 0.3178 - val_accuracy: 0.2681\n",
            "\n",
            "Epoch 00005: saving model to training_1/cp.ckpt\n",
            "Epoch 6/32\n",
            "404/404 [==============================] - 203s 501ms/step - loss: 0.2317 - accuracy: 0.5073 - val_loss: 0.2972 - val_accuracy: 0.2976\n",
            "\n",
            "Epoch 00006: saving model to training_1/cp.ckpt\n",
            "Epoch 7/32\n",
            "404/404 [==============================] - 206s 510ms/step - loss: 0.2244 - accuracy: 0.5277 - val_loss: 0.2864 - val_accuracy: 0.3451\n",
            "\n",
            "Epoch 00007: saving model to training_1/cp.ckpt\n",
            "Epoch 8/32\n",
            "404/404 [==============================] - 203s 502ms/step - loss: 0.2166 - accuracy: 0.5437 - val_loss: 0.2823 - val_accuracy: 0.3551\n",
            "\n",
            "Epoch 00008: saving model to training_1/cp.ckpt\n",
            "Epoch 9/32\n",
            "404/404 [==============================] - 204s 504ms/step - loss: 0.2109 - accuracy: 0.5612 - val_loss: 0.2986 - val_accuracy: 0.3561\n",
            "\n",
            "Epoch 00009: saving model to training_1/cp.ckpt\n",
            "Epoch 10/32\n",
            "404/404 [==============================] - 202s 501ms/step - loss: 0.2022 - accuracy: 0.5785 - val_loss: 0.2889 - val_accuracy: 0.3545\n",
            "\n",
            "Epoch 00010: saving model to training_1/cp.ckpt\n",
            "Epoch 11/32\n",
            "404/404 [==============================] - 203s 502ms/step - loss: 0.1967 - accuracy: 0.5969 - val_loss: 0.2914 - val_accuracy: 0.3628\n",
            "\n",
            "Epoch 00011: saving model to training_1/cp.ckpt\n",
            "Epoch 12/32\n",
            "404/404 [==============================] - 203s 502ms/step - loss: 0.1891 - accuracy: 0.6142 - val_loss: 0.2901 - val_accuracy: 0.3761\n",
            "\n",
            "Epoch 00012: saving model to training_1/cp.ckpt\n",
            "Epoch 13/32\n",
            "404/404 [==============================] - 202s 499ms/step - loss: 0.1833 - accuracy: 0.6315 - val_loss: 0.3272 - val_accuracy: 0.3252\n",
            "\n",
            "Epoch 00013: saving model to training_1/cp.ckpt\n",
            "Epoch 14/32\n",
            "404/404 [==============================] - 202s 500ms/step - loss: 0.1759 - accuracy: 0.6455 - val_loss: 0.3195 - val_accuracy: 0.3372\n",
            "\n",
            "Epoch 00014: saving model to training_1/cp.ckpt\n",
            "Epoch 15/32\n",
            "404/404 [==============================] - 203s 501ms/step - loss: 0.1684 - accuracy: 0.6631 - val_loss: 0.3093 - val_accuracy: 0.3678\n",
            "\n",
            "Epoch 00015: saving model to training_1/cp.ckpt\n",
            "Epoch 16/32\n",
            "404/404 [==============================] - 202s 499ms/step - loss: 0.1618 - accuracy: 0.6812 - val_loss: 0.3462 - val_accuracy: 0.3275\n",
            "\n",
            "Epoch 00016: saving model to training_1/cp.ckpt\n",
            "Epoch 17/32\n",
            "404/404 [==============================] - 203s 503ms/step - loss: 0.1566 - accuracy: 0.6912 - val_loss: 0.3149 - val_accuracy: 0.3780\n",
            "\n",
            "Epoch 00017: saving model to training_1/cp.ckpt\n"
          ],
          "name": "stdout"
        }
      ]
    },
    {
      "cell_type": "markdown",
      "metadata": {
        "id": "SjnZ2mmERiRr"
      },
      "source": [
        "## Evaluation"
      ]
    },
    {
      "cell_type": "markdown",
      "metadata": {
        "id": "gPUbu-f9uhxH"
      },
      "source": [
        "## Predictions"
      ]
    },
    {
      "cell_type": "code",
      "metadata": {
        "id": "zh_DyIFlKC1l"
      },
      "source": [
        "import matplotlib.pyplot as plt\n",
        "plt.style.use('ggplot')\n",
        "\n",
        "def plot_history(history):\n",
        "    acc = history.history['accuracy']\n",
        "    val_acc = history.history['val_accuracy']\n",
        "    loss = history.history['loss']\n",
        "    val_loss = history.history['val_loss']\n",
        "    x = range(1, len(acc) + 1)\n",
        "\n",
        "    plt.figure(figsize=(12, 5))\n",
        "    plt.subplot(1, 2, 1)\n",
        "    plt.plot(x, acc, 'b', label='Training acc')\n",
        "    plt.plot(x, val_acc, 'r', label='Validation acc')\n",
        "    plt.title('Training and validation accuracy')\n",
        "    plt.legend()\n",
        "    plt.subplot(1, 2, 2)\n",
        "    plt.plot(x, loss, 'b', label='Training loss')\n",
        "    plt.plot(x, val_loss, 'r', label='Validation loss')\n",
        "    plt.title('Training and validation loss')\n",
        "    plt.legend()"
      ],
      "execution_count": null,
      "outputs": []
    },
    {
      "cell_type": "code",
      "metadata": {
        "id": "UGAqc_P7KCml",
        "colab": {
          "base_uri": "https://localhost:8080/",
          "height": 337
        },
        "outputId": "1a649659-f948-4fdf-ce8b-d5aaad0f1894"
      },
      "source": [
        "#loss, accuracy = model.evaluate(X_test, y_test, verbose=False)\n",
        "\n",
        "#print(\"Training Accuracy: {:.4f}\".format(accuracy))\n",
        "#print(\"Testing Accuracy:  {:.4f}\".format(accuracy))\n",
        "plot_history(history)"
      ],
      "execution_count": null,
      "outputs": [
        {
          "output_type": "display_data",
          "data": {
            "image/png": "[encoded data removed]",
            "text/plain": [
              "<Figure size 864x360 with 2 Axes>"
            ]
          },
          "metadata": {
            "tags": []
          }
        }
      ]
    },
    {
      "cell_type": "code",
      "metadata": {
        "id": "cm0Fo5bjbM2U"
      },
      "source": [
        "def EvaluateLabeledPrediction(threshold, predictions, labelsData):\n",
        "  for i in range(len(labels)):\n",
        "    if (predictions[0][i] >= threshold and labelsData[i] == 1):\n",
        "      print (\"{:02d}\".format(i) + \"  TRUE \" + str(labelsData[i]) + \" -> \" + \"{0:.6f}\".format(predictions[0][i]) + \": \" + labels[i])\n",
        "    elif (predictions[0][i] >= threshold and labelsData[i] == 0):\n",
        "      print (\"{:02d}\".format(i) + \" FALSE \" + str(labelsData[i]) + \" -> \" + \"{0:.6f}\".format(predictions[0][i]) + \": \" + labels[i])\n",
        "    elif (predictions[0][i] < threshold and labelsData[i] == 0):\n",
        "      print (\"{:02d}\".format(i) + \"       \" + str(labelsData[i]) + \" -> \" + \"{0:.6f}\".format(predictions[0][i]) + \": \" + labels[i])\n",
        "    elif (predictions[0][i] < threshold and labelsData[i] == 1):\n",
        "      print (\"{:02d}\".format(i) + \" FALSE \" + str(labelsData[i]) + \" -> \" + \"{0:.6f}\".format(predictions[0][i]) + \": \" + labels[i])\n",
        "\n",
        "  return None"
      ],
      "execution_count": null,
      "outputs": []
    },
    {
      "cell_type": "code",
      "metadata": {
        "id": "mA3ddekgt4Y6",
        "colab": {
          "base_uri": "https://localhost:8080/"
        },
        "outputId": "95ab0abb-eeb3-468c-cfbd-0495121214cc"
      },
      "source": [
        "latest = tf.train.latest_checkpoint(checkpoint_dir)\n",
        "\n",
        "model.load_weights(latest)\n",
        "\n",
        "idx = 43\n",
        "predictions = model.predict(np.expand_dims(x_train[idx], 0))\n",
        "\n",
        "print(tokenizer.sequences_to_texts([x_train[idx]]))\n",
        "print(y_train[idx])\n",
        "print(predictions)\n",
        "\n",
        "EvaluateLabeledPrediction(threshold = .6, predictions=predictions, labelsData=y_train[idx])"
      ],
      "execution_count": null,
      "outputs": [
        {
          "output_type": "stream",
          "text": [
            "['mit inhalten aus twitter und anderen sozialen netzwerken zu interagieren oder diese darzustellen brauchen wir ihre zustimmung soziale netzwerke aktivieren plasberg hielt das für einen witz „das haben sie sich doch ausgedacht “ weiler lachte blieb aber dabei dass er das wirklich so gehört habe in dem fall hilft wohl auch kein faktencheck generell lag die stärke von weiler und von der lippe an diesem abend eher im was zwar für mehr aufregung jedoch keine tiefere erkenntnis sorgte knigge der sprache anzeige publizistin lohaus stellte sich komplett gegen die behauptung dass sprache unschuldig sei konstituiert unser denken und unsere sagt']\n",
            "[0 0 0 1 0 0 0 0 0]\n",
            "[[0.02088303 0.09821796 0.02146741 0.8142499  0.00879554 0.07683036\n",
            "  0.00654718 0.06490186 0.04125369]]\n",
            "00       0 -> 0.020883: Ausland\n",
            "01       0 -> 0.098218: Deutschland\n",
            "02       0 -> 0.021467: Wirtschaft\n",
            "03  TRUE 1 -> 0.814250: Panorama\n",
            "04       0 -> 0.008796: Sport\n",
            "05       0 -> 0.076830: Coronavirus\n",
            "06       0 -> 0.006547: Berlin\n",
            "07       0 -> 0.064902: Politik\n",
            "08       0 -> 0.041254: news\n"
          ],
          "name": "stdout"
        }
      ]
    },
    {
      "cell_type": "code",
      "metadata": {
        "id": "K2tVVSg1CFiU",
        "colab": {
          "base_uri": "https://localhost:8080/"
        },
        "outputId": "8b5b4742-5d87-4f99-c772-2681b17ce951"
      },
      "source": [
        "for i in range(32):\n",
        "  predictions = model.predict(np.expand_dims(x_train[i], 0))\n",
        "\n",
        "  print(tokenizer.sequences_to_texts([x_train[i]]))\n",
        "  print(y_train[i])\n",
        "  print(predictions)\n",
        "\n",
        "  EvaluateLabeledPrediction(threshold = .5, predictions=predictions, labelsData=y_train[i])"
      ],
      "execution_count": null,
      "outputs": [
        {
          "output_type": "stream",
          "text": [
            "['im kreml sollte es in diesen tagen eigentlich genug gründe für aufruhr geben vor gerade einem monat schien die covid pandemie in russland nahezu eingedämmt doch in weniger als vier wochen hat sich die zahl der neuinfektionen auf knapp 11 600 pro tag mehr als verdoppelt und liegt nun auf dem niveau der rekordwerte von mai die zweite welle ist in russland angekommen doch geredet wird darüber überraschend wenig der russische staat gibt sich bislang betont gelassen gesundheitsminister michail muraschko nennt die situation das klingt selbstbewusst dabei steht russland vor einer schier unmöglichen aufgabe']\n",
            "[1 0 0 0 0 0 0 0 0]\n",
            "[[3.9636174e-01 1.1760422e-02 4.1598912e-02 4.6448652e-02 2.1049133e-04\n",
            "  5.4269761e-02 2.3032591e-04 1.2658955e-01 2.6587498e-01]]\n",
            "00 FALSE 1 -> 0.396362: Ausland\n",
            "01       0 -> 0.011760: Deutschland\n",
            "02       0 -> 0.041599: Wirtschaft\n",
            "03       0 -> 0.046449: Panorama\n",
            "04       0 -> 0.000210: Sport\n",
            "05       0 -> 0.054270: Coronavirus\n",
            "06       0 -> 0.000230: Berlin\n",
            "07       0 -> 0.126590: Politik\n",
            "08       0 -> 0.265875: news\n",
            "['den renommiertesten politischen preis der erde war in diesem jahr groß gewesen – vorab kristallisierte sich kein klarer favorit heraus in den wettbüros wurden die weltgesundheitsorganisation who und klimaaktivistin greta thunberg als topfavoriten gehandelt anzeige der friedensnobelpreis gilt als die weltweit wichtigste auszeichnung für verdienste um abrüstung friedenssicherung und menschenrechte der preis wird vom norwegischen nobelkomitee vergeben das vom parlament in oslo eingesetzt wurde gestiftet wurde der preis vom schwedischen unternehmer und erfinder des alfred nobel 1833 1896 schon öfter wurden organisationen geehrt die verleihung findet jedes jahr am todestag nobels dem 10 dezember statt zum ersten mal wurde d']\n",
            "[1 0 0 0 0 0 0 0 0]\n",
            "[[2.1854818e-01 3.5234362e-01 7.7706217e-03 5.1725160e-02 1.6493391e-04\n",
            "  3.0188235e-03 2.6669336e-02 4.4269044e-02 2.2669080e-01]]\n",
            "00 FALSE 1 -> 0.218548: Ausland\n",
            "01       0 -> 0.352344: Deutschland\n",
            "02       0 -> 0.007771: Wirtschaft\n",
            "03       0 -> 0.051725: Panorama\n",
            "04       0 -> 0.000165: Sport\n",
            "05       0 -> 0.003019: Coronavirus\n",
            "06       0 -> 0.026669: Berlin\n",
            "07       0 -> 0.044269: Politik\n",
            "08       0 -> 0.226691: news\n",
            "['zu einer weiteren diffusen verbreitung kommen könne die zahl der städte die den grenzwert von 50 neuinfektionen reißen wird täglich länger hier eine übersicht die sorgenkinder städte die in deutschland mehr als 50 neuansteckungen pro 100 000 einwohner innerhalb von sieben tagen melden gelten als innerdeutsche risikogebiete zuletzt war das in berlin bremen und frankfurt am main der fall besonders heftig betroffen ist aktuell der berliner bezirk neukölln mit einer inzidenz von 133 anzeige gleich jenseits der frankfurter stadtgrenze in der nachbarstadt offenbach betrug der schwellenwert am freitag 66 neben der großstadt stuttgart ist esslingen 54 6 stark betroffen in']\n",
            "[0 1 0 0 0 0 0 0 0]\n",
            "[[8.95365514e-03 8.93809736e-01 1.04509801e-01 6.34291116e-03\n",
            "  2.19584554e-02 4.26011346e-03 4.84173186e-04 1.13922134e-01\n",
            "  8.33099429e-03]]\n",
            "00       0 -> 0.008954: Ausland\n",
            "01  TRUE 1 -> 0.893810: Deutschland\n",
            "02       0 -> 0.104510: Wirtschaft\n",
            "03       0 -> 0.006343: Panorama\n",
            "04       0 -> 0.021958: Sport\n",
            "05       0 -> 0.004260: Coronavirus\n",
            "06       0 -> 0.000484: Berlin\n",
            "07       0 -> 0.113922: Politik\n",
            "08       0 -> 0.008331: news\n",
            "['richtige richtung es ist nun noch wichtiger wie ein spieler zum ball steht damit dieser auch gut beim mitspieler oder im tor platziert werden kann die bei zweikämpfen wirkt nachvollziehbarer ein kräftiger und großer stürmer hat nun deutliche vorteile wenn er im strafraum gegen einen eher schmächtigen gegenspieler zum kopfballduell das highlight der neue eine weitere neue gameplay verbesserung heißt so sollen mitspieler aber auch gegner nun freie räume selbstständig erahnen wer zum beispiel mit offensiv ausgerichteten spielt bietet seinem gegner schnell eine lücke in die außenstürmer vorstoßen können daran muss man sich gewöhnen die abwehrarbeit muss neu bedacht wer']\n",
            "[0 0 1 0 0 0 0 0 0]\n",
            "[[0.00073079 0.00453397 0.06879277 0.00204976 0.22172427 0.04775129\n",
            "  0.02724653 0.05068676 0.5506295 ]]\n",
            "00       0 -> 0.000731: Ausland\n",
            "01       0 -> 0.004534: Deutschland\n",
            "02 FALSE 1 -> 0.068793: Wirtschaft\n",
            "03       0 -> 0.002050: Panorama\n",
            "04       0 -> 0.221724: Sport\n",
            "05       0 -> 0.047751: Coronavirus\n",
            "06       0 -> 0.027247: Berlin\n",
            "07       0 -> 0.050687: Politik\n",
            "08 FALSE 0 -> 0.550629: news\n",
            "['selbstdarsteller statt bodybuilder es schien als wäre die welt des markus rühl für einen kurzen moment aus den fugen geraten klassischer wettbewerb im jahr 2004 markus rühl l posiert in las vegas quelle peter shutterstock und das ist sie auch hinter den kulissen spielt sich ein ab ein radikaler transformationsprozess innerhalb der denn heute ist nicht mehr bloß heute ist ein teil der popkultur soziale netzwerke haben den sport aus seinem nischendasein befreit und die athleten zu den ganz großen stars der gemacht lesen sie auch auf youtube der zweite frühling des kai pflaume anzeige sie erfreuen sich auf youtube']\n",
            "[0 0 0 1 0 0 0 0 0]\n",
            "[[0.0019907  0.03210748 0.03901386 0.06250373 0.05723416 0.0073847\n",
            "  0.01605349 0.01300776 0.775519  ]]\n",
            "00       0 -> 0.001991: Ausland\n",
            "01       0 -> 0.032107: Deutschland\n",
            "02       0 -> 0.039014: Wirtschaft\n",
            "03 FALSE 1 -> 0.062504: Panorama\n",
            "04       0 -> 0.057234: Sport\n",
            "05       0 -> 0.007385: Coronavirus\n",
            "06       0 -> 0.016053: Berlin\n",
            "07       0 -> 0.013008: Politik\n",
            "08 FALSE 0 -> 0.775519: news\n",
            "['mich überhaupt nicht ins spiel eingebunden gefühlt“ klagte der 19 jährige vor laufenden tv kameras er werde jetzt nicht schimpfen „aber ich bin richtig sauer das war schlicht und ergreifend nicht gut genug das ist einfach enttäuschend wir hatten eine gute möglichkeit zur em zu kommen “ tatsächlich kam haaland kaum zum zug hatte nur in der ersten hälfte eine torchance neben rumänien im nächsten jahr mit der hauptstadt bukarest einer der em gastgeber verpasste am donnerstag auch mit ausrichter irland mit dublin die sportliche qualifikation für die endrunde durch ein 2 4 0 0 im elfmeterschießen in der slowakei']\n",
            "[0 0 0 0 1 0 0 0 0]\n",
            "[[3.4058951e-03 4.9552200e-03 2.8229698e-03 1.2687407e-03 9.0405178e-01\n",
            "  2.5174911e-03 4.9961219e-04 3.8485082e-03 2.1861762e-01]]\n",
            "00       0 -> 0.003406: Ausland\n",
            "01       0 -> 0.004955: Deutschland\n",
            "02       0 -> 0.002823: Wirtschaft\n",
            "03       0 -> 0.001269: Panorama\n",
            "04  TRUE 1 -> 0.904052: Sport\n",
            "05       0 -> 0.002517: Coronavirus\n",
            "06       0 -> 0.000500: Berlin\n",
            "07       0 -> 0.003849: Politik\n",
            "08       0 -> 0.218618: news\n",
            "['und anderen sozialen netzwerken zu interagieren oder diese darzustellen brauchen wir ihre zustimmung soziale netzwerke aktivieren an dieser stelle finden sie inhalte aus twitter um mit inhalten aus twitter und anderen sozialen netzwerken zu interagieren oder diese darzustellen brauchen wir ihre zustimmung soziale netzwerke aktivieren die polizei verschaffte sich zunächst über ein fenster zugang quelle afp odd andersen anzeige ein polizeisprecher sagte mehrfach seien in dem weiträumig abgeriegelten bereich beamte mit flaschen beworfen worden auch feuerwerk sei abgebrannt worden vereinzelte seien gegenstände auf die straße gebracht worden dabei seien zwei störer gestellt worden fotos zeigten wie ein demonstrant in der']\n",
            "[0 1 0 0 0 0 0 0 0]\n",
            "[[0.15356621 0.30420724 0.0010149  0.4847781  0.00418554 0.01131055\n",
            "  0.00662945 0.00225938 0.00377384]]\n",
            "00       0 -> 0.153566: Ausland\n",
            "01 FALSE 1 -> 0.304207: Deutschland\n",
            "02       0 -> 0.001015: Wirtschaft\n",
            "03       0 -> 0.484778: Panorama\n",
            "04       0 -> 0.004186: Sport\n",
            "05       0 -> 0.011311: Coronavirus\n",
            "06       0 -> 0.006629: Berlin\n",
            "07       0 -> 0.002259: Politik\n",
            "08       0 -> 0.003774: news\n",
            "['an der great northern road schrauben monteure an einem weißen herum die station muss umgebaut werden ihr ist nicht mehr hoch genug in wenigen tagen sollen hier busse mit zum tanken anfahren die zweite generation der klimaneutralen städtischen busse 15 doppeldecker sie brauchen ein paar meter mehr platz nach oben schottlands nordosten lebt in jener zukunft die sich die bundesregierung vorstellt sie hat im juni ihre wasserstoffstrategie öffentlich gemacht busse müllwagen ein großteil des kommunalen in aberdeen läuft nicht mehr mit benzin oder diesel sondern mit h']\n",
            "[0 0 1 0 0 0 0 0 0]\n",
            "[[0.070885   0.09344064 0.21289152 0.06742078 0.03311397 0.08176333\n",
            "  0.00930141 0.12579663 0.038091  ]]\n",
            "00       0 -> 0.070885: Ausland\n",
            "01       0 -> 0.093441: Deutschland\n",
            "02 FALSE 1 -> 0.212892: Wirtschaft\n",
            "03       0 -> 0.067421: Panorama\n",
            "04       0 -> 0.033114: Sport\n",
            "05       0 -> 0.081763: Coronavirus\n",
            "06       0 -> 0.009301: Berlin\n",
            "07       0 -> 0.125797: Politik\n",
            "08       0 -> 0.038091: news\n",
            "['den renommiertesten politischen preis der erde war in diesem jahr groß gewesen – vorab kristallisierte sich kein klarer favorit heraus in den wettbüros wurden die weltgesundheitsorganisation who und klimaaktivistin greta thunberg als topfavoriten gehandelt anzeige der friedensnobelpreis gilt als die weltweit wichtigste auszeichnung für verdienste um abrüstung friedenssicherung und menschenrechte der preis wird vom norwegischen nobelkomitee vergeben das vom parlament in oslo eingesetzt wurde gestiftet wurde der preis vom schwedischen unternehmer und erfinder des alfred nobel 1833 1896 schon öfter wurden organisationen geehrt die verleihung findet jedes jahr am todestag nobels dem 10 dezember statt zum ersten mal wurde d']\n",
            "[1 0 0 0 0 0 0 0 0]\n",
            "[[2.1854818e-01 3.5234362e-01 7.7706217e-03 5.1725160e-02 1.6493391e-04\n",
            "  3.0188235e-03 2.6669336e-02 4.4269044e-02 2.2669080e-01]]\n",
            "00 FALSE 1 -> 0.218548: Ausland\n",
            "01       0 -> 0.352344: Deutschland\n",
            "02       0 -> 0.007771: Wirtschaft\n",
            "03       0 -> 0.051725: Panorama\n",
            "04       0 -> 0.000165: Sport\n",
            "05       0 -> 0.003019: Coronavirus\n",
            "06       0 -> 0.026669: Berlin\n",
            "07       0 -> 0.044269: Politik\n",
            "08       0 -> 0.226691: news\n",
            "['halten einen auf der straße liegenden demonstranten fest quelle dpa fabian sommer eine hausbewohnerin wird abgeführt quelle afp odd andersen anzeige die behörde leistet nach eigenen angaben amtshilfe bei der gerichtlich angeordneten übergabe des hauses der gerichtsvollzieher wollte das haus dem eigentümer übergeben in dem haus „liebig 34“ war vor zwei jahren ein zehnjähriger gewerbemietvertrag für den bewohner verein ausgelaufen der sich selbst als „anarcha queer feministisch“ bezeichnet in einem langen juristischen streit gab das gericht dem eigentümer recht dass die bewohner das haus verlassen müssen am freitagabend um 21 00 uhr ist eine demonstration in mitte und prenzlauer b']\n",
            "[0 1 0 0 0 0 0 0 0]\n",
            "[[0.0357613  0.7678747  0.05311286 0.2015699  0.00272162 0.01014461\n",
            "  0.05485805 0.01236998 0.02519864]]\n",
            "00       0 -> 0.035761: Ausland\n",
            "01  TRUE 1 -> 0.767875: Deutschland\n",
            "02       0 -> 0.053113: Wirtschaft\n",
            "03       0 -> 0.201570: Panorama\n",
            "04       0 -> 0.002722: Sport\n",
            "05       0 -> 0.010145: Coronavirus\n",
            "06       0 -> 0.054858: Berlin\n",
            "07       0 -> 0.012370: Politik\n",
            "08       0 -> 0.025199: news\n",
            "['bis zehn tage zuvor getroffen haben „wir sind da vollkommen auf dem richtigen weg wir haben sehr viel gelernt und hoffen dass wir damit so einem lockdown entgehen “ ulrich frei zuständig für die patientenversorgung in der berliner charité sieht in deutschland bereits den eines exponentiellen die intensivstationen seien voll mit patienten aus der ersten welle darum gebe es heute weniger spielraum als noch im frühjahr es gebe zwar noch viele freie intensivbetten und beatmungsgeräte aber es fehle an pflegekräften „wir haben absoluten mangel bei der pflege in der sagte frei das verschlechtere sich durch infektionen beim personal die qu']\n",
            "[0 1 0 0 0 0 0 0 0]\n",
            "[[0.18347694 0.73191893 0.06956416 0.01821506 0.00343017 0.03542184\n",
            "  0.0057306  0.07541993 0.02525528]]\n",
            "00       0 -> 0.183477: Ausland\n",
            "01  TRUE 1 -> 0.731919: Deutschland\n",
            "02       0 -> 0.069564: Wirtschaft\n",
            "03       0 -> 0.018215: Panorama\n",
            "04       0 -> 0.003430: Sport\n",
            "05       0 -> 0.035422: Coronavirus\n",
            "06       0 -> 0.005731: Berlin\n",
            "07       0 -> 0.075420: Politik\n",
            "08       0 -> 0.025255: news\n",
            "['nan']\n",
            "[0 0 0 0 0 0 1 0 0]\n",
            "[[1.4259520e-05 8.7666727e-04 3.7646517e-03 3.6053327e-03 5.7514380e-03\n",
            "  1.2142422e-01 4.7145840e-02 3.1270769e-01 4.2054534e-01]]\n",
            "00       0 -> 0.000014: Ausland\n",
            "01       0 -> 0.000877: Deutschland\n",
            "02       0 -> 0.003765: Wirtschaft\n",
            "03       0 -> 0.003605: Panorama\n",
            "04       0 -> 0.005751: Sport\n",
            "05       0 -> 0.121424: Coronavirus\n",
            "06 FALSE 1 -> 0.047146: Berlin\n",
            "07       0 -> 0.312708: Politik\n",
            "08       0 -> 0.420545: news\n",
            "['entertainer zahlreiche verträge rtl etwa hatte sich völlig überrascht von den aussagen wendlers gezeigt – „sowohl zum ausstieg aus „dsds“ als auch von seinen verschwörungstheorien“ „davon distanzieren wir uns ausdrücklich “ für wendler sollte es die erste staffel in der „dsds“ jury sein die dreharbeiten hatten bereits begonnen ausgestrahlt wurden die neuen folgen aber noch nicht an dieser stelle finden sie inhalte aus facebook um mit inhalten aus facebook und anderen sozialen netzwerken zu interagieren oder diese darzustellen brauchen wir ihre zustimmung soziale netzwerke aktivieren der schock saß ebenfalls tief bei wendler manager markus krampe der sich am donnerstagabend be']\n",
            "[0 0 0 1 0 0 0 0 0]\n",
            "[[3.5854008e-03 1.5162341e-01 1.4880962e-02 9.9416864e-01 1.4856990e-03\n",
            "  2.2025558e-04 1.3097372e-03 2.8799815e-04 7.7154872e-04]]\n",
            "00       0 -> 0.003585: Ausland\n",
            "01       0 -> 0.151623: Deutschland\n",
            "02       0 -> 0.014881: Wirtschaft\n",
            "03  TRUE 1 -> 0.994169: Panorama\n",
            "04       0 -> 0.001486: Sport\n",
            "05       0 -> 0.000220: Coronavirus\n",
            "06       0 -> 0.001310: Berlin\n",
            "07       0 -> 0.000288: Politik\n",
            "08       0 -> 0.000772: news\n",
            "['zwischen ende juni und ende september hat sich die zahl der täglich gemeldeten corona fälle ungefähr von 300 auf 2400 erhöht sie hat sich folgerte angela merkel in drei monaten dreimal verdoppelt bei einer videokonferenz des cdu präsidiums am 28 september rechnet die kanzlerin und gelernte vor was ist wenn das noch einmal passiert bis weihnachten gäbe es eine erneute – auf dann 19 200 fälle das klingt nach viel – einerseits andererseits wird dieser wert von der realität bisher in den schatten gestellt']\n",
            "[0 0 1 0 0 0 0 0 0]\n",
            "[[0.20407338 0.36622578 0.01174045 0.00804251 0.00199741 0.22531173\n",
            "  0.00040655 0.07945526 0.00288994]]\n",
            "00       0 -> 0.204073: Ausland\n",
            "01       0 -> 0.366226: Deutschland\n",
            "02 FALSE 1 -> 0.011740: Wirtschaft\n",
            "03       0 -> 0.008043: Panorama\n",
            "04       0 -> 0.001997: Sport\n",
            "05       0 -> 0.225312: Coronavirus\n",
            "06       0 -> 0.000407: Berlin\n",
            "07       0 -> 0.079455: Politik\n",
            "08       0 -> 0.002890: news\n",
            "['beispielsweise berlins gesundheitssenatorin dilek kalayci spd womöglich hat sie sogar recht doch warum gibt man der bevölkerung ständig neue signale wo doch schon lange klar war dass die situation im herbst eher schwieriger statt einfacher wird es ist moralisch unverantwortlich als gesunder die testkapazitäten zu verbrauchen anzeige gleichzeitig reicht man den verunsicherten verbrauchern noch einen strohhalm der gar keiner ist die ministerpräsidenten der länder verkünden voller stolz dass sie eine regelung erschaffen haben die es dann doch noch allen menschen in den deutschen risikogebieten ermöglichen würde an ihren urlaubsort in mecklenburg schleswig holstein oder bayern zu kommen indem sie nämlich']\n",
            "[0 0 1 0 0 0 0 0 0]\n",
            "[[6.8581994e-03 7.2568011e-01 5.0322801e-02 3.4248501e-03 6.0926355e-05\n",
            "  9.4865754e-02 1.6660898e-03 2.9354000e-01 3.3326469e-02]]\n",
            "00       0 -> 0.006858: Ausland\n",
            "01 FALSE 0 -> 0.725680: Deutschland\n",
            "02 FALSE 1 -> 0.050323: Wirtschaft\n",
            "03       0 -> 0.003425: Panorama\n",
            "04       0 -> 0.000061: Sport\n",
            "05       0 -> 0.094866: Coronavirus\n",
            "06       0 -> 0.001666: Berlin\n",
            "07       0 -> 0.293540: Politik\n",
            "08       0 -> 0.033326: news\n",
            "['as präsidium der bundes fdp hat dem thüringischen landesvorsitzenden thomas kemmerich die unterstützung für die vorgezogene landtagswahl am 25 april 2021 entzogen das gremium habe einstimmig beschlossen „dass es keinerlei finanzielle logistische oder organisatorische unterstützung für einen wahlkampf eines spitzenkandidaten thomas kemmerich durch den bundesverband geben wird“ teilte generalsekretär volker wissing am freitag mit grund seien „aktuelle äußerungen“ von kemmerich']\n",
            "[0 1 0 0 0 0 0 0 0]\n",
            "[[7.53115350e-03 4.39380944e-01 1.50555195e-02 2.66975481e-02\n",
            "  1.37780706e-04 7.74986669e-02 1.15024846e-03 4.27597851e-01\n",
            "  2.34918506e-03]]\n",
            "00       0 -> 0.007531: Ausland\n",
            "01 FALSE 1 -> 0.439381: Deutschland\n",
            "02       0 -> 0.015056: Wirtschaft\n",
            "03       0 -> 0.026698: Panorama\n",
            "04       0 -> 0.000138: Sport\n",
            "05       0 -> 0.077499: Coronavirus\n",
            "06       0 -> 0.001150: Berlin\n",
            "07       0 -> 0.427598: Politik\n",
            "08       0 -> 0.002349: news\n",
            "['oder diese darzustellen brauchen wir ihre zustimmung soziale netzwerke aktivieren kaufland hat hoch gepokert und verloren für ein bisschen aufmerksamkeit haben sie den ruf der supermarktkette und der gesamten unternehmensgruppe des reichsten deutschen dieter schwarz zu der auch lidl gehört verzockt und das nicht erst durch das ominöse sondern indem man sich überhaupt für diesen botschafter entschieden hat denn jedem kaufland kunden muss klar sein dass er mit seinem einkauf das dasein des wendler mitfinanziert ohne diesen unsäglichen markenbotschafter wären milch brot und kaffee bei kaufland schlicht noch billiger man darf gespannt sein ob die kunden da auch einfach egal']\n",
            "[0 0 1 0 0 0 0 0 0]\n",
            "[[0.01485287 0.18511146 0.26484236 0.0144355  0.0068505  0.21859023\n",
            "  0.0039072  0.09018999 0.22225335]]\n",
            "00       0 -> 0.014853: Ausland\n",
            "01       0 -> 0.185111: Deutschland\n",
            "02 FALSE 1 -> 0.264842: Wirtschaft\n",
            "03       0 -> 0.014435: Panorama\n",
            "04       0 -> 0.006851: Sport\n",
            "05       0 -> 0.218590: Coronavirus\n",
            "06       0 -> 0.003907: Berlin\n",
            "07       0 -> 0.090190: Politik\n",
            "08       0 -> 0.222253: news\n",
            "['vergleich zum vorjahreszeitraum wesentlich abweichen von diesem bundestrend dürften die nrw airports nicht lesen sie auch hotels und ferienwohnungen jetzt bleibt nur noch deutschland – hier finden sie noch bezahlbaren urlaub anzeige „die aussichten für die flughäfen haben sich wegen der verschärften quarantäneregelungen und neuer staatlicher reisebeschränkungen weiter erklärte adv hauptgeschäftsführer ralph beisel „die lage ist im frühherbst deutlich schlechter als noch anfang sommer erhofft “ auch die buchungszahlen ließen keine besserung erkennen so der verbandsvertreter „mit einem von weniger als 20 prozent gegenüber der vor corona zeit befindet sich die luft und reisebranche faktisch in einem zweiten lockdown “']\n",
            "[0 0 1 0 0 0 0 0 0]\n",
            "[[0.24336632 0.39484245 0.19667572 0.00959201 0.00088644 0.02687\n",
            "  0.0089463  0.10829792 0.09942093]]\n",
            "00       0 -> 0.243366: Ausland\n",
            "01       0 -> 0.394842: Deutschland\n",
            "02 FALSE 1 -> 0.196676: Wirtschaft\n",
            "03       0 -> 0.009592: Panorama\n",
            "04       0 -> 0.000886: Sport\n",
            "05       0 -> 0.026870: Coronavirus\n",
            "06       0 -> 0.008946: Berlin\n",
            "07       0 -> 0.108298: Politik\n",
            "08       0 -> 0.099421: news\n",
            "['augen und hält ausschau nach menschlicher bewegung mehr als 120 kilometer ist die französische côte lang die küste zwischen an der belgischen grenze und der mündung der die von französischer küstenwache und gendarmerie für die briten überwacht wird seitdem die lebensgefährliche flucht in oder an lastwagen gehängt so gut wie unmöglich geworden ist versuchen mehr und mehr migranten ihr glück auf dem seeweg „die straße des nennen viele die meerenge zwischen calais und dover wo nur 34 kilometer zwischen einem leben im französischen schlamm und ihrem traum von einer besseren zukunft in england liegen einige von ihnen sprechen perfekt deutsch']\n",
            "[1 0 0 0 0 0 0 0 0]\n",
            "[[3.1062934e-01 6.5054350e-02 1.0138008e-02 2.4469404e-01 3.3215652e-04\n",
            "  1.4643930e-02 5.6947833e-03 2.9980475e-02 3.8525000e-01]]\n",
            "00 FALSE 1 -> 0.310629: Ausland\n",
            "01       0 -> 0.065054: Deutschland\n",
            "02       0 -> 0.010138: Wirtschaft\n",
            "03       0 -> 0.244694: Panorama\n",
            "04       0 -> 0.000332: Sport\n",
            "05       0 -> 0.014644: Coronavirus\n",
            "06       0 -> 0.005695: Berlin\n",
            "07       0 -> 0.029980: Politik\n",
            "08       0 -> 0.385250: news\n",
            "['pay tv sender sky „natürlich habe ich mich extrem drüber gefreut die news zu bekommen dass ich hier fahren darf “ allerdings hatte er auch respekt vor der aufgabe „der speed ist schon ein sehr großer unterschied zur formel 2 von daher wird es für mich wichtig sein auf einem zu sein es wird interessant werden zu sehen wie sich das alles anfühlt “ ob er schon bald dauerhaft in der königsklasse des motorsports zu bestaunen sein wird wurde schumacher noch gefragt „die zukunft ist noch offen“ sagte er „natürlich ist mein traum in die formel 1 zu kommen “']\n",
            "[0 0 0 0 1 0 0 0 0]\n",
            "[[2.5283001e-04 2.4958971e-04 1.6593165e-04 3.0266513e-06 9.9644804e-01\n",
            "  2.9730164e-03 2.3624620e-03 1.2945887e-04 4.7263997e-03]]\n",
            "00       0 -> 0.000253: Ausland\n",
            "01       0 -> 0.000250: Deutschland\n",
            "02       0 -> 0.000166: Wirtschaft\n",
            "03       0 -> 0.000003: Panorama\n",
            "04  TRUE 1 -> 0.996448: Sport\n",
            "05       0 -> 0.002973: Coronavirus\n",
            "06       0 -> 0.002362: Berlin\n",
            "07       0 -> 0.000129: Politik\n",
            "08       0 -> 0.004726: news\n",
            "['verdachts der bildung einer terroristischen vereinigung lesen sie auch nsu komplex „etwas soll verheimlicht werden“ anzeige k soll laut „zeit“ zeitweise mitglied der chatgruppe gewesen sein er sei zudem mindestens bei einem im umfeld der „gruppe s“ dabei gewesen im september 2019 trafen sich demnach acht mitglieder aus der untergruppe „der harte in heilbronn ein treffen bei dem nach erkenntnissen der ermittler pläne für anschläge in deutschland und frankreich besprochen worden sein sollen beim entscheidenden treffen ende 2019 bei dem konkrete pläne geschmiedet wurden und nachdem sich die deutschen ermittler zum zugriff entschieden hatten war k demnach aber nicht beteiligt']\n",
            "[0 1 0 0 0 0 0 0 0]\n",
            "[[0.1252721  0.16717397 0.01835298 0.14272304 0.00184844 0.0091411\n",
            "  0.07804584 0.07113553 0.27917743]]\n",
            "00       0 -> 0.125272: Ausland\n",
            "01 FALSE 1 -> 0.167174: Deutschland\n",
            "02       0 -> 0.018353: Wirtschaft\n",
            "03       0 -> 0.142723: Panorama\n",
            "04       0 -> 0.001848: Sport\n",
            "05       0 -> 0.009141: Coronavirus\n",
            "06       0 -> 0.078046: Berlin\n",
            "07       0 -> 0.071136: Politik\n",
            "08       0 -> 0.279177: news\n",
            "['bis zehn tage zuvor getroffen haben „wir sind da vollkommen auf dem richtigen weg wir haben sehr viel gelernt und hoffen dass wir damit so einem lockdown entgehen “ ulrich frei zuständig für die patientenversorgung in der berliner charité sieht in deutschland bereits den eines exponentiellen die intensivstationen seien voll mit patienten aus der ersten welle darum gebe es heute weniger spielraum als noch im frühjahr es gebe zwar noch viele freie intensivbetten und beatmungsgeräte aber es fehle an pflegekräften „wir haben absoluten mangel bei der pflege in der sagte frei das verschlechtere sich durch infektionen beim personal die qu']\n",
            "[0 1 0 0 0 0 0 0 0]\n",
            "[[0.18347694 0.73191893 0.06956416 0.01821506 0.00343017 0.03542184\n",
            "  0.0057306  0.07541993 0.02525528]]\n",
            "00       0 -> 0.183477: Ausland\n",
            "01  TRUE 1 -> 0.731919: Deutschland\n",
            "02       0 -> 0.069564: Wirtschaft\n",
            "03       0 -> 0.018215: Panorama\n",
            "04       0 -> 0.003430: Sport\n",
            "05       0 -> 0.035422: Coronavirus\n",
            "06       0 -> 0.005731: Berlin\n",
            "07       0 -> 0.075420: Politik\n",
            "08       0 -> 0.025255: news\n",
            "['gegen vergewaltiger vorgeht die organisation versucht unter erschwerten logistischen rahmenbedingungen 138 millionen menschen weltweit mit essen und geld zu unterstützen so viele wie nie zuvor besonders in von konflikten ländern wie dem kongo nigeria dem südsudan und jemen hat sich die lage durch die pandemie weiter erheblich verschlechtert und die gefahr ist groß dass es noch schlimmer werden könnte warnte zuletzt der un sicherheitsrat „die verbindung zwischen hunger und konflikt ist ein so das nobelkomitee „krieg und konflikte können und hunger auslösen so wie hunger und knappe nahrungsmittel konflikte verstärken und die anwendung von gewalt auslösen können “ hunger werde']\n",
            "[1 0 0 0 0 0 0 0 0]\n",
            "[[0.66118306 0.01620432 0.00168215 0.27789387 0.00112972 0.01018326\n",
            "  0.00091884 0.23051369 0.00787597]]\n",
            "00  TRUE 1 -> 0.661183: Ausland\n",
            "01       0 -> 0.016204: Deutschland\n",
            "02       0 -> 0.001682: Wirtschaft\n",
            "03       0 -> 0.277894: Panorama\n",
            "04       0 -> 0.001130: Sport\n",
            "05       0 -> 0.010183: Coronavirus\n",
            "06       0 -> 0.000919: Berlin\n",
            "07       0 -> 0.230514: Politik\n",
            "08       0 -> 0.007876: news\n",
            "['zustimmung externe inhalte aktivieren whitmer und auch der demokratische präsidentschaftskandidat joe biden hatten trump zuvor angegriffen weil er rechtsextremismus nicht klar verurteilt habe verstehen die worte des präsidenten nicht als zurückweisung sondern als einen aufruf zum handeln“ sagte whitmer nach aufdeckung des „wenn unsere politischen anführer sprechen dann haben ihre worte folgen wenn unsere anführer sich mit einheimischen terrorgruppen treffen sie ermutigen oder sich mit ihnen dann legitimieren sie deren aktionen und machen sich zu komplizen “ tatsächlich muss trump sich vorwerfen lassen rechter milizen ermuntert zu haben als schwer bewaffnete milizionäre im april in michigan gegen coronamaßnahmen demonstrierten twitter']\n",
            "[1 0 0 0 0 0 0 0 0]\n",
            "[[3.99503708e-01 1.25005633e-01 4.19731205e-03 7.82333221e-03\n",
            "  3.81691498e-05 4.38173860e-02 2.09390579e-04 4.23047334e-01\n",
            "  1.07012475e-02]]\n",
            "00 FALSE 1 -> 0.399504: Ausland\n",
            "01       0 -> 0.125006: Deutschland\n",
            "02       0 -> 0.004197: Wirtschaft\n",
            "03       0 -> 0.007823: Panorama\n",
            "04       0 -> 0.000038: Sport\n",
            "05       0 -> 0.043817: Coronavirus\n",
            "06       0 -> 0.000209: Berlin\n",
            "07       0 -> 0.423047: Politik\n",
            "08       0 -> 0.010701: news\n",
            "['as statistische bundesamt hat die in deutschland untersucht – und für august überdurchschnittlich viele todesfälle festgestellt im august 2020 sind nach vorläufigen ergebnissen mindestens 77 886 menschen in deutschland gestorben – sechs prozent oder rund 4200 fälle mehr als der durchschnitt der jahre 2016 bis 2019']\n",
            "[0 0 0 1 0 0 0 0 0]\n",
            "[[1.3182101e-02 2.8193557e-01 3.3633500e-01 2.1979792e-01 4.0389979e-03\n",
            "  2.4823535e-03 9.3600567e-05 4.3253470e-02 3.8600711e-03]]\n",
            "00       0 -> 0.013182: Ausland\n",
            "01       0 -> 0.281936: Deutschland\n",
            "02       0 -> 0.336335: Wirtschaft\n",
            "03 FALSE 1 -> 0.219798: Panorama\n",
            "04       0 -> 0.004039: Sport\n",
            "05       0 -> 0.002482: Coronavirus\n",
            "06       0 -> 0.000094: Berlin\n",
            "07       0 -> 0.043253: Politik\n",
            "08       0 -> 0.003860: news\n",
            "['aus krefeld am 21 september 40 meter anlauf genommen um den schiedsrichter von hinten gezielt in den nacken zu schlagen das spiel wurde daraufhin abgebrochen lesen sie auch bundesliga schiedsrichter ittrich „wir sorgen dafür dass das bild des polizisten positiv geprägt ist“ der täter erhielt bereits am tag nach dem vorfall vom csv marathon lebenslanges hausverbot und soll aus dem verein ausgeschlossen werden sollte dies geschehen käme dies laut hohn einer lebenslangen sperre gleich „die achtjährige sperre hätte dann charakter und würde erst beginnen wenn der spieler einen verein findet der ihn aufnehmen will das wird kein verein machen “']\n",
            "[0 0 0 0 1 0 0 0 0]\n",
            "[[1.8442519e-03 2.3604746e-03 8.0016599e-04 8.9541165e-05 9.8742503e-01\n",
            "  9.8095108e-03 6.3133374e-04 6.1653863e-04 2.0238932e-02]]\n",
            "00       0 -> 0.001844: Ausland\n",
            "01       0 -> 0.002360: Deutschland\n",
            "02       0 -> 0.000800: Wirtschaft\n",
            "03       0 -> 0.000090: Panorama\n",
            "04  TRUE 1 -> 0.987425: Sport\n",
            "05       0 -> 0.009810: Coronavirus\n",
            "06       0 -> 0.000631: Berlin\n",
            "07       0 -> 0.000617: Politik\n",
            "08       0 -> 0.020239: news\n",
            "['löbel lesen sie auch corona krisenmanager und jetzt stellt sich die frage ob spahn auch kanzler kann anzeige spahn habe nach der kanzlerin die derzeit besten umfragewerte das so löbel könne für die cdu „ein wink mit dem zaunpfahl sein aus drei kandidaten einen zu machen“ spahn unterstützt laschet der will von einem rollentausch mit dem minister nichts wissen „ich arbeite gut mit jens spahn zusammen wir telefonieren regelmäßig und stimmen die grundlinien miteinander ab“ sagt laschet im „spiegel“ für spahn steht fest „wer sich für den cdu vorsitz bewirbt muss den anspruch haben kanzlerkandidat der union zu werden “']\n",
            "[0 1 0 0 0 0 0 0 0]\n",
            "[[1.4876845e-02 5.9587109e-01 1.7178247e-02 1.9207422e-02 3.7641483e-04\n",
            "  1.0088117e-01 1.2101680e-02 3.6211255e-01 1.6881516e-02]]\n",
            "00       0 -> 0.014877: Ausland\n",
            "01  TRUE 1 -> 0.595871: Deutschland\n",
            "02       0 -> 0.017178: Wirtschaft\n",
            "03       0 -> 0.019207: Panorama\n",
            "04       0 -> 0.000376: Sport\n",
            "05       0 -> 0.100881: Coronavirus\n",
            "06       0 -> 0.012102: Berlin\n",
            "07       0 -> 0.362113: Politik\n",
            "08       0 -> 0.016882: news\n",
            "['in der neuen saison ungeschlagen das team von trainer jürgen klopp gewann am montagabend im heimischen stadion an der anfield road mit 3 1 2 1 gegen den fc arsenal durch den dritten sieg im dritten spiel verbesserte sich der titelverteidiger auf den zweiten platz und rangiert nur aufgrund der schlechteren tordifferenz hinter dem punktgleichen spitzenreiter leicester city alexandre lacazette 25 hatte die gäste aus london in führung gebracht sadio mané 28 und andrew robertson 34 sorgten mit ihren toren binnen neun minuten für die wende den schlusspunkt setzte liverpools neuzugang diogo 88 mit seinem ersten tor im ersten spiel']\n",
            "[0 0 0 0 1 0 0 0 0]\n",
            "[[1.03329774e-04 3.52988893e-04 5.77769242e-04 1.40578195e-04\n",
            "  9.83374834e-01 3.90824192e-04 6.46009634e-04 6.42189752e-06\n",
            "  3.75919491e-02]]\n",
            "00       0 -> 0.000103: Ausland\n",
            "01       0 -> 0.000353: Deutschland\n",
            "02       0 -> 0.000578: Wirtschaft\n",
            "03       0 -> 0.000141: Panorama\n",
            "04  TRUE 1 -> 0.983375: Sport\n",
            "05       0 -> 0.000391: Coronavirus\n",
            "06       0 -> 0.000646: Berlin\n",
            "07       0 -> 0.000006: Politik\n",
            "08       0 -> 0.037592: news\n",
            "['wochen wegen eines raubüberfalls auf einen juwelier in den überregionalen schlagzeilen der 71 jahre alte besitzer des geschäftes erschoss die beiden räuber die ermittler prüfen ob es sich dabei um notwehr oder ein vorsätzliches tötungsdelikt handelte diese häufung von vorkommnissen sei ungewöhnlich sagte die polizeisprecherin die beamten waren in der nacht zum dienstag mit einem großaufgebot im einsatz im verlauf des tages wollten die ermittler weitere zeugen befragen und in beiden fällen den tathergang rekonstruieren bei beiden messerattacken konnte die polizeisprecherin am morgen noch nichts zu den motiven der täter sagen die verdächtigen und die opfer seien deutsche sagte sie']\n",
            "[0 0 0 1 0 0 0 0 0]\n",
            "[[0.00824715 0.02222348 0.02035861 0.8646388  0.00647917 0.00975336\n",
            "  0.00305733 0.11506461 0.05183804]]\n",
            "00       0 -> 0.008247: Ausland\n",
            "01       0 -> 0.022223: Deutschland\n",
            "02       0 -> 0.020359: Wirtschaft\n",
            "03  TRUE 1 -> 0.864639: Panorama\n",
            "04       0 -> 0.006479: Sport\n",
            "05       0 -> 0.009753: Coronavirus\n",
            "06       0 -> 0.003057: Berlin\n",
            "07       0 -> 0.115065: Politik\n",
            "08       0 -> 0.051838: news\n",
            "['bund bringt ausschankverbot für alkohol ins spiel der bund plant zudem keine neuen öffnungsschritte im bereich um eine korrekte kontaktnachverfolgung zu ermöglichen sollen ordnungsbehörden verstöße etwa bei falschen persönlichen angaben in restaurants in zukunft mit einem mindestbußgeld von 50 euro belegen können der alkoholausschank soll in besonders betroffenen regionen unter bestimmten bedingungen befristet werden um infektionen in der gastronomie zu minimieren müssten bei ansteigendem infektionsgeschehen „zeitlich eingegrenzte ausschankverbote für alkohol erlassen werden“ heißt es in dem der deutschen presse agentur in berlin vorliegenden entwurf anzeige angesichts steigender corona infektionszahlen und der gleichzeitig zu erwartenden grippewelle in der herbst und winterzeit']\n",
            "[0 1 0 0 0 0 0 0 0]\n",
            "[[2.8418299e-02 5.0062752e-01 8.5088648e-02 1.2631132e-02 2.1675517e-04\n",
            "  1.5972547e-01 6.4433651e-04 2.3802118e-01 1.9804834e-01]]\n",
            "00       0 -> 0.028418: Ausland\n",
            "01  TRUE 1 -> 0.500628: Deutschland\n",
            "02       0 -> 0.085089: Wirtschaft\n",
            "03       0 -> 0.012631: Panorama\n",
            "04       0 -> 0.000217: Sport\n",
            "05       0 -> 0.159725: Coronavirus\n",
            "06       0 -> 0.000644: Berlin\n",
            "07       0 -> 0.238021: Politik\n",
            "08       0 -> 0.198048: news\n",
            "['aserbaidschan sie benutzen türkische waffen inklusive drohnen und hieß es lesen sie auch erdogans wie die türkei weltweit ihren militärischen einfluss ausbaut anzeige die lage zeige dass berg karabach gegen eine türkisch aserbaidschanische allianz kämpfe armenien und die türkei unterstellten sich gegenseitig ausländische söldner zu rekrutieren zuletzt hatte es berichte gegeben dass die türkei tausende syrische söldner nach berg karabach geschickt haben soll der sprecher der türkischen regierungspartei akp ömer celik wies die vorwürfe zurück armenien fühle sich durch türkische solidarität mit aserbaidschan gestört und verbreite lügen twitterte er dass ankara verbal derart vorprescht während moskau hat vor allem s']\n",
            "[1 0 0 0 0 0 0 0 0]\n",
            "[[9.2884326e-01 4.5870962e-03 5.7554119e-03 1.2378088e-02 4.2192906e-04\n",
            "  1.4615428e-01 2.7646162e-04 3.7687618e-02 6.9548949e-03]]\n",
            "00  TRUE 1 -> 0.928843: Ausland\n",
            "01       0 -> 0.004587: Deutschland\n",
            "02       0 -> 0.005755: Wirtschaft\n",
            "03       0 -> 0.012378: Panorama\n",
            "04       0 -> 0.000422: Sport\n",
            "05       0 -> 0.146154: Coronavirus\n",
            "06       0 -> 0.000276: Berlin\n",
            "07       0 -> 0.037688: Politik\n",
            "08       0 -> 0.006955: news\n",
            "['zunächst dass ein vorschlag für mittelkürzungen als angenommen gilt wenn der ministerrat ihn nicht innerhalb eines monats mit qualifizierter mehrheit abweist oder verändert laut deutschem vorschlag ist nun lediglich vorgesehen dass über jede sanktion vor dem inkrafttreten abgestimmt werden muss und dafür eine qualifizierte mehrheit notwendig ist diese hürde gilt als sehr hoch eine qualifizierte mehrheit bedeutet in der regel dass mindestens 15 eu staaten zustimmen müssen die zusammen mindestens 65 prozent der gesamtbevölkerung der union ausmachen dass solche mehrheiten zustande kommen gilt als mühsam bis unwahrscheinlich im europa parlament hat der kompromissvorschlag der deutschen ratspräsidentschaft laute kritik hervorgerufen abgeordnete']\n",
            "[1 0 0 0 0 0 0 0 0]\n",
            "[[1.7207722e-01 1.4247072e-01 7.4868880e-02 9.1384519e-03 1.4760844e-04\n",
            "  9.8127633e-02 3.7956454e-03 3.7910458e-01 7.1444377e-02]]\n",
            "00 FALSE 1 -> 0.172077: Ausland\n",
            "01       0 -> 0.142471: Deutschland\n",
            "02       0 -> 0.074869: Wirtschaft\n",
            "03       0 -> 0.009138: Panorama\n",
            "04       0 -> 0.000148: Sport\n",
            "05       0 -> 0.098128: Coronavirus\n",
            "06       0 -> 0.003796: Berlin\n",
            "07       0 -> 0.379105: Politik\n",
            "08       0 -> 0.071444: news\n"
          ],
          "name": "stdout"
        }
      ]
    },
    {
      "cell_type": "code",
      "metadata": {
        "id": "eTjP0sqlS000",
        "colab": {
          "base_uri": "https://localhost:8080/"
        },
        "outputId": "f4ab8458-1e3b-48af-fa74-19b5cac32505"
      },
      "source": [
        "# Generate predictions (probabilities -- the output of the last layer)\n",
        "# on new data using `predict`\n",
        "print(\"Generate predictions for 1 sample\")\n",
        "predictions = model.predict(test.take(1))\n",
        "print(\"predictions shape:\", predictions.shape)"
      ],
      "execution_count": null,
      "outputs": [
        {
          "output_type": "stream",
          "text": [
            "Generate predictions for 1 sample\n",
            "predictions shape: (32, 9)\n"
          ],
          "name": "stdout"
        }
      ]
    }
  ]
}