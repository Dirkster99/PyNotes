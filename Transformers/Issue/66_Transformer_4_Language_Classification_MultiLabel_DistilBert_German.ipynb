{
  "nbformat": 4,
  "nbformat_minor": 0,
  "metadata": {
    "accelerator": "GPU",
    "colab": {
      "name": "66 Transformer 4 Language Classification MultiLabel DistilBert German.ipynb",
      "provenance": [],
      "collapsed_sections": [],
      "authorship_tag": "ABX9TyNfahsjxZpCN4FKZvIp4KgK",
      "include_colab_link": true
    },
    "kernelspec": {
      "display_name": "Python 3",
      "name": "python3"
    }
  },
  "cells": [
    {
      "cell_type": "markdown",
      "metadata": {
        "id": "view-in-github",
        "colab_type": "text"
      },
      "source": [
        "<a href=\"https://colab.research.google.com/github/Dirkster99/PyNotes/blob/master/Transformers/Issue/66_Transformer_4_Language_Classification_MultiLabel_DistilBert_German.ipynb\" target=\"_parent\"><img src=\"https://colab.research.google.com/assets/colab-badge.svg\" alt=\"Open In Colab\"/></a>"
      ]
    },
    {
      "cell_type": "code",
      "metadata": {
        "colab": {
          "base_uri": "https://localhost:8080/"
        },
        "id": "DDLTyAriDDLg",
        "outputId": "cbe45124-b81a-41ca-c7be-38401fee5437"
      },
      "source": [
        "!pip install transformers==4.2.1"
      ],
      "execution_count": null,
      "outputs": [
        {
          "output_type": "stream",
          "text": [
            "Collecting transformers==4.2.1\n",
            "\u001b[?25l  Downloading https://files.pythonhosted.org/packages/cd/40/866cbfac4601e0f74c7303d533a9c5d4a53858bd402e08e3e294dd271f25/transformers-4.2.1-py3-none-any.whl (1.8MB)\n",
            "\u001b[K     |████████████████████████████████| 1.8MB 5.9MB/s \n",
            "\u001b[?25hCollecting sacremoses\n",
            "\u001b[?25l  Downloading https://files.pythonhosted.org/packages/7d/34/09d19aff26edcc8eb2a01bed8e98f13a1537005d31e95233fd48216eed10/sacremoses-0.0.43.tar.gz (883kB)\n",
            "\u001b[K     |████████████████████████████████| 890kB 45.6MB/s \n",
            "\u001b[?25hRequirement already satisfied: importlib-metadata; python_version < \"3.8\" in /usr/local/lib/python3.7/dist-packages (from transformers==4.2.1) (3.7.2)\n",
            "Requirement already satisfied: packaging in /usr/local/lib/python3.7/dist-packages (from transformers==4.2.1) (20.9)\n",
            "Requirement already satisfied: tqdm>=4.27 in /usr/local/lib/python3.7/dist-packages (from transformers==4.2.1) (4.41.1)\n",
            "Requirement already satisfied: filelock in /usr/local/lib/python3.7/dist-packages (from transformers==4.2.1) (3.0.12)\n",
            "Requirement already satisfied: numpy in /usr/local/lib/python3.7/dist-packages (from transformers==4.2.1) (1.19.5)\n",
            "Requirement already satisfied: regex!=2019.12.17 in /usr/local/lib/python3.7/dist-packages (from transformers==4.2.1) (2019.12.20)\n",
            "Requirement already satisfied: requests in /usr/local/lib/python3.7/dist-packages (from transformers==4.2.1) (2.23.0)\n",
            "Collecting tokenizers==0.9.4\n",
            "\u001b[?25l  Downloading https://files.pythonhosted.org/packages/fb/36/59e4a62254c5fcb43894c6b0e9403ec6f4238cc2422a003ed2e6279a1784/tokenizers-0.9.4-cp37-cp37m-manylinux2010_x86_64.whl (2.9MB)\n",
            "\u001b[K     |████████████████████████████████| 2.9MB 41.0MB/s \n",
            "\u001b[?25hRequirement already satisfied: six in /usr/local/lib/python3.7/dist-packages (from sacremoses->transformers==4.2.1) (1.15.0)\n",
            "Requirement already satisfied: click in /usr/local/lib/python3.7/dist-packages (from sacremoses->transformers==4.2.1) (7.1.2)\n",
            "Requirement already satisfied: joblib in /usr/local/lib/python3.7/dist-packages (from sacremoses->transformers==4.2.1) (1.0.1)\n",
            "Requirement already satisfied: zipp>=0.5 in /usr/local/lib/python3.7/dist-packages (from importlib-metadata; python_version < \"3.8\"->transformers==4.2.1) (3.4.1)\n",
            "Requirement already satisfied: typing-extensions>=3.6.4; python_version < \"3.8\" in /usr/local/lib/python3.7/dist-packages (from importlib-metadata; python_version < \"3.8\"->transformers==4.2.1) (3.7.4.3)\n",
            "Requirement already satisfied: pyparsing>=2.0.2 in /usr/local/lib/python3.7/dist-packages (from packaging->transformers==4.2.1) (2.4.7)\n",
            "Requirement already satisfied: chardet<4,>=3.0.2 in /usr/local/lib/python3.7/dist-packages (from requests->transformers==4.2.1) (3.0.4)\n",
            "Requirement already satisfied: idna<3,>=2.5 in /usr/local/lib/python3.7/dist-packages (from requests->transformers==4.2.1) (2.10)\n",
            "Requirement already satisfied: certifi>=2017.4.17 in /usr/local/lib/python3.7/dist-packages (from requests->transformers==4.2.1) (2020.12.5)\n",
            "Requirement already satisfied: urllib3!=1.25.0,!=1.25.1,<1.26,>=1.21.1 in /usr/local/lib/python3.7/dist-packages (from requests->transformers==4.2.1) (1.24.3)\n",
            "Building wheels for collected packages: sacremoses\n",
            "  Building wheel for sacremoses (setup.py) ... \u001b[?25l\u001b[?25hdone\n",
            "  Created wheel for sacremoses: filename=sacremoses-0.0.43-cp37-none-any.whl size=893262 sha256=5f54a3373c07632c46770b7d8fc4387354acbf4c890de312078dc768c94098bf\n",
            "  Stored in directory: /root/.cache/pip/wheels/29/3c/fd/7ce5c3f0666dab31a50123635e6fb5e19ceb42ce38d4e58f45\n",
            "Successfully built sacremoses\n",
            "Installing collected packages: sacremoses, tokenizers, transformers\n",
            "Successfully installed sacremoses-0.0.43 tokenizers-0.9.4 transformers-4.2.1\n"
          ],
          "name": "stdout"
        }
      ]
    },
    {
      "cell_type": "markdown",
      "metadata": {
        "id": "ia9W-HzFDaub"
      },
      "source": [
        "# Building a Language Classification Model with Transformers and TensorFlow 2.0"
      ]
    },
    {
      "cell_type": "markdown",
      "metadata": {
        "id": "WJql3VeHD7Nn"
      },
      "source": [
        "Original Author: James Briggs\n",
        "https://www.youtube.com/watch?v=GYDFBfx8Ts8\n",
        "\n",
        "Dataset: https://www.kaggle.com/dirkbahle/german-new-multilabel-multiclass-classification"
      ]
    },
    {
      "cell_type": "markdown",
      "metadata": {
        "id": "WzlppuarDagD"
      },
      "source": [
        "## Download and Preprocessing Data"
      ]
    },
    {
      "cell_type": "markdown",
      "metadata": {
        "id": "hJBaeUYAE4qd"
      },
      "source": [
        "### 20 News Groups Categorization Dataset"
      ]
    },
    {
      "cell_type": "code",
      "metadata": {
        "colab": {
          "base_uri": "https://localhost:8080/"
        },
        "id": "UXw-mgikFgen",
        "outputId": "4ceefe18-1c82-44d2-fc42-aa626e5aad01"
      },
      "source": [
        "from google.colab import drive\n",
        "drive.mount('/gdrive')"
      ],
      "execution_count": null,
      "outputs": [
        {
          "output_type": "stream",
          "text": [
            "Mounted at /gdrive\n"
          ],
          "name": "stdout"
        }
      ]
    },
    {
      "cell_type": "code",
      "metadata": {
        "colab": {
          "base_uri": "https://localhost:8080/"
        },
        "id": "lNCAQBZpFgep",
        "outputId": "bd6effd5-9f63-4301-b462-6e576a8a151d"
      },
      "source": [
        "dataPath = '/gdrive/MyDrive/GermanDataSets/German_News_Dataset/'\n",
        "!ls {dataPath.replace(' ', '\\ ')}  -lha"
      ],
      "execution_count": null,
      "outputs": [
        {
          "output_type": "stream",
          "text": [
            "total 330M\n",
            "-rw------- 1 root root 241M Mar 18 11:08  archive.zip\n",
            "-rw------- 1 root root 850K Mar 18 18:53 'German MultiClass Reformating.ipynb'\n",
            "-rw------- 1 root root  89M Mar 18 17:19  German_News_MultiClass.zip\n",
            "-rw------- 1 root root   49 Mar 18 11:56  readme.txt\n"
          ],
          "name": "stdout"
        }
      ]
    },
    {
      "cell_type": "code",
      "metadata": {
        "id": "oUdNq3rLor0c"
      },
      "source": [
        "import pandas as pd\n",
        "df = pd.read_csv(dataPath+'German_News_MultiClass.zip')"
      ],
      "execution_count": null,
      "outputs": []
    },
    {
      "cell_type": "code",
      "metadata": {
        "id": "kFXFtj8QwEGO"
      },
      "source": [
        "df = df.dropna()"
      ],
      "execution_count": null,
      "outputs": []
    },
    {
      "cell_type": "code",
      "metadata": {
        "id": "QXsTBfRn4LA4"
      },
      "source": [
        "# Limit string length to conserve memory\n",
        "df['text'] = df['text'].str.slice(0,3000)"
      ],
      "execution_count": null,
      "outputs": []
    },
    {
      "cell_type": "code",
      "metadata": {
        "colab": {
          "base_uri": "https://localhost:8080/",
          "height": 206
        },
        "id": "m96BrGRZorwr",
        "outputId": "a152080c-90ad-4792-d106-15ca6e366437"
      },
      "source": [
        "#pd.set_option('display.max_colwidth', None)\n",
        "df.head()"
      ],
      "execution_count": null,
      "outputs": [
        {
          "output_type": "execute_result",
          "data": {
            "text/html": [
              "<div>\n",
              "<style scoped>\n",
              "    .dataframe tbody tr th:only-of-type {\n",
              "        vertical-align: middle;\n",
              "    }\n",
              "\n",
              "    .dataframe tbody tr th {\n",
              "        vertical-align: top;\n",
              "    }\n",
              "\n",
              "    .dataframe thead th {\n",
              "        text-align: right;\n",
              "    }\n",
              "</style>\n",
              "<table border=\"1\" class=\"dataframe\">\n",
              "  <thead>\n",
              "    <tr style=\"text-align: right;\">\n",
              "      <th></th>\n",
              "      <th>Unnamed: 0</th>\n",
              "      <th>text</th>\n",
              "      <th>tags</th>\n",
              "      <th>Ausland</th>\n",
              "      <th>Deutschland</th>\n",
              "      <th>Wirtschaft</th>\n",
              "      <th>Panorama</th>\n",
              "      <th>Sport</th>\n",
              "      <th>Coronavirus</th>\n",
              "      <th>Berlin</th>\n",
              "      <th>Politik</th>\n",
              "      <th>news</th>\n",
              "    </tr>\n",
              "  </thead>\n",
              "  <tbody>\n",
              "    <tr>\n",
              "      <th>0</th>\n",
              "      <td>0</td>\n",
              "      <td>Im Kreml sollte es in diesen Tagen eigentlich ...</td>\n",
              "      <td>Ausland, „Sputnik V“</td>\n",
              "      <td>1</td>\n",
              "      <td>0</td>\n",
              "      <td>0</td>\n",
              "      <td>0</td>\n",
              "      <td>0</td>\n",
              "      <td>0</td>\n",
              "      <td>0</td>\n",
              "      <td>0</td>\n",
              "      <td>0</td>\n",
              "    </tr>\n",
              "    <tr>\n",
              "      <th>1</th>\n",
              "      <td>1</td>\n",
              "      <td>Der Preis setze ein Zeichen für die Millionen ...</td>\n",
              "      <td>Ausland, Oslo</td>\n",
              "      <td>1</td>\n",
              "      <td>0</td>\n",
              "      <td>0</td>\n",
              "      <td>0</td>\n",
              "      <td>0</td>\n",
              "      <td>0</td>\n",
              "      <td>0</td>\n",
              "      <td>0</td>\n",
              "      <td>0</td>\n",
              "    </tr>\n",
              "    <tr>\n",
              "      <th>2</th>\n",
              "      <td>2</td>\n",
              "      <td>Die Kanzlerin berät mit den Bürgermeistern der...</td>\n",
              "      <td>Deutschland, Corona-Pandemie</td>\n",
              "      <td>0</td>\n",
              "      <td>1</td>\n",
              "      <td>0</td>\n",
              "      <td>0</td>\n",
              "      <td>0</td>\n",
              "      <td>0</td>\n",
              "      <td>0</td>\n",
              "      <td>0</td>\n",
              "      <td>0</td>\n",
              "    </tr>\n",
              "    <tr>\n",
              "      <th>3</th>\n",
              "      <td>3</td>\n",
              "      <td>Anzeige\\n\\nDie Corona-Krise hat auch vor dem e...</td>\n",
              "      <td>Wirtschaft, FIFA 21 im Test</td>\n",
              "      <td>0</td>\n",
              "      <td>0</td>\n",
              "      <td>1</td>\n",
              "      <td>0</td>\n",
              "      <td>0</td>\n",
              "      <td>0</td>\n",
              "      <td>0</td>\n",
              "      <td>0</td>\n",
              "      <td>0</td>\n",
              "    </tr>\n",
              "    <tr>\n",
              "      <th>4</th>\n",
              "      <td>4</td>\n",
              "      <td>Anzeige\\n\\nEin Problem? Kein Problem. Natürlic...</td>\n",
              "      <td>Panorama, Popkultur</td>\n",
              "      <td>0</td>\n",
              "      <td>0</td>\n",
              "      <td>0</td>\n",
              "      <td>1</td>\n",
              "      <td>0</td>\n",
              "      <td>0</td>\n",
              "      <td>0</td>\n",
              "      <td>0</td>\n",
              "      <td>0</td>\n",
              "    </tr>\n",
              "  </tbody>\n",
              "</table>\n",
              "</div>"
            ],
            "text/plain": [
              "   Unnamed: 0                                               text  ... Politik  news\n",
              "0           0  Im Kreml sollte es in diesen Tagen eigentlich ...  ...       0     0\n",
              "1           1  Der Preis setze ein Zeichen für die Millionen ...  ...       0     0\n",
              "2           2  Die Kanzlerin berät mit den Bürgermeistern der...  ...       0     0\n",
              "3           3  Anzeige\\n\\nDie Corona-Krise hat auch vor dem e...  ...       0     0\n",
              "4           4  Anzeige\\n\\nEin Problem? Kein Problem. Natürlic...  ...       0     0\n",
              "\n",
              "[5 rows x 12 columns]"
            ]
          },
          "metadata": {
            "tags": []
          },
          "execution_count": 7
        }
      ]
    },
    {
      "cell_type": "code",
      "metadata": {
        "colab": {
          "base_uri": "https://localhost:8080/"
        },
        "id": "qugok4UNp8k1",
        "outputId": "79dd830e-98f6-4692-cf90-b03c06a96e89"
      },
      "source": [
        "df.count()"
      ],
      "execution_count": null,
      "outputs": [
        {
          "output_type": "execute_result",
          "data": {
            "text/plain": [
              "Unnamed: 0     56609\n",
              "text           56609\n",
              "tags           56609\n",
              "Ausland        56609\n",
              "Deutschland    56609\n",
              "Wirtschaft     56609\n",
              "Panorama       56609\n",
              "Sport          56609\n",
              "Coronavirus    56609\n",
              "Berlin         56609\n",
              "Politik        56609\n",
              "news           56609\n",
              "dtype: int64"
            ]
          },
          "metadata": {
            "tags": []
          },
          "execution_count": 8
        }
      ]
    },
    {
      "cell_type": "code",
      "metadata": {
        "id": "2qcoaog5qvdA"
      },
      "source": [
        "# drop rows without a single flag in it\n",
        "indexNames = df[ (df['Ausland'] == 0)\n",
        "               & (df['Deutschland'] == 0)\n",
        "               & (df['Wirtschaft'] == 0)\n",
        "               & (df['Panorama'] == 0)\n",
        "               & (df['Sport'] == 0)\n",
        "               & (df['Coronavirus'] == 0)\n",
        "               & (df['Berlin'] == 0)\n",
        "               & (df['Politik'] == 0)\n",
        "               & (df['news'] == 0)\n",
        "                ].index\n",
        "df.drop(indexNames , inplace=True)"
      ],
      "execution_count": null,
      "outputs": []
    },
    {
      "cell_type": "markdown",
      "metadata": {
        "id": "8uPNZPqDrH1M"
      },
      "source": [
        "### Build Label Dictionaries"
      ]
    },
    {
      "cell_type": "code",
      "metadata": {
        "id": "naPgJrUTuJq7"
      },
      "source": [
        "labelHeadings = ['Ausland', 'Deutschland', 'Wirtschaft', 'Panorama', 'Sport', 'Coronavirus', 'Berlin', 'Politik', 'news']"
      ],
      "execution_count": null,
      "outputs": []
    },
    {
      "cell_type": "code",
      "metadata": {
        "colab": {
          "base_uri": "https://localhost:8080/"
        },
        "id": "Uu7DwHT3tF5m",
        "outputId": "4d149dd0-e28e-4c83-e666-8e10007410bd"
      },
      "source": [
        "for label in labelHeadings: \n",
        "  print (f\"{label}: {len(df[df[label]>0])}\")"
      ],
      "execution_count": null,
      "outputs": [
        {
          "output_type": "stream",
          "text": [
            "Ausland: 5515\n",
            "Deutschland: 4222\n",
            "Wirtschaft: 5176\n",
            "Panorama: 4803\n",
            "Sport: 5991\n",
            "Coronavirus: 4281\n",
            "Berlin: 3849\n",
            "Politik: 11235\n",
            "news: 11537\n"
          ],
          "name": "stdout"
        }
      ]
    },
    {
      "cell_type": "code",
      "metadata": {
        "colab": {
          "base_uri": "https://localhost:8080/"
        },
        "id": "wr0hn-tOmk2y",
        "outputId": "83aa25b0-8722-4b20-efe2-25afcaf5e187"
      },
      "source": [
        "label2index = {}\n",
        "index2label = {}\n",
        "for i in range(len(labelHeadings)):\n",
        "  label2index[labelHeadings[i]] = i\n",
        "  index2label[i] = labelHeadings[i]\n",
        "\n",
        "#print (f\"labelHeadings: {labelHeadings}\")\n",
        "#print (f\" label2index: {label2index}\")\n",
        "#print (f\" index2label: {index2label}\")\n",
        "\n",
        "for i in range(len(labelHeadings)):\n",
        "  print (f\"{i} -> {label2index[labelHeadings[i]]}, labelHeaders: {labelHeadings[i]} -> {index2label[i]}\")"
      ],
      "execution_count": null,
      "outputs": [
        {
          "output_type": "stream",
          "text": [
            "0 -> 0, labelHeaders: Ausland -> Ausland\n",
            "1 -> 1, labelHeaders: Deutschland -> Deutschland\n",
            "2 -> 2, labelHeaders: Wirtschaft -> Wirtschaft\n",
            "3 -> 3, labelHeaders: Panorama -> Panorama\n",
            "4 -> 4, labelHeaders: Sport -> Sport\n",
            "5 -> 5, labelHeaders: Coronavirus -> Coronavirus\n",
            "6 -> 6, labelHeaders: Berlin -> Berlin\n",
            "7 -> 7, labelHeaders: Politik -> Politik\n",
            "8 -> 8, labelHeaders: news -> news\n"
          ],
          "name": "stdout"
        }
      ]
    },
    {
      "cell_type": "markdown",
      "metadata": {
        "id": "HWWipMHJL_2a"
      },
      "source": [
        "### Multi-Hot Encode Labels and Reformate for text and lables columns"
      ]
    },
    {
      "cell_type": "code",
      "metadata": {
        "id": "6v3xrVWFJFsn"
      },
      "source": [
        "#df.drop(['Unnamed'], inplace=True, axis=1)\n",
        "df.drop(df.columns[[0]],axis = 1,inplace = True)\n",
        "df.drop(['tags'], inplace=True, axis=1)"
      ],
      "execution_count": null,
      "outputs": []
    },
    {
      "cell_type": "code",
      "metadata": {
        "id": "ZhFPwJjbKpPX"
      },
      "source": [
        "# Hot Encode 6 Label columns (starting at 2nd column 'till and of DataFrame)\n",
        "# into 1 column with a hot encoded list of values\n",
        "df['labels'] = df.iloc[:, 1:].values.tolist()"
      ],
      "execution_count": null,
      "outputs": []
    },
    {
      "cell_type": "code",
      "metadata": {
        "id": "JfAeBWBnLX7-"
      },
      "source": [
        "for label in labelHeadings:\n",
        "  df.drop(axis=1, columns=label, inplace=True)"
      ],
      "execution_count": null,
      "outputs": []
    },
    {
      "cell_type": "code",
      "metadata": {
        "colab": {
          "base_uri": "https://localhost:8080/",
          "height": 206
        },
        "id": "LCQvkVqpLQwN",
        "outputId": "858f4855-01a5-427b-899f-f1d1a431b592"
      },
      "source": [
        "df.head()"
      ],
      "execution_count": null,
      "outputs": [
        {
          "output_type": "execute_result",
          "data": {
            "text/html": [
              "<div>\n",
              "<style scoped>\n",
              "    .dataframe tbody tr th:only-of-type {\n",
              "        vertical-align: middle;\n",
              "    }\n",
              "\n",
              "    .dataframe tbody tr th {\n",
              "        vertical-align: top;\n",
              "    }\n",
              "\n",
              "    .dataframe thead th {\n",
              "        text-align: right;\n",
              "    }\n",
              "</style>\n",
              "<table border=\"1\" class=\"dataframe\">\n",
              "  <thead>\n",
              "    <tr style=\"text-align: right;\">\n",
              "      <th></th>\n",
              "      <th>text</th>\n",
              "      <th>labels</th>\n",
              "    </tr>\n",
              "  </thead>\n",
              "  <tbody>\n",
              "    <tr>\n",
              "      <th>0</th>\n",
              "      <td>Im Kreml sollte es in diesen Tagen eigentlich ...</td>\n",
              "      <td>[1, 0, 0, 0, 0, 0, 0, 0, 0]</td>\n",
              "    </tr>\n",
              "    <tr>\n",
              "      <th>1</th>\n",
              "      <td>Der Preis setze ein Zeichen für die Millionen ...</td>\n",
              "      <td>[1, 0, 0, 0, 0, 0, 0, 0, 0]</td>\n",
              "    </tr>\n",
              "    <tr>\n",
              "      <th>2</th>\n",
              "      <td>Die Kanzlerin berät mit den Bürgermeistern der...</td>\n",
              "      <td>[0, 1, 0, 0, 0, 0, 0, 0, 0]</td>\n",
              "    </tr>\n",
              "    <tr>\n",
              "      <th>3</th>\n",
              "      <td>Anzeige\\n\\nDie Corona-Krise hat auch vor dem e...</td>\n",
              "      <td>[0, 0, 1, 0, 0, 0, 0, 0, 0]</td>\n",
              "    </tr>\n",
              "    <tr>\n",
              "      <th>4</th>\n",
              "      <td>Anzeige\\n\\nEin Problem? Kein Problem. Natürlic...</td>\n",
              "      <td>[0, 0, 0, 1, 0, 0, 0, 0, 0]</td>\n",
              "    </tr>\n",
              "  </tbody>\n",
              "</table>\n",
              "</div>"
            ],
            "text/plain": [
              "                                                text                       labels\n",
              "0  Im Kreml sollte es in diesen Tagen eigentlich ...  [1, 0, 0, 0, 0, 0, 0, 0, 0]\n",
              "1  Der Preis setze ein Zeichen für die Millionen ...  [1, 0, 0, 0, 0, 0, 0, 0, 0]\n",
              "2  Die Kanzlerin berät mit den Bürgermeistern der...  [0, 1, 0, 0, 0, 0, 0, 0, 0]\n",
              "3  Anzeige\\n\\nDie Corona-Krise hat auch vor dem e...  [0, 0, 1, 0, 0, 0, 0, 0, 0]\n",
              "4  Anzeige\\n\\nEin Problem? Kein Problem. Natürlic...  [0, 0, 0, 1, 0, 0, 0, 0, 0]"
            ]
          },
          "metadata": {
            "tags": []
          },
          "execution_count": 16
        }
      ]
    },
    {
      "cell_type": "markdown",
      "metadata": {
        "id": "442PUgfzOSuB"
      },
      "source": [
        "### Multi Hot Encode a continues label value (eg. 0-4) as array"
      ]
    },
    {
      "cell_type": "code",
      "metadata": {
        "colab": {
          "base_uri": "https://localhost:8080/"
        },
        "id": "fbVA5DmexHBs",
        "outputId": "cdf8c1e2-46f0-48f5-fd4d-098eefcdfbee"
      },
      "source": [
        "arr = df['labels'].values\n",
        "print ( f\"arr.size: {arr.size}\")\n",
        "print ( f\" arr.max: {arr.max()}\")\n",
        "print ( f\" arr.max: {len(arr.max())}\")"
      ],
      "execution_count": null,
      "outputs": [
        {
          "output_type": "stream",
          "text": [
            "arr.size: 56609\n",
            " arr.max: [1, 0, 0, 0, 0, 0, 0, 0, 0]\n",
            " arr.max: 9\n"
          ],
          "name": "stdout"
        }
      ]
    },
    {
      "cell_type": "code",
      "metadata": {
        "colab": {
          "base_uri": "https://localhost:8080/"
        },
        "id": "6hjc604iwti6",
        "outputId": "9b171e54-9aba-4f93-b121-6e1fa09380f1"
      },
      "source": [
        "import numpy as np\n",
        "labels = np.zeros((arr.size, len(arr.max())), dtype=float)\n",
        "print (f\"labels shape: {labels.shape}\")\n",
        "print (f\"labels:\\n{labels}\")"
      ],
      "execution_count": null,
      "outputs": [
        {
          "output_type": "stream",
          "text": [
            "labels shape: (56609, 9)\n",
            "labels:\n",
            "[[0. 0. 0. ... 0. 0. 0.]\n",
            " [0. 0. 0. ... 0. 0. 0.]\n",
            " [0. 0. 0. ... 0. 0. 0.]\n",
            " ...\n",
            " [0. 0. 0. ... 0. 0. 0.]\n",
            " [0. 0. 0. ... 0. 0. 0.]\n",
            " [0. 0. 0. ... 0. 0. 0.]]\n"
          ],
          "name": "stdout"
        }
      ]
    },
    {
      "cell_type": "code",
      "metadata": {
        "id": "84GqEL20y2r3"
      },
      "source": [
        "for i in range(len(labels)):\n",
        "  labels[i] = np.array(arr[i])"
      ],
      "execution_count": null,
      "outputs": []
    },
    {
      "cell_type": "code",
      "metadata": {
        "colab": {
          "base_uri": "https://localhost:8080/"
        },
        "id": "_21gt4mOy2ej",
        "outputId": "c9cc664b-d919-4da1-e5d7-88c655e417d2"
      },
      "source": [
        "labels"
      ],
      "execution_count": null,
      "outputs": [
        {
          "output_type": "execute_result",
          "data": {
            "text/plain": [
              "array([[1., 0., 0., ..., 0., 0., 0.],\n",
              "       [1., 0., 0., ..., 0., 0., 0.],\n",
              "       [0., 1., 0., ..., 0., 0., 0.],\n",
              "       ...,\n",
              "       [0., 0., 0., ..., 0., 0., 0.],\n",
              "       [0., 0., 0., ..., 0., 1., 0.],\n",
              "       [0., 0., 0., ..., 0., 0., 0.]])"
            ]
          },
          "metadata": {
            "tags": []
          },
          "execution_count": 20
        }
      ]
    },
    {
      "cell_type": "code",
      "metadata": {
        "colab": {
          "base_uri": "https://localhost:8080/"
        },
        "id": "JA_9YivAOQrr",
        "outputId": "996414d2-a96a-4b68-ddc4-431ffbfd439a"
      },
      "source": [
        "print (f\"array size: {labels.size},\\narray: {labels}\")"
      ],
      "execution_count": null,
      "outputs": [
        {
          "output_type": "stream",
          "text": [
            "array size: 509481,\n",
            "array: [[1. 0. 0. ... 0. 0. 0.]\n",
            " [1. 0. 0. ... 0. 0. 0.]\n",
            " [0. 1. 0. ... 0. 0. 0.]\n",
            " ...\n",
            " [0. 0. 0. ... 0. 0. 0.]\n",
            " [0. 0. 0. ... 0. 1. 0.]\n",
            " [0. 0. 0. ... 0. 0. 0.]]\n"
          ],
          "name": "stdout"
        }
      ]
    },
    {
      "cell_type": "code",
      "metadata": {
        "colab": {
          "base_uri": "https://localhost:8080/"
        },
        "id": "BdGu7JNHs7CL",
        "outputId": "18fedc1f-8042-4913-9b80-4c958bdde403"
      },
      "source": [
        "for i in range(0, 20):\n",
        "  print(labels[i])"
      ],
      "execution_count": null,
      "outputs": [
        {
          "output_type": "stream",
          "text": [
            "[1. 0. 0. 0. 0. 0. 0. 0. 0.]\n",
            "[1. 0. 0. 0. 0. 0. 0. 0. 0.]\n",
            "[0. 1. 0. 0. 0. 0. 0. 0. 0.]\n",
            "[0. 0. 1. 0. 0. 0. 0. 0. 0.]\n",
            "[0. 0. 0. 1. 0. 0. 0. 0. 0.]\n",
            "[0. 0. 0. 0. 1. 0. 0. 0. 0.]\n",
            "[0. 1. 0. 0. 0. 0. 0. 0. 0.]\n",
            "[0. 0. 1. 0. 0. 0. 0. 0. 0.]\n",
            "[1. 0. 0. 0. 0. 0. 0. 0. 0.]\n",
            "[0. 1. 0. 0. 0. 0. 0. 0. 0.]\n",
            "[0. 1. 0. 0. 0. 0. 0. 0. 0.]\n",
            "[0. 0. 0. 1. 0. 0. 0. 0. 0.]\n",
            "[0. 0. 1. 0. 0. 0. 0. 0. 0.]\n",
            "[0. 0. 1. 0. 0. 0. 0. 0. 0.]\n",
            "[0. 1. 0. 0. 0. 0. 0. 0. 0.]\n",
            "[0. 0. 1. 0. 0. 0. 0. 0. 0.]\n",
            "[0. 0. 1. 0. 0. 0. 0. 0. 0.]\n",
            "[1. 0. 0. 0. 0. 0. 0. 0. 0.]\n",
            "[0. 0. 0. 0. 1. 0. 0. 0. 0.]\n",
            "[0. 1. 0. 0. 0. 0. 0. 0. 0.]\n"
          ],
          "name": "stdout"
        }
      ]
    },
    {
      "cell_type": "markdown",
      "metadata": {
        "id": "5RF_cC0RRtjU"
      },
      "source": [
        "### Encode Text Input Data"
      ]
    },
    {
      "cell_type": "code",
      "metadata": {
        "id": "5wU3RStSNpjl"
      },
      "source": [
        "seqlen = df['text'].apply(lambda x: len(x.split()))"
      ],
      "execution_count": null,
      "outputs": []
    },
    {
      "cell_type": "code",
      "metadata": {
        "id": "e5itCuhEN76l"
      },
      "source": [
        "import seaborn as sns\n",
        "import matplotlib as plt"
      ],
      "execution_count": null,
      "outputs": []
    },
    {
      "cell_type": "code",
      "metadata": {
        "colab": {
          "base_uri": "https://localhost:8080/",
          "height": 387
        },
        "id": "m_XxlXwqOJyQ",
        "outputId": "cb8b65a2-093e-4353-b8bf-25004d9b1e07"
      },
      "source": [
        "# Do a distribution plot on the seqquence length's of the given text\n",
        "sns.set_style('darkgrid')\n",
        "plt.figure.Figure(figsize=(16,10))\n",
        "sns.displot(seqlen)"
      ],
      "execution_count": null,
      "outputs": [
        {
          "output_type": "execute_result",
          "data": {
            "text/plain": [
              "<seaborn.axisgrid.FacetGrid at 0x7f851beeff90>"
            ]
          },
          "metadata": {
            "tags": []
          },
          "execution_count": 25
        },
        {
          "output_type": "display_data",
          "data": {
            "image/png": "[encoded data removed]",
            "text/plain": [
              "<Figure size 360x360 with 1 Axes>"
            ]
          },
          "metadata": {
            "tags": []
          }
        }
      ]
    },
    {
      "cell_type": "code",
      "metadata": {
        "id": "CrGoSQ3HQogV"
      },
      "source": [
        "# Maximum length of the text we are going to train and predict here\n",
        "SEQ_LEN = 100"
      ],
      "execution_count": null,
      "outputs": []
    },
    {
      "cell_type": "markdown",
      "metadata": {
        "id": "AwphaSBgDaPF"
      },
      "source": [
        "## Encode Input Data\n",
        "Encode the Input-Tensor and the Attention Tensor."
      ]
    },
    {
      "cell_type": "code",
      "metadata": {
        "colab": {
          "base_uri": "https://localhost:8080/"
        },
        "id": "GPNMuA4OY7r_",
        "outputId": "f6533f73-e0df-438d-ecc4-55cb91cb388c"
      },
      "source": [
        "modelPath = '/gdrive/MyDrive/Colab Notebooks/Transformers/LocalModelUsage/distilbert-base-multilingual-cased/'\n",
        "!ls {modelPath.replace(' ', '\\ ')} -lha"
      ],
      "execution_count": null,
      "outputs": [
        {
          "output_type": "stream",
          "text": [
            "total 1.3G\n",
            "-rw------- 1 root root 1.3G Mar  8 18:56  distilbert-base-multilingual-cased.zip\n",
            "-rw------- 1 root root 9.8K Mar  8 18:57 'Model Download Save.ipynb'\n",
            "-rw------- 1 root root 102K Mar  8 19:17 'Model Load.ipynb'\n"
          ],
          "name": "stdout"
        }
      ]
    },
    {
      "cell_type": "code",
      "metadata": {
        "colab": {
          "base_uri": "https://localhost:8080/"
        },
        "id": "_824XdfiZQra",
        "outputId": "0088997f-720e-4e02-b6ce-602997093fca"
      },
      "source": [
        "!unzip {(modelPath+'distilbert-base-multilingual-cased.zip').replace(' ', '\\ ')} -d localModel"
      ],
      "execution_count": null,
      "outputs": [
        {
          "output_type": "stream",
          "text": [
            "Archive:  /gdrive/MyDrive/Colab Notebooks/Transformers/LocalModelUsage/distilbert-base-multilingual-cased/distilbert-base-multilingual-cased.zip\n",
            "  inflating: localModel/distilbert-base-multilingual-cased/config.json  \n",
            "  inflating: localModel/distilbert-base-multilingual-cased/pytorch_model.bin  \n",
            "  inflating: localModel/distilbert-base-multilingual-cased/README.md  \n",
            "  inflating: localModel/distilbert-base-multilingual-cased/tf_model.h5  \n",
            " extracting: localModel/distilbert-base-multilingual-cased/tokenizer_config.json  \n",
            "  inflating: localModel/distilbert-base-multilingual-cased/tokenizer.json  \n",
            "  inflating: localModel/distilbert-base-multilingual-cased/vocab.txt  \n"
          ],
          "name": "stdout"
        }
      ]
    },
    {
      "cell_type": "code",
      "metadata": {
        "id": "K1ZOtg_fRA9E"
      },
      "source": [
        "from transformers import DistilBertTokenizer\n",
        "tranformersPreTrainedModelName = 'localModel/distilbert-base-multilingual-cased/'\n",
        "tokenizer = DistilBertTokenizer.from_pretrained(tranformersPreTrainedModelName) "
      ],
      "execution_count": null,
      "outputs": []
    },
    {
      "cell_type": "code",
      "metadata": {
        "id": "A-K1gSSpR7J-"
      },
      "source": [
        "tokens = tokenizer.encode_plus('Hello World'\n",
        "                               ,max_length = SEQ_LEN          # Using text with this max length\n",
        "                               ,truncation=True               # truncate any text longer than max_length\n",
        "                               ,padding='max_length'          # padd text that is smaller than max_length\n",
        "                               ,add_special_tokens=True       # add special tokens for start, end of sentence, unknown, and mask tokens\n",
        "                               ,return_token_type_ids = False # do not return ids for types of tokens\n",
        "                               ,return_attention_mask = True\n",
        "                               ,return_tensors='tf')"
      ],
      "execution_count": null,
      "outputs": []
    },
    {
      "cell_type": "code",
      "metadata": {
        "colab": {
          "base_uri": "https://localhost:8080/"
        },
        "id": "4aftNX-1R7GR",
        "outputId": "fd4c1e66-bcf7-4dab-c07a-c86719b47b97"
      },
      "source": [
        "# Outputs 2 tensors named 'input_ids' & 'attention_mask'\n",
        "# The values 101 and 102 are start and end of sentence identifiers\n",
        "# while 7592 & 2088 are tokens for 'Hello World'\n",
        "#\n",
        "# Attention Mask tells Bert which tokens to pay attention to and which to ompletely ignore\n",
        "print (tokens)"
      ],
      "execution_count": null,
      "outputs": [
        {
          "output_type": "stream",
          "text": [
            "{'input_ids': <tf.Tensor: shape=(1, 100), dtype=int32, numpy=\n",
            "array([[  101, 31178, 10315,   102,     0,     0,     0,     0,     0,\n",
            "            0,     0,     0,     0,     0,     0,     0,     0,     0,\n",
            "            0,     0,     0,     0,     0,     0,     0,     0,     0,\n",
            "            0,     0,     0,     0,     0,     0,     0,     0,     0,\n",
            "            0,     0,     0,     0,     0,     0,     0,     0,     0,\n",
            "            0,     0,     0,     0,     0,     0,     0,     0,     0,\n",
            "            0,     0,     0,     0,     0,     0,     0,     0,     0,\n",
            "            0,     0,     0,     0,     0,     0,     0,     0,     0,\n",
            "            0,     0,     0,     0,     0,     0,     0,     0,     0,\n",
            "            0,     0,     0,     0,     0,     0,     0,     0,     0,\n",
            "            0,     0,     0,     0,     0,     0,     0,     0,     0,\n",
            "            0]], dtype=int32)>, 'attention_mask': <tf.Tensor: shape=(1, 100), dtype=int32, numpy=\n",
            "array([[1, 1, 1, 1, 0, 0, 0, 0, 0, 0, 0, 0, 0, 0, 0, 0, 0, 0, 0, 0, 0, 0,\n",
            "        0, 0, 0, 0, 0, 0, 0, 0, 0, 0, 0, 0, 0, 0, 0, 0, 0, 0, 0, 0, 0, 0,\n",
            "        0, 0, 0, 0, 0, 0, 0, 0, 0, 0, 0, 0, 0, 0, 0, 0, 0, 0, 0, 0, 0, 0,\n",
            "        0, 0, 0, 0, 0, 0, 0, 0, 0, 0, 0, 0, 0, 0, 0, 0, 0, 0, 0, 0, 0, 0,\n",
            "        0, 0, 0, 0, 0, 0, 0, 0, 0, 0, 0, 0]], dtype=int32)>}\n"
          ],
          "name": "stdout"
        }
      ]
    },
    {
      "cell_type": "markdown",
      "metadata": {
        "id": "Z6KLOlPgWfGU"
      },
      "source": [
        "### Tokenize each Sample in Dataset"
      ]
    },
    {
      "cell_type": "code",
      "metadata": {
        "id": "KbEgLLWER63t"
      },
      "source": [
        "import numpy as np\n",
        "# initialize numpy arrays for Token-Ids and Attention Masks\n",
        "Xids = np.zeros((len(df), SEQ_LEN), dtype=float)\n",
        "Xmask = np.zeros((len(df), SEQ_LEN), dtype=float)"
      ],
      "execution_count": null,
      "outputs": []
    },
    {
      "cell_type": "code",
      "metadata": {
        "colab": {
          "base_uri": "https://localhost:8080/"
        },
        "id": "1ywb5Pi_XGEw",
        "outputId": "321e992b-9f04-414f-940a-c99f34c9809a"
      },
      "source": [
        "Xids.shape"
      ],
      "execution_count": null,
      "outputs": [
        {
          "output_type": "execute_result",
          "data": {
            "text/plain": [
              "(56609, 100)"
            ]
          },
          "metadata": {
            "tags": []
          },
          "execution_count": 33
        }
      ]
    },
    {
      "cell_type": "code",
      "metadata": {
        "id": "xNLh-Ir3XGA1"
      },
      "source": [
        "# Use a simple for loop to encode all data points\n",
        "for i, sequence in enumerate(df['text']):\n",
        "  tokens = tokenizer.encode_plus(sequence\n",
        "                               ,max_length = SEQ_LEN          # Using text with this max length\n",
        "                               ,truncation=True               # truncate any text longer than max_length\n",
        "                               ,padding='max_length'          # padd text that is smaller than max_length\n",
        "                               ,add_special_tokens=True       # add special tokens for start, end of sentence, unknown, and mask tokens\n",
        "                               ,return_token_type_ids = False # do not return ids for types of tokens\n",
        "                               ,return_attention_mask = True\n",
        "                               ,return_tensors='tf')\n",
        "  \n",
        "  Xids[i, :], Xmask[i, :] = tokens['input_ids'], tokens['attention_mask']"
      ],
      "execution_count": null,
      "outputs": []
    },
    {
      "cell_type": "code",
      "metadata": {
        "colab": {
          "base_uri": "https://localhost:8080/"
        },
        "id": "R8VQM0QXXF9Z",
        "outputId": "ee58e709-f01a-43d8-dd01-7d8d50624572"
      },
      "source": [
        "# Array of tokenized Ids\n",
        "Xids"
      ],
      "execution_count": null,
      "outputs": [
        {
          "output_type": "execute_result",
          "data": {
            "text/plain": [
              "array([[  101., 10796., 17640., ..., 35159., 10848.,   102.],\n",
              "       [  101., 10445., 19942., ..., 10392., 90928.,   102.],\n",
              "       [  101., 10236., 57528., ..., 82623., 10848.,   102.],\n",
              "       ...,\n",
              "       [  101.,   155., 14553., ..., 64973., 47243.,   102.],\n",
              "       [  101., 19716., 89398., ..., 10128., 54566.,   102.],\n",
              "       [  101., 11529., 36806., ...,   119., 43710.,   102.]])"
            ]
          },
          "metadata": {
            "tags": []
          },
          "execution_count": 35
        }
      ]
    },
    {
      "cell_type": "code",
      "metadata": {
        "colab": {
          "base_uri": "https://localhost:8080/"
        },
        "id": "A0G0SwXjXF6B",
        "outputId": "149fb771-6413-45ab-e66f-7ff4701b1524"
      },
      "source": [
        "# Array of attaention masks\n",
        "Xmask"
      ],
      "execution_count": null,
      "outputs": [
        {
          "output_type": "execute_result",
          "data": {
            "text/plain": [
              "array([[1., 1., 1., ..., 1., 1., 1.],\n",
              "       [1., 1., 1., ..., 1., 1., 1.],\n",
              "       [1., 1., 1., ..., 1., 1., 1.],\n",
              "       ...,\n",
              "       [1., 1., 1., ..., 1., 1., 1.],\n",
              "       [1., 1., 1., ..., 1., 1., 1.],\n",
              "       [1., 1., 1., ..., 1., 1., 1.]])"
            ]
          },
          "metadata": {
            "tags": []
          },
          "execution_count": 36
        }
      ]
    },
    {
      "cell_type": "code",
      "metadata": {
        "colab": {
          "base_uri": "https://localhost:8080/"
        },
        "id": "vufEVi2bvZEZ",
        "outputId": "879e1a68-98b2-47ee-89b8-9e1a9c96d440"
      },
      "source": [
        "print (type(Xids))\n",
        "print (type(Xmask))\n",
        "print (type(labels))\n",
        "print (type(labels[0]))"
      ],
      "execution_count": null,
      "outputs": [
        {
          "output_type": "stream",
          "text": [
            "<class 'numpy.ndarray'>\n",
            "<class 'numpy.ndarray'>\n",
            "<class 'numpy.ndarray'>\n",
            "<class 'numpy.ndarray'>\n"
          ],
          "name": "stdout"
        }
      ]
    },
    {
      "cell_type": "markdown",
      "metadata": {
        "id": "qsjMLMySfoz1"
      },
      "source": [
        "### Save Tokenized Data"
      ]
    },
    {
      "cell_type": "code",
      "metadata": {
        "id": "P2q54RC2fslb"
      },
      "source": [
        "with open ('xids.npy', 'wb') as f:\n",
        "  np.save(f, Xids)\n",
        "with open ('xmask.npy', 'wb') as f:\n",
        "  np.save(f, Xmask)\n",
        "with open ('labels.npy', 'wb') as f:\n",
        "  np.save(f, labels)\n",
        "\n",
        "del df, Xids, Xmask, labels\n",
        "df = None"
      ],
      "execution_count": null,
      "outputs": []
    },
    {
      "cell_type": "markdown",
      "metadata": {
        "id": "j_HLCQX0DaTO"
      },
      "source": [
        "## Ininitializing Hugging Face Tokenizer and Model"
      ]
    },
    {
      "cell_type": "markdown",
      "metadata": {
        "id": "DwRV4SBIgSqF"
      },
      "source": [
        "### Load Tokenized Data"
      ]
    },
    {
      "cell_type": "code",
      "metadata": {
        "id": "eAe-0GqEgRml"
      },
      "source": [
        "import numpy as np\n",
        "with open ('xids.npy', 'rb') as f:\n",
        "  Xids = np.load(f)\n",
        "with open ('xmask.npy', 'rb') as f:\n",
        "  Xmask = np.load(f)\n",
        "with open ('labels.npy', 'rb') as f:\n",
        "  labels = np.load(f)"
      ],
      "execution_count": null,
      "outputs": []
    },
    {
      "cell_type": "code",
      "metadata": {
        "colab": {
          "base_uri": "https://localhost:8080/"
        },
        "id": "Fb0tM3ANgpJk",
        "outputId": "4a3fd161-e15c-469d-9db1-0a411eb612ba"
      },
      "source": [
        "Xids"
      ],
      "execution_count": null,
      "outputs": [
        {
          "output_type": "execute_result",
          "data": {
            "text/plain": [
              "array([[  101., 10796., 17640., ..., 35159., 10848.,   102.],\n",
              "       [  101., 10445., 19942., ..., 10392., 90928.,   102.],\n",
              "       [  101., 10236., 57528., ..., 82623., 10848.,   102.],\n",
              "       ...,\n",
              "       [  101.,   155., 14553., ..., 64973., 47243.,   102.],\n",
              "       [  101., 19716., 89398., ..., 10128., 54566.,   102.],\n",
              "       [  101., 11529., 36806., ...,   119., 43710.,   102.]])"
            ]
          },
          "metadata": {
            "tags": []
          },
          "execution_count": 40
        }
      ]
    },
    {
      "cell_type": "code",
      "metadata": {
        "colab": {
          "base_uri": "https://localhost:8080/"
        },
        "id": "UtJBX_YdVVXq",
        "outputId": "4992f824-5de0-4586-c033-56b4bda4140b"
      },
      "source": [
        "for i in range(0, 20):\n",
        "  print(labels[i])"
      ],
      "execution_count": null,
      "outputs": [
        {
          "output_type": "stream",
          "text": [
            "[1. 0. 0. 0. 0. 0. 0. 0. 0.]\n",
            "[1. 0. 0. 0. 0. 0. 0. 0. 0.]\n",
            "[0. 1. 0. 0. 0. 0. 0. 0. 0.]\n",
            "[0. 0. 1. 0. 0. 0. 0. 0. 0.]\n",
            "[0. 0. 0. 1. 0. 0. 0. 0. 0.]\n",
            "[0. 0. 0. 0. 1. 0. 0. 0. 0.]\n",
            "[0. 1. 0. 0. 0. 0. 0. 0. 0.]\n",
            "[0. 0. 1. 0. 0. 0. 0. 0. 0.]\n",
            "[1. 0. 0. 0. 0. 0. 0. 0. 0.]\n",
            "[0. 1. 0. 0. 0. 0. 0. 0. 0.]\n",
            "[0. 1. 0. 0. 0. 0. 0. 0. 0.]\n",
            "[0. 0. 0. 1. 0. 0. 0. 0. 0.]\n",
            "[0. 0. 1. 0. 0. 0. 0. 0. 0.]\n",
            "[0. 0. 1. 0. 0. 0. 0. 0. 0.]\n",
            "[0. 1. 0. 0. 0. 0. 0. 0. 0.]\n",
            "[0. 0. 1. 0. 0. 0. 0. 0. 0.]\n",
            "[0. 0. 1. 0. 0. 0. 0. 0. 0.]\n",
            "[1. 0. 0. 0. 0. 0. 0. 0. 0.]\n",
            "[0. 0. 0. 0. 1. 0. 0. 0. 0.]\n",
            "[0. 1. 0. 0. 0. 0. 0. 0. 0.]\n"
          ],
          "name": "stdout"
        }
      ]
    },
    {
      "cell_type": "code",
      "metadata": {
        "id": "BYBiX8dEg1e5"
      },
      "source": [
        "import tensorflow as tf\n",
        "#tf.config.list_physical_device('GPU')"
      ],
      "execution_count": null,
      "outputs": []
    },
    {
      "cell_type": "code",
      "metadata": {
        "id": "iy2rA94VhcmM"
      },
      "source": [
        "# TensorFlow expects input and target labels as an input tuple\n",
        "# Bert expects a dictionary of 'input_ids' and 'attention_mask' as input\n",
        "# So, lets create the dataset object\n",
        "# This creates a generator for a tuple of input tokens, attention_masks, and target labels\n",
        "dataset = tf.data.Dataset.from_tensor_slices((Xids, Xmask, labels))"
      ],
      "execution_count": null,
      "outputs": []
    },
    {
      "cell_type": "code",
      "metadata": {
        "colab": {
          "base_uri": "https://localhost:8080/"
        },
        "id": "6uWyj0KkieMk",
        "outputId": "8930eb52-407f-4c1f-9e9c-bf8dd424a6c1"
      },
      "source": [
        "# View a single row in the dataset\n",
        "print (dataset.take(1))\n",
        "print ()\n",
        "for i in dataset.take(1):\n",
        "  print (i)"
      ],
      "execution_count": null,
      "outputs": [
        {
          "output_type": "stream",
          "text": [
            "<TakeDataset shapes: ((100,), (100,), (9,)), types: (tf.float64, tf.float64, tf.float64)>\n",
            "\n",
            "(<tf.Tensor: shape=(100,), dtype=float64, numpy=\n",
            "array([1.01000e+02, 1.07960e+04, 1.76400e+04, 1.04510e+04, 1.01610e+04,\n",
            "       1.77990e+04, 1.01960e+04, 1.01060e+04, 1.70660e+04, 5.46260e+04,\n",
            "       5.00320e+04, 1.53310e+04, 1.99510e+04, 1.44000e+02, 6.48260e+04,\n",
            "       1.02530e+04, 1.03070e+04, 1.41830e+04, 5.27940e+04, 1.01290e+04,\n",
            "       4.20850e+04, 1.19000e+02, 2.80990e+04, 4.32340e+04, 1.07450e+04,\n",
            "       7.35610e+04, 1.87000e+02, 9.55840e+04, 1.01280e+04, 1.30980e+04,\n",
            "       3.21940e+04, 1.18000e+02, 1.86610e+04, 6.40150e+04, 1.01060e+04,\n",
            "       2.24600e+04, 5.56300e+04, 1.02900e+04, 1.88320e+04, 1.03276e+05,\n",
            "       1.81930e+04, 1.19000e+02, 3.81410e+04, 1.01060e+04, 2.58360e+04,\n",
            "       1.02230e+04, 1.27250e+04, 4.02240e+04, 1.12500e+04, 1.03720e+04,\n",
            "       1.01280e+04, 3.07310e+04, 1.01180e+04, 4.64370e+04, 1.02450e+04,\n",
            "       6.41690e+04, 3.93980e+04, 1.03290e+04, 3.42180e+04, 1.01930e+04,\n",
            "       1.19000e+02, 1.17960e+04, 1.12840e+04, 1.70330e+04, 1.24710e+04,\n",
            "       1.02230e+04, 1.67190e+04, 1.03170e+04, 6.17990e+04, 1.01230e+04,\n",
            "       1.01300e+04, 1.27550e+04, 1.17150e+04, 1.03290e+04, 1.02680e+04,\n",
            "       3.04090e+04, 7.07690e+04, 1.01180e+04, 8.18770e+04, 1.05278e+05,\n",
            "       1.01660e+04, 1.17840e+04, 1.19000e+02, 1.02360e+04, 2.14920e+04,\n",
            "       9.93310e+04, 1.02980e+04, 1.01060e+04, 2.24600e+04, 1.04880e+04,\n",
            "       8.47820e+04, 1.14180e+04, 1.19000e+02, 3.81410e+04, 1.55540e+04,\n",
            "       9.73280e+04, 1.07900e+04, 3.51590e+04, 1.08480e+04, 1.02000e+02])>, <tf.Tensor: shape=(100,), dtype=float64, numpy=\n",
            "array([1., 1., 1., 1., 1., 1., 1., 1., 1., 1., 1., 1., 1., 1., 1., 1., 1.,\n",
            "       1., 1., 1., 1., 1., 1., 1., 1., 1., 1., 1., 1., 1., 1., 1., 1., 1.,\n",
            "       1., 1., 1., 1., 1., 1., 1., 1., 1., 1., 1., 1., 1., 1., 1., 1., 1.,\n",
            "       1., 1., 1., 1., 1., 1., 1., 1., 1., 1., 1., 1., 1., 1., 1., 1., 1.,\n",
            "       1., 1., 1., 1., 1., 1., 1., 1., 1., 1., 1., 1., 1., 1., 1., 1., 1.,\n",
            "       1., 1., 1., 1., 1., 1., 1., 1., 1., 1., 1., 1., 1., 1., 1.])>, <tf.Tensor: shape=(9,), dtype=float64, numpy=array([1., 0., 0., 0., 0., 0., 0., 0., 0.])>)\n"
          ],
          "name": "stdout"
        }
      ]
    },
    {
      "cell_type": "code",
      "metadata": {
        "id": "ZobIL-pRjEjd"
      },
      "source": [
        "# minute 21:55\n",
        "# TensorFlow Bert model expects our input in a Tuple format containing:\n",
        "# 1) 'input_ids' and 'attention_mask' in a Dictionary and\n",
        "# 2) a label as 2nd part of the tupel\n",
        "def map_func(input_ids, masks, labels):\n",
        "  return {'input_ids': input_ids, 'attention_mask': masks}, labels"
      ],
      "execution_count": null,
      "outputs": []
    },
    {
      "cell_type": "code",
      "metadata": {
        "id": "j-_aS7QR4eS9"
      },
      "source": [
        "# we can use the dataset map function to apply this format\n",
        "dataset = dataset.map(map_func)"
      ],
      "execution_count": null,
      "outputs": []
    },
    {
      "cell_type": "code",
      "metadata": {
        "colab": {
          "base_uri": "https://localhost:8080/"
        },
        "id": "0lMhzkmz4vtO",
        "outputId": "f60abbbd-58db-41f8-bde5-8376d8a88706"
      },
      "source": [
        "# View a single row in the dataset\n",
        "print (dataset.take(1))\n",
        "print ()\n",
        "for i in dataset.take(1):\n",
        "  print (i)"
      ],
      "execution_count": null,
      "outputs": [
        {
          "output_type": "stream",
          "text": [
            "<TakeDataset shapes: ({input_ids: (100,), attention_mask: (100,)}, (9,)), types: ({input_ids: tf.float64, attention_mask: tf.float64}, tf.float64)>\n",
            "\n",
            "({'input_ids': <tf.Tensor: shape=(100,), dtype=float64, numpy=\n",
            "array([1.01000e+02, 1.07960e+04, 1.76400e+04, 1.04510e+04, 1.01610e+04,\n",
            "       1.77990e+04, 1.01960e+04, 1.01060e+04, 1.70660e+04, 5.46260e+04,\n",
            "       5.00320e+04, 1.53310e+04, 1.99510e+04, 1.44000e+02, 6.48260e+04,\n",
            "       1.02530e+04, 1.03070e+04, 1.41830e+04, 5.27940e+04, 1.01290e+04,\n",
            "       4.20850e+04, 1.19000e+02, 2.80990e+04, 4.32340e+04, 1.07450e+04,\n",
            "       7.35610e+04, 1.87000e+02, 9.55840e+04, 1.01280e+04, 1.30980e+04,\n",
            "       3.21940e+04, 1.18000e+02, 1.86610e+04, 6.40150e+04, 1.01060e+04,\n",
            "       2.24600e+04, 5.56300e+04, 1.02900e+04, 1.88320e+04, 1.03276e+05,\n",
            "       1.81930e+04, 1.19000e+02, 3.81410e+04, 1.01060e+04, 2.58360e+04,\n",
            "       1.02230e+04, 1.27250e+04, 4.02240e+04, 1.12500e+04, 1.03720e+04,\n",
            "       1.01280e+04, 3.07310e+04, 1.01180e+04, 4.64370e+04, 1.02450e+04,\n",
            "       6.41690e+04, 3.93980e+04, 1.03290e+04, 3.42180e+04, 1.01930e+04,\n",
            "       1.19000e+02, 1.17960e+04, 1.12840e+04, 1.70330e+04, 1.24710e+04,\n",
            "       1.02230e+04, 1.67190e+04, 1.03170e+04, 6.17990e+04, 1.01230e+04,\n",
            "       1.01300e+04, 1.27550e+04, 1.17150e+04, 1.03290e+04, 1.02680e+04,\n",
            "       3.04090e+04, 7.07690e+04, 1.01180e+04, 8.18770e+04, 1.05278e+05,\n",
            "       1.01660e+04, 1.17840e+04, 1.19000e+02, 1.02360e+04, 2.14920e+04,\n",
            "       9.93310e+04, 1.02980e+04, 1.01060e+04, 2.24600e+04, 1.04880e+04,\n",
            "       8.47820e+04, 1.14180e+04, 1.19000e+02, 3.81410e+04, 1.55540e+04,\n",
            "       9.73280e+04, 1.07900e+04, 3.51590e+04, 1.08480e+04, 1.02000e+02])>, 'attention_mask': <tf.Tensor: shape=(100,), dtype=float64, numpy=\n",
            "array([1., 1., 1., 1., 1., 1., 1., 1., 1., 1., 1., 1., 1., 1., 1., 1., 1.,\n",
            "       1., 1., 1., 1., 1., 1., 1., 1., 1., 1., 1., 1., 1., 1., 1., 1., 1.,\n",
            "       1., 1., 1., 1., 1., 1., 1., 1., 1., 1., 1., 1., 1., 1., 1., 1., 1.,\n",
            "       1., 1., 1., 1., 1., 1., 1., 1., 1., 1., 1., 1., 1., 1., 1., 1., 1.,\n",
            "       1., 1., 1., 1., 1., 1., 1., 1., 1., 1., 1., 1., 1., 1., 1., 1., 1.,\n",
            "       1., 1., 1., 1., 1., 1., 1., 1., 1., 1., 1., 1., 1., 1., 1.])>}, <tf.Tensor: shape=(9,), dtype=float64, numpy=array([1., 0., 0., 0., 0., 0., 0., 0., 0.])>)\n"
          ],
          "name": "stdout"
        }
      ]
    },
    {
      "cell_type": "code",
      "metadata": {
        "id": "sMkNHhxq47Ze"
      },
      "source": [
        "# SHuffle and Bach Dataset\n",
        "#dataset = dataset.shuffle(1000).batch(32)"
      ],
      "execution_count": null,
      "outputs": []
    },
    {
      "cell_type": "code",
      "metadata": {
        "colab": {
          "base_uri": "https://localhost:8080/"
        },
        "id": "00o88BAS5YKh",
        "outputId": "c608187c-04d4-48c9-d5a6-2ea77ea8c3e1"
      },
      "source": [
        "# Get the total size of dataset now that it is batched\n",
        "#\n",
        "# the dataset object is a generator object so we cannot take the length of it directly\n",
        "# thus, we have to convert it into a list\n",
        "# \n",
        "# Do not do this with a very large dataset\n",
        "#\n",
        "DS_LEN = len(list(dataset))\n",
        "DS_LEN"
      ],
      "execution_count": null,
      "outputs": [
        {
          "output_type": "execute_result",
          "data": {
            "text/plain": [
              "56609"
            ]
          },
          "metadata": {
            "tags": []
          },
          "execution_count": 49
        }
      ]
    },
    {
      "cell_type": "code",
      "metadata": {
        "colab": {
          "base_uri": "https://localhost:8080/"
        },
        "id": "WK8di-Y45rrq",
        "outputId": "4fcbc19d-deb9-428e-8376-535a42df0f11"
      },
      "source": [
        "print (f\"Alternative Computation for DS_LEN: {len(Xids)/32} -> {round(len(Xids)/32, 0)}\")"
      ],
      "execution_count": null,
      "outputs": [
        {
          "output_type": "stream",
          "text": [
            "Alternative Computation for DS_LEN: 1769.03125 -> 1769.0\n"
          ],
          "name": "stdout"
        }
      ]
    },
    {
      "cell_type": "code",
      "metadata": {
        "id": "SSB_T17u834a"
      },
      "source": [
        "SPLIT = .8\n",
        "\n",
        "# take or skip the specified number of batches to split by factor\n",
        "test = dataset.skip(round(DS_LEN * SPLIT)).batch(32)\n",
        "trainevalu = dataset.take(round(DS_LEN * SPLIT))\n",
        "\n",
        "DS_LEN2 = len(list(trainevalu))\n",
        "\n",
        "train = trainevalu.take(round(DS_LEN2 * SPLIT)).shuffle(1000).batch(32)\n",
        "evalu = trainevalu.skip(round(DS_LEN2 * SPLIT)).shuffle(1000).batch(32)\n",
        "\n",
        "del dataset"
      ],
      "execution_count": null,
      "outputs": []
    },
    {
      "cell_type": "code",
      "metadata": {
        "colab": {
          "base_uri": "https://localhost:8080/"
        },
        "id": "df1CJecNWimq",
        "outputId": "a8efa7ee-b1c9-4517-c727-363fd09e46a5"
      },
      "source": [
        "print (f\"test data: {len(test)}\")\n",
        "print (f\"train data: {len(train)}, train evalu data: {len(evalu)}\")"
      ],
      "execution_count": null,
      "outputs": [
        {
          "output_type": "stream",
          "text": [
            "test data: 354\n",
            "train data: 1133, train evalu data: 284\n"
          ],
          "name": "stdout"
        }
      ]
    },
    {
      "cell_type": "markdown",
      "metadata": {
        "id": "wTZP1_udDaF_"
      },
      "source": [
        "## Build Model"
      ]
    },
    {
      "cell_type": "code",
      "metadata": {
        "id": "lLCtrOdj9PKj"
      },
      "source": [
        "from transformers import DistilBertConfig\n",
        "bertConfig = DistilBertConfig.from_pretrained(tranformersPreTrainedModelName\n",
        "                                        , output_hidden_states=True\n",
        "                                        , num_lables=6\n",
        "                                        , max_length=SEQ_LEN\n",
        "                                        , label2id=label2index\n",
        "                                        , id2label=index2label\n",
        "                                        )"
      ],
      "execution_count": null,
      "outputs": []
    },
    {
      "cell_type": "code",
      "metadata": {
        "colab": {
          "base_uri": "https://localhost:8080/"
        },
        "id": "WPGGoaJ39tjz",
        "outputId": "ec88cc27-4374-4e54-b608-9d4b8ac1fd2a"
      },
      "source": [
        "from transformers import TFDistilBertForSequenceClassification\n",
        "bert = TFDistilBertForSequenceClassification.from_pretrained(tranformersPreTrainedModelName, config=bertConfig)"
      ],
      "execution_count": null,
      "outputs": [
        {
          "output_type": "stream",
          "text": [
            "Some layers from the model checkpoint at localModel/distilbert-base-multilingual-cased/ were not used when initializing TFDistilBertForSequenceClassification: ['vocab_projector', 'activation_13', 'vocab_layer_norm', 'vocab_transform']\n",
            "- This IS expected if you are initializing TFDistilBertForSequenceClassification from the checkpoint of a model trained on another task or with another architecture (e.g. initializing a BertForSequenceClassification model from a BertForPreTraining model).\n",
            "- This IS NOT expected if you are initializing TFDistilBertForSequenceClassification from the checkpoint of a model that you expect to be exactly identical (initializing a BertForSequenceClassification model from a BertForSequenceClassification model).\n",
            "Some layers of TFDistilBertForSequenceClassification were not initialized from the model checkpoint at localModel/distilbert-base-multilingual-cased/ and are newly initialized: ['dropout_19', 'pre_classifier', 'classifier']\n",
            "You should probably TRAIN this model on a down-stream task to be able to use it for predictions and inference.\n"
          ],
          "name": "stderr"
        }
      ]
    },
    {
      "cell_type": "code",
      "metadata": {
        "colab": {
          "base_uri": "https://localhost:8080/"
        },
        "id": "IIxfUZuK9DVR",
        "outputId": "e796f464-e3ee-49a0-8ad7-c056bbbcdc8a"
      },
      "source": [
        "bert.summary()"
      ],
      "execution_count": null,
      "outputs": [
        {
          "output_type": "stream",
          "text": [
            "Model: \"tf_distil_bert_for_sequence_classification\"\n",
            "_________________________________________________________________\n",
            "Layer (type)                 Output Shape              Param #   \n",
            "=================================================================\n",
            "distilbert (TFDistilBertMain multiple                  134734080 \n",
            "_________________________________________________________________\n",
            "pre_classifier (Dense)       multiple                  590592    \n",
            "_________________________________________________________________\n",
            "classifier (Dense)           multiple                  6921      \n",
            "_________________________________________________________________\n",
            "dropout_19 (Dropout)         multiple                  0         \n",
            "=================================================================\n",
            "Total params: 135,331,593\n",
            "Trainable params: 135,331,593\n",
            "Non-trainable params: 0\n",
            "_________________________________________________________________\n"
          ],
          "name": "stdout"
        }
      ]
    },
    {
      "cell_type": "code",
      "metadata": {
        "id": "ZHiT7m1qR1en"
      },
      "source": [
        "# build 2 input layers to Bert Model where name needs to match the input values in the dataset\n",
        "input_ids = tf.keras.Input(shape=(SEQ_LEN,), name = 'input_ids', dtype='int32')\n",
        "mask = tf.keras.Input(shape=(SEQ_LEN,), name = 'attention_mask', dtype='int32')\n",
        "\n",
        "embedings = bert.layers[0](input_ids, attention_mask=mask)[0]\n",
        "\n",
        "#Original Author: Ferry Djaja\n",
        "#https://djajafer.medium.com/multi-class-text-classification-with-keras-and-lstm-4c5525bef592\n",
        "X = tf.keras.layers.Dropout(0.5)(embedings)\n",
        "X = tf.keras.layers.Bidirectional(tf.keras.layers.LSTM(256))(X)\n",
        "y = tf.keras.layers.Dense(len(label2index), activation='sigmoid', name='outputs')(X)\n",
        "\n",
        "model = tf.keras.Model(inputs=[input_ids,mask], outputs=y)\n",
        "\n",
        "# Freeze the Bert model by freezing this layer to make training less of an overkill in terms of required performance\n",
        "model.layers[2].trainable = False"
      ],
      "execution_count": null,
      "outputs": []
    },
    {
      "cell_type": "code",
      "metadata": {
        "colab": {
          "base_uri": "https://localhost:8080/"
        },
        "id": "h28OcgiNR1Ya",
        "outputId": "3d7a0c73-95d7-4e8c-c3b4-62c14aaeb0b9"
      },
      "source": [
        "model.summary()"
      ],
      "execution_count": null,
      "outputs": [
        {
          "output_type": "stream",
          "text": [
            "Model: \"model\"\n",
            "__________________________________________________________________________________________________\n",
            "Layer (type)                    Output Shape         Param #     Connected to                     \n",
            "==================================================================================================\n",
            "input_ids (InputLayer)          [(None, 100)]        0                                            \n",
            "__________________________________________________________________________________________________\n",
            "attention_mask (InputLayer)     [(None, 100)]        0                                            \n",
            "__________________________________________________________________________________________________\n",
            "distilbert (TFDistilBertMainLay TFBaseModelOutput(la 134734080   input_ids[0][0]                  \n",
            "                                                                 attention_mask[0][0]             \n",
            "__________________________________________________________________________________________________\n",
            "dropout_20 (Dropout)            (None, 100, 768)     0           distilbert[0][7]                 \n",
            "__________________________________________________________________________________________________\n",
            "bidirectional (Bidirectional)   (None, 512)          2099200     dropout_20[0][0]                 \n",
            "__________________________________________________________________________________________________\n",
            "outputs (Dense)                 (None, 9)            4617        bidirectional[0][0]              \n",
            "==================================================================================================\n",
            "Total params: 136,837,897\n",
            "Trainable params: 2,103,817\n",
            "Non-trainable params: 134,734,080\n",
            "__________________________________________________________________________________________________\n"
          ],
          "name": "stdout"
        }
      ]
    },
    {
      "cell_type": "code",
      "metadata": {
        "id": "YJsrgwyO9tcF"
      },
      "source": [
        "#\n",
        "# https://stackoverflow.com/questions/52125924/why-does-sigmoid-crossentropy-of-keras-tensorflow-have-low-precision\n",
        "# keras with custom loss function\n",
        "def customLoss(target, output):\n",
        "    # if not from_logits:\n",
        "    #     # transform back to logits\n",
        "    #     _epsilon = _to_tensor(epsilon(), output.dtype.base_dtype)\n",
        "    #     output = tf.clip_by_value(output, _epsilon, 1 - _epsilon)\n",
        "    #     output = tf.log(output / (1 - output))\n",
        "    output = tf.math.log(output / (1 - output))\n",
        "    return tf.nn.sigmoid_cross_entropy_with_logits(labels=target, logits=output)\n",
        "\n",
        "optimizer = tf.keras.optimizers.Adam(lr=1e-3)\n",
        "model.compile(\n",
        "    loss=customLoss,\n",
        "    optimizer=optimizer,\n",
        "    metrics=['accuracy']\n",
        "    )\n",
        "\n",
        "#loss=tf.keras.losses.BinaryCrossentropy()\n",
        "#optimizer = tf.keras.optimizers.Adam()  #lr=1e-3,  lr=0.001, decay=1e-6\n",
        "#model.compile(\n",
        "#    loss=loss,\n",
        "#    optimizer=optimizer,\n",
        "#    metrics=['accuracy']\n",
        "#    )"
      ],
      "execution_count": null,
      "outputs": []
    },
    {
      "cell_type": "code",
      "metadata": {
        "id": "_eK-NlO99DR3",
        "colab": {
          "base_uri": "https://localhost:8080/"
        },
        "outputId": "5a81727d-2c2b-4fc3-c5b1-f2ff85b7506c"
      },
      "source": [
        "from timeit import default_timer as timer\n",
        "from datetime import timedelta\n",
        "import os\n",
        "\n",
        "start = timer()\n",
        "\n",
        "checkpoint_path = \"training_1/cp.ckpt\"\n",
        "checkpoint_dir = os.path.dirname(checkpoint_path)\n",
        "\n",
        "cp_callback = tf.keras.callbacks.ModelCheckpoint(checkpoint_path,\n",
        "                                                 save_weights_only=True,\n",
        "                                                 verbose=1)\n",
        "\n",
        "callbacks = [\n",
        "    tf.keras.callbacks.EarlyStopping(patience=9, monitor='val_loss'),\n",
        "    tf.keras.callbacks.TensorBoard(log_dir='./logs'),\n",
        "    cp_callback\n",
        "]\n",
        "\n",
        "history = model.fit(train\n",
        "                    , validation_data=evalu\n",
        "                    , callbacks=callbacks, verbose=1\n",
        "                    , epochs=32)\n",
        "\n",
        "end = timer()\n",
        "print(timedelta(seconds=end-start))"
      ],
      "execution_count": null,
      "outputs": [
        {
          "output_type": "stream",
          "text": [
            "Epoch 1/32\n",
            "1133/1133 [==============================] - 161s 112ms/step - loss: 0.1800 - accuracy: 0.6554 - val_loss: 0.2423 - val_accuracy: 0.5639\n",
            "\n",
            "Epoch 00001: saving model to training_1/cp.ckpt\n",
            "Epoch 2/32\n",
            "1133/1133 [==============================] - 124s 109ms/step - loss: 0.1504 - accuracy: 0.7296 - val_loss: 0.2374 - val_accuracy: 0.5665\n",
            "\n",
            "Epoch 00002: saving model to training_1/cp.ckpt\n",
            "Epoch 3/32\n",
            "1133/1133 [==============================] - 123s 109ms/step - loss: 0.1399 - accuracy: 0.7503 - val_loss: 0.2367 - val_accuracy: 0.5864\n",
            "\n",
            "Epoch 00003: saving model to training_1/cp.ckpt\n",
            "Epoch 4/32\n",
            "1133/1133 [==============================] - 123s 109ms/step - loss: 0.1342 - accuracy: 0.7643 - val_loss: 0.2294 - val_accuracy: 0.5937\n",
            "\n",
            "Epoch 00004: saving model to training_1/cp.ckpt\n",
            "Epoch 5/32\n",
            "1133/1133 [==============================] - 123s 109ms/step - loss: 0.1280 - accuracy: 0.7739 - val_loss: 0.2310 - val_accuracy: 0.5945\n",
            "\n",
            "Epoch 00005: saving model to training_1/cp.ckpt\n",
            "Epoch 6/32\n",
            "1133/1133 [==============================] - 123s 109ms/step - loss: 0.1240 - accuracy: 0.7820 - val_loss: 0.2243 - val_accuracy: 0.6045\n",
            "\n",
            "Epoch 00006: saving model to training_1/cp.ckpt\n",
            "Epoch 7/32\n",
            "1133/1133 [==============================] - 123s 109ms/step - loss: 0.1172 - accuracy: 0.7963 - val_loss: 0.2280 - val_accuracy: 0.6112\n",
            "\n",
            "Epoch 00007: saving model to training_1/cp.ckpt\n",
            "Epoch 8/32\n",
            "1133/1133 [==============================] - 123s 109ms/step - loss: 0.1139 - accuracy: 0.8019 - val_loss: 0.2443 - val_accuracy: 0.5946\n",
            "\n",
            "Epoch 00008: saving model to training_1/cp.ckpt\n",
            "Epoch 9/32\n",
            "1133/1133 [==============================] - 123s 109ms/step - loss: 0.1102 - accuracy: 0.8102 - val_loss: 0.2386 - val_accuracy: 0.6052\n",
            "\n",
            "Epoch 00009: saving model to training_1/cp.ckpt\n",
            "Epoch 10/32\n",
            "1133/1133 [==============================] - 123s 109ms/step - loss: 0.1062 - accuracy: 0.8182 - val_loss: 0.2299 - val_accuracy: 0.6089\n",
            "\n",
            "Epoch 00010: saving model to training_1/cp.ckpt\n",
            "Epoch 11/32\n",
            "1133/1133 [==============================] - 124s 109ms/step - loss: 0.1020 - accuracy: 0.8281 - val_loss: 0.2460 - val_accuracy: 0.5996\n",
            "\n",
            "Epoch 00011: saving model to training_1/cp.ckpt\n",
            "Epoch 12/32\n",
            "1133/1133 [==============================] - 124s 109ms/step - loss: 0.1001 - accuracy: 0.8266 - val_loss: 0.2486 - val_accuracy: 0.5936\n",
            "\n",
            "Epoch 00012: saving model to training_1/cp.ckpt\n",
            "Epoch 13/32\n",
            "1133/1133 [==============================] - 123s 109ms/step - loss: 0.0956 - accuracy: 0.8374 - val_loss: 0.2369 - val_accuracy: 0.6041\n",
            "\n",
            "Epoch 00013: saving model to training_1/cp.ckpt\n",
            "Epoch 14/32\n",
            "1133/1133 [==============================] - 124s 109ms/step - loss: 0.0925 - accuracy: 0.8426 - val_loss: 0.2570 - val_accuracy: 0.6008\n",
            "\n",
            "Epoch 00014: saving model to training_1/cp.ckpt\n",
            "Epoch 15/32\n",
            "1133/1133 [==============================] - 123s 109ms/step - loss: 0.0918 - accuracy: 0.8454 - val_loss: 0.2488 - val_accuracy: 0.6012\n",
            "\n",
            "Epoch 00015: saving model to training_1/cp.ckpt\n",
            "0:31:56.808694\n"
          ],
          "name": "stdout"
        }
      ]
    },
    {
      "cell_type": "code",
      "metadata": {
        "id": "cSJCpE6k--De",
        "colab": {
          "base_uri": "https://localhost:8080/",
          "height": 541
        },
        "outputId": "7e8aadc8-ed49-435d-f3ec-5fe6eba93826"
      },
      "source": [
        "import matplotlib.pyplot as plt\n",
        "\n",
        "def plot_graphs(history, string):\n",
        "  plt.plot(history.history[string])\n",
        "  plt.plot(history.history['val_'+string])\n",
        "  plt.xlabel(\"Epochs\")\n",
        "  plt.ylabel(string)\n",
        "  plt.legend([string, 'val_'+string])\n",
        "  plt.show()\n",
        "  \n",
        "plot_graphs(history, \"accuracy\")\n",
        "plot_graphs(history, \"loss\")"
      ],
      "execution_count": null,
      "outputs": [
        {
          "output_type": "display_data",
          "data": {
            "image/png": "[encoded data removed]",
            "text/plain": [
              "<Figure size 432x288 with 1 Axes>"
            ]
          },
          "metadata": {
            "tags": []
          }
        },
        {
          "output_type": "display_data",
          "data": {
            "image/png": "[encoded data removed]",
            "text/plain": [
              "<Figure size 432x288 with 1 Axes>"
            ]
          },
          "metadata": {
            "tags": []
          }
        }
      ]
    },
    {
      "cell_type": "markdown",
      "metadata": {
        "id": "xn9PtEq7Mrfm"
      },
      "source": [
        "## Evaluation"
      ]
    },
    {
      "cell_type": "code",
      "metadata": {
        "id": "ZcmoKARy_BZA",
        "colab": {
          "base_uri": "https://localhost:8080/"
        },
        "outputId": "02e50ead-f0ef-4fa4-f95e-a31febacdc47"
      },
      "source": [
        "results = model.evaluate(test, batch_size=32)\n",
        "print(\"test loss, test acc:\", results)"
      ],
      "execution_count": null,
      "outputs": [
        {
          "output_type": "stream",
          "text": [
            "354/354 [==============================] - 27s 75ms/step - loss: 0.3780 - accuracy: 0.3991\n",
            "test loss, test acc: [0.37800171971321106, 0.39913442730903625]\n"
          ],
          "name": "stdout"
        }
      ]
    },
    {
      "cell_type": "code",
      "metadata": {
        "id": "eTjP0sqlS000",
        "colab": {
          "base_uri": "https://localhost:8080/"
        },
        "outputId": "d0148a7a-11b8-4962-ef4d-cfd36011556c"
      },
      "source": [
        "# Generate predictions (probabilities -- the output of the last layer)\n",
        "# on new data using `predict`\n",
        "print(\"Generate predictions for 1 sample\")\n",
        "predictions = model.predict(test.take(1))\n",
        "print(\"predictions shape:\", predictions.shape)"
      ],
      "execution_count": null,
      "outputs": [
        {
          "output_type": "stream",
          "text": [
            "Generate predictions for 1 sample\n",
            "predictions shape: (32, 9)\n"
          ],
          "name": "stdout"
        }
      ]
    },
    {
      "cell_type": "code",
      "metadata": {
        "id": "O2dB5PVPg2RO",
        "colab": {
          "base_uri": "https://localhost:8080/"
        },
        "outputId": "407c0d70-46e5-4d1d-b828-b516bd3487bf"
      },
      "source": [
        "threshold = .6\n",
        "\n",
        "for item in test.take(1):\n",
        "  #print (f\"inputs: {item [0]}\")\n",
        "  print ()\n",
        "  #print (f\"labels: {item [1]}\")\n",
        "  countOK = 0\n",
        "  countNOK = 0\n",
        "\n",
        "  for i in range(len(predictions)):\n",
        "\n",
        "    labelValues = item[1][i].numpy()\n",
        "    for l in range(len(labelValues)):\n",
        "      #print (f\"labelValues: {labelValues[l]} predictions: {predictions[1][l]}\")\n",
        "      if (labelValues[l] == 1. and predictions[1][l] > threshold):\n",
        "        print (f\"1  OK Actual label: {index2label[l]} predicted with score: {format(predictions[1][l], '.6f')}\")\n",
        "        countOK = countOK + 1\n",
        "      elif (labelValues[l] == 1. and predictions[1][l] <= threshold):\n",
        "        print (f\"2 NOK Actual label: {index2label[l]} predicted with score: {format(predictions[1][l], '.6f')}\")\n",
        "        countNOK = countNOK + 1\n",
        "      elif (labelValues[l] == 0. and predictions[1][l] > threshold):\n",
        "        print (f\"3 NOK Actual label: {index2label[l]} predicted with score: {format(predictions[1][l], '.6f')}\")\n",
        "        #countNOK = countNOK + 1\n",
        "      #elif (labelValues[l] == 0. and predictions[1][l] <= threshold):\n",
        "        #print (f\"4  OK Actual label: {index2label[l]} NOT predicted with score: {format(predictions[1][l], '.6f')}\")\n",
        "        #countOK = countOK + 1\n",
        "\n",
        "    print ()\n",
        "\n",
        "  sumCount = countNOK+countOK\n",
        "  print (f\"OK + NOK: {format(sumCount, '3d')}\")\n",
        "  if sumCount > 0:\n",
        "    print (f\"      OK: {format(countOK, '3d')} ->  True: {format(((countOK/sumCount)*100), '.3f')}%\")\n",
        "    print (f\"     NOK: {format(countNOK, '3d')} -> False: {format(((countNOK/sumCount)*100), '.3f')}%\")\n"
      ],
      "execution_count": null,
      "outputs": [
        {
          "output_type": "stream",
          "text": [
            "\n",
            "2 NOK Actual label: Politik predicted with score: 0.010641\n",
            "\n",
            "2 NOK Actual label: Sport predicted with score: 0.229327\n",
            "\n",
            "2 NOK Actual label: Politik predicted with score: 0.010641\n",
            "\n",
            "2 NOK Actual label: Sport predicted with score: 0.229327\n",
            "\n",
            "2 NOK Actual label: Sport predicted with score: 0.229327\n",
            "\n",
            "2 NOK Actual label: Sport predicted with score: 0.229327\n",
            "\n",
            "2 NOK Actual label: Sport predicted with score: 0.229327\n",
            "\n",
            "2 NOK Actual label: Sport predicted with score: 0.229327\n",
            "\n",
            "2 NOK Actual label: Sport predicted with score: 0.229327\n",
            "\n",
            "2 NOK Actual label: Sport predicted with score: 0.229327\n",
            "\n",
            "2 NOK Actual label: Politik predicted with score: 0.010641\n",
            "\n",
            "2 NOK Actual label: Politik predicted with score: 0.010641\n",
            "\n",
            "2 NOK Actual label: Panorama predicted with score: 0.000065\n",
            "\n",
            "2 NOK Actual label: Sport predicted with score: 0.229327\n",
            "\n",
            "2 NOK Actual label: Sport predicted with score: 0.229327\n",
            "\n",
            "2 NOK Actual label: Sport predicted with score: 0.229327\n",
            "\n",
            "2 NOK Actual label: Politik predicted with score: 0.010641\n",
            "\n",
            "2 NOK Actual label: Politik predicted with score: 0.010641\n",
            "\n",
            "2 NOK Actual label: Politik predicted with score: 0.010641\n",
            "\n",
            "2 NOK Actual label: Politik predicted with score: 0.010641\n",
            "\n",
            "2 NOK Actual label: Politik predicted with score: 0.010641\n",
            "\n",
            "2 NOK Actual label: Panorama predicted with score: 0.000065\n",
            "\n",
            "2 NOK Actual label: Sport predicted with score: 0.229327\n",
            "\n",
            "2 NOK Actual label: Panorama predicted with score: 0.000065\n",
            "\n",
            "2 NOK Actual label: Wirtschaft predicted with score: 0.018421\n",
            "\n",
            "2 NOK Actual label: Wirtschaft predicted with score: 0.018421\n",
            "\n",
            "2 NOK Actual label: Politik predicted with score: 0.010641\n",
            "\n",
            "2 NOK Actual label: Politik predicted with score: 0.010641\n",
            "\n",
            "2 NOK Actual label: Sport predicted with score: 0.229327\n",
            "\n",
            "2 NOK Actual label: Wirtschaft predicted with score: 0.018421\n",
            "\n",
            "2 NOK Actual label: Politik predicted with score: 0.010641\n",
            "\n",
            "2 NOK Actual label: Wirtschaft predicted with score: 0.018421\n",
            "\n",
            "OK + NOK:  32\n",
            "      OK:   0 ->  True: 0.000%\n",
            "     NOK:  32 -> False: 100.000%\n"
          ],
          "name": "stdout"
        }
      ]
    },
    {
      "cell_type": "code",
      "metadata": {
        "id": "UHAlfZfjPbvX",
        "colab": {
          "base_uri": "https://localhost:8080/"
        },
        "outputId": "5ca07e3d-88e0-4e9e-9b51-954b5b406ae3"
      },
      "source": [
        "!ls training_1/ -lh"
      ],
      "execution_count": null,
      "outputs": [
        {
          "output_type": "stream",
          "text": [
            "total 539M\n",
            "-rw-r--r-- 1 root root   71 Mar 19 12:42 checkpoint\n",
            "-rw-r--r-- 1 root root 539M Mar 19 12:42 cp.ckpt.data-00000-of-00001\n",
            "-rw-r--r-- 1 root root 8.9K Mar 19 12:42 cp.ckpt.index\n"
          ],
          "name": "stdout"
        }
      ]
    },
    {
      "cell_type": "code",
      "metadata": {
        "id": "JdAPngiza2hE"
      },
      "source": [
        ""
      ],
      "execution_count": null,
      "outputs": []
    }
  ]
}