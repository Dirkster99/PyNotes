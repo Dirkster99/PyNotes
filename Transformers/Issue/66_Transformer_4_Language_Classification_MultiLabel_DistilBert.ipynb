{
  "nbformat": 4,
  "nbformat_minor": 0,
  "metadata": {
    "colab": {
      "name": "66 Transformer 4 Language Classification MultiLabel DistilBert.ipynb",
      "provenance": [],
      "collapsed_sections": [],
      "authorship_tag": "ABX9TyNk4U/nk0e1JAjAvnHy3L2F",
      "include_colab_link": true
    },
    "kernelspec": {
      "name": "python3",
      "display_name": "Python 3"
    },
    "accelerator": "GPU"
  },
  "cells": [
    {
      "cell_type": "markdown",
      "metadata": {
        "id": "view-in-github",
        "colab_type": "text"
      },
      "source": [
        "<a href=\"https://colab.research.google.com/github/Dirkster99/PyNotes/blob/master/Transformers/Issue/66_Transformer_4_Language_Classification_MultiLabel_DistilBert.ipynb\" target=\"_parent\"><img src=\"https://colab.research.google.com/assets/colab-badge.svg\" alt=\"Open In Colab\"/></a>"
      ]
    },
    {
      "cell_type": "code",
      "metadata": {
        "colab": {
          "base_uri": "https://localhost:8080/"
        },
        "id": "DDLTyAriDDLg",
        "outputId": "c5046709-c36d-425b-964a-0a3185c5738b"
      },
      "source": [
        "!pip install transformers==4.2.1"
      ],
      "execution_count": null,
      "outputs": [
        {
          "output_type": "stream",
          "text": [
            "Requirement already satisfied: transformers==4.2.1 in /usr/local/lib/python3.7/dist-packages (4.2.1)\n",
            "Requirement already satisfied: filelock in /usr/local/lib/python3.7/dist-packages (from transformers==4.2.1) (3.0.12)\n",
            "Requirement already satisfied: numpy in /usr/local/lib/python3.7/dist-packages (from transformers==4.2.1) (1.19.5)\n",
            "Requirement already satisfied: sacremoses in /usr/local/lib/python3.7/dist-packages (from transformers==4.2.1) (0.0.43)\n",
            "Requirement already satisfied: importlib-metadata; python_version < \"3.8\" in /usr/local/lib/python3.7/dist-packages (from transformers==4.2.1) (3.7.2)\n",
            "Requirement already satisfied: tqdm>=4.27 in /usr/local/lib/python3.7/dist-packages (from transformers==4.2.1) (4.41.1)\n",
            "Requirement already satisfied: regex!=2019.12.17 in /usr/local/lib/python3.7/dist-packages (from transformers==4.2.1) (2019.12.20)\n",
            "Requirement already satisfied: tokenizers==0.9.4 in /usr/local/lib/python3.7/dist-packages (from transformers==4.2.1) (0.9.4)\n",
            "Requirement already satisfied: packaging in /usr/local/lib/python3.7/dist-packages (from transformers==4.2.1) (20.9)\n",
            "Requirement already satisfied: requests in /usr/local/lib/python3.7/dist-packages (from transformers==4.2.1) (2.23.0)\n",
            "Requirement already satisfied: joblib in /usr/local/lib/python3.7/dist-packages (from sacremoses->transformers==4.2.1) (1.0.1)\n",
            "Requirement already satisfied: click in /usr/local/lib/python3.7/dist-packages (from sacremoses->transformers==4.2.1) (7.1.2)\n",
            "Requirement already satisfied: six in /usr/local/lib/python3.7/dist-packages (from sacremoses->transformers==4.2.1) (1.15.0)\n",
            "Requirement already satisfied: typing-extensions>=3.6.4; python_version < \"3.8\" in /usr/local/lib/python3.7/dist-packages (from importlib-metadata; python_version < \"3.8\"->transformers==4.2.1) (3.7.4.3)\n",
            "Requirement already satisfied: zipp>=0.5 in /usr/local/lib/python3.7/dist-packages (from importlib-metadata; python_version < \"3.8\"->transformers==4.2.1) (3.4.1)\n",
            "Requirement already satisfied: pyparsing>=2.0.2 in /usr/local/lib/python3.7/dist-packages (from packaging->transformers==4.2.1) (2.4.7)\n",
            "Requirement already satisfied: chardet<4,>=3.0.2 in /usr/local/lib/python3.7/dist-packages (from requests->transformers==4.2.1) (3.0.4)\n",
            "Requirement already satisfied: idna<3,>=2.5 in /usr/local/lib/python3.7/dist-packages (from requests->transformers==4.2.1) (2.10)\n",
            "Requirement already satisfied: certifi>=2017.4.17 in /usr/local/lib/python3.7/dist-packages (from requests->transformers==4.2.1) (2020.12.5)\n",
            "Requirement already satisfied: urllib3!=1.25.0,!=1.25.1,<1.26,>=1.21.1 in /usr/local/lib/python3.7/dist-packages (from requests->transformers==4.2.1) (1.24.3)\n"
          ],
          "name": "stdout"
        }
      ]
    },
    {
      "cell_type": "markdown",
      "metadata": {
        "id": "ia9W-HzFDaub"
      },
      "source": [
        "# Six steps towards building a Language Classification Model with Transformers and TensorFlow 2.0"
      ]
    },
    {
      "cell_type": "markdown",
      "metadata": {
        "id": "WJql3VeHD7Nn"
      },
      "source": [
        "Original Author: James Briggs\n",
        "https://www.youtube.com/watch?v=GYDFBfx8Ts8"
      ]
    },
    {
      "cell_type": "markdown",
      "metadata": {
        "id": "WzlppuarDagD"
      },
      "source": [
        "## Download and Preprocessing Data"
      ]
    },
    {
      "cell_type": "markdown",
      "metadata": {
        "id": "hJBaeUYAE4qd"
      },
      "source": [
        "### 20 News Groups Categorization Dataset"
      ]
    },
    {
      "cell_type": "code",
      "metadata": {
        "colab": {
          "base_uri": "https://localhost:8080/"
        },
        "id": "UXw-mgikFgen",
        "outputId": "88c91c34-7683-4da5-8ca3-28e5a0a90eb1"
      },
      "source": [
        "from google.colab import drive\n",
        "drive.mount('/gdrive')"
      ],
      "execution_count": null,
      "outputs": [
        {
          "output_type": "stream",
          "text": [
            "Drive already mounted at /gdrive; to attempt to forcibly remount, call drive.mount(\"/gdrive\", force_remount=True).\n"
          ],
          "name": "stdout"
        }
      ]
    },
    {
      "cell_type": "code",
      "metadata": {
        "colab": {
          "base_uri": "https://localhost:8080/"
        },
        "id": "lNCAQBZpFgep",
        "outputId": "ce3b2676-eb2f-4c58-caad-a4c59daaa1b9"
      },
      "source": [
        "dataPath = '/gdrive/MyDrive/Colab Notebooks/MultiLabelText/ToxicComments/jigsaw_toxicity_pred/'\n",
        "!ls {dataPath.replace(' ', '\\ ')}  -lha"
      ],
      "execution_count": null,
      "outputs": [
        {
          "output_type": "stream",
          "text": [
            "total 246M\n",
            "-rw------- 1 root root 58M Mar  5 09:36 test.csv\n",
            "-rw------- 1 root root 58M Mar  5 10:49 test_labels.csv\n",
            "-rw------- 1 root root 66M Mar  5 09:36 train_conv.csv\n",
            "-rw------- 1 root root 66M Mar  5 09:36 train.csv\n",
            "-rw------- 1 root root   0 Mar  5 11:13 train.csv.lock\n"
          ],
          "name": "stdout"
        }
      ]
    },
    {
      "cell_type": "code",
      "metadata": {
        "colab": {
          "base_uri": "https://localhost:8080/",
          "height": 206
        },
        "id": "dhrAIBSQGG1X",
        "outputId": "eb725768-5fe7-4551-e598-15eb1ae25580"
      },
      "source": [
        "import pandas as pd\n",
        "df = pd.read_csv(dataPath + 'train.csv')\n",
        "df.head()"
      ],
      "execution_count": null,
      "outputs": [
        {
          "output_type": "execute_result",
          "data": {
            "text/html": [
              "<div>\n",
              "<style scoped>\n",
              "    .dataframe tbody tr th:only-of-type {\n",
              "        vertical-align: middle;\n",
              "    }\n",
              "\n",
              "    .dataframe tbody tr th {\n",
              "        vertical-align: top;\n",
              "    }\n",
              "\n",
              "    .dataframe thead th {\n",
              "        text-align: right;\n",
              "    }\n",
              "</style>\n",
              "<table border=\"1\" class=\"dataframe\">\n",
              "  <thead>\n",
              "    <tr style=\"text-align: right;\">\n",
              "      <th></th>\n",
              "      <th>id</th>\n",
              "      <th>comment_text</th>\n",
              "      <th>toxic</th>\n",
              "      <th>severe_toxic</th>\n",
              "      <th>obscene</th>\n",
              "      <th>threat</th>\n",
              "      <th>insult</th>\n",
              "      <th>identity_hate</th>\n",
              "    </tr>\n",
              "  </thead>\n",
              "  <tbody>\n",
              "    <tr>\n",
              "      <th>0</th>\n",
              "      <td>0000997932d777bf</td>\n",
              "      <td>Explanation\\nWhy the edits made under my usern...</td>\n",
              "      <td>0</td>\n",
              "      <td>0</td>\n",
              "      <td>0</td>\n",
              "      <td>0</td>\n",
              "      <td>0</td>\n",
              "      <td>0</td>\n",
              "    </tr>\n",
              "    <tr>\n",
              "      <th>1</th>\n",
              "      <td>000103f0d9cfb60f</td>\n",
              "      <td>D'aww! He matches this background colour I'm s...</td>\n",
              "      <td>0</td>\n",
              "      <td>0</td>\n",
              "      <td>0</td>\n",
              "      <td>0</td>\n",
              "      <td>0</td>\n",
              "      <td>0</td>\n",
              "    </tr>\n",
              "    <tr>\n",
              "      <th>2</th>\n",
              "      <td>000113f07ec002fd</td>\n",
              "      <td>Hey man, I'm really not trying to edit war. It...</td>\n",
              "      <td>0</td>\n",
              "      <td>0</td>\n",
              "      <td>0</td>\n",
              "      <td>0</td>\n",
              "      <td>0</td>\n",
              "      <td>0</td>\n",
              "    </tr>\n",
              "    <tr>\n",
              "      <th>3</th>\n",
              "      <td>0001b41b1c6bb37e</td>\n",
              "      <td>\"\\nMore\\nI can't make any real suggestions on ...</td>\n",
              "      <td>0</td>\n",
              "      <td>0</td>\n",
              "      <td>0</td>\n",
              "      <td>0</td>\n",
              "      <td>0</td>\n",
              "      <td>0</td>\n",
              "    </tr>\n",
              "    <tr>\n",
              "      <th>4</th>\n",
              "      <td>0001d958c54c6e35</td>\n",
              "      <td>You, sir, are my hero. Any chance you remember...</td>\n",
              "      <td>0</td>\n",
              "      <td>0</td>\n",
              "      <td>0</td>\n",
              "      <td>0</td>\n",
              "      <td>0</td>\n",
              "      <td>0</td>\n",
              "    </tr>\n",
              "  </tbody>\n",
              "</table>\n",
              "</div>"
            ],
            "text/plain": [
              "                 id  ... identity_hate\n",
              "0  0000997932d777bf  ...             0\n",
              "1  000103f0d9cfb60f  ...             0\n",
              "2  000113f07ec002fd  ...             0\n",
              "3  0001b41b1c6bb37e  ...             0\n",
              "4  0001d958c54c6e35  ...             0\n",
              "\n",
              "[5 rows x 8 columns]"
            ]
          },
          "metadata": {
            "tags": []
          },
          "execution_count": 95
        }
      ]
    },
    {
      "cell_type": "code",
      "metadata": {
        "colab": {
          "base_uri": "https://localhost:8080/"
        },
        "id": "HNtGxIt3qvnD",
        "outputId": "d2534439-82ee-4a88-c8df-262ad1bbe346"
      },
      "source": [
        "df.count()"
      ],
      "execution_count": null,
      "outputs": [
        {
          "output_type": "execute_result",
          "data": {
            "text/plain": [
              "id               159571\n",
              "comment_text     159571\n",
              "toxic            159571\n",
              "severe_toxic     159571\n",
              "obscene          159571\n",
              "threat           159571\n",
              "insult           159571\n",
              "identity_hate    159571\n",
              "dtype: int64"
            ]
          },
          "metadata": {
            "tags": []
          },
          "execution_count": 96
        }
      ]
    },
    {
      "cell_type": "code",
      "metadata": {
        "id": "2qcoaog5qvdA"
      },
      "source": [
        "# drop rows without a single flag in it\n",
        "indexNames = df[ (df['toxic'] == 0)\n",
        "               & (df['severe_toxic'] == 0)\n",
        "               & (df['obscene'] == 0)\n",
        "               & (df['threat'] == 0)\n",
        "               & (df['insult'] == 0)\n",
        "               & (df['identity_hate'] == 0)\n",
        "                ].index\n",
        "df.drop(indexNames , inplace=True)"
      ],
      "execution_count": null,
      "outputs": []
    },
    {
      "cell_type": "code",
      "metadata": {
        "colab": {
          "base_uri": "https://localhost:8080/"
        },
        "id": "vfCbL1wPqvSW",
        "outputId": "92789017-b323-4300-adce-2928945db5d6"
      },
      "source": [
        "df.count()"
      ],
      "execution_count": null,
      "outputs": [
        {
          "output_type": "execute_result",
          "data": {
            "text/plain": [
              "id               16225\n",
              "comment_text     16225\n",
              "toxic            16225\n",
              "severe_toxic     16225\n",
              "obscene          16225\n",
              "threat           16225\n",
              "insult           16225\n",
              "identity_hate    16225\n",
              "dtype: int64"
            ]
          },
          "metadata": {
            "tags": []
          },
          "execution_count": 98
        }
      ]
    },
    {
      "cell_type": "markdown",
      "metadata": {
        "id": "8uPNZPqDrH1M"
      },
      "source": [
        "### Build Label Dictionaries"
      ]
    },
    {
      "cell_type": "code",
      "metadata": {
        "colab": {
          "base_uri": "https://localhost:8080/"
        },
        "id": "LgHYZu7eLtw2",
        "outputId": "d68fdbe4-e531-4e06-f898-b04fc69f09cd"
      },
      "source": [
        "labelHeadings = ['toxic', 'severe_toxic', 'obscene', 'threat', 'insult', 'identity_hate']\n",
        "labelHeadings"
      ],
      "execution_count": null,
      "outputs": [
        {
          "output_type": "execute_result",
          "data": {
            "text/plain": [
              "['toxic', 'severe_toxic', 'obscene', 'threat', 'insult', 'identity_hate']"
            ]
          },
          "metadata": {
            "tags": []
          },
          "execution_count": 99
        }
      ]
    },
    {
      "cell_type": "code",
      "metadata": {
        "colab": {
          "base_uri": "https://localhost:8080/"
        },
        "id": "wr0hn-tOmk2y",
        "outputId": "04fb7e31-b985-4004-ac08-2cdaa0a0037b"
      },
      "source": [
        "label2index = {}\n",
        "index2label = {}\n",
        "for i in range(len(labelHeadings)):\n",
        "  label2index[labelHeadings[i]] = i\n",
        "  index2label[i] = labelHeadings[i]\n",
        "\n",
        "#print (f\"labelHeadings: {labelHeadings}\")\n",
        "#print (f\" label2index: {label2index}\")\n",
        "#print (f\" index2label: {index2label}\")\n",
        "\n",
        "for i in range(len(labelHeadings)):\n",
        "  print (f\"{i} -> {label2index[labelHeadings[i]]}, labelHeaders: {labelHeadings[i]} -> {index2label[i]}\")"
      ],
      "execution_count": null,
      "outputs": [
        {
          "output_type": "stream",
          "text": [
            "0 -> 0, labelHeaders: toxic -> toxic\n",
            "1 -> 1, labelHeaders: severe_toxic -> severe_toxic\n",
            "2 -> 2, labelHeaders: obscene -> obscene\n",
            "3 -> 3, labelHeaders: threat -> threat\n",
            "4 -> 4, labelHeaders: insult -> insult\n",
            "5 -> 5, labelHeaders: identity_hate -> identity_hate\n"
          ],
          "name": "stdout"
        }
      ]
    },
    {
      "cell_type": "markdown",
      "metadata": {
        "id": "HWWipMHJL_2a"
      },
      "source": [
        "### Multi-Hot Encode Labels and Reformate for text and lables columns"
      ]
    },
    {
      "cell_type": "code",
      "metadata": {
        "id": "6v3xrVWFJFsn"
      },
      "source": [
        "df.drop(['id'], inplace=True, axis=1)"
      ],
      "execution_count": null,
      "outputs": []
    },
    {
      "cell_type": "code",
      "metadata": {
        "id": "krbzy5vJJe_n"
      },
      "source": [
        "df.rename(columns = {'comment_text' : 'text'}, inplace=True)"
      ],
      "execution_count": null,
      "outputs": []
    },
    {
      "cell_type": "code",
      "metadata": {
        "id": "ZhFPwJjbKpPX"
      },
      "source": [
        "# Hot Encode 6 Label columns (starting at 2nd column 'till and of DataFrame)\n",
        "# into 1 column with a hot encoded list of values\n",
        "df['labels'] = df.iloc[:, 1:].values.tolist()"
      ],
      "execution_count": null,
      "outputs": []
    },
    {
      "cell_type": "code",
      "metadata": {
        "id": "JfAeBWBnLX7-"
      },
      "source": [
        "for label in labelHeadings:\n",
        "  df.drop(axis=1, columns=label, inplace=True)"
      ],
      "execution_count": null,
      "outputs": []
    },
    {
      "cell_type": "code",
      "metadata": {
        "colab": {
          "base_uri": "https://localhost:8080/",
          "height": 206
        },
        "id": "LCQvkVqpLQwN",
        "outputId": "e20bc47b-b3ef-424c-8093-956b1f45fa8c"
      },
      "source": [
        "df.head()"
      ],
      "execution_count": null,
      "outputs": [
        {
          "output_type": "execute_result",
          "data": {
            "text/html": [
              "<div>\n",
              "<style scoped>\n",
              "    .dataframe tbody tr th:only-of-type {\n",
              "        vertical-align: middle;\n",
              "    }\n",
              "\n",
              "    .dataframe tbody tr th {\n",
              "        vertical-align: top;\n",
              "    }\n",
              "\n",
              "    .dataframe thead th {\n",
              "        text-align: right;\n",
              "    }\n",
              "</style>\n",
              "<table border=\"1\" class=\"dataframe\">\n",
              "  <thead>\n",
              "    <tr style=\"text-align: right;\">\n",
              "      <th></th>\n",
              "      <th>text</th>\n",
              "      <th>labels</th>\n",
              "    </tr>\n",
              "  </thead>\n",
              "  <tbody>\n",
              "    <tr>\n",
              "      <th>6</th>\n",
              "      <td>COCKSUCKER BEFORE YOU PISS AROUND ON MY WORK</td>\n",
              "      <td>[1, 1, 1, 0, 1, 0]</td>\n",
              "    </tr>\n",
              "    <tr>\n",
              "      <th>12</th>\n",
              "      <td>Hey... what is it..\\n@ | talk .\\nWhat is it......</td>\n",
              "      <td>[1, 0, 0, 0, 0, 0]</td>\n",
              "    </tr>\n",
              "    <tr>\n",
              "      <th>16</th>\n",
              "      <td>Bye! \\n\\nDon't look, come or think of comming ...</td>\n",
              "      <td>[1, 0, 0, 0, 0, 0]</td>\n",
              "    </tr>\n",
              "    <tr>\n",
              "      <th>42</th>\n",
              "      <td>You are gay or antisemmitian? \\n\\nArchangel WH...</td>\n",
              "      <td>[1, 0, 1, 0, 1, 1]</td>\n",
              "    </tr>\n",
              "    <tr>\n",
              "      <th>43</th>\n",
              "      <td>FUCK YOUR FILTHY MOTHER IN THE ASS, DRY!</td>\n",
              "      <td>[1, 0, 1, 0, 1, 0]</td>\n",
              "    </tr>\n",
              "  </tbody>\n",
              "</table>\n",
              "</div>"
            ],
            "text/plain": [
              "                                                 text              labels\n",
              "6        COCKSUCKER BEFORE YOU PISS AROUND ON MY WORK  [1, 1, 1, 0, 1, 0]\n",
              "12  Hey... what is it..\\n@ | talk .\\nWhat is it......  [1, 0, 0, 0, 0, 0]\n",
              "16  Bye! \\n\\nDon't look, come or think of comming ...  [1, 0, 0, 0, 0, 0]\n",
              "42  You are gay or antisemmitian? \\n\\nArchangel WH...  [1, 0, 1, 0, 1, 1]\n",
              "43           FUCK YOUR FILTHY MOTHER IN THE ASS, DRY!  [1, 0, 1, 0, 1, 0]"
            ]
          },
          "metadata": {
            "tags": []
          },
          "execution_count": 105
        }
      ]
    },
    {
      "cell_type": "code",
      "metadata": {
        "colab": {
          "base_uri": "https://localhost:8080/"
        },
        "id": "UpI1pKfuNXcq",
        "outputId": "cd5977c5-9308-4df6-e446-15a1cce9df4e"
      },
      "source": [
        "df.count()"
      ],
      "execution_count": null,
      "outputs": [
        {
          "output_type": "execute_result",
          "data": {
            "text/plain": [
              "text      16225\n",
              "labels    16225\n",
              "dtype: int64"
            ]
          },
          "metadata": {
            "tags": []
          },
          "execution_count": 106
        }
      ]
    },
    {
      "cell_type": "markdown",
      "metadata": {
        "id": "442PUgfzOSuB"
      },
      "source": [
        "### Multi Hot Encode a continues label value (eg. 0-4) as array"
      ]
    },
    {
      "cell_type": "code",
      "metadata": {
        "colab": {
          "base_uri": "https://localhost:8080/"
        },
        "id": "fbVA5DmexHBs",
        "outputId": "7f2b47a3-5dda-4968-9967-b3d4366e1733"
      },
      "source": [
        "arr = df['labels'].values\n",
        "print ( f\"arr.size: {arr.size}\")\n",
        "print ( f\" arr.max: {arr.max()}\")\n",
        "print ( f\" arr.max: {len(arr.max())}\")"
      ],
      "execution_count": null,
      "outputs": [
        {
          "output_type": "stream",
          "text": [
            "arr.size: 16225\n",
            " arr.max: [1, 1, 1, 1, 1, 1]\n",
            " arr.max: 6\n"
          ],
          "name": "stdout"
        }
      ]
    },
    {
      "cell_type": "code",
      "metadata": {
        "colab": {
          "base_uri": "https://localhost:8080/"
        },
        "id": "6hjc604iwti6",
        "outputId": "af2c5405-312d-47eb-ac2f-3f282f3adf9e"
      },
      "source": [
        "import numpy as np\n",
        "labels = np.zeros((arr.size, len(arr.max())), dtype=float)\n",
        "print (f\"labels shape: {labels.shape}\")\n",
        "print (f\"labels:\\n{labels}\")"
      ],
      "execution_count": null,
      "outputs": [
        {
          "output_type": "stream",
          "text": [
            "labels shape: (16225, 6)\n",
            "labels:\n",
            "[[0. 0. 0. 0. 0. 0.]\n",
            " [0. 0. 0. 0. 0. 0.]\n",
            " [0. 0. 0. 0. 0. 0.]\n",
            " ...\n",
            " [0. 0. 0. 0. 0. 0.]\n",
            " [0. 0. 0. 0. 0. 0.]\n",
            " [0. 0. 0. 0. 0. 0.]]\n"
          ],
          "name": "stdout"
        }
      ]
    },
    {
      "cell_type": "code",
      "metadata": {
        "id": "84GqEL20y2r3"
      },
      "source": [
        "for i in range(len(labels)):\n",
        "  labels[i] = np.array(arr[i])"
      ],
      "execution_count": null,
      "outputs": []
    },
    {
      "cell_type": "code",
      "metadata": {
        "colab": {
          "base_uri": "https://localhost:8080/"
        },
        "id": "_21gt4mOy2ej",
        "outputId": "09a17202-c870-432e-ac8c-e2c615bdc34d"
      },
      "source": [
        "labels"
      ],
      "execution_count": null,
      "outputs": [
        {
          "output_type": "execute_result",
          "data": {
            "text/plain": [
              "array([[1., 1., 1., 0., 1., 0.],\n",
              "       [1., 0., 0., 0., 0., 0.],\n",
              "       [1., 0., 0., 0., 0., 0.],\n",
              "       ...,\n",
              "       [1., 0., 1., 0., 1., 0.],\n",
              "       [1., 0., 0., 0., 1., 0.],\n",
              "       [1., 0., 1., 0., 1., 0.]])"
            ]
          },
          "metadata": {
            "tags": []
          },
          "execution_count": 110
        }
      ]
    },
    {
      "cell_type": "code",
      "metadata": {
        "colab": {
          "base_uri": "https://localhost:8080/"
        },
        "id": "JA_9YivAOQrr",
        "outputId": "d1f3ac47-ade4-4ab5-e40c-e1ebd9280f09"
      },
      "source": [
        "print (f\"array size: {labels.size},\\narray: {labels}\")"
      ],
      "execution_count": null,
      "outputs": [
        {
          "output_type": "stream",
          "text": [
            "array size: 97350,\n",
            "array: [[1. 1. 1. 0. 1. 0.]\n",
            " [1. 0. 0. 0. 0. 0.]\n",
            " [1. 0. 0. 0. 0. 0.]\n",
            " ...\n",
            " [1. 0. 1. 0. 1. 0.]\n",
            " [1. 0. 0. 0. 1. 0.]\n",
            " [1. 0. 1. 0. 1. 0.]]\n"
          ],
          "name": "stdout"
        }
      ]
    },
    {
      "cell_type": "code",
      "metadata": {
        "colab": {
          "base_uri": "https://localhost:8080/"
        },
        "id": "BdGu7JNHs7CL",
        "outputId": "1a704288-cf8b-483d-eaaa-e588f03c7131"
      },
      "source": [
        "for i in range(0, 20):\n",
        "  print(labels[i])"
      ],
      "execution_count": null,
      "outputs": [
        {
          "output_type": "stream",
          "text": [
            "[1. 1. 1. 0. 1. 0.]\n",
            "[1. 0. 0. 0. 0. 0.]\n",
            "[1. 0. 0. 0. 0. 0.]\n",
            "[1. 0. 1. 0. 1. 1.]\n",
            "[1. 0. 1. 0. 1. 0.]\n",
            "[1. 0. 0. 0. 0. 0.]\n",
            "[1. 0. 1. 0. 0. 0.]\n",
            "[1. 1. 1. 0. 1. 0.]\n",
            "[1. 0. 1. 0. 1. 0.]\n",
            "[1. 0. 1. 0. 0. 0.]\n",
            "[1. 0. 0. 0. 0. 0.]\n",
            "[1. 0. 1. 0. 1. 0.]\n",
            "[1. 0. 0. 1. 0. 0.]\n",
            "[1. 0. 0. 0. 1. 0.]\n",
            "[1. 0. 1. 0. 1. 1.]\n",
            "[1. 0. 0. 0. 0. 0.]\n",
            "[1. 0. 0. 0. 0. 0.]\n",
            "[1. 0. 0. 0. 1. 0.]\n",
            "[1. 0. 1. 1. 1. 1.]\n",
            "[0. 0. 0. 0. 1. 0.]\n"
          ],
          "name": "stdout"
        }
      ]
    },
    {
      "cell_type": "markdown",
      "metadata": {
        "id": "5RF_cC0RRtjU"
      },
      "source": [
        "### Encode Text Input Data"
      ]
    },
    {
      "cell_type": "code",
      "metadata": {
        "id": "5wU3RStSNpjl"
      },
      "source": [
        "seqlen = df['text'].apply(lambda x: len(x.split()))"
      ],
      "execution_count": null,
      "outputs": []
    },
    {
      "cell_type": "code",
      "metadata": {
        "id": "e5itCuhEN76l"
      },
      "source": [
        "import seaborn as sns\n",
        "import matplotlib as plt"
      ],
      "execution_count": null,
      "outputs": []
    },
    {
      "cell_type": "code",
      "metadata": {
        "colab": {
          "base_uri": "https://localhost:8080/",
          "height": 387
        },
        "id": "m_XxlXwqOJyQ",
        "outputId": "67f63d0f-cce9-4959-d690-1e805811c5ab"
      },
      "source": [
        "# Do a distribution plot on the seqquence length's of the given text\n",
        "sns.set_style('darkgrid')\n",
        "plt.figure.Figure(figsize=(16,10))\n",
        "sns.displot(seqlen)"
      ],
      "execution_count": null,
      "outputs": [
        {
          "output_type": "execute_result",
          "data": {
            "text/plain": [
              "<seaborn.axisgrid.FacetGrid at 0x7f9bd9ad3c10>"
            ]
          },
          "metadata": {
            "tags": []
          },
          "execution_count": 115
        },
        {
          "output_type": "display_data",
          "data": {
            "image/png": "[encoded data removed]",
            "text/plain": [
              "<Figure size 360x360 with 1 Axes>"
            ]
          },
          "metadata": {
            "tags": []
          }
        }
      ]
    },
    {
      "cell_type": "code",
      "metadata": {
        "id": "CrGoSQ3HQogV"
      },
      "source": [
        "# Maximum length of the text we are going to train and predict here\n",
        "SEQ_LEN = 100"
      ],
      "execution_count": null,
      "outputs": []
    },
    {
      "cell_type": "markdown",
      "metadata": {
        "id": "AwphaSBgDaPF"
      },
      "source": [
        "## Encode Input Data\n",
        "Encode the Input-Tensor and the Attention Tensor."
      ]
    },
    {
      "cell_type": "code",
      "metadata": {
        "colab": {
          "base_uri": "https://localhost:8080/"
        },
        "id": "GPNMuA4OY7r_",
        "outputId": "3aa43e17-34b4-446d-c8cd-e6078b1de302"
      },
      "source": [
        "modelPath = '/gdrive/MyDrive/Colab Notebooks/Transformers/LocalModelUsage/distilbert-base-multilingual-cased/'\n",
        "!ls {modelPath.replace(' ', '\\ ')} -lha"
      ],
      "execution_count": null,
      "outputs": [
        {
          "output_type": "stream",
          "text": [
            "total 1.3G\n",
            "-rw------- 1 root root 1.3G Mar  8 18:56  distilbert-base-multilingual-cased.zip\n",
            "-rw------- 1 root root 9.8K Mar  8 18:57 'Model Download Save.ipynb'\n",
            "-rw------- 1 root root 102K Mar  8 19:17 'Model Load.ipynb'\n"
          ],
          "name": "stdout"
        }
      ]
    },
    {
      "cell_type": "code",
      "metadata": {
        "colab": {
          "base_uri": "https://localhost:8080/"
        },
        "id": "_824XdfiZQra",
        "outputId": "3abc0ddf-7335-4e8b-c8b1-ddd2b912c621"
      },
      "source": [
        "!unzip {(modelPath+'distilbert-base-multilingual-cased.zip').replace(' ', '\\ ')} -d localModel"
      ],
      "execution_count": null,
      "outputs": [
        {
          "output_type": "stream",
          "text": [
            "Archive:  /gdrive/MyDrive/Colab Notebooks/Transformers/LocalModelUsage/distilbert-base-multilingual-cased/distilbert-base-multilingual-cased.zip\n",
            "replace localModel/distilbert-base-multilingual-cased/config.json? [y]es, [n]o, [A]ll, [N]one, [r]ename: A\n",
            "  inflating: localModel/distilbert-base-multilingual-cased/config.json  \n",
            "  inflating: localModel/distilbert-base-multilingual-cased/pytorch_model.bin  A\n",
            "\n",
            "  inflating: localModel/distilbert-base-multilingual-cased/README.md  \n",
            "  inflating: localModel/distilbert-base-multilingual-cased/tf_model.h5  \n",
            " extracting: localModel/distilbert-base-multilingual-cased/tokenizer_config.json  \n",
            "  inflating: localModel/distilbert-base-multilingual-cased/tokenizer.json  \n",
            "  inflating: localModel/distilbert-base-multilingual-cased/vocab.txt  \n"
          ],
          "name": "stdout"
        }
      ]
    },
    {
      "cell_type": "code",
      "metadata": {
        "id": "K1ZOtg_fRA9E"
      },
      "source": [
        "from transformers import DistilBertTokenizer\n",
        "tranformersPreTrainedModelName = 'localModel/distilbert-base-multilingual-cased/'\n",
        "tokenizer = DistilBertTokenizer.from_pretrained(tranformersPreTrainedModelName) "
      ],
      "execution_count": null,
      "outputs": []
    },
    {
      "cell_type": "code",
      "metadata": {
        "id": "A-K1gSSpR7J-"
      },
      "source": [
        "tokens = tokenizer.encode_plus('Hello World'\n",
        "                               ,max_length = SEQ_LEN          # Using text with this max length\n",
        "                               ,truncation=True               # truncate any text longer than max_length\n",
        "                               ,padding='max_length'          # padd text that is smaller than max_length\n",
        "                               ,add_special_tokens=True       # add special tokens for start, end of sentence, unknown, and mask tokens\n",
        "                               ,return_token_type_ids = False # do not return ids for types of tokens\n",
        "                               ,return_attention_mask = True\n",
        "                               ,return_tensors='tf')"
      ],
      "execution_count": null,
      "outputs": []
    },
    {
      "cell_type": "code",
      "metadata": {
        "colab": {
          "base_uri": "https://localhost:8080/"
        },
        "id": "4aftNX-1R7GR",
        "outputId": "e67e54e2-e045-43cf-c6ff-721e24862bee"
      },
      "source": [
        "# Outputs 2 tensors named 'input_ids' & 'attention_mask'\n",
        "# The values 101 and 102 are start and end of sentence identifiers\n",
        "# while 7592 & 2088 are tokens for 'Hello World'\n",
        "#\n",
        "# Attention Mask tells Bert which tokens to pay attention to and which to ompletely ignore\n",
        "print (tokens)"
      ],
      "execution_count": null,
      "outputs": [
        {
          "output_type": "stream",
          "text": [
            "{'input_ids': <tf.Tensor: shape=(1, 100), dtype=int32, numpy=\n",
            "array([[  101, 31178, 10315,   102,     0,     0,     0,     0,     0,\n",
            "            0,     0,     0,     0,     0,     0,     0,     0,     0,\n",
            "            0,     0,     0,     0,     0,     0,     0,     0,     0,\n",
            "            0,     0,     0,     0,     0,     0,     0,     0,     0,\n",
            "            0,     0,     0,     0,     0,     0,     0,     0,     0,\n",
            "            0,     0,     0,     0,     0,     0,     0,     0,     0,\n",
            "            0,     0,     0,     0,     0,     0,     0,     0,     0,\n",
            "            0,     0,     0,     0,     0,     0,     0,     0,     0,\n",
            "            0,     0,     0,     0,     0,     0,     0,     0,     0,\n",
            "            0,     0,     0,     0,     0,     0,     0,     0,     0,\n",
            "            0,     0,     0,     0,     0,     0,     0,     0,     0,\n",
            "            0]], dtype=int32)>, 'attention_mask': <tf.Tensor: shape=(1, 100), dtype=int32, numpy=\n",
            "array([[1, 1, 1, 1, 0, 0, 0, 0, 0, 0, 0, 0, 0, 0, 0, 0, 0, 0, 0, 0, 0, 0,\n",
            "        0, 0, 0, 0, 0, 0, 0, 0, 0, 0, 0, 0, 0, 0, 0, 0, 0, 0, 0, 0, 0, 0,\n",
            "        0, 0, 0, 0, 0, 0, 0, 0, 0, 0, 0, 0, 0, 0, 0, 0, 0, 0, 0, 0, 0, 0,\n",
            "        0, 0, 0, 0, 0, 0, 0, 0, 0, 0, 0, 0, 0, 0, 0, 0, 0, 0, 0, 0, 0, 0,\n",
            "        0, 0, 0, 0, 0, 0, 0, 0, 0, 0, 0, 0]], dtype=int32)>}\n"
          ],
          "name": "stdout"
        }
      ]
    },
    {
      "cell_type": "markdown",
      "metadata": {
        "id": "Z6KLOlPgWfGU"
      },
      "source": [
        "### Tokenize each Sample in Dataset"
      ]
    },
    {
      "cell_type": "code",
      "metadata": {
        "id": "KbEgLLWER63t"
      },
      "source": [
        "import numpy as np\n",
        "# initialize numpy arrays for Token-Ids and Attention Masks\n",
        "Xids = np.zeros((len(df), SEQ_LEN), dtype=float)\n",
        "Xmask = np.zeros((len(df), SEQ_LEN), dtype=float)"
      ],
      "execution_count": null,
      "outputs": []
    },
    {
      "cell_type": "code",
      "metadata": {
        "colab": {
          "base_uri": "https://localhost:8080/"
        },
        "id": "1ywb5Pi_XGEw",
        "outputId": "435f96fe-e6fd-4b59-885d-5b4298d594e2"
      },
      "source": [
        "Xids.shape"
      ],
      "execution_count": null,
      "outputs": [
        {
          "output_type": "execute_result",
          "data": {
            "text/plain": [
              "(16225, 100)"
            ]
          },
          "metadata": {
            "tags": []
          },
          "execution_count": 123
        }
      ]
    },
    {
      "cell_type": "code",
      "metadata": {
        "id": "xNLh-Ir3XGA1"
      },
      "source": [
        "# Use a simple for loop to encode all data points\n",
        "for i, sequence in enumerate(df['text']):\n",
        "  tokens = tokenizer.encode_plus(sequence\n",
        "                               ,max_length = SEQ_LEN          # Using text with this max length\n",
        "                               ,truncation=True               # truncate any text longer than max_length\n",
        "                               ,padding='max_length'          # padd text that is smaller than max_length\n",
        "                               ,add_special_tokens=True       # add special tokens for start, end of sentence, unknown, and mask tokens\n",
        "                               ,return_token_type_ids = False # do not return ids for types of tokens\n",
        "                               ,return_attention_mask = True\n",
        "                               ,return_tensors='tf')\n",
        "  \n",
        "  Xids[i, :], Xmask[i, :] = tokens['input_ids'], tokens['attention_mask']"
      ],
      "execution_count": null,
      "outputs": []
    },
    {
      "cell_type": "code",
      "metadata": {
        "colab": {
          "base_uri": "https://localhost:8080/"
        },
        "id": "R8VQM0QXXF9Z",
        "outputId": "e8b0a4bc-d521-44d8-de29-afb1dffeeecd"
      },
      "source": [
        "# Array of tokenized Ids\n",
        "Xids"
      ],
      "execution_count": null,
      "outputs": [
        {
          "output_type": "execute_result",
          "data": {
            "text/plain": [
              "array([[  101., 32992., 10858., ...,     0.,     0.,     0.],\n",
              "       [  101., 35936.,   119., ...,   119.,   119.,   102.],\n",
              "       [  101., 58776.,   106., ...,     0.,     0.,     0.],\n",
              "       ...,\n",
              "       [  101., 13554., 11357., ...,     0.,     0.,     0.],\n",
              "       [  101.,   107., 35936., ..., 10105., 60083.,   102.],\n",
              "       [  101., 10111.,   177., ...,     0.,     0.,     0.]])"
            ]
          },
          "metadata": {
            "tags": []
          },
          "execution_count": 125
        }
      ]
    },
    {
      "cell_type": "code",
      "metadata": {
        "colab": {
          "base_uri": "https://localhost:8080/"
        },
        "id": "A0G0SwXjXF6B",
        "outputId": "257c4b90-d82e-43d6-f9fa-8af0427276b3"
      },
      "source": [
        "# Array of attaention masks\n",
        "Xmask"
      ],
      "execution_count": null,
      "outputs": [
        {
          "output_type": "execute_result",
          "data": {
            "text/plain": [
              "array([[1., 1., 1., ..., 0., 0., 0.],\n",
              "       [1., 1., 1., ..., 1., 1., 1.],\n",
              "       [1., 1., 1., ..., 0., 0., 0.],\n",
              "       ...,\n",
              "       [1., 1., 1., ..., 0., 0., 0.],\n",
              "       [1., 1., 1., ..., 1., 1., 1.],\n",
              "       [1., 1., 1., ..., 0., 0., 0.]])"
            ]
          },
          "metadata": {
            "tags": []
          },
          "execution_count": 126
        }
      ]
    },
    {
      "cell_type": "code",
      "metadata": {
        "colab": {
          "base_uri": "https://localhost:8080/"
        },
        "id": "vufEVi2bvZEZ",
        "outputId": "acd1e573-22dd-4790-8479-03908d183954"
      },
      "source": [
        "print (type(Xids))\n",
        "print (type(Xmask))\n",
        "print (type(labels))\n",
        "print (type(labels[0]))"
      ],
      "execution_count": null,
      "outputs": [
        {
          "output_type": "stream",
          "text": [
            "<class 'numpy.ndarray'>\n",
            "<class 'numpy.ndarray'>\n",
            "<class 'numpy.ndarray'>\n",
            "<class 'numpy.ndarray'>\n"
          ],
          "name": "stdout"
        }
      ]
    },
    {
      "cell_type": "markdown",
      "metadata": {
        "id": "qsjMLMySfoz1"
      },
      "source": [
        "### Save Tokenized Data"
      ]
    },
    {
      "cell_type": "code",
      "metadata": {
        "id": "P2q54RC2fslb"
      },
      "source": [
        "with open ('xids.npy', 'wb') as f:\n",
        "  np.save(f, Xids)\n",
        "with open ('xmask.npy', 'wb') as f:\n",
        "  np.save(f, Xmask)\n",
        "with open ('labels.npy', 'wb') as f:\n",
        "  np.save(f, labels)\n",
        "\n",
        "del df, Xids, Xmask, labels\n",
        "df = None"
      ],
      "execution_count": null,
      "outputs": []
    },
    {
      "cell_type": "markdown",
      "metadata": {
        "id": "j_HLCQX0DaTO"
      },
      "source": [
        "## Ininitializing Hugging Face Tokenizer and Model"
      ]
    },
    {
      "cell_type": "markdown",
      "metadata": {
        "id": "DwRV4SBIgSqF"
      },
      "source": [
        "### Load Tokenized Data"
      ]
    },
    {
      "cell_type": "code",
      "metadata": {
        "id": "eAe-0GqEgRml"
      },
      "source": [
        "import numpy as np\n",
        "with open ('xids.npy', 'rb') as f:\n",
        "  Xids = np.load(f)\n",
        "with open ('xmask.npy', 'rb') as f:\n",
        "  Xmask = np.load(f)\n",
        "with open ('labels.npy', 'rb') as f:\n",
        "  labels = np.load(f)"
      ],
      "execution_count": null,
      "outputs": []
    },
    {
      "cell_type": "code",
      "metadata": {
        "colab": {
          "base_uri": "https://localhost:8080/"
        },
        "id": "Fb0tM3ANgpJk",
        "outputId": "038b58a2-f931-4bd8-a8c0-2a9e6f852163"
      },
      "source": [
        "Xids"
      ],
      "execution_count": null,
      "outputs": [
        {
          "output_type": "execute_result",
          "data": {
            "text/plain": [
              "array([[  101., 32992., 10858., ...,     0.,     0.,     0.],\n",
              "       [  101., 35936.,   119., ...,   119.,   119.,   102.],\n",
              "       [  101., 58776.,   106., ...,     0.,     0.,     0.],\n",
              "       ...,\n",
              "       [  101., 13554., 11357., ...,     0.,     0.,     0.],\n",
              "       [  101.,   107., 35936., ..., 10105., 60083.,   102.],\n",
              "       [  101., 10111.,   177., ...,     0.,     0.,     0.]])"
            ]
          },
          "metadata": {
            "tags": []
          },
          "execution_count": 130
        }
      ]
    },
    {
      "cell_type": "code",
      "metadata": {
        "colab": {
          "base_uri": "https://localhost:8080/"
        },
        "id": "UtJBX_YdVVXq",
        "outputId": "c3e57de9-613a-4d23-cc01-77bad0b4d33d"
      },
      "source": [
        "for i in range(0, 20):\n",
        "  print(labels[i])"
      ],
      "execution_count": null,
      "outputs": [
        {
          "output_type": "stream",
          "text": [
            "[1. 1. 1. 0. 1. 0.]\n",
            "[1. 0. 0. 0. 0. 0.]\n",
            "[1. 0. 0. 0. 0. 0.]\n",
            "[1. 0. 1. 0. 1. 1.]\n",
            "[1. 0. 1. 0. 1. 0.]\n",
            "[1. 0. 0. 0. 0. 0.]\n",
            "[1. 0. 1. 0. 0. 0.]\n",
            "[1. 1. 1. 0. 1. 0.]\n",
            "[1. 0. 1. 0. 1. 0.]\n",
            "[1. 0. 1. 0. 0. 0.]\n",
            "[1. 0. 0. 0. 0. 0.]\n",
            "[1. 0. 1. 0. 1. 0.]\n",
            "[1. 0. 0. 1. 0. 0.]\n",
            "[1. 0. 0. 0. 1. 0.]\n",
            "[1. 0. 1. 0. 1. 1.]\n",
            "[1. 0. 0. 0. 0. 0.]\n",
            "[1. 0. 0. 0. 0. 0.]\n",
            "[1. 0. 0. 0. 1. 0.]\n",
            "[1. 0. 1. 1. 1. 1.]\n",
            "[0. 0. 0. 0. 1. 0.]\n"
          ],
          "name": "stdout"
        }
      ]
    },
    {
      "cell_type": "code",
      "metadata": {
        "id": "BYBiX8dEg1e5"
      },
      "source": [
        "import tensorflow as tf\n",
        "#tf.config.list_physical_device('GPU')"
      ],
      "execution_count": null,
      "outputs": []
    },
    {
      "cell_type": "code",
      "metadata": {
        "id": "iy2rA94VhcmM"
      },
      "source": [
        "# TensorFlow expects input and target labels as an input tuple\n",
        "# Bert expects a dictionary of 'input_ids' and 'attention_mask' as input\n",
        "# So, lets create the dataset object\n",
        "# This creates a generator for a tuple of input tokens, attention_masks, and target labels\n",
        "dataset = tf.data.Dataset.from_tensor_slices((Xids, Xmask, labels))"
      ],
      "execution_count": null,
      "outputs": []
    },
    {
      "cell_type": "code",
      "metadata": {
        "colab": {
          "base_uri": "https://localhost:8080/"
        },
        "id": "6uWyj0KkieMk",
        "outputId": "bcd016ca-963a-4b87-fcba-f088236256c7"
      },
      "source": [
        "# View a single row in the dataset\n",
        "print (dataset.take(1))\n",
        "print ()\n",
        "for i in dataset.take(1):\n",
        "  print (i)"
      ],
      "execution_count": null,
      "outputs": [
        {
          "output_type": "stream",
          "text": [
            "<TakeDataset shapes: ((100,), (100,), (6,)), types: (tf.float64, tf.float64, tf.float64)>\n",
            "\n",
            "(<tf.Tensor: shape=(100,), dtype=float64, numpy=\n",
            "array([   101.,  32992.,  10858.,  62828.,  93089.,  11733.,  24093.,\n",
            "        46291.,  11565.,  42622.,  11259., 100061.,    153.,  19088.,\n",
            "        10731.,  50884.,  11403.,  69849.,  11490.,  49339.,  94592.,\n",
            "          160.,  42622.,  11733.,    102.,      0.,      0.,      0.,\n",
            "            0.,      0.,      0.,      0.,      0.,      0.,      0.,\n",
            "            0.,      0.,      0.,      0.,      0.,      0.,      0.,\n",
            "            0.,      0.,      0.,      0.,      0.,      0.,      0.,\n",
            "            0.,      0.,      0.,      0.,      0.,      0.,      0.,\n",
            "            0.,      0.,      0.,      0.,      0.,      0.,      0.,\n",
            "            0.,      0.,      0.,      0.,      0.,      0.,      0.,\n",
            "            0.,      0.,      0.,      0.,      0.,      0.,      0.,\n",
            "            0.,      0.,      0.,      0.,      0.,      0.,      0.,\n",
            "            0.,      0.,      0.,      0.,      0.,      0.,      0.,\n",
            "            0.,      0.,      0.,      0.,      0.,      0.,      0.,\n",
            "            0.,      0.])>, <tf.Tensor: shape=(100,), dtype=float64, numpy=\n",
            "array([1., 1., 1., 1., 1., 1., 1., 1., 1., 1., 1., 1., 1., 1., 1., 1., 1.,\n",
            "       1., 1., 1., 1., 1., 1., 1., 1., 0., 0., 0., 0., 0., 0., 0., 0., 0.,\n",
            "       0., 0., 0., 0., 0., 0., 0., 0., 0., 0., 0., 0., 0., 0., 0., 0., 0.,\n",
            "       0., 0., 0., 0., 0., 0., 0., 0., 0., 0., 0., 0., 0., 0., 0., 0., 0.,\n",
            "       0., 0., 0., 0., 0., 0., 0., 0., 0., 0., 0., 0., 0., 0., 0., 0., 0.,\n",
            "       0., 0., 0., 0., 0., 0., 0., 0., 0., 0., 0., 0., 0., 0., 0.])>, <tf.Tensor: shape=(6,), dtype=float64, numpy=array([1., 1., 1., 0., 1., 0.])>)\n"
          ],
          "name": "stdout"
        }
      ]
    },
    {
      "cell_type": "code",
      "metadata": {
        "id": "ZobIL-pRjEjd"
      },
      "source": [
        "# minute 21:55\n",
        "# TensorFlow Bert model expects our input in a Tuple format containing:\n",
        "# 1) 'input_ids' and 'attention_mask' in a Dictionary and\n",
        "# 2) a label as 2nd part of the tupel\n",
        "def map_func(input_ids, masks, labels):\n",
        "  return {'input_ids': input_ids, 'attention_mask': masks}, labels"
      ],
      "execution_count": null,
      "outputs": []
    },
    {
      "cell_type": "code",
      "metadata": {
        "id": "j-_aS7QR4eS9"
      },
      "source": [
        "# we can use the dataset map function to apply this format\n",
        "dataset = dataset.map(map_func)"
      ],
      "execution_count": null,
      "outputs": []
    },
    {
      "cell_type": "code",
      "metadata": {
        "colab": {
          "base_uri": "https://localhost:8080/"
        },
        "id": "0lMhzkmz4vtO",
        "outputId": "58871c6c-f75c-47c1-f59f-142130d9eb67"
      },
      "source": [
        "# View a single row in the dataset\n",
        "print (dataset.take(1))\n",
        "print ()\n",
        "for i in dataset.take(1):\n",
        "  print (i)"
      ],
      "execution_count": null,
      "outputs": [
        {
          "output_type": "stream",
          "text": [
            "<TakeDataset shapes: ({input_ids: (100,), attention_mask: (100,)}, (6,)), types: ({input_ids: tf.float64, attention_mask: tf.float64}, tf.float64)>\n",
            "\n",
            "({'input_ids': <tf.Tensor: shape=(100,), dtype=float64, numpy=\n",
            "array([   101.,  32992.,  10858.,  62828.,  93089.,  11733.,  24093.,\n",
            "        46291.,  11565.,  42622.,  11259., 100061.,    153.,  19088.,\n",
            "        10731.,  50884.,  11403.,  69849.,  11490.,  49339.,  94592.,\n",
            "          160.,  42622.,  11733.,    102.,      0.,      0.,      0.,\n",
            "            0.,      0.,      0.,      0.,      0.,      0.,      0.,\n",
            "            0.,      0.,      0.,      0.,      0.,      0.,      0.,\n",
            "            0.,      0.,      0.,      0.,      0.,      0.,      0.,\n",
            "            0.,      0.,      0.,      0.,      0.,      0.,      0.,\n",
            "            0.,      0.,      0.,      0.,      0.,      0.,      0.,\n",
            "            0.,      0.,      0.,      0.,      0.,      0.,      0.,\n",
            "            0.,      0.,      0.,      0.,      0.,      0.,      0.,\n",
            "            0.,      0.,      0.,      0.,      0.,      0.,      0.,\n",
            "            0.,      0.,      0.,      0.,      0.,      0.,      0.,\n",
            "            0.,      0.,      0.,      0.,      0.,      0.,      0.,\n",
            "            0.,      0.])>, 'attention_mask': <tf.Tensor: shape=(100,), dtype=float64, numpy=\n",
            "array([1., 1., 1., 1., 1., 1., 1., 1., 1., 1., 1., 1., 1., 1., 1., 1., 1.,\n",
            "       1., 1., 1., 1., 1., 1., 1., 1., 0., 0., 0., 0., 0., 0., 0., 0., 0.,\n",
            "       0., 0., 0., 0., 0., 0., 0., 0., 0., 0., 0., 0., 0., 0., 0., 0., 0.,\n",
            "       0., 0., 0., 0., 0., 0., 0., 0., 0., 0., 0., 0., 0., 0., 0., 0., 0.,\n",
            "       0., 0., 0., 0., 0., 0., 0., 0., 0., 0., 0., 0., 0., 0., 0., 0., 0.,\n",
            "       0., 0., 0., 0., 0., 0., 0., 0., 0., 0., 0., 0., 0., 0., 0.])>}, <tf.Tensor: shape=(6,), dtype=float64, numpy=array([1., 1., 1., 0., 1., 0.])>)\n"
          ],
          "name": "stdout"
        }
      ]
    },
    {
      "cell_type": "code",
      "metadata": {
        "id": "sMkNHhxq47Ze"
      },
      "source": [
        "# SHuffle and Bach Dataset\n",
        "#dataset = dataset.shuffle(1000).batch(32)"
      ],
      "execution_count": null,
      "outputs": []
    },
    {
      "cell_type": "code",
      "metadata": {
        "colab": {
          "base_uri": "https://localhost:8080/"
        },
        "id": "00o88BAS5YKh",
        "outputId": "e777e2ad-5fe6-4026-a4fe-211fe3b9a4e6"
      },
      "source": [
        "# Get the total size of dataset now that it is batched\n",
        "#\n",
        "# the dataset object is a generator object so we cannot take the length of it directly\n",
        "# thus, we have to convert it into a list\n",
        "# \n",
        "# Do not do this with a very large dataset\n",
        "#\n",
        "DS_LEN = len(list(dataset))\n",
        "DS_LEN"
      ],
      "execution_count": null,
      "outputs": [
        {
          "output_type": "execute_result",
          "data": {
            "text/plain": [
              "16225"
            ]
          },
          "metadata": {
            "tags": []
          },
          "execution_count": 139
        }
      ]
    },
    {
      "cell_type": "code",
      "metadata": {
        "colab": {
          "base_uri": "https://localhost:8080/"
        },
        "id": "WK8di-Y45rrq",
        "outputId": "3f9053e1-0573-47e4-caad-48cc58b30836"
      },
      "source": [
        "print (f\"Alternative Computation for DS_LEN: {len(Xids)/32} -> {round(len(Xids)/32, 0)}\")"
      ],
      "execution_count": null,
      "outputs": [
        {
          "output_type": "stream",
          "text": [
            "Alternative Computation for DS_LEN: 507.03125 -> 507.0\n"
          ],
          "name": "stdout"
        }
      ]
    },
    {
      "cell_type": "code",
      "metadata": {
        "id": "SSB_T17u834a"
      },
      "source": [
        "SPLIT = .8\n",
        "\n",
        "# take or skip the specified number of batches to split by factor\n",
        "test = dataset.skip(round(DS_LEN * SPLIT)).batch(32)\n",
        "trainevalu = dataset.take(round(DS_LEN * SPLIT))\n",
        "\n",
        "DS_LEN2 = len(list(trainevalu))\n",
        "\n",
        "train = trainevalu.take(round(DS_LEN2 * SPLIT)).shuffle(1000).batch(32)\n",
        "evalu = trainevalu.skip(round(DS_LEN2 * SPLIT)).shuffle(1000).batch(32)\n",
        "\n",
        "del dataset"
      ],
      "execution_count": null,
      "outputs": []
    },
    {
      "cell_type": "code",
      "metadata": {
        "colab": {
          "base_uri": "https://localhost:8080/"
        },
        "id": "df1CJecNWimq",
        "outputId": "c66e84a1-7bbb-423d-cf47-beae94c408c5"
      },
      "source": [
        "print (f\"test data: {len(test)}\")\n",
        "print (f\"train data: {len(train)}, train evalu data: {len(evalu)}\")"
      ],
      "execution_count": null,
      "outputs": [
        {
          "output_type": "stream",
          "text": [
            "test data: 102\n",
            "train data: 325, train evalu data: 82\n"
          ],
          "name": "stdout"
        }
      ]
    },
    {
      "cell_type": "markdown",
      "metadata": {
        "id": "wTZP1_udDaF_"
      },
      "source": [
        "## Build Model"
      ]
    },
    {
      "cell_type": "code",
      "metadata": {
        "id": "lLCtrOdj9PKj"
      },
      "source": [
        "from transformers import DistilBertConfig\n",
        "bertConfig = DistilBertConfig.from_pretrained(tranformersPreTrainedModelName\n",
        "                                        , output_hidden_states=True\n",
        "                                        , num_lables=6\n",
        "                                        , max_length=SEQ_LEN\n",
        "                                        , label2id=label2index\n",
        "                                        , id2label=index2label\n",
        "                                        )"
      ],
      "execution_count": null,
      "outputs": []
    },
    {
      "cell_type": "code",
      "metadata": {
        "colab": {
          "base_uri": "https://localhost:8080/"
        },
        "id": "WPGGoaJ39tjz",
        "outputId": "d7f2519e-b70e-4165-f5e5-7528d1cb712c"
      },
      "source": [
        "from transformers import TFDistilBertForSequenceClassification\n",
        "bert = TFDistilBertForSequenceClassification.from_pretrained(tranformersPreTrainedModelName, config=bertConfig)"
      ],
      "execution_count": null,
      "outputs": [
        {
          "output_type": "stream",
          "text": [
            "Some layers from the model checkpoint at localModel/distilbert-base-multilingual-cased/ were not used when initializing TFDistilBertForSequenceClassification: ['activation_13', 'vocab_transform', 'vocab_layer_norm', 'vocab_projector']\n",
            "- This IS expected if you are initializing TFDistilBertForSequenceClassification from the checkpoint of a model trained on another task or with another architecture (e.g. initializing a BertForSequenceClassification model from a BertForPreTraining model).\n",
            "- This IS NOT expected if you are initializing TFDistilBertForSequenceClassification from the checkpoint of a model that you expect to be exactly identical (initializing a BertForSequenceClassification model from a BertForSequenceClassification model).\n",
            "Some layers of TFDistilBertForSequenceClassification were not initialized from the model checkpoint at localModel/distilbert-base-multilingual-cased/ and are newly initialized: ['dropout_104', 'pre_classifier', 'classifier']\n",
            "You should probably TRAIN this model on a down-stream task to be able to use it for predictions and inference.\n"
          ],
          "name": "stderr"
        }
      ]
    },
    {
      "cell_type": "code",
      "metadata": {
        "colab": {
          "base_uri": "https://localhost:8080/"
        },
        "id": "IIxfUZuK9DVR",
        "outputId": "c2a9a3ae-0d99-4b2c-fcc8-cdd0ca4cef85"
      },
      "source": [
        "bert.summary()"
      ],
      "execution_count": null,
      "outputs": [
        {
          "output_type": "stream",
          "text": [
            "Model: \"tf_distil_bert_for_sequence_classification_4\"\n",
            "_________________________________________________________________\n",
            "Layer (type)                 Output Shape              Param #   \n",
            "=================================================================\n",
            "distilbert (TFDistilBertMain multiple                  134734080 \n",
            "_________________________________________________________________\n",
            "pre_classifier (Dense)       multiple                  590592    \n",
            "_________________________________________________________________\n",
            "classifier (Dense)           multiple                  4614      \n",
            "_________________________________________________________________\n",
            "dropout_104 (Dropout)        multiple                  0         \n",
            "=================================================================\n",
            "Total params: 135,329,286\n",
            "Trainable params: 135,329,286\n",
            "Non-trainable params: 0\n",
            "_________________________________________________________________\n"
          ],
          "name": "stdout"
        }
      ]
    },
    {
      "cell_type": "code",
      "metadata": {
        "id": "ZHiT7m1qR1en"
      },
      "source": [
        "# build 2 input layers to Bert Model where name needs to match the input values in the dataset\n",
        "input_ids = tf.keras.Input(shape=(SEQ_LEN,), name = 'input_ids', dtype='int32')\n",
        "mask = tf.keras.Input(shape=(SEQ_LEN,), name = 'attention_mask', dtype='int32')\n",
        "\n",
        "embedings = bert.layers[0](input_ids, attention_mask=mask)[0]\n",
        "\n",
        "#Original Author: Ferry Djaja\n",
        "#https://djajafer.medium.com/multi-class-text-classification-with-keras-and-lstm-4c5525bef592\n",
        "X = tf.keras.layers.Dropout(0.5)(embedings)\n",
        "X = tf.keras.layers.Bidirectional(tf.keras.layers.LSTM(256))(X)\n",
        "y = tf.keras.layers.Dense(len(label2index), activation='sigmoid', name='outputs')(X)\n",
        "\n",
        "model = tf.keras.Model(inputs=[input_ids,mask], outputs=y)\n",
        "\n",
        "# Freeze the Bert model by freezing this layer to make training less of an overkill in terms of required performance\n",
        "model.layers[2].trainable = False"
      ],
      "execution_count": null,
      "outputs": []
    },
    {
      "cell_type": "code",
      "metadata": {
        "colab": {
          "base_uri": "https://localhost:8080/"
        },
        "id": "h28OcgiNR1Ya",
        "outputId": "de0d4d0b-41aa-41c6-df27-63e3923e3ef5"
      },
      "source": [
        "model.summary()"
      ],
      "execution_count": null,
      "outputs": [
        {
          "output_type": "stream",
          "text": [
            "Model: \"model_5\"\n",
            "__________________________________________________________________________________________________\n",
            "Layer (type)                    Output Shape         Param #     Connected to                     \n",
            "==================================================================================================\n",
            "input_ids (InputLayer)          [(None, 100)]        0                                            \n",
            "__________________________________________________________________________________________________\n",
            "attention_mask (InputLayer)     [(None, 100)]        0                                            \n",
            "__________________________________________________________________________________________________\n",
            "distilbert (TFDistilBertMainLay TFBaseModelOutput(la 134734080   input_ids[0][0]                  \n",
            "                                                                 attention_mask[0][0]             \n",
            "__________________________________________________________________________________________________\n",
            "dropout_105 (Dropout)           (None, 100, 768)     0           distilbert[0][7]                 \n",
            "__________________________________________________________________________________________________\n",
            "bidirectional_5 (Bidirectional) (None, 512)          2099200     dropout_105[0][0]                \n",
            "__________________________________________________________________________________________________\n",
            "outputs (Dense)                 (None, 6)            3078        bidirectional_5[0][0]            \n",
            "==================================================================================================\n",
            "Total params: 136,836,358\n",
            "Trainable params: 2,102,278\n",
            "Non-trainable params: 134,734,080\n",
            "__________________________________________________________________________________________________\n"
          ],
          "name": "stdout"
        }
      ]
    },
    {
      "cell_type": "code",
      "metadata": {
        "id": "YJsrgwyO9tcF"
      },
      "source": [
        "#\n",
        "# https://stackoverflow.com/questions/52125924/why-does-sigmoid-crossentropy-of-keras-tensorflow-have-low-precision\n",
        "# keras with custom loss function\n",
        "def customLoss(target, output):\n",
        "    # if not from_logits:\n",
        "    #     # transform back to logits\n",
        "    #     _epsilon = _to_tensor(epsilon(), output.dtype.base_dtype)\n",
        "    #     output = tf.clip_by_value(output, _epsilon, 1 - _epsilon)\n",
        "    #     output = tf.log(output / (1 - output))\n",
        "    output = tf.math.log(output / (1 - output))\n",
        "    return tf.nn.sigmoid_cross_entropy_with_logits(labels=target, logits=output)\n",
        "\n",
        "optimizer = tf.keras.optimizers.Adam(lr=1e-3)\n",
        "model.compile(\n",
        "    loss=customLoss,\n",
        "    optimizer=optimizer,\n",
        "    metrics=['accuracy']\n",
        "    )\n",
        "\n",
        "#loss=tf.keras.losses.BinaryCrossentropy()\n",
        "#optimizer = tf.keras.optimizers.Adam()  #lr=1e-3,  lr=0.001, decay=1e-6\n",
        "#model.compile(\n",
        "#    loss=loss,\n",
        "#    optimizer=optimizer,\n",
        "#    metrics=['accuracy']\n",
        "#    )"
      ],
      "execution_count": null,
      "outputs": []
    },
    {
      "cell_type": "code",
      "metadata": {
        "colab": {
          "base_uri": "https://localhost:8080/"
        },
        "id": "_eK-NlO99DR3",
        "outputId": "bd5658d3-0b98-4e21-9eb7-22c261cfe278"
      },
      "source": [
        "from timeit import default_timer as timer\n",
        "from datetime import timedelta\n",
        "import os\n",
        "\n",
        "start = timer()\n",
        "\n",
        "checkpoint_path = \"training_1/cp.ckpt\"\n",
        "checkpoint_dir = os.path.dirname(checkpoint_path)\n",
        "\n",
        "cp_callback = tf.keras.callbacks.ModelCheckpoint(checkpoint_path,\n",
        "                                                 save_weights_only=True,\n",
        "                                                 verbose=1)\n",
        "\n",
        "callbacks = [\n",
        "    tf.keras.callbacks.EarlyStopping(patience=5, monitor='val_loss'),\n",
        "    tf.keras.callbacks.TensorBoard(log_dir='./logs'),\n",
        "    cp_callback\n",
        "]\n",
        "\n",
        "history = model.fit(train\n",
        "                    , validation_data=evalu\n",
        "                    , callbacks=callbacks, verbose=1\n",
        "                    , epochs=32)\n",
        "\n",
        "end = timer()\n",
        "print(timedelta(seconds=end-start))"
      ],
      "execution_count": null,
      "outputs": [
        {
          "output_type": "stream",
          "text": [
            "Epoch 1/32\n",
            "325/325 [==============================] - 63s 171ms/step - loss: 0.3678 - accuracy: 0.9280 - val_loss: 0.3136 - val_accuracy: 0.9357\n",
            "\n",
            "Epoch 00001: saving model to training_1/cp.ckpt\n",
            "Epoch 2/32\n",
            "325/325 [==============================] - 52s 160ms/step - loss: 0.3116 - accuracy: 0.9422 - val_loss: 0.3069 - val_accuracy: 0.9307\n",
            "\n",
            "Epoch 00002: saving model to training_1/cp.ckpt\n",
            "Epoch 3/32\n",
            "325/325 [==============================] - 52s 161ms/step - loss: 0.2952 - accuracy: 0.9423 - val_loss: 0.3030 - val_accuracy: 0.8775\n",
            "\n",
            "Epoch 00003: saving model to training_1/cp.ckpt\n",
            "Epoch 4/32\n",
            "325/325 [==============================] - 52s 161ms/step - loss: 0.2831 - accuracy: 0.9259 - val_loss: 0.2922 - val_accuracy: 0.9314\n",
            "\n",
            "Epoch 00004: saving model to training_1/cp.ckpt\n",
            "Epoch 5/32\n",
            "325/325 [==============================] - 52s 161ms/step - loss: 0.2754 - accuracy: 0.9299 - val_loss: 0.2986 - val_accuracy: 0.8921\n",
            "\n",
            "Epoch 00005: saving model to training_1/cp.ckpt\n",
            "Epoch 6/32\n",
            "325/325 [==============================] - 52s 161ms/step - loss: 0.2608 - accuracy: 0.9322 - val_loss: 0.2868 - val_accuracy: 0.8825\n",
            "\n",
            "Epoch 00006: saving model to training_1/cp.ckpt\n",
            "Epoch 7/32\n",
            "325/325 [==============================] - 52s 160ms/step - loss: 0.2572 - accuracy: 0.9218 - val_loss: 0.2888 - val_accuracy: 0.8960\n",
            "\n",
            "Epoch 00007: saving model to training_1/cp.ckpt\n",
            "Epoch 8/32\n",
            "325/325 [==============================] - 52s 161ms/step - loss: 0.2439 - accuracy: 0.9242 - val_loss: 0.2937 - val_accuracy: 0.8710\n",
            "\n",
            "Epoch 00008: saving model to training_1/cp.ckpt\n",
            "Epoch 9/32\n",
            "325/325 [==============================] - 52s 160ms/step - loss: 0.2347 - accuracy: 0.9155 - val_loss: 0.2993 - val_accuracy: 0.8590\n",
            "\n",
            "Epoch 00009: saving model to training_1/cp.ckpt\n",
            "Epoch 10/32\n",
            "325/325 [==============================] - 52s 161ms/step - loss: 0.2227 - accuracy: 0.9101 - val_loss: 0.3090 - val_accuracy: 0.8964\n",
            "\n",
            "Epoch 00010: saving model to training_1/cp.ckpt\n",
            "Epoch 11/32\n",
            "325/325 [==============================] - 52s 160ms/step - loss: 0.2135 - accuracy: 0.9093 - val_loss: 0.3117 - val_accuracy: 0.8648\n",
            "\n",
            "Epoch 00011: saving model to training_1/cp.ckpt\n",
            "0:10:06.862979\n"
          ],
          "name": "stdout"
        }
      ]
    },
    {
      "cell_type": "code",
      "metadata": {
        "id": "cSJCpE6k--De",
        "colab": {
          "base_uri": "https://localhost:8080/",
          "height": 541
        },
        "outputId": "ec878677-fcfd-431d-b767-4914d6ae4974"
      },
      "source": [
        "import matplotlib.pyplot as plt\n",
        "\n",
        "def plot_graphs(history, string):\n",
        "  plt.plot(history.history[string])\n",
        "  plt.plot(history.history['val_'+string])\n",
        "  plt.xlabel(\"Epochs\")\n",
        "  plt.ylabel(string)\n",
        "  plt.legend([string, 'val_'+string])\n",
        "  plt.show()\n",
        "  \n",
        "plot_graphs(history, \"accuracy\")\n",
        "plot_graphs(history, \"loss\")"
      ],
      "execution_count": null,
      "outputs": [
        {
          "output_type": "display_data",
          "data": {
            "image/png": "[encoded data removed]",
            "text/plain": [
              "<Figure size 432x288 with 1 Axes>"
            ]
          },
          "metadata": {
            "tags": []
          }
        },
        {
          "output_type": "display_data",
          "data": {
            "image/png": "[encoded data removed]",
            "text/plain": [
              "<Figure size 432x288 with 1 Axes>"
            ]
          },
          "metadata": {
            "tags": []
          }
        }
      ]
    },
    {
      "cell_type": "markdown",
      "metadata": {
        "id": "xn9PtEq7Mrfm"
      },
      "source": [
        "## Evaluation"
      ]
    },
    {
      "cell_type": "code",
      "metadata": {
        "id": "ZcmoKARy_BZA",
        "colab": {
          "base_uri": "https://localhost:8080/"
        },
        "outputId": "e49dd252-4c23-4677-eddf-9eef36299985"
      },
      "source": [
        "results = model.evaluate(test, batch_size=32)\n",
        "print(\"test loss, test acc:\", results)"
      ],
      "execution_count": null,
      "outputs": [
        {
          "output_type": "stream",
          "text": [
            "102/102 [==============================] - 12s 114ms/step - loss: 0.3142 - accuracy: 0.8690\n",
            "test loss, test acc: [0.3142384886741638, 0.8690292835235596]\n"
          ],
          "name": "stdout"
        }
      ]
    },
    {
      "cell_type": "code",
      "metadata": {
        "colab": {
          "base_uri": "https://localhost:8080/"
        },
        "id": "eTjP0sqlS000",
        "outputId": "f1beae70-e6b9-465e-b7ce-ade2630b9ab4"
      },
      "source": [
        "# Generate predictions (probabilities -- the output of the last layer)\n",
        "# on new data using `predict`\n",
        "print(\"Generate predictions for 1 sample\")\n",
        "predictions = model.predict(test.take(1))\n",
        "print(\"predictions shape:\", predictions.shape)"
      ],
      "execution_count": null,
      "outputs": [
        {
          "output_type": "stream",
          "text": [
            "Generate predictions for 1 sample\n",
            "predictions shape: (32, 6)\n"
          ],
          "name": "stdout"
        }
      ]
    },
    {
      "cell_type": "code",
      "metadata": {
        "colab": {
          "base_uri": "https://localhost:8080/"
        },
        "id": "O2dB5PVPg2RO",
        "outputId": "29a8aaef-d274-4926-dc60-524697b5bdde"
      },
      "source": [
        "threshold = .6\n",
        "\n",
        "for item in test.take(1):\n",
        "  #print (f\"inputs: {item [0]}\")\n",
        "  print ()\n",
        "  #print (f\"labels: {item [1]}\")\n",
        "  countOK = 0\n",
        "  countNOK = 0\n",
        "\n",
        "  for i in range(len(predictions)):\n",
        "\n",
        "    labelValues = item[1][i].numpy()\n",
        "    for l in range(len(labelValues)):\n",
        "      #print (f\"labelValues: {labelValues[l]} predictions: {predictions[1][l]}\")\n",
        "      if (labelValues[l] == 1. and predictions[1][l] > threshold):\n",
        "        print (f\"1  OK Actual label: {index2label[l]} predicted with score: {format(predictions[1][l], '.6f')}\")\n",
        "        countOK = countOK + 1\n",
        "      elif (labelValues[l] == 1. and predictions[1][l] <= threshold):\n",
        "        print (f\"2 NOK Actual label: {index2label[l]} predicted with score: {format(predictions[1][l], '.6f')}\")\n",
        "        countNOK = countNOK + 1\n",
        "      elif (labelValues[l] == 0. and predictions[1][l] > threshold):\n",
        "        print (f\"3 NOK Actual label: {index2label[l]} predicted with score: {format(predictions[1][l], '.6f')}\")\n",
        "        countNOK = countNOK + 1\n",
        "      elif (labelValues[l] == 0. and predictions[1][l] <= threshold):\n",
        "        #print (f\"4  OK Actual label: {index2label[l]} NOT predicted with score: {format(predictions[1][l], '.6f')}\")\n",
        "        countOK = countOK + 1\n",
        "\n",
        "    print ()\n",
        "\n",
        "  sumCount = countNOK+countOK\n",
        "  print (f\"OK + NOK: {format(sumCount, '3d')}\")\n",
        "  if sumCount > 0:\n",
        "    print (f\"      OK: {format(countOK, '3d')} ->  True: {format(((countOK/sumCount)*100), '.3f')}%\")\n",
        "    print (f\"     NOK: {format(countNOK, '3d')} -> False: {format(((countNOK/sumCount)*100), '.3f')}%\")\n"
      ],
      "execution_count": null,
      "outputs": [
        {
          "output_type": "stream",
          "text": [
            "\n",
            "1  OK Actual label: toxic predicted with score: 0.981155\n",
            "1  OK Actual label: obscene predicted with score: 0.986903\n",
            "1  OK Actual label: insult predicted with score: 0.629928\n",
            "\n",
            "1  OK Actual label: toxic predicted with score: 0.981155\n",
            "1  OK Actual label: obscene predicted with score: 0.986903\n",
            "1  OK Actual label: insult predicted with score: 0.629928\n",
            "\n",
            "1  OK Actual label: toxic predicted with score: 0.981155\n",
            "3 NOK Actual label: obscene predicted with score: 0.986903\n",
            "3 NOK Actual label: insult predicted with score: 0.629928\n",
            "\n",
            "3 NOK Actual label: toxic predicted with score: 0.981155\n",
            "3 NOK Actual label: obscene predicted with score: 0.986903\n",
            "1  OK Actual label: insult predicted with score: 0.629928\n",
            "\n",
            "1  OK Actual label: toxic predicted with score: 0.981155\n",
            "1  OK Actual label: obscene predicted with score: 0.986903\n",
            "3 NOK Actual label: insult predicted with score: 0.629928\n",
            "\n",
            "1  OK Actual label: toxic predicted with score: 0.981155\n",
            "3 NOK Actual label: obscene predicted with score: 0.986903\n",
            "1  OK Actual label: insult predicted with score: 0.629928\n",
            "2 NOK Actual label: identity_hate predicted with score: 0.008361\n",
            "\n",
            "1  OK Actual label: toxic predicted with score: 0.981155\n",
            "3 NOK Actual label: obscene predicted with score: 0.986903\n",
            "3 NOK Actual label: insult predicted with score: 0.629928\n",
            "\n",
            "1  OK Actual label: toxic predicted with score: 0.981155\n",
            "1  OK Actual label: obscene predicted with score: 0.986903\n",
            "1  OK Actual label: insult predicted with score: 0.629928\n",
            "\n",
            "1  OK Actual label: toxic predicted with score: 0.981155\n",
            "2 NOK Actual label: severe_toxic predicted with score: 0.010995\n",
            "1  OK Actual label: obscene predicted with score: 0.986903\n",
            "1  OK Actual label: insult predicted with score: 0.629928\n",
            "\n",
            "1  OK Actual label: toxic predicted with score: 0.981155\n",
            "1  OK Actual label: obscene predicted with score: 0.986903\n",
            "1  OK Actual label: insult predicted with score: 0.629928\n",
            "\n",
            "1  OK Actual label: toxic predicted with score: 0.981155\n",
            "1  OK Actual label: obscene predicted with score: 0.986903\n",
            "3 NOK Actual label: insult predicted with score: 0.629928\n",
            "\n",
            "1  OK Actual label: toxic predicted with score: 0.981155\n",
            "3 NOK Actual label: obscene predicted with score: 0.986903\n",
            "3 NOK Actual label: insult predicted with score: 0.629928\n",
            "\n",
            "1  OK Actual label: toxic predicted with score: 0.981155\n",
            "3 NOK Actual label: obscene predicted with score: 0.986903\n",
            "3 NOK Actual label: insult predicted with score: 0.629928\n",
            "\n",
            "1  OK Actual label: toxic predicted with score: 0.981155\n",
            "3 NOK Actual label: obscene predicted with score: 0.986903\n",
            "3 NOK Actual label: insult predicted with score: 0.629928\n",
            "\n",
            "1  OK Actual label: toxic predicted with score: 0.981155\n",
            "3 NOK Actual label: obscene predicted with score: 0.986903\n",
            "3 NOK Actual label: insult predicted with score: 0.629928\n",
            "\n",
            "1  OK Actual label: toxic predicted with score: 0.981155\n",
            "3 NOK Actual label: obscene predicted with score: 0.986903\n",
            "1  OK Actual label: insult predicted with score: 0.629928\n",
            "\n",
            "1  OK Actual label: toxic predicted with score: 0.981155\n",
            "1  OK Actual label: obscene predicted with score: 0.986903\n",
            "3 NOK Actual label: insult predicted with score: 0.629928\n",
            "\n",
            "3 NOK Actual label: toxic predicted with score: 0.981155\n",
            "3 NOK Actual label: obscene predicted with score: 0.986903\n",
            "1  OK Actual label: insult predicted with score: 0.629928\n",
            "\n",
            "1  OK Actual label: toxic predicted with score: 0.981155\n",
            "3 NOK Actual label: obscene predicted with score: 0.986903\n",
            "3 NOK Actual label: insult predicted with score: 0.629928\n",
            "\n",
            "1  OK Actual label: toxic predicted with score: 0.981155\n",
            "3 NOK Actual label: obscene predicted with score: 0.986903\n",
            "1  OK Actual label: insult predicted with score: 0.629928\n",
            "2 NOK Actual label: identity_hate predicted with score: 0.008361\n",
            "\n",
            "1  OK Actual label: toxic predicted with score: 0.981155\n",
            "3 NOK Actual label: obscene predicted with score: 0.986903\n",
            "3 NOK Actual label: insult predicted with score: 0.629928\n",
            "\n",
            "1  OK Actual label: toxic predicted with score: 0.981155\n",
            "3 NOK Actual label: obscene predicted with score: 0.986903\n",
            "1  OK Actual label: insult predicted with score: 0.629928\n",
            "\n",
            "1  OK Actual label: toxic predicted with score: 0.981155\n",
            "3 NOK Actual label: obscene predicted with score: 0.986903\n",
            "3 NOK Actual label: insult predicted with score: 0.629928\n",
            "\n",
            "1  OK Actual label: toxic predicted with score: 0.981155\n",
            "3 NOK Actual label: obscene predicted with score: 0.986903\n",
            "3 NOK Actual label: insult predicted with score: 0.629928\n",
            "\n",
            "3 NOK Actual label: toxic predicted with score: 0.981155\n",
            "3 NOK Actual label: obscene predicted with score: 0.986903\n",
            "1  OK Actual label: insult predicted with score: 0.629928\n",
            "\n",
            "1  OK Actual label: toxic predicted with score: 0.981155\n",
            "1  OK Actual label: obscene predicted with score: 0.986903\n",
            "1  OK Actual label: insult predicted with score: 0.629928\n",
            "\n",
            "1  OK Actual label: toxic predicted with score: 0.981155\n",
            "1  OK Actual label: obscene predicted with score: 0.986903\n",
            "3 NOK Actual label: insult predicted with score: 0.629928\n",
            "\n",
            "1  OK Actual label: toxic predicted with score: 0.981155\n",
            "3 NOK Actual label: obscene predicted with score: 0.986903\n",
            "1  OK Actual label: insult predicted with score: 0.629928\n",
            "\n",
            "1  OK Actual label: toxic predicted with score: 0.981155\n",
            "3 NOK Actual label: obscene predicted with score: 0.986903\n",
            "3 NOK Actual label: insult predicted with score: 0.629928\n",
            "\n",
            "1  OK Actual label: toxic predicted with score: 0.981155\n",
            "3 NOK Actual label: obscene predicted with score: 0.986903\n",
            "3 NOK Actual label: insult predicted with score: 0.629928\n",
            "\n",
            "1  OK Actual label: toxic predicted with score: 0.981155\n",
            "3 NOK Actual label: obscene predicted with score: 0.986903\n",
            "3 NOK Actual label: insult predicted with score: 0.629928\n",
            "\n",
            "1  OK Actual label: toxic predicted with score: 0.981155\n",
            "3 NOK Actual label: obscene predicted with score: 0.986903\n",
            "3 NOK Actual label: insult predicted with score: 0.629928\n",
            "\n",
            "OK + NOK: 192\n",
            "      OK: 146 ->  True: 76.042%\n",
            "     NOK:  46 -> False: 23.958%\n"
          ],
          "name": "stdout"
        }
      ]
    },
    {
      "cell_type": "code",
      "metadata": {
        "colab": {
          "base_uri": "https://localhost:8080/"
        },
        "id": "UHAlfZfjPbvX",
        "outputId": "d17febee-4d40-4aba-d5be-ff9a5a6273df"
      },
      "source": [
        "!ls training_1/ -lh"
      ],
      "execution_count": null,
      "outputs": [
        {
          "output_type": "stream",
          "text": [
            "total 539M\n",
            "-rw-r--r-- 1 root root   71 Mar 16 23:54 checkpoint\n",
            "-rw-r--r-- 1 root root 539M Mar 16 23:54 cp.ckpt.data-00000-of-00001\n",
            "-rw-r--r-- 1 root root 8.9K Mar 16 23:54 cp.ckpt.index\n"
          ],
          "name": "stdout"
        }
      ]
    },
    {
      "cell_type": "code",
      "metadata": {
        "id": "JdAPngiza2hE"
      },
      "source": [
        ""
      ],
      "execution_count": null,
      "outputs": []
    }
  ]
}