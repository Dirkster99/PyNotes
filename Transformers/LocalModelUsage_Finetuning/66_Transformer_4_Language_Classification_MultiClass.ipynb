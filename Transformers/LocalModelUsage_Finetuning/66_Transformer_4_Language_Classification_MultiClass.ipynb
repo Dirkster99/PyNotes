{
  "nbformat": 4,
  "nbformat_minor": 0,
  "metadata": {
    "colab": {
      "name": "66 Transformer 4 Language Classification MultiClass.ipynb",
      "provenance": [],
      "collapsed_sections": [],
      "authorship_tag": "ABX9TyPIhUxBDq7TgOhyP/tK4UPR",
      "include_colab_link": true
    },
    "kernelspec": {
      "name": "python3",
      "display_name": "Python 3"
    },
    "accelerator": "GPU",
    "widgets": {
      "application/vnd.jupyter.widget-state+json": {
        "e050430edc3344be8224e0e8af7c5569": {
          "model_module": "@jupyter-widgets/controls",
          "model_name": "HBoxModel",
          "state": {
            "_view_name": "HBoxView",
            "_dom_classes": [],
            "_model_name": "HBoxModel",
            "_view_module": "@jupyter-widgets/controls",
            "_model_module_version": "1.5.0",
            "_view_count": null,
            "_view_module_version": "1.5.0",
            "box_style": "",
            "layout": "IPY_MODEL_9051f1f69c374510b9022960f952fcb3",
            "_model_module": "@jupyter-widgets/controls",
            "children": [
              "IPY_MODEL_9bdc36e4a2e140a7ba1f94dad2e6270b",
              "IPY_MODEL_3d548c9ad8ba4add9ab7693e863eb88e"
            ]
          }
        },
        "9051f1f69c374510b9022960f952fcb3": {
          "model_module": "@jupyter-widgets/base",
          "model_name": "LayoutModel",
          "state": {
            "_view_name": "LayoutView",
            "grid_template_rows": null,
            "right": null,
            "justify_content": null,
            "_view_module": "@jupyter-widgets/base",
            "overflow": null,
            "_model_module_version": "1.2.0",
            "_view_count": null,
            "flex_flow": null,
            "width": null,
            "min_width": null,
            "border": null,
            "align_items": null,
            "bottom": null,
            "_model_module": "@jupyter-widgets/base",
            "top": null,
            "grid_column": null,
            "overflow_y": null,
            "overflow_x": null,
            "grid_auto_flow": null,
            "grid_area": null,
            "grid_template_columns": null,
            "flex": null,
            "_model_name": "LayoutModel",
            "justify_items": null,
            "grid_row": null,
            "max_height": null,
            "align_content": null,
            "visibility": null,
            "align_self": null,
            "height": null,
            "min_height": null,
            "padding": null,
            "grid_auto_rows": null,
            "grid_gap": null,
            "max_width": null,
            "order": null,
            "_view_module_version": "1.2.0",
            "grid_template_areas": null,
            "object_position": null,
            "object_fit": null,
            "grid_auto_columns": null,
            "margin": null,
            "display": null,
            "left": null
          }
        },
        "9bdc36e4a2e140a7ba1f94dad2e6270b": {
          "model_module": "@jupyter-widgets/controls",
          "model_name": "FloatProgressModel",
          "state": {
            "_view_name": "ProgressView",
            "style": "IPY_MODEL_424fac7885e9459bb8a7065be95ef698",
            "_dom_classes": [],
            "description": "Downloading: 100%",
            "_model_name": "FloatProgressModel",
            "bar_style": "success",
            "max": 433,
            "_view_module": "@jupyter-widgets/controls",
            "_model_module_version": "1.5.0",
            "value": 433,
            "_view_count": null,
            "_view_module_version": "1.5.0",
            "orientation": "horizontal",
            "min": 0,
            "description_tooltip": null,
            "_model_module": "@jupyter-widgets/controls",
            "layout": "IPY_MODEL_40498cd933db4d0f8936630b11429fff"
          }
        },
        "3d548c9ad8ba4add9ab7693e863eb88e": {
          "model_module": "@jupyter-widgets/controls",
          "model_name": "HTMLModel",
          "state": {
            "_view_name": "HTMLView",
            "style": "IPY_MODEL_e24b71bf046c40a79c5065d6ab947427",
            "_dom_classes": [],
            "description": "",
            "_model_name": "HTMLModel",
            "placeholder": "​",
            "_view_module": "@jupyter-widgets/controls",
            "_model_module_version": "1.5.0",
            "value": " 433/433 [00:01&lt;00:00, 265B/s]",
            "_view_count": null,
            "_view_module_version": "1.5.0",
            "description_tooltip": null,
            "_model_module": "@jupyter-widgets/controls",
            "layout": "IPY_MODEL_833e83f42b96454db51263d96c1f6c24"
          }
        },
        "424fac7885e9459bb8a7065be95ef698": {
          "model_module": "@jupyter-widgets/controls",
          "model_name": "ProgressStyleModel",
          "state": {
            "_view_name": "StyleView",
            "_model_name": "ProgressStyleModel",
            "description_width": "initial",
            "_view_module": "@jupyter-widgets/base",
            "_model_module_version": "1.5.0",
            "_view_count": null,
            "_view_module_version": "1.2.0",
            "bar_color": null,
            "_model_module": "@jupyter-widgets/controls"
          }
        },
        "40498cd933db4d0f8936630b11429fff": {
          "model_module": "@jupyter-widgets/base",
          "model_name": "LayoutModel",
          "state": {
            "_view_name": "LayoutView",
            "grid_template_rows": null,
            "right": null,
            "justify_content": null,
            "_view_module": "@jupyter-widgets/base",
            "overflow": null,
            "_model_module_version": "1.2.0",
            "_view_count": null,
            "flex_flow": null,
            "width": null,
            "min_width": null,
            "border": null,
            "align_items": null,
            "bottom": null,
            "_model_module": "@jupyter-widgets/base",
            "top": null,
            "grid_column": null,
            "overflow_y": null,
            "overflow_x": null,
            "grid_auto_flow": null,
            "grid_area": null,
            "grid_template_columns": null,
            "flex": null,
            "_model_name": "LayoutModel",
            "justify_items": null,
            "grid_row": null,
            "max_height": null,
            "align_content": null,
            "visibility": null,
            "align_self": null,
            "height": null,
            "min_height": null,
            "padding": null,
            "grid_auto_rows": null,
            "grid_gap": null,
            "max_width": null,
            "order": null,
            "_view_module_version": "1.2.0",
            "grid_template_areas": null,
            "object_position": null,
            "object_fit": null,
            "grid_auto_columns": null,
            "margin": null,
            "display": null,
            "left": null
          }
        },
        "e24b71bf046c40a79c5065d6ab947427": {
          "model_module": "@jupyter-widgets/controls",
          "model_name": "DescriptionStyleModel",
          "state": {
            "_view_name": "StyleView",
            "_model_name": "DescriptionStyleModel",
            "description_width": "",
            "_view_module": "@jupyter-widgets/base",
            "_model_module_version": "1.5.0",
            "_view_count": null,
            "_view_module_version": "1.2.0",
            "_model_module": "@jupyter-widgets/controls"
          }
        },
        "833e83f42b96454db51263d96c1f6c24": {
          "model_module": "@jupyter-widgets/base",
          "model_name": "LayoutModel",
          "state": {
            "_view_name": "LayoutView",
            "grid_template_rows": null,
            "right": null,
            "justify_content": null,
            "_view_module": "@jupyter-widgets/base",
            "overflow": null,
            "_model_module_version": "1.2.0",
            "_view_count": null,
            "flex_flow": null,
            "width": null,
            "min_width": null,
            "border": null,
            "align_items": null,
            "bottom": null,
            "_model_module": "@jupyter-widgets/base",
            "top": null,
            "grid_column": null,
            "overflow_y": null,
            "overflow_x": null,
            "grid_auto_flow": null,
            "grid_area": null,
            "grid_template_columns": null,
            "flex": null,
            "_model_name": "LayoutModel",
            "justify_items": null,
            "grid_row": null,
            "max_height": null,
            "align_content": null,
            "visibility": null,
            "align_self": null,
            "height": null,
            "min_height": null,
            "padding": null,
            "grid_auto_rows": null,
            "grid_gap": null,
            "max_width": null,
            "order": null,
            "_view_module_version": "1.2.0",
            "grid_template_areas": null,
            "object_position": null,
            "object_fit": null,
            "grid_auto_columns": null,
            "margin": null,
            "display": null,
            "left": null
          }
        },
        "46ac0ebffee54317a9fafc379aaa4671": {
          "model_module": "@jupyter-widgets/controls",
          "model_name": "HBoxModel",
          "state": {
            "_view_name": "HBoxView",
            "_dom_classes": [],
            "_model_name": "HBoxModel",
            "_view_module": "@jupyter-widgets/controls",
            "_model_module_version": "1.5.0",
            "_view_count": null,
            "_view_module_version": "1.5.0",
            "box_style": "",
            "layout": "IPY_MODEL_0cf027be261040dcb1841b7d0577a634",
            "_model_module": "@jupyter-widgets/controls",
            "children": [
              "IPY_MODEL_1155aed6e85949ecae76ce170785ccf8",
              "IPY_MODEL_a7ed722085a04d2bbb91197e9f3730c6"
            ]
          }
        },
        "0cf027be261040dcb1841b7d0577a634": {
          "model_module": "@jupyter-widgets/base",
          "model_name": "LayoutModel",
          "state": {
            "_view_name": "LayoutView",
            "grid_template_rows": null,
            "right": null,
            "justify_content": null,
            "_view_module": "@jupyter-widgets/base",
            "overflow": null,
            "_model_module_version": "1.2.0",
            "_view_count": null,
            "flex_flow": null,
            "width": null,
            "min_width": null,
            "border": null,
            "align_items": null,
            "bottom": null,
            "_model_module": "@jupyter-widgets/base",
            "top": null,
            "grid_column": null,
            "overflow_y": null,
            "overflow_x": null,
            "grid_auto_flow": null,
            "grid_area": null,
            "grid_template_columns": null,
            "flex": null,
            "_model_name": "LayoutModel",
            "justify_items": null,
            "grid_row": null,
            "max_height": null,
            "align_content": null,
            "visibility": null,
            "align_self": null,
            "height": null,
            "min_height": null,
            "padding": null,
            "grid_auto_rows": null,
            "grid_gap": null,
            "max_width": null,
            "order": null,
            "_view_module_version": "1.2.0",
            "grid_template_areas": null,
            "object_position": null,
            "object_fit": null,
            "grid_auto_columns": null,
            "margin": null,
            "display": null,
            "left": null
          }
        },
        "1155aed6e85949ecae76ce170785ccf8": {
          "model_module": "@jupyter-widgets/controls",
          "model_name": "FloatProgressModel",
          "state": {
            "_view_name": "ProgressView",
            "style": "IPY_MODEL_a79e031e01b3474490ff3011313f690a",
            "_dom_classes": [],
            "description": "Downloading: 100%",
            "_model_name": "FloatProgressModel",
            "bar_style": "success",
            "max": 231508,
            "_view_module": "@jupyter-widgets/controls",
            "_model_module_version": "1.5.0",
            "value": 231508,
            "_view_count": null,
            "_view_module_version": "1.5.0",
            "orientation": "horizontal",
            "min": 0,
            "description_tooltip": null,
            "_model_module": "@jupyter-widgets/controls",
            "layout": "IPY_MODEL_c687580ea8c84ed1895c5e2642a575e3"
          }
        },
        "a7ed722085a04d2bbb91197e9f3730c6": {
          "model_module": "@jupyter-widgets/controls",
          "model_name": "HTMLModel",
          "state": {
            "_view_name": "HTMLView",
            "style": "IPY_MODEL_8ce0fb406d634b9d8e71b9c8dd3fcc02",
            "_dom_classes": [],
            "description": "",
            "_model_name": "HTMLModel",
            "placeholder": "​",
            "_view_module": "@jupyter-widgets/controls",
            "_model_module_version": "1.5.0",
            "value": " 232k/232k [00:00&lt;00:00, 339kB/s]",
            "_view_count": null,
            "_view_module_version": "1.5.0",
            "description_tooltip": null,
            "_model_module": "@jupyter-widgets/controls",
            "layout": "IPY_MODEL_ed36b6899120480da6e6bcbd4cbc9c31"
          }
        },
        "a79e031e01b3474490ff3011313f690a": {
          "model_module": "@jupyter-widgets/controls",
          "model_name": "ProgressStyleModel",
          "state": {
            "_view_name": "StyleView",
            "_model_name": "ProgressStyleModel",
            "description_width": "initial",
            "_view_module": "@jupyter-widgets/base",
            "_model_module_version": "1.5.0",
            "_view_count": null,
            "_view_module_version": "1.2.0",
            "bar_color": null,
            "_model_module": "@jupyter-widgets/controls"
          }
        },
        "c687580ea8c84ed1895c5e2642a575e3": {
          "model_module": "@jupyter-widgets/base",
          "model_name": "LayoutModel",
          "state": {
            "_view_name": "LayoutView",
            "grid_template_rows": null,
            "right": null,
            "justify_content": null,
            "_view_module": "@jupyter-widgets/base",
            "overflow": null,
            "_model_module_version": "1.2.0",
            "_view_count": null,
            "flex_flow": null,
            "width": null,
            "min_width": null,
            "border": null,
            "align_items": null,
            "bottom": null,
            "_model_module": "@jupyter-widgets/base",
            "top": null,
            "grid_column": null,
            "overflow_y": null,
            "overflow_x": null,
            "grid_auto_flow": null,
            "grid_area": null,
            "grid_template_columns": null,
            "flex": null,
            "_model_name": "LayoutModel",
            "justify_items": null,
            "grid_row": null,
            "max_height": null,
            "align_content": null,
            "visibility": null,
            "align_self": null,
            "height": null,
            "min_height": null,
            "padding": null,
            "grid_auto_rows": null,
            "grid_gap": null,
            "max_width": null,
            "order": null,
            "_view_module_version": "1.2.0",
            "grid_template_areas": null,
            "object_position": null,
            "object_fit": null,
            "grid_auto_columns": null,
            "margin": null,
            "display": null,
            "left": null
          }
        },
        "8ce0fb406d634b9d8e71b9c8dd3fcc02": {
          "model_module": "@jupyter-widgets/controls",
          "model_name": "DescriptionStyleModel",
          "state": {
            "_view_name": "StyleView",
            "_model_name": "DescriptionStyleModel",
            "description_width": "",
            "_view_module": "@jupyter-widgets/base",
            "_model_module_version": "1.5.0",
            "_view_count": null,
            "_view_module_version": "1.2.0",
            "_model_module": "@jupyter-widgets/controls"
          }
        },
        "ed36b6899120480da6e6bcbd4cbc9c31": {
          "model_module": "@jupyter-widgets/base",
          "model_name": "LayoutModel",
          "state": {
            "_view_name": "LayoutView",
            "grid_template_rows": null,
            "right": null,
            "justify_content": null,
            "_view_module": "@jupyter-widgets/base",
            "overflow": null,
            "_model_module_version": "1.2.0",
            "_view_count": null,
            "flex_flow": null,
            "width": null,
            "min_width": null,
            "border": null,
            "align_items": null,
            "bottom": null,
            "_model_module": "@jupyter-widgets/base",
            "top": null,
            "grid_column": null,
            "overflow_y": null,
            "overflow_x": null,
            "grid_auto_flow": null,
            "grid_area": null,
            "grid_template_columns": null,
            "flex": null,
            "_model_name": "LayoutModel",
            "justify_items": null,
            "grid_row": null,
            "max_height": null,
            "align_content": null,
            "visibility": null,
            "align_self": null,
            "height": null,
            "min_height": null,
            "padding": null,
            "grid_auto_rows": null,
            "grid_gap": null,
            "max_width": null,
            "order": null,
            "_view_module_version": "1.2.0",
            "grid_template_areas": null,
            "object_position": null,
            "object_fit": null,
            "grid_auto_columns": null,
            "margin": null,
            "display": null,
            "left": null
          }
        },
        "1b27c8eccf5c4288be980b3250493533": {
          "model_module": "@jupyter-widgets/controls",
          "model_name": "HBoxModel",
          "state": {
            "_view_name": "HBoxView",
            "_dom_classes": [],
            "_model_name": "HBoxModel",
            "_view_module": "@jupyter-widgets/controls",
            "_model_module_version": "1.5.0",
            "_view_count": null,
            "_view_module_version": "1.5.0",
            "box_style": "",
            "layout": "IPY_MODEL_e2e7117849a74c6da241eb0018ca60f3",
            "_model_module": "@jupyter-widgets/controls",
            "children": [
              "IPY_MODEL_e8b1e8b9d52c44dd9bef3490bb2bd65d",
              "IPY_MODEL_0d27540fdbbf421ca84edb6294ebcfd9"
            ]
          }
        },
        "e2e7117849a74c6da241eb0018ca60f3": {
          "model_module": "@jupyter-widgets/base",
          "model_name": "LayoutModel",
          "state": {
            "_view_name": "LayoutView",
            "grid_template_rows": null,
            "right": null,
            "justify_content": null,
            "_view_module": "@jupyter-widgets/base",
            "overflow": null,
            "_model_module_version": "1.2.0",
            "_view_count": null,
            "flex_flow": null,
            "width": null,
            "min_width": null,
            "border": null,
            "align_items": null,
            "bottom": null,
            "_model_module": "@jupyter-widgets/base",
            "top": null,
            "grid_column": null,
            "overflow_y": null,
            "overflow_x": null,
            "grid_auto_flow": null,
            "grid_area": null,
            "grid_template_columns": null,
            "flex": null,
            "_model_name": "LayoutModel",
            "justify_items": null,
            "grid_row": null,
            "max_height": null,
            "align_content": null,
            "visibility": null,
            "align_self": null,
            "height": null,
            "min_height": null,
            "padding": null,
            "grid_auto_rows": null,
            "grid_gap": null,
            "max_width": null,
            "order": null,
            "_view_module_version": "1.2.0",
            "grid_template_areas": null,
            "object_position": null,
            "object_fit": null,
            "grid_auto_columns": null,
            "margin": null,
            "display": null,
            "left": null
          }
        },
        "e8b1e8b9d52c44dd9bef3490bb2bd65d": {
          "model_module": "@jupyter-widgets/controls",
          "model_name": "FloatProgressModel",
          "state": {
            "_view_name": "ProgressView",
            "style": "IPY_MODEL_b88e0fbd3557480ea05c3d6e67d20f2a",
            "_dom_classes": [],
            "description": "Downloading: 100%",
            "_model_name": "FloatProgressModel",
            "bar_style": "success",
            "max": 466062,
            "_view_module": "@jupyter-widgets/controls",
            "_model_module_version": "1.5.0",
            "value": 466062,
            "_view_count": null,
            "_view_module_version": "1.5.0",
            "orientation": "horizontal",
            "min": 0,
            "description_tooltip": null,
            "_model_module": "@jupyter-widgets/controls",
            "layout": "IPY_MODEL_c7085f5eaad045ff927d11c1a446cc49"
          }
        },
        "0d27540fdbbf421ca84edb6294ebcfd9": {
          "model_module": "@jupyter-widgets/controls",
          "model_name": "HTMLModel",
          "state": {
            "_view_name": "HTMLView",
            "style": "IPY_MODEL_5835a9024bcf4e4a8c99527b164fd9b7",
            "_dom_classes": [],
            "description": "",
            "_model_name": "HTMLModel",
            "placeholder": "​",
            "_view_module": "@jupyter-widgets/controls",
            "_model_module_version": "1.5.0",
            "value": " 466k/466k [00:00&lt;00:00, 910kB/s]",
            "_view_count": null,
            "_view_module_version": "1.5.0",
            "description_tooltip": null,
            "_model_module": "@jupyter-widgets/controls",
            "layout": "IPY_MODEL_3d257104c65e4ed58b097d3c146a2ea7"
          }
        },
        "b88e0fbd3557480ea05c3d6e67d20f2a": {
          "model_module": "@jupyter-widgets/controls",
          "model_name": "ProgressStyleModel",
          "state": {
            "_view_name": "StyleView",
            "_model_name": "ProgressStyleModel",
            "description_width": "initial",
            "_view_module": "@jupyter-widgets/base",
            "_model_module_version": "1.5.0",
            "_view_count": null,
            "_view_module_version": "1.2.0",
            "bar_color": null,
            "_model_module": "@jupyter-widgets/controls"
          }
        },
        "c7085f5eaad045ff927d11c1a446cc49": {
          "model_module": "@jupyter-widgets/base",
          "model_name": "LayoutModel",
          "state": {
            "_view_name": "LayoutView",
            "grid_template_rows": null,
            "right": null,
            "justify_content": null,
            "_view_module": "@jupyter-widgets/base",
            "overflow": null,
            "_model_module_version": "1.2.0",
            "_view_count": null,
            "flex_flow": null,
            "width": null,
            "min_width": null,
            "border": null,
            "align_items": null,
            "bottom": null,
            "_model_module": "@jupyter-widgets/base",
            "top": null,
            "grid_column": null,
            "overflow_y": null,
            "overflow_x": null,
            "grid_auto_flow": null,
            "grid_area": null,
            "grid_template_columns": null,
            "flex": null,
            "_model_name": "LayoutModel",
            "justify_items": null,
            "grid_row": null,
            "max_height": null,
            "align_content": null,
            "visibility": null,
            "align_self": null,
            "height": null,
            "min_height": null,
            "padding": null,
            "grid_auto_rows": null,
            "grid_gap": null,
            "max_width": null,
            "order": null,
            "_view_module_version": "1.2.0",
            "grid_template_areas": null,
            "object_position": null,
            "object_fit": null,
            "grid_auto_columns": null,
            "margin": null,
            "display": null,
            "left": null
          }
        },
        "5835a9024bcf4e4a8c99527b164fd9b7": {
          "model_module": "@jupyter-widgets/controls",
          "model_name": "DescriptionStyleModel",
          "state": {
            "_view_name": "StyleView",
            "_model_name": "DescriptionStyleModel",
            "description_width": "",
            "_view_module": "@jupyter-widgets/base",
            "_model_module_version": "1.5.0",
            "_view_count": null,
            "_view_module_version": "1.2.0",
            "_model_module": "@jupyter-widgets/controls"
          }
        },
        "3d257104c65e4ed58b097d3c146a2ea7": {
          "model_module": "@jupyter-widgets/base",
          "model_name": "LayoutModel",
          "state": {
            "_view_name": "LayoutView",
            "grid_template_rows": null,
            "right": null,
            "justify_content": null,
            "_view_module": "@jupyter-widgets/base",
            "overflow": null,
            "_model_module_version": "1.2.0",
            "_view_count": null,
            "flex_flow": null,
            "width": null,
            "min_width": null,
            "border": null,
            "align_items": null,
            "bottom": null,
            "_model_module": "@jupyter-widgets/base",
            "top": null,
            "grid_column": null,
            "overflow_y": null,
            "overflow_x": null,
            "grid_auto_flow": null,
            "grid_area": null,
            "grid_template_columns": null,
            "flex": null,
            "_model_name": "LayoutModel",
            "justify_items": null,
            "grid_row": null,
            "max_height": null,
            "align_content": null,
            "visibility": null,
            "align_self": null,
            "height": null,
            "min_height": null,
            "padding": null,
            "grid_auto_rows": null,
            "grid_gap": null,
            "max_width": null,
            "order": null,
            "_view_module_version": "1.2.0",
            "grid_template_areas": null,
            "object_position": null,
            "object_fit": null,
            "grid_auto_columns": null,
            "margin": null,
            "display": null,
            "left": null
          }
        },
        "f5d8f1f90af540e0b6058de565a416a3": {
          "model_module": "@jupyter-widgets/controls",
          "model_name": "HBoxModel",
          "state": {
            "_view_name": "HBoxView",
            "_dom_classes": [],
            "_model_name": "HBoxModel",
            "_view_module": "@jupyter-widgets/controls",
            "_model_module_version": "1.5.0",
            "_view_count": null,
            "_view_module_version": "1.5.0",
            "box_style": "",
            "layout": "IPY_MODEL_0a66e32835534280ac5c637fae8c0dcc",
            "_model_module": "@jupyter-widgets/controls",
            "children": [
              "IPY_MODEL_9cda7b1bc78048e09a422387ebfd465c",
              "IPY_MODEL_353b910a99754dfaa47c26800d974caa"
            ]
          }
        },
        "0a66e32835534280ac5c637fae8c0dcc": {
          "model_module": "@jupyter-widgets/base",
          "model_name": "LayoutModel",
          "state": {
            "_view_name": "LayoutView",
            "grid_template_rows": null,
            "right": null,
            "justify_content": null,
            "_view_module": "@jupyter-widgets/base",
            "overflow": null,
            "_model_module_version": "1.2.0",
            "_view_count": null,
            "flex_flow": null,
            "width": null,
            "min_width": null,
            "border": null,
            "align_items": null,
            "bottom": null,
            "_model_module": "@jupyter-widgets/base",
            "top": null,
            "grid_column": null,
            "overflow_y": null,
            "overflow_x": null,
            "grid_auto_flow": null,
            "grid_area": null,
            "grid_template_columns": null,
            "flex": null,
            "_model_name": "LayoutModel",
            "justify_items": null,
            "grid_row": null,
            "max_height": null,
            "align_content": null,
            "visibility": null,
            "align_self": null,
            "height": null,
            "min_height": null,
            "padding": null,
            "grid_auto_rows": null,
            "grid_gap": null,
            "max_width": null,
            "order": null,
            "_view_module_version": "1.2.0",
            "grid_template_areas": null,
            "object_position": null,
            "object_fit": null,
            "grid_auto_columns": null,
            "margin": null,
            "display": null,
            "left": null
          }
        },
        "9cda7b1bc78048e09a422387ebfd465c": {
          "model_module": "@jupyter-widgets/controls",
          "model_name": "FloatProgressModel",
          "state": {
            "_view_name": "ProgressView",
            "style": "IPY_MODEL_43ca584380994ba0965a8e0a661a5d2a",
            "_dom_classes": [],
            "description": "Downloading: 100%",
            "_model_name": "FloatProgressModel",
            "bar_style": "success",
            "max": 536063208,
            "_view_module": "@jupyter-widgets/controls",
            "_model_module_version": "1.5.0",
            "value": 536063208,
            "_view_count": null,
            "_view_module_version": "1.5.0",
            "orientation": "horizontal",
            "min": 0,
            "description_tooltip": null,
            "_model_module": "@jupyter-widgets/controls",
            "layout": "IPY_MODEL_e0852d8c7977437abb21b96c34426ec0"
          }
        },
        "353b910a99754dfaa47c26800d974caa": {
          "model_module": "@jupyter-widgets/controls",
          "model_name": "HTMLModel",
          "state": {
            "_view_name": "HTMLView",
            "style": "IPY_MODEL_c4b65a5ab97c499cb1b5a4a8d1dab5ff",
            "_dom_classes": [],
            "description": "",
            "_model_name": "HTMLModel",
            "placeholder": "​",
            "_view_module": "@jupyter-widgets/controls",
            "_model_module_version": "1.5.0",
            "value": " 536M/536M [00:08&lt;00:00, 59.9MB/s]",
            "_view_count": null,
            "_view_module_version": "1.5.0",
            "description_tooltip": null,
            "_model_module": "@jupyter-widgets/controls",
            "layout": "IPY_MODEL_6e1ad9d866504d74b6201071311b5eee"
          }
        },
        "43ca584380994ba0965a8e0a661a5d2a": {
          "model_module": "@jupyter-widgets/controls",
          "model_name": "ProgressStyleModel",
          "state": {
            "_view_name": "StyleView",
            "_model_name": "ProgressStyleModel",
            "description_width": "initial",
            "_view_module": "@jupyter-widgets/base",
            "_model_module_version": "1.5.0",
            "_view_count": null,
            "_view_module_version": "1.2.0",
            "bar_color": null,
            "_model_module": "@jupyter-widgets/controls"
          }
        },
        "e0852d8c7977437abb21b96c34426ec0": {
          "model_module": "@jupyter-widgets/base",
          "model_name": "LayoutModel",
          "state": {
            "_view_name": "LayoutView",
            "grid_template_rows": null,
            "right": null,
            "justify_content": null,
            "_view_module": "@jupyter-widgets/base",
            "overflow": null,
            "_model_module_version": "1.2.0",
            "_view_count": null,
            "flex_flow": null,
            "width": null,
            "min_width": null,
            "border": null,
            "align_items": null,
            "bottom": null,
            "_model_module": "@jupyter-widgets/base",
            "top": null,
            "grid_column": null,
            "overflow_y": null,
            "overflow_x": null,
            "grid_auto_flow": null,
            "grid_area": null,
            "grid_template_columns": null,
            "flex": null,
            "_model_name": "LayoutModel",
            "justify_items": null,
            "grid_row": null,
            "max_height": null,
            "align_content": null,
            "visibility": null,
            "align_self": null,
            "height": null,
            "min_height": null,
            "padding": null,
            "grid_auto_rows": null,
            "grid_gap": null,
            "max_width": null,
            "order": null,
            "_view_module_version": "1.2.0",
            "grid_template_areas": null,
            "object_position": null,
            "object_fit": null,
            "grid_auto_columns": null,
            "margin": null,
            "display": null,
            "left": null
          }
        },
        "c4b65a5ab97c499cb1b5a4a8d1dab5ff": {
          "model_module": "@jupyter-widgets/controls",
          "model_name": "DescriptionStyleModel",
          "state": {
            "_view_name": "StyleView",
            "_model_name": "DescriptionStyleModel",
            "description_width": "",
            "_view_module": "@jupyter-widgets/base",
            "_model_module_version": "1.5.0",
            "_view_count": null,
            "_view_module_version": "1.2.0",
            "_model_module": "@jupyter-widgets/controls"
          }
        },
        "6e1ad9d866504d74b6201071311b5eee": {
          "model_module": "@jupyter-widgets/base",
          "model_name": "LayoutModel",
          "state": {
            "_view_name": "LayoutView",
            "grid_template_rows": null,
            "right": null,
            "justify_content": null,
            "_view_module": "@jupyter-widgets/base",
            "overflow": null,
            "_model_module_version": "1.2.0",
            "_view_count": null,
            "flex_flow": null,
            "width": null,
            "min_width": null,
            "border": null,
            "align_items": null,
            "bottom": null,
            "_model_module": "@jupyter-widgets/base",
            "top": null,
            "grid_column": null,
            "overflow_y": null,
            "overflow_x": null,
            "grid_auto_flow": null,
            "grid_area": null,
            "grid_template_columns": null,
            "flex": null,
            "_model_name": "LayoutModel",
            "justify_items": null,
            "grid_row": null,
            "max_height": null,
            "align_content": null,
            "visibility": null,
            "align_self": null,
            "height": null,
            "min_height": null,
            "padding": null,
            "grid_auto_rows": null,
            "grid_gap": null,
            "max_width": null,
            "order": null,
            "_view_module_version": "1.2.0",
            "grid_template_areas": null,
            "object_position": null,
            "object_fit": null,
            "grid_auto_columns": null,
            "margin": null,
            "display": null,
            "left": null
          }
        }
      }
    }
  },
  "cells": [
    {
      "cell_type": "markdown",
      "metadata": {
        "id": "view-in-github",
        "colab_type": "text"
      },
      "source": [
        "<a href=\"https://colab.research.google.com/github/Dirkster99/PyNotes/blob/master/Transformers/LocalModelUsage_Finetuning/66_Transformer_4_Language_Classification_MultiClass.ipynb\" target=\"_parent\"><img src=\"https://colab.research.google.com/assets/colab-badge.svg\" alt=\"Open In Colab\"/></a>"
      ]
    },
    {
      "cell_type": "code",
      "metadata": {
        "colab": {
          "base_uri": "https://localhost:8080/"
        },
        "id": "DDLTyAriDDLg",
        "outputId": "76acce48-47af-4d76-e178-8c5f438e210e"
      },
      "source": [
        "!pip install transformers==4.2.1"
      ],
      "execution_count": 1,
      "outputs": [
        {
          "output_type": "stream",
          "text": [
            "Collecting transformers==4.2.1\n",
            "\u001b[?25l  Downloading https://files.pythonhosted.org/packages/cd/40/866cbfac4601e0f74c7303d533a9c5d4a53858bd402e08e3e294dd271f25/transformers-4.2.1-py3-none-any.whl (1.8MB)\n",
            "\u001b[K     |████████████████████████████████| 1.8MB 7.2MB/s \n",
            "\u001b[?25hRequirement already satisfied: numpy in /usr/local/lib/python3.7/dist-packages (from transformers==4.2.1) (1.19.5)\n",
            "Collecting tokenizers==0.9.4\n",
            "\u001b[?25l  Downloading https://files.pythonhosted.org/packages/fb/36/59e4a62254c5fcb43894c6b0e9403ec6f4238cc2422a003ed2e6279a1784/tokenizers-0.9.4-cp37-cp37m-manylinux2010_x86_64.whl (2.9MB)\n",
            "\u001b[K     |████████████████████████████████| 2.9MB 33.6MB/s \n",
            "\u001b[?25hRequirement already satisfied: filelock in /usr/local/lib/python3.7/dist-packages (from transformers==4.2.1) (3.0.12)\n",
            "Collecting sacremoses\n",
            "\u001b[?25l  Downloading https://files.pythonhosted.org/packages/7d/34/09d19aff26edcc8eb2a01bed8e98f13a1537005d31e95233fd48216eed10/sacremoses-0.0.43.tar.gz (883kB)\n",
            "\u001b[K     |████████████████████████████████| 890kB 45.9MB/s \n",
            "\u001b[?25hRequirement already satisfied: importlib-metadata; python_version < \"3.8\" in /usr/local/lib/python3.7/dist-packages (from transformers==4.2.1) (3.7.0)\n",
            "Requirement already satisfied: regex!=2019.12.17 in /usr/local/lib/python3.7/dist-packages (from transformers==4.2.1) (2019.12.20)\n",
            "Requirement already satisfied: requests in /usr/local/lib/python3.7/dist-packages (from transformers==4.2.1) (2.23.0)\n",
            "Requirement already satisfied: tqdm>=4.27 in /usr/local/lib/python3.7/dist-packages (from transformers==4.2.1) (4.41.1)\n",
            "Requirement already satisfied: packaging in /usr/local/lib/python3.7/dist-packages (from transformers==4.2.1) (20.9)\n",
            "Requirement already satisfied: six in /usr/local/lib/python3.7/dist-packages (from sacremoses->transformers==4.2.1) (1.15.0)\n",
            "Requirement already satisfied: click in /usr/local/lib/python3.7/dist-packages (from sacremoses->transformers==4.2.1) (7.1.2)\n",
            "Requirement already satisfied: joblib in /usr/local/lib/python3.7/dist-packages (from sacremoses->transformers==4.2.1) (1.0.1)\n",
            "Requirement already satisfied: zipp>=0.5 in /usr/local/lib/python3.7/dist-packages (from importlib-metadata; python_version < \"3.8\"->transformers==4.2.1) (3.4.1)\n",
            "Requirement already satisfied: typing-extensions>=3.6.4; python_version < \"3.8\" in /usr/local/lib/python3.7/dist-packages (from importlib-metadata; python_version < \"3.8\"->transformers==4.2.1) (3.7.4.3)\n",
            "Requirement already satisfied: urllib3!=1.25.0,!=1.25.1,<1.26,>=1.21.1 in /usr/local/lib/python3.7/dist-packages (from requests->transformers==4.2.1) (1.24.3)\n",
            "Requirement already satisfied: chardet<4,>=3.0.2 in /usr/local/lib/python3.7/dist-packages (from requests->transformers==4.2.1) (3.0.4)\n",
            "Requirement already satisfied: idna<3,>=2.5 in /usr/local/lib/python3.7/dist-packages (from requests->transformers==4.2.1) (2.10)\n",
            "Requirement already satisfied: certifi>=2017.4.17 in /usr/local/lib/python3.7/dist-packages (from requests->transformers==4.2.1) (2020.12.5)\n",
            "Requirement already satisfied: pyparsing>=2.0.2 in /usr/local/lib/python3.7/dist-packages (from packaging->transformers==4.2.1) (2.4.7)\n",
            "Building wheels for collected packages: sacremoses\n",
            "  Building wheel for sacremoses (setup.py) ... \u001b[?25l\u001b[?25hdone\n",
            "  Created wheel for sacremoses: filename=sacremoses-0.0.43-cp37-none-any.whl size=893262 sha256=88b3ad428ceb118ac7021051a9bfd398249b1b4188808baddda3c2057fb463cc\n",
            "  Stored in directory: /root/.cache/pip/wheels/29/3c/fd/7ce5c3f0666dab31a50123635e6fb5e19ceb42ce38d4e58f45\n",
            "Successfully built sacremoses\n",
            "Installing collected packages: tokenizers, sacremoses, transformers\n",
            "Successfully installed sacremoses-0.0.43 tokenizers-0.9.4 transformers-4.2.1\n"
          ],
          "name": "stdout"
        }
      ]
    },
    {
      "cell_type": "markdown",
      "metadata": {
        "id": "ia9W-HzFDaub"
      },
      "source": [
        "# Six steps towards building a Language Classification Model with Transformers and TensorFlow 2.0"
      ]
    },
    {
      "cell_type": "markdown",
      "metadata": {
        "id": "WJql3VeHD7Nn"
      },
      "source": [
        "Original Author: James Briggs\r\n",
        "https://www.youtube.com/watch?v=GYDFBfx8Ts8"
      ]
    },
    {
      "cell_type": "markdown",
      "metadata": {
        "id": "WzlppuarDagD"
      },
      "source": [
        "## Download and Preprocessing Data"
      ]
    },
    {
      "cell_type": "markdown",
      "metadata": {
        "id": "hJBaeUYAE4qd"
      },
      "source": [
        "### 20 News Groups Categorization Dataset"
      ]
    },
    {
      "cell_type": "code",
      "metadata": {
        "colab": {
          "base_uri": "https://localhost:8080/"
        },
        "id": "UXw-mgikFgen",
        "outputId": "c820f457-7365-4ce4-ce58-1fb294794ca1"
      },
      "source": [
        "from google.colab import drive\n",
        "drive.mount('/gdrive')"
      ],
      "execution_count": 2,
      "outputs": [
        {
          "output_type": "stream",
          "text": [
            "Mounted at /gdrive\n"
          ],
          "name": "stdout"
        }
      ]
    },
    {
      "cell_type": "code",
      "metadata": {
        "colab": {
          "base_uri": "https://localhost:8080/"
        },
        "id": "lNCAQBZpFgep",
        "outputId": "46034540-5131-484d-b68a-c3a994e7fc24"
      },
      "source": [
        "dataPath = '/gdrive/MyDrive/Colab Notebooks/20_Newsgroups TextClassification/data/'\n",
        "!ls {dataPath.replace(' ', '\\ ')}"
      ],
      "execution_count": 3,
      "outputs": [
        {
          "output_type": "stream",
          "text": [
            "20news-bydate\t      20_newsgroups_data.csv\t\t   model\n",
            "20news-bydate.tar.gz  20_newsgroups_data_no_filenames.csv\n"
          ],
          "name": "stdout"
        }
      ]
    },
    {
      "cell_type": "code",
      "metadata": {
        "colab": {
          "base_uri": "https://localhost:8080/",
          "height": 206
        },
        "id": "dhrAIBSQGG1X",
        "outputId": "4cd5eb1f-67be-42e2-a667-b4f9330e8653"
      },
      "source": [
        "import pandas as pd\r\n",
        "df = pd.read_csv(dataPath + '20_newsgroups_data_no_filenames.csv', sep='|')\r\n",
        "df.head()"
      ],
      "execution_count": 4,
      "outputs": [
        {
          "output_type": "execute_result",
          "data": {
            "text/html": [
              "<div>\n",
              "<style scoped>\n",
              "    .dataframe tbody tr th:only-of-type {\n",
              "        vertical-align: middle;\n",
              "    }\n",
              "\n",
              "    .dataframe tbody tr th {\n",
              "        vertical-align: top;\n",
              "    }\n",
              "\n",
              "    .dataframe thead th {\n",
              "        text-align: right;\n",
              "    }\n",
              "</style>\n",
              "<table border=\"1\" class=\"dataframe\">\n",
              "  <thead>\n",
              "    <tr style=\"text-align: right;\">\n",
              "      <th></th>\n",
              "      <th>category</th>\n",
              "      <th>news</th>\n",
              "    </tr>\n",
              "  </thead>\n",
              "  <tbody>\n",
              "    <tr>\n",
              "      <th>0</th>\n",
              "      <td>rec.sport.baseball</td>\n",
              "      <td>From: cubbie@garnet.berkeley.edu (            ...</td>\n",
              "    </tr>\n",
              "    <tr>\n",
              "      <th>1</th>\n",
              "      <td>comp.sys.mac.hardware</td>\n",
              "      <td>From: gnelson@pion.rutgers.edu (Gregory Nelson...</td>\n",
              "    </tr>\n",
              "    <tr>\n",
              "      <th>2</th>\n",
              "      <td>sci.crypt</td>\n",
              "      <td>From: crypt-comments@math.ncsu.edu\\nSubject: C...</td>\n",
              "    </tr>\n",
              "    <tr>\n",
              "      <th>3</th>\n",
              "      <td>alt.atheism</td>\n",
              "      <td>From: keith@cco.caltech.edu (Keith Allan Schne...</td>\n",
              "    </tr>\n",
              "    <tr>\n",
              "      <th>4</th>\n",
              "      <td>comp.sys.mac.hardware</td>\n",
              "      <td>From: taihou@chromium.iss.nus.sg (Tng Tai Hou)...</td>\n",
              "    </tr>\n",
              "  </tbody>\n",
              "</table>\n",
              "</div>"
            ],
            "text/plain": [
              "                category                                               news\n",
              "0     rec.sport.baseball  From: cubbie@garnet.berkeley.edu (            ...\n",
              "1  comp.sys.mac.hardware  From: gnelson@pion.rutgers.edu (Gregory Nelson...\n",
              "2              sci.crypt  From: crypt-comments@math.ncsu.edu\\nSubject: C...\n",
              "3            alt.atheism  From: keith@cco.caltech.edu (Keith Allan Schne...\n",
              "4  comp.sys.mac.hardware  From: taihou@chromium.iss.nus.sg (Tng Tai Hou)..."
            ]
          },
          "metadata": {
            "tags": []
          },
          "execution_count": 4
        }
      ]
    },
    {
      "cell_type": "code",
      "metadata": {
        "colab": {
          "base_uri": "https://localhost:8080/"
        },
        "id": "LgHYZu7eLtw2",
        "outputId": "ed1532e1-6092-4262-bfeb-0aebc59a3914"
      },
      "source": [
        "# Generate number representation for category field\r\n",
        "df['label'] = pd.Categorical(df.category, ordered=True).codes\r\n",
        "df['label'].unique()"
      ],
      "execution_count": 5,
      "outputs": [
        {
          "output_type": "execute_result",
          "data": {
            "text/plain": [
              "array([ 9,  4, 11,  0,  5, 13, 12, 17, 10,  6,  7,  2,  8, 14,  1,  3, 16,\n",
              "       18, 19, 15], dtype=int8)"
            ]
          },
          "metadata": {
            "tags": []
          },
          "execution_count": 5
        }
      ]
    },
    {
      "cell_type": "code",
      "metadata": {
        "colab": {
          "base_uri": "https://localhost:8080/"
        },
        "id": "JY7qevRYLtea",
        "outputId": "bbb9f725-45ef-4890-b625-76b8f54f5b55"
      },
      "source": [
        "# Map labels to human readable category inside a dictionary\r\n",
        "mapLabels = pd.DataFrame(df.groupby(['category', 'label']).count())\r\n",
        "\r\n",
        "#drop count column\r\n",
        "mapLabels.drop(['news'], axis = 1, inplace = True)\r\n",
        "label2Index = mapLabels.to_dict(orient='index')\r\n",
        "\r\n",
        "print (f\"label2Index :{label2Index}\")\r\n",
        "print (type(label2Index))\r\n",
        "#print (f\"index2Label :{index2Label}\")"
      ],
      "execution_count": 6,
      "outputs": [
        {
          "output_type": "stream",
          "text": [
            "label2Index :{('alt.atheism', 0): {}, ('comp.graphics', 1): {}, ('comp.os.ms-windows.misc', 2): {}, ('comp.sys.ibm.pc.hardware', 3): {}, ('comp.sys.mac.hardware', 4): {}, ('comp.windows.x', 5): {}, ('misc.forsale', 6): {}, ('rec.autos', 7): {}, ('rec.motorcycles', 8): {}, ('rec.sport.baseball', 9): {}, ('rec.sport.hockey', 10): {}, ('sci.crypt', 11): {}, ('sci.electronics', 12): {}, ('sci.med', 13): {}, ('sci.space', 14): {}, ('soc.religion.christian', 15): {}, ('talk.politics.guns', 16): {}, ('talk.politics.mideast', 17): {}, ('talk.politics.misc', 18): {}, ('talk.religion.misc', 19): {}}\n",
            "<class 'dict'>\n"
          ],
          "name": "stdout"
        }
      ]
    },
    {
      "cell_type": "code",
      "metadata": {
        "colab": {
          "base_uri": "https://localhost:8080/"
        },
        "id": "rGuO3TWvL6Nq",
        "outputId": "9402c053-0baa-4575-af6a-0bedef1b4102"
      },
      "source": [
        "# generate inverse dictionary to map in both directions\r\n",
        "index2label = {}\r\n",
        "\r\n",
        "for key in label2Index:\r\n",
        "  print (f\"{key[1]} -> {key[0]}\")\r\n",
        "  index2label[key[1]] = key[0]"
      ],
      "execution_count": 7,
      "outputs": [
        {
          "output_type": "stream",
          "text": [
            "0 -> alt.atheism\n",
            "1 -> comp.graphics\n",
            "2 -> comp.os.ms-windows.misc\n",
            "3 -> comp.sys.ibm.pc.hardware\n",
            "4 -> comp.sys.mac.hardware\n",
            "5 -> comp.windows.x\n",
            "6 -> misc.forsale\n",
            "7 -> rec.autos\n",
            "8 -> rec.motorcycles\n",
            "9 -> rec.sport.baseball\n",
            "10 -> rec.sport.hockey\n",
            "11 -> sci.crypt\n",
            "12 -> sci.electronics\n",
            "13 -> sci.med\n",
            "14 -> sci.space\n",
            "15 -> soc.religion.christian\n",
            "16 -> talk.politics.guns\n",
            "17 -> talk.politics.mideast\n",
            "18 -> talk.politics.misc\n",
            "19 -> talk.religion.misc\n"
          ],
          "name": "stdout"
        }
      ]
    },
    {
      "cell_type": "code",
      "metadata": {
        "colab": {
          "base_uri": "https://localhost:8080/"
        },
        "id": "xuHEbKFhL6Tn",
        "outputId": "c50e902e-3e5b-47b0-9701-3ca5d9087854"
      },
      "source": [
        "label2Index = {v: k for k, v in index2label.items()}\r\n",
        "\r\n",
        "print (f'label2Index: {label2Index}')\r\n",
        "print (f'index2label: {index2label}')"
      ],
      "execution_count": 8,
      "outputs": [
        {
          "output_type": "stream",
          "text": [
            "label2Index: {'alt.atheism': 0, 'comp.graphics': 1, 'comp.os.ms-windows.misc': 2, 'comp.sys.ibm.pc.hardware': 3, 'comp.sys.mac.hardware': 4, 'comp.windows.x': 5, 'misc.forsale': 6, 'rec.autos': 7, 'rec.motorcycles': 8, 'rec.sport.baseball': 9, 'rec.sport.hockey': 10, 'sci.crypt': 11, 'sci.electronics': 12, 'sci.med': 13, 'sci.space': 14, 'soc.religion.christian': 15, 'talk.politics.guns': 16, 'talk.politics.mideast': 17, 'talk.politics.misc': 18, 'talk.religion.misc': 19}\n",
            "index2label: {0: 'alt.atheism', 1: 'comp.graphics', 2: 'comp.os.ms-windows.misc', 3: 'comp.sys.ibm.pc.hardware', 4: 'comp.sys.mac.hardware', 5: 'comp.windows.x', 6: 'misc.forsale', 7: 'rec.autos', 8: 'rec.motorcycles', 9: 'rec.sport.baseball', 10: 'rec.sport.hockey', 11: 'sci.crypt', 12: 'sci.electronics', 13: 'sci.med', 14: 'sci.space', 15: 'soc.religion.christian', 16: 'talk.politics.guns', 17: 'talk.politics.mideast', 18: 'talk.politics.misc', 19: 'talk.religion.misc'}\n"
          ],
          "name": "stdout"
        }
      ]
    },
    {
      "cell_type": "code",
      "metadata": {
        "id": "Crrzuh66bsgT"
      },
      "source": [
        "# Remoe Email address to avoid additional noise\r\n",
        "df.news.replace(r'[a-zA-Z0-9_.+-]+@[a-zA-Z0-9-]+\\.[a-zA-Z0-9-.]+', '', regex=True, inplace=True)"
      ],
      "execution_count": 9,
      "outputs": []
    },
    {
      "cell_type": "code",
      "metadata": {
        "id": "W4YNoaoDaK5v"
      },
      "source": [
        "df.rename(columns = {'label' : 'labels', 'news' : 'text'}, inplace = True)"
      ],
      "execution_count": 10,
      "outputs": []
    },
    {
      "cell_type": "code",
      "metadata": {
        "id": "WlfQrabQ0XJc"
      },
      "source": [
        "df = df[['text','labels']]"
      ],
      "execution_count": 11,
      "outputs": []
    },
    {
      "cell_type": "code",
      "metadata": {
        "colab": {
          "base_uri": "https://localhost:8080/",
          "height": 206
        },
        "id": "RMkmS0d-aKuX",
        "outputId": "fd779cb9-9a35-4feb-d23e-7700191cfa01"
      },
      "source": [
        "df.head()"
      ],
      "execution_count": 12,
      "outputs": [
        {
          "output_type": "execute_result",
          "data": {
            "text/html": [
              "<div>\n",
              "<style scoped>\n",
              "    .dataframe tbody tr th:only-of-type {\n",
              "        vertical-align: middle;\n",
              "    }\n",
              "\n",
              "    .dataframe tbody tr th {\n",
              "        vertical-align: top;\n",
              "    }\n",
              "\n",
              "    .dataframe thead th {\n",
              "        text-align: right;\n",
              "    }\n",
              "</style>\n",
              "<table border=\"1\" class=\"dataframe\">\n",
              "  <thead>\n",
              "    <tr style=\"text-align: right;\">\n",
              "      <th></th>\n",
              "      <th>text</th>\n",
              "      <th>labels</th>\n",
              "    </tr>\n",
              "  </thead>\n",
              "  <tbody>\n",
              "    <tr>\n",
              "      <th>0</th>\n",
              "      <td>From:  (                               )\\nSubj...</td>\n",
              "      <td>9</td>\n",
              "    </tr>\n",
              "    <tr>\n",
              "      <th>1</th>\n",
              "      <td>From:  (Gregory Nelson)\\nSubject: Thanks Apple...</td>\n",
              "      <td>4</td>\n",
              "    </tr>\n",
              "    <tr>\n",
              "      <th>2</th>\n",
              "      <td>From: \\nSubject: Cryptography FAQ 10/10 - Refe...</td>\n",
              "      <td>11</td>\n",
              "    </tr>\n",
              "    <tr>\n",
              "      <th>3</th>\n",
              "      <td>From:  (Keith Allan Schneider)\\nSubject: Re: &lt;...</td>\n",
              "      <td>0</td>\n",
              "    </tr>\n",
              "    <tr>\n",
              "      <th>4</th>\n",
              "      <td>From:  (Tng Tai Hou)\\nSubject: ADB and graphic...</td>\n",
              "      <td>4</td>\n",
              "    </tr>\n",
              "  </tbody>\n",
              "</table>\n",
              "</div>"
            ],
            "text/plain": [
              "                                                text  labels\n",
              "0  From:  (                               )\\nSubj...       9\n",
              "1  From:  (Gregory Nelson)\\nSubject: Thanks Apple...       4\n",
              "2  From: \\nSubject: Cryptography FAQ 10/10 - Refe...      11\n",
              "3  From:  (Keith Allan Schneider)\\nSubject: Re: <...       0\n",
              "4  From:  (Tng Tai Hou)\\nSubject: ADB and graphic...       4"
            ]
          },
          "metadata": {
            "tags": []
          },
          "execution_count": 12
        }
      ]
    },
    {
      "cell_type": "code",
      "metadata": {
        "id": "IkInWDIsM7r9"
      },
      "source": [
        "# Drop duplicates to avoid pulliting the test data set with previously seen training data\r\n",
        "# when doing a simple test/train split on 1 file instead of using 2 files\r\n",
        "# df.drop_duplicates(subset='text', keep='first', inplace=True)"
      ],
      "execution_count": 13,
      "outputs": []
    },
    {
      "cell_type": "code",
      "metadata": {
        "colab": {
          "base_uri": "https://localhost:8080/"
        },
        "id": "UpI1pKfuNXcq",
        "outputId": "891f36cc-4bdb-43df-dae9-a0dcd303e07b"
      },
      "source": [
        "df.count()"
      ],
      "execution_count": 14,
      "outputs": [
        {
          "output_type": "execute_result",
          "data": {
            "text/plain": [
              "text      11270\n",
              "labels    11270\n",
              "dtype: int64"
            ]
          },
          "metadata": {
            "tags": []
          },
          "execution_count": 14
        }
      ]
    },
    {
      "cell_type": "code",
      "metadata": {
        "colab": {
          "base_uri": "https://localhost:8080/"
        },
        "id": "es4IJmHsIBXO",
        "outputId": "4fe6d849-4285-48e8-8a49-295a47718044"
      },
      "source": [
        "print (f\"There are {df['labels'].nunique()} unique values {df['labels'].unique()} in the 'labels' column.\")"
      ],
      "execution_count": 15,
      "outputs": [
        {
          "output_type": "stream",
          "text": [
            "There are 20 unique values [ 9  4 11  0  5 13 12 17 10  6  7  2  8 14  1  3 16 18 19 15] in the 'labels' column.\n"
          ],
          "name": "stdout"
        }
      ]
    },
    {
      "cell_type": "markdown",
      "metadata": {
        "id": "442PUgfzOSuB"
      },
      "source": [
        "### One Hot Encode a continues label value (eg. 0-4)"
      ]
    },
    {
      "cell_type": "code",
      "metadata": {
        "colab": {
          "base_uri": "https://localhost:8080/"
        },
        "id": "JA_9YivAOQrr",
        "outputId": "b2092b82-024a-4cd3-9bb5-76a9b5e118ee"
      },
      "source": [
        "arr = df['labels'].values\r\n",
        "arr.size"
      ],
      "execution_count": 16,
      "outputs": [
        {
          "output_type": "execute_result",
          "data": {
            "text/plain": [
              "11270"
            ]
          },
          "metadata": {
            "tags": []
          },
          "execution_count": 16
        }
      ]
    },
    {
      "cell_type": "code",
      "metadata": {
        "colab": {
          "base_uri": "https://localhost:8080/"
        },
        "id": "ZOSaKmwcQIso",
        "outputId": "ca6ebb8c-2eec-4c0a-ad8f-761e7cad5106"
      },
      "source": [
        "arr.max()"
      ],
      "execution_count": 17,
      "outputs": [
        {
          "output_type": "execute_result",
          "data": {
            "text/plain": [
              "19"
            ]
          },
          "metadata": {
            "tags": []
          },
          "execution_count": 17
        }
      ]
    },
    {
      "cell_type": "code",
      "metadata": {
        "colab": {
          "base_uri": "https://localhost:8080/"
        },
        "id": "BDtwPC9bOQbB",
        "outputId": "4b4c352f-00a2-424b-f17e-326dfc31b615"
      },
      "source": [
        "import numpy as np\r\n",
        "labels = np.zeros((arr.size, arr.max() + 1), dtype=int)\r\n",
        "labels.shape"
      ],
      "execution_count": 18,
      "outputs": [
        {
          "output_type": "execute_result",
          "data": {
            "text/plain": [
              "(11270, 20)"
            ]
          },
          "metadata": {
            "tags": []
          },
          "execution_count": 18
        }
      ]
    },
    {
      "cell_type": "code",
      "metadata": {
        "colab": {
          "base_uri": "https://localhost:8080/"
        },
        "id": "8oo0Z-IpOQSM",
        "outputId": "544308ff-6716-4963-cb43-ab0ad8e43da7"
      },
      "source": [
        "labels[np.arange(arr.size), arr] = 1\r\n",
        "labels.shape"
      ],
      "execution_count": 19,
      "outputs": [
        {
          "output_type": "execute_result",
          "data": {
            "text/plain": [
              "(11270, 20)"
            ]
          },
          "metadata": {
            "tags": []
          },
          "execution_count": 19
        }
      ]
    },
    {
      "cell_type": "code",
      "metadata": {
        "colab": {
          "base_uri": "https://localhost:8080/"
        },
        "id": "Ac-SymDrQydJ",
        "outputId": "957aa57d-ff83-48c5-ca4b-3e34be520184"
      },
      "source": [
        "for i in range(0, 20):\r\n",
        "  print(labels[i])"
      ],
      "execution_count": 20,
      "outputs": [
        {
          "output_type": "stream",
          "text": [
            "[0 0 0 0 0 0 0 0 0 1 0 0 0 0 0 0 0 0 0 0]\n",
            "[0 0 0 0 1 0 0 0 0 0 0 0 0 0 0 0 0 0 0 0]\n",
            "[0 0 0 0 0 0 0 0 0 0 0 1 0 0 0 0 0 0 0 0]\n",
            "[1 0 0 0 0 0 0 0 0 0 0 0 0 0 0 0 0 0 0 0]\n",
            "[0 0 0 0 1 0 0 0 0 0 0 0 0 0 0 0 0 0 0 0]\n",
            "[0 0 0 0 0 1 0 0 0 0 0 0 0 0 0 0 0 0 0 0]\n",
            "[0 0 0 0 0 1 0 0 0 0 0 0 0 0 0 0 0 0 0 0]\n",
            "[0 0 0 0 0 0 0 0 0 0 0 0 0 1 0 0 0 0 0 0]\n",
            "[0 0 0 0 0 0 0 0 0 0 0 0 1 0 0 0 0 0 0 0]\n",
            "[0 0 0 0 0 0 0 0 0 0 0 0 0 0 0 0 0 1 0 0]\n",
            "[0 0 0 0 0 0 0 0 0 0 0 1 0 0 0 0 0 0 0 0]\n",
            "[0 0 0 0 0 0 0 0 0 0 1 0 0 0 0 0 0 0 0 0]\n",
            "[0 0 0 0 0 0 1 0 0 0 0 0 0 0 0 0 0 0 0 0]\n",
            "[0 0 0 0 0 1 0 0 0 0 0 0 0 0 0 0 0 0 0 0]\n",
            "[0 0 0 0 0 0 0 0 0 0 1 0 0 0 0 0 0 0 0 0]\n",
            "[0 0 0 0 0 0 0 1 0 0 0 0 0 0 0 0 0 0 0 0]\n",
            "[0 0 1 0 0 0 0 0 0 0 0 0 0 0 0 0 0 0 0 0]\n",
            "[0 0 0 0 0 0 0 0 0 0 0 1 0 0 0 0 0 0 0 0]\n",
            "[0 0 0 0 0 0 0 0 1 0 0 0 0 0 0 0 0 0 0 0]\n",
            "[0 0 1 0 0 0 0 0 0 0 0 0 0 0 0 0 0 0 0 0]\n"
          ],
          "name": "stdout"
        }
      ]
    },
    {
      "cell_type": "markdown",
      "metadata": {
        "id": "5RF_cC0RRtjU"
      },
      "source": [
        "### Encode Text Input Data"
      ]
    },
    {
      "cell_type": "code",
      "metadata": {
        "id": "5wU3RStSNpjl"
      },
      "source": [
        "seqlen = df['text'].apply(lambda x: len(x.split()))"
      ],
      "execution_count": 21,
      "outputs": []
    },
    {
      "cell_type": "code",
      "metadata": {
        "id": "e5itCuhEN76l"
      },
      "source": [
        "import seaborn as sns\r\n",
        "import matplotlib as plt"
      ],
      "execution_count": 22,
      "outputs": []
    },
    {
      "cell_type": "code",
      "metadata": {
        "colab": {
          "base_uri": "https://localhost:8080/",
          "height": 387
        },
        "id": "m_XxlXwqOJyQ",
        "outputId": "ed34e939-3e95-4b1a-d176-79ecfcca6357"
      },
      "source": [
        "# Do a distribution plot on the seqquence length's of the given text\r\n",
        "sns.set_style('darkgrid')\r\n",
        "plt.figure.Figure(figsize=(16,10))\r\n",
        "sns.displot(seqlen)"
      ],
      "execution_count": 23,
      "outputs": [
        {
          "output_type": "execute_result",
          "data": {
            "text/plain": [
              "<seaborn.axisgrid.FacetGrid at 0x7f4f24ae63d0>"
            ]
          },
          "metadata": {
            "tags": []
          },
          "execution_count": 23
        },
        {
          "output_type": "display_data",
          "data": {
            "image/png": "[encoded data removed]",
            "text/plain": [
              "<Figure size 360x360 with 1 Axes>"
            ]
          },
          "metadata": {
            "tags": []
          }
        }
      ]
    },
    {
      "cell_type": "code",
      "metadata": {
        "id": "CrGoSQ3HQogV"
      },
      "source": [
        "# Maximum length of the text we are going to train and predict here\r\n",
        "SEQ_LEN = 100"
      ],
      "execution_count": 24,
      "outputs": []
    },
    {
      "cell_type": "markdown",
      "metadata": {
        "id": "AwphaSBgDaPF"
      },
      "source": [
        "## Encode Input Data\r\n",
        "Encode the Input-Tensor and the Attention Tensor."
      ]
    },
    {
      "cell_type": "code",
      "metadata": {
        "id": "K1ZOtg_fRA9E",
        "colab": {
          "base_uri": "https://localhost:8080/",
          "height": 168,
          "referenced_widgets": [
            "e050430edc3344be8224e0e8af7c5569",
            "9051f1f69c374510b9022960f952fcb3",
            "9bdc36e4a2e140a7ba1f94dad2e6270b",
            "3d548c9ad8ba4add9ab7693e863eb88e",
            "424fac7885e9459bb8a7065be95ef698",
            "40498cd933db4d0f8936630b11429fff",
            "e24b71bf046c40a79c5065d6ab947427",
            "833e83f42b96454db51263d96c1f6c24",
            "46ac0ebffee54317a9fafc379aaa4671",
            "0cf027be261040dcb1841b7d0577a634",
            "1155aed6e85949ecae76ce170785ccf8",
            "a7ed722085a04d2bbb91197e9f3730c6",
            "a79e031e01b3474490ff3011313f690a",
            "c687580ea8c84ed1895c5e2642a575e3",
            "8ce0fb406d634b9d8e71b9c8dd3fcc02",
            "ed36b6899120480da6e6bcbd4cbc9c31",
            "1b27c8eccf5c4288be980b3250493533",
            "e2e7117849a74c6da241eb0018ca60f3",
            "e8b1e8b9d52c44dd9bef3490bb2bd65d",
            "0d27540fdbbf421ca84edb6294ebcfd9",
            "b88e0fbd3557480ea05c3d6e67d20f2a",
            "c7085f5eaad045ff927d11c1a446cc49",
            "5835a9024bcf4e4a8c99527b164fd9b7",
            "3d257104c65e4ed58b097d3c146a2ea7"
          ]
        },
        "outputId": "1a106660-e18a-42a9-e537-d29a0c57c493"
      },
      "source": [
        "from transformers import AutoTokenizer\r\n",
        "tranformersPreTrainedModelName = 'bert-base-uncased'\r\n",
        "tokenizer = AutoTokenizer.from_pretrained(tranformersPreTrainedModelName) "
      ],
      "execution_count": 25,
      "outputs": [
        {
          "output_type": "display_data",
          "data": {
            "application/vnd.jupyter.widget-view+json": {
              "model_id": "e050430edc3344be8224e0e8af7c5569",
              "version_minor": 0,
              "version_major": 2
            },
            "text/plain": [
              "HBox(children=(FloatProgress(value=0.0, description='Downloading', max=433.0, style=ProgressStyle(description_…"
            ]
          },
          "metadata": {
            "tags": []
          }
        },
        {
          "output_type": "stream",
          "text": [
            "\n"
          ],
          "name": "stdout"
        },
        {
          "output_type": "display_data",
          "data": {
            "application/vnd.jupyter.widget-view+json": {
              "model_id": "46ac0ebffee54317a9fafc379aaa4671",
              "version_minor": 0,
              "version_major": 2
            },
            "text/plain": [
              "HBox(children=(FloatProgress(value=0.0, description='Downloading', max=231508.0, style=ProgressStyle(descripti…"
            ]
          },
          "metadata": {
            "tags": []
          }
        },
        {
          "output_type": "stream",
          "text": [
            "\n"
          ],
          "name": "stdout"
        },
        {
          "output_type": "display_data",
          "data": {
            "application/vnd.jupyter.widget-view+json": {
              "model_id": "1b27c8eccf5c4288be980b3250493533",
              "version_minor": 0,
              "version_major": 2
            },
            "text/plain": [
              "HBox(children=(FloatProgress(value=0.0, description='Downloading', max=466062.0, style=ProgressStyle(descripti…"
            ]
          },
          "metadata": {
            "tags": []
          }
        },
        {
          "output_type": "stream",
          "text": [
            "\n"
          ],
          "name": "stdout"
        }
      ]
    },
    {
      "cell_type": "code",
      "metadata": {
        "id": "A-K1gSSpR7J-"
      },
      "source": [
        "tokens = tokenizer.encode_plus('Hello World'\r\n",
        "                               ,max_length = SEQ_LEN          # Using text with this max length\r\n",
        "                               ,truncation=True               # truncate any text longer than max_length\r\n",
        "                               ,padding='max_length'          # padd text that is smaller than max_length\r\n",
        "                               ,add_special_tokens=True       # add special tokens for start, end of sentence, unknown, and mask tokens\r\n",
        "                               ,return_token_type_ids = False # do not return ids for types of tokens\r\n",
        "                               ,return_attention_mask = True\r\n",
        "                               ,return_tensors='tf')"
      ],
      "execution_count": 26,
      "outputs": []
    },
    {
      "cell_type": "code",
      "metadata": {
        "colab": {
          "base_uri": "https://localhost:8080/"
        },
        "id": "4aftNX-1R7GR",
        "outputId": "f0ab632e-3883-4c56-ed9e-cc66e4e0804f"
      },
      "source": [
        "# Outputs 2 tensors named 'input_ids' & 'attention_mask'\r\n",
        "# The values 101 and 102 are start and end of sentence identifiers\r\n",
        "# while 7592 & 2088 are tokens for 'Hello World'\r\n",
        "#\r\n",
        "# Attention Mask tells Bert which tokens to pay attention to and which to ompletely ignore\r\n",
        "print (tokens)"
      ],
      "execution_count": 27,
      "outputs": [
        {
          "output_type": "stream",
          "text": [
            "{'input_ids': <tf.Tensor: shape=(1, 100), dtype=int32, numpy=\n",
            "array([[ 101, 7592, 2088,  102,    0,    0,    0,    0,    0,    0,    0,\n",
            "           0,    0,    0,    0,    0,    0,    0,    0,    0,    0,    0,\n",
            "           0,    0,    0,    0,    0,    0,    0,    0,    0,    0,    0,\n",
            "           0,    0,    0,    0,    0,    0,    0,    0,    0,    0,    0,\n",
            "           0,    0,    0,    0,    0,    0,    0,    0,    0,    0,    0,\n",
            "           0,    0,    0,    0,    0,    0,    0,    0,    0,    0,    0,\n",
            "           0,    0,    0,    0,    0,    0,    0,    0,    0,    0,    0,\n",
            "           0,    0,    0,    0,    0,    0,    0,    0,    0,    0,    0,\n",
            "           0,    0,    0,    0,    0,    0,    0,    0,    0,    0,    0,\n",
            "           0]], dtype=int32)>, 'attention_mask': <tf.Tensor: shape=(1, 100), dtype=int32, numpy=\n",
            "array([[1, 1, 1, 1, 0, 0, 0, 0, 0, 0, 0, 0, 0, 0, 0, 0, 0, 0, 0, 0, 0, 0,\n",
            "        0, 0, 0, 0, 0, 0, 0, 0, 0, 0, 0, 0, 0, 0, 0, 0, 0, 0, 0, 0, 0, 0,\n",
            "        0, 0, 0, 0, 0, 0, 0, 0, 0, 0, 0, 0, 0, 0, 0, 0, 0, 0, 0, 0, 0, 0,\n",
            "        0, 0, 0, 0, 0, 0, 0, 0, 0, 0, 0, 0, 0, 0, 0, 0, 0, 0, 0, 0, 0, 0,\n",
            "        0, 0, 0, 0, 0, 0, 0, 0, 0, 0, 0, 0]], dtype=int32)>}\n"
          ],
          "name": "stdout"
        }
      ]
    },
    {
      "cell_type": "markdown",
      "metadata": {
        "id": "Z6KLOlPgWfGU"
      },
      "source": [
        "### Tokenize each Sample in Dataset"
      ]
    },
    {
      "cell_type": "code",
      "metadata": {
        "id": "KbEgLLWER63t"
      },
      "source": [
        "import numpy as np\r\n",
        "# initialize numpy arrays for Token-Ids and Attention Masks\r\n",
        "Xids = np.zeros((len(df), SEQ_LEN), dtype=int)\r\n",
        "Xmask = np.zeros((len(df), SEQ_LEN), dtype=int)"
      ],
      "execution_count": 28,
      "outputs": []
    },
    {
      "cell_type": "code",
      "metadata": {
        "colab": {
          "base_uri": "https://localhost:8080/"
        },
        "id": "1ywb5Pi_XGEw",
        "outputId": "9df179f1-c676-4137-e34a-02610e203dd0"
      },
      "source": [
        "Xids.shape"
      ],
      "execution_count": 29,
      "outputs": [
        {
          "output_type": "execute_result",
          "data": {
            "text/plain": [
              "(11270, 100)"
            ]
          },
          "metadata": {
            "tags": []
          },
          "execution_count": 29
        }
      ]
    },
    {
      "cell_type": "code",
      "metadata": {
        "id": "xNLh-Ir3XGA1"
      },
      "source": [
        "# Use a simple for loop to encode all data points\r\n",
        "for i, sequence in enumerate(df['text']):\r\n",
        "  tokens = tokenizer.encode_plus(sequence\r\n",
        "                               ,max_length = SEQ_LEN          # Using text with this max length\r\n",
        "                               ,truncation=True               # truncate any text longer than max_length\r\n",
        "                               ,padding='max_length'          # padd text that is smaller than max_length\r\n",
        "                               ,add_special_tokens=True       # add special tokens for start, end of sentence, unknown, and mask tokens\r\n",
        "                               ,return_token_type_ids = False # do not return ids for types of tokens\r\n",
        "                               ,return_attention_mask = True\r\n",
        "                               ,return_tensors='tf')\r\n",
        "  \r\n",
        "  Xids[i, :], Xmask[i, :] = tokens['input_ids'], tokens['attention_mask']"
      ],
      "execution_count": 30,
      "outputs": []
    },
    {
      "cell_type": "code",
      "metadata": {
        "colab": {
          "base_uri": "https://localhost:8080/"
        },
        "id": "R8VQM0QXXF9Z",
        "outputId": "4f0d031a-1bbb-43f1-99d5-44f1af7201da"
      },
      "source": [
        "# Array of tokenized Ids\r\n",
        "Xids"
      ],
      "execution_count": 31,
      "outputs": [
        {
          "output_type": "execute_result",
          "data": {
            "text/plain": [
              "array([[  101,  2013,  1024, ...,  1056,  2022,   102],\n",
              "       [  101,  2013,  1024, ...,  1037, 20885,   102],\n",
              "       [  101,  2013,  1024, ...,  1007,  1012,   102],\n",
              "       ...,\n",
              "       [  101,  2013,  1024, ...,  1999,  1996,   102],\n",
              "       [  101,  2013,  1024, ...,  2453, 10436,   102],\n",
              "       [  101,  2013,  1024, ..., 23468,  2005,   102]])"
            ]
          },
          "metadata": {
            "tags": []
          },
          "execution_count": 31
        }
      ]
    },
    {
      "cell_type": "code",
      "metadata": {
        "colab": {
          "base_uri": "https://localhost:8080/"
        },
        "id": "A0G0SwXjXF6B",
        "outputId": "3ca4ff90-d431-4250-d591-6bfb48f2a9c4"
      },
      "source": [
        "# Array of attaention masks\r\n",
        "Xmask"
      ],
      "execution_count": 32,
      "outputs": [
        {
          "output_type": "execute_result",
          "data": {
            "text/plain": [
              "array([[1, 1, 1, ..., 1, 1, 1],\n",
              "       [1, 1, 1, ..., 1, 1, 1],\n",
              "       [1, 1, 1, ..., 1, 1, 1],\n",
              "       ...,\n",
              "       [1, 1, 1, ..., 1, 1, 1],\n",
              "       [1, 1, 1, ..., 1, 1, 1],\n",
              "       [1, 1, 1, ..., 1, 1, 1]])"
            ]
          },
          "metadata": {
            "tags": []
          },
          "execution_count": 32
        }
      ]
    },
    {
      "cell_type": "markdown",
      "metadata": {
        "id": "qsjMLMySfoz1"
      },
      "source": [
        "### Save Tokenized Data"
      ]
    },
    {
      "cell_type": "code",
      "metadata": {
        "id": "P2q54RC2fslb"
      },
      "source": [
        "with open ('xids.npy', 'wb') as f:\r\n",
        "  np.save(f, Xids)\r\n",
        "with open ('xmask.npy', 'wb') as f:\r\n",
        "  np.save(f, Xmask)\r\n",
        "with open ('labels.npy', 'wb') as f:\r\n",
        "  np.save(f, labels)\r\n",
        "\r\n",
        "del df, Xids, Xmask, labels\r\n",
        "df = None"
      ],
      "execution_count": 33,
      "outputs": []
    },
    {
      "cell_type": "markdown",
      "metadata": {
        "id": "j_HLCQX0DaTO"
      },
      "source": [
        "## Ininitializing Hugging Face Tokenizer and Model"
      ]
    },
    {
      "cell_type": "markdown",
      "metadata": {
        "id": "DwRV4SBIgSqF"
      },
      "source": [
        "### Load Tokenized Data"
      ]
    },
    {
      "cell_type": "code",
      "metadata": {
        "id": "eAe-0GqEgRml"
      },
      "source": [
        "import numpy as np\r\n",
        "with open ('xids.npy', 'rb') as f:\r\n",
        "  Xids = np.load(f)\r\n",
        "with open ('xmask.npy', 'rb') as f:\r\n",
        "  Xmask = np.load(f)\r\n",
        "with open ('labels.npy', 'rb') as f:\r\n",
        "  labels = np.load(f)"
      ],
      "execution_count": 34,
      "outputs": []
    },
    {
      "cell_type": "code",
      "metadata": {
        "colab": {
          "base_uri": "https://localhost:8080/"
        },
        "id": "Fb0tM3ANgpJk",
        "outputId": "f43cc4c8-1d36-43f2-81d8-e3b1bf686f1f"
      },
      "source": [
        "Xids"
      ],
      "execution_count": 35,
      "outputs": [
        {
          "output_type": "execute_result",
          "data": {
            "text/plain": [
              "array([[  101,  2013,  1024, ...,  1056,  2022,   102],\n",
              "       [  101,  2013,  1024, ...,  1037, 20885,   102],\n",
              "       [  101,  2013,  1024, ...,  1007,  1012,   102],\n",
              "       ...,\n",
              "       [  101,  2013,  1024, ...,  1999,  1996,   102],\n",
              "       [  101,  2013,  1024, ...,  2453, 10436,   102],\n",
              "       [  101,  2013,  1024, ..., 23468,  2005,   102]])"
            ]
          },
          "metadata": {
            "tags": []
          },
          "execution_count": 35
        }
      ]
    },
    {
      "cell_type": "code",
      "metadata": {
        "colab": {
          "base_uri": "https://localhost:8080/"
        },
        "id": "UtJBX_YdVVXq",
        "outputId": "d4af3b10-5302-4fab-d775-672b592fff31"
      },
      "source": [
        "for i in range(0, 20):\r\n",
        "  print(labels[i])"
      ],
      "execution_count": 36,
      "outputs": [
        {
          "output_type": "stream",
          "text": [
            "[0 0 0 0 0 0 0 0 0 1 0 0 0 0 0 0 0 0 0 0]\n",
            "[0 0 0 0 1 0 0 0 0 0 0 0 0 0 0 0 0 0 0 0]\n",
            "[0 0 0 0 0 0 0 0 0 0 0 1 0 0 0 0 0 0 0 0]\n",
            "[1 0 0 0 0 0 0 0 0 0 0 0 0 0 0 0 0 0 0 0]\n",
            "[0 0 0 0 1 0 0 0 0 0 0 0 0 0 0 0 0 0 0 0]\n",
            "[0 0 0 0 0 1 0 0 0 0 0 0 0 0 0 0 0 0 0 0]\n",
            "[0 0 0 0 0 1 0 0 0 0 0 0 0 0 0 0 0 0 0 0]\n",
            "[0 0 0 0 0 0 0 0 0 0 0 0 0 1 0 0 0 0 0 0]\n",
            "[0 0 0 0 0 0 0 0 0 0 0 0 1 0 0 0 0 0 0 0]\n",
            "[0 0 0 0 0 0 0 0 0 0 0 0 0 0 0 0 0 1 0 0]\n",
            "[0 0 0 0 0 0 0 0 0 0 0 1 0 0 0 0 0 0 0 0]\n",
            "[0 0 0 0 0 0 0 0 0 0 1 0 0 0 0 0 0 0 0 0]\n",
            "[0 0 0 0 0 0 1 0 0 0 0 0 0 0 0 0 0 0 0 0]\n",
            "[0 0 0 0 0 1 0 0 0 0 0 0 0 0 0 0 0 0 0 0]\n",
            "[0 0 0 0 0 0 0 0 0 0 1 0 0 0 0 0 0 0 0 0]\n",
            "[0 0 0 0 0 0 0 1 0 0 0 0 0 0 0 0 0 0 0 0]\n",
            "[0 0 1 0 0 0 0 0 0 0 0 0 0 0 0 0 0 0 0 0]\n",
            "[0 0 0 0 0 0 0 0 0 0 0 1 0 0 0 0 0 0 0 0]\n",
            "[0 0 0 0 0 0 0 0 1 0 0 0 0 0 0 0 0 0 0 0]\n",
            "[0 0 1 0 0 0 0 0 0 0 0 0 0 0 0 0 0 0 0 0]\n"
          ],
          "name": "stdout"
        }
      ]
    },
    {
      "cell_type": "code",
      "metadata": {
        "id": "BYBiX8dEg1e5"
      },
      "source": [
        "import tensorflow as tf\r\n",
        "#tf.config.list_physical_device('GPU')"
      ],
      "execution_count": 37,
      "outputs": []
    },
    {
      "cell_type": "code",
      "metadata": {
        "id": "iy2rA94VhcmM"
      },
      "source": [
        "# TensorFlow expects input and target labels as an input tuple\r\n",
        "# Bert expects a dictionary of 'input_ids' and 'attention_mask' as input\r\n",
        "# So, lets create the dataset object\r\n",
        "# This creates a generator for a tuple of input tokens, attention_masks, and target labels\r\n",
        "dataset = tf.data.Dataset.from_tensor_slices((Xids, Xmask, labels))"
      ],
      "execution_count": 38,
      "outputs": []
    },
    {
      "cell_type": "code",
      "metadata": {
        "colab": {
          "base_uri": "https://localhost:8080/"
        },
        "id": "6uWyj0KkieMk",
        "outputId": "4d8b8f26-5161-44f5-a1c3-5fea9cb9043c"
      },
      "source": [
        "# View a single row in the dataset\r\n",
        "print (dataset.take(1))\r\n",
        "print ()\r\n",
        "for i in dataset.take(1):\r\n",
        "  print (i)"
      ],
      "execution_count": 39,
      "outputs": [
        {
          "output_type": "stream",
          "text": [
            "<TakeDataset shapes: ((100,), (100,), (20,)), types: (tf.int64, tf.int64, tf.int64)>\n",
            "\n",
            "(<tf.Tensor: shape=(100,), dtype=int64, numpy=\n",
            "array([  101,  2013,  1024,  1006,  1007,  3395,  1024,  2128,  1024,\n",
            "       12469,  2369, 27055,  1029,  2129,  1029,  3720,  1011,  1045,\n",
            "        1012,  1040,  1012,  1024, 12943,  3686,  1012,  1015, 13876,\n",
            "       28154,  2475,  1002,  1042,  2683,  2050,  3029,  1024,  2118,\n",
            "        1997,  2662,  1010,  8256,  3210,  1024,  2260,  1050,  3372,\n",
            "        2361,  1011, 14739,  1011,  3677,  1024, 11721, 26573,  1012,\n",
            "        8256,  1012,  3968,  2226,  7009,  1024,  5253,  1998, 22789,\n",
            "        2097,  2031,  3690,  1005,  1055,  1015,  2448,  3020,  2084,\n",
            "        2197,  2095,  1010,  1998,  1996, 12469,  2097,  2022, 28781,\n",
            "        1998,  2025,  6510,  5292, 25074,  2100,  2004,  2172,  2004,\n",
            "        7632, 22414,  4103,  1012, 19371,  2180,  1005,  1056,  2022,\n",
            "         102])>, <tf.Tensor: shape=(100,), dtype=int64, numpy=\n",
            "array([1, 1, 1, 1, 1, 1, 1, 1, 1, 1, 1, 1, 1, 1, 1, 1, 1, 1, 1, 1, 1, 1,\n",
            "       1, 1, 1, 1, 1, 1, 1, 1, 1, 1, 1, 1, 1, 1, 1, 1, 1, 1, 1, 1, 1, 1,\n",
            "       1, 1, 1, 1, 1, 1, 1, 1, 1, 1, 1, 1, 1, 1, 1, 1, 1, 1, 1, 1, 1, 1,\n",
            "       1, 1, 1, 1, 1, 1, 1, 1, 1, 1, 1, 1, 1, 1, 1, 1, 1, 1, 1, 1, 1, 1,\n",
            "       1, 1, 1, 1, 1, 1, 1, 1, 1, 1, 1, 1])>, <tf.Tensor: shape=(20,), dtype=int64, numpy=array([0, 0, 0, 0, 0, 0, 0, 0, 0, 1, 0, 0, 0, 0, 0, 0, 0, 0, 0, 0])>)\n"
          ],
          "name": "stdout"
        }
      ]
    },
    {
      "cell_type": "code",
      "metadata": {
        "id": "ZobIL-pRjEjd"
      },
      "source": [
        "# minute 21:55\r\n",
        "# TensorFlow Bert model expects our input in a Tuple format containing:\r\n",
        "# 1) 'input_ids' and 'attention_mask' in a Dictionary and\r\n",
        "# 2) a label as 2nd part of the tupel\r\n",
        "def map_func(input_ids, masks, labels):\r\n",
        "  return {'input_ids': input_ids, 'attention_mask': masks}, labels"
      ],
      "execution_count": 40,
      "outputs": []
    },
    {
      "cell_type": "code",
      "metadata": {
        "id": "j-_aS7QR4eS9"
      },
      "source": [
        "# we can use the dataset map function to apply this format\r\n",
        "dataset = dataset.map(map_func)"
      ],
      "execution_count": 41,
      "outputs": []
    },
    {
      "cell_type": "code",
      "metadata": {
        "colab": {
          "base_uri": "https://localhost:8080/"
        },
        "id": "0lMhzkmz4vtO",
        "outputId": "ba79c437-4c66-4070-8043-516e61138f04"
      },
      "source": [
        "# View a single row in the dataset\r\n",
        "print (dataset.take(1))\r\n",
        "print ()\r\n",
        "for i in dataset.take(1):\r\n",
        "  print (i)"
      ],
      "execution_count": 42,
      "outputs": [
        {
          "output_type": "stream",
          "text": [
            "<TakeDataset shapes: ({input_ids: (100,), attention_mask: (100,)}, (20,)), types: ({input_ids: tf.int64, attention_mask: tf.int64}, tf.int64)>\n",
            "\n",
            "({'input_ids': <tf.Tensor: shape=(100,), dtype=int64, numpy=\n",
            "array([  101,  2013,  1024,  1006,  1007,  3395,  1024,  2128,  1024,\n",
            "       12469,  2369, 27055,  1029,  2129,  1029,  3720,  1011,  1045,\n",
            "        1012,  1040,  1012,  1024, 12943,  3686,  1012,  1015, 13876,\n",
            "       28154,  2475,  1002,  1042,  2683,  2050,  3029,  1024,  2118,\n",
            "        1997,  2662,  1010,  8256,  3210,  1024,  2260,  1050,  3372,\n",
            "        2361,  1011, 14739,  1011,  3677,  1024, 11721, 26573,  1012,\n",
            "        8256,  1012,  3968,  2226,  7009,  1024,  5253,  1998, 22789,\n",
            "        2097,  2031,  3690,  1005,  1055,  1015,  2448,  3020,  2084,\n",
            "        2197,  2095,  1010,  1998,  1996, 12469,  2097,  2022, 28781,\n",
            "        1998,  2025,  6510,  5292, 25074,  2100,  2004,  2172,  2004,\n",
            "        7632, 22414,  4103,  1012, 19371,  2180,  1005,  1056,  2022,\n",
            "         102])>, 'attention_mask': <tf.Tensor: shape=(100,), dtype=int64, numpy=\n",
            "array([1, 1, 1, 1, 1, 1, 1, 1, 1, 1, 1, 1, 1, 1, 1, 1, 1, 1, 1, 1, 1, 1,\n",
            "       1, 1, 1, 1, 1, 1, 1, 1, 1, 1, 1, 1, 1, 1, 1, 1, 1, 1, 1, 1, 1, 1,\n",
            "       1, 1, 1, 1, 1, 1, 1, 1, 1, 1, 1, 1, 1, 1, 1, 1, 1, 1, 1, 1, 1, 1,\n",
            "       1, 1, 1, 1, 1, 1, 1, 1, 1, 1, 1, 1, 1, 1, 1, 1, 1, 1, 1, 1, 1, 1,\n",
            "       1, 1, 1, 1, 1, 1, 1, 1, 1, 1, 1, 1])>}, <tf.Tensor: shape=(20,), dtype=int64, numpy=array([0, 0, 0, 0, 0, 0, 0, 0, 0, 1, 0, 0, 0, 0, 0, 0, 0, 0, 0, 0])>)\n"
          ],
          "name": "stdout"
        }
      ]
    },
    {
      "cell_type": "code",
      "metadata": {
        "id": "sMkNHhxq47Ze"
      },
      "source": [
        "# SHuffle and Bach Dataset\r\n",
        "#dataset = dataset.shuffle(1000).batch(32)"
      ],
      "execution_count": 43,
      "outputs": []
    },
    {
      "cell_type": "code",
      "metadata": {
        "colab": {
          "base_uri": "https://localhost:8080/"
        },
        "id": "00o88BAS5YKh",
        "outputId": "5a4024ac-38cb-44e4-caea-e014cfabce1c"
      },
      "source": [
        "# Get the total size of dataset now that it is batched\r\n",
        "#\r\n",
        "# the dataset object is a generator object so we cannot take the length of it directly\r\n",
        "# thus, we have to convert it into a list\r\n",
        "# \r\n",
        "# Do not do this with a very large dataset\r\n",
        "#\r\n",
        "DS_LEN = len(list(dataset))\r\n",
        "DS_LEN"
      ],
      "execution_count": 44,
      "outputs": [
        {
          "output_type": "execute_result",
          "data": {
            "text/plain": [
              "11270"
            ]
          },
          "metadata": {
            "tags": []
          },
          "execution_count": 44
        }
      ]
    },
    {
      "cell_type": "code",
      "metadata": {
        "colab": {
          "base_uri": "https://localhost:8080/"
        },
        "id": "WK8di-Y45rrq",
        "outputId": "9d672b49-a066-40df-cd3b-31551890bb32"
      },
      "source": [
        "print (f\"Alternative Computation for DS_LEN: {len(Xids)/32} -> {round(len(Xids)/32, 0)}\")"
      ],
      "execution_count": 45,
      "outputs": [
        {
          "output_type": "stream",
          "text": [
            "Alternative Computation for DS_LEN: 352.1875 -> 352.0\n"
          ],
          "name": "stdout"
        }
      ]
    },
    {
      "cell_type": "code",
      "metadata": {
        "id": "SSB_T17u834a"
      },
      "source": [
        "SPLIT = .8\r\n",
        "\r\n",
        "# take or skip the specified number of batches to split by factor\r\n",
        "test = dataset.skip(round(DS_LEN * SPLIT)).batch(32)\r\n",
        "trainevalu = dataset.take(round(DS_LEN * SPLIT))\r\n",
        "\r\n",
        "DS_LEN2 = len(list(trainevalu))\r\n",
        "\r\n",
        "train = trainevalu.take(round(DS_LEN2 * SPLIT)).shuffle(1000).batch(32)\r\n",
        "evalu = trainevalu.skip(round(DS_LEN2 * SPLIT)).shuffle(1000).batch(32)\r\n",
        "\r\n",
        "del dataset"
      ],
      "execution_count": 46,
      "outputs": []
    },
    {
      "cell_type": "code",
      "metadata": {
        "colab": {
          "base_uri": "https://localhost:8080/"
        },
        "id": "df1CJecNWimq",
        "outputId": "1019b0ad-1998-4353-d398-6e106a629436"
      },
      "source": [
        "print (f\"test data: {len(test)}\")\r\n",
        "print (f\"train data: {len(train)}, train evalu data: {len(evalu)}\")"
      ],
      "execution_count": 47,
      "outputs": [
        {
          "output_type": "stream",
          "text": [
            "test data: 71\n",
            "train data: 226, train evalu data: 57\n"
          ],
          "name": "stdout"
        }
      ]
    },
    {
      "cell_type": "markdown",
      "metadata": {
        "id": "wTZP1_udDaF_"
      },
      "source": [
        "## Build Model"
      ]
    },
    {
      "cell_type": "code",
      "metadata": {
        "id": "lLCtrOdj9PKj"
      },
      "source": [
        "from transformers import BertConfig\r\n",
        "bertConfig = BertConfig.from_pretrained(tranformersPreTrainedModelName\r\n",
        "                                        , output_hidden_states=True\r\n",
        "                                        , num_lables=6\r\n",
        "                                        , max_length=SEQ_LEN\r\n",
        "                                        , label2id=label2Index\r\n",
        "                                        , id2label=index2label\r\n",
        "                                        )"
      ],
      "execution_count": 48,
      "outputs": []
    },
    {
      "cell_type": "code",
      "metadata": {
        "colab": {
          "base_uri": "https://localhost:8080/",
          "height": 141,
          "referenced_widgets": [
            "f5d8f1f90af540e0b6058de565a416a3",
            "0a66e32835534280ac5c637fae8c0dcc",
            "9cda7b1bc78048e09a422387ebfd465c",
            "353b910a99754dfaa47c26800d974caa",
            "43ca584380994ba0965a8e0a661a5d2a",
            "e0852d8c7977437abb21b96c34426ec0",
            "c4b65a5ab97c499cb1b5a4a8d1dab5ff",
            "6e1ad9d866504d74b6201071311b5eee"
          ]
        },
        "id": "WPGGoaJ39tjz",
        "outputId": "1b689bb4-9ade-4c62-9fe4-b516f65bdd95"
      },
      "source": [
        "from transformers import TFBertForSequenceClassification\r\n",
        "tranformersPreTrainedModelName = 'bert-base-uncased'\r\n",
        "bert = TFBertForSequenceClassification.from_pretrained(tranformersPreTrainedModelName, config=bertConfig)"
      ],
      "execution_count": 49,
      "outputs": [
        {
          "output_type": "display_data",
          "data": {
            "application/vnd.jupyter.widget-view+json": {
              "model_id": "f5d8f1f90af540e0b6058de565a416a3",
              "version_minor": 0,
              "version_major": 2
            },
            "text/plain": [
              "HBox(children=(FloatProgress(value=0.0, description='Downloading', max=536063208.0, style=ProgressStyle(descri…"
            ]
          },
          "metadata": {
            "tags": []
          }
        },
        {
          "output_type": "stream",
          "text": [
            "\n"
          ],
          "name": "stdout"
        },
        {
          "output_type": "stream",
          "text": [
            "All model checkpoint layers were used when initializing TFBertForSequenceClassification.\n",
            "\n",
            "Some layers of TFBertForSequenceClassification were not initialized from the model checkpoint at bert-base-uncased and are newly initialized: ['classifier']\n",
            "You should probably TRAIN this model on a down-stream task to be able to use it for predictions and inference.\n"
          ],
          "name": "stderr"
        }
      ]
    },
    {
      "cell_type": "code",
      "metadata": {
        "colab": {
          "base_uri": "https://localhost:8080/"
        },
        "id": "IIxfUZuK9DVR",
        "outputId": "eeecda74-aab4-46ac-e876-3f9ead0b6236"
      },
      "source": [
        "bert.summary()"
      ],
      "execution_count": 50,
      "outputs": [
        {
          "output_type": "stream",
          "text": [
            "Model: \"tf_bert_for_sequence_classification\"\n",
            "_________________________________________________________________\n",
            "Layer (type)                 Output Shape              Param #   \n",
            "=================================================================\n",
            "bert (TFBertMainLayer)       multiple                  109482240 \n",
            "_________________________________________________________________\n",
            "dropout_37 (Dropout)         multiple                  0         \n",
            "_________________________________________________________________\n",
            "classifier (Dense)           multiple                  15380     \n",
            "=================================================================\n",
            "Total params: 109,497,620\n",
            "Trainable params: 109,497,620\n",
            "Non-trainable params: 0\n",
            "_________________________________________________________________\n"
          ],
          "name": "stdout"
        }
      ]
    },
    {
      "cell_type": "code",
      "metadata": {
        "id": "ZHiT7m1qR1en"
      },
      "source": [
        "# build 2 input layers to Bert Model where name needs to match the input values in the dataset\r\n",
        "input_ids = tf.keras.Input(shape=(SEQ_LEN,), name = 'input_ids', dtype='int32')\r\n",
        "mask = tf.keras.Input(shape=(SEQ_LEN,), name = 'attention_mask', dtype='int32')\r\n",
        "\r\n",
        "embedings = bert.layers[0](input_ids, attention_mask=mask)[0]\r\n",
        "\r\n",
        "#Original Author: Ferry Djaja\r\n",
        "#https://djajafer.medium.com/multi-class-text-classification-with-keras-and-lstm-4c5525bef592\r\n",
        "X = tf.keras.layers.Dropout(0.5)(embedings)\r\n",
        "X = tf.keras.layers.Bidirectional(tf.keras.layers.LSTM(768))(X)\r\n",
        "y = tf.keras.layers.Dense(len(label2Index), activation='softmax', name='outputs')(X)\r\n",
        "\r\n",
        "model = tf.keras.Model(inputs=[input_ids,mask], outputs=y)\r\n",
        "\r\n",
        "# Freeze the Bert model by freezing this layer to make training less of an overkill in terms of required performance\r\n",
        "model.layers[2].trainable = False\r\n",
        "#bert.layers[1].trainable = False\r\n",
        "#bert.layers[2].trainable = False"
      ],
      "execution_count": 51,
      "outputs": []
    },
    {
      "cell_type": "code",
      "metadata": {
        "colab": {
          "base_uri": "https://localhost:8080/"
        },
        "id": "h28OcgiNR1Ya",
        "outputId": "833a814b-ecc1-438d-c600-cf92d2d49009"
      },
      "source": [
        "model.summary()"
      ],
      "execution_count": 52,
      "outputs": [
        {
          "output_type": "stream",
          "text": [
            "Model: \"model\"\n",
            "__________________________________________________________________________________________________\n",
            "Layer (type)                    Output Shape         Param #     Connected to                     \n",
            "==================================================================================================\n",
            "input_ids (InputLayer)          [(None, 100)]        0                                            \n",
            "__________________________________________________________________________________________________\n",
            "attention_mask (InputLayer)     [(None, 100)]        0                                            \n",
            "__________________________________________________________________________________________________\n",
            "bert (TFBertMainLayer)          TFBaseModelOutputWit 109482240   input_ids[0][0]                  \n",
            "                                                                 attention_mask[0][0]             \n",
            "__________________________________________________________________________________________________\n",
            "dropout_38 (Dropout)            (None, 100, 768)     0           bert[0][13]                      \n",
            "__________________________________________________________________________________________________\n",
            "bidirectional (Bidirectional)   (None, 1536)         9443328     dropout_38[0][0]                 \n",
            "__________________________________________________________________________________________________\n",
            "outputs (Dense)                 (None, 20)           30740       bidirectional[0][0]              \n",
            "==================================================================================================\n",
            "Total params: 118,956,308\n",
            "Trainable params: 9,474,068\n",
            "Non-trainable params: 109,482,240\n",
            "__________________________________________________________________________________________________\n"
          ],
          "name": "stdout"
        }
      ]
    },
    {
      "cell_type": "code",
      "metadata": {
        "id": "YJsrgwyO9tcF"
      },
      "source": [
        "loss=tf.keras.losses.BinaryCrossentropy()\r\n",
        "optimizer = tf.keras.optimizers.Adam(lr=0.001, decay=1e-6)\r\n",
        "model.compile(\r\n",
        "    loss=loss,\r\n",
        "    optimizer=optimizer,\r\n",
        "    metrics=['accuracy']\r\n",
        "    )"
      ],
      "execution_count": 53,
      "outputs": []
    },
    {
      "cell_type": "code",
      "metadata": {
        "colab": {
          "base_uri": "https://localhost:8080/"
        },
        "id": "_eK-NlO99DR3",
        "outputId": "4ed34382-2194-4a9c-f21d-8116530427ec"
      },
      "source": [
        "from timeit import default_timer as timer\r\n",
        "from datetime import timedelta\r\n",
        "\r\n",
        "start = timer()\r\n",
        "\r\n",
        "history = model.fit(train\r\n",
        "                    , validation_data=evalu\r\n",
        "                    , epochs=5)\r\n",
        "\r\n",
        "end = timer()\r\n",
        "print(timedelta(seconds=end-start))"
      ],
      "execution_count": 54,
      "outputs": [
        {
          "output_type": "stream",
          "text": [
            "Epoch 1/5\n",
            "226/226 [==============================] - 118s 357ms/step - loss: 0.1892 - accuracy: 0.2209 - val_loss: 0.1103 - val_accuracy: 0.5214\n",
            "Epoch 2/5\n",
            "226/226 [==============================] - 82s 365ms/step - loss: 0.0997 - accuracy: 0.5750 - val_loss: 0.0829 - val_accuracy: 0.6572\n",
            "Epoch 3/5\n",
            "226/226 [==============================] - 82s 364ms/step - loss: 0.0760 - accuracy: 0.6920 - val_loss: 0.0663 - val_accuracy: 0.7293\n",
            "Epoch 4/5\n",
            "226/226 [==============================] - 83s 365ms/step - loss: 0.0637 - accuracy: 0.7473 - val_loss: 0.0634 - val_accuracy: 0.7626\n",
            "Epoch 5/5\n",
            "226/226 [==============================] - 82s 365ms/step - loss: 0.0519 - accuracy: 0.7951 - val_loss: 0.0575 - val_accuracy: 0.7826\n",
            "0:07:27.733380\n"
          ],
          "name": "stdout"
        }
      ]
    },
    {
      "cell_type": "code",
      "metadata": {
        "id": "cSJCpE6k--De",
        "colab": {
          "base_uri": "https://localhost:8080/",
          "height": 541
        },
        "outputId": "c8e06183-21c1-4b34-fa61-c704145658f9"
      },
      "source": [
        "import matplotlib.pyplot as plt\r\n",
        "\r\n",
        "def plot_graphs(history, string):\r\n",
        "  plt.plot(history.history[string])\r\n",
        "  plt.plot(history.history['val_'+string])\r\n",
        "  plt.xlabel(\"Epochs\")\r\n",
        "  plt.ylabel(string)\r\n",
        "  plt.legend([string, 'val_'+string])\r\n",
        "  plt.show()\r\n",
        "  \r\n",
        "plot_graphs(history, \"accuracy\")\r\n",
        "plot_graphs(history, \"loss\")"
      ],
      "execution_count": 55,
      "outputs": [
        {
          "output_type": "display_data",
          "data": {
            "image/png": "[encoded data removed]",
            "text/plain": [
              "<Figure size 432x288 with 1 Axes>"
            ]
          },
          "metadata": {
            "tags": []
          }
        },
        {
          "output_type": "display_data",
          "data": {
            "image/png": "[encoded data removed]",
            "text/plain": [
              "<Figure size 432x288 with 1 Axes>"
            ]
          },
          "metadata": {
            "tags": []
          }
        }
      ]
    },
    {
      "cell_type": "markdown",
      "metadata": {
        "id": "xn9PtEq7Mrfm"
      },
      "source": [
        "## Evaluation"
      ]
    },
    {
      "cell_type": "code",
      "metadata": {
        "id": "ZcmoKARy_BZA",
        "colab": {
          "base_uri": "https://localhost:8080/"
        },
        "outputId": "839434e0-dade-47e0-b17d-2673413e91e6"
      },
      "source": [
        "results = model.evaluate(test, batch_size=32)\r\n",
        "print(\"test loss, test acc:\", results)"
      ],
      "execution_count": 56,
      "outputs": [
        {
          "output_type": "stream",
          "text": [
            "71/71 [==============================] - 17s 243ms/step - loss: 0.0591 - accuracy: 0.7666\n",
            "test loss, test acc: [0.05909327417612076, 0.7666370868682861]\n"
          ],
          "name": "stdout"
        }
      ]
    },
    {
      "cell_type": "code",
      "metadata": {
        "colab": {
          "base_uri": "https://localhost:8080/"
        },
        "id": "eTjP0sqlS000",
        "outputId": "02c012e5-3e3c-4f5e-9d43-71265b954f36"
      },
      "source": [
        "# Generate predictions (probabilities -- the output of the last layer)\r\n",
        "# on new data using `predict`\r\n",
        "print(\"Generate predictions for 1 sample\")\r\n",
        "predictions = model.predict(test.take(1))\r\n",
        "print(\"predictions shape:\", predictions.shape)"
      ],
      "execution_count": 57,
      "outputs": [
        {
          "output_type": "stream",
          "text": [
            "Generate predictions for 1 sample\n",
            "predictions shape: (32, 20)\n"
          ],
          "name": "stdout"
        }
      ]
    },
    {
      "cell_type": "code",
      "metadata": {
        "colab": {
          "base_uri": "https://localhost:8080/"
        },
        "id": "O2dB5PVPg2RO",
        "outputId": "dc5b4a90-c1b2-49ca-d964-9897f44a14c9"
      },
      "source": [
        "for item in test.take(1):\r\n",
        "  #print (f\"inputs: {item [0]}\")\r\n",
        "  print ()\r\n",
        "  #print (f\"labels: {item [1]}\")\r\n",
        "\r\n",
        "  for i in range(len(predictions)):\r\n",
        "    #print(f\"{predictions[i]}\")\r\n",
        "    actualLabelIdx=np.argmax(item[1][i])\r\n",
        "    predicLabelIdx=np.argmax(predictions[i])\r\n",
        "\r\n",
        "    if (actualLabelIdx == predicLabelIdx):\r\n",
        "      print (f\"{i} OK\", sep=\" \")\r\n",
        "    else:\r\n",
        "      print (f\"{i} NOK\", sep=\" \")\r\n",
        "\r\n",
        "    print(f\"Predicted Label Index: {predicLabelIdx} Predicted Label:{index2label[predicLabelIdx]} \")\r\n",
        "    print(f\"       Actual Label Index: {actualLabelIdx}        Actual Label:{index2label[actualLabelIdx]}\")\r\n",
        "    print ()"
      ],
      "execution_count": 58,
      "outputs": [
        {
          "output_type": "stream",
          "text": [
            "\n",
            "0 NOK\n",
            "Predicted Label Index: 12 Predicted Label:sci.electronics \n",
            "       Actual Label Index: 13        Actual Label:sci.med\n",
            "\n",
            "1 OK\n",
            "Predicted Label Index: 5 Predicted Label:comp.windows.x \n",
            "       Actual Label Index: 5        Actual Label:comp.windows.x\n",
            "\n",
            "2 OK\n",
            "Predicted Label Index: 5 Predicted Label:comp.windows.x \n",
            "       Actual Label Index: 5        Actual Label:comp.windows.x\n",
            "\n",
            "3 OK\n",
            "Predicted Label Index: 13 Predicted Label:sci.med \n",
            "       Actual Label Index: 13        Actual Label:sci.med\n",
            "\n",
            "4 OK\n",
            "Predicted Label Index: 0 Predicted Label:alt.atheism \n",
            "       Actual Label Index: 0        Actual Label:alt.atheism\n",
            "\n",
            "5 OK\n",
            "Predicted Label Index: 1 Predicted Label:comp.graphics \n",
            "       Actual Label Index: 1        Actual Label:comp.graphics\n",
            "\n",
            "6 OK\n",
            "Predicted Label Index: 13 Predicted Label:sci.med \n",
            "       Actual Label Index: 13        Actual Label:sci.med\n",
            "\n",
            "7 OK\n",
            "Predicted Label Index: 11 Predicted Label:sci.crypt \n",
            "       Actual Label Index: 11        Actual Label:sci.crypt\n",
            "\n",
            "8 NOK\n",
            "Predicted Label Index: 3 Predicted Label:comp.sys.ibm.pc.hardware \n",
            "       Actual Label Index: 2        Actual Label:comp.os.ms-windows.misc\n",
            "\n",
            "9 OK\n",
            "Predicted Label Index: 9 Predicted Label:rec.sport.baseball \n",
            "       Actual Label Index: 9        Actual Label:rec.sport.baseball\n",
            "\n",
            "10 OK\n",
            "Predicted Label Index: 15 Predicted Label:soc.religion.christian \n",
            "       Actual Label Index: 15        Actual Label:soc.religion.christian\n",
            "\n",
            "11 OK\n",
            "Predicted Label Index: 1 Predicted Label:comp.graphics \n",
            "       Actual Label Index: 1        Actual Label:comp.graphics\n",
            "\n",
            "12 OK\n",
            "Predicted Label Index: 10 Predicted Label:rec.sport.hockey \n",
            "       Actual Label Index: 10        Actual Label:rec.sport.hockey\n",
            "\n",
            "13 NOK\n",
            "Predicted Label Index: 9 Predicted Label:rec.sport.baseball \n",
            "       Actual Label Index: 10        Actual Label:rec.sport.hockey\n",
            "\n",
            "14 OK\n",
            "Predicted Label Index: 11 Predicted Label:sci.crypt \n",
            "       Actual Label Index: 11        Actual Label:sci.crypt\n",
            "\n",
            "15 OK\n",
            "Predicted Label Index: 19 Predicted Label:talk.religion.misc \n",
            "       Actual Label Index: 19        Actual Label:talk.religion.misc\n",
            "\n",
            "16 OK\n",
            "Predicted Label Index: 1 Predicted Label:comp.graphics \n",
            "       Actual Label Index: 1        Actual Label:comp.graphics\n",
            "\n",
            "17 OK\n",
            "Predicted Label Index: 3 Predicted Label:comp.sys.ibm.pc.hardware \n",
            "       Actual Label Index: 3        Actual Label:comp.sys.ibm.pc.hardware\n",
            "\n",
            "18 OK\n",
            "Predicted Label Index: 1 Predicted Label:comp.graphics \n",
            "       Actual Label Index: 1        Actual Label:comp.graphics\n",
            "\n",
            "19 NOK\n",
            "Predicted Label Index: 2 Predicted Label:comp.os.ms-windows.misc \n",
            "       Actual Label Index: 3        Actual Label:comp.sys.ibm.pc.hardware\n",
            "\n",
            "20 OK\n",
            "Predicted Label Index: 8 Predicted Label:rec.motorcycles \n",
            "       Actual Label Index: 8        Actual Label:rec.motorcycles\n",
            "\n",
            "21 OK\n",
            "Predicted Label Index: 4 Predicted Label:comp.sys.mac.hardware \n",
            "       Actual Label Index: 4        Actual Label:comp.sys.mac.hardware\n",
            "\n",
            "22 OK\n",
            "Predicted Label Index: 11 Predicted Label:sci.crypt \n",
            "       Actual Label Index: 11        Actual Label:sci.crypt\n",
            "\n",
            "23 OK\n",
            "Predicted Label Index: 8 Predicted Label:rec.motorcycles \n",
            "       Actual Label Index: 8        Actual Label:rec.motorcycles\n",
            "\n",
            "24 OK\n",
            "Predicted Label Index: 19 Predicted Label:talk.religion.misc \n",
            "       Actual Label Index: 19        Actual Label:talk.religion.misc\n",
            "\n",
            "25 OK\n",
            "Predicted Label Index: 14 Predicted Label:sci.space \n",
            "       Actual Label Index: 14        Actual Label:sci.space\n",
            "\n",
            "26 OK\n",
            "Predicted Label Index: 8 Predicted Label:rec.motorcycles \n",
            "       Actual Label Index: 8        Actual Label:rec.motorcycles\n",
            "\n",
            "27 OK\n",
            "Predicted Label Index: 11 Predicted Label:sci.crypt \n",
            "       Actual Label Index: 11        Actual Label:sci.crypt\n",
            "\n",
            "28 OK\n",
            "Predicted Label Index: 1 Predicted Label:comp.graphics \n",
            "       Actual Label Index: 1        Actual Label:comp.graphics\n",
            "\n",
            "29 OK\n",
            "Predicted Label Index: 8 Predicted Label:rec.motorcycles \n",
            "       Actual Label Index: 8        Actual Label:rec.motorcycles\n",
            "\n",
            "30 OK\n",
            "Predicted Label Index: 13 Predicted Label:sci.med \n",
            "       Actual Label Index: 13        Actual Label:sci.med\n",
            "\n",
            "31 NOK\n",
            "Predicted Label Index: 19 Predicted Label:talk.religion.misc \n",
            "       Actual Label Index: 0        Actual Label:alt.atheism\n",
            "\n"
          ],
          "name": "stdout"
        }
      ]
    }
  ]
}