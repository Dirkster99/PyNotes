{
  "nbformat": 4,
  "nbformat_minor": 0,
  "metadata": {
    "colab": {
      "name": "62 Transformer 4 Language Classification MultiClass.ipynb",
      "provenance": [],
      "collapsed_sections": [],
      "authorship_tag": "ABX9TyOyEXhZWk3x+tCwEb02x5Az",
      "include_colab_link": true
    },
    "kernelspec": {
      "name": "python3",
      "display_name": "Python 3"
    },
    "widgets": {
      "application/vnd.jupyter.widget-state+json": {
        "c60ae33f833a4093a9323b17a9a6f379": {
          "model_module": "@jupyter-widgets/controls",
          "model_name": "HBoxModel",
          "state": {
            "_view_name": "HBoxView",
            "_dom_classes": [],
            "_model_name": "HBoxModel",
            "_view_module": "@jupyter-widgets/controls",
            "_model_module_version": "1.5.0",
            "_view_count": null,
            "_view_module_version": "1.5.0",
            "box_style": "",
            "layout": "IPY_MODEL_09ffa84e5ff4415fb1d719e143d15464",
            "_model_module": "@jupyter-widgets/controls",
            "children": [
              "IPY_MODEL_a43e8ae889c74ef29d635672edcc4a69",
              "IPY_MODEL_2dd2aa62358f495b971af5213b1e70b7"
            ]
          }
        },
        "09ffa84e5ff4415fb1d719e143d15464": {
          "model_module": "@jupyter-widgets/base",
          "model_name": "LayoutModel",
          "state": {
            "_view_name": "LayoutView",
            "grid_template_rows": null,
            "right": null,
            "justify_content": null,
            "_view_module": "@jupyter-widgets/base",
            "overflow": null,
            "_model_module_version": "1.2.0",
            "_view_count": null,
            "flex_flow": null,
            "width": null,
            "min_width": null,
            "border": null,
            "align_items": null,
            "bottom": null,
            "_model_module": "@jupyter-widgets/base",
            "top": null,
            "grid_column": null,
            "overflow_y": null,
            "overflow_x": null,
            "grid_auto_flow": null,
            "grid_area": null,
            "grid_template_columns": null,
            "flex": null,
            "_model_name": "LayoutModel",
            "justify_items": null,
            "grid_row": null,
            "max_height": null,
            "align_content": null,
            "visibility": null,
            "align_self": null,
            "height": null,
            "min_height": null,
            "padding": null,
            "grid_auto_rows": null,
            "grid_gap": null,
            "max_width": null,
            "order": null,
            "_view_module_version": "1.2.0",
            "grid_template_areas": null,
            "object_position": null,
            "object_fit": null,
            "grid_auto_columns": null,
            "margin": null,
            "display": null,
            "left": null
          }
        },
        "a43e8ae889c74ef29d635672edcc4a69": {
          "model_module": "@jupyter-widgets/controls",
          "model_name": "FloatProgressModel",
          "state": {
            "_view_name": "ProgressView",
            "style": "IPY_MODEL_da590a311c3f4832b62aebecc73cae9e",
            "_dom_classes": [],
            "description": "Downloading: 100%",
            "_model_name": "FloatProgressModel",
            "bar_style": "success",
            "max": 433,
            "_view_module": "@jupyter-widgets/controls",
            "_model_module_version": "1.5.0",
            "value": 433,
            "_view_count": null,
            "_view_module_version": "1.5.0",
            "orientation": "horizontal",
            "min": 0,
            "description_tooltip": null,
            "_model_module": "@jupyter-widgets/controls",
            "layout": "IPY_MODEL_fff3ece616fe4426a698046f23a7c47a"
          }
        },
        "2dd2aa62358f495b971af5213b1e70b7": {
          "model_module": "@jupyter-widgets/controls",
          "model_name": "HTMLModel",
          "state": {
            "_view_name": "HTMLView",
            "style": "IPY_MODEL_b6e2043de9434d92955cf7584448f6e2",
            "_dom_classes": [],
            "description": "",
            "_model_name": "HTMLModel",
            "placeholder": "​",
            "_view_module": "@jupyter-widgets/controls",
            "_model_module_version": "1.5.0",
            "value": " 433/433 [00:21&lt;00:00, 20.3B/s]",
            "_view_count": null,
            "_view_module_version": "1.5.0",
            "description_tooltip": null,
            "_model_module": "@jupyter-widgets/controls",
            "layout": "IPY_MODEL_70117520950e43e29b6b1b33e75ea4b3"
          }
        },
        "da590a311c3f4832b62aebecc73cae9e": {
          "model_module": "@jupyter-widgets/controls",
          "model_name": "ProgressStyleModel",
          "state": {
            "_view_name": "StyleView",
            "_model_name": "ProgressStyleModel",
            "description_width": "initial",
            "_view_module": "@jupyter-widgets/base",
            "_model_module_version": "1.5.0",
            "_view_count": null,
            "_view_module_version": "1.2.0",
            "bar_color": null,
            "_model_module": "@jupyter-widgets/controls"
          }
        },
        "fff3ece616fe4426a698046f23a7c47a": {
          "model_module": "@jupyter-widgets/base",
          "model_name": "LayoutModel",
          "state": {
            "_view_name": "LayoutView",
            "grid_template_rows": null,
            "right": null,
            "justify_content": null,
            "_view_module": "@jupyter-widgets/base",
            "overflow": null,
            "_model_module_version": "1.2.0",
            "_view_count": null,
            "flex_flow": null,
            "width": null,
            "min_width": null,
            "border": null,
            "align_items": null,
            "bottom": null,
            "_model_module": "@jupyter-widgets/base",
            "top": null,
            "grid_column": null,
            "overflow_y": null,
            "overflow_x": null,
            "grid_auto_flow": null,
            "grid_area": null,
            "grid_template_columns": null,
            "flex": null,
            "_model_name": "LayoutModel",
            "justify_items": null,
            "grid_row": null,
            "max_height": null,
            "align_content": null,
            "visibility": null,
            "align_self": null,
            "height": null,
            "min_height": null,
            "padding": null,
            "grid_auto_rows": null,
            "grid_gap": null,
            "max_width": null,
            "order": null,
            "_view_module_version": "1.2.0",
            "grid_template_areas": null,
            "object_position": null,
            "object_fit": null,
            "grid_auto_columns": null,
            "margin": null,
            "display": null,
            "left": null
          }
        },
        "b6e2043de9434d92955cf7584448f6e2": {
          "model_module": "@jupyter-widgets/controls",
          "model_name": "DescriptionStyleModel",
          "state": {
            "_view_name": "StyleView",
            "_model_name": "DescriptionStyleModel",
            "description_width": "",
            "_view_module": "@jupyter-widgets/base",
            "_model_module_version": "1.5.0",
            "_view_count": null,
            "_view_module_version": "1.2.0",
            "_model_module": "@jupyter-widgets/controls"
          }
        },
        "70117520950e43e29b6b1b33e75ea4b3": {
          "model_module": "@jupyter-widgets/base",
          "model_name": "LayoutModel",
          "state": {
            "_view_name": "LayoutView",
            "grid_template_rows": null,
            "right": null,
            "justify_content": null,
            "_view_module": "@jupyter-widgets/base",
            "overflow": null,
            "_model_module_version": "1.2.0",
            "_view_count": null,
            "flex_flow": null,
            "width": null,
            "min_width": null,
            "border": null,
            "align_items": null,
            "bottom": null,
            "_model_module": "@jupyter-widgets/base",
            "top": null,
            "grid_column": null,
            "overflow_y": null,
            "overflow_x": null,
            "grid_auto_flow": null,
            "grid_area": null,
            "grid_template_columns": null,
            "flex": null,
            "_model_name": "LayoutModel",
            "justify_items": null,
            "grid_row": null,
            "max_height": null,
            "align_content": null,
            "visibility": null,
            "align_self": null,
            "height": null,
            "min_height": null,
            "padding": null,
            "grid_auto_rows": null,
            "grid_gap": null,
            "max_width": null,
            "order": null,
            "_view_module_version": "1.2.0",
            "grid_template_areas": null,
            "object_position": null,
            "object_fit": null,
            "grid_auto_columns": null,
            "margin": null,
            "display": null,
            "left": null
          }
        },
        "951a9556cb5d455a8bddc43b04bc9205": {
          "model_module": "@jupyter-widgets/controls",
          "model_name": "HBoxModel",
          "state": {
            "_view_name": "HBoxView",
            "_dom_classes": [],
            "_model_name": "HBoxModel",
            "_view_module": "@jupyter-widgets/controls",
            "_model_module_version": "1.5.0",
            "_view_count": null,
            "_view_module_version": "1.5.0",
            "box_style": "",
            "layout": "IPY_MODEL_555754cfb9d245d19a6359ff4dc4960d",
            "_model_module": "@jupyter-widgets/controls",
            "children": [
              "IPY_MODEL_9bdbc60f3a504c12800c5c19ce1ad92a",
              "IPY_MODEL_c5863e27fe2f46c9a838dc8dda88d0dc"
            ]
          }
        },
        "555754cfb9d245d19a6359ff4dc4960d": {
          "model_module": "@jupyter-widgets/base",
          "model_name": "LayoutModel",
          "state": {
            "_view_name": "LayoutView",
            "grid_template_rows": null,
            "right": null,
            "justify_content": null,
            "_view_module": "@jupyter-widgets/base",
            "overflow": null,
            "_model_module_version": "1.2.0",
            "_view_count": null,
            "flex_flow": null,
            "width": null,
            "min_width": null,
            "border": null,
            "align_items": null,
            "bottom": null,
            "_model_module": "@jupyter-widgets/base",
            "top": null,
            "grid_column": null,
            "overflow_y": null,
            "overflow_x": null,
            "grid_auto_flow": null,
            "grid_area": null,
            "grid_template_columns": null,
            "flex": null,
            "_model_name": "LayoutModel",
            "justify_items": null,
            "grid_row": null,
            "max_height": null,
            "align_content": null,
            "visibility": null,
            "align_self": null,
            "height": null,
            "min_height": null,
            "padding": null,
            "grid_auto_rows": null,
            "grid_gap": null,
            "max_width": null,
            "order": null,
            "_view_module_version": "1.2.0",
            "grid_template_areas": null,
            "object_position": null,
            "object_fit": null,
            "grid_auto_columns": null,
            "margin": null,
            "display": null,
            "left": null
          }
        },
        "9bdbc60f3a504c12800c5c19ce1ad92a": {
          "model_module": "@jupyter-widgets/controls",
          "model_name": "FloatProgressModel",
          "state": {
            "_view_name": "ProgressView",
            "style": "IPY_MODEL_64e3f26eb0434bbd9bb738ea59114cff",
            "_dom_classes": [],
            "description": "Downloading: 100%",
            "_model_name": "FloatProgressModel",
            "bar_style": "success",
            "max": 231508,
            "_view_module": "@jupyter-widgets/controls",
            "_model_module_version": "1.5.0",
            "value": 231508,
            "_view_count": null,
            "_view_module_version": "1.5.0",
            "orientation": "horizontal",
            "min": 0,
            "description_tooltip": null,
            "_model_module": "@jupyter-widgets/controls",
            "layout": "IPY_MODEL_dc021493b7b541f593d105816a62eca2"
          }
        },
        "c5863e27fe2f46c9a838dc8dda88d0dc": {
          "model_module": "@jupyter-widgets/controls",
          "model_name": "HTMLModel",
          "state": {
            "_view_name": "HTMLView",
            "style": "IPY_MODEL_b601ec864205419db83961bf974f4d0b",
            "_dom_classes": [],
            "description": "",
            "_model_name": "HTMLModel",
            "placeholder": "​",
            "_view_module": "@jupyter-widgets/controls",
            "_model_module_version": "1.5.0",
            "value": " 232k/232k [00:00&lt;00:00, 685kB/s]",
            "_view_count": null,
            "_view_module_version": "1.5.0",
            "description_tooltip": null,
            "_model_module": "@jupyter-widgets/controls",
            "layout": "IPY_MODEL_695ffe50aedf49729b104802af8ec1f0"
          }
        },
        "64e3f26eb0434bbd9bb738ea59114cff": {
          "model_module": "@jupyter-widgets/controls",
          "model_name": "ProgressStyleModel",
          "state": {
            "_view_name": "StyleView",
            "_model_name": "ProgressStyleModel",
            "description_width": "initial",
            "_view_module": "@jupyter-widgets/base",
            "_model_module_version": "1.5.0",
            "_view_count": null,
            "_view_module_version": "1.2.0",
            "bar_color": null,
            "_model_module": "@jupyter-widgets/controls"
          }
        },
        "dc021493b7b541f593d105816a62eca2": {
          "model_module": "@jupyter-widgets/base",
          "model_name": "LayoutModel",
          "state": {
            "_view_name": "LayoutView",
            "grid_template_rows": null,
            "right": null,
            "justify_content": null,
            "_view_module": "@jupyter-widgets/base",
            "overflow": null,
            "_model_module_version": "1.2.0",
            "_view_count": null,
            "flex_flow": null,
            "width": null,
            "min_width": null,
            "border": null,
            "align_items": null,
            "bottom": null,
            "_model_module": "@jupyter-widgets/base",
            "top": null,
            "grid_column": null,
            "overflow_y": null,
            "overflow_x": null,
            "grid_auto_flow": null,
            "grid_area": null,
            "grid_template_columns": null,
            "flex": null,
            "_model_name": "LayoutModel",
            "justify_items": null,
            "grid_row": null,
            "max_height": null,
            "align_content": null,
            "visibility": null,
            "align_self": null,
            "height": null,
            "min_height": null,
            "padding": null,
            "grid_auto_rows": null,
            "grid_gap": null,
            "max_width": null,
            "order": null,
            "_view_module_version": "1.2.0",
            "grid_template_areas": null,
            "object_position": null,
            "object_fit": null,
            "grid_auto_columns": null,
            "margin": null,
            "display": null,
            "left": null
          }
        },
        "b601ec864205419db83961bf974f4d0b": {
          "model_module": "@jupyter-widgets/controls",
          "model_name": "DescriptionStyleModel",
          "state": {
            "_view_name": "StyleView",
            "_model_name": "DescriptionStyleModel",
            "description_width": "",
            "_view_module": "@jupyter-widgets/base",
            "_model_module_version": "1.5.0",
            "_view_count": null,
            "_view_module_version": "1.2.0",
            "_model_module": "@jupyter-widgets/controls"
          }
        },
        "695ffe50aedf49729b104802af8ec1f0": {
          "model_module": "@jupyter-widgets/base",
          "model_name": "LayoutModel",
          "state": {
            "_view_name": "LayoutView",
            "grid_template_rows": null,
            "right": null,
            "justify_content": null,
            "_view_module": "@jupyter-widgets/base",
            "overflow": null,
            "_model_module_version": "1.2.0",
            "_view_count": null,
            "flex_flow": null,
            "width": null,
            "min_width": null,
            "border": null,
            "align_items": null,
            "bottom": null,
            "_model_module": "@jupyter-widgets/base",
            "top": null,
            "grid_column": null,
            "overflow_y": null,
            "overflow_x": null,
            "grid_auto_flow": null,
            "grid_area": null,
            "grid_template_columns": null,
            "flex": null,
            "_model_name": "LayoutModel",
            "justify_items": null,
            "grid_row": null,
            "max_height": null,
            "align_content": null,
            "visibility": null,
            "align_self": null,
            "height": null,
            "min_height": null,
            "padding": null,
            "grid_auto_rows": null,
            "grid_gap": null,
            "max_width": null,
            "order": null,
            "_view_module_version": "1.2.0",
            "grid_template_areas": null,
            "object_position": null,
            "object_fit": null,
            "grid_auto_columns": null,
            "margin": null,
            "display": null,
            "left": null
          }
        },
        "45201a6b0edf464b8c8a6b5a2963b24b": {
          "model_module": "@jupyter-widgets/controls",
          "model_name": "HBoxModel",
          "state": {
            "_view_name": "HBoxView",
            "_dom_classes": [],
            "_model_name": "HBoxModel",
            "_view_module": "@jupyter-widgets/controls",
            "_model_module_version": "1.5.0",
            "_view_count": null,
            "_view_module_version": "1.5.0",
            "box_style": "",
            "layout": "IPY_MODEL_7a3719b83e6a44ec92665045cd2c41da",
            "_model_module": "@jupyter-widgets/controls",
            "children": [
              "IPY_MODEL_ec5d82968f2a47e89488589b6fd14e53",
              "IPY_MODEL_b23d9b570174426fbd902eccf3e55d5b"
            ]
          }
        },
        "7a3719b83e6a44ec92665045cd2c41da": {
          "model_module": "@jupyter-widgets/base",
          "model_name": "LayoutModel",
          "state": {
            "_view_name": "LayoutView",
            "grid_template_rows": null,
            "right": null,
            "justify_content": null,
            "_view_module": "@jupyter-widgets/base",
            "overflow": null,
            "_model_module_version": "1.2.0",
            "_view_count": null,
            "flex_flow": null,
            "width": null,
            "min_width": null,
            "border": null,
            "align_items": null,
            "bottom": null,
            "_model_module": "@jupyter-widgets/base",
            "top": null,
            "grid_column": null,
            "overflow_y": null,
            "overflow_x": null,
            "grid_auto_flow": null,
            "grid_area": null,
            "grid_template_columns": null,
            "flex": null,
            "_model_name": "LayoutModel",
            "justify_items": null,
            "grid_row": null,
            "max_height": null,
            "align_content": null,
            "visibility": null,
            "align_self": null,
            "height": null,
            "min_height": null,
            "padding": null,
            "grid_auto_rows": null,
            "grid_gap": null,
            "max_width": null,
            "order": null,
            "_view_module_version": "1.2.0",
            "grid_template_areas": null,
            "object_position": null,
            "object_fit": null,
            "grid_auto_columns": null,
            "margin": null,
            "display": null,
            "left": null
          }
        },
        "ec5d82968f2a47e89488589b6fd14e53": {
          "model_module": "@jupyter-widgets/controls",
          "model_name": "FloatProgressModel",
          "state": {
            "_view_name": "ProgressView",
            "style": "IPY_MODEL_922c08e369d6469287b7058f5c745d13",
            "_dom_classes": [],
            "description": "Downloading: 100%",
            "_model_name": "FloatProgressModel",
            "bar_style": "success",
            "max": 466062,
            "_view_module": "@jupyter-widgets/controls",
            "_model_module_version": "1.5.0",
            "value": 466062,
            "_view_count": null,
            "_view_module_version": "1.5.0",
            "orientation": "horizontal",
            "min": 0,
            "description_tooltip": null,
            "_model_module": "@jupyter-widgets/controls",
            "layout": "IPY_MODEL_7e89e50879504303a0096d4204a4cd6f"
          }
        },
        "b23d9b570174426fbd902eccf3e55d5b": {
          "model_module": "@jupyter-widgets/controls",
          "model_name": "HTMLModel",
          "state": {
            "_view_name": "HTMLView",
            "style": "IPY_MODEL_965880a747144734867a0d8914ff77d6",
            "_dom_classes": [],
            "description": "",
            "_model_name": "HTMLModel",
            "placeholder": "​",
            "_view_module": "@jupyter-widgets/controls",
            "_model_module_version": "1.5.0",
            "value": " 466k/466k [00:20&lt;00:00, 22.4kB/s]",
            "_view_count": null,
            "_view_module_version": "1.5.0",
            "description_tooltip": null,
            "_model_module": "@jupyter-widgets/controls",
            "layout": "IPY_MODEL_1b5e108d83444a1f8a3b470ac30b4419"
          }
        },
        "922c08e369d6469287b7058f5c745d13": {
          "model_module": "@jupyter-widgets/controls",
          "model_name": "ProgressStyleModel",
          "state": {
            "_view_name": "StyleView",
            "_model_name": "ProgressStyleModel",
            "description_width": "initial",
            "_view_module": "@jupyter-widgets/base",
            "_model_module_version": "1.5.0",
            "_view_count": null,
            "_view_module_version": "1.2.0",
            "bar_color": null,
            "_model_module": "@jupyter-widgets/controls"
          }
        },
        "7e89e50879504303a0096d4204a4cd6f": {
          "model_module": "@jupyter-widgets/base",
          "model_name": "LayoutModel",
          "state": {
            "_view_name": "LayoutView",
            "grid_template_rows": null,
            "right": null,
            "justify_content": null,
            "_view_module": "@jupyter-widgets/base",
            "overflow": null,
            "_model_module_version": "1.2.0",
            "_view_count": null,
            "flex_flow": null,
            "width": null,
            "min_width": null,
            "border": null,
            "align_items": null,
            "bottom": null,
            "_model_module": "@jupyter-widgets/base",
            "top": null,
            "grid_column": null,
            "overflow_y": null,
            "overflow_x": null,
            "grid_auto_flow": null,
            "grid_area": null,
            "grid_template_columns": null,
            "flex": null,
            "_model_name": "LayoutModel",
            "justify_items": null,
            "grid_row": null,
            "max_height": null,
            "align_content": null,
            "visibility": null,
            "align_self": null,
            "height": null,
            "min_height": null,
            "padding": null,
            "grid_auto_rows": null,
            "grid_gap": null,
            "max_width": null,
            "order": null,
            "_view_module_version": "1.2.0",
            "grid_template_areas": null,
            "object_position": null,
            "object_fit": null,
            "grid_auto_columns": null,
            "margin": null,
            "display": null,
            "left": null
          }
        },
        "965880a747144734867a0d8914ff77d6": {
          "model_module": "@jupyter-widgets/controls",
          "model_name": "DescriptionStyleModel",
          "state": {
            "_view_name": "StyleView",
            "_model_name": "DescriptionStyleModel",
            "description_width": "",
            "_view_module": "@jupyter-widgets/base",
            "_model_module_version": "1.5.0",
            "_view_count": null,
            "_view_module_version": "1.2.0",
            "_model_module": "@jupyter-widgets/controls"
          }
        },
        "1b5e108d83444a1f8a3b470ac30b4419": {
          "model_module": "@jupyter-widgets/base",
          "model_name": "LayoutModel",
          "state": {
            "_view_name": "LayoutView",
            "grid_template_rows": null,
            "right": null,
            "justify_content": null,
            "_view_module": "@jupyter-widgets/base",
            "overflow": null,
            "_model_module_version": "1.2.0",
            "_view_count": null,
            "flex_flow": null,
            "width": null,
            "min_width": null,
            "border": null,
            "align_items": null,
            "bottom": null,
            "_model_module": "@jupyter-widgets/base",
            "top": null,
            "grid_column": null,
            "overflow_y": null,
            "overflow_x": null,
            "grid_auto_flow": null,
            "grid_area": null,
            "grid_template_columns": null,
            "flex": null,
            "_model_name": "LayoutModel",
            "justify_items": null,
            "grid_row": null,
            "max_height": null,
            "align_content": null,
            "visibility": null,
            "align_self": null,
            "height": null,
            "min_height": null,
            "padding": null,
            "grid_auto_rows": null,
            "grid_gap": null,
            "max_width": null,
            "order": null,
            "_view_module_version": "1.2.0",
            "grid_template_areas": null,
            "object_position": null,
            "object_fit": null,
            "grid_auto_columns": null,
            "margin": null,
            "display": null,
            "left": null
          }
        },
        "b851123e9af04f839b5f0150de374e5e": {
          "model_module": "@jupyter-widgets/controls",
          "model_name": "HBoxModel",
          "state": {
            "_view_name": "HBoxView",
            "_dom_classes": [],
            "_model_name": "HBoxModel",
            "_view_module": "@jupyter-widgets/controls",
            "_model_module_version": "1.5.0",
            "_view_count": null,
            "_view_module_version": "1.5.0",
            "box_style": "",
            "layout": "IPY_MODEL_8faf2261669b48d2a39111a7a30ea79a",
            "_model_module": "@jupyter-widgets/controls",
            "children": [
              "IPY_MODEL_b7140e63ba6a440280f2c71003a127e4",
              "IPY_MODEL_df39a4e0ef19479ca590f24cc9d451f7"
            ]
          }
        },
        "8faf2261669b48d2a39111a7a30ea79a": {
          "model_module": "@jupyter-widgets/base",
          "model_name": "LayoutModel",
          "state": {
            "_view_name": "LayoutView",
            "grid_template_rows": null,
            "right": null,
            "justify_content": null,
            "_view_module": "@jupyter-widgets/base",
            "overflow": null,
            "_model_module_version": "1.2.0",
            "_view_count": null,
            "flex_flow": null,
            "width": null,
            "min_width": null,
            "border": null,
            "align_items": null,
            "bottom": null,
            "_model_module": "@jupyter-widgets/base",
            "top": null,
            "grid_column": null,
            "overflow_y": null,
            "overflow_x": null,
            "grid_auto_flow": null,
            "grid_area": null,
            "grid_template_columns": null,
            "flex": null,
            "_model_name": "LayoutModel",
            "justify_items": null,
            "grid_row": null,
            "max_height": null,
            "align_content": null,
            "visibility": null,
            "align_self": null,
            "height": null,
            "min_height": null,
            "padding": null,
            "grid_auto_rows": null,
            "grid_gap": null,
            "max_width": null,
            "order": null,
            "_view_module_version": "1.2.0",
            "grid_template_areas": null,
            "object_position": null,
            "object_fit": null,
            "grid_auto_columns": null,
            "margin": null,
            "display": null,
            "left": null
          }
        },
        "b7140e63ba6a440280f2c71003a127e4": {
          "model_module": "@jupyter-widgets/controls",
          "model_name": "FloatProgressModel",
          "state": {
            "_view_name": "ProgressView",
            "style": "IPY_MODEL_c81ba20bbaf243b29032123b609607b8",
            "_dom_classes": [],
            "description": "Downloading: 100%",
            "_model_name": "FloatProgressModel",
            "bar_style": "success",
            "max": 536063208,
            "_view_module": "@jupyter-widgets/controls",
            "_model_module_version": "1.5.0",
            "value": 536063208,
            "_view_count": null,
            "_view_module_version": "1.5.0",
            "orientation": "horizontal",
            "min": 0,
            "description_tooltip": null,
            "_model_module": "@jupyter-widgets/controls",
            "layout": "IPY_MODEL_8db86cc607a34ab5b280567d0dc32320"
          }
        },
        "df39a4e0ef19479ca590f24cc9d451f7": {
          "model_module": "@jupyter-widgets/controls",
          "model_name": "HTMLModel",
          "state": {
            "_view_name": "HTMLView",
            "style": "IPY_MODEL_c676a3b4d0674a37815227e437681086",
            "_dom_classes": [],
            "description": "",
            "_model_name": "HTMLModel",
            "placeholder": "​",
            "_view_module": "@jupyter-widgets/controls",
            "_model_module_version": "1.5.0",
            "value": " 536M/536M [00:08&lt;00:00, 60.9MB/s]",
            "_view_count": null,
            "_view_module_version": "1.5.0",
            "description_tooltip": null,
            "_model_module": "@jupyter-widgets/controls",
            "layout": "IPY_MODEL_bc6258ba37fd450a88d846a203386689"
          }
        },
        "c81ba20bbaf243b29032123b609607b8": {
          "model_module": "@jupyter-widgets/controls",
          "model_name": "ProgressStyleModel",
          "state": {
            "_view_name": "StyleView",
            "_model_name": "ProgressStyleModel",
            "description_width": "initial",
            "_view_module": "@jupyter-widgets/base",
            "_model_module_version": "1.5.0",
            "_view_count": null,
            "_view_module_version": "1.2.0",
            "bar_color": null,
            "_model_module": "@jupyter-widgets/controls"
          }
        },
        "8db86cc607a34ab5b280567d0dc32320": {
          "model_module": "@jupyter-widgets/base",
          "model_name": "LayoutModel",
          "state": {
            "_view_name": "LayoutView",
            "grid_template_rows": null,
            "right": null,
            "justify_content": null,
            "_view_module": "@jupyter-widgets/base",
            "overflow": null,
            "_model_module_version": "1.2.0",
            "_view_count": null,
            "flex_flow": null,
            "width": null,
            "min_width": null,
            "border": null,
            "align_items": null,
            "bottom": null,
            "_model_module": "@jupyter-widgets/base",
            "top": null,
            "grid_column": null,
            "overflow_y": null,
            "overflow_x": null,
            "grid_auto_flow": null,
            "grid_area": null,
            "grid_template_columns": null,
            "flex": null,
            "_model_name": "LayoutModel",
            "justify_items": null,
            "grid_row": null,
            "max_height": null,
            "align_content": null,
            "visibility": null,
            "align_self": null,
            "height": null,
            "min_height": null,
            "padding": null,
            "grid_auto_rows": null,
            "grid_gap": null,
            "max_width": null,
            "order": null,
            "_view_module_version": "1.2.0",
            "grid_template_areas": null,
            "object_position": null,
            "object_fit": null,
            "grid_auto_columns": null,
            "margin": null,
            "display": null,
            "left": null
          }
        },
        "c676a3b4d0674a37815227e437681086": {
          "model_module": "@jupyter-widgets/controls",
          "model_name": "DescriptionStyleModel",
          "state": {
            "_view_name": "StyleView",
            "_model_name": "DescriptionStyleModel",
            "description_width": "",
            "_view_module": "@jupyter-widgets/base",
            "_model_module_version": "1.5.0",
            "_view_count": null,
            "_view_module_version": "1.2.0",
            "_model_module": "@jupyter-widgets/controls"
          }
        },
        "bc6258ba37fd450a88d846a203386689": {
          "model_module": "@jupyter-widgets/base",
          "model_name": "LayoutModel",
          "state": {
            "_view_name": "LayoutView",
            "grid_template_rows": null,
            "right": null,
            "justify_content": null,
            "_view_module": "@jupyter-widgets/base",
            "overflow": null,
            "_model_module_version": "1.2.0",
            "_view_count": null,
            "flex_flow": null,
            "width": null,
            "min_width": null,
            "border": null,
            "align_items": null,
            "bottom": null,
            "_model_module": "@jupyter-widgets/base",
            "top": null,
            "grid_column": null,
            "overflow_y": null,
            "overflow_x": null,
            "grid_auto_flow": null,
            "grid_area": null,
            "grid_template_columns": null,
            "flex": null,
            "_model_name": "LayoutModel",
            "justify_items": null,
            "grid_row": null,
            "max_height": null,
            "align_content": null,
            "visibility": null,
            "align_self": null,
            "height": null,
            "min_height": null,
            "padding": null,
            "grid_auto_rows": null,
            "grid_gap": null,
            "max_width": null,
            "order": null,
            "_view_module_version": "1.2.0",
            "grid_template_areas": null,
            "object_position": null,
            "object_fit": null,
            "grid_auto_columns": null,
            "margin": null,
            "display": null,
            "left": null
          }
        }
      }
    },
    "accelerator": "GPU"
  },
  "cells": [
    {
      "cell_type": "markdown",
      "metadata": {
        "id": "view-in-github",
        "colab_type": "text"
      },
      "source": [
        "<a href=\"https://colab.research.google.com/github/Dirkster99/PyNotes/blob/master/Transformers/LocalModelUsage_Finetuning/62_Transformer_4_Language_Classification_MultiClass.ipynb\" target=\"_parent\"><img src=\"https://colab.research.google.com/assets/colab-badge.svg\" alt=\"Open In Colab\"/></a>"
      ]
    },
    {
      "cell_type": "code",
      "metadata": {
        "colab": {
          "base_uri": "https://localhost:8080/"
        },
        "id": "DDLTyAriDDLg",
        "outputId": "e7ea5877-98ed-4f40-dbc9-f03dd434e206"
      },
      "source": [
        "!pip install transformers==4.2.1"
      ],
      "execution_count": 7,
      "outputs": [
        {
          "output_type": "stream",
          "text": [
            "Collecting transformers==4.2.1\n",
            "\u001b[?25l  Downloading https://files.pythonhosted.org/packages/cd/40/866cbfac4601e0f74c7303d533a9c5d4a53858bd402e08e3e294dd271f25/transformers-4.2.1-py3-none-any.whl (1.8MB)\n",
            "\u001b[K     |████████████████████████████████| 1.8MB 5.1MB/s \n",
            "\u001b[?25hRequirement already satisfied: requests in /usr/local/lib/python3.7/dist-packages (from transformers==4.2.1) (2.23.0)\n",
            "Requirement already satisfied: tqdm>=4.27 in /usr/local/lib/python3.7/dist-packages (from transformers==4.2.1) (4.41.1)\n",
            "Requirement already satisfied: packaging in /usr/local/lib/python3.7/dist-packages (from transformers==4.2.1) (20.9)\n",
            "Requirement already satisfied: filelock in /usr/local/lib/python3.7/dist-packages (from transformers==4.2.1) (3.0.12)\n",
            "Collecting sacremoses\n",
            "\u001b[?25l  Downloading https://files.pythonhosted.org/packages/7d/34/09d19aff26edcc8eb2a01bed8e98f13a1537005d31e95233fd48216eed10/sacremoses-0.0.43.tar.gz (883kB)\n",
            "\u001b[K     |████████████████████████████████| 890kB 20.3MB/s \n",
            "\u001b[?25hCollecting tokenizers==0.9.4\n",
            "\u001b[?25l  Downloading https://files.pythonhosted.org/packages/fb/36/59e4a62254c5fcb43894c6b0e9403ec6f4238cc2422a003ed2e6279a1784/tokenizers-0.9.4-cp37-cp37m-manylinux2010_x86_64.whl (2.9MB)\n",
            "\u001b[K     |████████████████████████████████| 2.9MB 34.4MB/s \n",
            "\u001b[?25hRequirement already satisfied: importlib-metadata; python_version < \"3.8\" in /usr/local/lib/python3.7/dist-packages (from transformers==4.2.1) (3.7.0)\n",
            "Requirement already satisfied: regex!=2019.12.17 in /usr/local/lib/python3.7/dist-packages (from transformers==4.2.1) (2019.12.20)\n",
            "Requirement already satisfied: numpy in /usr/local/lib/python3.7/dist-packages (from transformers==4.2.1) (1.19.5)\n",
            "Requirement already satisfied: chardet<4,>=3.0.2 in /usr/local/lib/python3.7/dist-packages (from requests->transformers==4.2.1) (3.0.4)\n",
            "Requirement already satisfied: certifi>=2017.4.17 in /usr/local/lib/python3.7/dist-packages (from requests->transformers==4.2.1) (2020.12.5)\n",
            "Requirement already satisfied: idna<3,>=2.5 in /usr/local/lib/python3.7/dist-packages (from requests->transformers==4.2.1) (2.10)\n",
            "Requirement already satisfied: urllib3!=1.25.0,!=1.25.1,<1.26,>=1.21.1 in /usr/local/lib/python3.7/dist-packages (from requests->transformers==4.2.1) (1.24.3)\n",
            "Requirement already satisfied: pyparsing>=2.0.2 in /usr/local/lib/python3.7/dist-packages (from packaging->transformers==4.2.1) (2.4.7)\n",
            "Requirement already satisfied: six in /usr/local/lib/python3.7/dist-packages (from sacremoses->transformers==4.2.1) (1.15.0)\n",
            "Requirement already satisfied: click in /usr/local/lib/python3.7/dist-packages (from sacremoses->transformers==4.2.1) (7.1.2)\n",
            "Requirement already satisfied: joblib in /usr/local/lib/python3.7/dist-packages (from sacremoses->transformers==4.2.1) (1.0.1)\n",
            "Requirement already satisfied: zipp>=0.5 in /usr/local/lib/python3.7/dist-packages (from importlib-metadata; python_version < \"3.8\"->transformers==4.2.1) (3.4.1)\n",
            "Requirement already satisfied: typing-extensions>=3.6.4; python_version < \"3.8\" in /usr/local/lib/python3.7/dist-packages (from importlib-metadata; python_version < \"3.8\"->transformers==4.2.1) (3.7.4.3)\n",
            "Building wheels for collected packages: sacremoses\n",
            "  Building wheel for sacremoses (setup.py) ... \u001b[?25l\u001b[?25hdone\n",
            "  Created wheel for sacremoses: filename=sacremoses-0.0.43-cp37-none-any.whl size=893262 sha256=ff2d06919a75b56a0f22857fb2605445464ae4542f4e2ca172acf1b8d2585dc3\n",
            "  Stored in directory: /root/.cache/pip/wheels/29/3c/fd/7ce5c3f0666dab31a50123635e6fb5e19ceb42ce38d4e58f45\n",
            "Successfully built sacremoses\n",
            "Installing collected packages: sacremoses, tokenizers, transformers\n",
            "Successfully installed sacremoses-0.0.43 tokenizers-0.9.4 transformers-4.2.1\n"
          ],
          "name": "stdout"
        }
      ]
    },
    {
      "cell_type": "markdown",
      "metadata": {
        "id": "ia9W-HzFDaub"
      },
      "source": [
        "# Six steps towards building a Language Classification Model with Transformers and TensorFlow 2.0"
      ]
    },
    {
      "cell_type": "markdown",
      "metadata": {
        "id": "WJql3VeHD7Nn"
      },
      "source": [
        "Original Author: James Briggs\r\n",
        "https://www.youtube.com/watch?v=GYDFBfx8Ts8"
      ]
    },
    {
      "cell_type": "markdown",
      "metadata": {
        "id": "WzlppuarDagD"
      },
      "source": [
        "## Download and Preprocessing Data"
      ]
    },
    {
      "cell_type": "markdown",
      "metadata": {
        "id": "hJBaeUYAE4qd"
      },
      "source": [
        "### 20 News Groups Categorization Dataset"
      ]
    },
    {
      "cell_type": "code",
      "metadata": {
        "colab": {
          "base_uri": "https://localhost:8080/"
        },
        "id": "UXw-mgikFgen",
        "outputId": "ac0c379b-9ba0-4a75-9466-67e1d1aa141a"
      },
      "source": [
        "from google.colab import drive\n",
        "drive.mount('/gdrive')"
      ],
      "execution_count": 8,
      "outputs": [
        {
          "output_type": "stream",
          "text": [
            "Mounted at /gdrive\n"
          ],
          "name": "stdout"
        }
      ]
    },
    {
      "cell_type": "code",
      "metadata": {
        "colab": {
          "base_uri": "https://localhost:8080/"
        },
        "id": "lNCAQBZpFgep",
        "outputId": "7ace2d4d-927e-47e2-89e1-8eb5937069a8"
      },
      "source": [
        "dataPath = '/gdrive/MyDrive/Colab Notebooks/20_Newsgroups TextClassification/data/'\n",
        "!ls {dataPath.replace(' ', '\\ ')}"
      ],
      "execution_count": 9,
      "outputs": [
        {
          "output_type": "stream",
          "text": [
            "20news-bydate\t      20_newsgroups_data.csv\t\t   model\n",
            "20news-bydate.tar.gz  20_newsgroups_data_no_filenames.csv\n"
          ],
          "name": "stdout"
        }
      ]
    },
    {
      "cell_type": "code",
      "metadata": {
        "colab": {
          "base_uri": "https://localhost:8080/",
          "height": 206
        },
        "id": "dhrAIBSQGG1X",
        "outputId": "e7b2ebc2-8585-4623-cd12-1c45e1509903"
      },
      "source": [
        "import pandas as pd\r\n",
        "df = pd.read_csv(dataPath + '20_newsgroups_data_no_filenames.csv', sep='|')\r\n",
        "df.head()"
      ],
      "execution_count": 10,
      "outputs": [
        {
          "output_type": "execute_result",
          "data": {
            "text/html": [
              "<div>\n",
              "<style scoped>\n",
              "    .dataframe tbody tr th:only-of-type {\n",
              "        vertical-align: middle;\n",
              "    }\n",
              "\n",
              "    .dataframe tbody tr th {\n",
              "        vertical-align: top;\n",
              "    }\n",
              "\n",
              "    .dataframe thead th {\n",
              "        text-align: right;\n",
              "    }\n",
              "</style>\n",
              "<table border=\"1\" class=\"dataframe\">\n",
              "  <thead>\n",
              "    <tr style=\"text-align: right;\">\n",
              "      <th></th>\n",
              "      <th>category</th>\n",
              "      <th>news</th>\n",
              "    </tr>\n",
              "  </thead>\n",
              "  <tbody>\n",
              "    <tr>\n",
              "      <th>0</th>\n",
              "      <td>rec.sport.baseball</td>\n",
              "      <td>From: cubbie@garnet.berkeley.edu (            ...</td>\n",
              "    </tr>\n",
              "    <tr>\n",
              "      <th>1</th>\n",
              "      <td>comp.sys.mac.hardware</td>\n",
              "      <td>From: gnelson@pion.rutgers.edu (Gregory Nelson...</td>\n",
              "    </tr>\n",
              "    <tr>\n",
              "      <th>2</th>\n",
              "      <td>sci.crypt</td>\n",
              "      <td>From: crypt-comments@math.ncsu.edu\\nSubject: C...</td>\n",
              "    </tr>\n",
              "    <tr>\n",
              "      <th>3</th>\n",
              "      <td>alt.atheism</td>\n",
              "      <td>From: keith@cco.caltech.edu (Keith Allan Schne...</td>\n",
              "    </tr>\n",
              "    <tr>\n",
              "      <th>4</th>\n",
              "      <td>comp.sys.mac.hardware</td>\n",
              "      <td>From: taihou@chromium.iss.nus.sg (Tng Tai Hou)...</td>\n",
              "    </tr>\n",
              "  </tbody>\n",
              "</table>\n",
              "</div>"
            ],
            "text/plain": [
              "                category                                               news\n",
              "0     rec.sport.baseball  From: cubbie@garnet.berkeley.edu (            ...\n",
              "1  comp.sys.mac.hardware  From: gnelson@pion.rutgers.edu (Gregory Nelson...\n",
              "2              sci.crypt  From: crypt-comments@math.ncsu.edu\\nSubject: C...\n",
              "3            alt.atheism  From: keith@cco.caltech.edu (Keith Allan Schne...\n",
              "4  comp.sys.mac.hardware  From: taihou@chromium.iss.nus.sg (Tng Tai Hou)..."
            ]
          },
          "metadata": {
            "tags": []
          },
          "execution_count": 10
        }
      ]
    },
    {
      "cell_type": "code",
      "metadata": {
        "colab": {
          "base_uri": "https://localhost:8080/"
        },
        "id": "LgHYZu7eLtw2",
        "outputId": "80a21dff-07e6-4033-d22c-59736e48d0b4"
      },
      "source": [
        "# Generate number representation for category field\r\n",
        "df['label'] = pd.Categorical(df.category, ordered=True).codes\r\n",
        "df['label'].unique()"
      ],
      "execution_count": 11,
      "outputs": [
        {
          "output_type": "execute_result",
          "data": {
            "text/plain": [
              "array([ 9,  4, 11,  0,  5, 13, 12, 17, 10,  6,  7,  2,  8, 14,  1,  3, 16,\n",
              "       18, 19, 15], dtype=int8)"
            ]
          },
          "metadata": {
            "tags": []
          },
          "execution_count": 11
        }
      ]
    },
    {
      "cell_type": "code",
      "metadata": {
        "colab": {
          "base_uri": "https://localhost:8080/"
        },
        "id": "JY7qevRYLtea",
        "outputId": "d6137f29-0c42-45e6-82a4-eef2c844477a"
      },
      "source": [
        "# Map labels to humand readable category inside a dictionary\r\n",
        "mapLabels = pd.DataFrame(df.groupby(['category', 'label']).count())\r\n",
        "\r\n",
        "#drop count column\r\n",
        "mapLabels.drop(['news'], axis = 1, inplace = True)\r\n",
        "label2Index = mapLabels.to_dict(orient='index')\r\n",
        "\r\n",
        "print (f\"label2Index :{label2Index}\")\r\n",
        "print (type(label2Index))\r\n",
        "#print (f\"index2Label :{index2Label}\")"
      ],
      "execution_count": 12,
      "outputs": [
        {
          "output_type": "stream",
          "text": [
            "label2Index :{('alt.atheism', 0): {}, ('comp.graphics', 1): {}, ('comp.os.ms-windows.misc', 2): {}, ('comp.sys.ibm.pc.hardware', 3): {}, ('comp.sys.mac.hardware', 4): {}, ('comp.windows.x', 5): {}, ('misc.forsale', 6): {}, ('rec.autos', 7): {}, ('rec.motorcycles', 8): {}, ('rec.sport.baseball', 9): {}, ('rec.sport.hockey', 10): {}, ('sci.crypt', 11): {}, ('sci.electronics', 12): {}, ('sci.med', 13): {}, ('sci.space', 14): {}, ('soc.religion.christian', 15): {}, ('talk.politics.guns', 16): {}, ('talk.politics.mideast', 17): {}, ('talk.politics.misc', 18): {}, ('talk.religion.misc', 19): {}}\n",
            "<class 'dict'>\n"
          ],
          "name": "stdout"
        }
      ]
    },
    {
      "cell_type": "code",
      "metadata": {
        "colab": {
          "base_uri": "https://localhost:8080/"
        },
        "id": "rGuO3TWvL6Nq",
        "outputId": "577f12e4-fd27-4599-d427-eed5fdd1d0f9"
      },
      "source": [
        "# generate inverse dictionary to map in both directions\r\n",
        "index2label = {}\r\n",
        "\r\n",
        "for key in label2Index:\r\n",
        "  print (f\"{key[1]} -> {key[0]}\")\r\n",
        "  index2label[key[1]] = key[0]"
      ],
      "execution_count": 13,
      "outputs": [
        {
          "output_type": "stream",
          "text": [
            "0 -> alt.atheism\n",
            "1 -> comp.graphics\n",
            "2 -> comp.os.ms-windows.misc\n",
            "3 -> comp.sys.ibm.pc.hardware\n",
            "4 -> comp.sys.mac.hardware\n",
            "5 -> comp.windows.x\n",
            "6 -> misc.forsale\n",
            "7 -> rec.autos\n",
            "8 -> rec.motorcycles\n",
            "9 -> rec.sport.baseball\n",
            "10 -> rec.sport.hockey\n",
            "11 -> sci.crypt\n",
            "12 -> sci.electronics\n",
            "13 -> sci.med\n",
            "14 -> sci.space\n",
            "15 -> soc.religion.christian\n",
            "16 -> talk.politics.guns\n",
            "17 -> talk.politics.mideast\n",
            "18 -> talk.politics.misc\n",
            "19 -> talk.religion.misc\n"
          ],
          "name": "stdout"
        }
      ]
    },
    {
      "cell_type": "code",
      "metadata": {
        "colab": {
          "base_uri": "https://localhost:8080/"
        },
        "id": "xuHEbKFhL6Tn",
        "outputId": "b1529264-21a4-4c47-f54e-d4d52fcf44e1"
      },
      "source": [
        "label2Index = {v: k for k, v in index2label.items()}\r\n",
        "\r\n",
        "print (f'label2Index: {label2Index}')\r\n",
        "print (f'index2label: {index2label}')"
      ],
      "execution_count": 14,
      "outputs": [
        {
          "output_type": "stream",
          "text": [
            "label2Index: {'alt.atheism': 0, 'comp.graphics': 1, 'comp.os.ms-windows.misc': 2, 'comp.sys.ibm.pc.hardware': 3, 'comp.sys.mac.hardware': 4, 'comp.windows.x': 5, 'misc.forsale': 6, 'rec.autos': 7, 'rec.motorcycles': 8, 'rec.sport.baseball': 9, 'rec.sport.hockey': 10, 'sci.crypt': 11, 'sci.electronics': 12, 'sci.med': 13, 'sci.space': 14, 'soc.religion.christian': 15, 'talk.politics.guns': 16, 'talk.politics.mideast': 17, 'talk.politics.misc': 18, 'talk.religion.misc': 19}\n",
            "index2label: {0: 'alt.atheism', 1: 'comp.graphics', 2: 'comp.os.ms-windows.misc', 3: 'comp.sys.ibm.pc.hardware', 4: 'comp.sys.mac.hardware', 5: 'comp.windows.x', 6: 'misc.forsale', 7: 'rec.autos', 8: 'rec.motorcycles', 9: 'rec.sport.baseball', 10: 'rec.sport.hockey', 11: 'sci.crypt', 12: 'sci.electronics', 13: 'sci.med', 14: 'sci.space', 15: 'soc.religion.christian', 16: 'talk.politics.guns', 17: 'talk.politics.mideast', 18: 'talk.politics.misc', 19: 'talk.religion.misc'}\n"
          ],
          "name": "stdout"
        }
      ]
    },
    {
      "cell_type": "code",
      "metadata": {
        "id": "Crrzuh66bsgT"
      },
      "source": [
        "# Remoe Email address to avoid additional noise\r\n",
        "df.news.replace(r'[a-zA-Z0-9_.+-]+@[a-zA-Z0-9-]+\\.[a-zA-Z0-9-.]+', '', regex=True, inplace=True)"
      ],
      "execution_count": 15,
      "outputs": []
    },
    {
      "cell_type": "code",
      "metadata": {
        "id": "W4YNoaoDaK5v"
      },
      "source": [
        "df.rename(columns = {'label' : 'labels', 'news' : 'text'}, inplace = True)"
      ],
      "execution_count": 16,
      "outputs": []
    },
    {
      "cell_type": "code",
      "metadata": {
        "id": "WlfQrabQ0XJc"
      },
      "source": [
        "df = df[['text','labels']]"
      ],
      "execution_count": 17,
      "outputs": []
    },
    {
      "cell_type": "code",
      "metadata": {
        "colab": {
          "base_uri": "https://localhost:8080/",
          "height": 206
        },
        "id": "RMkmS0d-aKuX",
        "outputId": "c18e7a10-c92a-482f-a82b-3530c5a5e3d4"
      },
      "source": [
        "df.head()"
      ],
      "execution_count": 18,
      "outputs": [
        {
          "output_type": "execute_result",
          "data": {
            "text/html": [
              "<div>\n",
              "<style scoped>\n",
              "    .dataframe tbody tr th:only-of-type {\n",
              "        vertical-align: middle;\n",
              "    }\n",
              "\n",
              "    .dataframe tbody tr th {\n",
              "        vertical-align: top;\n",
              "    }\n",
              "\n",
              "    .dataframe thead th {\n",
              "        text-align: right;\n",
              "    }\n",
              "</style>\n",
              "<table border=\"1\" class=\"dataframe\">\n",
              "  <thead>\n",
              "    <tr style=\"text-align: right;\">\n",
              "      <th></th>\n",
              "      <th>text</th>\n",
              "      <th>labels</th>\n",
              "    </tr>\n",
              "  </thead>\n",
              "  <tbody>\n",
              "    <tr>\n",
              "      <th>0</th>\n",
              "      <td>From:  (                               )\\nSubj...</td>\n",
              "      <td>9</td>\n",
              "    </tr>\n",
              "    <tr>\n",
              "      <th>1</th>\n",
              "      <td>From:  (Gregory Nelson)\\nSubject: Thanks Apple...</td>\n",
              "      <td>4</td>\n",
              "    </tr>\n",
              "    <tr>\n",
              "      <th>2</th>\n",
              "      <td>From: \\nSubject: Cryptography FAQ 10/10 - Refe...</td>\n",
              "      <td>11</td>\n",
              "    </tr>\n",
              "    <tr>\n",
              "      <th>3</th>\n",
              "      <td>From:  (Keith Allan Schneider)\\nSubject: Re: &lt;...</td>\n",
              "      <td>0</td>\n",
              "    </tr>\n",
              "    <tr>\n",
              "      <th>4</th>\n",
              "      <td>From:  (Tng Tai Hou)\\nSubject: ADB and graphic...</td>\n",
              "      <td>4</td>\n",
              "    </tr>\n",
              "  </tbody>\n",
              "</table>\n",
              "</div>"
            ],
            "text/plain": [
              "                                                text  labels\n",
              "0  From:  (                               )\\nSubj...       9\n",
              "1  From:  (Gregory Nelson)\\nSubject: Thanks Apple...       4\n",
              "2  From: \\nSubject: Cryptography FAQ 10/10 - Refe...      11\n",
              "3  From:  (Keith Allan Schneider)\\nSubject: Re: <...       0\n",
              "4  From:  (Tng Tai Hou)\\nSubject: ADB and graphic...       4"
            ]
          },
          "metadata": {
            "tags": []
          },
          "execution_count": 18
        }
      ]
    },
    {
      "cell_type": "code",
      "metadata": {
        "id": "IkInWDIsM7r9"
      },
      "source": [
        "# Drop duplicates to avoid pulliting the test data set with previously seen training data\r\n",
        "# when doing a simple test/train split on 1 file instead of using 2 files\r\n",
        "# df.drop_duplicates(subset='text', keep='first', inplace=True)"
      ],
      "execution_count": 19,
      "outputs": []
    },
    {
      "cell_type": "code",
      "metadata": {
        "colab": {
          "base_uri": "https://localhost:8080/"
        },
        "id": "UpI1pKfuNXcq",
        "outputId": "3ddda524-6286-4005-edf3-102735ae2e82"
      },
      "source": [
        "df.count()"
      ],
      "execution_count": 20,
      "outputs": [
        {
          "output_type": "execute_result",
          "data": {
            "text/plain": [
              "text      11270\n",
              "labels    11270\n",
              "dtype: int64"
            ]
          },
          "metadata": {
            "tags": []
          },
          "execution_count": 20
        }
      ]
    },
    {
      "cell_type": "code",
      "metadata": {
        "colab": {
          "base_uri": "https://localhost:8080/"
        },
        "id": "es4IJmHsIBXO",
        "outputId": "2ce7f1db-7202-439b-a5e1-cf533d30fc59"
      },
      "source": [
        "print (f\"There are {df['labels'].nunique()} unique values {df['labels'].unique()} in the 'labels' column.\")"
      ],
      "execution_count": 21,
      "outputs": [
        {
          "output_type": "stream",
          "text": [
            "There are 20 unique values [ 9  4 11  0  5 13 12 17 10  6  7  2  8 14  1  3 16 18 19 15] in the 'labels' column.\n"
          ],
          "name": "stdout"
        }
      ]
    },
    {
      "cell_type": "markdown",
      "metadata": {
        "id": "442PUgfzOSuB"
      },
      "source": [
        "### One Hot Encode a continues label value (eg. 0-4)"
      ]
    },
    {
      "cell_type": "code",
      "metadata": {
        "colab": {
          "base_uri": "https://localhost:8080/"
        },
        "id": "JA_9YivAOQrr",
        "outputId": "76d2210f-2747-4c60-a6b9-b7c596e2e0f8"
      },
      "source": [
        "arr = df['labels'].values\r\n",
        "arr.size"
      ],
      "execution_count": 22,
      "outputs": [
        {
          "output_type": "execute_result",
          "data": {
            "text/plain": [
              "11270"
            ]
          },
          "metadata": {
            "tags": []
          },
          "execution_count": 22
        }
      ]
    },
    {
      "cell_type": "code",
      "metadata": {
        "colab": {
          "base_uri": "https://localhost:8080/"
        },
        "id": "ZOSaKmwcQIso",
        "outputId": "9e02e77d-4f1d-49ab-f4f4-529e7f768db7"
      },
      "source": [
        "arr.max()"
      ],
      "execution_count": 23,
      "outputs": [
        {
          "output_type": "execute_result",
          "data": {
            "text/plain": [
              "19"
            ]
          },
          "metadata": {
            "tags": []
          },
          "execution_count": 23
        }
      ]
    },
    {
      "cell_type": "code",
      "metadata": {
        "colab": {
          "base_uri": "https://localhost:8080/"
        },
        "id": "BDtwPC9bOQbB",
        "outputId": "eb164141-ab53-4c5d-ac51-3d1e985367e6"
      },
      "source": [
        "import numpy as np\r\n",
        "labels = np.zeros((arr.size, arr.max() + 1))\r\n",
        "labels.shape"
      ],
      "execution_count": 24,
      "outputs": [
        {
          "output_type": "execute_result",
          "data": {
            "text/plain": [
              "(11270, 20)"
            ]
          },
          "metadata": {
            "tags": []
          },
          "execution_count": 24
        }
      ]
    },
    {
      "cell_type": "code",
      "metadata": {
        "colab": {
          "base_uri": "https://localhost:8080/"
        },
        "id": "8oo0Z-IpOQSM",
        "outputId": "4396781e-0af2-4e18-ceb2-40d1c2425890"
      },
      "source": [
        "labels[np.arange(arr.size), arr] = 1\r\n",
        "labels.shape"
      ],
      "execution_count": 25,
      "outputs": [
        {
          "output_type": "execute_result",
          "data": {
            "text/plain": [
              "(11270, 20)"
            ]
          },
          "metadata": {
            "tags": []
          },
          "execution_count": 25
        }
      ]
    },
    {
      "cell_type": "code",
      "metadata": {
        "colab": {
          "base_uri": "https://localhost:8080/"
        },
        "id": "Ac-SymDrQydJ",
        "outputId": "4609f844-a175-4cc2-c579-836bf9637f5c"
      },
      "source": [
        "for i in range(0, 20):\r\n",
        "  print(labels[i])"
      ],
      "execution_count": 26,
      "outputs": [
        {
          "output_type": "stream",
          "text": [
            "[0. 0. 0. 0. 0. 0. 0. 0. 0. 1. 0. 0. 0. 0. 0. 0. 0. 0. 0. 0.]\n",
            "[0. 0. 0. 0. 1. 0. 0. 0. 0. 0. 0. 0. 0. 0. 0. 0. 0. 0. 0. 0.]\n",
            "[0. 0. 0. 0. 0. 0. 0. 0. 0. 0. 0. 1. 0. 0. 0. 0. 0. 0. 0. 0.]\n",
            "[1. 0. 0. 0. 0. 0. 0. 0. 0. 0. 0. 0. 0. 0. 0. 0. 0. 0. 0. 0.]\n",
            "[0. 0. 0. 0. 1. 0. 0. 0. 0. 0. 0. 0. 0. 0. 0. 0. 0. 0. 0. 0.]\n",
            "[0. 0. 0. 0. 0. 1. 0. 0. 0. 0. 0. 0. 0. 0. 0. 0. 0. 0. 0. 0.]\n",
            "[0. 0. 0. 0. 0. 1. 0. 0. 0. 0. 0. 0. 0. 0. 0. 0. 0. 0. 0. 0.]\n",
            "[0. 0. 0. 0. 0. 0. 0. 0. 0. 0. 0. 0. 0. 1. 0. 0. 0. 0. 0. 0.]\n",
            "[0. 0. 0. 0. 0. 0. 0. 0. 0. 0. 0. 0. 1. 0. 0. 0. 0. 0. 0. 0.]\n",
            "[0. 0. 0. 0. 0. 0. 0. 0. 0. 0. 0. 0. 0. 0. 0. 0. 0. 1. 0. 0.]\n",
            "[0. 0. 0. 0. 0. 0. 0. 0. 0. 0. 0. 1. 0. 0. 0. 0. 0. 0. 0. 0.]\n",
            "[0. 0. 0. 0. 0. 0. 0. 0. 0. 0. 1. 0. 0. 0. 0. 0. 0. 0. 0. 0.]\n",
            "[0. 0. 0. 0. 0. 0. 1. 0. 0. 0. 0. 0. 0. 0. 0. 0. 0. 0. 0. 0.]\n",
            "[0. 0. 0. 0. 0. 1. 0. 0. 0. 0. 0. 0. 0. 0. 0. 0. 0. 0. 0. 0.]\n",
            "[0. 0. 0. 0. 0. 0. 0. 0. 0. 0. 1. 0. 0. 0. 0. 0. 0. 0. 0. 0.]\n",
            "[0. 0. 0. 0. 0. 0. 0. 1. 0. 0. 0. 0. 0. 0. 0. 0. 0. 0. 0. 0.]\n",
            "[0. 0. 1. 0. 0. 0. 0. 0. 0. 0. 0. 0. 0. 0. 0. 0. 0. 0. 0. 0.]\n",
            "[0. 0. 0. 0. 0. 0. 0. 0. 0. 0. 0. 1. 0. 0. 0. 0. 0. 0. 0. 0.]\n",
            "[0. 0. 0. 0. 0. 0. 0. 0. 1. 0. 0. 0. 0. 0. 0. 0. 0. 0. 0. 0.]\n",
            "[0. 0. 1. 0. 0. 0. 0. 0. 0. 0. 0. 0. 0. 0. 0. 0. 0. 0. 0. 0.]\n"
          ],
          "name": "stdout"
        }
      ]
    },
    {
      "cell_type": "markdown",
      "metadata": {
        "id": "5RF_cC0RRtjU"
      },
      "source": [
        "### Encode Text Input Data"
      ]
    },
    {
      "cell_type": "code",
      "metadata": {
        "id": "5wU3RStSNpjl"
      },
      "source": [
        "seqlen = df['text'].apply(lambda x: len(x.split()))"
      ],
      "execution_count": 27,
      "outputs": []
    },
    {
      "cell_type": "code",
      "metadata": {
        "id": "e5itCuhEN76l"
      },
      "source": [
        "import seaborn as sns\r\n",
        "import matplotlib as plt"
      ],
      "execution_count": 28,
      "outputs": []
    },
    {
      "cell_type": "code",
      "metadata": {
        "colab": {
          "base_uri": "https://localhost:8080/",
          "height": 387
        },
        "id": "m_XxlXwqOJyQ",
        "outputId": "92c33204-bab2-4d7f-92d3-a0d25f9b3be7"
      },
      "source": [
        "# Do a distribution plot on the seqquence length's of the given text\r\n",
        "sns.set_style('darkgrid')\r\n",
        "plt.figure.Figure(figsize=(16,10))\r\n",
        "sns.displot(seqlen)"
      ],
      "execution_count": 29,
      "outputs": [
        {
          "output_type": "execute_result",
          "data": {
            "text/plain": [
              "<seaborn.axisgrid.FacetGrid at 0x7fb62b24cd50>"
            ]
          },
          "metadata": {
            "tags": []
          },
          "execution_count": 29
        },
        {
          "output_type": "display_data",
          "data": {
            "image/png": "[encoded data removed]",
            "text/plain": [
              "<Figure size 360x360 with 1 Axes>"
            ]
          },
          "metadata": {
            "tags": []
          }
        }
      ]
    },
    {
      "cell_type": "code",
      "metadata": {
        "id": "CrGoSQ3HQogV"
      },
      "source": [
        "# Maximum length of the text we are going to train and predict here\r\n",
        "SEQ_LEN = 300"
      ],
      "execution_count": 30,
      "outputs": []
    },
    {
      "cell_type": "markdown",
      "metadata": {
        "id": "AwphaSBgDaPF"
      },
      "source": [
        "## Encode Input Data\r\n",
        "Encode the Input-Tensor and the Attention Tensor."
      ]
    },
    {
      "cell_type": "code",
      "metadata": {
        "id": "K1ZOtg_fRA9E",
        "colab": {
          "base_uri": "https://localhost:8080/",
          "height": 168,
          "referenced_widgets": [
            "c60ae33f833a4093a9323b17a9a6f379",
            "09ffa84e5ff4415fb1d719e143d15464",
            "a43e8ae889c74ef29d635672edcc4a69",
            "2dd2aa62358f495b971af5213b1e70b7",
            "da590a311c3f4832b62aebecc73cae9e",
            "fff3ece616fe4426a698046f23a7c47a",
            "b6e2043de9434d92955cf7584448f6e2",
            "70117520950e43e29b6b1b33e75ea4b3",
            "951a9556cb5d455a8bddc43b04bc9205",
            "555754cfb9d245d19a6359ff4dc4960d",
            "9bdbc60f3a504c12800c5c19ce1ad92a",
            "c5863e27fe2f46c9a838dc8dda88d0dc",
            "64e3f26eb0434bbd9bb738ea59114cff",
            "dc021493b7b541f593d105816a62eca2",
            "b601ec864205419db83961bf974f4d0b",
            "695ffe50aedf49729b104802af8ec1f0",
            "45201a6b0edf464b8c8a6b5a2963b24b",
            "7a3719b83e6a44ec92665045cd2c41da",
            "ec5d82968f2a47e89488589b6fd14e53",
            "b23d9b570174426fbd902eccf3e55d5b",
            "922c08e369d6469287b7058f5c745d13",
            "7e89e50879504303a0096d4204a4cd6f",
            "965880a747144734867a0d8914ff77d6",
            "1b5e108d83444a1f8a3b470ac30b4419"
          ]
        },
        "outputId": "b6f66cc2-d9b4-44ca-d0f6-cff501c647d4"
      },
      "source": [
        "from transformers import AutoTokenizer, TFAutoModel\r\n",
        "tranformersPreTrainedModelName = 'bert-base-uncased'\r\n",
        "tokenizer = AutoTokenizer.from_pretrained(tranformersPreTrainedModelName) "
      ],
      "execution_count": 31,
      "outputs": [
        {
          "output_type": "display_data",
          "data": {
            "application/vnd.jupyter.widget-view+json": {
              "model_id": "c60ae33f833a4093a9323b17a9a6f379",
              "version_minor": 0,
              "version_major": 2
            },
            "text/plain": [
              "HBox(children=(FloatProgress(value=0.0, description='Downloading', max=433.0, style=ProgressStyle(description_…"
            ]
          },
          "metadata": {
            "tags": []
          }
        },
        {
          "output_type": "stream",
          "text": [
            "\n"
          ],
          "name": "stdout"
        },
        {
          "output_type": "display_data",
          "data": {
            "application/vnd.jupyter.widget-view+json": {
              "model_id": "951a9556cb5d455a8bddc43b04bc9205",
              "version_minor": 0,
              "version_major": 2
            },
            "text/plain": [
              "HBox(children=(FloatProgress(value=0.0, description='Downloading', max=231508.0, style=ProgressStyle(descripti…"
            ]
          },
          "metadata": {
            "tags": []
          }
        },
        {
          "output_type": "stream",
          "text": [
            "\n"
          ],
          "name": "stdout"
        },
        {
          "output_type": "display_data",
          "data": {
            "application/vnd.jupyter.widget-view+json": {
              "model_id": "45201a6b0edf464b8c8a6b5a2963b24b",
              "version_minor": 0,
              "version_major": 2
            },
            "text/plain": [
              "HBox(children=(FloatProgress(value=0.0, description='Downloading', max=466062.0, style=ProgressStyle(descripti…"
            ]
          },
          "metadata": {
            "tags": []
          }
        },
        {
          "output_type": "stream",
          "text": [
            "\n"
          ],
          "name": "stdout"
        }
      ]
    },
    {
      "cell_type": "code",
      "metadata": {
        "id": "A-K1gSSpR7J-"
      },
      "source": [
        "tokens = tokenizer.encode_plus('Hello World'\r\n",
        "                               ,max_length = SEQ_LEN          # Using text with this max length\r\n",
        "                               ,truncation=True               # truncate any text longer than max_length\r\n",
        "                               ,padding='max_length'          # padd text that is smaller than max_length\r\n",
        "                               ,add_special_tokens=True       # add special tokens for start, end of sentence, unknown, and mask tokens\r\n",
        "                               ,return_token_type_ids = False # do not return ids for types of tokens\r\n",
        "                               ,return_attention_mask = True\r\n",
        "                               ,return_tensors='tf')"
      ],
      "execution_count": 32,
      "outputs": []
    },
    {
      "cell_type": "code",
      "metadata": {
        "colab": {
          "base_uri": "https://localhost:8080/"
        },
        "id": "4aftNX-1R7GR",
        "outputId": "4b7630db-23c2-44c6-b971-2470ff744a47"
      },
      "source": [
        "# Outputs 2 tensors named 'input_ids' & 'attention_mask'\r\n",
        "# The values 101 and 102 are start and end of sentence identifiers\r\n",
        "# while 7592 & 2088 are tokens for 'Hello World'\r\n",
        "#\r\n",
        "# Attention Mask tells Bert which tokens to pay attention to and which to ompletely ignore\r\n",
        "print (tokens)"
      ],
      "execution_count": 33,
      "outputs": [
        {
          "output_type": "stream",
          "text": [
            "{'input_ids': <tf.Tensor: shape=(1, 300), dtype=int32, numpy=\n",
            "array([[ 101, 7592, 2088,  102,    0,    0,    0,    0,    0,    0,    0,\n",
            "           0,    0,    0,    0,    0,    0,    0,    0,    0,    0,    0,\n",
            "           0,    0,    0,    0,    0,    0,    0,    0,    0,    0,    0,\n",
            "           0,    0,    0,    0,    0,    0,    0,    0,    0,    0,    0,\n",
            "           0,    0,    0,    0,    0,    0,    0,    0,    0,    0,    0,\n",
            "           0,    0,    0,    0,    0,    0,    0,    0,    0,    0,    0,\n",
            "           0,    0,    0,    0,    0,    0,    0,    0,    0,    0,    0,\n",
            "           0,    0,    0,    0,    0,    0,    0,    0,    0,    0,    0,\n",
            "           0,    0,    0,    0,    0,    0,    0,    0,    0,    0,    0,\n",
            "           0,    0,    0,    0,    0,    0,    0,    0,    0,    0,    0,\n",
            "           0,    0,    0,    0,    0,    0,    0,    0,    0,    0,    0,\n",
            "           0,    0,    0,    0,    0,    0,    0,    0,    0,    0,    0,\n",
            "           0,    0,    0,    0,    0,    0,    0,    0,    0,    0,    0,\n",
            "           0,    0,    0,    0,    0,    0,    0,    0,    0,    0,    0,\n",
            "           0,    0,    0,    0,    0,    0,    0,    0,    0,    0,    0,\n",
            "           0,    0,    0,    0,    0,    0,    0,    0,    0,    0,    0,\n",
            "           0,    0,    0,    0,    0,    0,    0,    0,    0,    0,    0,\n",
            "           0,    0,    0,    0,    0,    0,    0,    0,    0,    0,    0,\n",
            "           0,    0,    0,    0,    0,    0,    0,    0,    0,    0,    0,\n",
            "           0,    0,    0,    0,    0,    0,    0,    0,    0,    0,    0,\n",
            "           0,    0,    0,    0,    0,    0,    0,    0,    0,    0,    0,\n",
            "           0,    0,    0,    0,    0,    0,    0,    0,    0,    0,    0,\n",
            "           0,    0,    0,    0,    0,    0,    0,    0,    0,    0,    0,\n",
            "           0,    0,    0,    0,    0,    0,    0,    0,    0,    0,    0,\n",
            "           0,    0,    0,    0,    0,    0,    0,    0,    0,    0,    0,\n",
            "           0,    0,    0,    0,    0,    0,    0,    0,    0,    0,    0,\n",
            "           0,    0,    0,    0,    0,    0,    0,    0,    0,    0,    0,\n",
            "           0,    0,    0]], dtype=int32)>, 'attention_mask': <tf.Tensor: shape=(1, 300), dtype=int32, numpy=\n",
            "array([[1, 1, 1, 1, 0, 0, 0, 0, 0, 0, 0, 0, 0, 0, 0, 0, 0, 0, 0, 0, 0, 0,\n",
            "        0, 0, 0, 0, 0, 0, 0, 0, 0, 0, 0, 0, 0, 0, 0, 0, 0, 0, 0, 0, 0, 0,\n",
            "        0, 0, 0, 0, 0, 0, 0, 0, 0, 0, 0, 0, 0, 0, 0, 0, 0, 0, 0, 0, 0, 0,\n",
            "        0, 0, 0, 0, 0, 0, 0, 0, 0, 0, 0, 0, 0, 0, 0, 0, 0, 0, 0, 0, 0, 0,\n",
            "        0, 0, 0, 0, 0, 0, 0, 0, 0, 0, 0, 0, 0, 0, 0, 0, 0, 0, 0, 0, 0, 0,\n",
            "        0, 0, 0, 0, 0, 0, 0, 0, 0, 0, 0, 0, 0, 0, 0, 0, 0, 0, 0, 0, 0, 0,\n",
            "        0, 0, 0, 0, 0, 0, 0, 0, 0, 0, 0, 0, 0, 0, 0, 0, 0, 0, 0, 0, 0, 0,\n",
            "        0, 0, 0, 0, 0, 0, 0, 0, 0, 0, 0, 0, 0, 0, 0, 0, 0, 0, 0, 0, 0, 0,\n",
            "        0, 0, 0, 0, 0, 0, 0, 0, 0, 0, 0, 0, 0, 0, 0, 0, 0, 0, 0, 0, 0, 0,\n",
            "        0, 0, 0, 0, 0, 0, 0, 0, 0, 0, 0, 0, 0, 0, 0, 0, 0, 0, 0, 0, 0, 0,\n",
            "        0, 0, 0, 0, 0, 0, 0, 0, 0, 0, 0, 0, 0, 0, 0, 0, 0, 0, 0, 0, 0, 0,\n",
            "        0, 0, 0, 0, 0, 0, 0, 0, 0, 0, 0, 0, 0, 0, 0, 0, 0, 0, 0, 0, 0, 0,\n",
            "        0, 0, 0, 0, 0, 0, 0, 0, 0, 0, 0, 0, 0, 0, 0, 0, 0, 0, 0, 0, 0, 0,\n",
            "        0, 0, 0, 0, 0, 0, 0, 0, 0, 0, 0, 0, 0, 0]], dtype=int32)>}\n"
          ],
          "name": "stdout"
        }
      ]
    },
    {
      "cell_type": "markdown",
      "metadata": {
        "id": "Z6KLOlPgWfGU"
      },
      "source": [
        "### Tokenize each Sample in Dataset"
      ]
    },
    {
      "cell_type": "code",
      "metadata": {
        "id": "KbEgLLWER63t"
      },
      "source": [
        "import numpy as np\r\n",
        "# initialize numpy arrays for Token-Ids and Attention Masks\r\n",
        "Xids = np.zeros((len(df), SEQ_LEN))\r\n",
        "Xmask = np.zeros((len(df), SEQ_LEN))"
      ],
      "execution_count": 34,
      "outputs": []
    },
    {
      "cell_type": "code",
      "metadata": {
        "colab": {
          "base_uri": "https://localhost:8080/"
        },
        "id": "1ywb5Pi_XGEw",
        "outputId": "48e7c6c8-d4f3-46c3-d671-4495510255fc"
      },
      "source": [
        "Xids.shape"
      ],
      "execution_count": 35,
      "outputs": [
        {
          "output_type": "execute_result",
          "data": {
            "text/plain": [
              "(11270, 300)"
            ]
          },
          "metadata": {
            "tags": []
          },
          "execution_count": 35
        }
      ]
    },
    {
      "cell_type": "code",
      "metadata": {
        "id": "xNLh-Ir3XGA1"
      },
      "source": [
        "# Use a simple for loop to encode all data points\r\n",
        "for i, sequence in enumerate(df['text']):\r\n",
        "  tokens = tokenizer.encode_plus(sequence\r\n",
        "                               ,max_length = SEQ_LEN          # Using text with this max length\r\n",
        "                               ,truncation=True               # truncate any text longer than max_length\r\n",
        "                               ,padding='max_length'          # padd text that is smaller than max_length\r\n",
        "                               ,add_special_tokens=True       # add special tokens for start, end of sentence, unknown, and mask tokens\r\n",
        "                               ,return_token_type_ids = False # do not return ids for types of tokens\r\n",
        "                               ,return_attention_mask = True\r\n",
        "                               ,return_tensors='tf')\r\n",
        "  \r\n",
        "  Xids[i, :], Xmask[i, :] = tokens['input_ids'], tokens['attention_mask']"
      ],
      "execution_count": 36,
      "outputs": []
    },
    {
      "cell_type": "code",
      "metadata": {
        "colab": {
          "base_uri": "https://localhost:8080/"
        },
        "id": "R8VQM0QXXF9Z",
        "outputId": "bce028f8-fabb-433b-aed2-7ed0193b5e22"
      },
      "source": [
        "# Array of tokenized Ids\r\n",
        "Xids"
      ],
      "execution_count": 37,
      "outputs": [
        {
          "output_type": "execute_result",
          "data": {
            "text/plain": [
              "array([[ 101., 2013., 1024., ...,    0.,    0.,    0.],\n",
              "       [ 101., 2013., 1024., ..., 2151., 1997.,  102.],\n",
              "       [ 101., 2013., 1024., ..., 1998., 4556.,  102.],\n",
              "       ...,\n",
              "       [ 101., 2013., 1024., ..., 1011., 1011.,  102.],\n",
              "       [ 101., 2013., 1024., ..., 1037., 2261.,  102.],\n",
              "       [ 101., 2013., 1024., ...,    0.,    0.,    0.]])"
            ]
          },
          "metadata": {
            "tags": []
          },
          "execution_count": 37
        }
      ]
    },
    {
      "cell_type": "code",
      "metadata": {
        "colab": {
          "base_uri": "https://localhost:8080/"
        },
        "id": "A0G0SwXjXF6B",
        "outputId": "04cf0893-ac15-4924-9974-072bc01519aa"
      },
      "source": [
        "# Array of attaention masks\r\n",
        "Xmask"
      ],
      "execution_count": 38,
      "outputs": [
        {
          "output_type": "execute_result",
          "data": {
            "text/plain": [
              "array([[1., 1., 1., ..., 0., 0., 0.],\n",
              "       [1., 1., 1., ..., 1., 1., 1.],\n",
              "       [1., 1., 1., ..., 1., 1., 1.],\n",
              "       ...,\n",
              "       [1., 1., 1., ..., 1., 1., 1.],\n",
              "       [1., 1., 1., ..., 1., 1., 1.],\n",
              "       [1., 1., 1., ..., 0., 0., 0.]])"
            ]
          },
          "metadata": {
            "tags": []
          },
          "execution_count": 38
        }
      ]
    },
    {
      "cell_type": "markdown",
      "metadata": {
        "id": "qsjMLMySfoz1"
      },
      "source": [
        "### Save Tokenized Data"
      ]
    },
    {
      "cell_type": "code",
      "metadata": {
        "id": "P2q54RC2fslb"
      },
      "source": [
        "with open ('xids.npy', 'wb') as f:\r\n",
        "  np.save(f, Xids)\r\n",
        "with open ('xmask.npy', 'wb') as f:\r\n",
        "  np.save(f, Xmask)\r\n",
        "with open ('labels.npy', 'wb') as f:\r\n",
        "  np.save(f, labels)\r\n",
        "\r\n",
        "del df, Xids, Xmask, labels\r\n",
        "df = None"
      ],
      "execution_count": 39,
      "outputs": []
    },
    {
      "cell_type": "markdown",
      "metadata": {
        "id": "j_HLCQX0DaTO"
      },
      "source": [
        "## Ininitializing Hugging Face Tokenizer and Model"
      ]
    },
    {
      "cell_type": "markdown",
      "metadata": {
        "id": "DwRV4SBIgSqF"
      },
      "source": [
        "### Load Tokenized Data"
      ]
    },
    {
      "cell_type": "code",
      "metadata": {
        "id": "eAe-0GqEgRml"
      },
      "source": [
        "import numpy as np\r\n",
        "with open ('xids.npy', 'rb') as f:\r\n",
        "  Xids = np.load(f)\r\n",
        "with open ('xmask.npy', 'rb') as f:\r\n",
        "  Xmask = np.load(f)\r\n",
        "with open ('labels.npy', 'rb') as f:\r\n",
        "  labels = np.load(f)"
      ],
      "execution_count": 40,
      "outputs": []
    },
    {
      "cell_type": "code",
      "metadata": {
        "colab": {
          "base_uri": "https://localhost:8080/"
        },
        "id": "Fb0tM3ANgpJk",
        "outputId": "6d7cb9c0-ce5f-4f32-d4d6-b6d1d28faffc"
      },
      "source": [
        "Xids"
      ],
      "execution_count": 41,
      "outputs": [
        {
          "output_type": "execute_result",
          "data": {
            "text/plain": [
              "array([[ 101., 2013., 1024., ...,    0.,    0.,    0.],\n",
              "       [ 101., 2013., 1024., ..., 2151., 1997.,  102.],\n",
              "       [ 101., 2013., 1024., ..., 1998., 4556.,  102.],\n",
              "       ...,\n",
              "       [ 101., 2013., 1024., ..., 1011., 1011.,  102.],\n",
              "       [ 101., 2013., 1024., ..., 1037., 2261.,  102.],\n",
              "       [ 101., 2013., 1024., ...,    0.,    0.,    0.]])"
            ]
          },
          "metadata": {
            "tags": []
          },
          "execution_count": 41
        }
      ]
    },
    {
      "cell_type": "code",
      "metadata": {
        "colab": {
          "base_uri": "https://localhost:8080/"
        },
        "id": "UtJBX_YdVVXq",
        "outputId": "c639bdbe-ae62-4fd5-a099-6e8968cb51ea"
      },
      "source": [
        "for i in range(0, 20):\r\n",
        "  print(labels[i])"
      ],
      "execution_count": 42,
      "outputs": [
        {
          "output_type": "stream",
          "text": [
            "[0. 0. 0. 0. 0. 0. 0. 0. 0. 1. 0. 0. 0. 0. 0. 0. 0. 0. 0. 0.]\n",
            "[0. 0. 0. 0. 1. 0. 0. 0. 0. 0. 0. 0. 0. 0. 0. 0. 0. 0. 0. 0.]\n",
            "[0. 0. 0. 0. 0. 0. 0. 0. 0. 0. 0. 1. 0. 0. 0. 0. 0. 0. 0. 0.]\n",
            "[1. 0. 0. 0. 0. 0. 0. 0. 0. 0. 0. 0. 0. 0. 0. 0. 0. 0. 0. 0.]\n",
            "[0. 0. 0. 0. 1. 0. 0. 0. 0. 0. 0. 0. 0. 0. 0. 0. 0. 0. 0. 0.]\n",
            "[0. 0. 0. 0. 0. 1. 0. 0. 0. 0. 0. 0. 0. 0. 0. 0. 0. 0. 0. 0.]\n",
            "[0. 0. 0. 0. 0. 1. 0. 0. 0. 0. 0. 0. 0. 0. 0. 0. 0. 0. 0. 0.]\n",
            "[0. 0. 0. 0. 0. 0. 0. 0. 0. 0. 0. 0. 0. 1. 0. 0. 0. 0. 0. 0.]\n",
            "[0. 0. 0. 0. 0. 0. 0. 0. 0. 0. 0. 0. 1. 0. 0. 0. 0. 0. 0. 0.]\n",
            "[0. 0. 0. 0. 0. 0. 0. 0. 0. 0. 0. 0. 0. 0. 0. 0. 0. 1. 0. 0.]\n",
            "[0. 0. 0. 0. 0. 0. 0. 0. 0. 0. 0. 1. 0. 0. 0. 0. 0. 0. 0. 0.]\n",
            "[0. 0. 0. 0. 0. 0. 0. 0. 0. 0. 1. 0. 0. 0. 0. 0. 0. 0. 0. 0.]\n",
            "[0. 0. 0. 0. 0. 0. 1. 0. 0. 0. 0. 0. 0. 0. 0. 0. 0. 0. 0. 0.]\n",
            "[0. 0. 0. 0. 0. 1. 0. 0. 0. 0. 0. 0. 0. 0. 0. 0. 0. 0. 0. 0.]\n",
            "[0. 0. 0. 0. 0. 0. 0. 0. 0. 0. 1. 0. 0. 0. 0. 0. 0. 0. 0. 0.]\n",
            "[0. 0. 0. 0. 0. 0. 0. 1. 0. 0. 0. 0. 0. 0. 0. 0. 0. 0. 0. 0.]\n",
            "[0. 0. 1. 0. 0. 0. 0. 0. 0. 0. 0. 0. 0. 0. 0. 0. 0. 0. 0. 0.]\n",
            "[0. 0. 0. 0. 0. 0. 0. 0. 0. 0. 0. 1. 0. 0. 0. 0. 0. 0. 0. 0.]\n",
            "[0. 0. 0. 0. 0. 0. 0. 0. 1. 0. 0. 0. 0. 0. 0. 0. 0. 0. 0. 0.]\n",
            "[0. 0. 1. 0. 0. 0. 0. 0. 0. 0. 0. 0. 0. 0. 0. 0. 0. 0. 0. 0.]\n"
          ],
          "name": "stdout"
        }
      ]
    },
    {
      "cell_type": "code",
      "metadata": {
        "id": "BYBiX8dEg1e5"
      },
      "source": [
        "import tensorflow as tf\r\n",
        "#tf.config.list_physical_device('GPU')"
      ],
      "execution_count": 43,
      "outputs": []
    },
    {
      "cell_type": "code",
      "metadata": {
        "id": "iy2rA94VhcmM"
      },
      "source": [
        "# TensorFlow expects input and target labels as an input tuple\r\n",
        "# Bert expects a dictionary of 'input_ids' and 'attention_mask' as input\r\n",
        "# So, lets create the dataset object\r\n",
        "# This creates a generator for a tuple of input tokens, attention_masks, and target labels\r\n",
        "dataset = tf.data.Dataset.from_tensor_slices((Xids, Xmask, labels))"
      ],
      "execution_count": 44,
      "outputs": []
    },
    {
      "cell_type": "code",
      "metadata": {
        "colab": {
          "base_uri": "https://localhost:8080/"
        },
        "id": "6uWyj0KkieMk",
        "outputId": "cd4ec198-e8f8-427c-bfb4-2dc3ff09fa0f"
      },
      "source": [
        "# View a single row in the dataset\r\n",
        "print (dataset.take(1))\r\n",
        "print ()\r\n",
        "for i in dataset.take(1):\r\n",
        "  print (i)"
      ],
      "execution_count": 45,
      "outputs": [
        {
          "output_type": "stream",
          "text": [
            "<TakeDataset shapes: ((300,), (300,), (20,)), types: (tf.float64, tf.float64, tf.float64)>\n",
            "\n",
            "(<tf.Tensor: shape=(300,), dtype=float64, numpy=\n",
            "array([  101.,  2013.,  1024.,  1006.,  1007.,  3395.,  1024.,  2128.,\n",
            "        1024., 12469.,  2369., 27055.,  1029.,  2129.,  1029.,  3720.,\n",
            "        1011.,  1045.,  1012.,  1040.,  1012.,  1024., 12943.,  3686.,\n",
            "        1012.,  1015., 13876., 28154.,  2475.,  1002.,  1042.,  2683.,\n",
            "        2050.,  3029.,  1024.,  2118.,  1997.,  2662.,  1010.,  8256.,\n",
            "        3210.,  1024.,  2260.,  1050.,  3372.,  2361.,  1011., 14739.,\n",
            "        1011.,  3677.,  1024., 11721., 26573.,  1012.,  8256.,  1012.,\n",
            "        3968.,  2226.,  7009.,  1024.,  5253.,  1998., 22789.,  2097.,\n",
            "        2031.,  3690.,  1005.,  1055.,  1015.,  2448.,  3020.,  2084.,\n",
            "        2197.,  2095.,  1010.,  1998.,  1996., 12469.,  2097.,  2022.,\n",
            "       28781.,  1998.,  2025.,  6510.,  5292., 25074.,  2100.,  2004.,\n",
            "        2172.,  2004.,  7632., 22414.,  4103.,  1012., 19371.,  2180.,\n",
            "        1005.,  1056.,  2022.,  2204.,  1006.,  1045.,  2228.,  2002.,\n",
            "        1005.,  1055.,  1037., 16054.,  8070.,  1007.,  2023.,  2161.,\n",
            "        2061.,  2521.,  1010.,  5253.,  1998., 22789.,  3271.,  2000.,\n",
            "        2599.,  1996., 12469.,  2012.,  2327.,  1999.,  3690.,  1010.,\n",
            "        2130.,  2488.,  2084.,  1996.,  9963.,  2012.,  5865.,  1012.,\n",
            "       12469.,  3690.,  2012.,  1014.,  1012.,  5709.,  2575.,  2096.,\n",
            "       13980.,  2012.,  1014.,  1012.,  5709.,  2683.,  1012.,  2057.,\n",
            "        2113.,  2009.,  2003.,  2220.,  1999.,  1996.,  2161.,  1010.,\n",
            "        2057., 12469.,  4599.,  2031.,  4342.,  2129.,  2000.,  5959.,\n",
            "        1996.,  2460., 10911.,  2096.,  2009.,  2003.,  2145.,  2045.,\n",
            "        1012.,   102.,     0.,     0.,     0.,     0.,     0.,     0.,\n",
            "           0.,     0.,     0.,     0.,     0.,     0.,     0.,     0.,\n",
            "           0.,     0.,     0.,     0.,     0.,     0.,     0.,     0.,\n",
            "           0.,     0.,     0.,     0.,     0.,     0.,     0.,     0.,\n",
            "           0.,     0.,     0.,     0.,     0.,     0.,     0.,     0.,\n",
            "           0.,     0.,     0.,     0.,     0.,     0.,     0.,     0.,\n",
            "           0.,     0.,     0.,     0.,     0.,     0.,     0.,     0.,\n",
            "           0.,     0.,     0.,     0.,     0.,     0.,     0.,     0.,\n",
            "           0.,     0.,     0.,     0.,     0.,     0.,     0.,     0.,\n",
            "           0.,     0.,     0.,     0.,     0.,     0.,     0.,     0.,\n",
            "           0.,     0.,     0.,     0.,     0.,     0.,     0.,     0.,\n",
            "           0.,     0.,     0.,     0.,     0.,     0.,     0.,     0.,\n",
            "           0.,     0.,     0.,     0.,     0.,     0.,     0.,     0.,\n",
            "           0.,     0.,     0.,     0.,     0.,     0.,     0.,     0.,\n",
            "           0.,     0.,     0.,     0.,     0.,     0.,     0.,     0.,\n",
            "           0.,     0.,     0.,     0.])>, <tf.Tensor: shape=(300,), dtype=float64, numpy=\n",
            "array([1., 1., 1., 1., 1., 1., 1., 1., 1., 1., 1., 1., 1., 1., 1., 1., 1.,\n",
            "       1., 1., 1., 1., 1., 1., 1., 1., 1., 1., 1., 1., 1., 1., 1., 1., 1.,\n",
            "       1., 1., 1., 1., 1., 1., 1., 1., 1., 1., 1., 1., 1., 1., 1., 1., 1.,\n",
            "       1., 1., 1., 1., 1., 1., 1., 1., 1., 1., 1., 1., 1., 1., 1., 1., 1.,\n",
            "       1., 1., 1., 1., 1., 1., 1., 1., 1., 1., 1., 1., 1., 1., 1., 1., 1.,\n",
            "       1., 1., 1., 1., 1., 1., 1., 1., 1., 1., 1., 1., 1., 1., 1., 1., 1.,\n",
            "       1., 1., 1., 1., 1., 1., 1., 1., 1., 1., 1., 1., 1., 1., 1., 1., 1.,\n",
            "       1., 1., 1., 1., 1., 1., 1., 1., 1., 1., 1., 1., 1., 1., 1., 1., 1.,\n",
            "       1., 1., 1., 1., 1., 1., 1., 1., 1., 1., 1., 1., 1., 1., 1., 1., 1.,\n",
            "       1., 1., 1., 1., 1., 1., 1., 1., 1., 1., 1., 1., 1., 1., 1., 1., 1.,\n",
            "       1., 1., 1., 1., 1., 1., 1., 1., 0., 0., 0., 0., 0., 0., 0., 0., 0.,\n",
            "       0., 0., 0., 0., 0., 0., 0., 0., 0., 0., 0., 0., 0., 0., 0., 0., 0.,\n",
            "       0., 0., 0., 0., 0., 0., 0., 0., 0., 0., 0., 0., 0., 0., 0., 0., 0.,\n",
            "       0., 0., 0., 0., 0., 0., 0., 0., 0., 0., 0., 0., 0., 0., 0., 0., 0.,\n",
            "       0., 0., 0., 0., 0., 0., 0., 0., 0., 0., 0., 0., 0., 0., 0., 0., 0.,\n",
            "       0., 0., 0., 0., 0., 0., 0., 0., 0., 0., 0., 0., 0., 0., 0., 0., 0.,\n",
            "       0., 0., 0., 0., 0., 0., 0., 0., 0., 0., 0., 0., 0., 0., 0., 0., 0.,\n",
            "       0., 0., 0., 0., 0., 0., 0., 0., 0., 0., 0.])>, <tf.Tensor: shape=(20,), dtype=float64, numpy=\n",
            "array([0., 0., 0., 0., 0., 0., 0., 0., 0., 1., 0., 0., 0., 0., 0., 0., 0.,\n",
            "       0., 0., 0.])>)\n"
          ],
          "name": "stdout"
        }
      ]
    },
    {
      "cell_type": "code",
      "metadata": {
        "id": "ZobIL-pRjEjd"
      },
      "source": [
        "# minute 21:55\r\n",
        "# TensorFlow Bert model expects our input in a Tuple format containing:\r\n",
        "# 1) 'input_ids' and 'attention_mask' in a Dictionary and\r\n",
        "# 2) a label as 2nd part of the tupel\r\n",
        "def map_func(input_ids, masks, labels):\r\n",
        "  return {'input_ids': input_ids, 'attention_mask': masks}, labels"
      ],
      "execution_count": 46,
      "outputs": []
    },
    {
      "cell_type": "code",
      "metadata": {
        "id": "j-_aS7QR4eS9"
      },
      "source": [
        "# we can use the dataset map function to apply this format\r\n",
        "dataset = dataset.map(map_func)"
      ],
      "execution_count": 47,
      "outputs": []
    },
    {
      "cell_type": "code",
      "metadata": {
        "colab": {
          "base_uri": "https://localhost:8080/"
        },
        "id": "0lMhzkmz4vtO",
        "outputId": "e3d27154-06d4-444b-c0ab-e230bf45825b"
      },
      "source": [
        "# View a single row in the dataset\r\n",
        "print (dataset.take(1))\r\n",
        "print ()\r\n",
        "for i in dataset.take(1):\r\n",
        "  print (i)"
      ],
      "execution_count": 48,
      "outputs": [
        {
          "output_type": "stream",
          "text": [
            "<TakeDataset shapes: ({input_ids: (300,), attention_mask: (300,)}, (20,)), types: ({input_ids: tf.float64, attention_mask: tf.float64}, tf.float64)>\n",
            "\n",
            "({'input_ids': <tf.Tensor: shape=(300,), dtype=float64, numpy=\n",
            "array([  101.,  2013.,  1024.,  1006.,  1007.,  3395.,  1024.,  2128.,\n",
            "        1024., 12469.,  2369., 27055.,  1029.,  2129.,  1029.,  3720.,\n",
            "        1011.,  1045.,  1012.,  1040.,  1012.,  1024., 12943.,  3686.,\n",
            "        1012.,  1015., 13876., 28154.,  2475.,  1002.,  1042.,  2683.,\n",
            "        2050.,  3029.,  1024.,  2118.,  1997.,  2662.,  1010.,  8256.,\n",
            "        3210.,  1024.,  2260.,  1050.,  3372.,  2361.,  1011., 14739.,\n",
            "        1011.,  3677.,  1024., 11721., 26573.,  1012.,  8256.,  1012.,\n",
            "        3968.,  2226.,  7009.,  1024.,  5253.,  1998., 22789.,  2097.,\n",
            "        2031.,  3690.,  1005.,  1055.,  1015.,  2448.,  3020.,  2084.,\n",
            "        2197.,  2095.,  1010.,  1998.,  1996., 12469.,  2097.,  2022.,\n",
            "       28781.,  1998.,  2025.,  6510.,  5292., 25074.,  2100.,  2004.,\n",
            "        2172.,  2004.,  7632., 22414.,  4103.,  1012., 19371.,  2180.,\n",
            "        1005.,  1056.,  2022.,  2204.,  1006.,  1045.,  2228.,  2002.,\n",
            "        1005.,  1055.,  1037., 16054.,  8070.,  1007.,  2023.,  2161.,\n",
            "        2061.,  2521.,  1010.,  5253.,  1998., 22789.,  3271.,  2000.,\n",
            "        2599.,  1996., 12469.,  2012.,  2327.,  1999.,  3690.,  1010.,\n",
            "        2130.,  2488.,  2084.,  1996.,  9963.,  2012.,  5865.,  1012.,\n",
            "       12469.,  3690.,  2012.,  1014.,  1012.,  5709.,  2575.,  2096.,\n",
            "       13980.,  2012.,  1014.,  1012.,  5709.,  2683.,  1012.,  2057.,\n",
            "        2113.,  2009.,  2003.,  2220.,  1999.,  1996.,  2161.,  1010.,\n",
            "        2057., 12469.,  4599.,  2031.,  4342.,  2129.,  2000.,  5959.,\n",
            "        1996.,  2460., 10911.,  2096.,  2009.,  2003.,  2145.,  2045.,\n",
            "        1012.,   102.,     0.,     0.,     0.,     0.,     0.,     0.,\n",
            "           0.,     0.,     0.,     0.,     0.,     0.,     0.,     0.,\n",
            "           0.,     0.,     0.,     0.,     0.,     0.,     0.,     0.,\n",
            "           0.,     0.,     0.,     0.,     0.,     0.,     0.,     0.,\n",
            "           0.,     0.,     0.,     0.,     0.,     0.,     0.,     0.,\n",
            "           0.,     0.,     0.,     0.,     0.,     0.,     0.,     0.,\n",
            "           0.,     0.,     0.,     0.,     0.,     0.,     0.,     0.,\n",
            "           0.,     0.,     0.,     0.,     0.,     0.,     0.,     0.,\n",
            "           0.,     0.,     0.,     0.,     0.,     0.,     0.,     0.,\n",
            "           0.,     0.,     0.,     0.,     0.,     0.,     0.,     0.,\n",
            "           0.,     0.,     0.,     0.,     0.,     0.,     0.,     0.,\n",
            "           0.,     0.,     0.,     0.,     0.,     0.,     0.,     0.,\n",
            "           0.,     0.,     0.,     0.,     0.,     0.,     0.,     0.,\n",
            "           0.,     0.,     0.,     0.,     0.,     0.,     0.,     0.,\n",
            "           0.,     0.,     0.,     0.,     0.,     0.,     0.,     0.,\n",
            "           0.,     0.,     0.,     0.])>, 'attention_mask': <tf.Tensor: shape=(300,), dtype=float64, numpy=\n",
            "array([1., 1., 1., 1., 1., 1., 1., 1., 1., 1., 1., 1., 1., 1., 1., 1., 1.,\n",
            "       1., 1., 1., 1., 1., 1., 1., 1., 1., 1., 1., 1., 1., 1., 1., 1., 1.,\n",
            "       1., 1., 1., 1., 1., 1., 1., 1., 1., 1., 1., 1., 1., 1., 1., 1., 1.,\n",
            "       1., 1., 1., 1., 1., 1., 1., 1., 1., 1., 1., 1., 1., 1., 1., 1., 1.,\n",
            "       1., 1., 1., 1., 1., 1., 1., 1., 1., 1., 1., 1., 1., 1., 1., 1., 1.,\n",
            "       1., 1., 1., 1., 1., 1., 1., 1., 1., 1., 1., 1., 1., 1., 1., 1., 1.,\n",
            "       1., 1., 1., 1., 1., 1., 1., 1., 1., 1., 1., 1., 1., 1., 1., 1., 1.,\n",
            "       1., 1., 1., 1., 1., 1., 1., 1., 1., 1., 1., 1., 1., 1., 1., 1., 1.,\n",
            "       1., 1., 1., 1., 1., 1., 1., 1., 1., 1., 1., 1., 1., 1., 1., 1., 1.,\n",
            "       1., 1., 1., 1., 1., 1., 1., 1., 1., 1., 1., 1., 1., 1., 1., 1., 1.,\n",
            "       1., 1., 1., 1., 1., 1., 1., 1., 0., 0., 0., 0., 0., 0., 0., 0., 0.,\n",
            "       0., 0., 0., 0., 0., 0., 0., 0., 0., 0., 0., 0., 0., 0., 0., 0., 0.,\n",
            "       0., 0., 0., 0., 0., 0., 0., 0., 0., 0., 0., 0., 0., 0., 0., 0., 0.,\n",
            "       0., 0., 0., 0., 0., 0., 0., 0., 0., 0., 0., 0., 0., 0., 0., 0., 0.,\n",
            "       0., 0., 0., 0., 0., 0., 0., 0., 0., 0., 0., 0., 0., 0., 0., 0., 0.,\n",
            "       0., 0., 0., 0., 0., 0., 0., 0., 0., 0., 0., 0., 0., 0., 0., 0., 0.,\n",
            "       0., 0., 0., 0., 0., 0., 0., 0., 0., 0., 0., 0., 0., 0., 0., 0., 0.,\n",
            "       0., 0., 0., 0., 0., 0., 0., 0., 0., 0., 0.])>}, <tf.Tensor: shape=(20,), dtype=float64, numpy=\n",
            "array([0., 0., 0., 0., 0., 0., 0., 0., 0., 1., 0., 0., 0., 0., 0., 0., 0.,\n",
            "       0., 0., 0.])>)\n"
          ],
          "name": "stdout"
        }
      ]
    },
    {
      "cell_type": "code",
      "metadata": {
        "id": "sMkNHhxq47Ze"
      },
      "source": [
        "# SHuffle and Bach Dataset\r\n",
        "dataset = dataset.shuffle(1000).batch(32)"
      ],
      "execution_count": 49,
      "outputs": []
    },
    {
      "cell_type": "code",
      "metadata": {
        "colab": {
          "base_uri": "https://localhost:8080/"
        },
        "id": "00o88BAS5YKh",
        "outputId": "38fd65b9-f14d-4732-800c-743f06f3f1bc"
      },
      "source": [
        "# Get the total size of dataset now that it is batched\r\n",
        "#\r\n",
        "# the dataset object is a generator object so we cannot take the length of it directly\r\n",
        "# thus, we have to convert it into a list\r\n",
        "# \r\n",
        "# Do not do this with a very large dataset\r\n",
        "#\r\n",
        "DS_LEN = len(list(dataset))\r\n",
        "DS_LEN"
      ],
      "execution_count": 50,
      "outputs": [
        {
          "output_type": "execute_result",
          "data": {
            "text/plain": [
              "353"
            ]
          },
          "metadata": {
            "tags": []
          },
          "execution_count": 50
        }
      ]
    },
    {
      "cell_type": "code",
      "metadata": {
        "colab": {
          "base_uri": "https://localhost:8080/"
        },
        "id": "WK8di-Y45rrq",
        "outputId": "06180d95-760c-4dba-f7fd-de8370cfb279"
      },
      "source": [
        "print (f\"Alternative Computation for DS_LEN: {len(Xids)/32} -> {round(len(Xids)/32, 0)}\")"
      ],
      "execution_count": 51,
      "outputs": [
        {
          "output_type": "stream",
          "text": [
            "Alternative Computation for DS_LEN: 352.1875 -> 352.0\n"
          ],
          "name": "stdout"
        }
      ]
    },
    {
      "cell_type": "code",
      "metadata": {
        "id": "SSB_T17u834a"
      },
      "source": [
        "SPLIT = .9\r\n",
        "\r\n",
        "# take or skip the specified number of batches to split by factor\r\n",
        "train = dataset.take(round(DS_LEN * SPLIT))\r\n",
        "evalu = dataset.skip(round(DS_LEN * SPLIT))\r\n",
        "\r\n",
        "del dataset"
      ],
      "execution_count": 52,
      "outputs": []
    },
    {
      "cell_type": "markdown",
      "metadata": {
        "id": "wTZP1_udDaF_"
      },
      "source": [
        "## Build Model"
      ]
    },
    {
      "cell_type": "code",
      "metadata": {
        "colab": {
          "base_uri": "https://localhost:8080/",
          "height": 179,
          "referenced_widgets": [
            "b851123e9af04f839b5f0150de374e5e",
            "8faf2261669b48d2a39111a7a30ea79a",
            "b7140e63ba6a440280f2c71003a127e4",
            "df39a4e0ef19479ca590f24cc9d451f7",
            "c81ba20bbaf243b29032123b609607b8",
            "8db86cc607a34ab5b280567d0dc32320",
            "c676a3b4d0674a37815227e437681086",
            "bc6258ba37fd450a88d846a203386689"
          ]
        },
        "id": "WPGGoaJ39tjz",
        "outputId": "106f4488-75ba-4202-a562-93b31961490e"
      },
      "source": [
        "from transformers import TFAutoModel\r\n",
        "tranformersPreTrainedModelName = 'bert-base-uncased'\r\n",
        "bert = TFAutoModel.from_pretrained(tranformersPreTrainedModelName)"
      ],
      "execution_count": 53,
      "outputs": [
        {
          "output_type": "display_data",
          "data": {
            "application/vnd.jupyter.widget-view+json": {
              "model_id": "b851123e9af04f839b5f0150de374e5e",
              "version_minor": 0,
              "version_major": 2
            },
            "text/plain": [
              "HBox(children=(FloatProgress(value=0.0, description='Downloading', max=536063208.0, style=ProgressStyle(descri…"
            ]
          },
          "metadata": {
            "tags": []
          }
        },
        {
          "output_type": "stream",
          "text": [
            "\n"
          ],
          "name": "stdout"
        },
        {
          "output_type": "stream",
          "text": [
            "Some layers from the model checkpoint at bert-base-uncased were not used when initializing TFBertModel: ['nsp___cls', 'mlm___cls']\n",
            "- This IS expected if you are initializing TFBertModel from the checkpoint of a model trained on another task or with another architecture (e.g. initializing a BertForSequenceClassification model from a BertForPreTraining model).\n",
            "- This IS NOT expected if you are initializing TFBertModel from the checkpoint of a model that you expect to be exactly identical (initializing a BertForSequenceClassification model from a BertForSequenceClassification model).\n",
            "All the layers of TFBertModel were initialized from the model checkpoint at bert-base-uncased.\n",
            "If your task is similar to the task the model of the checkpoint was trained on, you can already use TFBertModel for predictions without further training.\n"
          ],
          "name": "stderr"
        }
      ]
    },
    {
      "cell_type": "code",
      "metadata": {
        "id": "NIupGKXW9tft"
      },
      "source": [
        "def CreateGlobalMaxPool1D_Model():\r\n",
        "  # build 2 input layers to Bert Model where name needs to match the input values in the dataset\r\n",
        "  input_ids = tf.keras.Input(shape=(SEQ_LEN,), name = 'input_ids', dtype='int32')\r\n",
        "  mask = tf.keras.Input(shape=(SEQ_LEN,), name = 'attention_mask', dtype='int32')\r\n",
        "\r\n",
        "  # Pool embedings from initializer bert model by consuming the input layers\r\n",
        "  # This will return 2 Tensors:\r\n",
        "  # 1st output is the Last Hidden State - a 3D tensor of the last Hidden layer of the Bert model\r\n",
        "  # which can be used to further process the output from the pre-trained embedding layer \r\n",
        "  embedings = bert(input_ids, attention_mask=mask)[0]\r\n",
        "\r\n",
        "  # 2nd tensor output is called the Pooler output\r\n",
        "  # is the pooled output of the last hidden state run through a feed forward or linaer activation function\r\n",
        "  # that creates a 2D tensor that can be used for classification\r\n",
        "  # but we ignore it and do classification ourselves by pooling it ourself\r\n",
        "  #embedings = bert(input=input_ids, attention_mask=mask)[1]\r\n",
        "\r\n",
        "  X = tf.keras.layers.GlobalMaxPool1D()(embedings)\r\n",
        "  X = tf.keras.layers.BatchNormalization()(X)\r\n",
        "  X = tf.keras.layers.Dense(128, activation='relu')(X)\r\n",
        "  X = tf.keras.layers.Dropout(0.1)(X)\r\n",
        "  X = tf.keras.layers.Dense(32, activation='relu')(X)\r\n",
        "  y = tf.keras.layers.Dense(len(label2Index), activation='softmax', name='outputs')(X)\r\n",
        "\r\n",
        "  model = tf.keras.Model(inputs=[input_ids,mask], outputs=y)\r\n",
        "\r\n",
        "  # Freeze the Bert model by freezing this layer to make training less of an overkill in terms of required GPU memory\r\n",
        "  model.layers[2].trainable = False\r\n",
        "\r\n",
        "  return model"
      ],
      "execution_count": 54,
      "outputs": []
    },
    {
      "cell_type": "code",
      "metadata": {
        "id": "iolfXnEVt3nE"
      },
      "source": [
        "def CreateBidirectionalLSTM_Model():\r\n",
        "  # build 2 input layers to Bert Model where name needs to match the input values in the dataset\r\n",
        "  input_ids = tf.keras.Input(shape=(SEQ_LEN,), name = 'input_ids', dtype='int32')\r\n",
        "  mask = tf.keras.Input(shape=(SEQ_LEN,), name = 'attention_mask', dtype='int32')\r\n",
        "\r\n",
        "  # Pool embedings from initializer bert model by consuming the input layers\r\n",
        "  # This will return 2 Tensors:\r\n",
        "  # 1st output is the Last Hidden State - a 3D tensor of the last Hidden layer of the Bert model\r\n",
        "  # which can be used to further process the output from the pre-trained embedding layer \r\n",
        "  embedings = bert(input_ids, attention_mask=mask)[0]\r\n",
        "\r\n",
        "  # 2nd tensor output is called the Pooler output\r\n",
        "  # is the pooled output of the last hidden state run through a feed forward or linaer activation function\r\n",
        "  # that creates a 2D tensor that can be used for classification\r\n",
        "  # but we ignore it and do classification ourselves by pooling it ourself\r\n",
        "  #embedings = bert(input=input_ids, attention_mask=mask)[1]\r\n",
        "\r\n",
        "  #Original Author: Ferry Djaja\r\n",
        "  #https://djajafer.medium.com/multi-class-text-classification-with-keras-and-lstm-4c5525bef592\r\n",
        "  X = tf.keras.layers.Dropout(0.1)(embedings)\r\n",
        "  X = tf.keras.layers.Bidirectional(tf.keras.layers.LSTM(768))(X)\r\n",
        "  y = tf.keras.layers.Dense(len(label2Index), activation='softmax', name='outputs')(X)\r\n",
        "\r\n",
        "  model = tf.keras.Model(inputs=[input_ids,mask], outputs=y)\r\n",
        "\r\n",
        "  # Freeze the Bert model by freezing this layer to make training less of an overkill in terms of required performance\r\n",
        "  model.layers[2].trainable = False\r\n",
        "\r\n",
        "  return model"
      ],
      "execution_count": 55,
      "outputs": []
    },
    {
      "cell_type": "code",
      "metadata": {
        "colab": {
          "base_uri": "https://localhost:8080/"
        },
        "id": "hpLGlK3uE68a",
        "outputId": "90a9eabc-f397-4ca9-e673-a05102ee26df"
      },
      "source": [
        "model = CreateBidirectionalLSTM_Model()\r\n",
        "model.summary()"
      ],
      "execution_count": 56,
      "outputs": [
        {
          "output_type": "stream",
          "text": [
            "WARNING:tensorflow:AutoGraph could not transform <bound method Socket.send of <zmq.sugar.socket.Socket object at 0x7fb63b4a3ec0>> and will run it as-is.\n",
            "Please report this to the TensorFlow team. When filing the bug, set the verbosity to 10 (on Linux, `export AUTOGRAPH_VERBOSITY=10`) and attach the full output.\n",
            "Cause: module, class, method, function, traceback, frame, or code object was expected, got cython_function_or_method\n",
            "To silence this warning, decorate the function with @tf.autograph.experimental.do_not_convert\n",
            "WARNING: AutoGraph could not transform <bound method Socket.send of <zmq.sugar.socket.Socket object at 0x7fb63b4a3ec0>> and will run it as-is.\n",
            "Please report this to the TensorFlow team. When filing the bug, set the verbosity to 10 (on Linux, `export AUTOGRAPH_VERBOSITY=10`) and attach the full output.\n",
            "Cause: module, class, method, function, traceback, frame, or code object was expected, got cython_function_or_method\n",
            "To silence this warning, decorate the function with @tf.autograph.experimental.do_not_convert\n"
          ],
          "name": "stdout"
        },
        {
          "output_type": "stream",
          "text": [
            "The parameters `output_attentions`, `output_hidden_states` and `use_cache` cannot be updated when calling a model.They have to be set to True/False in the config object (i.e.: `config=XConfig.from_pretrained('name', output_attentions=True)`).\n"
          ],
          "name": "stderr"
        },
        {
          "output_type": "stream",
          "text": [
            "WARNING:tensorflow:AutoGraph could not transform <function wrap at 0x7fb656d55c20> and will run it as-is.\n",
            "Cause: while/else statement not yet supported\n",
            "To silence this warning, decorate the function with @tf.autograph.experimental.do_not_convert\n"
          ],
          "name": "stdout"
        },
        {
          "output_type": "stream",
          "text": [
            "The parameter `return_dict` cannot be set in graph mode and will always be set to `True`.\n"
          ],
          "name": "stderr"
        },
        {
          "output_type": "stream",
          "text": [
            "WARNING: AutoGraph could not transform <function wrap at 0x7fb656d55c20> and will run it as-is.\n",
            "Cause: while/else statement not yet supported\n",
            "To silence this warning, decorate the function with @tf.autograph.experimental.do_not_convert\n",
            "Model: \"model\"\n",
            "__________________________________________________________________________________________________\n",
            "Layer (type)                    Output Shape         Param #     Connected to                     \n",
            "==================================================================================================\n",
            "input_ids (InputLayer)          [(None, 300)]        0                                            \n",
            "__________________________________________________________________________________________________\n",
            "attention_mask (InputLayer)     [(None, 300)]        0                                            \n",
            "__________________________________________________________________________________________________\n",
            "tf_bert_model (TFBertModel)     TFBaseModelOutputWit 109482240   input_ids[0][0]                  \n",
            "                                                                 attention_mask[0][0]             \n",
            "__________________________________________________________________________________________________\n",
            "dropout_37 (Dropout)            (None, 300, 768)     0           tf_bert_model[0][0]              \n",
            "__________________________________________________________________________________________________\n",
            "bidirectional (Bidirectional)   (None, 1536)         9443328     dropout_37[0][0]                 \n",
            "__________________________________________________________________________________________________\n",
            "outputs (Dense)                 (None, 20)           30740       bidirectional[0][0]              \n",
            "==================================================================================================\n",
            "Total params: 118,956,308\n",
            "Trainable params: 9,474,068\n",
            "Non-trainable params: 109,482,240\n",
            "__________________________________________________________________________________________________\n"
          ],
          "name": "stdout"
        }
      ]
    },
    {
      "cell_type": "markdown",
      "metadata": {
        "id": "kVl3BXaaDaKr"
      },
      "source": [
        "## Define Optimizer, Metrics, and Loss"
      ]
    },
    {
      "cell_type": "code",
      "metadata": {
        "id": "YJsrgwyO9tcF"
      },
      "source": [
        "#optimizer = tf.keras.optimizers.Adam(learning_rate=0.01)\r\n",
        "#loss = tf.keras.losses.CategoricalCrossentropy()\r\n",
        "#accuracy = tf.keras.metrics.CategoricalAccuracy('accuracy')\r\n",
        "#model.compile(optimizer=optimizer, loss=loss, metrics=[accuracy])\r\n",
        "\r\n",
        "\r\n",
        "loss = tf.keras.losses.CategoricalCrossentropy()\r\n",
        "optimizer = tf.keras.optimizers.Adam(lr=0.001, decay=1e-6)\r\n",
        "model.compile(\r\n",
        "    loss=loss,\r\n",
        "    optimizer=optimizer,\r\n",
        "    metrics=['accuracy']\r\n",
        "    )"
      ],
      "execution_count": 57,
      "outputs": []
    },
    {
      "cell_type": "markdown",
      "metadata": {
        "id": "n-kBcwYcEusF"
      },
      "source": [
        "## Train the Model"
      ]
    },
    {
      "cell_type": "code",
      "metadata": {
        "colab": {
          "base_uri": "https://localhost:8080/"
        },
        "id": "OIDRUeyK9tZp",
        "outputId": "fc2fb7e3-8088-4cde-8cdd-9c6897513c63"
      },
      "source": [
        "from timeit import default_timer as timer\r\n",
        "from datetime import timedelta\r\n",
        "\r\n",
        "start = timer()\r\n",
        "\r\n",
        "history = model.fit(train, validation_data=evalu, epochs=6)\r\n",
        "\r\n",
        "end = timer()\r\n",
        "print(timedelta(seconds=end-start))"
      ],
      "execution_count": 58,
      "outputs": [
        {
          "output_type": "stream",
          "text": [
            "The parameters `output_attentions`, `output_hidden_states` and `use_cache` cannot be updated when calling a model.They have to be set to True/False in the config object (i.e.: `config=XConfig.from_pretrained('name', output_attentions=True)`).\n",
            "The parameter `return_dict` cannot be set in graph mode and will always be set to `True`.\n"
          ],
          "name": "stderr"
        },
        {
          "output_type": "stream",
          "text": [
            "Epoch 1/6\n"
          ],
          "name": "stdout"
        },
        {
          "output_type": "stream",
          "text": [
            "The parameters `output_attentions`, `output_hidden_states` and `use_cache` cannot be updated when calling a model.They have to be set to True/False in the config object (i.e.: `config=XConfig.from_pretrained('name', output_attentions=True)`).\n",
            "The parameter `return_dict` cannot be set in graph mode and will always be set to `True`.\n"
          ],
          "name": "stderr"
        },
        {
          "output_type": "stream",
          "text": [
            "318/318 [==============================] - ETA: 0s - loss: 1.8299 - accuracy: 0.4097"
          ],
          "name": "stdout"
        },
        {
          "output_type": "stream",
          "text": [
            "The parameters `output_attentions`, `output_hidden_states` and `use_cache` cannot be updated when calling a model.They have to be set to True/False in the config object (i.e.: `config=XConfig.from_pretrained('name', output_attentions=True)`).\n",
            "The parameter `return_dict` cannot be set in graph mode and will always be set to `True`.\n"
          ],
          "name": "stderr"
        },
        {
          "output_type": "stream",
          "text": [
            "318/318 [==============================] - 459s 1s/step - loss: 1.8283 - accuracy: 0.4101 - val_loss: 0.7759 - val_accuracy: 0.7313\n",
            "Epoch 2/6\n",
            "318/318 [==============================] - 423s 1s/step - loss: 0.7069 - accuracy: 0.7612 - val_loss: 0.4284 - val_accuracy: 0.8583\n",
            "Epoch 3/6\n",
            "318/318 [==============================] - 424s 1s/step - loss: 0.4511 - accuracy: 0.8475 - val_loss: 0.3402 - val_accuracy: 0.8885\n",
            "Epoch 4/6\n",
            "318/318 [==============================] - 424s 1s/step - loss: 0.3148 - accuracy: 0.8959 - val_loss: 0.3050 - val_accuracy: 0.9004\n",
            "Epoch 5/6\n",
            "318/318 [==============================] - 425s 1s/step - loss: 0.2296 - accuracy: 0.9234 - val_loss: 0.2123 - val_accuracy: 0.9324\n",
            "Epoch 6/6\n",
            "318/318 [==============================] - 425s 1s/step - loss: 0.1661 - accuracy: 0.9444 - val_loss: 0.2223 - val_accuracy: 0.9342\n",
            "0:43:00.057848\n"
          ],
          "name": "stdout"
        }
      ]
    },
    {
      "cell_type": "code",
      "metadata": {
        "id": "4MN71esa9tLb",
        "colab": {
          "base_uri": "https://localhost:8080/",
          "height": 541
        },
        "outputId": "77be6dd1-44ad-4927-b185-dc27cbb66171"
      },
      "source": [
        "import matplotlib.pyplot as plt\r\n",
        "\r\n",
        "def plot_graphs(history, string):\r\n",
        "  plt.plot(history.history[string])\r\n",
        "  plt.plot(history.history['val_'+string])\r\n",
        "  plt.xlabel(\"Epochs\")\r\n",
        "  plt.ylabel(string)\r\n",
        "  plt.legend([string, 'val_'+string])\r\n",
        "  plt.show()\r\n",
        "  \r\n",
        "plot_graphs(history, \"accuracy\")\r\n",
        "plot_graphs(history, \"loss\")"
      ],
      "execution_count": 59,
      "outputs": [
        {
          "output_type": "display_data",
          "data": {
            "image/png": "[encoded data removed]",
            "text/plain": [
              "<Figure size 432x288 with 1 Axes>"
            ]
          },
          "metadata": {
            "tags": []
          }
        },
        {
          "output_type": "display_data",
          "data": {
            "image/png": "[encoded data removed]",
            "text/plain": [
              "<Figure size 432x288 with 1 Axes>"
            ]
          },
          "metadata": {
            "tags": []
          }
        }
      ]
    },
    {
      "cell_type": "code",
      "metadata": {
        "id": "xmB7zHv_DG4v"
      },
      "source": [
        ""
      ],
      "execution_count": 59,
      "outputs": []
    },
    {
      "cell_type": "markdown",
      "metadata": {
        "id": "fyygUSt2I5Ej"
      },
      "source": [
        "## Informal Test of Model"
      ]
    },
    {
      "cell_type": "code",
      "metadata": {
        "id": "gHYrpbSPI9Ui"
      },
      "source": [
        "pred_sentences = ['This season so far, Morgan and Guzman helped to lead the Cubs at top in ERA, even better than THE rotation at Atlanta.',                  # rec.sport.baseball\r\n",
        "                  'This is the tenth of ten parts of the sci.crypt FAQ.',                                                                                    # sci.crypt\r\n",
        "                  'I think that domestication will change behavior to a large degree. Domesticated animals exhibit behaviors not found in the wild.',\r\n",
        "                  \"If anybody wants these changes, they're welcome to them, but you'll have to have the source available and be comfortable munging with it a bit.\"] # comp.windows.x"
      ],
      "execution_count": 60,
      "outputs": []
    },
    {
      "cell_type": "code",
      "metadata": {
        "id": "F63U5zzgJyZa"
      },
      "source": [
        "testString = pred_sentences[0]\r\n",
        "tf_batch = tokenizer.encode_plus(testString\r\n",
        "                                ,max_length = SEQ_LEN          # Using text with this max length\r\n",
        "                                ,truncation=True               # truncate any text longer than max_length\r\n",
        "                                ,padding='max_length'          # padd text that is smaller than max_length\r\n",
        "                                ,add_special_tokens=True       # add special tokens for start, end of sentence, unknown, and mask tokens\r\n",
        "                                ,return_token_type_ids = False # do not return ids for types of tokens\r\n",
        "                                ,return_attention_mask = True\r\n",
        "                                ,return_tensors='tf')"
      ],
      "execution_count": 93,
      "outputs": []
    },
    {
      "cell_type": "code",
      "metadata": {
        "colab": {
          "base_uri": "https://localhost:8080/"
        },
        "id": "aT1yMGUPKG0S",
        "outputId": "3c7f8024-2760-41bd-a211-3197496317a4"
      },
      "source": [
        "tf_outputs = model(tf_batch)\r\n",
        "\r\n",
        "# Get index of predicted label for each sentence\r\n",
        "labelIdx = tf.argmax(tf_outputs, axis=1).numpy()[0]\r\n",
        "\r\n",
        "print (f\"{testString}\")\r\n",
        "print (f\"label: {labelIdx} PropValue: {tf_outputs[0][labelIdx]} Label: {index2label[labelIdx]}\")\r\n",
        "print (f\"{tf_outputs}\")"
      ],
      "execution_count": 94,
      "outputs": [
        {
          "output_type": "stream",
          "text": [
            "This season so far, Morgan and Guzman helped to lead the Cubs at top in ERA, even better than THE rotation at Atlanta.\n",
            "label: 14 PropValue: 0.3639847934246063 Label: sci.space\n",
            "[[0.0492133  0.07213993 0.03000852 0.00263356 0.06899282 0.12541668\n",
            "  0.00746241 0.00955032 0.00152745 0.00388518 0.03602331 0.0051667\n",
            "  0.01173944 0.11081531 0.3639848  0.05327093 0.0209004  0.01460669\n",
            "  0.00429226 0.00836998]]\n"
          ],
          "name": "stdout"
        }
      ]
    }
  ]
}