{
  "nbformat": 4,
  "nbformat_minor": 0,
  "metadata": {
    "colab": {
      "name": "distilbert-base-uncased-finetuned-sst-2-english Model Download Save.ipynb",
      "provenance": [],
      "collapsed_sections": [],
      "authorship_tag": "ABX9TyMUw1o7uWCWbgNBXgryK9TF",
      "include_colab_link": true
    },
    "kernelspec": {
      "name": "python3",
      "display_name": "Python 3"
    }
  },
  "cells": [
    {
      "cell_type": "markdown",
      "metadata": {
        "id": "view-in-github",
        "colab_type": "text"
      },
      "source": [
        "<a href=\"https://colab.research.google.com/github/Dirkster99/PyNotes/blob/master/Transformers/distilbert_base_uncased_finetuned_sst_2_english_Model_Download_Save.ipynb\" target=\"_parent\"><img src=\"https://colab.research.google.com/assets/colab-badge.svg\" alt=\"Open In Colab\"/></a>"
      ]
    },
    {
      "cell_type": "markdown",
      "metadata": {
        "id": "ghLzPQwVuup9"
      },
      "source": [
        "# Clone Git Repository to Download a Transformers Model"
      ]
    },
    {
      "cell_type": "code",
      "metadata": {
        "colab": {
          "base_uri": "https://localhost:8080/"
        },
        "id": "73ObnnVI8fFe",
        "outputId": "2ef286ff-f96d-4d36-85ae-14451d8bd21b"
      },
      "source": [
        "!sudo apt-get install git-lfs"
      ],
      "execution_count": null,
      "outputs": [
        {
          "output_type": "stream",
          "text": [
            "Reading package lists... Done\n",
            "Building dependency tree       \n",
            "Reading state information... Done\n",
            "The following NEW packages will be installed:\n",
            "  git-lfs\n",
            "0 upgraded, 1 newly installed, 0 to remove and 11 not upgraded.\n",
            "Need to get 2,129 kB of archives.\n",
            "After this operation, 7,662 kB of additional disk space will be used.\n",
            "Get:1 http://archive.ubuntu.com/ubuntu bionic/universe amd64 git-lfs amd64 2.3.4-1 [2,129 kB]\n",
            "Fetched 2,129 kB in 1s (1,925 kB/s)\n",
            "debconf: unable to initialize frontend: Dialog\n",
            "debconf: (No usable dialog-like program is installed, so the dialog based frontend cannot be used. at /usr/share/perl5/Debconf/FrontEnd/Dialog.pm line 76, <> line 1.)\n",
            "debconf: falling back to frontend: Readline\n",
            "debconf: unable to initialize frontend: Readline\n",
            "debconf: (This frontend requires a controlling tty.)\n",
            "debconf: falling back to frontend: Teletype\n",
            "dpkg-preconfigure: unable to re-open stdin: \n",
            "Selecting previously unselected package git-lfs.\n",
            "(Reading database ... 149414 files and directories currently installed.)\n",
            "Preparing to unpack .../git-lfs_2.3.4-1_amd64.deb ...\n",
            "Unpacking git-lfs (2.3.4-1) ...\n",
            "Setting up git-lfs (2.3.4-1) ...\n",
            "Processing triggers for man-db (2.8.3-2ubuntu0.1) ...\n"
          ],
          "name": "stdout"
        }
      ]
    },
    {
      "cell_type": "code",
      "metadata": {
        "colab": {
          "base_uri": "https://localhost:8080/"
        },
        "id": "OJuUxYvH6pO-",
        "outputId": "61c5356d-d56c-420a-b724-31f876e28654"
      },
      "source": [
        "# install git extension for large file storage\r\n",
        "!git lfs install"
      ],
      "execution_count": null,
      "outputs": [
        {
          "output_type": "stream",
          "text": [
            "Error: Failed to call git rev-parse --git-dir --show-toplevel: \"fatal: not a git repository (or any of the parent directories): .git\\n\"\n",
            "Git LFS initialized.\n"
          ],
          "name": "stdout"
        }
      ]
    },
    {
      "cell_type": "code",
      "metadata": {
        "id": "oWLHI05nBefs"
      },
      "source": [
        "!rm -rf distilbert-base-uncased-finetuned-sst-2-english"
      ],
      "execution_count": null,
      "outputs": []
    },
    {
      "cell_type": "code",
      "metadata": {
        "colab": {
          "base_uri": "https://localhost:8080/"
        },
        "id": "RpAzQ0yJB7aL",
        "outputId": "051f1265-7157-4349-8bc1-7d3a46635d8d"
      },
      "source": [
        "!ls distilbert-base-uncased-finetuned-sst-2-english"
      ],
      "execution_count": null,
      "outputs": [
        {
          "output_type": "stream",
          "text": [
            "ls: cannot access 'distilbert-base-uncased-finetuned-sst-2-english': No such file or directory\n"
          ],
          "name": "stdout"
        }
      ]
    },
    {
      "cell_type": "code",
      "metadata": {
        "colab": {
          "base_uri": "https://localhost:8080/"
        },
        "id": "sADnYRqdtWeg",
        "outputId": "ddb8c27e-7cd9-4c84-a639-f23e47dedbb0"
      },
      "source": [
        "!git clone https://huggingface.co/distilbert-base-uncased-finetuned-sst-2-english"
      ],
      "execution_count": null,
      "outputs": [
        {
          "output_type": "stream",
          "text": [
            "Cloning into 'distilbert-base-uncased-finetuned-sst-2-english'...\n",
            "remote: Enumerating objects: 38, done.\u001b[K\n",
            "remote: Counting objects: 100% (38/38), done.\u001b[K\n",
            "remote: Compressing objects: 100% (36/36), done.\u001b[K\n",
            "remote: Total 38 (delta 13), reused 0 (delta 0)\u001b[K\n",
            "Unpacking objects: 100% (38/38), done.\n",
            "Filtering content: 100% (3/3), 766.41 MiB | 94.94 MiB/s, done.\n"
          ],
          "name": "stdout"
        }
      ]
    },
    {
      "cell_type": "code",
      "metadata": {
        "colab": {
          "base_uri": "https://localhost:8080/"
        },
        "id": "B7y3U7xrthnp",
        "outputId": "0c050fbd-09d6-41a9-ad5d-a6e824a4cb50"
      },
      "source": [
        "!ls distilbert-base-uncased-finetuned-sst-2-english -lh"
      ],
      "execution_count": null,
      "outputs": [
        {
          "output_type": "stream",
          "text": [
            "total 767M\n",
            "-rw-r--r-- 1 root root  629 Feb 24 10:20 config.json\n",
            "-rw-r--r-- 1 root root 256M Feb 24 10:20 pytorch_model.bin\n",
            "-rw-r--r-- 1 root root  508 Feb 24 10:20 README.md\n",
            "-rw-r--r-- 1 root root 256M Feb 24 10:20 rust_model.ot\n",
            "-rw-r--r-- 1 root root 256M Feb 24 10:20 tf_model.h5\n",
            "-rw-r--r-- 1 root root   48 Feb 24 10:20 tokenizer_config.json\n",
            "-rw-r--r-- 1 root root 227K Feb 24 10:20 vocab.txt\n"
          ],
          "name": "stdout"
        }
      ]
    },
    {
      "cell_type": "code",
      "metadata": {
        "id": "0rPsOkbctkXr"
      },
      "source": [
        ""
      ],
      "execution_count": null,
      "outputs": []
    },
    {
      "cell_type": "code",
      "metadata": {
        "colab": {
          "base_uri": "https://localhost:8080/"
        },
        "id": "2CotijQTtwtb",
        "outputId": "ab79b8de-c112-4b85-c0ba-e3ef393e5b31"
      },
      "source": [
        "from google.colab import drive\n",
        "drive.mount('/gdrive')"
      ],
      "execution_count": null,
      "outputs": [
        {
          "output_type": "stream",
          "text": [
            "Mounted at /gdrive\n"
          ],
          "name": "stdout"
        }
      ]
    },
    {
      "cell_type": "code",
      "metadata": {
        "colab": {
          "base_uri": "https://localhost:8080/"
        },
        "id": "rCP2QPpNtwtc",
        "outputId": "fd5a1d66-b76a-44ce-8bf5-6046a9121ba3"
      },
      "source": [
        "!ls /gdrive/MyDrive/Colab\\ Notebooks/Transformers/LocalModelUsage/"
      ],
      "execution_count": null,
      "outputs": [
        {
          "output_type": "stream",
          "text": [
            " bert-base-uncased\n",
            "'bert-base-uncased Model Download Save.ipynb'\n",
            "'bert-base-uncased Model Load.ipynb'\n",
            " distilbert-base-uncased\n",
            "'Download Save distilbert-base-uncased Model.ipynb'\n",
            "'Kopie von bert-base-uncased Model Download Save.ipynb'\n",
            "'Load distilbert-base-uncased Model.ipynb'\n"
          ],
          "name": "stdout"
        }
      ]
    },
    {
      "cell_type": "code",
      "metadata": {
        "id": "QHB_ZPL-uTi8"
      },
      "source": [
        "cp -r distilbert-base-uncased-finetuned-sst-2-english /gdrive/MyDrive/Colab\\ Notebooks/Transformers/LocalModelUsage"
      ],
      "execution_count": null,
      "outputs": []
    },
    {
      "cell_type": "code",
      "metadata": {
        "colab": {
          "base_uri": "https://localhost:8080/"
        },
        "id": "0N4BQZCo9HZJ",
        "outputId": "82b0faa0-2442-4488-9c69-13a02b1f28d3"
      },
      "source": [
        "!ls /gdrive/MyDrive/Colab\\ Notebooks/Transformers/LocalModelUsage/bert-base-uncased -lh"
      ],
      "execution_count": null,
      "outputs": [
        {
          "output_type": "stream",
          "text": [
            "total 1.5G\n",
            "-rw------- 1 root root  433 Feb 23 18:20 config.json\n",
            "-rw------- 1 root root 421M Feb 23 18:20 pytorch_model.bin\n",
            "-rw------- 1 root root 8.8K Feb 23 18:20 README.md\n",
            "-rw------- 1 root root 510M Feb 23 18:20 rust_model.ot\n",
            "-rw------- 1 root root 512M Feb 23 18:20 tf_model.h5\n",
            "-rw------- 1 root root   28 Feb 23 18:20 tokenizer_config.json\n",
            "-rw------- 1 root root 456K Feb 23 18:20 tokenizer.json\n",
            "-rw------- 1 root root 227K Feb 23 18:20 vocab.txt\n"
          ],
          "name": "stdout"
        }
      ]
    },
    {
      "cell_type": "code",
      "metadata": {
        "id": "Ae4uBYRmH0-g"
      },
      "source": [
        ""
      ],
      "execution_count": null,
      "outputs": []
    }
  ]
}